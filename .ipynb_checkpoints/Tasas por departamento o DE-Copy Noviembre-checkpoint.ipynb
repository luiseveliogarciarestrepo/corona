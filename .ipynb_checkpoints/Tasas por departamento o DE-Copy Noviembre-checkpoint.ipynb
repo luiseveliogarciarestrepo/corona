{
 "cells": [
  {
   "cell_type": "markdown",
   "metadata": {
    "slideshow": {
     "slide_type": "slide"
    }
   },
   "source": [
    "# Luis Evelio García Restrepo MD, MAS, EF\n",
    " \n",
    "##  Ensayos o pruebas de testeo o tamizaje aleatorizados"
   ]
  },
  {
   "cell_type": "markdown",
   "metadata": {
    "slideshow": {
     "slide_type": "slide"
    }
   },
   "source": [
    "# INTRODUCCIÓN "
   ]
  },
  {
   "cell_type": "markdown",
   "metadata": {
    "slideshow": {
     "slide_type": "subslide"
    }
   },
   "source": [
    "# Testeo o tamizaje\n",
    "\n",
    ">Identificación presuntiva de una enfermedad o defecto, mediante la aplicación de pruebas (\"test\"), exámenes físicos o cualquier otro procemiento que pueda ser rápidamente realizado.    \n",
    "\n",
    "###### US Commision of Chronic Illnes 1957"
   ]
  },
  {
   "cell_type": "markdown",
   "metadata": {
    "slideshow": {
     "slide_type": "slide"
    }
   },
   "source": [
    "### Ejemplos testeo o tamizaje:     "
   ]
  },
  {
   "cell_type": "markdown",
   "metadata": {
    "slideshow": {
     "slide_type": "subslide"
    }
   },
   "source": [
    "> Exámen físico."
   ]
  },
  {
   "cell_type": "markdown",
   "metadata": {
    "slideshow": {
     "slide_type": "subslide"
    }
   },
   "source": [
    "> Exámen clínico."
   ]
  },
  {
   "cell_type": "markdown",
   "metadata": {
    "slideshow": {
     "slide_type": "subslide"
    }
   },
   "source": [
    "> Historia clínica."
   ]
  },
  {
   "cell_type": "markdown",
   "metadata": {
    "slideshow": {
     "slide_type": "subslide"
    }
   },
   "source": [
    "> Test genético."
   ]
  },
  {
   "cell_type": "markdown",
   "metadata": {
    "slideshow": {
     "slide_type": "subslide"
    }
   },
   "source": [
    "> Imágenes diagnósticas:\n",
    "* Radiología convencional.\n",
    "* TAC.\n",
    "* RMN."
   ]
  },
  {
   "cell_type": "markdown",
   "metadata": {
    "slideshow": {
     "slide_type": "subslide"
    }
   },
   "source": [
    "> Exámenes de laboratorio."
   ]
  },
  {
   "cell_type": "markdown",
   "metadata": {
    "slideshow": {
     "slide_type": "slide"
    }
   },
   "source": [
    "# PRUEBAS PARA  TAMIZAJE ALEATORIZADO (Randomized Screen Trial: RST)\n",
    "\n",
    "## Requisitos para un tamizaje exitoso (prerrequisitos y objetivos):"
   ]
  },
  {
   "cell_type": "markdown",
   "metadata": {
    "slideshow": {
     "slide_type": "subslide"
    }
   },
   "source": [
    "### Prerrequisitos\n",
    "1.  A. Que se realice para una enfermedad que impacte realmente el estado de salud de la población.\n",
    "    - Alta prevalencia.\n",
    "    - Alta tasa de mortalidad, discapacidad o minusvalía.\n",
    "    \n",
    "    B. Que la identificación temprana:\n",
    "    - Prevenga muertes o disminuya su número.\n",
    "    - Disminuya las secuelas en quienes sobrevivan a esta.\n",
    "    - Permita un tratamiento oportuno.\n",
    "    - Prolongue la sobrevivencia y supervivencia.\n",
    "    \n",
    "2. ***Que el tratamiento sea efectivo.***   Eficiente y eficaz. "
   ]
  },
  {
   "cell_type": "markdown",
   "metadata": {
    "slideshow": {
     "slide_type": "subslide"
    }
   },
   "source": [
    "### Prerrequisitos\n",
    "\n",
    "3. Que se pueda identificar la \"Fase Preclínica Detectable\". \n",
    "   Detectable PreClinical Phase (DPCP) "
   ]
  },
  {
   "cell_type": "markdown",
   "metadata": {},
   "source": [
    "![DCPP](DPCP.png)"
   ]
  },
  {
   "cell_type": "markdown",
   "metadata": {
    "slideshow": {
     "slide_type": "subslide"
    }
   },
   "source": [
    "La DPCP puede ser:\n",
    "\n",
    "- Evidenciable.\n",
    "    \n",
    "- No evidenciable."
   ]
  },
  {
   "cell_type": "markdown",
   "metadata": {
    "slideshow": {
     "slide_type": "slide"
    }
   },
   "source": [
    "### Objetivos del tamizaje y requisitos para un tamizaje exitoso:\n",
    "\n",
    "### I.  OBJETIVO:  **Mejorar** el tamizaje o testeo...\n",
    "\n",
    "#### USTED tiene que seleccionar una prueba que:\n",
    "\n",
    "-  Disminuya los falsos positivos.\n",
    "-  Testee solamente la ***población en alto riesgo***."
   ]
  },
  {
   "cell_type": "markdown",
   "metadata": {
    "slideshow": {
     "slide_type": "subslide"
    }
   },
   "source": [
    "### Objetivos del tamizaje y requisitos para un tamizaje exitoso:\n",
    "\n",
    "### I.  OBJETIVO:  **Mejorar** el tamizaje o testeo...\n",
    "\n",
    "#### USTED tiene que seleccionar una prueba que:\n",
    "\n",
    "-  Disminuya los falsos positivos.\n",
    "\n",
    "# ¿ Por qué ?\n",
    "\n",
    "###  USTED DEBE TRATAR DE MINIMIZAR LOS FALSOS POSITIVOS PARA EVITAR PROCEDIMIENTOS ADICIONALES."
   ]
  },
  {
   "cell_type": "markdown",
   "metadata": {
    "slideshow": {
     "slide_type": "slide"
    }
   },
   "source": [
    "# ¿ Por qué ?"
   ]
  },
  {
   "cell_type": "markdown",
   "metadata": {
    "slideshow": {
     "slide_type": "subslide"
    }
   },
   "source": [
    "Consecuencias de falsos resultados:\n",
    "\n",
    "Falsos positivos:\n",
    "- Morbilidad asociada con pruebas diagnósticas subsecuentes.\n",
    "- Costo psicológico:\n",
    "    - Temor.\n",
    "    - Estigmatización.\n",
    "- Afectación del bienestar de la persona y su entorno.\n",
    "- Costo económico para el paciente y su entorno familiar, social y laboral.\n",
    "- Mayores gastos de recursos del sistema de salud.\n",
    "- Reducción del presupuesto para la atención de otras patologías."
   ]
  },
  {
   "cell_type": "markdown",
   "metadata": {
    "slideshow": {
     "slide_type": "subslide"
    }
   },
   "source": [
    "Consecuencias de falsos resultados:\n",
    "\n",
    "Falsos negativos:\n",
    "- No detectar a tiempo una patología que en su etapa inicial es tratable.\n",
    "- Avance de la enfermedad y mayores costos de tratamiento o cuidados paliativos en etapas avanzadas."
   ]
  },
  {
   "cell_type": "markdown",
   "metadata": {
    "slideshow": {
     "slide_type": "subslide"
    }
   },
   "source": [
    "### Objetivos del tamizaje y requisitos para un tamizaje exitoso:\n",
    "\n",
    "### I.  OBJETIVO:  **Mejorar** el tamizaje o testeo...\n",
    "\n",
    "#### USTED tiene que seleccionar una prueba que:\n",
    "\n",
    "- Testee únicamente la ***población en alto riesgo***.\n",
    "\n",
    "### PARA QUE SEA MÁS FACTIBLE DETERMINAR LA PREVALENCIA DE LA ENFERMEDAD Y ASÍ INCREMENTAR EL VALOR PREDICTIVO POSITIVO (VPP)....\n",
    "\n",
    "#### VPP ==> Lo analizaremos en detalle más adelante..."
   ]
  },
  {
   "cell_type": "markdown",
   "metadata": {
    "slideshow": {
     "slide_type": "slide"
    }
   },
   "source": [
    "### Objetivos del tamizaje y requisitos para un tamizaje exitoso:\n",
    "\n",
    "### II. OBJETIVO:  Factibilidad del testeo o tamizaje."
   ]
  },
  {
   "cell_type": "markdown",
   "metadata": {
    "slideshow": {
     "slide_type": "subslide"
    }
   },
   "source": [
    "> Libre de molestia significativa !\n",
    "\n",
    "\n",
    "\n"
   ]
  },
  {
   "cell_type": "markdown",
   "metadata": {
    "slideshow": {
     "slide_type": "subslide"
    }
   },
   "source": [
    "> Eficiente y económico.   Recuerde que eficiente es la conjunción entre eficacia y efectividad."
   ]
  },
  {
   "cell_type": "markdown",
   "metadata": {
    "slideshow": {
     "slide_type": "subslide"
    }
   },
   "source": [
    "> Que la persona acepte el seguimiento y que este sea posible."
   ]
  },
  {
   "cell_type": "markdown",
   "metadata": {
    "slideshow": {
     "slide_type": "subslide"
    }
   },
   "source": [
    "> Alta especificidad."
   ]
  },
  {
   "cell_type": "markdown",
   "metadata": {
    "slideshow": {
     "slide_type": "subslide"
    }
   },
   "source": [
    "> El testeo o tamizaje debe derivar en la disminución efectiva de efectos adversos."
   ]
  },
  {
   "cell_type": "markdown",
   "metadata": {
    "slideshow": {
     "slide_type": "slide"
    }
   },
   "source": [
    "# Resumiendo hasta ahora:"
   ]
  },
  {
   "cell_type": "markdown",
   "metadata": {
    "slideshow": {
     "slide_type": "subslide"
    }
   },
   "source": [
    "> Prerrequisitos:  \n",
    "- Alto impacto  <== Alta prevalencia, morbilidad y mortalidad.\n",
    "- Tratamiento disponible."
   ]
  },
  {
   "cell_type": "markdown",
   "metadata": {
    "slideshow": {
     "slide_type": "subslide"
    }
   },
   "source": [
    "> Modalidades de testeo o tamizaje con *buenas características*  \n",
    "- Sensibilidad.\n",
    "- Especificidad."
   ]
  },
  {
   "cell_type": "markdown",
   "metadata": {
    "slideshow": {
     "slide_type": "subslide"
    }
   },
   "source": [
    "> Testear o tamizar en población de alto riesgo.\n",
    "- Incrementa la prevalencia y por ende el VPP."
   ]
  },
  {
   "cell_type": "markdown",
   "metadata": {
    "slideshow": {
     "slide_type": "subslide"
    }
   },
   "source": [
    "> Factibilidad ***real*** para hacer el testeo o tamizaje."
   ]
  },
  {
   "cell_type": "markdown",
   "metadata": {
    "slideshow": {
     "slide_type": "slide"
    }
   },
   "source": [
    "# ¿ RECONOZCO LAS CARACTERÍSTICAS **ESENCIALES** DEL TESTEO O TAMIZAJE... ?"
   ]
  },
  {
   "cell_type": "markdown",
   "metadata": {
    "slideshow": {
     "slide_type": "subslide"
    }
   },
   "source": [
    "> Evaluación de las pruebas o ensayos TT.\n",
    "\n",
    "> Objetivos de las pruebas o ensayos TT.\n",
    "\n",
    "> ~Prueba diagnóstica.\n",
    "\n",
    "> Presunción."
   ]
  },
  {
   "cell_type": "markdown",
   "metadata": {
    "slideshow": {
     "slide_type": "slide"
    }
   },
   "source": [
    "# ¿ RECONOZCO LAS CARACTERÍSTICAS **ESENCIALES** DEL TESTEO O TAMIZAJE... ?"
   ]
  },
  {
   "cell_type": "markdown",
   "metadata": {
    "slideshow": {
     "slide_type": "subslide"
    }
   },
   "source": [
    "### Evaluación de las pruebas o ensayos TT"
   ]
  },
  {
   "cell_type": "markdown",
   "metadata": {
    "slideshow": {
     "slide_type": "subslide"
    }
   },
   "source": [
    "> Evaluación de las pruebas o ensayos TT:\n",
    "- Medidas de validez.\n",
    "- Medidas de utilidad clínica."
   ]
  },
  {
   "cell_type": "markdown",
   "metadata": {
    "slideshow": {
     "slide_type": "slide"
    }
   },
   "source": [
    "### Evaluación de las pruebas o ensayos TT"
   ]
  },
  {
   "cell_type": "markdown",
   "metadata": {
    "slideshow": {
     "slide_type": "subslide"
    }
   },
   "source": [
    "### Medidas de validez:\n",
    "\n",
    "#### Sensibilidad y especificidad.\n",
    "\n",
    "# Que tan bueno es el test !!!"
   ]
  },
  {
   "cell_type": "markdown",
   "metadata": {
    "slideshow": {
     "slide_type": "slide"
    }
   },
   "source": [
    "### Evaluación de las pruebas o ensayos TT"
   ]
  },
  {
   "cell_type": "markdown",
   "metadata": {
    "slideshow": {
     "slide_type": "subslide"
    }
   },
   "source": [
    "### Medidas de utilidad clínica:\n",
    "\n",
    "> Factibilidad.\n",
    "\n",
    "> Criterio de positividad.\n",
    "\n",
    "> Curva R.O.C.\n",
    "\n"
   ]
  },
  {
   "cell_type": "markdown",
   "metadata": {
    "slideshow": {
     "slide_type": "slide"
    }
   },
   "source": [
    "### Medidas de utilidad clínica:\n",
    "\n",
    "> Factibilidad:\n",
    "- Valor predictivo positivo ==> VPP\n",
    "- Valor predictivo negativo ==> VPN\n",
    "\n",
    "> Criterio de positividad.\n",
    "\n",
    "> Curva R.O.C.\n",
    "\n"
   ]
  },
  {
   "cell_type": "markdown",
   "metadata": {
    "slideshow": {
     "slide_type": "slide"
    }
   },
   "source": [
    "### Medidas de utilidad clínica:\n",
    "\n",
    "> Factibilidad.\n",
    "\n",
    "> Criterio de positividad.*\n",
    "\n",
    "> Curva R.O.C.\n",
    "\n"
   ]
  },
  {
   "cell_type": "markdown",
   "metadata": {
    "slideshow": {
     "slide_type": "slide"
    }
   },
   "source": [
    "# Criterio de positividad:\n",
    "\n",
    "##  Nivel que se debe alcanzar, para considerar un resultado de un test como positivo.\n",
    "\n",
    "##  La definición de un \"resultado positivo\", puede ser alterada voluntariamente:\n",
    "\n",
    "###  Si se incrementa la sensibilidad pero se disminuye la especificidad ==> Criterio de positividad bajo.\n",
    "\n",
    "###  Si se disminuye la sensibilidad y se incrementa la especificidad       ==> Criterio de positividad alto."
   ]
  },
  {
   "cell_type": "markdown",
   "metadata": {
    "slideshow": {
     "slide_type": "slide"
    }
   },
   "source": [
    "![CP](CON1.png)"
   ]
  },
  {
   "cell_type": "markdown",
   "metadata": {
    "slideshow": {
     "slide_type": "subslide"
    }
   },
   "source": [
    "![CP](CON2.png)"
   ]
  },
  {
   "cell_type": "markdown",
   "metadata": {
    "slideshow": {
     "slide_type": "subslide"
    }
   },
   "source": [
    "![CP](CON3.png)"
   ]
  },
  {
   "cell_type": "markdown",
   "metadata": {
    "slideshow": {
     "slide_type": "subslide"
    }
   },
   "source": [
    "![CP](CON4.png)"
   ]
  },
  {
   "cell_type": "markdown",
   "metadata": {
    "slideshow": {
     "slide_type": "subslide"
    }
   },
   "source": [
    "![CP](CON5.png)"
   ]
  },
  {
   "cell_type": "markdown",
   "metadata": {
    "slideshow": {
     "slide_type": "subslide"
    }
   },
   "source": [
    "![CP](CON6.png)"
   ]
  },
  {
   "cell_type": "markdown",
   "metadata": {
    "slideshow": {
     "slide_type": "subslide"
    }
   },
   "source": [
    "![CP](CON7.png)"
   ]
  },
  {
   "cell_type": "markdown",
   "metadata": {
    "slideshow": {
     "slide_type": "subslide"
    }
   },
   "source": [
    "![CP](CON8.png)"
   ]
  },
  {
   "cell_type": "markdown",
   "metadata": {
    "slideshow": {
     "slide_type": "slide"
    }
   },
   "source": [
    "# Criterio de positividad:\n",
    "\n",
    "## Para poder establecerlo, primero ES INDISPENSABLE contar con un método de diagnóstico para la patología ==> \"Gold Standard\"\n",
    "\n",
    "### Establece el verdadero estado frente a una patología.\n",
    "\n",
    "#### Ejemplo:   Para el cáncer de seno, es el estudio histopatológico de muestra obtenida por biopsia.\n",
    "\n"
   ]
  },
  {
   "cell_type": "markdown",
   "metadata": {
    "slideshow": {
     "slide_type": "slide"
    }
   },
   "source": [
    "# Para establecer el Criterio de positividad:\n",
    "\n",
    "## Comparar el \"GOLD STANDARD\" vs. \"la prueba o ensayo para testeo o tamizaje\".\n",
    "\n",
    "## Para determinar que tan exacto y válido es la prueba o ensayo TT con respecto al \"Gold Standard\".\n",
    "\n"
   ]
  },
  {
   "cell_type": "markdown",
   "metadata": {
    "slideshow": {
     "slide_type": "subslide"
    }
   },
   "source": [
    "                                                          Gold Standard   \n",
    "  \n",
    "\n",
    "|      |     |       +      |       -      |\n",
    "|:-----|:---:|:------------:|:------------:|\n",
    "|Screen|  +  | Verdadero  + | Falso +      |\n",
    "|test  |  -  | Falso +      | Verdadero  - |\n",
    "          \n",
    "\n"
   ]
  },
  {
   "cell_type": "markdown",
   "metadata": {
    "slideshow": {
     "slide_type": "slide"
    }
   },
   "source": [
    "# El criterio de positividad puede ser alterado para que más resultados resulten positivos....\n",
    "\n",
    "                                                           Patología\n",
    "                                                        Gold Standard\n",
    "\n",
    "\n",
    "|          |     |       +      |       -      |        |\n",
    "|:---------|:------:|:------------:|:------------:|:------:|\n",
    "|          |    +   |      800     |      3.200      |   4.000   |\n",
    "|Test      |    -   |      100      |    95.900      |  96.000   |\n",
    "|          |        |      900      |    99.100      | 100.000   |\n",
    "\n",
    "Población = 100.000\n",
    "\n",
    "Prevalencia =  0,009\n",
    "\n",
    "Sensibilidad =  800 / 900  ==> 88,88 %\n",
    "\n",
    "Especificidad = 95.900 / 99.100 ==>  96,77%"
   ]
  },
  {
   "cell_type": "markdown",
   "metadata": {
    "slideshow": {
     "slide_type": "slide"
    }
   },
   "source": [
    "# Se puede adoptar un corte que incremente la sensibilidad (lograr más resultados positivos) :\n",
    "\n",
    "                                                         Patología\n",
    "                                                      Gold Standard\n",
    "\n",
    "\n",
    "|          |     |       +      |       -      |        |\n",
    "|:---------|:------:|:------------:|:------------:|:------:|\n",
    "|          |    +   |    895     |     3.295      |   4.190   |\n",
    "|Test      |    -   |      5     |    95.805      |  95.810   |\n",
    "|          |        |    900     |    99.100      | 100.000   |\n",
    "\n",
    "Población = 100.000\n",
    "\n",
    "Prevalencia =  0,009\n",
    "\n",
    "Sensibilidad =  895 / 900  ==> 99,44 %  Aumenta la sensibilidad y disminuyen los falsos negativos.\n",
    "\n",
    "Especificidad = 95.805 / 99.100 ==>  96,67%  Disminuye la especificidad y aumentan los falsos positivos."
   ]
  },
  {
   "cell_type": "markdown",
   "metadata": {
    "slideshow": {
     "slide_type": "slide"
    }
   },
   "source": [
    "###  Ejercicio para establecer el criterio de positividad  de la mamografía ante el cáncer de mama:"
   ]
  },
  {
   "cell_type": "markdown",
   "metadata": {
    "slideshow": {
     "slide_type": "slide"
    }
   },
   "source": [
    "###  Ejercicio para establecer el criterio de positividad de la mamografía ante el cáncer de mama:\n",
    "\n",
    "\n",
    "\n",
    "> Prerrequisitos:  \n",
    "- Alto impacto  <== Alta prevalencia, morbilidad y mortalidad.\n",
    "\n",
    "### Sí.  Cáncer más común entre las mujeres.  Alta morbilidad y mortalidad.\n",
    "\n",
    "> Prerrequisitos:  \n",
    "- Tratamiento disponible.\n",
    "\n",
    "### Sí.   Detectado a tiempo, hay tratamiento disponible."
   ]
  },
  {
   "cell_type": "markdown",
   "metadata": {
    "slideshow": {
     "slide_type": "slide"
    }
   },
   "source": [
    "###  Ejercicio para establecer el criterio de positividad de la mamografía ante el cáncer de mama:\n",
    "\n",
    "> Gold Standard\n",
    "\n",
    "### Sí hay estudio \"Gold Standard\" ==>  Estudio histopatológica de muestra obtenida por biopsia."
   ]
  },
  {
   "cell_type": "markdown",
   "metadata": {
    "slideshow": {
     "slide_type": "slide"
    }
   },
   "source": [
    "###  Ejercicio para establecer el criterio de positividad de la mamografía ante el cáncer de mama:\n",
    "\n",
    "> Modalidades de testeo o tamizaje con *buenas características*  \n",
    "- Sensibilidad.\n",
    "- Especificidad.\n",
    "- Valor predictivo positivo.\n",
    "- Valor predictivo negativo.\n",
    "\n",
    "                                                        Histopatología\n",
    "                                                        Cáncer de mama\n",
    "\n",
    "\n",
    "|          |     |       +      |       -      |        |\n",
    "|:---------|:------:|:------------:|:------------:|:------:|\n",
    "|          |    +   |      42      |      18      |   60   |\n",
    "|Mamografía|    -   |       8      |     132      |  140   |\n",
    "|          |        |      50      |     150      |  200   |\n",
    "\n",
    "\n",
    "\n",
    "Sensibilidad =   42   / 50    ==>  84 %\n",
    "\n",
    "Especificidad =  132 / 150    ==>  88 %\n",
    "\n",
    "\n",
    "### Sí.       Sensibilidad del 84%.   Especificidad del 88%.  \n",
    "### Evidenciadas **apropiadamente** en estudios clínicos aleatorizados doble ciego, cuya ***validez interna ha sido comprobada  por el análisis crítico adecuado y por ende se puede generalizar.***"
   ]
  },
  {
   "cell_type": "markdown",
   "metadata": {
    "slideshow": {
     "slide_type": "slide"
    }
   },
   "source": [
    "###  Ejercicio para establecer el criterio de positividad de la mamografía ante el cáncer de mama:\n",
    "\n",
    "### Rendimiento de la prueba:\n",
    "\n",
    "#### Valor predictivo positivo (VPP):  Cuantos de los que tuvieron un resultado positivo, realmente están en estadío preclínico de la patología.\n",
    "\n",
    "                                                       Gold Standard   \n",
    "\n",
    "\n",
    "|      |     |       +      |       -      ||\n",
    "|:-----|:---:|:------------:|:------------:|:---:|\n",
    "|Screen|  +  | ***A*** | b | ***A + B*** |\n",
    "|test  |  -  | c | d | c + d |\n",
    "|      |     |a + c | b + d | T |\n",
    "\n",
    "\n",
    "\n",
    "VPP = A / A + B"
   ]
  },
  {
   "cell_type": "markdown",
   "metadata": {
    "slideshow": {
     "slide_type": "slide"
    }
   },
   "source": [
    "###  Ejercicio para establecer el criterio de positividad de la mamografía ante el cáncer de mama:\n",
    "\n",
    "### Rendimiento de la prueba:\n",
    "\n",
    "#### Valor predictivo negativo (VPN):  Cuantos de los que tuvieron un resultado negativo, realmente NO están en estadío preclínico de la patología.\n",
    "\n",
    "                                                      Gold Standard   \n",
    "\n",
    "\n",
    "|      |     |       +      |       -      ||\n",
    "|:-----|:---:|:------------:|:------------:|:---:|\n",
    "|Screen|  +  | a | b | a + b |\n",
    "|test  |  -  | c | ***D*** | ***C + D*** |\n",
    "|      |     |a + c | b + d | T |\n",
    "\n",
    "\n",
    "\n",
    "VPN = D / C + D"
   ]
  },
  {
   "cell_type": "markdown",
   "metadata": {
    "slideshow": {
     "slide_type": "slide"
    }
   },
   "source": [
    "###  Ejercicio para establecer el criterio de positividad de la mamografía ante el cáncer de mama:\n",
    "    \n",
    " \n",
    "                                                         Histopatología\n",
    "                                                         Cáncer de mama\n",
    "\n",
    "\n",
    "|          |     |       +      |       -      |        |\n",
    "|:---------|:------:|:------------:|:------------:|:------:|\n",
    "|          |    +   |      42      |      18      |   60   |\n",
    "|Mamografía|    -   |       8      |     132      |  140   |\n",
    "|          |        |      50      |     150      |  200   |\n",
    "\n",
    "\n",
    "\n",
    "VPP =   42   / 60    ==>  79 %\n",
    "\n",
    "VPN =  132  / 140    ==>  94,3 % "
   ]
  },
  {
   "cell_type": "markdown",
   "metadata": {
    "slideshow": {
     "slide_type": "slide"
    }
   },
   "source": [
    "###  Ejercicio para establecer el criterio de positividad de la mamografía ante el cáncer de mama:\n",
    "\n",
    "> Factibilidad del testeo o tamizaje.\n",
    "\n",
    "- Libre de molestia significativa !\n",
    "\n",
    "### Sí.  Y la irradiación, aunque hay que tenerla presente, es baja.\n",
    "\n",
    "- Eficiente y económico.  \n",
    "\n",
    "### Sí."
   ]
  },
  {
   "cell_type": "markdown",
   "metadata": {
    "slideshow": {
     "slide_type": "slide"
    }
   },
   "source": [
    "###  Ejercicio para establecer el criterio de positividad de la mamografía ante el cáncer de mama:\n",
    "\n",
    "- Que la persona acepte el seguimiento y que este sea posible.\n",
    "\n",
    "### Sí.\n",
    "\n",
    "- Alta especificidad.\n",
    "\n",
    "### Sí.\n",
    "\n",
    "- El testeo o tamizaje debe derivar en la disminución efectiva de efectos adversos.\n",
    "\n",
    "### Sí."
   ]
  },
  {
   "cell_type": "markdown",
   "metadata": {
    "slideshow": {
     "slide_type": "slide"
    }
   },
   "source": [
    "### ¿ La mamografía es un test de tamizaje adecuado ante el cáncer de mama ?\n",
    "\n",
    "# SÍ !   ...hasta que aparezca un test de tamizaje con mejores características !"
   ]
  },
  {
   "cell_type": "markdown",
   "metadata": {
    "slideshow": {
     "slide_type": "slide"
    }
   },
   "source": [
    "# Determinantes del valor predictivo\n",
    "> Prevalencia de enfermedad preclínica detectable.\n",
    "\n",
    "> ¡ Especificidad !\n",
    "\n",
    "> Sensibilidad\n",
    "\n",
    "                                                        Patología\n",
    "                                                      Gold Standard\n",
    "\n",
    "\n",
    "|          |     |       +      |       -      |        |\n",
    "|:---------|:------:|:------------:|:------------:|:------:|\n",
    "|          |    +   |      800     |      3.200      |   4.000   |\n",
    "|Test      |    -   |      100      |    95.900      |  96.000   |\n",
    "|          |        |      900      |    99.100      | 100.000   |\n",
    "\n",
    "\n",
    "\n",
    "Población = 100.000\n",
    "\n",
    "Prevalencia =  0,009\n",
    "\n",
    "Sensibilidad =  800 / 900  ==> 88,88 %\n",
    "\n",
    "Especificidad = 95.900 / 99.100 ==>  96,77%\n",
    "\n",
    "VPP =   800   / 4.000    ==>  20 %\n",
    "\n",
    "VPN =  95.900  / 96.000    ==>  99,896 %   "
   ]
  },
  {
   "cell_type": "markdown",
   "metadata": {
    "slideshow": {
     "slide_type": "slide"
    }
   },
   "source": [
    "# Determinantes del valor predictivo\n",
    "\n",
    "> Prevalencia de enfermedad preclínica detectable.\n",
    "\n",
    "> ¡ Especificidad !\n",
    "\n",
    "> Sensibilidad\n",
    "\n",
    "####  Si la prevalencia de la enfermedad en su fase preclínica detectable INCREMENTA:\n",
    "                                                        Patología\n",
    "                                                      Gold Standard\n",
    "\n",
    "\n",
    "|          |     |       +      |       -      |        |\n",
    "|:---------|:------:|:------------:|:------------:|:------:|\n",
    "|          |    +   |    1.000     |      3.200      |   4.200   |\n",
    "|Test      |    -   |      100      |    95.700      |  95.800   |\n",
    "|          |        |    1.100      |    98.900      | 100.000   |\n",
    "\n",
    "\n",
    "\n",
    "Población      =       100.000\n",
    "\n",
    "Prevalencia    =       0,011\n",
    "\n",
    "Sensibilidad   =       1.000    /    1.100    ==>  90,9   %  \n",
    "\n",
    "Especificidad  =      95.700    /   98.900    ==>  96,76  %\n",
    "\n",
    "VPP            =       1.000    /    4.200    ==>  23,8   %         AUMENTA\n",
    "\n",
    "VPN            =      95.700    /   95.800    ==>  99,895 % "
   ]
  },
  {
   "cell_type": "markdown",
   "metadata": {
    "slideshow": {
     "slide_type": "slide"
    }
   },
   "source": [
    "# ¿ RECONOZCO LAS CARACTERÍSTICAS **ESENCIALES** DEL TESTEO O TAMIZAJE... ?"
   ]
  },
  {
   "cell_type": "markdown",
   "metadata": {
    "slideshow": {
     "slide_type": "subslide"
    }
   },
   "source": [
    "### Objetivo de las pruebas o ensayos TT:\n",
    "\n",
    "# Buscar tempranamente población asintomática afectada por la patología."
   ]
  },
  {
   "cell_type": "markdown",
   "metadata": {
    "slideshow": {
     "slide_type": "slide"
    }
   },
   "source": [
    "# ¿ RECONOZCO LAS CARACTERÍSTICAS **ESENCIALES** DEL TESTEO O TAMIZAJE... ?"
   ]
  },
  {
   "cell_type": "markdown",
   "metadata": {
    "slideshow": {
     "slide_type": "subslide"
    }
   },
   "source": [
    "###  ~Prueba diagnóstica: \n",
    "\n",
    "# NO ES UNA PRUEBA DIAGNÓSTICA !!!!!!"
   ]
  },
  {
   "cell_type": "markdown",
   "metadata": {
    "slideshow": {
     "slide_type": "slide"
    }
   },
   "source": [
    "# ¿ RECONOZCO LAS CARACTERÍSTICAS **ESENCIALES** DEL TESTEO O TAMIZAJE... ?"
   ]
  },
  {
   "cell_type": "markdown",
   "metadata": {
    "slideshow": {
     "slide_type": "subslide"
    }
   },
   "source": [
    "### Presunción:  \n",
    "\n",
    "# La detección temprana hará el pronóstico  más favorable."
   ]
  },
  {
   "cell_type": "markdown",
   "metadata": {
    "slideshow": {
     "slide_type": "slide"
    }
   },
   "source": [
    "### Medidas de utilidad clínica:\n",
    "\n",
    "> Factibilidad.\n",
    "\n",
    "> Criterio de positividad.\n",
    "\n",
    "> Curva R.O.C. *\n",
    "\n"
   ]
  },
  {
   "cell_type": "markdown",
   "metadata": {
    "slideshow": {
     "slide_type": "slide"
    }
   },
   "source": [
    "# Curva R.O.C.:   Receiver Operating Characteristic Curve (R.O.C.)\n",
    "\n",
    "## Permite apreciar como la sensibilidad y la especificidad interactúan en una prueba de testeo o tamizaje, aprecidados en diferentes zonas sobre un nivel continuo."
   ]
  },
  {
   "cell_type": "markdown",
   "metadata": {
    "slideshow": {
     "slide_type": "slide"
    }
   },
   "source": [
    "![ROC1](ROC1.png)"
   ]
  },
  {
   "cell_type": "markdown",
   "metadata": {
    "slideshow": {
     "slide_type": "subslide"
    }
   },
   "source": [
    "![ROC1](ROC2.png)"
   ]
  },
  {
   "cell_type": "markdown",
   "metadata": {
    "slideshow": {
     "slide_type": "subslide"
    }
   },
   "source": [
    "![ROC1](ROC3.png)"
   ]
  },
  {
   "cell_type": "markdown",
   "metadata": {
    "slideshow": {
     "slide_type": "subslide"
    }
   },
   "source": [
    "![ROC1](ROC4.png)"
   ]
  },
  {
   "cell_type": "markdown",
   "metadata": {
    "slideshow": {
     "slide_type": "subslide"
    }
   },
   "source": [
    "![ROC1](ROC5.png)"
   ]
  },
  {
   "cell_type": "markdown",
   "metadata": {
    "slideshow": {
     "slide_type": "subslide"
    }
   },
   "source": [
    "![ROC1](ROC6.png)"
   ]
  },
  {
   "cell_type": "markdown",
   "metadata": {
    "slideshow": {
     "slide_type": "subslide"
    }
   },
   "source": [
    "![ROC1](ROC7.png)"
   ]
  },
  {
   "cell_type": "markdown",
   "metadata": {
    "slideshow": {
     "slide_type": "slide"
    }
   },
   "source": [
    "# ¿ Cómo saber si una prueba de testeo o tamizaje sirve ?"
   ]
  },
  {
   "cell_type": "markdown",
   "metadata": {
    "slideshow": {
     "slide_type": "subslide"
    }
   },
   "source": [
    "## Comprendiendo y validando factores claves  en el diseño de un estudio eficaz de testeo o tamizaje:\n",
    "\n",
    "> Medidas de eficacia.\n",
    "\n",
    "> Sesgos.\n",
    "\n",
    "> Diseño epidemiológico del estudio.\n"
   ]
  },
  {
   "cell_type": "markdown",
   "metadata": {
    "slideshow": {
     "slide_type": "slide"
    }
   },
   "source": [
    "# ¿ Cómo saber si una prueba de testeo o tamizaje sirve ?"
   ]
  },
  {
   "cell_type": "markdown",
   "metadata": {
    "slideshow": {
     "slide_type": "subslide"
    }
   },
   "source": [
    "## y además...\n",
    "\n",
    "### Comparando los resultados.\n",
    "- Entre la población que fue tamizada y la que no lo fue.\n",
    "\n",
    "## y verificando si:\n",
    "\n",
    "### ¿ El diseño epidemiológico soporta su propia evaluación ?\n",
    "\n",
    "### ¿ Surgió de estudios de observación o de ensayos fase III ?\n",
    "\n",
    "### ¿ Se conocen y controlaron las variables de \"confusión\" ?\n"
   ]
  },
  {
   "cell_type": "markdown",
   "metadata": {
    "slideshow": {
     "slide_type": "slide"
    }
   },
   "source": [
    "## Comprendiendo y validando factores claves  en el diseño de un estudio eficaz de testeo o tamizaje:\n",
    "\n",
    "> Medidas de eficacia.*\n",
    "\n",
    "Ensayo clínico aleatorizado ciego o doble ciego, fase III, que soporte el análisis crítico y evidencie su validez interna.\n",
    "\n",
    "> Sesgos.\n",
    "\n",
    "> Diseño epidemiológico del estudio.\n"
   ]
  },
  {
   "cell_type": "markdown",
   "metadata": {
    "slideshow": {
     "slide_type": "slide"
    }
   },
   "source": [
    "## Comprendiendo y validando factores claves  en el diseño de un estudio eficaz de testeo o tamizaje:\n",
    "\n",
    "> Medidas de eficacia.\n",
    "\n",
    "> Sesgos.*\n",
    "\n",
    "> Diseño epidemiológico del estudio.\n"
   ]
  },
  {
   "cell_type": "markdown",
   "metadata": {
    "slideshow": {
     "slide_type": "slide"
    }
   },
   "source": [
    "## Comprendiendo y validando factores claves  en el diseño de un estudio eficaz de testeo o tamizaje:\n",
    "\n",
    "### Sesgos (bias):\n",
    "\n",
    "#### 'Over diagnosis bias':  Afecta la INCIDENCIA.   Se encuentran más casos de la patología en el grupo testeado.\n",
    "\n",
    "##### 'Over diagnosis' es el diagnóstico de una enfermedad que nunca causará síntomas durante la vida del ser, ni su muerte.\n",
    "\n",
    "#####  El sesgo de \"sobre diagnóstico\", genera el incremento del número de casos detectados, que se refleja en la incidencia o prevalencia de la patología, pero cuyo riesgo se sobreestima, generando sobreactuación y consumo de recursos que debieran ser utilizados en la atención de otras patologías prevalentes y de mayor morbilidad o mortalidad."
   ]
  },
  {
   "cell_type": "markdown",
   "metadata": {
    "slideshow": {
     "slide_type": "slide"
    }
   },
   "source": [
    "## Comprendiendo y validando factores claves  en el diseño de un estudio eficaz de testeo o tamizaje:\n",
    "\n",
    "#####  El sesgo de \"sobre diagnóstico\", \n",
    "\n",
    "# se corrige comparando tasas de mortalidad específicas por edad."
   ]
  },
  {
   "cell_type": "markdown",
   "metadata": {
    "slideshow": {
     "slide_type": "slide"
    }
   },
   "source": [
    "## Comprendiendo y validando factores claves  en el diseño de un estudio eficaz de testeo o tamizaje:\n",
    "\n",
    "### Sesgos (bias):\n",
    "\n",
    "#### 'Lead Time bias':  Afecta la SOBREVIVENCIA.   Pacientes identificados con la prueba, vivirán más, que quienes obtuvieron un resultado negativo en la prueba.\n",
    "\n",
    "#####  El sesgo de \"tiempo de espera\", genera la falsa percepción que quienes son detectados por el tamizaje vivirán por más tiempo, que los que el tamizaje no detecta."
   ]
  },
  {
   "cell_type": "markdown",
   "metadata": {
    "slideshow": {
     "slide_type": "slide"
    }
   },
   "source": [
    "## Comprendiendo y validando factores claves  en el diseño de un estudio eficaz de testeo o tamizaje:\n",
    "\n",
    "#####  El sesgo de \"tiempo de espera\",\n",
    "\n",
    "# también se corrige comparando tasas de mortalidad específicas por edad."
   ]
  },
  {
   "cell_type": "markdown",
   "metadata": {
    "slideshow": {
     "slide_type": "slide"
    }
   },
   "source": [
    "## Comprendiendo y validando factores claves  en el diseño de un estudio eficaz de testeo o tamizaje:\n",
    "\n",
    "### Sesgos (bias):\n",
    "\n",
    "#### 'Length bias sampling':  Afecta la determinación del Estado/Severidad de la enfermedad.   Pacientes identificados con la prueba, son diagnosticados en un Estado con menor severidad, en comparación con quienes obtuvieron un resultado negativo.\n",
    "\n",
    "#####  El sesgo de \"longitud de muestreo\", genera la falsa percepción que quienes son detectados por el tamizaje tendrán menor severidad de la enfermedad, que los que el tamizaje no detectó.  Es un error pues los casos identificados NO SON UNA MUESTRA ALEATORIA DE TODAS LAS PERSONAS QUE TIENEN LA ENFERMEDAD."
   ]
  },
  {
   "cell_type": "markdown",
   "metadata": {
    "slideshow": {
     "slide_type": "slide"
    }
   },
   "source": [
    "## Comprendiendo y validando factores claves  en el diseño de un estudio eficaz de testeo o tamizaje:\n",
    "\n",
    "#####  El sesgo de \"longitud de muestreo\", \n",
    "\n",
    "# también se corrige comparando tasas de mortalidad específicas por edad."
   ]
  },
  {
   "cell_type": "markdown",
   "metadata": {
    "slideshow": {
     "slide_type": "slide"
    }
   },
   "source": [
    "## Comprendiendo y validando factores claves  en el diseño de un estudio eficaz de testeo o tamizaje:\n",
    "\n",
    "### Sesgos (bias):\n",
    "\n",
    "#### 'Volunteer bias':  Afecta inmensamente la prueba.  Se presenta en estudios observacionales.  Por eso estos no son adecuados.\n",
    "\n",
    "#####  El sesgo del \"voluntario\", es grave por:\n",
    "- \"Los voluntarios\" en un estudio observacional, son sistemáticamente diferentes de los \"no voluntarios\".\n",
    "- ¿Son los voluntarios personas saludables o no? ¿ Esperan alguna ganancia secundaria?\n",
    "- No hay control alguno  sobre las variables de confusión."
   ]
  },
  {
   "cell_type": "markdown",
   "metadata": {
    "slideshow": {
     "slide_type": "slide"
    }
   },
   "source": [
    "## Comprendiendo y validando factores claves  en el diseño de un estudio eficaz de testeo o tamizaje:\n",
    "\n",
    "#####  El sesgo del \"voluntario\",\n",
    "\n",
    "# se corrige asegurando que los estudios sean clínicos aleatorizados ciegos o doble ciegos, fase III, que soporten el análisis crítico y evidencien validez interna que les permita ser generalizables.\n",
    "\n",
    "\n"
   ]
  },
  {
   "cell_type": "markdown",
   "metadata": {
    "slideshow": {
     "slide_type": "slide"
    }
   },
   "source": [
    "## Comprendiendo y validando factores claves  en el diseño de un estudio eficaz de testeo o tamizaje:\n",
    "\n",
    "### Sesgos (bias):\n",
    "\n",
    "#### Sesgo de negatividad\n",
    "El sesgo de negatividad o efecto negativo se refiere al concepto que en grados de la misma intensidad, las cosas de naturaleza negativa (pensamientos desagradables, emociones, interacciones sociales o eventos traumáticos) tienen un peso mayor en los estados y procesos psicológicos de las personas que las cosas neutrales o positivas.  Es decir, algo muy positivo normalmente tendrá menos impacto en el comportamiento y en pensamiento de las personas que algo igualmente emocional pero negativo. El sesgo de negatividad se ha investigado desde muchos campos diferentes, incluyendo la formación de tales como: atención, aprendizaje, memoria, toma de decisiones y riesgos.\n",
    "\n",
    "#####  El sesgo del \"negatividad\", es grave en el testeo pues:\n",
    "- Refuerza todos los anteriores sesgos."
   ]
  },
  {
   "cell_type": "markdown",
   "metadata": {},
   "source": [
    "# Conceptos sesgo negatividad:\n",
    "\n",
    "Potencia negativa: ...ante la posibilidad de igual magnitud, los elementos, eventos, etc. positivos y negativos no destacan de igual forma. \n",
    "\n",
    "Desigualdad negativa:... los eventos negativos se perciben como más negativos respecto a los eventos positivos se perciben como más positivos cuanto más cercano (en tiempo o espacio) es el evento en cuestión. \n",
    "\n",
    "     Rozin y Edward Royzman\n"
   ]
  },
  {
   "cell_type": "markdown",
   "metadata": {},
   "source": [
    "# Conceptos sesgo negatividad:\n",
    "\n",
    "Dominio negativo: ...tendencia de la combinación de elementos o eventos positivos y negativos hacia una interpretación global más negativa de la que cabría esperar si se analizaran los elementos positivos y negativos de forma individual. En términos de Gestalt, el todo es más negativo que la suma de las partes.\n",
    "\n",
    "Diferenciación negativa: ...la conceptualización de la negatividad es más elaborada y compleja que la de la positividad. El concepto de diferenciación negativa es consistente con la hipótesis movilización-minimalización que postula que los eventos negativos, debido de su complejidad, requieren movilizar más recursos cognitivos para tratar la experiencia afectiva y un mayor esfuerzo para minimizar sus consecuencias.     \n",
    "\n",
    "    Rozin y Edward Royzman\n"
   ]
  },
  {
   "cell_type": "markdown",
   "metadata": {
    "slideshow": {
     "slide_type": "slide"
    }
   },
   "source": [
    "# Comparativo Tasas de Mortalidad por millón de habitantes\n",
    "# Colombia\n",
    "### Elaborado por:  Luis Evelio García Restrepo.  MD. MAS. EF\n",
    "### Fuentes:  \n",
    "#### DANE.  Preliminares Tasas de Mortalidad por millón de habitantes último trimestre 2019  (ajustado a equivalentes días de pandemia en Colombia.          -  INS :  Instituto Nacional de Salud Colombia: Datos CoVid19.  Pendiente depuración de muertes CON COVID-19 vs muertes POR COVID-19 .  "
   ]
  },
  {
   "cell_type": "code",
   "execution_count": 1,
   "metadata": {
    "slideshow": {
     "slide_type": "slide"
    }
   },
   "outputs": [],
   "source": [
    "import pandas as pd"
   ]
  },
  {
   "cell_type": "code",
   "execution_count": 2,
   "metadata": {
    "slideshow": {
     "slide_type": "slide"
    }
   },
   "outputs": [],
   "source": [
    "%matplotlib inline"
   ]
  },
  {
   "cell_type": "code",
   "execution_count": 3,
   "metadata": {
    "slideshow": {
     "slide_type": "slide"
    }
   },
   "outputs": [
    {
     "data": {
      "text/html": [
       "<div>\n",
       "<style scoped>\n",
       "    .dataframe tbody tr th:only-of-type {\n",
       "        vertical-align: middle;\n",
       "    }\n",
       "\n",
       "    .dataframe tbody tr th {\n",
       "        vertical-align: top;\n",
       "    }\n",
       "\n",
       "    .dataframe thead th {\n",
       "        text-align: right;\n",
       "    }\n",
       "</style>\n",
       "<table border=\"1\" class=\"dataframe\">\n",
       "  <thead>\n",
       "    <tr style=\"text-align: right;\">\n",
       "      <th></th>\n",
       "      <th>Fecha de notificación</th>\n",
       "      <th>Nombre departamento</th>\n",
       "      <th>Nombre municipio</th>\n",
       "      <th>Edad</th>\n",
       "      <th>Sexo</th>\n",
       "      <th>Tipo de contagio</th>\n",
       "      <th>Estado</th>\n",
       "      <th>Fecha de muerte</th>\n",
       "      <th>Fecha de diagnóstico</th>\n",
       "      <th>Fecha de recuperación</th>\n",
       "      <th>Tipo de recuperación</th>\n",
       "    </tr>\n",
       "  </thead>\n",
       "  <tbody>\n",
       "    <tr>\n",
       "      <th>0</th>\n",
       "      <td>2/3/2020 0:00:00</td>\n",
       "      <td>BOGOTA</td>\n",
       "      <td>BOGOTA</td>\n",
       "      <td>19</td>\n",
       "      <td>F</td>\n",
       "      <td>Importado</td>\n",
       "      <td>Leve</td>\n",
       "      <td>NaN</td>\n",
       "      <td>6/3/2020 0:00:00</td>\n",
       "      <td>13/3/2020 0:00:00</td>\n",
       "      <td>PCR</td>\n",
       "    </tr>\n",
       "    <tr>\n",
       "      <th>1</th>\n",
       "      <td>6/3/2020 0:00:00</td>\n",
       "      <td>VALLE</td>\n",
       "      <td>BUGA</td>\n",
       "      <td>34</td>\n",
       "      <td>M</td>\n",
       "      <td>Importado</td>\n",
       "      <td>Leve</td>\n",
       "      <td>NaN</td>\n",
       "      <td>9/3/2020 0:00:00</td>\n",
       "      <td>19/3/2020 0:00:00</td>\n",
       "      <td>PCR</td>\n",
       "    </tr>\n",
       "    <tr>\n",
       "      <th>2</th>\n",
       "      <td>7/3/2020 0:00:00</td>\n",
       "      <td>ANTIOQUIA</td>\n",
       "      <td>MEDELLIN</td>\n",
       "      <td>50</td>\n",
       "      <td>F</td>\n",
       "      <td>Importado</td>\n",
       "      <td>Leve</td>\n",
       "      <td>NaN</td>\n",
       "      <td>9/3/2020 0:00:00</td>\n",
       "      <td>15/3/2020 0:00:00</td>\n",
       "      <td>PCR</td>\n",
       "    </tr>\n",
       "    <tr>\n",
       "      <th>3</th>\n",
       "      <td>9/3/2020 0:00:00</td>\n",
       "      <td>ANTIOQUIA</td>\n",
       "      <td>MEDELLIN</td>\n",
       "      <td>55</td>\n",
       "      <td>M</td>\n",
       "      <td>Relacionado</td>\n",
       "      <td>Leve</td>\n",
       "      <td>NaN</td>\n",
       "      <td>11/3/2020 0:00:00</td>\n",
       "      <td>26/3/2020 0:00:00</td>\n",
       "      <td>PCR</td>\n",
       "    </tr>\n",
       "    <tr>\n",
       "      <th>4</th>\n",
       "      <td>9/3/2020 0:00:00</td>\n",
       "      <td>ANTIOQUIA</td>\n",
       "      <td>MEDELLIN</td>\n",
       "      <td>25</td>\n",
       "      <td>M</td>\n",
       "      <td>Relacionado</td>\n",
       "      <td>Leve</td>\n",
       "      <td>NaN</td>\n",
       "      <td>11/3/2020 0:00:00</td>\n",
       "      <td>23/3/2020 0:00:00</td>\n",
       "      <td>PCR</td>\n",
       "    </tr>\n",
       "    <tr>\n",
       "      <th>...</th>\n",
       "      <td>...</td>\n",
       "      <td>...</td>\n",
       "      <td>...</td>\n",
       "      <td>...</td>\n",
       "      <td>...</td>\n",
       "      <td>...</td>\n",
       "      <td>...</td>\n",
       "      <td>...</td>\n",
       "      <td>...</td>\n",
       "      <td>...</td>\n",
       "      <td>...</td>\n",
       "    </tr>\n",
       "    <tr>\n",
       "      <th>1099387</th>\n",
       "      <td>20/10/2020 0:00:00</td>\n",
       "      <td>SANTANDER</td>\n",
       "      <td>SAN GIL</td>\n",
       "      <td>24</td>\n",
       "      <td>F</td>\n",
       "      <td>En estudio</td>\n",
       "      <td>Leve</td>\n",
       "      <td>NaN</td>\n",
       "      <td>25/10/2020 0:00:00</td>\n",
       "      <td>1/11/2020 0:00:00</td>\n",
       "      <td>Tiempo</td>\n",
       "    </tr>\n",
       "    <tr>\n",
       "      <th>1099388</th>\n",
       "      <td>22/10/2020 0:00:00</td>\n",
       "      <td>SANTANDER</td>\n",
       "      <td>BUCARAMANGA</td>\n",
       "      <td>45</td>\n",
       "      <td>F</td>\n",
       "      <td>En estudio</td>\n",
       "      <td>Leve</td>\n",
       "      <td>NaN</td>\n",
       "      <td>30/10/2020 0:00:00</td>\n",
       "      <td>1/11/2020 0:00:00</td>\n",
       "      <td>Tiempo</td>\n",
       "    </tr>\n",
       "    <tr>\n",
       "      <th>1099389</th>\n",
       "      <td>25/10/2020 0:00:00</td>\n",
       "      <td>SANTANDER</td>\n",
       "      <td>BUCARAMANGA</td>\n",
       "      <td>70</td>\n",
       "      <td>F</td>\n",
       "      <td>En estudio</td>\n",
       "      <td>Leve</td>\n",
       "      <td>NaN</td>\n",
       "      <td>29/10/2020 0:00:00</td>\n",
       "      <td>1/11/2020 0:00:00</td>\n",
       "      <td>Tiempo</td>\n",
       "    </tr>\n",
       "    <tr>\n",
       "      <th>1099390</th>\n",
       "      <td>14/10/2020 0:00:00</td>\n",
       "      <td>SANTANDER</td>\n",
       "      <td>BUCARAMANGA</td>\n",
       "      <td>35</td>\n",
       "      <td>M</td>\n",
       "      <td>En estudio</td>\n",
       "      <td>Moderado</td>\n",
       "      <td>NaN</td>\n",
       "      <td>30/10/2020 0:00:00</td>\n",
       "      <td>NaN</td>\n",
       "      <td>NaN</td>\n",
       "    </tr>\n",
       "    <tr>\n",
       "      <th>1099391</th>\n",
       "      <td>20/10/2020 0:00:00</td>\n",
       "      <td>SANTANDER</td>\n",
       "      <td>BUCARAMANGA</td>\n",
       "      <td>45</td>\n",
       "      <td>F</td>\n",
       "      <td>En estudio</td>\n",
       "      <td>Leve</td>\n",
       "      <td>NaN</td>\n",
       "      <td>30/10/2020 0:00:00</td>\n",
       "      <td>1/11/2020 0:00:00</td>\n",
       "      <td>Tiempo</td>\n",
       "    </tr>\n",
       "  </tbody>\n",
       "</table>\n",
       "<p>1099392 rows × 11 columns</p>\n",
       "</div>"
      ],
      "text/plain": [
       "        Fecha de notificación Nombre departamento Nombre municipio  Edad Sexo  \\\n",
       "0            2/3/2020 0:00:00              BOGOTA           BOGOTA    19    F   \n",
       "1            6/3/2020 0:00:00               VALLE             BUGA    34    M   \n",
       "2            7/3/2020 0:00:00           ANTIOQUIA         MEDELLIN    50    F   \n",
       "3            9/3/2020 0:00:00           ANTIOQUIA         MEDELLIN    55    M   \n",
       "4            9/3/2020 0:00:00           ANTIOQUIA         MEDELLIN    25    M   \n",
       "...                       ...                 ...              ...   ...  ...   \n",
       "1099387    20/10/2020 0:00:00           SANTANDER          SAN GIL    24    F   \n",
       "1099388    22/10/2020 0:00:00           SANTANDER      BUCARAMANGA    45    F   \n",
       "1099389    25/10/2020 0:00:00           SANTANDER      BUCARAMANGA    70    F   \n",
       "1099390    14/10/2020 0:00:00           SANTANDER      BUCARAMANGA    35    M   \n",
       "1099391    20/10/2020 0:00:00           SANTANDER      BUCARAMANGA    45    F   \n",
       "\n",
       "        Tipo de contagio    Estado Fecha de muerte Fecha de diagnóstico  \\\n",
       "0              Importado      Leve             NaN     6/3/2020 0:00:00   \n",
       "1              Importado      Leve             NaN     9/3/2020 0:00:00   \n",
       "2              Importado      Leve             NaN     9/3/2020 0:00:00   \n",
       "3            Relacionado      Leve             NaN    11/3/2020 0:00:00   \n",
       "4            Relacionado      Leve             NaN    11/3/2020 0:00:00   \n",
       "...                  ...       ...             ...                  ...   \n",
       "1099387       En estudio      Leve             NaN   25/10/2020 0:00:00   \n",
       "1099388       En estudio      Leve             NaN   30/10/2020 0:00:00   \n",
       "1099389       En estudio      Leve             NaN   29/10/2020 0:00:00   \n",
       "1099390       En estudio  Moderado             NaN   30/10/2020 0:00:00   \n",
       "1099391       En estudio      Leve             NaN   30/10/2020 0:00:00   \n",
       "\n",
       "        Fecha de recuperación Tipo de recuperación  \n",
       "0           13/3/2020 0:00:00                  PCR  \n",
       "1           19/3/2020 0:00:00                  PCR  \n",
       "2           15/3/2020 0:00:00                  PCR  \n",
       "3           26/3/2020 0:00:00                  PCR  \n",
       "4           23/3/2020 0:00:00                  PCR  \n",
       "...                       ...                  ...  \n",
       "1099387     1/11/2020 0:00:00               Tiempo  \n",
       "1099388     1/11/2020 0:00:00               Tiempo  \n",
       "1099389     1/11/2020 0:00:00               Tiempo  \n",
       "1099390                   NaN                  NaN  \n",
       "1099391     1/11/2020 0:00:00               Tiempo  \n",
       "\n",
       "[1099392 rows x 11 columns]"
      ]
     },
     "execution_count": 3,
     "metadata": {},
     "output_type": "execute_result"
    }
   ],
   "source": [
    "col = pd.read_csv('/Users/Dr.LuisEvelioRestrepoGarcia/REPOS/CovidColombia.csv', usecols= ['Fecha de notificación',\n",
    "       'Nombre municipio', 'Nombre departamento', 'Edad',\n",
    "       'Sexo', 'Tipo de contagio', 'Estado', \n",
    "       'Fecha de muerte', 'Fecha de diagnóstico', 'Fecha de recuperación',\n",
    "       'Tipo de recuperación'],date_parser= ['Fecha de notificación','Fecha de muerte', 'Fecha de diagnóstico',\n",
    "       'Fecha de recuperación'], low_memory = False)\n",
    "col"
   ]
  },
  {
   "cell_type": "code",
   "execution_count": 4,
   "metadata": {
    "slideshow": {
     "slide_type": "subslide"
    }
   },
   "outputs": [],
   "source": [
    "col['Fecha de notificación']= pd.to_datetime(col['Fecha de notificación'])\n",
    "col['Fecha de diagnóstico']= pd.to_datetime(col['Fecha de diagnóstico'])\n",
    "col['Fecha de recuperación']= pd.to_datetime(col['Fecha de recuperación'])"
   ]
  },
  {
   "cell_type": "code",
   "execution_count": 5,
   "metadata": {
    "slideshow": {
     "slide_type": "slide"
    }
   },
   "outputs": [],
   "source": [
    "etarioDefuncionesMunic= pd.read_csv('etarioDefuncionesMunic.csv')  # de Fallecidos Municip COVID19 por etarios"
   ]
  },
  {
   "cell_type": "code",
   "execution_count": 6,
   "metadata": {
    "slideshow": {
     "slide_type": "slide"
    }
   },
   "outputs": [],
   "source": [
    "etarioDefuncionesColombia= pd.read_csv('etarioDefuncionesCOLOMBIA.csv')   # de Fallecidos COLOMBIA COVID19 por etarios"
   ]
  },
  {
   "cell_type": "markdown",
   "metadata": {
    "slideshow": {
     "slide_type": "slide"
    }
   },
   "source": [
    "# Municipio:  Número de fallecidos:"
   ]
  },
  {
   "cell_type": "code",
   "execution_count": 7,
   "metadata": {
    "slideshow": {
     "slide_type": "subslide"
    }
   },
   "outputs": [
    {
     "data": {
      "text/html": [
       "<div>\n",
       "<style scoped>\n",
       "    .dataframe tbody tr th:only-of-type {\n",
       "        vertical-align: middle;\n",
       "    }\n",
       "\n",
       "    .dataframe tbody tr th {\n",
       "        vertical-align: top;\n",
       "    }\n",
       "\n",
       "    .dataframe thead th {\n",
       "        text-align: right;\n",
       "    }\n",
       "</style>\n",
       "<table border=\"1\" class=\"dataframe\">\n",
       "  <thead>\n",
       "    <tr style=\"text-align: right;\">\n",
       "      <th></th>\n",
       "      <th>Unnamed: 0</th>\n",
       "      <th>Número fallecidos</th>\n",
       "    </tr>\n",
       "  </thead>\n",
       "  <tbody>\n",
       "    <tr>\n",
       "      <th>0</th>\n",
       "      <td>edad 0 a 4</td>\n",
       "      <td>0</td>\n",
       "    </tr>\n",
       "    <tr>\n",
       "      <th>1</th>\n",
       "      <td>edad 5 a 14</td>\n",
       "      <td>1</td>\n",
       "    </tr>\n",
       "    <tr>\n",
       "      <th>2</th>\n",
       "      <td>edad 15 a 44</td>\n",
       "      <td>3</td>\n",
       "    </tr>\n",
       "    <tr>\n",
       "      <th>3</th>\n",
       "      <td>edad 45 a 64</td>\n",
       "      <td>41</td>\n",
       "    </tr>\n",
       "    <tr>\n",
       "      <th>4</th>\n",
       "      <td>edad 65 a 84</td>\n",
       "      <td>89</td>\n",
       "    </tr>\n",
       "    <tr>\n",
       "      <th>5</th>\n",
       "      <td>edad 85 a 99</td>\n",
       "      <td>30</td>\n",
       "    </tr>\n",
       "    <tr>\n",
       "      <th>6</th>\n",
       "      <td>edad 100 o más</td>\n",
       "      <td>0</td>\n",
       "    </tr>\n",
       "    <tr>\n",
       "      <th>7</th>\n",
       "      <td>Total</td>\n",
       "      <td>164</td>\n",
       "    </tr>\n",
       "  </tbody>\n",
       "</table>\n",
       "</div>"
      ],
      "text/plain": [
       "       Unnamed: 0  Número fallecidos\n",
       "0      edad 0 a 4                  0\n",
       "1     edad 5 a 14                  1\n",
       "2    edad 15 a 44                  3\n",
       "3    edad 45 a 64                 41\n",
       "4    edad 65 a 84                 89\n",
       "5    edad 85 a 99                 30\n",
       "6  edad 100 o más                  0\n",
       "7           Total                164"
      ]
     },
     "execution_count": 7,
     "metadata": {},
     "output_type": "execute_result"
    }
   ],
   "source": [
    "etarioDefuncionesMunic"
   ]
  },
  {
   "cell_type": "markdown",
   "metadata": {},
   "source": [
    "# Enfermos por edad\n"
   ]
  },
  {
   "cell_type": "markdown",
   "metadata": {
    "slideshow": {
     "slide_type": "slide"
    }
   },
   "source": [
    "# Colombia:  Número de fallecidos por grupo etario:"
   ]
  },
  {
   "cell_type": "code",
   "execution_count": 8,
   "metadata": {
    "slideshow": {
     "slide_type": "subslide"
    }
   },
   "outputs": [
    {
     "data": {
      "text/html": [
       "<div>\n",
       "<style scoped>\n",
       "    .dataframe tbody tr th:only-of-type {\n",
       "        vertical-align: middle;\n",
       "    }\n",
       "\n",
       "    .dataframe tbody tr th {\n",
       "        vertical-align: top;\n",
       "    }\n",
       "\n",
       "    .dataframe thead th {\n",
       "        text-align: right;\n",
       "    }\n",
       "</style>\n",
       "<table border=\"1\" class=\"dataframe\">\n",
       "  <thead>\n",
       "    <tr style=\"text-align: right;\">\n",
       "      <th></th>\n",
       "      <th>Unnamed: 0</th>\n",
       "      <th>edad 0 a 4</th>\n",
       "      <th>edad 5 a 14</th>\n",
       "      <th>edad 15 a 44</th>\n",
       "      <th>edad 45 a 64</th>\n",
       "      <th>edad 65 a 84</th>\n",
       "      <th>edad 85 a 99</th>\n",
       "      <th>edad 100 o mas</th>\n",
       "      <th>Total fallecidos</th>\n",
       "    </tr>\n",
       "  </thead>\n",
       "  <tbody>\n",
       "    <tr>\n",
       "      <th>0</th>\n",
       "      <td>Número fallecidos</td>\n",
       "      <td>70</td>\n",
       "      <td>68</td>\n",
       "      <td>2716</td>\n",
       "      <td>10069</td>\n",
       "      <td>17639</td>\n",
       "      <td>4300</td>\n",
       "      <td>48</td>\n",
       "      <td>34910</td>\n",
       "    </tr>\n",
       "  </tbody>\n",
       "</table>\n",
       "</div>"
      ],
      "text/plain": [
       "          Unnamed: 0  edad 0 a 4  edad 5 a 14  edad 15 a 44  edad 45 a 64  \\\n",
       "0  Número fallecidos          70           68          2716         10069   \n",
       "\n",
       "   edad 65 a 84  edad 85 a 99  edad 100 o mas  Total fallecidos  \n",
       "0         17639          4300              48             34910  "
      ]
     },
     "execution_count": 8,
     "metadata": {},
     "output_type": "execute_result"
    }
   ],
   "source": [
    "etarioDefuncionesColombia"
   ]
  },
  {
   "cell_type": "code",
   "execution_count": 9,
   "metadata": {
    "slideshow": {
     "slide_type": "slide"
    }
   },
   "outputs": [],
   "source": [
    "poblacion= pd.read_csv('Dane2018_2023_uppercase.csv', usecols= ['DPTO','MUNICIPIO','Género','2020'])"
   ]
  },
  {
   "cell_type": "markdown",
   "metadata": {
    "slideshow": {
     "slide_type": "slide"
    }
   },
   "source": [
    "# Colombia: Habitantes por grupos etarios. Proyección 2020.  DANE"
   ]
  },
  {
   "cell_type": "code",
   "execution_count": 10,
   "metadata": {
    "slideshow": {
     "slide_type": "subslide"
    }
   },
   "outputs": [
    {
     "data": {
      "text/html": [
       "<div>\n",
       "<style scoped>\n",
       "    .dataframe tbody tr th:only-of-type {\n",
       "        vertical-align: middle;\n",
       "    }\n",
       "\n",
       "    .dataframe tbody tr th {\n",
       "        vertical-align: top;\n",
       "    }\n",
       "\n",
       "    .dataframe thead th {\n",
       "        text-align: right;\n",
       "    }\n",
       "</style>\n",
       "<table border=\"1\" class=\"dataframe\">\n",
       "  <thead>\n",
       "    <tr style=\"text-align: right;\">\n",
       "      <th></th>\n",
       "      <th>DEPARTAMENTO</th>\n",
       "      <th>MUNICIPIO</th>\n",
       "      <th>edad 100 o mas</th>\n",
       "      <th>Total Hombres</th>\n",
       "      <th>Total Mujeres</th>\n",
       "      <th>Total</th>\n",
       "      <th>edad 0 a 4</th>\n",
       "      <th>edad 5 a 14</th>\n",
       "      <th>edad 15 a 44</th>\n",
       "      <th>edad 45 a 64</th>\n",
       "      <th>edad 65 a 84</th>\n",
       "      <th>edad 85 a 99</th>\n",
       "    </tr>\n",
       "    <tr>\n",
       "      <th></th>\n",
       "      <th></th>\n",
       "      <th></th>\n",
       "      <th></th>\n",
       "      <th></th>\n",
       "      <th></th>\n",
       "      <th></th>\n",
       "      <th></th>\n",
       "      <th></th>\n",
       "      <th></th>\n",
       "      <th></th>\n",
       "      <th></th>\n",
       "      <th></th>\n",
       "    </tr>\n",
       "  </thead>\n",
       "  <tbody>\n",
       "    <tr>\n",
       "      <th>107</th>\n",
       "      <td>ANTIOQUIA</td>\n",
       "      <td>MEDELLIN</td>\n",
       "      <td>1631</td>\n",
       "      <td>1193791</td>\n",
       "      <td>1339633</td>\n",
       "      <td>2533424</td>\n",
       "      <td>148533</td>\n",
       "      <td>311575</td>\n",
       "      <td>1224276</td>\n",
       "      <td>581270</td>\n",
       "      <td>240903</td>\n",
       "      <td>25236</td>\n",
       "    </tr>\n",
       "    <tr>\n",
       "      <th>260</th>\n",
       "      <td>ANTIOQUIA</td>\n",
       "      <td>ABEJORRAL</td>\n",
       "      <td>15</td>\n",
       "      <td>10558</td>\n",
       "      <td>9729</td>\n",
       "      <td>20287</td>\n",
       "      <td>1291</td>\n",
       "      <td>3046</td>\n",
       "      <td>8299</td>\n",
       "      <td>4993</td>\n",
       "      <td>2417</td>\n",
       "      <td>226</td>\n",
       "    </tr>\n",
       "    <tr>\n",
       "      <th>413</th>\n",
       "      <td>ANTIOQUIA</td>\n",
       "      <td>ABRIAQUI</td>\n",
       "      <td>0</td>\n",
       "      <td>1482</td>\n",
       "      <td>1253</td>\n",
       "      <td>2735</td>\n",
       "      <td>213</td>\n",
       "      <td>427</td>\n",
       "      <td>1156</td>\n",
       "      <td>608</td>\n",
       "      <td>302</td>\n",
       "      <td>29</td>\n",
       "    </tr>\n",
       "    <tr>\n",
       "      <th>566</th>\n",
       "      <td>ANTIOQUIA</td>\n",
       "      <td>ALEJANDRIA</td>\n",
       "      <td>0</td>\n",
       "      <td>2338</td>\n",
       "      <td>2360</td>\n",
       "      <td>4698</td>\n",
       "      <td>420</td>\n",
       "      <td>737</td>\n",
       "      <td>1889</td>\n",
       "      <td>1062</td>\n",
       "      <td>525</td>\n",
       "      <td>65</td>\n",
       "    </tr>\n",
       "    <tr>\n",
       "      <th>719</th>\n",
       "      <td>ANTIOQUIA</td>\n",
       "      <td>AMAGA</td>\n",
       "      <td>9</td>\n",
       "      <td>15382</td>\n",
       "      <td>15901</td>\n",
       "      <td>31283</td>\n",
       "      <td>2024</td>\n",
       "      <td>4280</td>\n",
       "      <td>14150</td>\n",
       "      <td>7653</td>\n",
       "      <td>2868</td>\n",
       "      <td>299</td>\n",
       "    </tr>\n",
       "    <tr>\n",
       "      <th>...</th>\n",
       "      <td>...</td>\n",
       "      <td>...</td>\n",
       "      <td>...</td>\n",
       "      <td>...</td>\n",
       "      <td>...</td>\n",
       "      <td>...</td>\n",
       "      <td>...</td>\n",
       "      <td>...</td>\n",
       "      <td>...</td>\n",
       "      <td>...</td>\n",
       "      <td>...</td>\n",
       "      <td>...</td>\n",
       "    </tr>\n",
       "    <tr>\n",
       "      <th>171161</th>\n",
       "      <td>VICHADA</td>\n",
       "      <td>PUERTO CARREÑO</td>\n",
       "      <td>4</td>\n",
       "      <td>10520</td>\n",
       "      <td>9774</td>\n",
       "      <td>20294</td>\n",
       "      <td>2106</td>\n",
       "      <td>3856</td>\n",
       "      <td>10392</td>\n",
       "      <td>3089</td>\n",
       "      <td>797</td>\n",
       "      <td>50</td>\n",
       "    </tr>\n",
       "    <tr>\n",
       "      <th>171314</th>\n",
       "      <td>VICHADA</td>\n",
       "      <td>LA PRIMAVERA</td>\n",
       "      <td>1</td>\n",
       "      <td>5055</td>\n",
       "      <td>4553</td>\n",
       "      <td>9608</td>\n",
       "      <td>948</td>\n",
       "      <td>2097</td>\n",
       "      <td>4546</td>\n",
       "      <td>1534</td>\n",
       "      <td>436</td>\n",
       "      <td>46</td>\n",
       "    </tr>\n",
       "    <tr>\n",
       "      <th>171467</th>\n",
       "      <td>VICHADA</td>\n",
       "      <td>SANTA ROSALIA</td>\n",
       "      <td>0</td>\n",
       "      <td>2173</td>\n",
       "      <td>2020</td>\n",
       "      <td>4193</td>\n",
       "      <td>381</td>\n",
       "      <td>970</td>\n",
       "      <td>1977</td>\n",
       "      <td>671</td>\n",
       "      <td>180</td>\n",
       "      <td>14</td>\n",
       "    </tr>\n",
       "    <tr>\n",
       "      <th>171620</th>\n",
       "      <td>VICHADA</td>\n",
       "      <td>CUMARIBO</td>\n",
       "      <td>18</td>\n",
       "      <td>41840</td>\n",
       "      <td>37023</td>\n",
       "      <td>78863</td>\n",
       "      <td>10538</td>\n",
       "      <td>21092</td>\n",
       "      <td>35333</td>\n",
       "      <td>9348</td>\n",
       "      <td>2364</td>\n",
       "      <td>170</td>\n",
       "    </tr>\n",
       "    <tr>\n",
       "      <th>172621</th>\n",
       "      <td>COLOMBIA</td>\n",
       "      <td>COLOMBIA</td>\n",
       "      <td>19219</td>\n",
       "      <td>20887044</td>\n",
       "      <td>21741425</td>\n",
       "      <td>42628469</td>\n",
       "      <td>3433969</td>\n",
       "      <td>6938817</td>\n",
       "      <td>19541755</td>\n",
       "      <td>8757142</td>\n",
       "      <td>3512813</td>\n",
       "      <td>424754</td>\n",
       "    </tr>\n",
       "  </tbody>\n",
       "</table>\n",
       "<p>1122 rows × 12 columns</p>\n",
       "</div>"
      ],
      "text/plain": [
       "       DEPARTAMENTO       MUNICIPIO  edad 100 o mas  Total Hombres  \\\n",
       "                                                                     \n",
       "107       ANTIOQUIA        MEDELLIN            1631        1193791   \n",
       "260       ANTIOQUIA       ABEJORRAL              15          10558   \n",
       "413       ANTIOQUIA        ABRIAQUI               0           1482   \n",
       "566       ANTIOQUIA      ALEJANDRIA               0           2338   \n",
       "719       ANTIOQUIA           AMAGA               9          15382   \n",
       "...             ...             ...             ...            ...   \n",
       "171161      VICHADA  PUERTO CARREÑO               4          10520   \n",
       "171314      VICHADA    LA PRIMAVERA               1           5055   \n",
       "171467      VICHADA   SANTA ROSALIA               0           2173   \n",
       "171620      VICHADA        CUMARIBO              18          41840   \n",
       "172621     COLOMBIA        COLOMBIA           19219       20887044   \n",
       "\n",
       "        Total Mujeres     Total  edad 0 a 4  edad 5 a 14  edad 15 a 44  \\\n",
       "                                                                         \n",
       "107           1339633   2533424      148533       311575       1224276   \n",
       "260              9729     20287        1291         3046          8299   \n",
       "413              1253      2735         213          427          1156   \n",
       "566              2360      4698         420          737          1889   \n",
       "719             15901     31283        2024         4280         14150   \n",
       "...               ...       ...         ...          ...           ...   \n",
       "171161           9774     20294        2106         3856         10392   \n",
       "171314           4553      9608         948         2097          4546   \n",
       "171467           2020      4193         381          970          1977   \n",
       "171620          37023     78863       10538        21092         35333   \n",
       "172621       21741425  42628469     3433969      6938817      19541755   \n",
       "\n",
       "        edad 45 a 64  edad 65 a 84  edad 85 a 99  \n",
       "                                                  \n",
       "107           581270        240903         25236  \n",
       "260             4993          2417           226  \n",
       "413              608           302            29  \n",
       "566             1062           525            65  \n",
       "719             7653          2868           299  \n",
       "...              ...           ...           ...  \n",
       "171161          3089           797            50  \n",
       "171314          1534           436            46  \n",
       "171467           671           180            14  \n",
       "171620          9348          2364           170  \n",
       "172621       8757142       3512813        424754  \n",
       "\n",
       "[1122 rows x 12 columns]"
      ]
     },
     "execution_count": 10,
     "metadata": {},
     "output_type": "execute_result"
    }
   ],
   "source": [
    "etariosporMunic= pd.read_csv('totalEtariosMunicDpto_upper.csv', names=['', 'DEPARTAMENTO', 'MUNICIPIO','edad 100 o mas', \n",
    "                                                           'Total Hombres', 'Total Mujeres',\n",
    "                                                           'Total', 'edad 0 a 4', 'edad 5 a 14','edad 15 a 44', \n",
    "                                                           'edad 45 a 64', 'edad 65 a 84', 'edad 85 a 99'], skiprows=1, index_col= '')\n",
    "etariosporMunic"
   ]
  },
  {
   "cell_type": "code",
   "execution_count": 11,
   "metadata": {
    "slideshow": {
     "slide_type": "skip"
    }
   },
   "outputs": [],
   "source": [
    "etarios2= etariosporMunic"
   ]
  },
  {
   "cell_type": "markdown",
   "metadata": {
    "slideshow": {
     "slide_type": "slide"
    }
   },
   "source": [
    "# Selección departamento/municipio: Habitantes por grupos etarios. Proyección 2020.  DANE"
   ]
  },
  {
   "cell_type": "code",
   "execution_count": 12,
   "metadata": {
    "slideshow": {
     "slide_type": "slide"
    }
   },
   "outputs": [
    {
     "name": "stdout",
     "output_type": "stream",
     "text": [
      "Ingrese el departamento (para el total del país, ingrese 'COLOMBIA'):  CALDAS\n"
     ]
    }
   ],
   "source": [
    "localidad= input(\"Ingrese el departamento (para el total del país, ingrese 'COLOMBIA'):  \" )\n"
   ]
  },
  {
   "cell_type": "code",
   "execution_count": 13,
   "metadata": {
    "slideshow": {
     "slide_type": "slide"
    }
   },
   "outputs": [
    {
     "name": "stdout",
     "output_type": "stream",
     "text": [
      "Ingrese el municipio (si quiere todos los del departamentos, digite 'T'):  MANIZALES\n"
     ]
    }
   ],
   "source": [
    "localidad1= input(\"Ingrese el municipio (si quiere todos los del departamentos, digite 'T'):  \")\n"
   ]
  },
  {
   "cell_type": "code",
   "execution_count": 14,
   "metadata": {
    "scrolled": true,
    "slideshow": {
     "slide_type": "skip"
    }
   },
   "outputs": [
    {
     "data": {
      "text/plain": [
       "('CALDAS', 'MANIZALES')"
      ]
     },
     "execution_count": 14,
     "metadata": {},
     "output_type": "execute_result"
    }
   ],
   "source": [
    "localidad, localidad1"
   ]
  },
  {
   "cell_type": "code",
   "execution_count": 15,
   "metadata": {
    "slideshow": {
     "slide_type": "slide"
    }
   },
   "outputs": [],
   "source": [
    "if localidad1 =='T':\n",
    "    filtroMunic = (etarios2['DEPARTAMENTO']==localidad)\n",
    "    etariosporMunic = etarios2.loc[filtroMunic,:]\n",
    "else:\n",
    "    filtroMunic = (etarios2['DEPARTAMENTO']==localidad) & (etarios2['MUNICIPIO']==localidad1)\n",
    "    etariosporMunic = etarios2.loc[filtroMunic,:]\n",
    "    "
   ]
  },
  {
   "cell_type": "code",
   "execution_count": 16,
   "metadata": {
    "scrolled": true,
    "slideshow": {
     "slide_type": "slide"
    }
   },
   "outputs": [
    {
     "name": "stderr",
     "output_type": "stream",
     "text": [
      "/Library/Frameworks/Python.framework/Versions/3.7/lib/python3.7/site-packages/ipykernel_launcher.py:1: SettingWithCopyWarning: \n",
      "A value is trying to be set on a copy of a slice from a DataFrame.\n",
      "Try using .loc[row_indexer,col_indexer] = value instead\n",
      "\n",
      "See the caveats in the documentation: https://pandas.pydata.org/pandas-docs/stable/user_guide/indexing.html#returning-a-view-versus-a-copy\n",
      "  \"\"\"Entry point for launching an IPython kernel.\n"
     ]
    },
    {
     "data": {
      "text/html": [
       "<div>\n",
       "<style scoped>\n",
       "    .dataframe tbody tr th:only-of-type {\n",
       "        vertical-align: middle;\n",
       "    }\n",
       "\n",
       "    .dataframe tbody tr th {\n",
       "        vertical-align: top;\n",
       "    }\n",
       "\n",
       "    .dataframe thead th {\n",
       "        text-align: right;\n",
       "    }\n",
       "</style>\n",
       "<table border=\"1\" class=\"dataframe\">\n",
       "  <thead>\n",
       "    <tr style=\"text-align: right;\">\n",
       "      <th></th>\n",
       "      <th>DEPARTAMENTO</th>\n",
       "      <th>MUNICIPIO</th>\n",
       "      <th>edad 100 o mas</th>\n",
       "      <th>Total Hombres</th>\n",
       "      <th>Total Mujeres</th>\n",
       "      <th>Total</th>\n",
       "      <th>edad 0 a 4</th>\n",
       "      <th>edad 5 a 14</th>\n",
       "      <th>edad 15 a 44</th>\n",
       "      <th>edad 45 a 64</th>\n",
       "      <th>edad 65 a 84</th>\n",
       "      <th>edad 85 a 99</th>\n",
       "    </tr>\n",
       "    <tr>\n",
       "      <th>INDICE</th>\n",
       "      <th></th>\n",
       "      <th></th>\n",
       "      <th></th>\n",
       "      <th></th>\n",
       "      <th></th>\n",
       "      <th></th>\n",
       "      <th></th>\n",
       "      <th></th>\n",
       "      <th></th>\n",
       "      <th></th>\n",
       "      <th></th>\n",
       "      <th></th>\n",
       "    </tr>\n",
       "  </thead>\n",
       "  <tbody>\n",
       "    <tr>\n",
       "      <th>0</th>\n",
       "      <td>CALDAS</td>\n",
       "      <td>MANIZALES</td>\n",
       "      <td>201</td>\n",
       "      <td>210254</td>\n",
       "      <td>235906</td>\n",
       "      <td>446160</td>\n",
       "      <td>23587</td>\n",
       "      <td>50227</td>\n",
       "      <td>198767</td>\n",
       "      <td>113931</td>\n",
       "      <td>53426</td>\n",
       "      <td>6021</td>\n",
       "    </tr>\n",
       "  </tbody>\n",
       "</table>\n",
       "</div>"
      ],
      "text/plain": [
       "       DEPARTAMENTO  MUNICIPIO  edad 100 o mas  Total Hombres  Total Mujeres  \\\n",
       "INDICE                                                                         \n",
       "0            CALDAS  MANIZALES             201         210254         235906   \n",
       "\n",
       "         Total  edad 0 a 4  edad 5 a 14  edad 15 a 44  edad 45 a 64  \\\n",
       "INDICE                                                                \n",
       "0       446160       23587        50227        198767        113931   \n",
       "\n",
       "        edad 65 a 84  edad 85 a 99  \n",
       "INDICE                              \n",
       "0              53426          6021  "
      ]
     },
     "execution_count": 16,
     "metadata": {},
     "output_type": "execute_result"
    }
   ],
   "source": [
    "etariosporMunic['INDICE']=0\n",
    "etariosporMunic= etariosporMunic.set_index('INDICE').copy()\n",
    "etariosporMunic"
   ]
  },
  {
   "cell_type": "markdown",
   "metadata": {
    "slideshow": {
     "slide_type": "slide"
    }
   },
   "source": [
    "# Días desde el primer caso notificado (02 marzo 2020 -  había arrivado al país 5 días antes)"
   ]
  },
  {
   "cell_type": "code",
   "execution_count": 17,
   "metadata": {
    "slideshow": {
     "slide_type": "subslide"
    }
   },
   "outputs": [
    {
     "data": {
      "text/plain": [
       "341"
      ]
     },
     "execution_count": 17,
     "metadata": {},
     "output_type": "execute_result"
    }
   ],
   "source": [
    "dias = (pd.to_datetime(col['Fecha de notificación'].max()) - pd.to_datetime(col['Fecha de notificación'].min())).days\n",
    "dias"
   ]
  },
  {
   "cell_type": "markdown",
   "metadata": {
    "slideshow": {
     "slide_type": "slide"
    }
   },
   "source": [
    "# Colombia:  Fallecidos por COVID-19 a última fecha de notificación INS (pendiente ajustes)"
   ]
  },
  {
   "cell_type": "markdown",
   "metadata": {
    "slideshow": {
     "slide_type": "slide"
    }
   },
   "source": [
    "#### Fecha último dato:"
   ]
  },
  {
   "cell_type": "code",
   "execution_count": 18,
   "metadata": {
    "slideshow": {
     "slide_type": "subslide"
    }
   },
   "outputs": [
    {
     "data": {
      "text/html": [
       "<div>\n",
       "<style scoped>\n",
       "    .dataframe tbody tr th:only-of-type {\n",
       "        vertical-align: middle;\n",
       "    }\n",
       "\n",
       "    .dataframe tbody tr th {\n",
       "        vertical-align: top;\n",
       "    }\n",
       "\n",
       "    .dataframe thead th {\n",
       "        text-align: right;\n",
       "    }\n",
       "</style>\n",
       "<table border=\"1\" class=\"dataframe\">\n",
       "  <thead>\n",
       "    <tr style=\"text-align: right;\">\n",
       "      <th></th>\n",
       "      <th>Fecha de notificación</th>\n",
       "      <th>Nombre departamento</th>\n",
       "      <th>Nombre municipio</th>\n",
       "      <th>Edad</th>\n",
       "      <th>Sexo</th>\n",
       "      <th>Tipo de contagio</th>\n",
       "      <th>Estado</th>\n",
       "      <th>Fecha de muerte</th>\n",
       "      <th>Fecha de diagnóstico</th>\n",
       "      <th>Fecha de recuperación</th>\n",
       "      <th>Tipo de recuperación</th>\n",
       "    </tr>\n",
       "  </thead>\n",
       "  <tbody>\n",
       "    <tr>\n",
       "      <th>0</th>\n",
       "      <td>2020-02-03</td>\n",
       "      <td>BOGOTA</td>\n",
       "      <td>BOGOTA</td>\n",
       "      <td>19</td>\n",
       "      <td>F</td>\n",
       "      <td>Importado</td>\n",
       "      <td>Leve</td>\n",
       "      <td>NaN</td>\n",
       "      <td>2020-06-03</td>\n",
       "      <td>2020-03-13</td>\n",
       "      <td>PCR</td>\n",
       "    </tr>\n",
       "    <tr>\n",
       "      <th>1</th>\n",
       "      <td>2020-06-03</td>\n",
       "      <td>VALLE</td>\n",
       "      <td>BUGA</td>\n",
       "      <td>34</td>\n",
       "      <td>M</td>\n",
       "      <td>Importado</td>\n",
       "      <td>Leve</td>\n",
       "      <td>NaN</td>\n",
       "      <td>2020-09-03</td>\n",
       "      <td>2020-03-19</td>\n",
       "      <td>PCR</td>\n",
       "    </tr>\n",
       "    <tr>\n",
       "      <th>2</th>\n",
       "      <td>2020-07-03</td>\n",
       "      <td>ANTIOQUIA</td>\n",
       "      <td>MEDELLIN</td>\n",
       "      <td>50</td>\n",
       "      <td>F</td>\n",
       "      <td>Importado</td>\n",
       "      <td>Leve</td>\n",
       "      <td>NaN</td>\n",
       "      <td>2020-09-03</td>\n",
       "      <td>2020-03-15</td>\n",
       "      <td>PCR</td>\n",
       "    </tr>\n",
       "    <tr>\n",
       "      <th>3</th>\n",
       "      <td>2020-09-03</td>\n",
       "      <td>ANTIOQUIA</td>\n",
       "      <td>MEDELLIN</td>\n",
       "      <td>55</td>\n",
       "      <td>M</td>\n",
       "      <td>Relacionado</td>\n",
       "      <td>Leve</td>\n",
       "      <td>NaN</td>\n",
       "      <td>2020-11-03</td>\n",
       "      <td>2020-03-26</td>\n",
       "      <td>PCR</td>\n",
       "    </tr>\n",
       "    <tr>\n",
       "      <th>4</th>\n",
       "      <td>2020-09-03</td>\n",
       "      <td>ANTIOQUIA</td>\n",
       "      <td>MEDELLIN</td>\n",
       "      <td>25</td>\n",
       "      <td>M</td>\n",
       "      <td>Relacionado</td>\n",
       "      <td>Leve</td>\n",
       "      <td>NaN</td>\n",
       "      <td>2020-11-03</td>\n",
       "      <td>2020-03-23</td>\n",
       "      <td>PCR</td>\n",
       "    </tr>\n",
       "    <tr>\n",
       "      <th>...</th>\n",
       "      <td>...</td>\n",
       "      <td>...</td>\n",
       "      <td>...</td>\n",
       "      <td>...</td>\n",
       "      <td>...</td>\n",
       "      <td>...</td>\n",
       "      <td>...</td>\n",
       "      <td>...</td>\n",
       "      <td>...</td>\n",
       "      <td>...</td>\n",
       "      <td>...</td>\n",
       "    </tr>\n",
       "    <tr>\n",
       "      <th>1099387</th>\n",
       "      <td>2020-10-20</td>\n",
       "      <td>SANTANDER</td>\n",
       "      <td>SAN GIL</td>\n",
       "      <td>24</td>\n",
       "      <td>F</td>\n",
       "      <td>En estudio</td>\n",
       "      <td>Leve</td>\n",
       "      <td>NaN</td>\n",
       "      <td>2020-10-25</td>\n",
       "      <td>2020-01-11</td>\n",
       "      <td>Tiempo</td>\n",
       "    </tr>\n",
       "    <tr>\n",
       "      <th>1099388</th>\n",
       "      <td>2020-10-22</td>\n",
       "      <td>SANTANDER</td>\n",
       "      <td>BUCARAMANGA</td>\n",
       "      <td>45</td>\n",
       "      <td>F</td>\n",
       "      <td>En estudio</td>\n",
       "      <td>Leve</td>\n",
       "      <td>NaN</td>\n",
       "      <td>2020-10-30</td>\n",
       "      <td>2020-01-11</td>\n",
       "      <td>Tiempo</td>\n",
       "    </tr>\n",
       "    <tr>\n",
       "      <th>1099389</th>\n",
       "      <td>2020-10-25</td>\n",
       "      <td>SANTANDER</td>\n",
       "      <td>BUCARAMANGA</td>\n",
       "      <td>70</td>\n",
       "      <td>F</td>\n",
       "      <td>En estudio</td>\n",
       "      <td>Leve</td>\n",
       "      <td>NaN</td>\n",
       "      <td>2020-10-29</td>\n",
       "      <td>2020-01-11</td>\n",
       "      <td>Tiempo</td>\n",
       "    </tr>\n",
       "    <tr>\n",
       "      <th>1099390</th>\n",
       "      <td>2020-10-14</td>\n",
       "      <td>SANTANDER</td>\n",
       "      <td>BUCARAMANGA</td>\n",
       "      <td>35</td>\n",
       "      <td>M</td>\n",
       "      <td>En estudio</td>\n",
       "      <td>Moderado</td>\n",
       "      <td>NaN</td>\n",
       "      <td>2020-10-30</td>\n",
       "      <td>NaT</td>\n",
       "      <td>NaN</td>\n",
       "    </tr>\n",
       "    <tr>\n",
       "      <th>1099391</th>\n",
       "      <td>2020-10-20</td>\n",
       "      <td>SANTANDER</td>\n",
       "      <td>BUCARAMANGA</td>\n",
       "      <td>45</td>\n",
       "      <td>F</td>\n",
       "      <td>En estudio</td>\n",
       "      <td>Leve</td>\n",
       "      <td>NaN</td>\n",
       "      <td>2020-10-30</td>\n",
       "      <td>2020-01-11</td>\n",
       "      <td>Tiempo</td>\n",
       "    </tr>\n",
       "  </tbody>\n",
       "</table>\n",
       "<p>1099392 rows × 11 columns</p>\n",
       "</div>"
      ],
      "text/plain": [
       "        Fecha de notificación Nombre departamento Nombre municipio  Edad Sexo  \\\n",
       "0                  2020-02-03              BOGOTA           BOGOTA    19    F   \n",
       "1                  2020-06-03               VALLE             BUGA    34    M   \n",
       "2                  2020-07-03           ANTIOQUIA         MEDELLIN    50    F   \n",
       "3                  2020-09-03           ANTIOQUIA         MEDELLIN    55    M   \n",
       "4                  2020-09-03           ANTIOQUIA         MEDELLIN    25    M   \n",
       "...                       ...                 ...              ...   ...  ...   \n",
       "1099387            2020-10-20           SANTANDER          SAN GIL    24    F   \n",
       "1099388            2020-10-22           SANTANDER      BUCARAMANGA    45    F   \n",
       "1099389            2020-10-25           SANTANDER      BUCARAMANGA    70    F   \n",
       "1099390            2020-10-14           SANTANDER      BUCARAMANGA    35    M   \n",
       "1099391            2020-10-20           SANTANDER      BUCARAMANGA    45    F   \n",
       "\n",
       "        Tipo de contagio    Estado Fecha de muerte Fecha de diagnóstico  \\\n",
       "0              Importado      Leve             NaN           2020-06-03   \n",
       "1              Importado      Leve             NaN           2020-09-03   \n",
       "2              Importado      Leve             NaN           2020-09-03   \n",
       "3            Relacionado      Leve             NaN           2020-11-03   \n",
       "4            Relacionado      Leve             NaN           2020-11-03   \n",
       "...                  ...       ...             ...                  ...   \n",
       "1099387       En estudio      Leve             NaN           2020-10-25   \n",
       "1099388       En estudio      Leve             NaN           2020-10-30   \n",
       "1099389       En estudio      Leve             NaN           2020-10-29   \n",
       "1099390       En estudio  Moderado             NaN           2020-10-30   \n",
       "1099391       En estudio      Leve             NaN           2020-10-30   \n",
       "\n",
       "        Fecha de recuperación Tipo de recuperación  \n",
       "0                  2020-03-13                  PCR  \n",
       "1                  2020-03-19                  PCR  \n",
       "2                  2020-03-15                  PCR  \n",
       "3                  2020-03-26                  PCR  \n",
       "4                  2020-03-23                  PCR  \n",
       "...                       ...                  ...  \n",
       "1099387            2020-01-11               Tiempo  \n",
       "1099388            2020-01-11               Tiempo  \n",
       "1099389            2020-01-11               Tiempo  \n",
       "1099390                   NaT                  NaN  \n",
       "1099391            2020-01-11               Tiempo  \n",
       "\n",
       "[1099392 rows x 11 columns]"
      ]
     },
     "execution_count": 18,
     "metadata": {},
     "output_type": "execute_result"
    }
   ],
   "source": [
    "col"
   ]
  },
  {
   "cell_type": "code",
   "execution_count": 19,
   "metadata": {},
   "outputs": [
    {
     "data": {
      "text/html": [
       "<div>\n",
       "<style scoped>\n",
       "    .dataframe tbody tr th:only-of-type {\n",
       "        vertical-align: middle;\n",
       "    }\n",
       "\n",
       "    .dataframe tbody tr th {\n",
       "        vertical-align: top;\n",
       "    }\n",
       "\n",
       "    .dataframe thead th {\n",
       "        text-align: right;\n",
       "    }\n",
       "</style>\n",
       "<table border=\"1\" class=\"dataframe\">\n",
       "  <thead>\n",
       "    <tr style=\"text-align: right;\">\n",
       "      <th></th>\n",
       "      <th>Fecha de notificación</th>\n",
       "      <th>Nombre departamento</th>\n",
       "      <th>Nombre municipio</th>\n",
       "      <th>Edad</th>\n",
       "      <th>Sexo</th>\n",
       "      <th>Tipo de contagio</th>\n",
       "      <th>Estado</th>\n",
       "      <th>Fecha de muerte</th>\n",
       "      <th>Fecha de diagnóstico</th>\n",
       "      <th>Fecha de recuperación</th>\n",
       "      <th>Tipo de recuperación</th>\n",
       "    </tr>\n",
       "  </thead>\n",
       "  <tbody>\n",
       "    <tr>\n",
       "      <th>181683</th>\n",
       "      <td>2020-12-10</td>\n",
       "      <td>BARRANQUILLA</td>\n",
       "      <td>BARRANQUILLA</td>\n",
       "      <td>21</td>\n",
       "      <td>F</td>\n",
       "      <td>En estudio</td>\n",
       "      <td>Leve</td>\n",
       "      <td>NaN</td>\n",
       "      <td>2020-10-13</td>\n",
       "      <td>2020-10-13</td>\n",
       "      <td>Tiempo</td>\n",
       "    </tr>\n",
       "    <tr>\n",
       "      <th>912010</th>\n",
       "      <td>2020-12-10</td>\n",
       "      <td>ANTIOQUIA</td>\n",
       "      <td>ITAGUI</td>\n",
       "      <td>30</td>\n",
       "      <td>F</td>\n",
       "      <td>En estudio</td>\n",
       "      <td>Leve</td>\n",
       "      <td>NaN</td>\n",
       "      <td>2020-06-10</td>\n",
       "      <td>2020-10-18</td>\n",
       "      <td>Tiempo</td>\n",
       "    </tr>\n",
       "    <tr>\n",
       "      <th>912188</th>\n",
       "      <td>2020-12-10</td>\n",
       "      <td>ANTIOQUIA</td>\n",
       "      <td>CALDAS</td>\n",
       "      <td>31</td>\n",
       "      <td>M</td>\n",
       "      <td>En estudio</td>\n",
       "      <td>Leve</td>\n",
       "      <td>NaN</td>\n",
       "      <td>2020-07-10</td>\n",
       "      <td>2020-10-19</td>\n",
       "      <td>Tiempo</td>\n",
       "    </tr>\n",
       "    <tr>\n",
       "      <th>912233</th>\n",
       "      <td>2020-12-10</td>\n",
       "      <td>ANTIOQUIA</td>\n",
       "      <td>BELLO</td>\n",
       "      <td>35</td>\n",
       "      <td>F</td>\n",
       "      <td>En estudio</td>\n",
       "      <td>Leve</td>\n",
       "      <td>NaN</td>\n",
       "      <td>2020-06-10</td>\n",
       "      <td>2020-10-19</td>\n",
       "      <td>Tiempo</td>\n",
       "    </tr>\n",
       "    <tr>\n",
       "      <th>912234</th>\n",
       "      <td>2020-12-10</td>\n",
       "      <td>ANTIOQUIA</td>\n",
       "      <td>MEDELLIN</td>\n",
       "      <td>36</td>\n",
       "      <td>F</td>\n",
       "      <td>En estudio</td>\n",
       "      <td>Leve</td>\n",
       "      <td>NaN</td>\n",
       "      <td>2020-09-10</td>\n",
       "      <td>2020-10-19</td>\n",
       "      <td>Tiempo</td>\n",
       "    </tr>\n",
       "    <tr>\n",
       "      <th>...</th>\n",
       "      <td>...</td>\n",
       "      <td>...</td>\n",
       "      <td>...</td>\n",
       "      <td>...</td>\n",
       "      <td>...</td>\n",
       "      <td>...</td>\n",
       "      <td>...</td>\n",
       "      <td>...</td>\n",
       "      <td>...</td>\n",
       "      <td>...</td>\n",
       "      <td>...</td>\n",
       "    </tr>\n",
       "    <tr>\n",
       "      <th>1096046</th>\n",
       "      <td>2020-12-10</td>\n",
       "      <td>SANTANDER</td>\n",
       "      <td>BUCARAMANGA</td>\n",
       "      <td>35</td>\n",
       "      <td>M</td>\n",
       "      <td>En estudio</td>\n",
       "      <td>Leve</td>\n",
       "      <td>NaN</td>\n",
       "      <td>2020-10-23</td>\n",
       "      <td>NaT</td>\n",
       "      <td>NaN</td>\n",
       "    </tr>\n",
       "    <tr>\n",
       "      <th>1096103</th>\n",
       "      <td>2020-12-10</td>\n",
       "      <td>VALLE</td>\n",
       "      <td>CARTAGO</td>\n",
       "      <td>29</td>\n",
       "      <td>F</td>\n",
       "      <td>En estudio</td>\n",
       "      <td>Leve</td>\n",
       "      <td>NaN</td>\n",
       "      <td>2020-10-23</td>\n",
       "      <td>NaT</td>\n",
       "      <td>NaN</td>\n",
       "    </tr>\n",
       "    <tr>\n",
       "      <th>1096105</th>\n",
       "      <td>2020-12-10</td>\n",
       "      <td>VALLE</td>\n",
       "      <td>CALI</td>\n",
       "      <td>45</td>\n",
       "      <td>M</td>\n",
       "      <td>En estudio</td>\n",
       "      <td>Leve</td>\n",
       "      <td>NaN</td>\n",
       "      <td>2020-10-23</td>\n",
       "      <td>NaT</td>\n",
       "      <td>NaN</td>\n",
       "    </tr>\n",
       "    <tr>\n",
       "      <th>1096117</th>\n",
       "      <td>2020-12-10</td>\n",
       "      <td>VALLE</td>\n",
       "      <td>CALI</td>\n",
       "      <td>27</td>\n",
       "      <td>F</td>\n",
       "      <td>En estudio</td>\n",
       "      <td>Leve</td>\n",
       "      <td>NaN</td>\n",
       "      <td>2020-10-23</td>\n",
       "      <td>NaT</td>\n",
       "      <td>NaN</td>\n",
       "    </tr>\n",
       "    <tr>\n",
       "      <th>1096398</th>\n",
       "      <td>2020-12-10</td>\n",
       "      <td>NARIÑO</td>\n",
       "      <td>PASTO</td>\n",
       "      <td>18</td>\n",
       "      <td>M</td>\n",
       "      <td>En estudio</td>\n",
       "      <td>Leve</td>\n",
       "      <td>NaN</td>\n",
       "      <td>2020-10-23</td>\n",
       "      <td>NaT</td>\n",
       "      <td>NaN</td>\n",
       "    </tr>\n",
       "  </tbody>\n",
       "</table>\n",
       "<p>4645 rows × 11 columns</p>\n",
       "</div>"
      ],
      "text/plain": [
       "        Fecha de notificación Nombre departamento Nombre municipio  Edad Sexo  \\\n",
       "181683             2020-12-10        BARRANQUILLA     BARRANQUILLA    21    F   \n",
       "912010             2020-12-10           ANTIOQUIA           ITAGUI    30    F   \n",
       "912188             2020-12-10           ANTIOQUIA           CALDAS    31    M   \n",
       "912233             2020-12-10           ANTIOQUIA            BELLO    35    F   \n",
       "912234             2020-12-10           ANTIOQUIA         MEDELLIN    36    F   \n",
       "...                       ...                 ...              ...   ...  ...   \n",
       "1096046            2020-12-10           SANTANDER      BUCARAMANGA    35    M   \n",
       "1096103            2020-12-10               VALLE          CARTAGO    29    F   \n",
       "1096105            2020-12-10               VALLE             CALI    45    M   \n",
       "1096117            2020-12-10               VALLE             CALI    27    F   \n",
       "1096398            2020-12-10              NARIÑO            PASTO    18    M   \n",
       "\n",
       "        Tipo de contagio Estado Fecha de muerte Fecha de diagnóstico  \\\n",
       "181683        En estudio   Leve             NaN           2020-10-13   \n",
       "912010        En estudio   Leve             NaN           2020-06-10   \n",
       "912188        En estudio   Leve             NaN           2020-07-10   \n",
       "912233        En estudio   Leve             NaN           2020-06-10   \n",
       "912234        En estudio   Leve             NaN           2020-09-10   \n",
       "...                  ...    ...             ...                  ...   \n",
       "1096046       En estudio   Leve             NaN           2020-10-23   \n",
       "1096103       En estudio   Leve             NaN           2020-10-23   \n",
       "1096105       En estudio   Leve             NaN           2020-10-23   \n",
       "1096117       En estudio   Leve             NaN           2020-10-23   \n",
       "1096398       En estudio   Leve             NaN           2020-10-23   \n",
       "\n",
       "        Fecha de recuperación Tipo de recuperación  \n",
       "181683             2020-10-13               Tiempo  \n",
       "912010             2020-10-18               Tiempo  \n",
       "912188             2020-10-19               Tiempo  \n",
       "912233             2020-10-19               Tiempo  \n",
       "912234             2020-10-19               Tiempo  \n",
       "...                       ...                  ...  \n",
       "1096046                   NaT                  NaN  \n",
       "1096103                   NaT                  NaN  \n",
       "1096105                   NaT                  NaN  \n",
       "1096117                   NaT                  NaN  \n",
       "1096398                   NaT                  NaN  \n",
       "\n",
       "[4645 rows x 11 columns]"
      ]
     },
     "execution_count": 19,
     "metadata": {},
     "output_type": "execute_result"
    }
   ],
   "source": [
    "col.loc[col['Fecha de notificación']=='2020-12-10',:]"
   ]
  },
  {
   "cell_type": "code",
   "execution_count": 20,
   "metadata": {
    "slideshow": {
     "slide_type": "subslide"
    }
   },
   "outputs": [
    {
     "data": {
      "text/plain": [
       "34910"
      ]
     },
     "execution_count": 20,
     "metadata": {},
     "output_type": "execute_result"
    }
   ],
   "source": [
    "fallecidos = col.loc[:,'Fecha de muerte'].count()\n",
    "fallecidos"
   ]
  },
  {
   "cell_type": "markdown",
   "metadata": {
    "slideshow": {
     "slide_type": "slide"
    }
   },
   "source": [
    "# TASA DE MORTALIDAD PRINCIPALES CAUSAS POR GRUPO ETARIO.\n",
    "## Factor comparativo con base en COVID-19"
   ]
  },
  {
   "cell_type": "code",
   "execution_count": 21,
   "metadata": {
    "scrolled": true,
    "slideshow": {
     "slide_type": "slide"
    }
   },
   "outputs": [
    {
     "data": {
      "text/html": [
       "<div>\n",
       "<style scoped>\n",
       "    .dataframe tbody tr th:only-of-type {\n",
       "        vertical-align: middle;\n",
       "    }\n",
       "\n",
       "    .dataframe tbody tr th {\n",
       "        vertical-align: top;\n",
       "    }\n",
       "\n",
       "    .dataframe thead th {\n",
       "        text-align: right;\n",
       "    }\n",
       "</style>\n",
       "<table border=\"1\" class=\"dataframe\">\n",
       "  <thead>\n",
       "    <tr style=\"text-align: right;\">\n",
       "      <th></th>\n",
       "      <th>Código</th>\n",
       "      <th>Causa de defunción</th>\n",
       "      <th>Total</th>\n",
       "      <th>edad 0 a 4</th>\n",
       "      <th>edad 5 a 14</th>\n",
       "      <th>edad 15 a 44</th>\n",
       "      <th>edad 45 a 64</th>\n",
       "      <th>edad 65 a 84</th>\n",
       "      <th>edad 85 a 99</th>\n",
       "      <th>edad 100 o mas</th>\n",
       "      <th>edad desconocida</th>\n",
       "      <th>Tasa de Mortalidad</th>\n",
       "      <th>Factor</th>\n",
       "    </tr>\n",
       "  </thead>\n",
       "  <tbody>\n",
       "    <tr>\n",
       "      <th>0</th>\n",
       "      <td>200-215</td>\n",
       "      <td>Neoplasias</td>\n",
       "      <td>180893.0</td>\n",
       "      <td>NaN</td>\n",
       "      <td>NaN</td>\n",
       "      <td>NaN</td>\n",
       "      <td>NaN</td>\n",
       "      <td>NaN</td>\n",
       "      <td>NaN</td>\n",
       "      <td>NaN</td>\n",
       "      <td>NaN</td>\n",
       "      <td>3617.86</td>\n",
       "      <td>3.86</td>\n",
       "    </tr>\n",
       "    <tr>\n",
       "      <th>1</th>\n",
       "      <td>303</td>\n",
       "      <td>Enfermedades isquémicas del corazón</td>\n",
       "      <td>142144.0</td>\n",
       "      <td>2.0</td>\n",
       "      <td>10.0</td>\n",
       "      <td>1450.0</td>\n",
       "      <td>11984.0</td>\n",
       "      <td>36504.0</td>\n",
       "      <td>23998.0</td>\n",
       "      <td>1082.0</td>\n",
       "      <td>2.0</td>\n",
       "      <td>2842.88</td>\n",
       "      <td>3.03</td>\n",
       "    </tr>\n",
       "    <tr>\n",
       "      <th>2</th>\n",
       "      <td>605</td>\n",
       "      <td>Enfermedades crónicas de las vías respiratoria...</td>\n",
       "      <td>60304.0</td>\n",
       "      <td>26.0</td>\n",
       "      <td>10.0</td>\n",
       "      <td>222.0</td>\n",
       "      <td>2290.0</td>\n",
       "      <td>15284.0</td>\n",
       "      <td>13514.0</td>\n",
       "      <td>486.0</td>\n",
       "      <td>0.0</td>\n",
       "      <td>1206.08</td>\n",
       "      <td>1.29</td>\n",
       "    </tr>\n",
       "    <tr>\n",
       "      <th>3</th>\n",
       "      <td>307</td>\n",
       "      <td>Enfermedades cerebrovasculares</td>\n",
       "      <td>57875.0</td>\n",
       "      <td>64.0</td>\n",
       "      <td>56.0</td>\n",
       "      <td>1202.0</td>\n",
       "      <td>5312.0</td>\n",
       "      <td>14942.0</td>\n",
       "      <td>8782.0</td>\n",
       "      <td>192.0</td>\n",
       "      <td>0.0</td>\n",
       "      <td>1157.50</td>\n",
       "      <td>1.23</td>\n",
       "    </tr>\n",
       "    <tr>\n",
       "      <th>4</th>\n",
       "      <td>999</td>\n",
       "      <td>COVID-19</td>\n",
       "      <td>34910.0</td>\n",
       "      <td>NaN</td>\n",
       "      <td>NaN</td>\n",
       "      <td>NaN</td>\n",
       "      <td>NaN</td>\n",
       "      <td>NaN</td>\n",
       "      <td>NaN</td>\n",
       "      <td>NaN</td>\n",
       "      <td>NaN</td>\n",
       "      <td>698.20</td>\n",
       "      <td>0.74</td>\n",
       "    </tr>\n",
       "    <tr>\n",
       "      <th>5</th>\n",
       "      <td>512</td>\n",
       "      <td>Agresiones (homicidios)</td>\n",
       "      <td>46914.0</td>\n",
       "      <td>90.0</td>\n",
       "      <td>192.0</td>\n",
       "      <td>19962.0</td>\n",
       "      <td>3798.0</td>\n",
       "      <td>648.0</td>\n",
       "      <td>46.0</td>\n",
       "      <td>2.0</td>\n",
       "      <td>26.0</td>\n",
       "      <td>938.28</td>\n",
       "      <td>1.00</td>\n",
       "    </tr>\n",
       "    <tr>\n",
       "      <th>6</th>\n",
       "      <td>302</td>\n",
       "      <td>Enfermedades hipertensivas</td>\n",
       "      <td>33229.0</td>\n",
       "      <td>6.0</td>\n",
       "      <td>2.0</td>\n",
       "      <td>208.0</td>\n",
       "      <td>1840.0</td>\n",
       "      <td>8182.0</td>\n",
       "      <td>7002.0</td>\n",
       "      <td>300.0</td>\n",
       "      <td>0.0</td>\n",
       "      <td>664.58</td>\n",
       "      <td>0.71</td>\n",
       "    </tr>\n",
       "    <tr>\n",
       "      <th>7</th>\n",
       "      <td>601</td>\n",
       "      <td>Diabetes mellitus</td>\n",
       "      <td>29034.0</td>\n",
       "      <td>6.0</td>\n",
       "      <td>6.0</td>\n",
       "      <td>544.0</td>\n",
       "      <td>3490.0</td>\n",
       "      <td>8090.0</td>\n",
       "      <td>3110.0</td>\n",
       "      <td>80.0</td>\n",
       "      <td>0.0</td>\n",
       "      <td>580.68</td>\n",
       "      <td>0.62</td>\n",
       "    </tr>\n",
       "    <tr>\n",
       "      <th>8</th>\n",
       "      <td>609</td>\n",
       "      <td>Resto de enfermedades del sistema digestivo</td>\n",
       "      <td>28178.0</td>\n",
       "      <td>150.0</td>\n",
       "      <td>68.0</td>\n",
       "      <td>854.0</td>\n",
       "      <td>2656.0</td>\n",
       "      <td>7230.0</td>\n",
       "      <td>3836.0</td>\n",
       "      <td>80.0</td>\n",
       "      <td>0.0</td>\n",
       "      <td>563.56</td>\n",
       "      <td>0.60</td>\n",
       "    </tr>\n",
       "    <tr>\n",
       "      <th>9</th>\n",
       "      <td>501</td>\n",
       "      <td>Accidentes de transporte terrestre</td>\n",
       "      <td>25090.0</td>\n",
       "      <td>94.0</td>\n",
       "      <td>300.0</td>\n",
       "      <td>7652.0</td>\n",
       "      <td>2976.0</td>\n",
       "      <td>1926.0</td>\n",
       "      <td>290.0</td>\n",
       "      <td>0.0</td>\n",
       "      <td>6.0</td>\n",
       "      <td>501.80</td>\n",
       "      <td>0.53</td>\n",
       "    </tr>\n",
       "    <tr>\n",
       "      <th>10</th>\n",
       "      <td>610</td>\n",
       "      <td>Enfermedades del sistema urinario</td>\n",
       "      <td>24741.0</td>\n",
       "      <td>98.0</td>\n",
       "      <td>46.0</td>\n",
       "      <td>586.0</td>\n",
       "      <td>1898.0</td>\n",
       "      <td>6078.0</td>\n",
       "      <td>4222.0</td>\n",
       "      <td>132.0</td>\n",
       "      <td>0.0</td>\n",
       "      <td>494.82</td>\n",
       "      <td>0.53</td>\n",
       "    </tr>\n",
       "    <tr>\n",
       "      <th>11</th>\n",
       "      <td>614</td>\n",
       "      <td>Resto de las enfermedades</td>\n",
       "      <td>24423.0</td>\n",
       "      <td>344.0</td>\n",
       "      <td>172.0</td>\n",
       "      <td>1802.0</td>\n",
       "      <td>2634.0</td>\n",
       "      <td>4952.0</td>\n",
       "      <td>2860.0</td>\n",
       "      <td>128.0</td>\n",
       "      <td>0.0</td>\n",
       "      <td>488.46</td>\n",
       "      <td>0.52</td>\n",
       "    </tr>\n",
       "    <tr>\n",
       "      <th>12</th>\n",
       "      <td>304</td>\n",
       "      <td>Enfermedad cardiopulmonar enfermedades de la c...</td>\n",
       "      <td>21938.0</td>\n",
       "      <td>150.0</td>\n",
       "      <td>84.0</td>\n",
       "      <td>868.0</td>\n",
       "      <td>2128.0</td>\n",
       "      <td>5510.0</td>\n",
       "      <td>2760.0</td>\n",
       "      <td>80.0</td>\n",
       "      <td>0.0</td>\n",
       "      <td>438.76</td>\n",
       "      <td>0.47</td>\n",
       "    </tr>\n",
       "    <tr>\n",
       "      <th>13</th>\n",
       "      <td>604</td>\n",
       "      <td>Enfermedades del sistema nervioso  excepto men...</td>\n",
       "      <td>20665.0</td>\n",
       "      <td>392.0</td>\n",
       "      <td>448.0</td>\n",
       "      <td>1704.0</td>\n",
       "      <td>1704.0</td>\n",
       "      <td>3930.0</td>\n",
       "      <td>2650.0</td>\n",
       "      <td>80.0</td>\n",
       "      <td>0.0</td>\n",
       "      <td>413.30</td>\n",
       "      <td>0.44</td>\n",
       "    </tr>\n",
       "  </tbody>\n",
       "</table>\n",
       "</div>"
      ],
      "text/plain": [
       "     Código                                 Causa de defunción     Total  \\\n",
       "0   200-215                                         Neoplasias  180893.0   \n",
       "1       303                Enfermedades isquémicas del corazón  142144.0   \n",
       "2       605  Enfermedades crónicas de las vías respiratoria...   60304.0   \n",
       "3       307                     Enfermedades cerebrovasculares   57875.0   \n",
       "4       999                                           COVID-19   34910.0   \n",
       "5       512                            Agresiones (homicidios)   46914.0   \n",
       "6       302                         Enfermedades hipertensivas   33229.0   \n",
       "7       601                                  Diabetes mellitus   29034.0   \n",
       "8       609        Resto de enfermedades del sistema digestivo   28178.0   \n",
       "9       501                 Accidentes de transporte terrestre   25090.0   \n",
       "10      610                  Enfermedades del sistema urinario   24741.0   \n",
       "11      614                          Resto de las enfermedades   24423.0   \n",
       "12      304  Enfermedad cardiopulmonar enfermedades de la c...   21938.0   \n",
       "13      604  Enfermedades del sistema nervioso  excepto men...   20665.0   \n",
       "\n",
       "    edad 0 a 4  edad 5 a 14  edad 15 a 44  edad 45 a 64  edad 65 a 84  \\\n",
       "0          NaN          NaN           NaN           NaN           NaN   \n",
       "1          2.0         10.0        1450.0       11984.0       36504.0   \n",
       "2         26.0         10.0         222.0        2290.0       15284.0   \n",
       "3         64.0         56.0        1202.0        5312.0       14942.0   \n",
       "4          NaN          NaN           NaN           NaN           NaN   \n",
       "5         90.0        192.0       19962.0        3798.0         648.0   \n",
       "6          6.0          2.0         208.0        1840.0        8182.0   \n",
       "7          6.0          6.0         544.0        3490.0        8090.0   \n",
       "8        150.0         68.0         854.0        2656.0        7230.0   \n",
       "9         94.0        300.0        7652.0        2976.0        1926.0   \n",
       "10        98.0         46.0         586.0        1898.0        6078.0   \n",
       "11       344.0        172.0        1802.0        2634.0        4952.0   \n",
       "12       150.0         84.0         868.0        2128.0        5510.0   \n",
       "13       392.0        448.0        1704.0        1704.0        3930.0   \n",
       "\n",
       "    edad 85 a 99  edad 100 o mas  edad desconocida  Tasa de Mortalidad  Factor  \n",
       "0            NaN             NaN               NaN             3617.86    3.86  \n",
       "1        23998.0          1082.0               2.0             2842.88    3.03  \n",
       "2        13514.0           486.0               0.0             1206.08    1.29  \n",
       "3         8782.0           192.0               0.0             1157.50    1.23  \n",
       "4            NaN             NaN               NaN              698.20    0.74  \n",
       "5           46.0             2.0              26.0              938.28    1.00  \n",
       "6         7002.0           300.0               0.0              664.58    0.71  \n",
       "7         3110.0            80.0               0.0              580.68    0.62  \n",
       "8         3836.0            80.0               0.0              563.56    0.60  \n",
       "9          290.0             0.0               6.0              501.80    0.53  \n",
       "10        4222.0           132.0               0.0              494.82    0.53  \n",
       "11        2860.0           128.0               0.0              488.46    0.52  \n",
       "12        2760.0            80.0               0.0              438.76    0.47  \n",
       "13        2650.0            80.0               0.0              413.30    0.44  "
      ]
     },
     "execution_count": 21,
     "metadata": {},
     "output_type": "execute_result"
    }
   ],
   "source": [
    "mortalidadCol= pd.read_csv('tasasMortalidad.csv', names=['Código','Causa de defunción','Total', 'edad 0 a 4', 'edad 5 a 14',\n",
    "       'edad 15 a 44', 'edad 45 a 64', 'edad 65 a 84', 'edad 85 a 99',\n",
    "       'edad 100 o mas', 'edad desconocida', 'Tasa de Mortalidad', 'Factor','nombre'], skiprows= 1)\n",
    "mortalidadCol.drop(columns= ['Factor', 'nombre', 'Tasa de Mortalidad'], inplace=True)\n",
    "mortalidadCol['Total'] = (mortalidadCol.loc[:,'Total']*(dias/180)).round(0)\n",
    "mortalidadCol.loc[4, 'Total'] = fallecidos\n",
    "mortalidadCol['Tasa de Mortalidad']= mortalidadCol.loc[:,'Total']/50 \n",
    "mortalidadCol['Factor']= (mortalidadCol.loc[:,'Tasa de Mortalidad']/mortalidadCol.loc[5,'Tasa de Mortalidad']).round(2)\n",
    "mortalidadCol"
   ]
  },
  {
   "cell_type": "markdown",
   "metadata": {
    "slideshow": {
     "slide_type": "slide"
    }
   },
   "source": [
    "# Fallecidos estimados por otras causas período \"pandemia\" :"
   ]
  },
  {
   "cell_type": "code",
   "execution_count": 22,
   "metadata": {
    "slideshow": {
     "slide_type": "subslide"
    }
   },
   "outputs": [
    {
     "data": {
      "text/plain": [
       "730338.0"
      ]
     },
     "execution_count": 22,
     "metadata": {},
     "output_type": "execute_result"
    }
   ],
   "source": [
    "a = mortalidadCol['Total'].sum()\n",
    "a"
   ]
  },
  {
   "cell_type": "markdown",
   "metadata": {
    "slideshow": {
     "slide_type": "slide"
    }
   },
   "source": [
    "# Porcentaje Fallecidos por \"COVID-19\" en relación con otras causas:"
   ]
  },
  {
   "cell_type": "code",
   "execution_count": 23,
   "metadata": {
    "slideshow": {
     "slide_type": "subslide"
    }
   },
   "outputs": [
    {
     "data": {
      "text/plain": [
       "6.42"
      ]
     },
     "execution_count": 23,
     "metadata": {},
     "output_type": "execute_result"
    }
   ],
   "source": [
    "((mortalidadCol.loc[5,'Total']/mortalidadCol['Total'].sum())*100).round(2)"
   ]
  },
  {
   "cell_type": "markdown",
   "metadata": {
    "slideshow": {
     "slide_type": "slide"
    }
   },
   "source": [
    "# Número de fallecidos por COVID19 (antes de depuración) por grupo etario:"
   ]
  },
  {
   "cell_type": "code",
   "execution_count": 24,
   "metadata": {
    "slideshow": {
     "slide_type": "subslide"
    }
   },
   "outputs": [
    {
     "data": {
      "text/plain": [
       "('CALDAS', 'MANIZALES')"
      ]
     },
     "execution_count": 24,
     "metadata": {},
     "output_type": "execute_result"
    }
   ],
   "source": [
    "localidad, localidad1"
   ]
  },
  {
   "cell_type": "markdown",
   "metadata": {
    "slideshow": {
     "slide_type": "slide"
    }
   },
   "source": [
    "etarioDefunciones.rename(columns={'Unnamed: 0':''}, inplace=True)\n",
    "etarioDefunciones"
   ]
  },
  {
   "cell_type": "code",
   "execution_count": 25,
   "metadata": {
    "slideshow": {
     "slide_type": "subslide"
    }
   },
   "outputs": [
    {
     "data": {
      "text/html": [
       "<div>\n",
       "<style scoped>\n",
       "    .dataframe tbody tr th:only-of-type {\n",
       "        vertical-align: middle;\n",
       "    }\n",
       "\n",
       "    .dataframe tbody tr th {\n",
       "        vertical-align: top;\n",
       "    }\n",
       "\n",
       "    .dataframe thead th {\n",
       "        text-align: right;\n",
       "    }\n",
       "</style>\n",
       "<table border=\"1\" class=\"dataframe\">\n",
       "  <thead>\n",
       "    <tr style=\"text-align: right;\">\n",
       "      <th></th>\n",
       "      <th></th>\n",
       "      <th>edad 0 a 4</th>\n",
       "      <th>edad 5 a 14</th>\n",
       "      <th>edad 15 a 44</th>\n",
       "      <th>edad 45 a 64</th>\n",
       "      <th>edad 65 a 84</th>\n",
       "      <th>edad 85 a 99</th>\n",
       "      <th>edad 100 o mas</th>\n",
       "      <th>Total fallecidos</th>\n",
       "    </tr>\n",
       "  </thead>\n",
       "  <tbody>\n",
       "    <tr>\n",
       "      <th>0</th>\n",
       "      <td>Número fallecidos</td>\n",
       "      <td>70</td>\n",
       "      <td>68</td>\n",
       "      <td>2716</td>\n",
       "      <td>10069</td>\n",
       "      <td>17639</td>\n",
       "      <td>4300</td>\n",
       "      <td>48</td>\n",
       "      <td>34910</td>\n",
       "    </tr>\n",
       "  </tbody>\n",
       "</table>\n",
       "</div>"
      ],
      "text/plain": [
       "                      edad 0 a 4  edad 5 a 14  edad 15 a 44  edad 45 a 64  \\\n",
       "0  Número fallecidos          70           68          2716         10069   \n",
       "\n",
       "   edad 65 a 84  edad 85 a 99  edad 100 o mas  Total fallecidos  \n",
       "0         17639          4300              48             34910  "
      ]
     },
     "execution_count": 25,
     "metadata": {},
     "output_type": "execute_result"
    }
   ],
   "source": [
    "etarioDefuncionesColombia.rename(columns={'Unnamed: 0':''}, inplace=True)\n",
    "etarioDefuncionesColombia"
   ]
  },
  {
   "cell_type": "markdown",
   "metadata": {
    "slideshow": {
     "slide_type": "slide"
    }
   },
   "source": [
    "# Tabla Colombia: Tasa de mortalidad.  Fallecidos por grupo etario. \n",
    "# Factor causa 'x'/CoVid-19"
   ]
  },
  {
   "cell_type": "code",
   "execution_count": 26,
   "metadata": {
    "slideshow": {
     "slide_type": "slide"
    }
   },
   "outputs": [
    {
     "data": {
      "text/html": [
       "<div>\n",
       "<style scoped>\n",
       "    .dataframe tbody tr th:only-of-type {\n",
       "        vertical-align: middle;\n",
       "    }\n",
       "\n",
       "    .dataframe tbody tr th {\n",
       "        vertical-align: top;\n",
       "    }\n",
       "\n",
       "    .dataframe thead th {\n",
       "        text-align: right;\n",
       "    }\n",
       "</style>\n",
       "<table border=\"1\" class=\"dataframe\">\n",
       "  <thead>\n",
       "    <tr style=\"text-align: right;\">\n",
       "      <th></th>\n",
       "      <th>Código</th>\n",
       "      <th>Causa de defunción</th>\n",
       "      <th>Total</th>\n",
       "      <th>edad 0 a 4</th>\n",
       "      <th>edad 5 a 14</th>\n",
       "      <th>edad 15 a 44</th>\n",
       "      <th>edad 45 a 64</th>\n",
       "      <th>edad 65 a 84</th>\n",
       "      <th>edad 85 a 99</th>\n",
       "      <th>edad 100 o mas</th>\n",
       "      <th>edad desconocida</th>\n",
       "      <th>Tasa de Mortalidad</th>\n",
       "      <th>Factor</th>\n",
       "    </tr>\n",
       "  </thead>\n",
       "  <tbody>\n",
       "    <tr>\n",
       "      <th>0</th>\n",
       "      <td>200-215</td>\n",
       "      <td>Neoplasias</td>\n",
       "      <td>180893.0</td>\n",
       "      <td>NaN</td>\n",
       "      <td>NaN</td>\n",
       "      <td>NaN</td>\n",
       "      <td>NaN</td>\n",
       "      <td>NaN</td>\n",
       "      <td>NaN</td>\n",
       "      <td>NaN</td>\n",
       "      <td>NaN</td>\n",
       "      <td>3617.86</td>\n",
       "      <td>3.86</td>\n",
       "    </tr>\n",
       "    <tr>\n",
       "      <th>1</th>\n",
       "      <td>303</td>\n",
       "      <td>Enfermedades isquémicas del corazón</td>\n",
       "      <td>142144.0</td>\n",
       "      <td>2.0</td>\n",
       "      <td>10.0</td>\n",
       "      <td>1450.0</td>\n",
       "      <td>11984.0</td>\n",
       "      <td>36504.0</td>\n",
       "      <td>23998.0</td>\n",
       "      <td>1082.0</td>\n",
       "      <td>2.0</td>\n",
       "      <td>2842.88</td>\n",
       "      <td>3.03</td>\n",
       "    </tr>\n",
       "    <tr>\n",
       "      <th>2</th>\n",
       "      <td>605</td>\n",
       "      <td>Enfermedades crónicas de las vías respiratoria...</td>\n",
       "      <td>60304.0</td>\n",
       "      <td>26.0</td>\n",
       "      <td>10.0</td>\n",
       "      <td>222.0</td>\n",
       "      <td>2290.0</td>\n",
       "      <td>15284.0</td>\n",
       "      <td>13514.0</td>\n",
       "      <td>486.0</td>\n",
       "      <td>0.0</td>\n",
       "      <td>1206.08</td>\n",
       "      <td>1.29</td>\n",
       "    </tr>\n",
       "    <tr>\n",
       "      <th>3</th>\n",
       "      <td>307</td>\n",
       "      <td>Enfermedades cerebrovasculares</td>\n",
       "      <td>57875.0</td>\n",
       "      <td>64.0</td>\n",
       "      <td>56.0</td>\n",
       "      <td>1202.0</td>\n",
       "      <td>5312.0</td>\n",
       "      <td>14942.0</td>\n",
       "      <td>8782.0</td>\n",
       "      <td>192.0</td>\n",
       "      <td>0.0</td>\n",
       "      <td>1157.50</td>\n",
       "      <td>1.23</td>\n",
       "    </tr>\n",
       "    <tr>\n",
       "      <th>4</th>\n",
       "      <td>999</td>\n",
       "      <td>COVID-19</td>\n",
       "      <td>34910.0</td>\n",
       "      <td>NaN</td>\n",
       "      <td>NaN</td>\n",
       "      <td>NaN</td>\n",
       "      <td>NaN</td>\n",
       "      <td>NaN</td>\n",
       "      <td>NaN</td>\n",
       "      <td>NaN</td>\n",
       "      <td>NaN</td>\n",
       "      <td>698.20</td>\n",
       "      <td>0.74</td>\n",
       "    </tr>\n",
       "    <tr>\n",
       "      <th>5</th>\n",
       "      <td>512</td>\n",
       "      <td>Agresiones (homicidios)</td>\n",
       "      <td>46914.0</td>\n",
       "      <td>70.0</td>\n",
       "      <td>68.0</td>\n",
       "      <td>2716.0</td>\n",
       "      <td>10069.0</td>\n",
       "      <td>17639.0</td>\n",
       "      <td>4300.0</td>\n",
       "      <td>48.0</td>\n",
       "      <td>26.0</td>\n",
       "      <td>938.28</td>\n",
       "      <td>1.00</td>\n",
       "    </tr>\n",
       "    <tr>\n",
       "      <th>6</th>\n",
       "      <td>302</td>\n",
       "      <td>Enfermedades hipertensivas</td>\n",
       "      <td>33229.0</td>\n",
       "      <td>6.0</td>\n",
       "      <td>2.0</td>\n",
       "      <td>208.0</td>\n",
       "      <td>1840.0</td>\n",
       "      <td>8182.0</td>\n",
       "      <td>7002.0</td>\n",
       "      <td>300.0</td>\n",
       "      <td>0.0</td>\n",
       "      <td>664.58</td>\n",
       "      <td>0.71</td>\n",
       "    </tr>\n",
       "    <tr>\n",
       "      <th>7</th>\n",
       "      <td>601</td>\n",
       "      <td>Diabetes mellitus</td>\n",
       "      <td>29034.0</td>\n",
       "      <td>6.0</td>\n",
       "      <td>6.0</td>\n",
       "      <td>544.0</td>\n",
       "      <td>3490.0</td>\n",
       "      <td>8090.0</td>\n",
       "      <td>3110.0</td>\n",
       "      <td>80.0</td>\n",
       "      <td>0.0</td>\n",
       "      <td>580.68</td>\n",
       "      <td>0.62</td>\n",
       "    </tr>\n",
       "    <tr>\n",
       "      <th>8</th>\n",
       "      <td>609</td>\n",
       "      <td>Resto de enfermedades del sistema digestivo</td>\n",
       "      <td>28178.0</td>\n",
       "      <td>150.0</td>\n",
       "      <td>68.0</td>\n",
       "      <td>854.0</td>\n",
       "      <td>2656.0</td>\n",
       "      <td>7230.0</td>\n",
       "      <td>3836.0</td>\n",
       "      <td>80.0</td>\n",
       "      <td>0.0</td>\n",
       "      <td>563.56</td>\n",
       "      <td>0.60</td>\n",
       "    </tr>\n",
       "    <tr>\n",
       "      <th>9</th>\n",
       "      <td>501</td>\n",
       "      <td>Accidentes de transporte terrestre</td>\n",
       "      <td>25090.0</td>\n",
       "      <td>94.0</td>\n",
       "      <td>300.0</td>\n",
       "      <td>7652.0</td>\n",
       "      <td>2976.0</td>\n",
       "      <td>1926.0</td>\n",
       "      <td>290.0</td>\n",
       "      <td>0.0</td>\n",
       "      <td>6.0</td>\n",
       "      <td>501.80</td>\n",
       "      <td>0.53</td>\n",
       "    </tr>\n",
       "    <tr>\n",
       "      <th>10</th>\n",
       "      <td>610</td>\n",
       "      <td>Enfermedades del sistema urinario</td>\n",
       "      <td>24741.0</td>\n",
       "      <td>98.0</td>\n",
       "      <td>46.0</td>\n",
       "      <td>586.0</td>\n",
       "      <td>1898.0</td>\n",
       "      <td>6078.0</td>\n",
       "      <td>4222.0</td>\n",
       "      <td>132.0</td>\n",
       "      <td>0.0</td>\n",
       "      <td>494.82</td>\n",
       "      <td>0.53</td>\n",
       "    </tr>\n",
       "    <tr>\n",
       "      <th>11</th>\n",
       "      <td>614</td>\n",
       "      <td>Resto de las enfermedades</td>\n",
       "      <td>24423.0</td>\n",
       "      <td>344.0</td>\n",
       "      <td>172.0</td>\n",
       "      <td>1802.0</td>\n",
       "      <td>2634.0</td>\n",
       "      <td>4952.0</td>\n",
       "      <td>2860.0</td>\n",
       "      <td>128.0</td>\n",
       "      <td>0.0</td>\n",
       "      <td>488.46</td>\n",
       "      <td>0.52</td>\n",
       "    </tr>\n",
       "    <tr>\n",
       "      <th>12</th>\n",
       "      <td>304</td>\n",
       "      <td>Enfermedad cardiopulmonar enfermedades de la c...</td>\n",
       "      <td>21938.0</td>\n",
       "      <td>150.0</td>\n",
       "      <td>84.0</td>\n",
       "      <td>868.0</td>\n",
       "      <td>2128.0</td>\n",
       "      <td>5510.0</td>\n",
       "      <td>2760.0</td>\n",
       "      <td>80.0</td>\n",
       "      <td>0.0</td>\n",
       "      <td>438.76</td>\n",
       "      <td>0.47</td>\n",
       "    </tr>\n",
       "    <tr>\n",
       "      <th>13</th>\n",
       "      <td>604</td>\n",
       "      <td>Enfermedades del sistema nervioso  excepto men...</td>\n",
       "      <td>20665.0</td>\n",
       "      <td>392.0</td>\n",
       "      <td>448.0</td>\n",
       "      <td>1704.0</td>\n",
       "      <td>1704.0</td>\n",
       "      <td>3930.0</td>\n",
       "      <td>2650.0</td>\n",
       "      <td>80.0</td>\n",
       "      <td>0.0</td>\n",
       "      <td>413.30</td>\n",
       "      <td>0.44</td>\n",
       "    </tr>\n",
       "  </tbody>\n",
       "</table>\n",
       "</div>"
      ],
      "text/plain": [
       "     Código                                 Causa de defunción     Total  \\\n",
       "0   200-215                                         Neoplasias  180893.0   \n",
       "1       303                Enfermedades isquémicas del corazón  142144.0   \n",
       "2       605  Enfermedades crónicas de las vías respiratoria...   60304.0   \n",
       "3       307                     Enfermedades cerebrovasculares   57875.0   \n",
       "4       999                                           COVID-19   34910.0   \n",
       "5       512                            Agresiones (homicidios)   46914.0   \n",
       "6       302                         Enfermedades hipertensivas   33229.0   \n",
       "7       601                                  Diabetes mellitus   29034.0   \n",
       "8       609        Resto de enfermedades del sistema digestivo   28178.0   \n",
       "9       501                 Accidentes de transporte terrestre   25090.0   \n",
       "10      610                  Enfermedades del sistema urinario   24741.0   \n",
       "11      614                          Resto de las enfermedades   24423.0   \n",
       "12      304  Enfermedad cardiopulmonar enfermedades de la c...   21938.0   \n",
       "13      604  Enfermedades del sistema nervioso  excepto men...   20665.0   \n",
       "\n",
       "    edad 0 a 4  edad 5 a 14  edad 15 a 44  edad 45 a 64  edad 65 a 84  \\\n",
       "0          NaN          NaN           NaN           NaN           NaN   \n",
       "1          2.0         10.0        1450.0       11984.0       36504.0   \n",
       "2         26.0         10.0         222.0        2290.0       15284.0   \n",
       "3         64.0         56.0        1202.0        5312.0       14942.0   \n",
       "4          NaN          NaN           NaN           NaN           NaN   \n",
       "5         70.0         68.0        2716.0       10069.0       17639.0   \n",
       "6          6.0          2.0         208.0        1840.0        8182.0   \n",
       "7          6.0          6.0         544.0        3490.0        8090.0   \n",
       "8        150.0         68.0         854.0        2656.0        7230.0   \n",
       "9         94.0        300.0        7652.0        2976.0        1926.0   \n",
       "10        98.0         46.0         586.0        1898.0        6078.0   \n",
       "11       344.0        172.0        1802.0        2634.0        4952.0   \n",
       "12       150.0         84.0         868.0        2128.0        5510.0   \n",
       "13       392.0        448.0        1704.0        1704.0        3930.0   \n",
       "\n",
       "    edad 85 a 99  edad 100 o mas  edad desconocida  Tasa de Mortalidad  Factor  \n",
       "0            NaN             NaN               NaN             3617.86    3.86  \n",
       "1        23998.0          1082.0               2.0             2842.88    3.03  \n",
       "2        13514.0           486.0               0.0             1206.08    1.29  \n",
       "3         8782.0           192.0               0.0             1157.50    1.23  \n",
       "4            NaN             NaN               NaN              698.20    0.74  \n",
       "5         4300.0            48.0              26.0              938.28    1.00  \n",
       "6         7002.0           300.0               0.0              664.58    0.71  \n",
       "7         3110.0            80.0               0.0              580.68    0.62  \n",
       "8         3836.0            80.0               0.0              563.56    0.60  \n",
       "9          290.0             0.0               6.0              501.80    0.53  \n",
       "10        4222.0           132.0               0.0              494.82    0.53  \n",
       "11        2860.0           128.0               0.0              488.46    0.52  \n",
       "12        2760.0            80.0               0.0              438.76    0.47  \n",
       "13        2650.0            80.0               0.0              413.30    0.44  "
      ]
     },
     "execution_count": 26,
     "metadata": {},
     "output_type": "execute_result"
    }
   ],
   "source": [
    "mortalidadCol.loc[5,'edad 0 a 4']= etarioDefuncionesColombia.loc[0,'edad 0 a 4']\n",
    "mortalidadCol.loc[5,'edad 5 a 14']= etarioDefuncionesColombia.loc[0,'edad 5 a 14']\n",
    "mortalidadCol.loc[5,'edad 15 a 44']= etarioDefuncionesColombia.loc[0,'edad 15 a 44']\n",
    "mortalidadCol.loc[5,'edad 45 a 64']= etarioDefuncionesColombia.loc[0,'edad 45 a 64']\n",
    "mortalidadCol.loc[5,'edad 65 a 84']= etarioDefuncionesColombia.loc[0,'edad 65 a 84']\n",
    "mortalidadCol.loc[5,'edad 85 a 99']= etarioDefuncionesColombia.loc[0,'edad 85 a 99']\n",
    "mortalidadCol.loc[5,'edad 100 o mas']= etarioDefuncionesColombia.loc[0,'edad 100 o mas']\n",
    "mortalidadCol"
   ]
  },
  {
   "cell_type": "code",
   "execution_count": 27,
   "metadata": {
    "slideshow": {
     "slide_type": "slide"
    }
   },
   "outputs": [
    {
     "data": {
      "text/html": [
       "<div>\n",
       "<style scoped>\n",
       "    .dataframe tbody tr th:only-of-type {\n",
       "        vertical-align: middle;\n",
       "    }\n",
       "\n",
       "    .dataframe tbody tr th {\n",
       "        vertical-align: top;\n",
       "    }\n",
       "\n",
       "    .dataframe thead th {\n",
       "        text-align: right;\n",
       "    }\n",
       "</style>\n",
       "<table border=\"1\" class=\"dataframe\">\n",
       "  <thead>\n",
       "    <tr style=\"text-align: right;\">\n",
       "      <th></th>\n",
       "      <th>DEPARTAMENTO</th>\n",
       "      <th>MUNICIPIO</th>\n",
       "      <th>edad 100 o mas</th>\n",
       "      <th>Total Hombres</th>\n",
       "      <th>Total Mujeres</th>\n",
       "      <th>Total</th>\n",
       "      <th>edad 0 a 4</th>\n",
       "      <th>edad 5 a 14</th>\n",
       "      <th>edad 15 a 44</th>\n",
       "      <th>edad 45 a 64</th>\n",
       "      <th>edad 65 a 84</th>\n",
       "      <th>edad 85 a 99</th>\n",
       "    </tr>\n",
       "    <tr>\n",
       "      <th>INDICE</th>\n",
       "      <th></th>\n",
       "      <th></th>\n",
       "      <th></th>\n",
       "      <th></th>\n",
       "      <th></th>\n",
       "      <th></th>\n",
       "      <th></th>\n",
       "      <th></th>\n",
       "      <th></th>\n",
       "      <th></th>\n",
       "      <th></th>\n",
       "      <th></th>\n",
       "    </tr>\n",
       "  </thead>\n",
       "  <tbody>\n",
       "    <tr>\n",
       "      <th>0</th>\n",
       "      <td>CALDAS</td>\n",
       "      <td>MANIZALES</td>\n",
       "      <td>201</td>\n",
       "      <td>210254</td>\n",
       "      <td>235906</td>\n",
       "      <td>446160</td>\n",
       "      <td>23587</td>\n",
       "      <td>50227</td>\n",
       "      <td>198767</td>\n",
       "      <td>113931</td>\n",
       "      <td>53426</td>\n",
       "      <td>6021</td>\n",
       "    </tr>\n",
       "  </tbody>\n",
       "</table>\n",
       "</div>"
      ],
      "text/plain": [
       "       DEPARTAMENTO  MUNICIPIO  edad 100 o mas  Total Hombres  Total Mujeres  \\\n",
       "INDICE                                                                         \n",
       "0            CALDAS  MANIZALES             201         210254         235906   \n",
       "\n",
       "         Total  edad 0 a 4  edad 5 a 14  edad 15 a 44  edad 45 a 64  \\\n",
       "INDICE                                                                \n",
       "0       446160       23587        50227        198767        113931   \n",
       "\n",
       "        edad 65 a 84  edad 85 a 99  \n",
       "INDICE                              \n",
       "0              53426          6021  "
      ]
     },
     "execution_count": 27,
     "metadata": {},
     "output_type": "execute_result"
    }
   ],
   "source": [
    "etariosporMunic"
   ]
  },
  {
   "cell_type": "code",
   "execution_count": 28,
   "metadata": {
    "slideshow": {
     "slide_type": "slide"
    }
   },
   "outputs": [],
   "source": [
    "mortalidadCol['TM_0_4'] = ((mortalidadCol['edad 0 a 4']/etariosporMunic.loc[0,'edad 0 a 4'])*1000000).round(2)\n",
    "mortalidadCol['TM_5_14'] = ((mortalidadCol['edad 5 a 14']/etariosporMunic.loc[0,'edad 0 a 4'])*1000000).round(2)\n",
    "mortalidadCol['TM_15_44'] = ((mortalidadCol['edad 15 a 44']/etariosporMunic.loc[0,'edad 0 a 4'])*1000000).round(2)\n",
    "mortalidadCol['TM_45_64'] = ((mortalidadCol['edad 45 a 64']/etariosporMunic.loc[0,'edad 0 a 4'])*1000000).round(2)\n",
    "mortalidadCol['TM_65_84'] = ((mortalidadCol['edad 65 a 84']/etariosporMunic.loc[0,'edad 0 a 4'])*1000000).round(2)\n",
    "mortalidadCol['TM_85_99'] = ((mortalidadCol['edad 85 a 99']/etariosporMunic.loc[0,'edad 0 a 4'])*1000000).round(2)\n",
    "mortalidadCol['TM_100 o más'] = ((mortalidadCol['edad 100 o mas']/etariosporMunic.loc[0,'edad 0 a 4'])*1000000).round(2)"
   ]
  },
  {
   "cell_type": "code",
   "execution_count": 29,
   "metadata": {
    "slideshow": {
     "slide_type": "slide"
    }
   },
   "outputs": [
    {
     "data": {
      "text/html": [
       "<div>\n",
       "<style scoped>\n",
       "    .dataframe tbody tr th:only-of-type {\n",
       "        vertical-align: middle;\n",
       "    }\n",
       "\n",
       "    .dataframe tbody tr th {\n",
       "        vertical-align: top;\n",
       "    }\n",
       "\n",
       "    .dataframe thead th {\n",
       "        text-align: right;\n",
       "    }\n",
       "</style>\n",
       "<table border=\"1\" class=\"dataframe\">\n",
       "  <thead>\n",
       "    <tr style=\"text-align: right;\">\n",
       "      <th></th>\n",
       "      <th>Código</th>\n",
       "      <th>Causa de defunción</th>\n",
       "      <th>Total</th>\n",
       "      <th>edad 0 a 4</th>\n",
       "      <th>edad 5 a 14</th>\n",
       "      <th>edad 15 a 44</th>\n",
       "      <th>edad 45 a 64</th>\n",
       "      <th>edad 65 a 84</th>\n",
       "      <th>edad 85 a 99</th>\n",
       "      <th>edad 100 o mas</th>\n",
       "      <th>edad desconocida</th>\n",
       "      <th>Tasa de Mortalidad</th>\n",
       "      <th>Factor</th>\n",
       "      <th>TM_0_4</th>\n",
       "      <th>TM_5_14</th>\n",
       "      <th>TM_15_44</th>\n",
       "      <th>TM_45_64</th>\n",
       "      <th>TM_65_84</th>\n",
       "      <th>TM_85_99</th>\n",
       "      <th>TM_100 o más</th>\n",
       "    </tr>\n",
       "  </thead>\n",
       "  <tbody>\n",
       "    <tr>\n",
       "      <th>0</th>\n",
       "      <td>200-215</td>\n",
       "      <td>Neoplasias</td>\n",
       "      <td>180893.0</td>\n",
       "      <td>NaN</td>\n",
       "      <td>NaN</td>\n",
       "      <td>NaN</td>\n",
       "      <td>NaN</td>\n",
       "      <td>NaN</td>\n",
       "      <td>NaN</td>\n",
       "      <td>NaN</td>\n",
       "      <td>NaN</td>\n",
       "      <td>3617.86</td>\n",
       "      <td>3.86</td>\n",
       "      <td>NaN</td>\n",
       "      <td>NaN</td>\n",
       "      <td>NaN</td>\n",
       "      <td>NaN</td>\n",
       "      <td>NaN</td>\n",
       "      <td>NaN</td>\n",
       "      <td>NaN</td>\n",
       "    </tr>\n",
       "    <tr>\n",
       "      <th>1</th>\n",
       "      <td>303</td>\n",
       "      <td>Enfermedades isquémicas del corazón</td>\n",
       "      <td>142144.0</td>\n",
       "      <td>2.0</td>\n",
       "      <td>10.0</td>\n",
       "      <td>1450.0</td>\n",
       "      <td>11984.0</td>\n",
       "      <td>36504.0</td>\n",
       "      <td>23998.0</td>\n",
       "      <td>1082.0</td>\n",
       "      <td>2.0</td>\n",
       "      <td>2842.88</td>\n",
       "      <td>3.03</td>\n",
       "      <td>84.79</td>\n",
       "      <td>423.96</td>\n",
       "      <td>61474.54</td>\n",
       "      <td>508076.48</td>\n",
       "      <td>1547632.17</td>\n",
       "      <td>1017424.85</td>\n",
       "      <td>45872.73</td>\n",
       "    </tr>\n",
       "    <tr>\n",
       "      <th>2</th>\n",
       "      <td>605</td>\n",
       "      <td>Enfermedades crónicas de las vías respiratoria...</td>\n",
       "      <td>60304.0</td>\n",
       "      <td>26.0</td>\n",
       "      <td>10.0</td>\n",
       "      <td>222.0</td>\n",
       "      <td>2290.0</td>\n",
       "      <td>15284.0</td>\n",
       "      <td>13514.0</td>\n",
       "      <td>486.0</td>\n",
       "      <td>0.0</td>\n",
       "      <td>1206.08</td>\n",
       "      <td>1.29</td>\n",
       "      <td>1102.30</td>\n",
       "      <td>423.96</td>\n",
       "      <td>9411.96</td>\n",
       "      <td>97087.38</td>\n",
       "      <td>647984.06</td>\n",
       "      <td>572942.72</td>\n",
       "      <td>20604.57</td>\n",
       "    </tr>\n",
       "    <tr>\n",
       "      <th>3</th>\n",
       "      <td>307</td>\n",
       "      <td>Enfermedades cerebrovasculares</td>\n",
       "      <td>57875.0</td>\n",
       "      <td>64.0</td>\n",
       "      <td>56.0</td>\n",
       "      <td>1202.0</td>\n",
       "      <td>5312.0</td>\n",
       "      <td>14942.0</td>\n",
       "      <td>8782.0</td>\n",
       "      <td>192.0</td>\n",
       "      <td>0.0</td>\n",
       "      <td>1157.50</td>\n",
       "      <td>1.23</td>\n",
       "      <td>2713.36</td>\n",
       "      <td>2374.19</td>\n",
       "      <td>50960.27</td>\n",
       "      <td>225208.80</td>\n",
       "      <td>633484.55</td>\n",
       "      <td>372323.74</td>\n",
       "      <td>8140.08</td>\n",
       "    </tr>\n",
       "    <tr>\n",
       "      <th>4</th>\n",
       "      <td>999</td>\n",
       "      <td>COVID-19</td>\n",
       "      <td>34910.0</td>\n",
       "      <td>NaN</td>\n",
       "      <td>NaN</td>\n",
       "      <td>NaN</td>\n",
       "      <td>NaN</td>\n",
       "      <td>NaN</td>\n",
       "      <td>NaN</td>\n",
       "      <td>NaN</td>\n",
       "      <td>NaN</td>\n",
       "      <td>698.20</td>\n",
       "      <td>0.74</td>\n",
       "      <td>NaN</td>\n",
       "      <td>NaN</td>\n",
       "      <td>NaN</td>\n",
       "      <td>NaN</td>\n",
       "      <td>NaN</td>\n",
       "      <td>NaN</td>\n",
       "      <td>NaN</td>\n",
       "    </tr>\n",
       "    <tr>\n",
       "      <th>5</th>\n",
       "      <td>512</td>\n",
       "      <td>Agresiones (homicidios)</td>\n",
       "      <td>46914.0</td>\n",
       "      <td>70.0</td>\n",
       "      <td>68.0</td>\n",
       "      <td>2716.0</td>\n",
       "      <td>10069.0</td>\n",
       "      <td>17639.0</td>\n",
       "      <td>4300.0</td>\n",
       "      <td>48.0</td>\n",
       "      <td>26.0</td>\n",
       "      <td>938.28</td>\n",
       "      <td>1.00</td>\n",
       "      <td>2967.74</td>\n",
       "      <td>2882.94</td>\n",
       "      <td>115148.17</td>\n",
       "      <td>426887.69</td>\n",
       "      <td>747827.19</td>\n",
       "      <td>182303.81</td>\n",
       "      <td>2035.02</td>\n",
       "    </tr>\n",
       "    <tr>\n",
       "      <th>6</th>\n",
       "      <td>302</td>\n",
       "      <td>Enfermedades hipertensivas</td>\n",
       "      <td>33229.0</td>\n",
       "      <td>6.0</td>\n",
       "      <td>2.0</td>\n",
       "      <td>208.0</td>\n",
       "      <td>1840.0</td>\n",
       "      <td>8182.0</td>\n",
       "      <td>7002.0</td>\n",
       "      <td>300.0</td>\n",
       "      <td>0.0</td>\n",
       "      <td>664.58</td>\n",
       "      <td>0.71</td>\n",
       "      <td>254.38</td>\n",
       "      <td>84.79</td>\n",
       "      <td>8818.42</td>\n",
       "      <td>78009.07</td>\n",
       "      <td>346886.00</td>\n",
       "      <td>296858.44</td>\n",
       "      <td>12718.87</td>\n",
       "    </tr>\n",
       "    <tr>\n",
       "      <th>7</th>\n",
       "      <td>601</td>\n",
       "      <td>Diabetes mellitus</td>\n",
       "      <td>29034.0</td>\n",
       "      <td>6.0</td>\n",
       "      <td>6.0</td>\n",
       "      <td>544.0</td>\n",
       "      <td>3490.0</td>\n",
       "      <td>8090.0</td>\n",
       "      <td>3110.0</td>\n",
       "      <td>80.0</td>\n",
       "      <td>0.0</td>\n",
       "      <td>580.68</td>\n",
       "      <td>0.62</td>\n",
       "      <td>254.38</td>\n",
       "      <td>254.38</td>\n",
       "      <td>23063.55</td>\n",
       "      <td>147962.86</td>\n",
       "      <td>342985.54</td>\n",
       "      <td>131852.29</td>\n",
       "      <td>3391.70</td>\n",
       "    </tr>\n",
       "    <tr>\n",
       "      <th>8</th>\n",
       "      <td>609</td>\n",
       "      <td>Resto de enfermedades del sistema digestivo</td>\n",
       "      <td>28178.0</td>\n",
       "      <td>150.0</td>\n",
       "      <td>68.0</td>\n",
       "      <td>854.0</td>\n",
       "      <td>2656.0</td>\n",
       "      <td>7230.0</td>\n",
       "      <td>3836.0</td>\n",
       "      <td>80.0</td>\n",
       "      <td>0.0</td>\n",
       "      <td>563.56</td>\n",
       "      <td>0.60</td>\n",
       "      <td>6359.44</td>\n",
       "      <td>2882.94</td>\n",
       "      <td>36206.38</td>\n",
       "      <td>112604.40</td>\n",
       "      <td>306524.78</td>\n",
       "      <td>162631.96</td>\n",
       "      <td>3391.70</td>\n",
       "    </tr>\n",
       "    <tr>\n",
       "      <th>9</th>\n",
       "      <td>501</td>\n",
       "      <td>Accidentes de transporte terrestre</td>\n",
       "      <td>25090.0</td>\n",
       "      <td>94.0</td>\n",
       "      <td>300.0</td>\n",
       "      <td>7652.0</td>\n",
       "      <td>2976.0</td>\n",
       "      <td>1926.0</td>\n",
       "      <td>290.0</td>\n",
       "      <td>0.0</td>\n",
       "      <td>6.0</td>\n",
       "      <td>501.80</td>\n",
       "      <td>0.53</td>\n",
       "      <td>3985.25</td>\n",
       "      <td>12718.87</td>\n",
       "      <td>324415.99</td>\n",
       "      <td>126171.20</td>\n",
       "      <td>81655.15</td>\n",
       "      <td>12294.91</td>\n",
       "      <td>0.00</td>\n",
       "    </tr>\n",
       "    <tr>\n",
       "      <th>10</th>\n",
       "      <td>610</td>\n",
       "      <td>Enfermedades del sistema urinario</td>\n",
       "      <td>24741.0</td>\n",
       "      <td>98.0</td>\n",
       "      <td>46.0</td>\n",
       "      <td>586.0</td>\n",
       "      <td>1898.0</td>\n",
       "      <td>6078.0</td>\n",
       "      <td>4222.0</td>\n",
       "      <td>132.0</td>\n",
       "      <td>0.0</td>\n",
       "      <td>494.82</td>\n",
       "      <td>0.53</td>\n",
       "      <td>4154.83</td>\n",
       "      <td>1950.23</td>\n",
       "      <td>24844.19</td>\n",
       "      <td>80468.05</td>\n",
       "      <td>257684.32</td>\n",
       "      <td>178996.91</td>\n",
       "      <td>5596.30</td>\n",
       "    </tr>\n",
       "    <tr>\n",
       "      <th>11</th>\n",
       "      <td>614</td>\n",
       "      <td>Resto de las enfermedades</td>\n",
       "      <td>24423.0</td>\n",
       "      <td>344.0</td>\n",
       "      <td>172.0</td>\n",
       "      <td>1802.0</td>\n",
       "      <td>2634.0</td>\n",
       "      <td>4952.0</td>\n",
       "      <td>2860.0</td>\n",
       "      <td>128.0</td>\n",
       "      <td>0.0</td>\n",
       "      <td>488.46</td>\n",
       "      <td>0.52</td>\n",
       "      <td>14584.30</td>\n",
       "      <td>7292.15</td>\n",
       "      <td>76398.02</td>\n",
       "      <td>111671.68</td>\n",
       "      <td>209946.16</td>\n",
       "      <td>121253.23</td>\n",
       "      <td>5426.72</td>\n",
       "    </tr>\n",
       "    <tr>\n",
       "      <th>12</th>\n",
       "      <td>304</td>\n",
       "      <td>Enfermedad cardiopulmonar enfermedades de la c...</td>\n",
       "      <td>21938.0</td>\n",
       "      <td>150.0</td>\n",
       "      <td>84.0</td>\n",
       "      <td>868.0</td>\n",
       "      <td>2128.0</td>\n",
       "      <td>5510.0</td>\n",
       "      <td>2760.0</td>\n",
       "      <td>80.0</td>\n",
       "      <td>0.0</td>\n",
       "      <td>438.76</td>\n",
       "      <td>0.47</td>\n",
       "      <td>6359.44</td>\n",
       "      <td>3561.28</td>\n",
       "      <td>36799.93</td>\n",
       "      <td>90219.19</td>\n",
       "      <td>233603.26</td>\n",
       "      <td>117013.61</td>\n",
       "      <td>3391.70</td>\n",
       "    </tr>\n",
       "    <tr>\n",
       "      <th>13</th>\n",
       "      <td>604</td>\n",
       "      <td>Enfermedades del sistema nervioso  excepto men...</td>\n",
       "      <td>20665.0</td>\n",
       "      <td>392.0</td>\n",
       "      <td>448.0</td>\n",
       "      <td>1704.0</td>\n",
       "      <td>1704.0</td>\n",
       "      <td>3930.0</td>\n",
       "      <td>2650.0</td>\n",
       "      <td>80.0</td>\n",
       "      <td>0.0</td>\n",
       "      <td>413.30</td>\n",
       "      <td>0.44</td>\n",
       "      <td>16619.32</td>\n",
       "      <td>18993.51</td>\n",
       "      <td>72243.18</td>\n",
       "      <td>72243.18</td>\n",
       "      <td>166617.20</td>\n",
       "      <td>112350.02</td>\n",
       "      <td>3391.70</td>\n",
       "    </tr>\n",
       "  </tbody>\n",
       "</table>\n",
       "</div>"
      ],
      "text/plain": [
       "     Código                                 Causa de defunción     Total  \\\n",
       "0   200-215                                         Neoplasias  180893.0   \n",
       "1       303                Enfermedades isquémicas del corazón  142144.0   \n",
       "2       605  Enfermedades crónicas de las vías respiratoria...   60304.0   \n",
       "3       307                     Enfermedades cerebrovasculares   57875.0   \n",
       "4       999                                           COVID-19   34910.0   \n",
       "5       512                            Agresiones (homicidios)   46914.0   \n",
       "6       302                         Enfermedades hipertensivas   33229.0   \n",
       "7       601                                  Diabetes mellitus   29034.0   \n",
       "8       609        Resto de enfermedades del sistema digestivo   28178.0   \n",
       "9       501                 Accidentes de transporte terrestre   25090.0   \n",
       "10      610                  Enfermedades del sistema urinario   24741.0   \n",
       "11      614                          Resto de las enfermedades   24423.0   \n",
       "12      304  Enfermedad cardiopulmonar enfermedades de la c...   21938.0   \n",
       "13      604  Enfermedades del sistema nervioso  excepto men...   20665.0   \n",
       "\n",
       "    edad 0 a 4  edad 5 a 14  edad 15 a 44  edad 45 a 64  edad 65 a 84  \\\n",
       "0          NaN          NaN           NaN           NaN           NaN   \n",
       "1          2.0         10.0        1450.0       11984.0       36504.0   \n",
       "2         26.0         10.0         222.0        2290.0       15284.0   \n",
       "3         64.0         56.0        1202.0        5312.0       14942.0   \n",
       "4          NaN          NaN           NaN           NaN           NaN   \n",
       "5         70.0         68.0        2716.0       10069.0       17639.0   \n",
       "6          6.0          2.0         208.0        1840.0        8182.0   \n",
       "7          6.0          6.0         544.0        3490.0        8090.0   \n",
       "8        150.0         68.0         854.0        2656.0        7230.0   \n",
       "9         94.0        300.0        7652.0        2976.0        1926.0   \n",
       "10        98.0         46.0         586.0        1898.0        6078.0   \n",
       "11       344.0        172.0        1802.0        2634.0        4952.0   \n",
       "12       150.0         84.0         868.0        2128.0        5510.0   \n",
       "13       392.0        448.0        1704.0        1704.0        3930.0   \n",
       "\n",
       "    edad 85 a 99  edad 100 o mas  edad desconocida  Tasa de Mortalidad  \\\n",
       "0            NaN             NaN               NaN             3617.86   \n",
       "1        23998.0          1082.0               2.0             2842.88   \n",
       "2        13514.0           486.0               0.0             1206.08   \n",
       "3         8782.0           192.0               0.0             1157.50   \n",
       "4            NaN             NaN               NaN              698.20   \n",
       "5         4300.0            48.0              26.0              938.28   \n",
       "6         7002.0           300.0               0.0              664.58   \n",
       "7         3110.0            80.0               0.0              580.68   \n",
       "8         3836.0            80.0               0.0              563.56   \n",
       "9          290.0             0.0               6.0              501.80   \n",
       "10        4222.0           132.0               0.0              494.82   \n",
       "11        2860.0           128.0               0.0              488.46   \n",
       "12        2760.0            80.0               0.0              438.76   \n",
       "13        2650.0            80.0               0.0              413.30   \n",
       "\n",
       "    Factor    TM_0_4   TM_5_14   TM_15_44   TM_45_64    TM_65_84    TM_85_99  \\\n",
       "0     3.86       NaN       NaN        NaN        NaN         NaN         NaN   \n",
       "1     3.03     84.79    423.96   61474.54  508076.48  1547632.17  1017424.85   \n",
       "2     1.29   1102.30    423.96    9411.96   97087.38   647984.06   572942.72   \n",
       "3     1.23   2713.36   2374.19   50960.27  225208.80   633484.55   372323.74   \n",
       "4     0.74       NaN       NaN        NaN        NaN         NaN         NaN   \n",
       "5     1.00   2967.74   2882.94  115148.17  426887.69   747827.19   182303.81   \n",
       "6     0.71    254.38     84.79    8818.42   78009.07   346886.00   296858.44   \n",
       "7     0.62    254.38    254.38   23063.55  147962.86   342985.54   131852.29   \n",
       "8     0.60   6359.44   2882.94   36206.38  112604.40   306524.78   162631.96   \n",
       "9     0.53   3985.25  12718.87  324415.99  126171.20    81655.15    12294.91   \n",
       "10    0.53   4154.83   1950.23   24844.19   80468.05   257684.32   178996.91   \n",
       "11    0.52  14584.30   7292.15   76398.02  111671.68   209946.16   121253.23   \n",
       "12    0.47   6359.44   3561.28   36799.93   90219.19   233603.26   117013.61   \n",
       "13    0.44  16619.32  18993.51   72243.18   72243.18   166617.20   112350.02   \n",
       "\n",
       "    TM_100 o más  \n",
       "0            NaN  \n",
       "1       45872.73  \n",
       "2       20604.57  \n",
       "3        8140.08  \n",
       "4            NaN  \n",
       "5        2035.02  \n",
       "6       12718.87  \n",
       "7        3391.70  \n",
       "8        3391.70  \n",
       "9           0.00  \n",
       "10       5596.30  \n",
       "11       5426.72  \n",
       "12       3391.70  \n",
       "13       3391.70  "
      ]
     },
     "execution_count": 29,
     "metadata": {},
     "output_type": "execute_result"
    }
   ],
   "source": [
    "mortalidadCol"
   ]
  },
  {
   "cell_type": "code",
   "execution_count": 30,
   "metadata": {
    "slideshow": {
     "slide_type": "slide"
    }
   },
   "outputs": [],
   "source": [
    "tasasMortalidadColGrupoEtario = mortalidadCol.drop(columns= ['edad 0 a 4', 'edad 5 a 14',\n",
    "       'edad 15 a 44', 'edad 45 a 64', 'edad 65 a 84', 'edad 85 a 99',\n",
    "       'edad 100 o mas', 'edad desconocida','Factor'])"
   ]
  },
  {
   "cell_type": "markdown",
   "metadata": {
    "slideshow": {
     "slide_type": "slide"
    }
   },
   "source": [
    "# Colombia:  Tasa de Mortalidad total y por grupo etario  de las principales patologías agrupadas (por millón de habitantes)"
   ]
  },
  {
   "cell_type": "code",
   "execution_count": 31,
   "metadata": {
    "slideshow": {
     "slide_type": "slide"
    }
   },
   "outputs": [
    {
     "data": {
      "text/html": [
       "<div>\n",
       "<style scoped>\n",
       "    .dataframe tbody tr th:only-of-type {\n",
       "        vertical-align: middle;\n",
       "    }\n",
       "\n",
       "    .dataframe tbody tr th {\n",
       "        vertical-align: top;\n",
       "    }\n",
       "\n",
       "    .dataframe thead th {\n",
       "        text-align: right;\n",
       "    }\n",
       "</style>\n",
       "<table border=\"1\" class=\"dataframe\">\n",
       "  <thead>\n",
       "    <tr style=\"text-align: right;\">\n",
       "      <th></th>\n",
       "      <th>Código</th>\n",
       "      <th>Causa de defunción</th>\n",
       "      <th>Total defunciones</th>\n",
       "      <th>Tasa de Mortalidad total por millón de habitantes</th>\n",
       "      <th>TM edad 0 a 4 años</th>\n",
       "      <th>TM edad 5 a 14 años</th>\n",
       "      <th>TM edad 15 a 44 años</th>\n",
       "      <th>TM edad 45 a 64 años</th>\n",
       "      <th>TM edad 65 a 84 años</th>\n",
       "      <th>TM edad 85 a 99 años</th>\n",
       "      <th>TM edad 100 o más años</th>\n",
       "    </tr>\n",
       "  </thead>\n",
       "  <tbody>\n",
       "    <tr>\n",
       "      <th>0</th>\n",
       "      <td>200-215</td>\n",
       "      <td>Neoplasias</td>\n",
       "      <td>180893.0</td>\n",
       "      <td>3617.86</td>\n",
       "      <td>NaN</td>\n",
       "      <td>NaN</td>\n",
       "      <td>NaN</td>\n",
       "      <td>NaN</td>\n",
       "      <td>NaN</td>\n",
       "      <td>NaN</td>\n",
       "      <td>NaN</td>\n",
       "    </tr>\n",
       "    <tr>\n",
       "      <th>1</th>\n",
       "      <td>303</td>\n",
       "      <td>Enfermedades isquémicas del corazón</td>\n",
       "      <td>142144.0</td>\n",
       "      <td>2842.88</td>\n",
       "      <td>84.79</td>\n",
       "      <td>423.96</td>\n",
       "      <td>61474.54</td>\n",
       "      <td>508076.48</td>\n",
       "      <td>1547632.17</td>\n",
       "      <td>1017424.85</td>\n",
       "      <td>45872.73</td>\n",
       "    </tr>\n",
       "    <tr>\n",
       "      <th>2</th>\n",
       "      <td>605</td>\n",
       "      <td>Enfermedades crónicas de las vías respiratoria...</td>\n",
       "      <td>60304.0</td>\n",
       "      <td>1206.08</td>\n",
       "      <td>1102.30</td>\n",
       "      <td>423.96</td>\n",
       "      <td>9411.96</td>\n",
       "      <td>97087.38</td>\n",
       "      <td>647984.06</td>\n",
       "      <td>572942.72</td>\n",
       "      <td>20604.57</td>\n",
       "    </tr>\n",
       "    <tr>\n",
       "      <th>3</th>\n",
       "      <td>307</td>\n",
       "      <td>Enfermedades cerebrovasculares</td>\n",
       "      <td>57875.0</td>\n",
       "      <td>1157.50</td>\n",
       "      <td>2713.36</td>\n",
       "      <td>2374.19</td>\n",
       "      <td>50960.27</td>\n",
       "      <td>225208.80</td>\n",
       "      <td>633484.55</td>\n",
       "      <td>372323.74</td>\n",
       "      <td>8140.08</td>\n",
       "    </tr>\n",
       "    <tr>\n",
       "      <th>4</th>\n",
       "      <td>999</td>\n",
       "      <td>COVID-19</td>\n",
       "      <td>34910.0</td>\n",
       "      <td>698.20</td>\n",
       "      <td>NaN</td>\n",
       "      <td>NaN</td>\n",
       "      <td>NaN</td>\n",
       "      <td>NaN</td>\n",
       "      <td>NaN</td>\n",
       "      <td>NaN</td>\n",
       "      <td>NaN</td>\n",
       "    </tr>\n",
       "    <tr>\n",
       "      <th>5</th>\n",
       "      <td>512</td>\n",
       "      <td>Agresiones (homicidios)</td>\n",
       "      <td>46914.0</td>\n",
       "      <td>938.28</td>\n",
       "      <td>2967.74</td>\n",
       "      <td>2882.94</td>\n",
       "      <td>115148.17</td>\n",
       "      <td>426887.69</td>\n",
       "      <td>747827.19</td>\n",
       "      <td>182303.81</td>\n",
       "      <td>2035.02</td>\n",
       "    </tr>\n",
       "    <tr>\n",
       "      <th>6</th>\n",
       "      <td>302</td>\n",
       "      <td>Enfermedades hipertensivas</td>\n",
       "      <td>33229.0</td>\n",
       "      <td>664.58</td>\n",
       "      <td>254.38</td>\n",
       "      <td>84.79</td>\n",
       "      <td>8818.42</td>\n",
       "      <td>78009.07</td>\n",
       "      <td>346886.00</td>\n",
       "      <td>296858.44</td>\n",
       "      <td>12718.87</td>\n",
       "    </tr>\n",
       "    <tr>\n",
       "      <th>7</th>\n",
       "      <td>601</td>\n",
       "      <td>Diabetes mellitus</td>\n",
       "      <td>29034.0</td>\n",
       "      <td>580.68</td>\n",
       "      <td>254.38</td>\n",
       "      <td>254.38</td>\n",
       "      <td>23063.55</td>\n",
       "      <td>147962.86</td>\n",
       "      <td>342985.54</td>\n",
       "      <td>131852.29</td>\n",
       "      <td>3391.70</td>\n",
       "    </tr>\n",
       "    <tr>\n",
       "      <th>8</th>\n",
       "      <td>609</td>\n",
       "      <td>Resto de enfermedades del sistema digestivo</td>\n",
       "      <td>28178.0</td>\n",
       "      <td>563.56</td>\n",
       "      <td>6359.44</td>\n",
       "      <td>2882.94</td>\n",
       "      <td>36206.38</td>\n",
       "      <td>112604.40</td>\n",
       "      <td>306524.78</td>\n",
       "      <td>162631.96</td>\n",
       "      <td>3391.70</td>\n",
       "    </tr>\n",
       "    <tr>\n",
       "      <th>9</th>\n",
       "      <td>501</td>\n",
       "      <td>Accidentes de transporte terrestre</td>\n",
       "      <td>25090.0</td>\n",
       "      <td>501.80</td>\n",
       "      <td>3985.25</td>\n",
       "      <td>12718.87</td>\n",
       "      <td>324415.99</td>\n",
       "      <td>126171.20</td>\n",
       "      <td>81655.15</td>\n",
       "      <td>12294.91</td>\n",
       "      <td>0.00</td>\n",
       "    </tr>\n",
       "    <tr>\n",
       "      <th>10</th>\n",
       "      <td>610</td>\n",
       "      <td>Enfermedades del sistema urinario</td>\n",
       "      <td>24741.0</td>\n",
       "      <td>494.82</td>\n",
       "      <td>4154.83</td>\n",
       "      <td>1950.23</td>\n",
       "      <td>24844.19</td>\n",
       "      <td>80468.05</td>\n",
       "      <td>257684.32</td>\n",
       "      <td>178996.91</td>\n",
       "      <td>5596.30</td>\n",
       "    </tr>\n",
       "    <tr>\n",
       "      <th>11</th>\n",
       "      <td>614</td>\n",
       "      <td>Resto de las enfermedades</td>\n",
       "      <td>24423.0</td>\n",
       "      <td>488.46</td>\n",
       "      <td>14584.30</td>\n",
       "      <td>7292.15</td>\n",
       "      <td>76398.02</td>\n",
       "      <td>111671.68</td>\n",
       "      <td>209946.16</td>\n",
       "      <td>121253.23</td>\n",
       "      <td>5426.72</td>\n",
       "    </tr>\n",
       "    <tr>\n",
       "      <th>12</th>\n",
       "      <td>304</td>\n",
       "      <td>Enfermedad cardiopulmonar enfermedades de la c...</td>\n",
       "      <td>21938.0</td>\n",
       "      <td>438.76</td>\n",
       "      <td>6359.44</td>\n",
       "      <td>3561.28</td>\n",
       "      <td>36799.93</td>\n",
       "      <td>90219.19</td>\n",
       "      <td>233603.26</td>\n",
       "      <td>117013.61</td>\n",
       "      <td>3391.70</td>\n",
       "    </tr>\n",
       "    <tr>\n",
       "      <th>13</th>\n",
       "      <td>604</td>\n",
       "      <td>Enfermedades del sistema nervioso  excepto men...</td>\n",
       "      <td>20665.0</td>\n",
       "      <td>413.30</td>\n",
       "      <td>16619.32</td>\n",
       "      <td>18993.51</td>\n",
       "      <td>72243.18</td>\n",
       "      <td>72243.18</td>\n",
       "      <td>166617.20</td>\n",
       "      <td>112350.02</td>\n",
       "      <td>3391.70</td>\n",
       "    </tr>\n",
       "  </tbody>\n",
       "</table>\n",
       "</div>"
      ],
      "text/plain": [
       "     Código                                 Causa de defunción  \\\n",
       "0   200-215                                         Neoplasias   \n",
       "1       303                Enfermedades isquémicas del corazón   \n",
       "2       605  Enfermedades crónicas de las vías respiratoria...   \n",
       "3       307                     Enfermedades cerebrovasculares   \n",
       "4       999                                           COVID-19   \n",
       "5       512                            Agresiones (homicidios)   \n",
       "6       302                         Enfermedades hipertensivas   \n",
       "7       601                                  Diabetes mellitus   \n",
       "8       609        Resto de enfermedades del sistema digestivo   \n",
       "9       501                 Accidentes de transporte terrestre   \n",
       "10      610                  Enfermedades del sistema urinario   \n",
       "11      614                          Resto de las enfermedades   \n",
       "12      304  Enfermedad cardiopulmonar enfermedades de la c...   \n",
       "13      604  Enfermedades del sistema nervioso  excepto men...   \n",
       "\n",
       "    Total defunciones  Tasa de Mortalidad total por millón de habitantes  \\\n",
       "0            180893.0                                            3617.86   \n",
       "1            142144.0                                            2842.88   \n",
       "2             60304.0                                            1206.08   \n",
       "3             57875.0                                            1157.50   \n",
       "4             34910.0                                             698.20   \n",
       "5             46914.0                                             938.28   \n",
       "6             33229.0                                             664.58   \n",
       "7             29034.0                                             580.68   \n",
       "8             28178.0                                             563.56   \n",
       "9             25090.0                                             501.80   \n",
       "10            24741.0                                             494.82   \n",
       "11            24423.0                                             488.46   \n",
       "12            21938.0                                             438.76   \n",
       "13            20665.0                                             413.30   \n",
       "\n",
       "    TM edad 0 a 4 años  TM edad 5 a 14 años  TM edad 15 a 44 años  \\\n",
       "0                  NaN                  NaN                   NaN   \n",
       "1                84.79               423.96              61474.54   \n",
       "2              1102.30               423.96               9411.96   \n",
       "3              2713.36              2374.19              50960.27   \n",
       "4                  NaN                  NaN                   NaN   \n",
       "5              2967.74              2882.94             115148.17   \n",
       "6               254.38                84.79               8818.42   \n",
       "7               254.38               254.38              23063.55   \n",
       "8              6359.44              2882.94              36206.38   \n",
       "9              3985.25             12718.87             324415.99   \n",
       "10             4154.83              1950.23              24844.19   \n",
       "11            14584.30              7292.15              76398.02   \n",
       "12             6359.44              3561.28              36799.93   \n",
       "13            16619.32             18993.51              72243.18   \n",
       "\n",
       "    TM edad 45 a 64 años  TM edad 65 a 84 años  TM edad 85 a 99 años  \\\n",
       "0                    NaN                   NaN                   NaN   \n",
       "1              508076.48            1547632.17            1017424.85   \n",
       "2               97087.38             647984.06             572942.72   \n",
       "3              225208.80             633484.55             372323.74   \n",
       "4                    NaN                   NaN                   NaN   \n",
       "5              426887.69             747827.19             182303.81   \n",
       "6               78009.07             346886.00             296858.44   \n",
       "7              147962.86             342985.54             131852.29   \n",
       "8              112604.40             306524.78             162631.96   \n",
       "9              126171.20              81655.15              12294.91   \n",
       "10              80468.05             257684.32             178996.91   \n",
       "11             111671.68             209946.16             121253.23   \n",
       "12              90219.19             233603.26             117013.61   \n",
       "13              72243.18             166617.20             112350.02   \n",
       "\n",
       "    TM edad 100 o más años  \n",
       "0                      NaN  \n",
       "1                 45872.73  \n",
       "2                 20604.57  \n",
       "3                  8140.08  \n",
       "4                      NaN  \n",
       "5                  2035.02  \n",
       "6                 12718.87  \n",
       "7                  3391.70  \n",
       "8                  3391.70  \n",
       "9                     0.00  \n",
       "10                 5596.30  \n",
       "11                 5426.72  \n",
       "12                 3391.70  \n",
       "13                 3391.70  "
      ]
     },
     "execution_count": 31,
     "metadata": {},
     "output_type": "execute_result"
    }
   ],
   "source": [
    "tasasMortalidadColGrupoEtario.rename(columns={'Total':'Total defunciones', \n",
    "                                              'Tasa de Mortalidad': 'Tasa de Mortalidad total por millón de habitantes', \n",
    "                                              'TM_0_4':'TM edad 0 a 4 años',\n",
    "                                              'TM_5_14':'TM edad 5 a 14 años', \n",
    "                                              'TM_15_44': 'TM edad 15 a 44 años', \n",
    "                                              'TM_45_64': 'TM edad 45 a 64 años', \n",
    "                                              'TM_65_84': 'TM edad 65 a 84 años', \n",
    "                                              'TM_85_99': 'TM edad 85 a 99 años',\n",
    "                                              'TM_100 o más': 'TM edad 100 o más años'})"
   ]
  },
  {
   "cell_type": "markdown",
   "metadata": {
    "slideshow": {
     "slide_type": "slide"
    }
   },
   "source": [
    "### Departamentos:   Tasas de letalidad y de mortalidad \n",
    "#### Período del 2020 - 03 - 02  al "
   ]
  },
  {
   "cell_type": "code",
   "execution_count": 32,
   "metadata": {
    "slideshow": {
     "slide_type": "slide"
    }
   },
   "outputs": [],
   "source": [
    "fecha = col['Fecha de notificación'].max()"
   ]
  },
  {
   "cell_type": "code",
   "execution_count": 33,
   "metadata": {
    "slideshow": {
     "slide_type": "subslide"
    }
   },
   "outputs": [
    {
     "data": {
      "text/plain": [
       "Timestamp('2020-12-10 00:00:00')"
      ]
     },
     "execution_count": 33,
     "metadata": {},
     "output_type": "execute_result"
    }
   ],
   "source": [
    "fecha"
   ]
  },
  {
   "cell_type": "code",
   "execution_count": 34,
   "metadata": {},
   "outputs": [
    {
     "data": {
      "text/plain": [
       "Index(['Fecha de notificación', 'Nombre departamento', 'Nombre municipio',\n",
       "       'Edad', 'Sexo', 'Tipo de contagio', 'Estado', 'Fecha de muerte',\n",
       "       'Fecha de diagnóstico', 'Fecha de recuperación',\n",
       "       'Tipo de recuperación'],\n",
       "      dtype='object')"
      ]
     },
     "execution_count": 34,
     "metadata": {},
     "output_type": "execute_result"
    }
   ],
   "source": [
    "col.columns"
   ]
  },
  {
   "cell_type": "code",
   "execution_count": 35,
   "metadata": {
    "slideshow": {
     "slide_type": "slide"
    }
   },
   "outputs": [],
   "source": [
    "col[['Fecha de notificación', 'Nombre departamento', 'Nombre municipio',\n",
    "       'Edad', 'Sexo', 'Tipo de contagio', 'Estado', 'Fecha de muerte',\n",
    "       'Fecha de diagnóstico', 'Fecha de recuperación',\n",
    "       'Tipo de recuperación']]=  col[['Fecha de notificación', 'Nombre departamento', 'Nombre municipio',\n",
    "       'Edad', 'Sexo', 'Tipo de contagio', 'Estado', 'Fecha de muerte',\n",
    "       'Fecha de diagnóstico', 'Fecha de recuperación',\n",
    "       'Tipo de recuperación']].astype('category')"
   ]
  },
  {
   "cell_type": "code",
   "execution_count": 36,
   "metadata": {
    "slideshow": {
     "slide_type": "slide"
    }
   },
   "outputs": [],
   "source": [
    "Tasas = col.groupby('Nombre departamento')[['Fecha de notificación','Fecha de muerte']].count()"
   ]
  },
  {
   "cell_type": "code",
   "execution_count": 37,
   "metadata": {
    "slideshow": {
     "slide_type": "slide"
    }
   },
   "outputs": [],
   "source": [
    "Tasas.rename(columns={'Fecha de notificación': 'Número de casos', 'Fecha de muerte': 'Fallecidos'}, inplace= True)"
   ]
  },
  {
   "cell_type": "code",
   "execution_count": 38,
   "metadata": {
    "slideshow": {
     "slide_type": "slide"
    }
   },
   "outputs": [],
   "source": [
    "Tasas['Tasa de letalidad por cien enfermos'] = (Tasas['Fallecidos']/Tasas['Número de casos'])*100"
   ]
  },
  {
   "cell_type": "code",
   "execution_count": 39,
   "metadata": {
    "slideshow": {
     "slide_type": "slide"
    }
   },
   "outputs": [],
   "source": [
    "habitantes = poblacion.loc[poblacion['Género']== 'AMBOS SEXOS', ['DPTO', 'MUNICIPIO','2020']].groupby('DPTO')['2020'].sum()\n"
   ]
  },
  {
   "cell_type": "code",
   "execution_count": 40,
   "metadata": {
    "slideshow": {
     "slide_type": "slide"
    }
   },
   "outputs": [],
   "source": [
    "Tasas['Tasa de mortalidad por millón de habitantes'] = (Tasas['Fallecidos']/habitantes)*1000000"
   ]
  },
  {
   "cell_type": "code",
   "execution_count": 41,
   "metadata": {
    "slideshow": {
     "slide_type": "slide"
    }
   },
   "outputs": [
    {
     "data": {
      "text/html": [
       "<div>\n",
       "<style scoped>\n",
       "    .dataframe tbody tr th:only-of-type {\n",
       "        vertical-align: middle;\n",
       "    }\n",
       "\n",
       "    .dataframe tbody tr th {\n",
       "        vertical-align: top;\n",
       "    }\n",
       "\n",
       "    .dataframe thead th {\n",
       "        text-align: right;\n",
       "    }\n",
       "</style>\n",
       "<table border=\"1\" class=\"dataframe\">\n",
       "  <thead>\n",
       "    <tr style=\"text-align: right;\">\n",
       "      <th></th>\n",
       "      <th>Número de casos</th>\n",
       "      <th>Fallecidos</th>\n",
       "      <th>Tasa de letalidad por cien enfermos</th>\n",
       "      <th>Tasa de mortalidad por millón de habitantes</th>\n",
       "    </tr>\n",
       "    <tr>\n",
       "      <th>Nombre departamento</th>\n",
       "      <th></th>\n",
       "      <th></th>\n",
       "      <th></th>\n",
       "      <th></th>\n",
       "    </tr>\n",
       "  </thead>\n",
       "  <tbody>\n",
       "    <tr>\n",
       "      <th>AMAZONAS</th>\n",
       "      <td>2939</td>\n",
       "      <td>125</td>\n",
       "      <td>4.25</td>\n",
       "      <td>1581.88</td>\n",
       "    </tr>\n",
       "    <tr>\n",
       "      <th>BARRANQUILLA</th>\n",
       "      <td>41350</td>\n",
       "      <td>1862</td>\n",
       "      <td>4.50</td>\n",
       "      <td>1461.25</td>\n",
       "    </tr>\n",
       "    <tr>\n",
       "      <th>BOGOTA</th>\n",
       "      <td>325839</td>\n",
       "      <td>8608</td>\n",
       "      <td>2.64</td>\n",
       "      <td>1111.58</td>\n",
       "    </tr>\n",
       "    <tr>\n",
       "      <th>CAQUETA</th>\n",
       "      <td>11638</td>\n",
       "      <td>450</td>\n",
       "      <td>3.87</td>\n",
       "      <td>1096.17</td>\n",
       "    </tr>\n",
       "    <tr>\n",
       "      <th>ATLANTICO</th>\n",
       "      <td>31130</td>\n",
       "      <td>1551</td>\n",
       "      <td>4.98</td>\n",
       "      <td>1071.22</td>\n",
       "    </tr>\n",
       "    <tr>\n",
       "      <th>CORDOBA</th>\n",
       "      <td>26545</td>\n",
       "      <td>1782</td>\n",
       "      <td>6.71</td>\n",
       "      <td>974.33</td>\n",
       "    </tr>\n",
       "    <tr>\n",
       "      <th>STA MARTA D.E.</th>\n",
       "      <td>11613</td>\n",
       "      <td>499</td>\n",
       "      <td>4.30</td>\n",
       "      <td>926.46</td>\n",
       "    </tr>\n",
       "    <tr>\n",
       "      <th>SANTANDER</th>\n",
       "      <td>43442</td>\n",
       "      <td>1838</td>\n",
       "      <td>4.23</td>\n",
       "      <td>805.82</td>\n",
       "    </tr>\n",
       "    <tr>\n",
       "      <th>NORTE SANTANDER</th>\n",
       "      <td>22040</td>\n",
       "      <td>1188</td>\n",
       "      <td>5.39</td>\n",
       "      <td>733.19</td>\n",
       "    </tr>\n",
       "    <tr>\n",
       "      <th>SUCRE</th>\n",
       "      <td>15530</td>\n",
       "      <td>661</td>\n",
       "      <td>4.26</td>\n",
       "      <td>696.34</td>\n",
       "    </tr>\n",
       "    <tr>\n",
       "      <th>VALLE</th>\n",
       "      <td>85509</td>\n",
       "      <td>3142</td>\n",
       "      <td>3.67</td>\n",
       "      <td>693.27</td>\n",
       "    </tr>\n",
       "    <tr>\n",
       "      <th>CESAR</th>\n",
       "      <td>26407</td>\n",
       "      <td>895</td>\n",
       "      <td>3.39</td>\n",
       "      <td>690.91</td>\n",
       "    </tr>\n",
       "    <tr>\n",
       "      <th>HUILA</th>\n",
       "      <td>24096</td>\n",
       "      <td>739</td>\n",
       "      <td>3.07</td>\n",
       "      <td>658.28</td>\n",
       "    </tr>\n",
       "    <tr>\n",
       "      <th>CARTAGENA</th>\n",
       "      <td>26707</td>\n",
       "      <td>640</td>\n",
       "      <td>2.40</td>\n",
       "      <td>622.12</td>\n",
       "    </tr>\n",
       "    <tr>\n",
       "      <th>PUTUMAYO</th>\n",
       "      <td>4462</td>\n",
       "      <td>216</td>\n",
       "      <td>4.84</td>\n",
       "      <td>601.46</td>\n",
       "    </tr>\n",
       "    <tr>\n",
       "      <th>META</th>\n",
       "      <td>23760</td>\n",
       "      <td>598</td>\n",
       "      <td>2.52</td>\n",
       "      <td>562.32</td>\n",
       "    </tr>\n",
       "    <tr>\n",
       "      <th>MAGDALENA</th>\n",
       "      <td>5935</td>\n",
       "      <td>497</td>\n",
       "      <td>8.37</td>\n",
       "      <td>559.42</td>\n",
       "    </tr>\n",
       "    <tr>\n",
       "      <th>ANTIOQUIA</th>\n",
       "      <td>174345</td>\n",
       "      <td>3620</td>\n",
       "      <td>2.08</td>\n",
       "      <td>542.08</td>\n",
       "    </tr>\n",
       "    <tr>\n",
       "      <th>TOLIMA</th>\n",
       "      <td>21105</td>\n",
       "      <td>726</td>\n",
       "      <td>3.44</td>\n",
       "      <td>541.79</td>\n",
       "    </tr>\n",
       "    <tr>\n",
       "      <th>NARIÑO</th>\n",
       "      <td>22290</td>\n",
       "      <td>851</td>\n",
       "      <td>3.82</td>\n",
       "      <td>522.86</td>\n",
       "    </tr>\n",
       "    <tr>\n",
       "      <th>SAN ANDRES</th>\n",
       "      <td>1916</td>\n",
       "      <td>32</td>\n",
       "      <td>1.67</td>\n",
       "      <td>502.42</td>\n",
       "    </tr>\n",
       "    <tr>\n",
       "      <th>QUINDIO</th>\n",
       "      <td>10909</td>\n",
       "      <td>276</td>\n",
       "      <td>2.53</td>\n",
       "      <td>496.94</td>\n",
       "    </tr>\n",
       "    <tr>\n",
       "      <th>RISARALDA</th>\n",
       "      <td>18088</td>\n",
       "      <td>455</td>\n",
       "      <td>2.52</td>\n",
       "      <td>473.44</td>\n",
       "    </tr>\n",
       "    <tr>\n",
       "      <th>CUNDINAMARCA</th>\n",
       "      <td>43394</td>\n",
       "      <td>1338</td>\n",
       "      <td>3.08</td>\n",
       "      <td>412.58</td>\n",
       "    </tr>\n",
       "    <tr>\n",
       "      <th>GUAINIA</th>\n",
       "      <td>1152</td>\n",
       "      <td>19</td>\n",
       "      <td>1.65</td>\n",
       "      <td>375.23</td>\n",
       "    </tr>\n",
       "    <tr>\n",
       "      <th>ARAUCA</th>\n",
       "      <td>3415</td>\n",
       "      <td>106</td>\n",
       "      <td>3.10</td>\n",
       "      <td>360.29</td>\n",
       "    </tr>\n",
       "    <tr>\n",
       "      <th>CALDAS</th>\n",
       "      <td>15084</td>\n",
       "      <td>354</td>\n",
       "      <td>2.35</td>\n",
       "      <td>347.59</td>\n",
       "    </tr>\n",
       "    <tr>\n",
       "      <th>CHOCO</th>\n",
       "      <td>4211</td>\n",
       "      <td>181</td>\n",
       "      <td>4.30</td>\n",
       "      <td>332.25</td>\n",
       "    </tr>\n",
       "    <tr>\n",
       "      <th>GUAVIARE</th>\n",
       "      <td>1535</td>\n",
       "      <td>27</td>\n",
       "      <td>1.76</td>\n",
       "      <td>311.57</td>\n",
       "    </tr>\n",
       "    <tr>\n",
       "      <th>BOYACA</th>\n",
       "      <td>15214</td>\n",
       "      <td>361</td>\n",
       "      <td>2.37</td>\n",
       "      <td>290.49</td>\n",
       "    </tr>\n",
       "    <tr>\n",
       "      <th>CAUCA</th>\n",
       "      <td>13503</td>\n",
       "      <td>430</td>\n",
       "      <td>3.18</td>\n",
       "      <td>288.22</td>\n",
       "    </tr>\n",
       "    <tr>\n",
       "      <th>VAUPES</th>\n",
       "      <td>1070</td>\n",
       "      <td>12</td>\n",
       "      <td>1.12</td>\n",
       "      <td>268.38</td>\n",
       "    </tr>\n",
       "    <tr>\n",
       "      <th>CASANARE</th>\n",
       "      <td>5324</td>\n",
       "      <td>109</td>\n",
       "      <td>2.05</td>\n",
       "      <td>250.46</td>\n",
       "    </tr>\n",
       "    <tr>\n",
       "      <th>BOLIVAR</th>\n",
       "      <td>6769</td>\n",
       "      <td>281</td>\n",
       "      <td>4.15</td>\n",
       "      <td>243.87</td>\n",
       "    </tr>\n",
       "    <tr>\n",
       "      <th>VICHADA</th>\n",
       "      <td>826</td>\n",
       "      <td>9</td>\n",
       "      <td>1.09</td>\n",
       "      <td>79.68</td>\n",
       "    </tr>\n",
       "    <tr>\n",
       "      <th>GUAJIRA</th>\n",
       "      <td>10300</td>\n",
       "      <td>432</td>\n",
       "      <td>4.19</td>\n",
       "      <td>NaN</td>\n",
       "    </tr>\n",
       "  </tbody>\n",
       "</table>\n",
       "</div>"
      ],
      "text/plain": [
       "                     Número de casos  Fallecidos  \\\n",
       "Nombre departamento                                \n",
       "AMAZONAS                        2939         125   \n",
       "BARRANQUILLA                   41350        1862   \n",
       "BOGOTA                        325839        8608   \n",
       "CAQUETA                        11638         450   \n",
       "ATLANTICO                      31130        1551   \n",
       "CORDOBA                        26545        1782   \n",
       "STA MARTA D.E.                 11613         499   \n",
       "SANTANDER                      43442        1838   \n",
       "NORTE SANTANDER                22040        1188   \n",
       "SUCRE                          15530         661   \n",
       "VALLE                          85509        3142   \n",
       "CESAR                          26407         895   \n",
       "HUILA                          24096         739   \n",
       "CARTAGENA                      26707         640   \n",
       "PUTUMAYO                        4462         216   \n",
       "META                           23760         598   \n",
       "MAGDALENA                       5935         497   \n",
       "ANTIOQUIA                     174345        3620   \n",
       "TOLIMA                         21105         726   \n",
       "NARIÑO                         22290         851   \n",
       "SAN ANDRES                      1916          32   \n",
       "QUINDIO                        10909         276   \n",
       "RISARALDA                      18088         455   \n",
       "CUNDINAMARCA                   43394        1338   \n",
       "GUAINIA                         1152          19   \n",
       "ARAUCA                          3415         106   \n",
       "CALDAS                         15084         354   \n",
       "CHOCO                           4211         181   \n",
       "GUAVIARE                        1535          27   \n",
       "BOYACA                         15214         361   \n",
       "CAUCA                          13503         430   \n",
       "VAUPES                          1070          12   \n",
       "CASANARE                        5324         109   \n",
       "BOLIVAR                         6769         281   \n",
       "VICHADA                          826           9   \n",
       "GUAJIRA                        10300         432   \n",
       "\n",
       "                     Tasa de letalidad por cien enfermos  \\\n",
       "Nombre departamento                                        \n",
       "AMAZONAS                                            4.25   \n",
       "BARRANQUILLA                                        4.50   \n",
       "BOGOTA                                              2.64   \n",
       "CAQUETA                                             3.87   \n",
       "ATLANTICO                                           4.98   \n",
       "CORDOBA                                             6.71   \n",
       "STA MARTA D.E.                                      4.30   \n",
       "SANTANDER                                           4.23   \n",
       "NORTE SANTANDER                                     5.39   \n",
       "SUCRE                                               4.26   \n",
       "VALLE                                               3.67   \n",
       "CESAR                                               3.39   \n",
       "HUILA                                               3.07   \n",
       "CARTAGENA                                           2.40   \n",
       "PUTUMAYO                                            4.84   \n",
       "META                                                2.52   \n",
       "MAGDALENA                                           8.37   \n",
       "ANTIOQUIA                                           2.08   \n",
       "TOLIMA                                              3.44   \n",
       "NARIÑO                                              3.82   \n",
       "SAN ANDRES                                          1.67   \n",
       "QUINDIO                                             2.53   \n",
       "RISARALDA                                           2.52   \n",
       "CUNDINAMARCA                                        3.08   \n",
       "GUAINIA                                             1.65   \n",
       "ARAUCA                                              3.10   \n",
       "CALDAS                                              2.35   \n",
       "CHOCO                                               4.30   \n",
       "GUAVIARE                                            1.76   \n",
       "BOYACA                                              2.37   \n",
       "CAUCA                                               3.18   \n",
       "VAUPES                                              1.12   \n",
       "CASANARE                                            2.05   \n",
       "BOLIVAR                                             4.15   \n",
       "VICHADA                                             1.09   \n",
       "GUAJIRA                                             4.19   \n",
       "\n",
       "                     Tasa de mortalidad por millón de habitantes  \n",
       "Nombre departamento                                               \n",
       "AMAZONAS                                                 1581.88  \n",
       "BARRANQUILLA                                             1461.25  \n",
       "BOGOTA                                                   1111.58  \n",
       "CAQUETA                                                  1096.17  \n",
       "ATLANTICO                                                1071.22  \n",
       "CORDOBA                                                   974.33  \n",
       "STA MARTA D.E.                                            926.46  \n",
       "SANTANDER                                                 805.82  \n",
       "NORTE SANTANDER                                           733.19  \n",
       "SUCRE                                                     696.34  \n",
       "VALLE                                                     693.27  \n",
       "CESAR                                                     690.91  \n",
       "HUILA                                                     658.28  \n",
       "CARTAGENA                                                 622.12  \n",
       "PUTUMAYO                                                  601.46  \n",
       "META                                                      562.32  \n",
       "MAGDALENA                                                 559.42  \n",
       "ANTIOQUIA                                                 542.08  \n",
       "TOLIMA                                                    541.79  \n",
       "NARIÑO                                                    522.86  \n",
       "SAN ANDRES                                                502.42  \n",
       "QUINDIO                                                   496.94  \n",
       "RISARALDA                                                 473.44  \n",
       "CUNDINAMARCA                                              412.58  \n",
       "GUAINIA                                                   375.23  \n",
       "ARAUCA                                                    360.29  \n",
       "CALDAS                                                    347.59  \n",
       "CHOCO                                                     332.25  \n",
       "GUAVIARE                                                  311.57  \n",
       "BOYACA                                                    290.49  \n",
       "CAUCA                                                     288.22  \n",
       "VAUPES                                                    268.38  \n",
       "CASANARE                                                  250.46  \n",
       "BOLIVAR                                                   243.87  \n",
       "VICHADA                                                    79.68  \n",
       "GUAJIRA                                                      NaN  "
      ]
     },
     "execution_count": 41,
     "metadata": {},
     "output_type": "execute_result"
    }
   ],
   "source": [
    "Tasas.round(2).sort_values('Tasa de mortalidad por millón de habitantes', ascending=False)"
   ]
  },
  {
   "cell_type": "markdown",
   "metadata": {
    "slideshow": {
     "slide_type": "slide"
    }
   },
   "source": [
    "### Comparativo Tasa de Mortalidad por millón de habitantes por departamentos"
   ]
  },
  {
   "cell_type": "markdown",
   "metadata": {
    "slideshow": {
     "slide_type": "subslide"
    }
   },
   "source": [
    "#### Período del '2020 - 03 - 02' al "
   ]
  },
  {
   "cell_type": "code",
   "execution_count": 42,
   "metadata": {
    "slideshow": {
     "slide_type": "subslide"
    }
   },
   "outputs": [
    {
     "data": {
      "text/plain": [
       "Timestamp('2020-12-10 00:00:00')"
      ]
     },
     "execution_count": 42,
     "metadata": {},
     "output_type": "execute_result"
    }
   ],
   "source": [
    "fecha"
   ]
  },
  {
   "cell_type": "code",
   "execution_count": 43,
   "metadata": {
    "scrolled": true,
    "slideshow": {
     "slide_type": "slide"
    }
   },
   "outputs": [
    {
     "data": {
      "text/plain": [
       "<matplotlib.axes._subplots.AxesSubplot at 0x10abb1f28>"
      ]
     },
     "execution_count": 43,
     "metadata": {},
     "output_type": "execute_result"
    },
    {
     "data": {
      "image/png": "[encoded data removed]",
      "text/plain": [
       "<Figure size 432x288 with 1 Axes>"
      ]
     },
     "metadata": {
      "needs_background": "light"
     },
     "output_type": "display_data"
    }
   ],
   "source": [
    "Tasas.loc[:,'Tasa de mortalidad por millón de habitantes'].sort_values(ascending=False).plot(kind='bar')"
   ]
  },
  {
   "cell_type": "code",
   "execution_count": 44,
   "metadata": {
    "slideshow": {
     "slide_type": "slide"
    }
   },
   "outputs": [
    {
     "name": "stdout",
     "output_type": "stream",
     "text": [
      "Ingrese los departamentos para los que requiere conocer la tasa.   Para terminar, digite 'F'   :CALDAS\n",
      "Ingrese los departamentos para los que requiere conocer la tasa.   Para terminar, digite 'F'   :F\n"
     ]
    }
   ],
   "source": [
    "departamentos = []\n",
    "dept = ''\n",
    "while dept != 'F' or dept != 'f':\n",
    "    dept = input(\"Ingrese los departamentos para los que requiere conocer la tasa.   Para terminar, digite 'F'   :\")\n",
    "    if dept == 'F' or dept == 'f':\n",
    "        break\n",
    "    else:\n",
    "        if Tasas.index.isin([dept]).any()==True:\n",
    "            departamentos.append(dept)\n",
    "        else:\n",
    "            print('No se encuentra el departamento.  Revise ortografía.  Para Distrito capitales, turísticos o especiales puede requerir D.C., D.E. o D.T. y C.')\n"
   ]
  },
  {
   "cell_type": "code",
   "execution_count": 45,
   "metadata": {
    "slideshow": {
     "slide_type": "slide"
    }
   },
   "outputs": [],
   "source": [
    "departamento = pd.concat([Tasas,habitantes], axis=1).loc[departamentos,:].round(2)\n",
    "cuadro_dptos = departamento"
   ]
  },
  {
   "cell_type": "markdown",
   "metadata": {
    "slideshow": {
     "slide_type": "slide"
    }
   },
   "source": [
    "### Tasas de letalidad y de mortalidad"
   ]
  },
  {
   "cell_type": "markdown",
   "metadata": {
    "slideshow": {
     "slide_type": "subslide"
    }
   },
   "source": [
    "#### Período del '2020 - 03 - 02' al "
   ]
  },
  {
   "cell_type": "code",
   "execution_count": 46,
   "metadata": {
    "slideshow": {
     "slide_type": "subslide"
    }
   },
   "outputs": [
    {
     "data": {
      "text/plain": [
       "Timestamp('2020-12-10 00:00:00')"
      ]
     },
     "execution_count": 46,
     "metadata": {},
     "output_type": "execute_result"
    }
   ],
   "source": [
    "fecha"
   ]
  },
  {
   "cell_type": "code",
   "execution_count": 47,
   "metadata": {
    "slideshow": {
     "slide_type": "slide"
    }
   },
   "outputs": [],
   "source": [
    "cuadro_dptos.rename(columns={'2020':'Población'}, inplace=True)"
   ]
  },
  {
   "cell_type": "code",
   "execution_count": 48,
   "metadata": {
    "slideshow": {
     "slide_type": "slide"
    }
   },
   "outputs": [
    {
     "data": {
      "text/html": [
       "<div>\n",
       "<style scoped>\n",
       "    .dataframe tbody tr th:only-of-type {\n",
       "        vertical-align: middle;\n",
       "    }\n",
       "\n",
       "    .dataframe tbody tr th {\n",
       "        vertical-align: top;\n",
       "    }\n",
       "\n",
       "    .dataframe thead th {\n",
       "        text-align: right;\n",
       "    }\n",
       "</style>\n",
       "<table border=\"1\" class=\"dataframe\">\n",
       "  <thead>\n",
       "    <tr style=\"text-align: right;\">\n",
       "      <th></th>\n",
       "      <th>Número de casos</th>\n",
       "      <th>Fallecidos</th>\n",
       "      <th>Tasa de letalidad por cien enfermos</th>\n",
       "      <th>Tasa de mortalidad por millón de habitantes</th>\n",
       "      <th>Población</th>\n",
       "    </tr>\n",
       "  </thead>\n",
       "  <tbody>\n",
       "    <tr>\n",
       "      <th>CALDAS</th>\n",
       "      <td>15084.0</td>\n",
       "      <td>354.0</td>\n",
       "      <td>2.35</td>\n",
       "      <td>347.59</td>\n",
       "      <td>1018453.0</td>\n",
       "    </tr>\n",
       "  </tbody>\n",
       "</table>\n",
       "</div>"
      ],
      "text/plain": [
       "        Número de casos  Fallecidos  Tasa de letalidad por cien enfermos  \\\n",
       "CALDAS          15084.0       354.0                                 2.35   \n",
       "\n",
       "        Tasa de mortalidad por millón de habitantes  Población  \n",
       "CALDAS                                       347.59  1018453.0  "
      ]
     },
     "execution_count": 48,
     "metadata": {},
     "output_type": "execute_result"
    }
   ],
   "source": [
    "cuadro_dptos.sort_values('Tasa de mortalidad por millón de habitantes', ascending=False, inplace=True)\n",
    "cuadro_dptos"
   ]
  },
  {
   "cell_type": "markdown",
   "metadata": {
    "slideshow": {
     "slide_type": "slide"
    }
   },
   "source": [
    "### Comparativo Tasa de Mortalidad por millón de habitantes por departamentos"
   ]
  },
  {
   "cell_type": "markdown",
   "metadata": {
    "slideshow": {
     "slide_type": "subslide"
    }
   },
   "source": [
    "#### Período del '2020 - 03 - 02' al "
   ]
  },
  {
   "cell_type": "code",
   "execution_count": 49,
   "metadata": {
    "slideshow": {
     "slide_type": "subslide"
    }
   },
   "outputs": [
    {
     "data": {
      "text/plain": [
       "Timestamp('2020-12-10 00:00:00')"
      ]
     },
     "execution_count": 49,
     "metadata": {},
     "output_type": "execute_result"
    }
   ],
   "source": [
    "fecha"
   ]
  },
  {
   "cell_type": "code",
   "execution_count": 50,
   "metadata": {
    "scrolled": true,
    "slideshow": {
     "slide_type": "slide"
    }
   },
   "outputs": [
    {
     "data": {
      "text/plain": [
       "<matplotlib.axes._subplots.AxesSubplot at 0x11798d6a0>"
      ]
     },
     "execution_count": 50,
     "metadata": {},
     "output_type": "execute_result"
    },
    {
     "data": {
      "image/png": "[encoded data removed]",
      "text/plain": [
       "<Figure size 432x288 with 1 Axes>"
      ]
     },
     "metadata": {
      "needs_background": "light"
     },
     "output_type": "display_data"
    }
   ],
   "source": [
    "cuadro_dptos.loc[:,'Tasa de mortalidad por millón de habitantes'].sort_values(ascending=False).plot(kind='bar')"
   ]
  },
  {
   "cell_type": "markdown",
   "metadata": {
    "slideshow": {
     "slide_type": "slide"
    }
   },
   "source": [
    "###  Ejercicio para establecer el criterio de positividad de la PCR y las pruebas rápidas ante COVID-19:\n",
    "\n",
    "\n",
    "\n",
    "> Prerrequisitos:  \n",
    "- Alto impacto  <== Alta prevalencia, morbilidad y mortalidad.\n",
    "\n",
    "### Parcial.   Como patología viral y por sus mecanismos de transmisión tiene alta prevalencia, no en vano es pandémica.  La morbilidad es muy baja, teniendo una alta proporción de pacientes asintomáticos o con sintomatología leve o moderada.  La mortalidad por grupos etarios varía, respetando a población menor a los 44 años, afectando levemente a población entre los 45 y 64 años, moderadamente a las personas mayores de 65 años.  Al compararlo con otras patologías respiratorias, su comportamiento está dentro de los estándares en cuanto a mortalidad.  Está pendiente por definir si quienes fallecieron lo hicieron por o con CoV-2."
   ]
  },
  {
   "cell_type": "markdown",
   "metadata": {
    "slideshow": {
     "slide_type": "slide"
    }
   },
   "source": [
    "###  Ejercicio para establecer el criterio de positividad de la PCR y las pruebas rápidas ante COVID-19:\n",
    "\n",
    "> Prerrequisitos:  \n",
    "- Tratamiento disponible.\n",
    "\n",
    "\n",
    "### Hasta la fecha, el tratamiento es el convencional para neumonías virales.  Las recomendaciones que han surgido, salen de estudios observacionales que rápidamente han sido desvirtuados."
   ]
  },
  {
   "cell_type": "markdown",
   "metadata": {
    "slideshow": {
     "slide_type": "slide"
    }
   },
   "source": [
    "###  Ejercicio para establecer el criterio de positividad de la PCR y las pruebas rápidas ante COVID-19:\n",
    "\n",
    "> Gold Standard\n",
    "\n",
    "### Estudio \"Gold Standard\" ==>  PCR SarsCoV-2.  Hay discusión sobre su especificidad."
   ]
  },
  {
   "cell_type": "markdown",
   "metadata": {
    "slideshow": {
     "slide_type": "slide"
    }
   },
   "source": [
    "###  Ejercicio para establecer el criterio de positividad de la PCR y las pruebas rápidas ante COVID-19:\n",
    "\n",
    "> Modalidades de testeo o tamizaje con *buenas características*  \n",
    "- Sensibilidad.    \n",
    "- Especificidad.\n",
    "\n",
    "### Sí para la PRUEBA MOLECULAR.  NO para las pruebas rápidas.  \n",
    "### No existen para las Pruebas Rápidas estudios clínicos aleatorizados doble ciego, cuya ***validez interna haya sido establecida  por el análisis crítico adecuado.  En consecuencia no se debieron generalizar.***"
   ]
  },
  {
   "cell_type": "markdown",
   "metadata": {
    "slideshow": {
     "slide_type": "slide"
    }
   },
   "source": [
    "###  Ejercicio para establecer el criterio de positividad de la PCR y las pruebas rápidas ante COVID-19:\n",
    "\n",
    "> Factibilidad del testeo o tamizaje.\n",
    "\n",
    "- Libre de molestia significativa !\n",
    "\n",
    "### PCR SarsCoV-2 es molesta, especialmente para la población infantil.   "
   ]
  },
  {
   "cell_type": "markdown",
   "metadata": {
    "slideshow": {
     "slide_type": "slide"
    }
   },
   "source": [
    "###  Ejercicio para establecer el criterio de positividad de la PCR y las pruebas rápidas ante COVID-19:\n",
    "\n",
    "- Eficiente y económico.  \n",
    "\n",
    "### No.  Para la PCR SarsCoV-2, la precisión del test está alterada por los criterios de indicación vigentes.  El porcentaje de negativos es abrumador con respecto a los escasos positivos.\n",
    "### Las pruebas rápidas tienen la misma precisión que una moneda lanzada al aire (cara o sello)."
   ]
  },
  {
   "cell_type": "markdown",
   "metadata": {
    "slideshow": {
     "slide_type": "slide"
    }
   },
   "source": [
    "###  Ejercicio para establecer el criterio de positividad de la PCR y las pruebas rápidas ante COVID-19:\n",
    "\n",
    "- Que la persona acepte el seguimiento y que este sea posible.\n",
    "\n",
    "### Aunque entre las autoridades hay quienes semanalmente se hacen la PCR SarsCoV-2, esto no es viable en la población.  El tiempo de procesamiento ha estado siempre en nuestra zona en un promedio de 7 días."
   ]
  },
  {
   "cell_type": "markdown",
   "metadata": {
    "slideshow": {
     "slide_type": "slide"
    }
   },
   "source": [
    "###  Ejercicio para establecer el criterio de positividad de la PCR y las pruebas rápidas ante COVID-19:\n",
    "\n",
    "- Alta especidad.\n",
    "\n",
    "### Sí para la PCR SarsCoV-2.  No para las pruebas rápidas.\n",
    "\n"
   ]
  },
  {
   "cell_type": "markdown",
   "metadata": {
    "slideshow": {
     "slide_type": "slide"
    }
   },
   "source": [
    "###  Ejercicio para establecer el criterio de positividad de la PCR y las pruebas rápidas ante COVID-19:\n",
    "\n",
    "- El testeo o tamizaje debe derivar en la disminución efectiva de efectos adversos.\n",
    "\n",
    "### No.  El aislamiento preventivo de pacientes asintomáticos y el correspondiente cerco epidemiológico, genera más efectos adversos en la población, sin afectar positivamente las tasas de mortalidad por grupo etario."
   ]
  },
  {
   "cell_type": "markdown",
   "metadata": {
    "slideshow": {
     "slide_type": "slide"
    }
   },
   "source": [
    "CONCLUSIÓN frente a las estrategias implementadas ante el COVID-19, encontramos:   \n",
    "\n",
    "1.  SESGOS SIEMPRE PRESENTES:\n",
    "\n",
    "Se ha cometido sistemáticamente el sesgo de sobrediagnóstico:\n",
    "-  Desperdicio de recursos que debieran utilizarse en la atención de patologías de mayor tasa de mortalidad.\n",
    "-  Se promueven \"cuarentenas\" y \"aislamiento preventivos\" que tienen graves efectos físicos y psíquicos en la población, muestra de ello es el incremento de violencia intrafamiliar y pacientes con patologías crónicas en mayor fase de descompensación.\n",
    "\n",
    "Se han cometido sistemáticamente los sesgos de sobrevivencia (\"lead time bias\"), de severidad (\"length bias sampling\") y el sesgo del voluntario."
   ]
  },
  {
   "cell_type": "markdown",
   "metadata": {
    "slideshow": {
     "slide_type": "slide"
    }
   },
   "source": [
    "2.  Se ha actuado sin los preceptos de la medicina basada en la evidencia.\n",
    "\n",
    "3.  Las herramientas para modelar escenarios utilizadas por las autoridades competentes han sido anacrónicas, sin apropiarse de algoritmos adecuados, lo que las han llevado a postular \"picos\", continuamente aplazados ante las múltiples fallas de su predicción, y a adoptar pésimas estrategias.  Es cuando el \"remedio\" ha sido peor que la \"enfermedad\"."
   ]
  },
  {
   "cell_type": "markdown",
   "metadata": {
    "slideshow": {
     "slide_type": "slide"
    }
   },
   "source": [
    "4.  Pacientes con comorbilidades por patologías crónicas descompensadas, con síntomas respiratorios propios de estas, son diagnosticados como sospechosos de COVID19 e internados y expuestos a áreas COVID19 en las instituciones prestadoras de salud, con el riesgo de infección cruzada posterior y muerte CON COVID.  NO POR COVID.\n",
    "\n",
    "5.  No es de extrañarse que rápidamente aparecieran en escena en nuestro país, mercaderes de la muerte, que han aprovechado la situación para promover sus servicios o negocios, enriqueciéndose al propagar el temor y promover acciones injustificadas como las cuarentenas, aislamientos de toda la población, testeos sesgados y no apropiados, tratamientos sin evidencia científica.\n",
    "\n"
   ]
  },
  {
   "cell_type": "markdown",
   "metadata": {
    "slideshow": {
     "slide_type": "slide"
    }
   },
   "source": [
    "6. La lucha por el poder no ha desaprovechado el temor de la población, con \"politiqueros\" postulándose como defensores y cuidadores de su salud y su vida, presentándose una carrera para ser reconocido ahora y en el futuro, sustentadas en la creación de un pánico infundado, en las recomendaciones sin justificación y en la pauperización de la población al engendrar una debacle económica sin precedentes y sin sustento científico alguno.   Quienes ostentan el poder, dedican su tiempo en los medios a mostrarse como adalides en la lucha contra el COVID-19.\n",
    "\n",
    "7.  Las estrategias implementadas no han salvado una sola vida que no fuera a salverse luego del contagio con el virus, pero si nos ha devuelto dos décadas en los otros indicadores de salud y bienestar.    Las deudas adquiridas sin justificación alguna, las pagaremos en las próximas décadas y ni siquiera nuestros hijos estarán exentos de asumirlas.\n",
    "\n"
   ]
  },
  {
   "cell_type": "markdown",
   "metadata": {
    "slideshow": {
     "slide_type": "slide"
    }
   },
   "source": [
    "8.  \"Los expertos\" o fueron presas del pánico y olvidaron su formación y se dedicaron a estar atentos a los medios y a copiar estrategias de países donde se evidenciaba que estas no tenían impacto alguno, o se adaptaron al potencial económico propio que esta situación les brindó.\n",
    "\n",
    "9.  Conclusión final, ante el fracaso de nuestro expertos y de sus escenarios, la próxima estrategia para enfrentar la próxima pandemia no debe ser manejada por ellos, dejándosela a profesionales y especialistas de otras áreas que cuenten o construyan herramientas sustentadas en los principios de inteligencia artificial, principios que permitirán tomar las mejores decisiones sustentadas en datos y hechos, no en pánico o en intereses personales."
   ]
  },
  {
   "cell_type": "code",
   "execution_count": 51,
   "metadata": {},
   "outputs": [
    {
     "data": {
      "text/html": [
       "<div>\n",
       "<style scoped>\n",
       "    .dataframe tbody tr th:only-of-type {\n",
       "        vertical-align: middle;\n",
       "    }\n",
       "\n",
       "    .dataframe tbody tr th {\n",
       "        vertical-align: top;\n",
       "    }\n",
       "\n",
       "    .dataframe thead th {\n",
       "        text-align: right;\n",
       "    }\n",
       "</style>\n",
       "<table border=\"1\" class=\"dataframe\">\n",
       "  <thead>\n",
       "    <tr style=\"text-align: right;\">\n",
       "      <th></th>\n",
       "      <th>Unnamed: 0</th>\n",
       "      <th>País</th>\n",
       "      <th>Total_Casos</th>\n",
       "      <th>Fallecidos</th>\n",
       "      <th>Spanish</th>\n",
       "    </tr>\n",
       "  </thead>\n",
       "  <tbody>\n",
       "    <tr>\n",
       "      <th>43</th>\n",
       "      <td>43</td>\n",
       "      <td>Colombia</td>\n",
       "      <td>0</td>\n",
       "      <td>0</td>\n",
       "      <td>Colombia</td>\n",
       "    </tr>\n",
       "  </tbody>\n",
       "</table>\n",
       "</div>"
      ],
      "text/plain": [
       "    Unnamed: 0      País  Total_Casos  Fallecidos   Spanish\n",
       "43          43  Colombia            0           0  Colombia"
      ]
     },
     "execution_count": 51,
     "metadata": {},
     "output_type": "execute_result"
    }
   ],
   "source": [
    "mundo= pd.read_csv('CovidMundoT.csv')\n",
    "mundo.loc[mundo['País']=='Colombia']"
   ]
  },
  {
   "cell_type": "code",
   "execution_count": 52,
   "metadata": {},
   "outputs": [
    {
     "data": {
      "text/plain": [
       "Index(['Unnamed: 0', 'País', 'Total_Casos', 'Fallecidos', 'Spanish'], dtype='object')"
      ]
     },
     "execution_count": 52,
     "metadata": {},
     "output_type": "execute_result"
    }
   ],
   "source": [
    "mundo.columns\n"
   ]
  },
  {
   "cell_type": "code",
   "execution_count": 53,
   "metadata": {},
   "outputs": [],
   "source": [
    "tasasMundiales = pd.read_csv('Tasas_mundiales.csv')"
   ]
  },
  {
   "cell_type": "markdown",
   "metadata": {},
   "source": [
    "# Mundo:  Tasas de mortalidad y letalidad por CoV-2"
   ]
  },
  {
   "cell_type": "code",
   "execution_count": 54,
   "metadata": {},
   "outputs": [
    {
     "data": {
      "text/html": [
       "<div>\n",
       "<style scoped>\n",
       "    .dataframe tbody tr th:only-of-type {\n",
       "        vertical-align: middle;\n",
       "    }\n",
       "\n",
       "    .dataframe tbody tr th {\n",
       "        vertical-align: top;\n",
       "    }\n",
       "\n",
       "    .dataframe thead th {\n",
       "        text-align: right;\n",
       "    }\n",
       "</style>\n",
       "<table border=\"1\" class=\"dataframe\">\n",
       "  <thead>\n",
       "    <tr style=\"text-align: right;\">\n",
       "      <th></th>\n",
       "      <th>País</th>\n",
       "      <th>Total_Casos</th>\n",
       "      <th>Fallecidos</th>\n",
       "      <th>Población</th>\n",
       "      <th>Tasa de mortalidad por millón de habitantes</th>\n",
       "      <th>Tasa de letalidad por cien habitantes</th>\n",
       "    </tr>\n",
       "  </thead>\n",
       "  <tbody>\n",
       "    <tr>\n",
       "      <th>0</th>\n",
       "      <td>Afganistán</td>\n",
       "      <td>0</td>\n",
       "      <td>0</td>\n",
       "      <td>38928000</td>\n",
       "      <td>0.0</td>\n",
       "      <td>NaN</td>\n",
       "    </tr>\n",
       "    <tr>\n",
       "      <th>157</th>\n",
       "      <td>Federación Rusa</td>\n",
       "      <td>0</td>\n",
       "      <td>0</td>\n",
       "      <td>145934000</td>\n",
       "      <td>0.0</td>\n",
       "      <td>NaN</td>\n",
       "    </tr>\n",
       "    <tr>\n",
       "      <th>133</th>\n",
       "      <td>Nauru</td>\n",
       "      <td>0</td>\n",
       "      <td>0</td>\n",
       "      <td>11000</td>\n",
       "      <td>0.0</td>\n",
       "      <td>NaN</td>\n",
       "    </tr>\n",
       "    <tr>\n",
       "      <th>134</th>\n",
       "      <td>Nepal</td>\n",
       "      <td>0</td>\n",
       "      <td>0</td>\n",
       "      <td>29137000</td>\n",
       "      <td>0.0</td>\n",
       "      <td>NaN</td>\n",
       "    </tr>\n",
       "    <tr>\n",
       "      <th>135</th>\n",
       "      <td>Países Bajos</td>\n",
       "      <td>0</td>\n",
       "      <td>0</td>\n",
       "      <td>17135000</td>\n",
       "      <td>0.0</td>\n",
       "      <td>NaN</td>\n",
       "    </tr>\n",
       "    <tr>\n",
       "      <th>136</th>\n",
       "      <td>Nueva Caledonia</td>\n",
       "      <td>0</td>\n",
       "      <td>0</td>\n",
       "      <td>285000</td>\n",
       "      <td>0.0</td>\n",
       "      <td>NaN</td>\n",
       "    </tr>\n",
       "    <tr>\n",
       "      <th>137</th>\n",
       "      <td>Nueva Zelanda</td>\n",
       "      <td>0</td>\n",
       "      <td>0</td>\n",
       "      <td>4822000</td>\n",
       "      <td>0.0</td>\n",
       "      <td>NaN</td>\n",
       "    </tr>\n",
       "    <tr>\n",
       "      <th>138</th>\n",
       "      <td>Nicaragua</td>\n",
       "      <td>0</td>\n",
       "      <td>0</td>\n",
       "      <td>6625000</td>\n",
       "      <td>0.0</td>\n",
       "      <td>NaN</td>\n",
       "    </tr>\n",
       "    <tr>\n",
       "      <th>139</th>\n",
       "      <td>Níger</td>\n",
       "      <td>0</td>\n",
       "      <td>0</td>\n",
       "      <td>24207000</td>\n",
       "      <td>0.0</td>\n",
       "      <td>NaN</td>\n",
       "    </tr>\n",
       "    <tr>\n",
       "      <th>140</th>\n",
       "      <td>Nigeria</td>\n",
       "      <td>0</td>\n",
       "      <td>0</td>\n",
       "      <td>206140000</td>\n",
       "      <td>0.0</td>\n",
       "      <td>NaN</td>\n",
       "    </tr>\n",
       "    <tr>\n",
       "      <th>141</th>\n",
       "      <td>Niue</td>\n",
       "      <td>0</td>\n",
       "      <td>0</td>\n",
       "      <td>2000</td>\n",
       "      <td>0.0</td>\n",
       "      <td>NaN</td>\n",
       "    </tr>\n",
       "    <tr>\n",
       "      <th>142</th>\n",
       "      <td>Noruega</td>\n",
       "      <td>0</td>\n",
       "      <td>0</td>\n",
       "      <td>5421000</td>\n",
       "      <td>0.0</td>\n",
       "      <td>NaN</td>\n",
       "    </tr>\n",
       "    <tr>\n",
       "      <th>143</th>\n",
       "      <td>Omán</td>\n",
       "      <td>0</td>\n",
       "      <td>0</td>\n",
       "      <td>5107000</td>\n",
       "      <td>0.0</td>\n",
       "      <td>NaN</td>\n",
       "    </tr>\n",
       "    <tr>\n",
       "      <th>144</th>\n",
       "      <td>Pakistán</td>\n",
       "      <td>0</td>\n",
       "      <td>0</td>\n",
       "      <td>220892000</td>\n",
       "      <td>0.0</td>\n",
       "      <td>NaN</td>\n",
       "    </tr>\n",
       "    <tr>\n",
       "      <th>145</th>\n",
       "      <td>Palau</td>\n",
       "      <td>0</td>\n",
       "      <td>0</td>\n",
       "      <td>18000</td>\n",
       "      <td>0.0</td>\n",
       "      <td>NaN</td>\n",
       "    </tr>\n",
       "    <tr>\n",
       "      <th>146</th>\n",
       "      <td>Panamá</td>\n",
       "      <td>0</td>\n",
       "      <td>0</td>\n",
       "      <td>4315000</td>\n",
       "      <td>0.0</td>\n",
       "      <td>NaN</td>\n",
       "    </tr>\n",
       "    <tr>\n",
       "      <th>147</th>\n",
       "      <td>Papúa Nueva Guinea</td>\n",
       "      <td>0</td>\n",
       "      <td>0</td>\n",
       "      <td>8947000</td>\n",
       "      <td>0.0</td>\n",
       "      <td>NaN</td>\n",
       "    </tr>\n",
       "    <tr>\n",
       "      <th>148</th>\n",
       "      <td>Paraguay</td>\n",
       "      <td>0</td>\n",
       "      <td>0</td>\n",
       "      <td>7133000</td>\n",
       "      <td>0.0</td>\n",
       "      <td>NaN</td>\n",
       "    </tr>\n",
       "    <tr>\n",
       "      <th>149</th>\n",
       "      <td>Perú</td>\n",
       "      <td>0</td>\n",
       "      <td>0</td>\n",
       "      <td>32972000</td>\n",
       "      <td>0.0</td>\n",
       "      <td>NaN</td>\n",
       "    </tr>\n",
       "    <tr>\n",
       "      <th>150</th>\n",
       "      <td>Filipinas</td>\n",
       "      <td>0</td>\n",
       "      <td>0</td>\n",
       "      <td>109581000</td>\n",
       "      <td>0.0</td>\n",
       "      <td>NaN</td>\n",
       "    </tr>\n",
       "    <tr>\n",
       "      <th>151</th>\n",
       "      <td>Polonia</td>\n",
       "      <td>0</td>\n",
       "      <td>0</td>\n",
       "      <td>37847000</td>\n",
       "      <td>0.0</td>\n",
       "      <td>NaN</td>\n",
       "    </tr>\n",
       "    <tr>\n",
       "      <th>152</th>\n",
       "      <td>Portugal</td>\n",
       "      <td>0</td>\n",
       "      <td>0</td>\n",
       "      <td>10197000</td>\n",
       "      <td>0.0</td>\n",
       "      <td>NaN</td>\n",
       "    </tr>\n",
       "    <tr>\n",
       "      <th>153</th>\n",
       "      <td>Puerto Rico</td>\n",
       "      <td>0</td>\n",
       "      <td>0</td>\n",
       "      <td>2861000</td>\n",
       "      <td>0.0</td>\n",
       "      <td>NaN</td>\n",
       "    </tr>\n",
       "    <tr>\n",
       "      <th>154</th>\n",
       "      <td>República de Corea</td>\n",
       "      <td>0</td>\n",
       "      <td>0</td>\n",
       "      <td>51269000</td>\n",
       "      <td>0.0</td>\n",
       "      <td>NaN</td>\n",
       "    </tr>\n",
       "    <tr>\n",
       "      <th>155</th>\n",
       "      <td>República de Moldova</td>\n",
       "      <td>0</td>\n",
       "      <td>0</td>\n",
       "      <td>4034000</td>\n",
       "      <td>0.0</td>\n",
       "      <td>NaN</td>\n",
       "    </tr>\n",
       "    <tr>\n",
       "      <th>132</th>\n",
       "      <td>Namibia</td>\n",
       "      <td>0</td>\n",
       "      <td>0</td>\n",
       "      <td>2541000</td>\n",
       "      <td>0.0</td>\n",
       "      <td>NaN</td>\n",
       "    </tr>\n",
       "    <tr>\n",
       "      <th>131</th>\n",
       "      <td>Myanmar</td>\n",
       "      <td>0</td>\n",
       "      <td>0</td>\n",
       "      <td>54410000</td>\n",
       "      <td>0.0</td>\n",
       "      <td>NaN</td>\n",
       "    </tr>\n",
       "    <tr>\n",
       "      <th>130</th>\n",
       "      <td>Mozambique</td>\n",
       "      <td>0</td>\n",
       "      <td>0</td>\n",
       "      <td>31255000</td>\n",
       "      <td>0.0</td>\n",
       "      <td>NaN</td>\n",
       "    </tr>\n",
       "    <tr>\n",
       "      <th>117</th>\n",
       "      <td>Maldivas</td>\n",
       "      <td>0</td>\n",
       "      <td>0</td>\n",
       "      <td>541000</td>\n",
       "      <td>0.0</td>\n",
       "      <td>NaN</td>\n",
       "    </tr>\n",
       "    <tr>\n",
       "      <th>107</th>\n",
       "      <td>Líbano</td>\n",
       "      <td>0</td>\n",
       "      <td>0</td>\n",
       "      <td>6825000</td>\n",
       "      <td>0.0</td>\n",
       "      <td>NaN</td>\n",
       "    </tr>\n",
       "    <tr>\n",
       "      <th>108</th>\n",
       "      <td>Lesoto</td>\n",
       "      <td>0</td>\n",
       "      <td>0</td>\n",
       "      <td>2142000</td>\n",
       "      <td>0.0</td>\n",
       "      <td>NaN</td>\n",
       "    </tr>\n",
       "    <tr>\n",
       "      <th>109</th>\n",
       "      <td>Liberia</td>\n",
       "      <td>0</td>\n",
       "      <td>0</td>\n",
       "      <td>5058000</td>\n",
       "      <td>0.0</td>\n",
       "      <td>NaN</td>\n",
       "    </tr>\n",
       "    <tr>\n",
       "      <th>110</th>\n",
       "      <td>Libia</td>\n",
       "      <td>0</td>\n",
       "      <td>0</td>\n",
       "      <td>6871000</td>\n",
       "      <td>0.0</td>\n",
       "      <td>NaN</td>\n",
       "    </tr>\n",
       "    <tr>\n",
       "      <th>111</th>\n",
       "      <td>Liechtenstein</td>\n",
       "      <td>0</td>\n",
       "      <td>0</td>\n",
       "      <td>38000</td>\n",
       "      <td>0.0</td>\n",
       "      <td>NaN</td>\n",
       "    </tr>\n",
       "    <tr>\n",
       "      <th>112</th>\n",
       "      <td>Lituania</td>\n",
       "      <td>0</td>\n",
       "      <td>0</td>\n",
       "      <td>2722000</td>\n",
       "      <td>0.0</td>\n",
       "      <td>NaN</td>\n",
       "    </tr>\n",
       "    <tr>\n",
       "      <th>113</th>\n",
       "      <td>Luxemburgo</td>\n",
       "      <td>0</td>\n",
       "      <td>0</td>\n",
       "      <td>626000</td>\n",
       "      <td>0.0</td>\n",
       "      <td>NaN</td>\n",
       "    </tr>\n",
       "    <tr>\n",
       "      <th>114</th>\n",
       "      <td>Madagascar</td>\n",
       "      <td>0</td>\n",
       "      <td>0</td>\n",
       "      <td>27691000</td>\n",
       "      <td>0.0</td>\n",
       "      <td>NaN</td>\n",
       "    </tr>\n",
       "    <tr>\n",
       "      <th>115</th>\n",
       "      <td>Malawi</td>\n",
       "      <td>0</td>\n",
       "      <td>0</td>\n",
       "      <td>19130000</td>\n",
       "      <td>0.0</td>\n",
       "      <td>NaN</td>\n",
       "    </tr>\n",
       "    <tr>\n",
       "      <th>116</th>\n",
       "      <td>Malasia</td>\n",
       "      <td>0</td>\n",
       "      <td>0</td>\n",
       "      <td>32366000</td>\n",
       "      <td>0.0</td>\n",
       "      <td>NaN</td>\n",
       "    </tr>\n",
       "    <tr>\n",
       "      <th>118</th>\n",
       "      <td>Mali</td>\n",
       "      <td>0</td>\n",
       "      <td>0</td>\n",
       "      <td>20251000</td>\n",
       "      <td>0.0</td>\n",
       "      <td>NaN</td>\n",
       "    </tr>\n",
       "    <tr>\n",
       "      <th>129</th>\n",
       "      <td>Marruecos</td>\n",
       "      <td>0</td>\n",
       "      <td>0</td>\n",
       "      <td>36911000</td>\n",
       "      <td>0.0</td>\n",
       "      <td>NaN</td>\n",
       "    </tr>\n",
       "    <tr>\n",
       "      <th>119</th>\n",
       "      <td>Malta</td>\n",
       "      <td>0</td>\n",
       "      <td>0</td>\n",
       "      <td>442000</td>\n",
       "      <td>0.0</td>\n",
       "      <td>NaN</td>\n",
       "    </tr>\n",
       "    <tr>\n",
       "      <th>120</th>\n",
       "      <td>Islas Marshall</td>\n",
       "      <td>0</td>\n",
       "      <td>0</td>\n",
       "      <td>59000</td>\n",
       "      <td>0.0</td>\n",
       "      <td>NaN</td>\n",
       "    </tr>\n",
       "    <tr>\n",
       "      <th>121</th>\n",
       "      <td>Martinica</td>\n",
       "      <td>0</td>\n",
       "      <td>0</td>\n",
       "      <td>375000</td>\n",
       "      <td>0.0</td>\n",
       "      <td>NaN</td>\n",
       "    </tr>\n",
       "    <tr>\n",
       "      <th>122</th>\n",
       "      <td>Mauritania</td>\n",
       "      <td>0</td>\n",
       "      <td>0</td>\n",
       "      <td>4650000</td>\n",
       "      <td>0.0</td>\n",
       "      <td>NaN</td>\n",
       "    </tr>\n",
       "    <tr>\n",
       "      <th>123</th>\n",
       "      <td>Mauricio</td>\n",
       "      <td>0</td>\n",
       "      <td>0</td>\n",
       "      <td>1272000</td>\n",
       "      <td>0.0</td>\n",
       "      <td>NaN</td>\n",
       "    </tr>\n",
       "    <tr>\n",
       "      <th>124</th>\n",
       "      <td>Mayotte</td>\n",
       "      <td>0</td>\n",
       "      <td>0</td>\n",
       "      <td>273000</td>\n",
       "      <td>0.0</td>\n",
       "      <td>NaN</td>\n",
       "    </tr>\n",
       "    <tr>\n",
       "      <th>125</th>\n",
       "      <td>Mónaco</td>\n",
       "      <td>0</td>\n",
       "      <td>0</td>\n",
       "      <td>39000</td>\n",
       "      <td>0.0</td>\n",
       "      <td>NaN</td>\n",
       "    </tr>\n",
       "    <tr>\n",
       "      <th>126</th>\n",
       "      <td>Mongolia</td>\n",
       "      <td>0</td>\n",
       "      <td>0</td>\n",
       "      <td>3278000</td>\n",
       "      <td>0.0</td>\n",
       "      <td>NaN</td>\n",
       "    </tr>\n",
       "    <tr>\n",
       "      <th>127</th>\n",
       "      <td>Montenegro</td>\n",
       "      <td>0</td>\n",
       "      <td>0</td>\n",
       "      <td>628000</td>\n",
       "      <td>0.0</td>\n",
       "      <td>NaN</td>\n",
       "    </tr>\n",
       "  </tbody>\n",
       "</table>\n",
       "</div>"
      ],
      "text/plain": [
       "                     País  Total_Casos  Fallecidos  Población  \\\n",
       "0              Afganistán            0           0   38928000   \n",
       "157       Federación Rusa            0           0  145934000   \n",
       "133                 Nauru            0           0      11000   \n",
       "134                 Nepal            0           0   29137000   \n",
       "135          Países Bajos            0           0   17135000   \n",
       "136       Nueva Caledonia            0           0     285000   \n",
       "137         Nueva Zelanda            0           0    4822000   \n",
       "138             Nicaragua            0           0    6625000   \n",
       "139                 Níger            0           0   24207000   \n",
       "140               Nigeria            0           0  206140000   \n",
       "141                  Niue            0           0       2000   \n",
       "142               Noruega            0           0    5421000   \n",
       "143                  Omán            0           0    5107000   \n",
       "144              Pakistán            0           0  220892000   \n",
       "145                 Palau            0           0      18000   \n",
       "146                Panamá            0           0    4315000   \n",
       "147    Papúa Nueva Guinea            0           0    8947000   \n",
       "148              Paraguay            0           0    7133000   \n",
       "149                  Perú            0           0   32972000   \n",
       "150             Filipinas            0           0  109581000   \n",
       "151               Polonia            0           0   37847000   \n",
       "152              Portugal            0           0   10197000   \n",
       "153           Puerto Rico            0           0    2861000   \n",
       "154    República de Corea            0           0   51269000   \n",
       "155  República de Moldova            0           0    4034000   \n",
       "132               Namibia            0           0    2541000   \n",
       "131               Myanmar            0           0   54410000   \n",
       "130            Mozambique            0           0   31255000   \n",
       "117              Maldivas            0           0     541000   \n",
       "107                Líbano            0           0    6825000   \n",
       "108                Lesoto            0           0    2142000   \n",
       "109               Liberia            0           0    5058000   \n",
       "110                 Libia            0           0    6871000   \n",
       "111         Liechtenstein            0           0      38000   \n",
       "112              Lituania            0           0    2722000   \n",
       "113            Luxemburgo            0           0     626000   \n",
       "114            Madagascar            0           0   27691000   \n",
       "115                Malawi            0           0   19130000   \n",
       "116               Malasia            0           0   32366000   \n",
       "118                  Mali            0           0   20251000   \n",
       "129             Marruecos            0           0   36911000   \n",
       "119                 Malta            0           0     442000   \n",
       "120        Islas Marshall            0           0      59000   \n",
       "121             Martinica            0           0     375000   \n",
       "122            Mauritania            0           0    4650000   \n",
       "123              Mauricio            0           0    1272000   \n",
       "124               Mayotte            0           0     273000   \n",
       "125                Mónaco            0           0      39000   \n",
       "126              Mongolia            0           0    3278000   \n",
       "127            Montenegro            0           0     628000   \n",
       "\n",
       "     Tasa de mortalidad por millón de habitantes  \\\n",
       "0                                            0.0   \n",
       "157                                          0.0   \n",
       "133                                          0.0   \n",
       "134                                          0.0   \n",
       "135                                          0.0   \n",
       "136                                          0.0   \n",
       "137                                          0.0   \n",
       "138                                          0.0   \n",
       "139                                          0.0   \n",
       "140                                          0.0   \n",
       "141                                          0.0   \n",
       "142                                          0.0   \n",
       "143                                          0.0   \n",
       "144                                          0.0   \n",
       "145                                          0.0   \n",
       "146                                          0.0   \n",
       "147                                          0.0   \n",
       "148                                          0.0   \n",
       "149                                          0.0   \n",
       "150                                          0.0   \n",
       "151                                          0.0   \n",
       "152                                          0.0   \n",
       "153                                          0.0   \n",
       "154                                          0.0   \n",
       "155                                          0.0   \n",
       "132                                          0.0   \n",
       "131                                          0.0   \n",
       "130                                          0.0   \n",
       "117                                          0.0   \n",
       "107                                          0.0   \n",
       "108                                          0.0   \n",
       "109                                          0.0   \n",
       "110                                          0.0   \n",
       "111                                          0.0   \n",
       "112                                          0.0   \n",
       "113                                          0.0   \n",
       "114                                          0.0   \n",
       "115                                          0.0   \n",
       "116                                          0.0   \n",
       "118                                          0.0   \n",
       "129                                          0.0   \n",
       "119                                          0.0   \n",
       "120                                          0.0   \n",
       "121                                          0.0   \n",
       "122                                          0.0   \n",
       "123                                          0.0   \n",
       "124                                          0.0   \n",
       "125                                          0.0   \n",
       "126                                          0.0   \n",
       "127                                          0.0   \n",
       "\n",
       "     Tasa de letalidad por cien habitantes  \n",
       "0                                      NaN  \n",
       "157                                    NaN  \n",
       "133                                    NaN  \n",
       "134                                    NaN  \n",
       "135                                    NaN  \n",
       "136                                    NaN  \n",
       "137                                    NaN  \n",
       "138                                    NaN  \n",
       "139                                    NaN  \n",
       "140                                    NaN  \n",
       "141                                    NaN  \n",
       "142                                    NaN  \n",
       "143                                    NaN  \n",
       "144                                    NaN  \n",
       "145                                    NaN  \n",
       "146                                    NaN  \n",
       "147                                    NaN  \n",
       "148                                    NaN  \n",
       "149                                    NaN  \n",
       "150                                    NaN  \n",
       "151                                    NaN  \n",
       "152                                    NaN  \n",
       "153                                    NaN  \n",
       "154                                    NaN  \n",
       "155                                    NaN  \n",
       "132                                    NaN  \n",
       "131                                    NaN  \n",
       "130                                    NaN  \n",
       "117                                    NaN  \n",
       "107                                    NaN  \n",
       "108                                    NaN  \n",
       "109                                    NaN  \n",
       "110                                    NaN  \n",
       "111                                    NaN  \n",
       "112                                    NaN  \n",
       "113                                    NaN  \n",
       "114                                    NaN  \n",
       "115                                    NaN  \n",
       "116                                    NaN  \n",
       "118                                    NaN  \n",
       "129                                    NaN  \n",
       "119                                    NaN  \n",
       "120                                    NaN  \n",
       "121                                    NaN  \n",
       "122                                    NaN  \n",
       "123                                    NaN  \n",
       "124                                    NaN  \n",
       "125                                    NaN  \n",
       "126                                    NaN  \n",
       "127                                    NaN  "
      ]
     },
     "execution_count": 54,
     "metadata": {},
     "output_type": "execute_result"
    }
   ],
   "source": [
    "tasasMundiales.sort_values('Tasa de mortalidad por millón de habitantes', ascending=False).round(2).head(50)"
   ]
  },
  {
   "cell_type": "markdown",
   "metadata": {},
   "source": [
    "# Personas fallecidas en el mundo por CoV-2  (pendiente ajustes)"
   ]
  },
  {
   "cell_type": "code",
   "execution_count": 55,
   "metadata": {},
   "outputs": [
    {
     "data": {
      "text/plain": [
       "0"
      ]
     },
     "execution_count": 55,
     "metadata": {},
     "output_type": "execute_result"
    }
   ],
   "source": [
    "tasasMundiales['Fallecidos'].sum()"
   ]
  },
  {
   "cell_type": "code",
   "execution_count": 56,
   "metadata": {},
   "outputs": [
    {
     "data": {
      "text/html": [
       "<div>\n",
       "<style scoped>\n",
       "    .dataframe tbody tr th:only-of-type {\n",
       "        vertical-align: middle;\n",
       "    }\n",
       "\n",
       "    .dataframe tbody tr th {\n",
       "        vertical-align: top;\n",
       "    }\n",
       "\n",
       "    .dataframe thead th {\n",
       "        text-align: right;\n",
       "    }\n",
       "</style>\n",
       "<table border=\"1\" class=\"dataframe\">\n",
       "  <thead>\n",
       "    <tr style=\"text-align: right;\">\n",
       "      <th></th>\n",
       "      <th>Fecha de notificación</th>\n",
       "      <th>Nombre departamento</th>\n",
       "      <th>Nombre municipio</th>\n",
       "      <th>Edad</th>\n",
       "      <th>Sexo</th>\n",
       "      <th>Tipo de contagio</th>\n",
       "      <th>Estado</th>\n",
       "      <th>Fecha de muerte</th>\n",
       "      <th>Fecha de diagnóstico</th>\n",
       "      <th>Fecha de recuperación</th>\n",
       "      <th>Tipo de recuperación</th>\n",
       "    </tr>\n",
       "  </thead>\n",
       "  <tbody>\n",
       "    <tr>\n",
       "      <th>0</th>\n",
       "      <td>2020-02-03</td>\n",
       "      <td>BOGOTA</td>\n",
       "      <td>BOGOTA</td>\n",
       "      <td>19</td>\n",
       "      <td>F</td>\n",
       "      <td>Importado</td>\n",
       "      <td>Leve</td>\n",
       "      <td>NaN</td>\n",
       "      <td>2020-06-03</td>\n",
       "      <td>2020-03-13</td>\n",
       "      <td>PCR</td>\n",
       "    </tr>\n",
       "    <tr>\n",
       "      <th>1</th>\n",
       "      <td>2020-06-03</td>\n",
       "      <td>VALLE</td>\n",
       "      <td>BUGA</td>\n",
       "      <td>34</td>\n",
       "      <td>M</td>\n",
       "      <td>Importado</td>\n",
       "      <td>Leve</td>\n",
       "      <td>NaN</td>\n",
       "      <td>2020-09-03</td>\n",
       "      <td>2020-03-19</td>\n",
       "      <td>PCR</td>\n",
       "    </tr>\n",
       "    <tr>\n",
       "      <th>2</th>\n",
       "      <td>2020-07-03</td>\n",
       "      <td>ANTIOQUIA</td>\n",
       "      <td>MEDELLIN</td>\n",
       "      <td>50</td>\n",
       "      <td>F</td>\n",
       "      <td>Importado</td>\n",
       "      <td>Leve</td>\n",
       "      <td>NaN</td>\n",
       "      <td>2020-09-03</td>\n",
       "      <td>2020-03-15</td>\n",
       "      <td>PCR</td>\n",
       "    </tr>\n",
       "    <tr>\n",
       "      <th>3</th>\n",
       "      <td>2020-09-03</td>\n",
       "      <td>ANTIOQUIA</td>\n",
       "      <td>MEDELLIN</td>\n",
       "      <td>55</td>\n",
       "      <td>M</td>\n",
       "      <td>Relacionado</td>\n",
       "      <td>Leve</td>\n",
       "      <td>NaN</td>\n",
       "      <td>2020-11-03</td>\n",
       "      <td>2020-03-26</td>\n",
       "      <td>PCR</td>\n",
       "    </tr>\n",
       "    <tr>\n",
       "      <th>4</th>\n",
       "      <td>2020-09-03</td>\n",
       "      <td>ANTIOQUIA</td>\n",
       "      <td>MEDELLIN</td>\n",
       "      <td>25</td>\n",
       "      <td>M</td>\n",
       "      <td>Relacionado</td>\n",
       "      <td>Leve</td>\n",
       "      <td>NaN</td>\n",
       "      <td>2020-11-03</td>\n",
       "      <td>2020-03-23</td>\n",
       "      <td>PCR</td>\n",
       "    </tr>\n",
       "    <tr>\n",
       "      <th>...</th>\n",
       "      <td>...</td>\n",
       "      <td>...</td>\n",
       "      <td>...</td>\n",
       "      <td>...</td>\n",
       "      <td>...</td>\n",
       "      <td>...</td>\n",
       "      <td>...</td>\n",
       "      <td>...</td>\n",
       "      <td>...</td>\n",
       "      <td>...</td>\n",
       "      <td>...</td>\n",
       "    </tr>\n",
       "    <tr>\n",
       "      <th>1099387</th>\n",
       "      <td>2020-10-20</td>\n",
       "      <td>SANTANDER</td>\n",
       "      <td>SAN GIL</td>\n",
       "      <td>24</td>\n",
       "      <td>F</td>\n",
       "      <td>En estudio</td>\n",
       "      <td>Leve</td>\n",
       "      <td>NaN</td>\n",
       "      <td>2020-10-25</td>\n",
       "      <td>2020-01-11</td>\n",
       "      <td>Tiempo</td>\n",
       "    </tr>\n",
       "    <tr>\n",
       "      <th>1099388</th>\n",
       "      <td>2020-10-22</td>\n",
       "      <td>SANTANDER</td>\n",
       "      <td>BUCARAMANGA</td>\n",
       "      <td>45</td>\n",
       "      <td>F</td>\n",
       "      <td>En estudio</td>\n",
       "      <td>Leve</td>\n",
       "      <td>NaN</td>\n",
       "      <td>2020-10-30</td>\n",
       "      <td>2020-01-11</td>\n",
       "      <td>Tiempo</td>\n",
       "    </tr>\n",
       "    <tr>\n",
       "      <th>1099389</th>\n",
       "      <td>2020-10-25</td>\n",
       "      <td>SANTANDER</td>\n",
       "      <td>BUCARAMANGA</td>\n",
       "      <td>70</td>\n",
       "      <td>F</td>\n",
       "      <td>En estudio</td>\n",
       "      <td>Leve</td>\n",
       "      <td>NaN</td>\n",
       "      <td>2020-10-29</td>\n",
       "      <td>2020-01-11</td>\n",
       "      <td>Tiempo</td>\n",
       "    </tr>\n",
       "    <tr>\n",
       "      <th>1099390</th>\n",
       "      <td>2020-10-14</td>\n",
       "      <td>SANTANDER</td>\n",
       "      <td>BUCARAMANGA</td>\n",
       "      <td>35</td>\n",
       "      <td>M</td>\n",
       "      <td>En estudio</td>\n",
       "      <td>Moderado</td>\n",
       "      <td>NaN</td>\n",
       "      <td>2020-10-30</td>\n",
       "      <td>NaT</td>\n",
       "      <td>NaN</td>\n",
       "    </tr>\n",
       "    <tr>\n",
       "      <th>1099391</th>\n",
       "      <td>2020-10-20</td>\n",
       "      <td>SANTANDER</td>\n",
       "      <td>BUCARAMANGA</td>\n",
       "      <td>45</td>\n",
       "      <td>F</td>\n",
       "      <td>En estudio</td>\n",
       "      <td>Leve</td>\n",
       "      <td>NaN</td>\n",
       "      <td>2020-10-30</td>\n",
       "      <td>2020-01-11</td>\n",
       "      <td>Tiempo</td>\n",
       "    </tr>\n",
       "  </tbody>\n",
       "</table>\n",
       "<p>1099392 rows × 11 columns</p>\n",
       "</div>"
      ],
      "text/plain": [
       "        Fecha de notificación Nombre departamento Nombre municipio Edad Sexo  \\\n",
       "0                  2020-02-03              BOGOTA           BOGOTA   19    F   \n",
       "1                  2020-06-03               VALLE             BUGA   34    M   \n",
       "2                  2020-07-03           ANTIOQUIA         MEDELLIN   50    F   \n",
       "3                  2020-09-03           ANTIOQUIA         MEDELLIN   55    M   \n",
       "4                  2020-09-03           ANTIOQUIA         MEDELLIN   25    M   \n",
       "...                       ...                 ...              ...  ...  ...   \n",
       "1099387            2020-10-20           SANTANDER          SAN GIL   24    F   \n",
       "1099388            2020-10-22           SANTANDER      BUCARAMANGA   45    F   \n",
       "1099389            2020-10-25           SANTANDER      BUCARAMANGA   70    F   \n",
       "1099390            2020-10-14           SANTANDER      BUCARAMANGA   35    M   \n",
       "1099391            2020-10-20           SANTANDER      BUCARAMANGA   45    F   \n",
       "\n",
       "        Tipo de contagio    Estado Fecha de muerte Fecha de diagnóstico  \\\n",
       "0              Importado      Leve             NaN           2020-06-03   \n",
       "1              Importado      Leve             NaN           2020-09-03   \n",
       "2              Importado      Leve             NaN           2020-09-03   \n",
       "3            Relacionado      Leve             NaN           2020-11-03   \n",
       "4            Relacionado      Leve             NaN           2020-11-03   \n",
       "...                  ...       ...             ...                  ...   \n",
       "1099387       En estudio      Leve             NaN           2020-10-25   \n",
       "1099388       En estudio      Leve             NaN           2020-10-30   \n",
       "1099389       En estudio      Leve             NaN           2020-10-29   \n",
       "1099390       En estudio  Moderado             NaN           2020-10-30   \n",
       "1099391       En estudio      Leve             NaN           2020-10-30   \n",
       "\n",
       "        Fecha de recuperación Tipo de recuperación  \n",
       "0                  2020-03-13                  PCR  \n",
       "1                  2020-03-19                  PCR  \n",
       "2                  2020-03-15                  PCR  \n",
       "3                  2020-03-26                  PCR  \n",
       "4                  2020-03-23                  PCR  \n",
       "...                       ...                  ...  \n",
       "1099387            2020-01-11               Tiempo  \n",
       "1099388            2020-01-11               Tiempo  \n",
       "1099389            2020-01-11               Tiempo  \n",
       "1099390                   NaT                  NaN  \n",
       "1099391            2020-01-11               Tiempo  \n",
       "\n",
       "[1099392 rows x 11 columns]"
      ]
     },
     "execution_count": 56,
     "metadata": {},
     "output_type": "execute_result"
    }
   ],
   "source": [
    "col\n"
   ]
  },
  {
   "cell_type": "code",
   "execution_count": 57,
   "metadata": {},
   "outputs": [
    {
     "data": {
      "text/html": [
       "<div>\n",
       "<style scoped>\n",
       "    .dataframe tbody tr th:only-of-type {\n",
       "        vertical-align: middle;\n",
       "    }\n",
       "\n",
       "    .dataframe tbody tr th {\n",
       "        vertical-align: top;\n",
       "    }\n",
       "\n",
       "    .dataframe thead th {\n",
       "        text-align: right;\n",
       "    }\n",
       "</style>\n",
       "<table border=\"1\" class=\"dataframe\">\n",
       "  <thead>\n",
       "    <tr style=\"text-align: right;\">\n",
       "      <th></th>\n",
       "      <th>Fecha de notificación</th>\n",
       "      <th>Nombre departamento</th>\n",
       "      <th>Nombre municipio</th>\n",
       "      <th>Edad</th>\n",
       "      <th>Sexo</th>\n",
       "      <th>Tipo de contagio</th>\n",
       "      <th>Estado</th>\n",
       "      <th>Fecha de muerte</th>\n",
       "      <th>Fecha de diagnóstico</th>\n",
       "      <th>Fecha de recuperación</th>\n",
       "      <th>Tipo de recuperación</th>\n",
       "    </tr>\n",
       "  </thead>\n",
       "  <tbody>\n",
       "    <tr>\n",
       "      <th>30</th>\n",
       "      <td>2020-12-03</td>\n",
       "      <td>CALDAS</td>\n",
       "      <td>MANIZALES</td>\n",
       "      <td>65</td>\n",
       "      <td>M</td>\n",
       "      <td>Importado</td>\n",
       "      <td>Leve</td>\n",
       "      <td>NaN</td>\n",
       "      <td>2020-03-13</td>\n",
       "      <td>2020-03-26</td>\n",
       "      <td>PCR</td>\n",
       "    </tr>\n",
       "    <tr>\n",
       "      <th>142</th>\n",
       "      <td>2020-03-17</td>\n",
       "      <td>CALDAS</td>\n",
       "      <td>VITERBO</td>\n",
       "      <td>38</td>\n",
       "      <td>F</td>\n",
       "      <td>Importado</td>\n",
       "      <td>Leve</td>\n",
       "      <td>NaN</td>\n",
       "      <td>2020-03-19</td>\n",
       "      <td>2020-03-31</td>\n",
       "      <td>PCR</td>\n",
       "    </tr>\n",
       "    <tr>\n",
       "      <th>200</th>\n",
       "      <td>2020-03-18</td>\n",
       "      <td>CALDAS</td>\n",
       "      <td>MANIZALES</td>\n",
       "      <td>22</td>\n",
       "      <td>F</td>\n",
       "      <td>Importado</td>\n",
       "      <td>Leve</td>\n",
       "      <td>NaN</td>\n",
       "      <td>2020-03-21</td>\n",
       "      <td>2020-01-04</td>\n",
       "      <td>PCR</td>\n",
       "    </tr>\n",
       "    <tr>\n",
       "      <th>237</th>\n",
       "      <td>2020-03-19</td>\n",
       "      <td>CALDAS</td>\n",
       "      <td>LA DORADA</td>\n",
       "      <td>24</td>\n",
       "      <td>F</td>\n",
       "      <td>Relacionado</td>\n",
       "      <td>Leve</td>\n",
       "      <td>NaN</td>\n",
       "      <td>2020-03-22</td>\n",
       "      <td>2020-03-31</td>\n",
       "      <td>PCR</td>\n",
       "    </tr>\n",
       "    <tr>\n",
       "      <th>238</th>\n",
       "      <td>2020-03-19</td>\n",
       "      <td>CALDAS</td>\n",
       "      <td>CHINCHINA</td>\n",
       "      <td>51</td>\n",
       "      <td>M</td>\n",
       "      <td>Importado</td>\n",
       "      <td>Leve</td>\n",
       "      <td>NaN</td>\n",
       "      <td>2020-03-22</td>\n",
       "      <td>2020-03-28</td>\n",
       "      <td>PCR</td>\n",
       "    </tr>\n",
       "    <tr>\n",
       "      <th>...</th>\n",
       "      <td>...</td>\n",
       "      <td>...</td>\n",
       "      <td>...</td>\n",
       "      <td>...</td>\n",
       "      <td>...</td>\n",
       "      <td>...</td>\n",
       "      <td>...</td>\n",
       "      <td>...</td>\n",
       "      <td>...</td>\n",
       "      <td>...</td>\n",
       "      <td>...</td>\n",
       "    </tr>\n",
       "    <tr>\n",
       "      <th>1097755</th>\n",
       "      <td>2020-10-22</td>\n",
       "      <td>CALDAS</td>\n",
       "      <td>LA MERCED</td>\n",
       "      <td>16</td>\n",
       "      <td>F</td>\n",
       "      <td>En estudio</td>\n",
       "      <td>Leve</td>\n",
       "      <td>NaN</td>\n",
       "      <td>2020-02-11</td>\n",
       "      <td>NaT</td>\n",
       "      <td>NaN</td>\n",
       "    </tr>\n",
       "    <tr>\n",
       "      <th>1097756</th>\n",
       "      <td>2020-10-22</td>\n",
       "      <td>CALDAS</td>\n",
       "      <td>LA MERCED</td>\n",
       "      <td>37</td>\n",
       "      <td>F</td>\n",
       "      <td>En estudio</td>\n",
       "      <td>Leve</td>\n",
       "      <td>NaN</td>\n",
       "      <td>2020-02-11</td>\n",
       "      <td>NaT</td>\n",
       "      <td>NaN</td>\n",
       "    </tr>\n",
       "    <tr>\n",
       "      <th>1097757</th>\n",
       "      <td>2020-10-22</td>\n",
       "      <td>CALDAS</td>\n",
       "      <td>MANIZALES</td>\n",
       "      <td>89</td>\n",
       "      <td>M</td>\n",
       "      <td>En estudio</td>\n",
       "      <td>Leve</td>\n",
       "      <td>NaN</td>\n",
       "      <td>2020-02-11</td>\n",
       "      <td>NaT</td>\n",
       "      <td>NaN</td>\n",
       "    </tr>\n",
       "    <tr>\n",
       "      <th>1097758</th>\n",
       "      <td>2020-10-22</td>\n",
       "      <td>CALDAS</td>\n",
       "      <td>MANIZALES</td>\n",
       "      <td>97</td>\n",
       "      <td>F</td>\n",
       "      <td>En estudio</td>\n",
       "      <td>Leve</td>\n",
       "      <td>NaN</td>\n",
       "      <td>2020-02-11</td>\n",
       "      <td>NaT</td>\n",
       "      <td>NaN</td>\n",
       "    </tr>\n",
       "    <tr>\n",
       "      <th>1097894</th>\n",
       "      <td>2020-10-20</td>\n",
       "      <td>CALDAS</td>\n",
       "      <td>MANIZALES</td>\n",
       "      <td>5</td>\n",
       "      <td>M</td>\n",
       "      <td>En estudio</td>\n",
       "      <td>Leve</td>\n",
       "      <td>NaN</td>\n",
       "      <td>2020-10-31</td>\n",
       "      <td>NaT</td>\n",
       "      <td>NaN</td>\n",
       "    </tr>\n",
       "  </tbody>\n",
       "</table>\n",
       "<p>15084 rows × 11 columns</p>\n",
       "</div>"
      ],
      "text/plain": [
       "        Fecha de notificación Nombre departamento Nombre municipio Edad Sexo  \\\n",
       "30                 2020-12-03              CALDAS        MANIZALES   65    M   \n",
       "142                2020-03-17              CALDAS          VITERBO   38    F   \n",
       "200                2020-03-18              CALDAS        MANIZALES   22    F   \n",
       "237                2020-03-19              CALDAS        LA DORADA   24    F   \n",
       "238                2020-03-19              CALDAS        CHINCHINA   51    M   \n",
       "...                       ...                 ...              ...  ...  ...   \n",
       "1097755            2020-10-22              CALDAS        LA MERCED   16    F   \n",
       "1097756            2020-10-22              CALDAS        LA MERCED   37    F   \n",
       "1097757            2020-10-22              CALDAS        MANIZALES   89    M   \n",
       "1097758            2020-10-22              CALDAS        MANIZALES   97    F   \n",
       "1097894            2020-10-20              CALDAS        MANIZALES    5    M   \n",
       "\n",
       "        Tipo de contagio Estado Fecha de muerte Fecha de diagnóstico  \\\n",
       "30             Importado   Leve             NaN           2020-03-13   \n",
       "142            Importado   Leve             NaN           2020-03-19   \n",
       "200            Importado   Leve             NaN           2020-03-21   \n",
       "237          Relacionado   Leve             NaN           2020-03-22   \n",
       "238            Importado   Leve             NaN           2020-03-22   \n",
       "...                  ...    ...             ...                  ...   \n",
       "1097755       En estudio   Leve             NaN           2020-02-11   \n",
       "1097756       En estudio   Leve             NaN           2020-02-11   \n",
       "1097757       En estudio   Leve             NaN           2020-02-11   \n",
       "1097758       En estudio   Leve             NaN           2020-02-11   \n",
       "1097894       En estudio   Leve             NaN           2020-10-31   \n",
       "\n",
       "        Fecha de recuperación Tipo de recuperación  \n",
       "30                 2020-03-26                  PCR  \n",
       "142                2020-03-31                  PCR  \n",
       "200                2020-01-04                  PCR  \n",
       "237                2020-03-31                  PCR  \n",
       "238                2020-03-28                  PCR  \n",
       "...                       ...                  ...  \n",
       "1097755                   NaT                  NaN  \n",
       "1097756                   NaT                  NaN  \n",
       "1097757                   NaT                  NaN  \n",
       "1097758                   NaT                  NaN  \n",
       "1097894                   NaT                  NaN  \n",
       "\n",
       "[15084 rows x 11 columns]"
      ]
     },
     "execution_count": 57,
     "metadata": {},
     "output_type": "execute_result"
    }
   ],
   "source": [
    "porDpto=col.loc[col['Nombre departamento']==localidad,:]\n",
    "porDpto"
   ]
  },
  {
   "cell_type": "code",
   "execution_count": 58,
   "metadata": {},
   "outputs": [],
   "source": [
    "CasosporEdad= porDpto.groupby('Edad').count().drop(columns=['Tipo de contagio','Tipo de recuperación','Nombre municipio', 'Nombre departamento','Sexo','Estado','Fecha de muerte','Fecha de diagnóstico','Fecha de recuperación'])\n",
    "CasosporEdad.rename(columns={'Fecha de notificación':'Número de casos'}, inplace=True)"
   ]
  },
  {
   "cell_type": "code",
   "execution_count": 59,
   "metadata": {},
   "outputs": [],
   "source": [
    "fallecidosporEdad= porDpto.groupby('Edad').count().drop(columns=['Tipo de contagio','Tipo de recuperación','Fecha de notificación','Nombre municipio', 'Nombre departamento', 'Sexo','Estado','Fecha de diagnóstico','Fecha de recuperación'])\n",
    "fallecidosporEdad.rename(columns={'Fecha de muerte':'Número de fallecidos'}, inplace=True)"
   ]
  },
  {
   "cell_type": "code",
   "execution_count": 60,
   "metadata": {},
   "outputs": [
    {
     "data": {
      "text/html": [
       "<div>\n",
       "<style scoped>\n",
       "    .dataframe tbody tr th:only-of-type {\n",
       "        vertical-align: middle;\n",
       "    }\n",
       "\n",
       "    .dataframe tbody tr th {\n",
       "        vertical-align: top;\n",
       "    }\n",
       "\n",
       "    .dataframe thead th {\n",
       "        text-align: right;\n",
       "    }\n",
       "</style>\n",
       "<table border=\"1\" class=\"dataframe\">\n",
       "  <thead>\n",
       "    <tr style=\"text-align: right;\">\n",
       "      <th>Edad</th>\n",
       "      <th>1</th>\n",
       "      <th>2</th>\n",
       "      <th>3</th>\n",
       "      <th>4</th>\n",
       "      <th>5</th>\n",
       "      <th>6</th>\n",
       "      <th>7</th>\n",
       "      <th>8</th>\n",
       "      <th>9</th>\n",
       "      <th>10</th>\n",
       "      <th>...</th>\n",
       "      <th>106</th>\n",
       "      <th>107</th>\n",
       "      <th>108</th>\n",
       "      <th>109</th>\n",
       "      <th>110</th>\n",
       "      <th>111</th>\n",
       "      <th>112</th>\n",
       "      <th>113</th>\n",
       "      <th>115</th>\n",
       "      <th>123</th>\n",
       "    </tr>\n",
       "  </thead>\n",
       "  <tbody>\n",
       "    <tr>\n",
       "      <th>Número de casos</th>\n",
       "      <td>48</td>\n",
       "      <td>35</td>\n",
       "      <td>36</td>\n",
       "      <td>35</td>\n",
       "      <td>40</td>\n",
       "      <td>43</td>\n",
       "      <td>37</td>\n",
       "      <td>48</td>\n",
       "      <td>46</td>\n",
       "      <td>40</td>\n",
       "      <td>...</td>\n",
       "      <td>0</td>\n",
       "      <td>0</td>\n",
       "      <td>0</td>\n",
       "      <td>0</td>\n",
       "      <td>1</td>\n",
       "      <td>0</td>\n",
       "      <td>0</td>\n",
       "      <td>0</td>\n",
       "      <td>0</td>\n",
       "      <td>1</td>\n",
       "    </tr>\n",
       "  </tbody>\n",
       "</table>\n",
       "<p>1 rows × 115 columns</p>\n",
       "</div>"
      ],
      "text/plain": [
       "Edad             1    2    3    4    5    6    7    8    9    10   ...  106  \\\n",
       "Número de casos   48   35   36   35   40   43   37   48   46   40  ...    0   \n",
       "\n",
       "Edad             107  108  109  110  111  112  113  115  123  \n",
       "Número de casos    0    0    0    1    0    0    0    0    1  \n",
       "\n",
       "[1 rows x 115 columns]"
      ]
     },
     "execution_count": 60,
     "metadata": {},
     "output_type": "execute_result"
    }
   ],
   "source": [
    "CasosporEdad=CasosporEdad.transpose()\n",
    "CasosporEdad"
   ]
  },
  {
   "cell_type": "code",
   "execution_count": 61,
   "metadata": {},
   "outputs": [
    {
     "data": {
      "text/html": [
       "<div>\n",
       "<style scoped>\n",
       "    .dataframe tbody tr th:only-of-type {\n",
       "        vertical-align: middle;\n",
       "    }\n",
       "\n",
       "    .dataframe tbody tr th {\n",
       "        vertical-align: top;\n",
       "    }\n",
       "\n",
       "    .dataframe thead th {\n",
       "        text-align: right;\n",
       "    }\n",
       "</style>\n",
       "<table border=\"1\" class=\"dataframe\">\n",
       "  <thead>\n",
       "    <tr style=\"text-align: right;\">\n",
       "      <th>Edad</th>\n",
       "      <th>1</th>\n",
       "      <th>2</th>\n",
       "      <th>3</th>\n",
       "      <th>4</th>\n",
       "      <th>5</th>\n",
       "      <th>6</th>\n",
       "      <th>7</th>\n",
       "      <th>8</th>\n",
       "      <th>9</th>\n",
       "      <th>10</th>\n",
       "      <th>...</th>\n",
       "      <th>106</th>\n",
       "      <th>107</th>\n",
       "      <th>108</th>\n",
       "      <th>109</th>\n",
       "      <th>110</th>\n",
       "      <th>111</th>\n",
       "      <th>112</th>\n",
       "      <th>113</th>\n",
       "      <th>115</th>\n",
       "      <th>123</th>\n",
       "    </tr>\n",
       "  </thead>\n",
       "  <tbody>\n",
       "    <tr>\n",
       "      <th>Número de fallecidos</th>\n",
       "      <td>0</td>\n",
       "      <td>0</td>\n",
       "      <td>0</td>\n",
       "      <td>0</td>\n",
       "      <td>0</td>\n",
       "      <td>2</td>\n",
       "      <td>0</td>\n",
       "      <td>0</td>\n",
       "      <td>0</td>\n",
       "      <td>0</td>\n",
       "      <td>...</td>\n",
       "      <td>0</td>\n",
       "      <td>0</td>\n",
       "      <td>0</td>\n",
       "      <td>0</td>\n",
       "      <td>0</td>\n",
       "      <td>0</td>\n",
       "      <td>0</td>\n",
       "      <td>0</td>\n",
       "      <td>0</td>\n",
       "      <td>0</td>\n",
       "    </tr>\n",
       "  </tbody>\n",
       "</table>\n",
       "<p>1 rows × 115 columns</p>\n",
       "</div>"
      ],
      "text/plain": [
       "Edad                  1    2    3    4    5    6    7    8    9    10   ...  \\\n",
       "Número de fallecidos    0    0    0    0    0    2    0    0    0    0  ...   \n",
       "\n",
       "Edad                  106  107  108  109  110  111  112  113  115  123  \n",
       "Número de fallecidos    0    0    0    0    0    0    0    0    0    0  \n",
       "\n",
       "[1 rows x 115 columns]"
      ]
     },
     "execution_count": 61,
     "metadata": {},
     "output_type": "execute_result"
    }
   ],
   "source": [
    "fallecidosporEdad=fallecidosporEdad.transpose()\n",
    "fallecidosporEdad"
   ]
  },
  {
   "cell_type": "code",
   "execution_count": 62,
   "metadata": {},
   "outputs": [],
   "source": [
    "CasosporEdad.columns = CasosporEdad.columns.tolist()"
   ]
  },
  {
   "cell_type": "code",
   "execution_count": 63,
   "metadata": {},
   "outputs": [],
   "source": [
    "fallecidosporEdad.columns = fallecidosporEdad.columns.tolist()"
   ]
  },
  {
   "cell_type": "code",
   "execution_count": 64,
   "metadata": {},
   "outputs": [],
   "source": [
    "edad_0_a_4 = CasosporEdad.loc['Número de casos',0:4].sum()\n",
    "edad_5_a_14 = CasosporEdad.loc['Número de casos',5:14].sum()\n",
    "edad_15_a_44 = CasosporEdad.loc['Número de casos',15:44].sum()\n",
    "edad_45_a_64 = CasosporEdad.loc['Número de casos',45:64].sum()\n",
    "edad_65_a_84 = CasosporEdad.loc['Número de casos',65:84].sum()\n",
    "edad_85_a_99 = CasosporEdad.loc['Número de casos',85:99].sum()\n",
    "edad_100_o_mas = CasosporEdad.loc['Número de casos',100:].sum()\n",
    "\n"
   ]
  },
  {
   "cell_type": "code",
   "execution_count": 65,
   "metadata": {},
   "outputs": [],
   "source": [
    "CasosporEdad['edad 0 a 4']=edad_0_a_4\n",
    "CasosporEdad['edad 5 a 14']=edad_5_a_14\n",
    "CasosporEdad['edad 15 a 44']=edad_15_a_44\n",
    "CasosporEdad['edad 45 a 64']=edad_45_a_64\n",
    "CasosporEdad['edad 65 a 84']=edad_65_a_84\n",
    "CasosporEdad['edad 85 a 99']=edad_85_a_99\n",
    "CasosporEdad['edad 100 o más']=edad_100_o_mas\n",
    "CasosporEdad['Total']=edad_0_a_4+edad_5_a_14+edad_15_a_44+edad_45_a_64+edad_65_a_84+edad_85_a_99+edad_100_o_mas"
   ]
  },
  {
   "cell_type": "code",
   "execution_count": 66,
   "metadata": {},
   "outputs": [],
   "source": [
    "for i in range(0,124):\n",
    "    try:\n",
    "        CasosporEdad.drop(columns=i, inplace=True)\n",
    "    except:\n",
    "        pass\n",
    "        "
   ]
  },
  {
   "cell_type": "code",
   "execution_count": 67,
   "metadata": {
    "scrolled": true
   },
   "outputs": [
    {
     "data": {
      "text/html": [
       "<div>\n",
       "<style scoped>\n",
       "    .dataframe tbody tr th:only-of-type {\n",
       "        vertical-align: middle;\n",
       "    }\n",
       "\n",
       "    .dataframe tbody tr th {\n",
       "        vertical-align: top;\n",
       "    }\n",
       "\n",
       "    .dataframe thead th {\n",
       "        text-align: right;\n",
       "    }\n",
       "</style>\n",
       "<table border=\"1\" class=\"dataframe\">\n",
       "  <thead>\n",
       "    <tr style=\"text-align: right;\">\n",
       "      <th></th>\n",
       "      <th>edad 0 a 4</th>\n",
       "      <th>edad 5 a 14</th>\n",
       "      <th>edad 15 a 44</th>\n",
       "      <th>edad 45 a 64</th>\n",
       "      <th>edad 65 a 84</th>\n",
       "      <th>edad 85 a 99</th>\n",
       "      <th>edad 100 o más</th>\n",
       "      <th>Total</th>\n",
       "    </tr>\n",
       "  </thead>\n",
       "  <tbody>\n",
       "    <tr>\n",
       "      <th>Número de casos</th>\n",
       "      <td>154</td>\n",
       "      <td>501</td>\n",
       "      <td>8463</td>\n",
       "      <td>3927</td>\n",
       "      <td>1734</td>\n",
       "      <td>297</td>\n",
       "      <td>8</td>\n",
       "      <td>15084</td>\n",
       "    </tr>\n",
       "  </tbody>\n",
       "</table>\n",
       "</div>"
      ],
      "text/plain": [
       "                 edad 0 a 4  edad 5 a 14  edad 15 a 44  edad 45 a 64  \\\n",
       "Número de casos         154          501          8463          3927   \n",
       "\n",
       "                 edad 65 a 84  edad 85 a 99  edad 100 o más  Total  \n",
       "Número de casos          1734           297               8  15084  "
      ]
     },
     "execution_count": 67,
     "metadata": {},
     "output_type": "execute_result"
    }
   ],
   "source": [
    "CasosporEdad"
   ]
  },
  {
   "cell_type": "code",
   "execution_count": 68,
   "metadata": {},
   "outputs": [],
   "source": [
    "edad_0_a_4 = fallecidosporEdad.loc['Número de fallecidos',0:4].sum()\n",
    "edad_5_a_14 = fallecidosporEdad.loc['Número de fallecidos',5:14].sum()\n",
    "edad_15_a_44 = fallecidosporEdad.loc['Número de fallecidos',15:44].sum()\n",
    "edad_45_a_64 = fallecidosporEdad.loc['Número de fallecidos',45:64].sum()\n",
    "edad_65_a_84 = fallecidosporEdad.loc['Número de fallecidos',65:84].sum()\n",
    "edad_85_a_99 = fallecidosporEdad.loc['Número de fallecidos',85:99].sum()\n",
    "edad_100_o_mas = fallecidosporEdad.loc['Número de fallecidos',100:].sum()"
   ]
  },
  {
   "cell_type": "code",
   "execution_count": 69,
   "metadata": {},
   "outputs": [],
   "source": [
    "fallecidosporEdad['edad 0 a 4']=edad_0_a_4\n",
    "fallecidosporEdad['edad 5 a 14']=edad_5_a_14\n",
    "fallecidosporEdad['edad 15 a 44']=edad_15_a_44\n",
    "fallecidosporEdad['edad 45 a 64']=edad_45_a_64\n",
    "fallecidosporEdad['edad 65 a 84']=edad_65_a_84\n",
    "fallecidosporEdad['edad 85 a 99']=edad_85_a_99\n",
    "fallecidosporEdad['edad 100 o más']=edad_100_o_mas\n",
    "fallecidosporEdad['Total']=edad_0_a_4+edad_5_a_14+edad_15_a_44+edad_45_a_64+edad_65_a_84+edad_85_a_99+edad_100_o_mas"
   ]
  },
  {
   "cell_type": "code",
   "execution_count": 70,
   "metadata": {},
   "outputs": [],
   "source": [
    "for i in range(0,124):\n",
    "    try:\n",
    "        fallecidosporEdad.drop(columns=i, inplace=True)\n",
    "    except:\n",
    "        pass\n",
    "        "
   ]
  },
  {
   "cell_type": "code",
   "execution_count": 71,
   "metadata": {
    "scrolled": false
   },
   "outputs": [
    {
     "data": {
      "text/html": [
       "<div>\n",
       "<style scoped>\n",
       "    .dataframe tbody tr th:only-of-type {\n",
       "        vertical-align: middle;\n",
       "    }\n",
       "\n",
       "    .dataframe tbody tr th {\n",
       "        vertical-align: top;\n",
       "    }\n",
       "\n",
       "    .dataframe thead th {\n",
       "        text-align: right;\n",
       "    }\n",
       "</style>\n",
       "<table border=\"1\" class=\"dataframe\">\n",
       "  <thead>\n",
       "    <tr style=\"text-align: right;\">\n",
       "      <th></th>\n",
       "      <th>edad 0 a 4</th>\n",
       "      <th>edad 5 a 14</th>\n",
       "      <th>edad 15 a 44</th>\n",
       "      <th>edad 45 a 64</th>\n",
       "      <th>edad 65 a 84</th>\n",
       "      <th>edad 85 a 99</th>\n",
       "      <th>edad 100 o más</th>\n",
       "      <th>Total</th>\n",
       "    </tr>\n",
       "  </thead>\n",
       "  <tbody>\n",
       "    <tr>\n",
       "      <th>Número de fallecidos</th>\n",
       "      <td>0</td>\n",
       "      <td>2</td>\n",
       "      <td>16</td>\n",
       "      <td>74</td>\n",
       "      <td>198</td>\n",
       "      <td>63</td>\n",
       "      <td>1</td>\n",
       "      <td>354</td>\n",
       "    </tr>\n",
       "  </tbody>\n",
       "</table>\n",
       "</div>"
      ],
      "text/plain": [
       "                      edad 0 a 4  edad 5 a 14  edad 15 a 44  edad 45 a 64  \\\n",
       "Número de fallecidos           0            2            16            74   \n",
       "\n",
       "                      edad 65 a 84  edad 85 a 99  edad 100 o más  Total  \n",
       "Número de fallecidos           198            63               1    354  "
      ]
     },
     "execution_count": 71,
     "metadata": {},
     "output_type": "execute_result"
    }
   ],
   "source": [
    "fallecidosporEdad"
   ]
  },
  {
   "cell_type": "code",
   "execution_count": 72,
   "metadata": {},
   "outputs": [
    {
     "data": {
      "text/html": [
       "<div>\n",
       "<style scoped>\n",
       "    .dataframe tbody tr th:only-of-type {\n",
       "        vertical-align: middle;\n",
       "    }\n",
       "\n",
       "    .dataframe tbody tr th {\n",
       "        vertical-align: top;\n",
       "    }\n",
       "\n",
       "    .dataframe thead th {\n",
       "        text-align: right;\n",
       "    }\n",
       "</style>\n",
       "<table border=\"1\" class=\"dataframe\">\n",
       "  <thead>\n",
       "    <tr style=\"text-align: right;\">\n",
       "      <th></th>\n",
       "      <th>Número de casos</th>\n",
       "    </tr>\n",
       "  </thead>\n",
       "  <tbody>\n",
       "    <tr>\n",
       "      <th>edad 0 a 4</th>\n",
       "      <td>154</td>\n",
       "    </tr>\n",
       "    <tr>\n",
       "      <th>edad 5 a 14</th>\n",
       "      <td>501</td>\n",
       "    </tr>\n",
       "    <tr>\n",
       "      <th>edad 15 a 44</th>\n",
       "      <td>8463</td>\n",
       "    </tr>\n",
       "    <tr>\n",
       "      <th>edad 45 a 64</th>\n",
       "      <td>3927</td>\n",
       "    </tr>\n",
       "    <tr>\n",
       "      <th>edad 65 a 84</th>\n",
       "      <td>1734</td>\n",
       "    </tr>\n",
       "    <tr>\n",
       "      <th>edad 85 a 99</th>\n",
       "      <td>297</td>\n",
       "    </tr>\n",
       "    <tr>\n",
       "      <th>edad 100 o más</th>\n",
       "      <td>8</td>\n",
       "    </tr>\n",
       "    <tr>\n",
       "      <th>Total</th>\n",
       "      <td>15084</td>\n",
       "    </tr>\n",
       "  </tbody>\n",
       "</table>\n",
       "</div>"
      ],
      "text/plain": [
       "                Número de casos\n",
       "edad 0 a 4                  154\n",
       "edad 5 a 14                 501\n",
       "edad 15 a 44               8463\n",
       "edad 45 a 64               3927\n",
       "edad 65 a 84               1734\n",
       "edad 85 a 99                297\n",
       "edad 100 o más                8\n",
       "Total                     15084"
      ]
     },
     "execution_count": 72,
     "metadata": {},
     "output_type": "execute_result"
    }
   ],
   "source": [
    "CasosporEdad=CasosporEdad.transpose()\n",
    "CasosporEdad"
   ]
  },
  {
   "cell_type": "code",
   "execution_count": 73,
   "metadata": {},
   "outputs": [
    {
     "data": {
      "text/html": [
       "<div>\n",
       "<style scoped>\n",
       "    .dataframe tbody tr th:only-of-type {\n",
       "        vertical-align: middle;\n",
       "    }\n",
       "\n",
       "    .dataframe tbody tr th {\n",
       "        vertical-align: top;\n",
       "    }\n",
       "\n",
       "    .dataframe thead th {\n",
       "        text-align: right;\n",
       "    }\n",
       "</style>\n",
       "<table border=\"1\" class=\"dataframe\">\n",
       "  <thead>\n",
       "    <tr style=\"text-align: right;\">\n",
       "      <th></th>\n",
       "      <th>Número de fallecidos</th>\n",
       "    </tr>\n",
       "  </thead>\n",
       "  <tbody>\n",
       "    <tr>\n",
       "      <th>edad 0 a 4</th>\n",
       "      <td>0</td>\n",
       "    </tr>\n",
       "    <tr>\n",
       "      <th>edad 5 a 14</th>\n",
       "      <td>2</td>\n",
       "    </tr>\n",
       "    <tr>\n",
       "      <th>edad 15 a 44</th>\n",
       "      <td>16</td>\n",
       "    </tr>\n",
       "    <tr>\n",
       "      <th>edad 45 a 64</th>\n",
       "      <td>74</td>\n",
       "    </tr>\n",
       "    <tr>\n",
       "      <th>edad 65 a 84</th>\n",
       "      <td>198</td>\n",
       "    </tr>\n",
       "    <tr>\n",
       "      <th>edad 85 a 99</th>\n",
       "      <td>63</td>\n",
       "    </tr>\n",
       "    <tr>\n",
       "      <th>edad 100 o más</th>\n",
       "      <td>1</td>\n",
       "    </tr>\n",
       "    <tr>\n",
       "      <th>Total</th>\n",
       "      <td>354</td>\n",
       "    </tr>\n",
       "  </tbody>\n",
       "</table>\n",
       "</div>"
      ],
      "text/plain": [
       "                Número de fallecidos\n",
       "edad 0 a 4                         0\n",
       "edad 5 a 14                        2\n",
       "edad 15 a 44                      16\n",
       "edad 45 a 64                      74\n",
       "edad 65 a 84                     198\n",
       "edad 85 a 99                      63\n",
       "edad 100 o más                     1\n",
       "Total                            354"
      ]
     },
     "execution_count": 73,
     "metadata": {},
     "output_type": "execute_result"
    }
   ],
   "source": [
    "fallecidosporEdad=fallecidosporEdad.transpose()\n",
    "fallecidosporEdad"
   ]
  },
  {
   "cell_type": "code",
   "execution_count": 74,
   "metadata": {},
   "outputs": [
    {
     "data": {
      "text/plain": [
       "Index(['edad 0 a 4', 'edad 5 a 14', 'edad 15 a 44', 'edad 45 a 64',\n",
       "       'edad 65 a 84', 'edad 85 a 99', 'edad 100 o más', 'Total'],\n",
       "      dtype='object')"
      ]
     },
     "execution_count": 74,
     "metadata": {},
     "output_type": "execute_result"
    }
   ],
   "source": [
    "fallecidosporEdad.index\n"
   ]
  },
  {
   "cell_type": "code",
   "execution_count": 75,
   "metadata": {},
   "outputs": [],
   "source": [
    "CasosyFallecidos= pd.merge(CasosporEdad, fallecidosporEdad, left_index=True, right_index=True)"
   ]
  },
  {
   "cell_type": "code",
   "execution_count": 76,
   "metadata": {},
   "outputs": [],
   "source": [
    "CasosyFallecidos['Tasa de letalidad por 100'] =100*(CasosyFallecidos['Número de fallecidos']/CasosyFallecidos['Número de casos']).round(4)"
   ]
  },
  {
   "cell_type": "markdown",
   "metadata": {},
   "source": [
    "# Tasa letalidad por grupo etario departamento"
   ]
  },
  {
   "cell_type": "code",
   "execution_count": 77,
   "metadata": {},
   "outputs": [],
   "source": [
    "etartotal = pd.read_csv('/Users/Dr.LuisEvelioRestrepoGarcia/REPOS/poblacionEdad1985_2035_upper.csv', low_memory=False)\n",
    "etartotal.drop(columns=['Unnamed: 108',\n",
    "       'Unnamed: 109'], inplace=True)\n",
    "\n",
    "etartotal = etartotal.loc[(etartotal['AREA GEOGRAFICA']=='Total')&(etartotal['AÑO']=='2020'),:].drop(columns=['AREA GEOGRAFICA'])\n",
    "\n",
    "etartotal.reset_index(drop=True, inplace=True)"
   ]
  },
  {
   "cell_type": "code",
   "execution_count": 78,
   "metadata": {},
   "outputs": [
    {
     "data": {
      "text/html": [
       "<div>\n",
       "<style scoped>\n",
       "    .dataframe tbody tr th:only-of-type {\n",
       "        vertical-align: middle;\n",
       "    }\n",
       "\n",
       "    .dataframe tbody tr th {\n",
       "        vertical-align: top;\n",
       "    }\n",
       "\n",
       "    .dataframe thead th {\n",
       "        text-align: right;\n",
       "    }\n",
       "</style>\n",
       "<table border=\"1\" class=\"dataframe\">\n",
       "  <thead>\n",
       "    <tr style=\"text-align: right;\">\n",
       "      <th></th>\n",
       "      <th>DEPARTAMENTO</th>\n",
       "      <th>MUNICIPIO</th>\n",
       "      <th>AÑO</th>\n",
       "      <th>Total_0</th>\n",
       "      <th>Total_1</th>\n",
       "      <th>Total_2</th>\n",
       "      <th>Total_3</th>\n",
       "      <th>Total_4</th>\n",
       "      <th>Total_5</th>\n",
       "      <th>Total_6</th>\n",
       "      <th>...</th>\n",
       "      <th>Total_94</th>\n",
       "      <th>Total_95</th>\n",
       "      <th>Total_96</th>\n",
       "      <th>Total_97</th>\n",
       "      <th>Total_98</th>\n",
       "      <th>Total_99</th>\n",
       "      <th>Total_100 y mAs</th>\n",
       "      <th>Total Hombres</th>\n",
       "      <th>Total Mujeres</th>\n",
       "      <th>Total</th>\n",
       "    </tr>\n",
       "  </thead>\n",
       "  <tbody>\n",
       "    <tr>\n",
       "      <th>318</th>\n",
       "      <td>CALDAS</td>\n",
       "      <td>MANIZALES</td>\n",
       "      <td>2020</td>\n",
       "      <td>4600</td>\n",
       "      <td>4740</td>\n",
       "      <td>4743</td>\n",
       "      <td>4751</td>\n",
       "      <td>4753</td>\n",
       "      <td>4762</td>\n",
       "      <td>4771</td>\n",
       "      <td>...</td>\n",
       "      <td>260</td>\n",
       "      <td>224</td>\n",
       "      <td>177</td>\n",
       "      <td>141</td>\n",
       "      <td>105</td>\n",
       "      <td>83</td>\n",
       "      <td>201</td>\n",
       "      <td>210254</td>\n",
       "      <td>235906</td>\n",
       "      <td>446160</td>\n",
       "    </tr>\n",
       "    <tr>\n",
       "      <th>319</th>\n",
       "      <td>CALDAS</td>\n",
       "      <td>AGUADAS</td>\n",
       "      <td>2020</td>\n",
       "      <td>332</td>\n",
       "      <td>335</td>\n",
       "      <td>339</td>\n",
       "      <td>337</td>\n",
       "      <td>336</td>\n",
       "      <td>334</td>\n",
       "      <td>333</td>\n",
       "      <td>...</td>\n",
       "      <td>14</td>\n",
       "      <td>8</td>\n",
       "      <td>8</td>\n",
       "      <td>7</td>\n",
       "      <td>7</td>\n",
       "      <td>9</td>\n",
       "      <td>13</td>\n",
       "      <td>11486</td>\n",
       "      <td>11562</td>\n",
       "      <td>23048</td>\n",
       "    </tr>\n",
       "    <tr>\n",
       "      <th>320</th>\n",
       "      <td>CALDAS</td>\n",
       "      <td>ANSERMA</td>\n",
       "      <td>2020</td>\n",
       "      <td>470</td>\n",
       "      <td>478</td>\n",
       "      <td>482</td>\n",
       "      <td>481</td>\n",
       "      <td>487</td>\n",
       "      <td>488</td>\n",
       "      <td>490</td>\n",
       "      <td>...</td>\n",
       "      <td>24</td>\n",
       "      <td>20</td>\n",
       "      <td>17</td>\n",
       "      <td>11</td>\n",
       "      <td>9</td>\n",
       "      <td>10</td>\n",
       "      <td>17</td>\n",
       "      <td>18339</td>\n",
       "      <td>18352</td>\n",
       "      <td>36691</td>\n",
       "    </tr>\n",
       "    <tr>\n",
       "      <th>321</th>\n",
       "      <td>CALDAS</td>\n",
       "      <td>ARANZAZU</td>\n",
       "      <td>2020</td>\n",
       "      <td>153</td>\n",
       "      <td>158</td>\n",
       "      <td>158</td>\n",
       "      <td>157</td>\n",
       "      <td>158</td>\n",
       "      <td>157</td>\n",
       "      <td>158</td>\n",
       "      <td>...</td>\n",
       "      <td>7</td>\n",
       "      <td>5</td>\n",
       "      <td>6</td>\n",
       "      <td>6</td>\n",
       "      <td>3</td>\n",
       "      <td>5</td>\n",
       "      <td>6</td>\n",
       "      <td>4971</td>\n",
       "      <td>5585</td>\n",
       "      <td>10556</td>\n",
       "    </tr>\n",
       "    <tr>\n",
       "      <th>322</th>\n",
       "      <td>CALDAS</td>\n",
       "      <td>BELALCAZAR</td>\n",
       "      <td>2020</td>\n",
       "      <td>195</td>\n",
       "      <td>199</td>\n",
       "      <td>200</td>\n",
       "      <td>195</td>\n",
       "      <td>193</td>\n",
       "      <td>190</td>\n",
       "      <td>185</td>\n",
       "      <td>...</td>\n",
       "      <td>9</td>\n",
       "      <td>5</td>\n",
       "      <td>6</td>\n",
       "      <td>6</td>\n",
       "      <td>3</td>\n",
       "      <td>5</td>\n",
       "      <td>6</td>\n",
       "      <td>5402</td>\n",
       "      <td>5248</td>\n",
       "      <td>10650</td>\n",
       "    </tr>\n",
       "    <tr>\n",
       "      <th>323</th>\n",
       "      <td>CALDAS</td>\n",
       "      <td>CHINCHINA</td>\n",
       "      <td>2020</td>\n",
       "      <td>610</td>\n",
       "      <td>623</td>\n",
       "      <td>627</td>\n",
       "      <td>630</td>\n",
       "      <td>635</td>\n",
       "      <td>644</td>\n",
       "      <td>649</td>\n",
       "      <td>...</td>\n",
       "      <td>27</td>\n",
       "      <td>20</td>\n",
       "      <td>19</td>\n",
       "      <td>11</td>\n",
       "      <td>11</td>\n",
       "      <td>7</td>\n",
       "      <td>16</td>\n",
       "      <td>25061</td>\n",
       "      <td>27206</td>\n",
       "      <td>52267</td>\n",
       "    </tr>\n",
       "    <tr>\n",
       "      <th>324</th>\n",
       "      <td>CALDAS</td>\n",
       "      <td>FILADELFIA</td>\n",
       "      <td>2020</td>\n",
       "      <td>149</td>\n",
       "      <td>148</td>\n",
       "      <td>151</td>\n",
       "      <td>152</td>\n",
       "      <td>151</td>\n",
       "      <td>159</td>\n",
       "      <td>157</td>\n",
       "      <td>...</td>\n",
       "      <td>6</td>\n",
       "      <td>6</td>\n",
       "      <td>4</td>\n",
       "      <td>3</td>\n",
       "      <td>4</td>\n",
       "      <td>5</td>\n",
       "      <td>6</td>\n",
       "      <td>5724</td>\n",
       "      <td>5676</td>\n",
       "      <td>11400</td>\n",
       "    </tr>\n",
       "    <tr>\n",
       "      <th>325</th>\n",
       "      <td>CALDAS</td>\n",
       "      <td>LA DORADA</td>\n",
       "      <td>2020</td>\n",
       "      <td>1087</td>\n",
       "      <td>1116</td>\n",
       "      <td>1118</td>\n",
       "      <td>1119</td>\n",
       "      <td>1123</td>\n",
       "      <td>1120</td>\n",
       "      <td>1120</td>\n",
       "      <td>...</td>\n",
       "      <td>24</td>\n",
       "      <td>21</td>\n",
       "      <td>18</td>\n",
       "      <td>13</td>\n",
       "      <td>8</td>\n",
       "      <td>11</td>\n",
       "      <td>23</td>\n",
       "      <td>35874</td>\n",
       "      <td>38132</td>\n",
       "      <td>74006</td>\n",
       "    </tr>\n",
       "    <tr>\n",
       "      <th>326</th>\n",
       "      <td>CALDAS</td>\n",
       "      <td>LA MERCED</td>\n",
       "      <td>2020</td>\n",
       "      <td>71</td>\n",
       "      <td>73</td>\n",
       "      <td>73</td>\n",
       "      <td>72</td>\n",
       "      <td>74</td>\n",
       "      <td>74</td>\n",
       "      <td>74</td>\n",
       "      <td>...</td>\n",
       "      <td>3</td>\n",
       "      <td>3</td>\n",
       "      <td>2</td>\n",
       "      <td>2</td>\n",
       "      <td>-</td>\n",
       "      <td>4</td>\n",
       "      <td>2</td>\n",
       "      <td>2989</td>\n",
       "      <td>2893</td>\n",
       "      <td>5882</td>\n",
       "    </tr>\n",
       "    <tr>\n",
       "      <th>327</th>\n",
       "      <td>CALDAS</td>\n",
       "      <td>MANZANARES</td>\n",
       "      <td>2020</td>\n",
       "      <td>265</td>\n",
       "      <td>270</td>\n",
       "      <td>270</td>\n",
       "      <td>272</td>\n",
       "      <td>269</td>\n",
       "      <td>268</td>\n",
       "      <td>266</td>\n",
       "      <td>...</td>\n",
       "      <td>10</td>\n",
       "      <td>11</td>\n",
       "      <td>8</td>\n",
       "      <td>8</td>\n",
       "      <td>4</td>\n",
       "      <td>8</td>\n",
       "      <td>38</td>\n",
       "      <td>8965</td>\n",
       "      <td>8829</td>\n",
       "      <td>17794</td>\n",
       "    </tr>\n",
       "    <tr>\n",
       "      <th>328</th>\n",
       "      <td>CALDAS</td>\n",
       "      <td>MARMATO</td>\n",
       "      <td>2020</td>\n",
       "      <td>183</td>\n",
       "      <td>185</td>\n",
       "      <td>186</td>\n",
       "      <td>183</td>\n",
       "      <td>178</td>\n",
       "      <td>173</td>\n",
       "      <td>170</td>\n",
       "      <td>...</td>\n",
       "      <td>3</td>\n",
       "      <td>5</td>\n",
       "      <td>2</td>\n",
       "      <td>3</td>\n",
       "      <td>1</td>\n",
       "      <td>4</td>\n",
       "      <td>2</td>\n",
       "      <td>4666</td>\n",
       "      <td>4501</td>\n",
       "      <td>9167</td>\n",
       "    </tr>\n",
       "    <tr>\n",
       "      <th>329</th>\n",
       "      <td>CALDAS</td>\n",
       "      <td>MARQUETALIA</td>\n",
       "      <td>2020</td>\n",
       "      <td>216</td>\n",
       "      <td>218</td>\n",
       "      <td>219</td>\n",
       "      <td>221</td>\n",
       "      <td>220</td>\n",
       "      <td>220</td>\n",
       "      <td>217</td>\n",
       "      <td>...</td>\n",
       "      <td>7</td>\n",
       "      <td>6</td>\n",
       "      <td>4</td>\n",
       "      <td>6</td>\n",
       "      <td>2</td>\n",
       "      <td>5</td>\n",
       "      <td>6</td>\n",
       "      <td>6792</td>\n",
       "      <td>6698</td>\n",
       "      <td>13490</td>\n",
       "    </tr>\n",
       "    <tr>\n",
       "      <th>330</th>\n",
       "      <td>CALDAS</td>\n",
       "      <td>MARULANDA</td>\n",
       "      <td>2020</td>\n",
       "      <td>46</td>\n",
       "      <td>47</td>\n",
       "      <td>47</td>\n",
       "      <td>46</td>\n",
       "      <td>44</td>\n",
       "      <td>43</td>\n",
       "      <td>41</td>\n",
       "      <td>...</td>\n",
       "      <td>1</td>\n",
       "      <td>-</td>\n",
       "      <td>1</td>\n",
       "      <td>-</td>\n",
       "      <td>2</td>\n",
       "      <td>2</td>\n",
       "      <td>-</td>\n",
       "      <td>1342</td>\n",
       "      <td>1202</td>\n",
       "      <td>2544</td>\n",
       "    </tr>\n",
       "    <tr>\n",
       "      <th>331</th>\n",
       "      <td>CALDAS</td>\n",
       "      <td>NEIRA</td>\n",
       "      <td>2020</td>\n",
       "      <td>299</td>\n",
       "      <td>303</td>\n",
       "      <td>305</td>\n",
       "      <td>305</td>\n",
       "      <td>305</td>\n",
       "      <td>303</td>\n",
       "      <td>304</td>\n",
       "      <td>...</td>\n",
       "      <td>10</td>\n",
       "      <td>5</td>\n",
       "      <td>6</td>\n",
       "      <td>6</td>\n",
       "      <td>4</td>\n",
       "      <td>7</td>\n",
       "      <td>11</td>\n",
       "      <td>10575</td>\n",
       "      <td>10539</td>\n",
       "      <td>21114</td>\n",
       "    </tr>\n",
       "    <tr>\n",
       "      <th>332</th>\n",
       "      <td>CALDAS</td>\n",
       "      <td>NORCASIA</td>\n",
       "      <td>2020</td>\n",
       "      <td>102</td>\n",
       "      <td>106</td>\n",
       "      <td>106</td>\n",
       "      <td>106</td>\n",
       "      <td>104</td>\n",
       "      <td>108</td>\n",
       "      <td>105</td>\n",
       "      <td>...</td>\n",
       "      <td>2</td>\n",
       "      <td>3</td>\n",
       "      <td>2</td>\n",
       "      <td>5</td>\n",
       "      <td>2</td>\n",
       "      <td>4</td>\n",
       "      <td>3</td>\n",
       "      <td>3049</td>\n",
       "      <td>3079</td>\n",
       "      <td>6128</td>\n",
       "    </tr>\n",
       "    <tr>\n",
       "      <th>333</th>\n",
       "      <td>CALDAS</td>\n",
       "      <td>PACORA</td>\n",
       "      <td>2020</td>\n",
       "      <td>183</td>\n",
       "      <td>186</td>\n",
       "      <td>188</td>\n",
       "      <td>186</td>\n",
       "      <td>187</td>\n",
       "      <td>188</td>\n",
       "      <td>189</td>\n",
       "      <td>...</td>\n",
       "      <td>11</td>\n",
       "      <td>8</td>\n",
       "      <td>9</td>\n",
       "      <td>3</td>\n",
       "      <td>5</td>\n",
       "      <td>7</td>\n",
       "      <td>6</td>\n",
       "      <td>7724</td>\n",
       "      <td>7600</td>\n",
       "      <td>15324</td>\n",
       "    </tr>\n",
       "    <tr>\n",
       "      <th>334</th>\n",
       "      <td>CALDAS</td>\n",
       "      <td>PALESTINA</td>\n",
       "      <td>2020</td>\n",
       "      <td>239</td>\n",
       "      <td>242</td>\n",
       "      <td>243</td>\n",
       "      <td>242</td>\n",
       "      <td>239</td>\n",
       "      <td>236</td>\n",
       "      <td>233</td>\n",
       "      <td>...</td>\n",
       "      <td>8</td>\n",
       "      <td>8</td>\n",
       "      <td>7</td>\n",
       "      <td>6</td>\n",
       "      <td>6</td>\n",
       "      <td>6</td>\n",
       "      <td>6</td>\n",
       "      <td>7923</td>\n",
       "      <td>7758</td>\n",
       "      <td>15681</td>\n",
       "    </tr>\n",
       "    <tr>\n",
       "      <th>335</th>\n",
       "      <td>CALDAS</td>\n",
       "      <td>PENSILVANIA</td>\n",
       "      <td>2020</td>\n",
       "      <td>299</td>\n",
       "      <td>303</td>\n",
       "      <td>304</td>\n",
       "      <td>305</td>\n",
       "      <td>304</td>\n",
       "      <td>304</td>\n",
       "      <td>305</td>\n",
       "      <td>...</td>\n",
       "      <td>15</td>\n",
       "      <td>12</td>\n",
       "      <td>11</td>\n",
       "      <td>7</td>\n",
       "      <td>7</td>\n",
       "      <td>8</td>\n",
       "      <td>11</td>\n",
       "      <td>9968</td>\n",
       "      <td>9787</td>\n",
       "      <td>19755</td>\n",
       "    </tr>\n",
       "    <tr>\n",
       "      <th>336</th>\n",
       "      <td>CALDAS</td>\n",
       "      <td>RIOSUCIO</td>\n",
       "      <td>2020</td>\n",
       "      <td>809</td>\n",
       "      <td>814</td>\n",
       "      <td>822</td>\n",
       "      <td>814</td>\n",
       "      <td>803</td>\n",
       "      <td>793</td>\n",
       "      <td>780</td>\n",
       "      <td>...</td>\n",
       "      <td>35</td>\n",
       "      <td>31</td>\n",
       "      <td>22</td>\n",
       "      <td>17</td>\n",
       "      <td>11</td>\n",
       "      <td>12</td>\n",
       "      <td>24</td>\n",
       "      <td>25679</td>\n",
       "      <td>26277</td>\n",
       "      <td>51956</td>\n",
       "    </tr>\n",
       "    <tr>\n",
       "      <th>337</th>\n",
       "      <td>CALDAS</td>\n",
       "      <td>RISARALDA</td>\n",
       "      <td>2020</td>\n",
       "      <td>146</td>\n",
       "      <td>148</td>\n",
       "      <td>149</td>\n",
       "      <td>149</td>\n",
       "      <td>147</td>\n",
       "      <td>147</td>\n",
       "      <td>146</td>\n",
       "      <td>...</td>\n",
       "      <td>6</td>\n",
       "      <td>6</td>\n",
       "      <td>5</td>\n",
       "      <td>5</td>\n",
       "      <td>3</td>\n",
       "      <td>5</td>\n",
       "      <td>7</td>\n",
       "      <td>5527</td>\n",
       "      <td>5041</td>\n",
       "      <td>10568</td>\n",
       "    </tr>\n",
       "    <tr>\n",
       "      <th>338</th>\n",
       "      <td>CALDAS</td>\n",
       "      <td>SALAMINA</td>\n",
       "      <td>2020</td>\n",
       "      <td>228</td>\n",
       "      <td>232</td>\n",
       "      <td>233</td>\n",
       "      <td>234</td>\n",
       "      <td>238</td>\n",
       "      <td>241</td>\n",
       "      <td>245</td>\n",
       "      <td>...</td>\n",
       "      <td>15</td>\n",
       "      <td>11</td>\n",
       "      <td>8</td>\n",
       "      <td>8</td>\n",
       "      <td>6</td>\n",
       "      <td>7</td>\n",
       "      <td>11</td>\n",
       "      <td>9740</td>\n",
       "      <td>9653</td>\n",
       "      <td>19393</td>\n",
       "    </tr>\n",
       "    <tr>\n",
       "      <th>339</th>\n",
       "      <td>CALDAS</td>\n",
       "      <td>SAMANA</td>\n",
       "      <td>2020</td>\n",
       "      <td>339</td>\n",
       "      <td>340</td>\n",
       "      <td>343</td>\n",
       "      <td>343</td>\n",
       "      <td>341</td>\n",
       "      <td>340</td>\n",
       "      <td>339</td>\n",
       "      <td>...</td>\n",
       "      <td>10</td>\n",
       "      <td>9</td>\n",
       "      <td>6</td>\n",
       "      <td>8</td>\n",
       "      <td>5</td>\n",
       "      <td>7</td>\n",
       "      <td>8</td>\n",
       "      <td>10166</td>\n",
       "      <td>9801</td>\n",
       "      <td>19967</td>\n",
       "    </tr>\n",
       "    <tr>\n",
       "      <th>340</th>\n",
       "      <td>CALDAS</td>\n",
       "      <td>SAN JOSE</td>\n",
       "      <td>2020</td>\n",
       "      <td>80</td>\n",
       "      <td>84</td>\n",
       "      <td>83</td>\n",
       "      <td>81</td>\n",
       "      <td>81</td>\n",
       "      <td>77</td>\n",
       "      <td>77</td>\n",
       "      <td>...</td>\n",
       "      <td>3</td>\n",
       "      <td>4</td>\n",
       "      <td>2</td>\n",
       "      <td>3</td>\n",
       "      <td>-</td>\n",
       "      <td>4</td>\n",
       "      <td>2</td>\n",
       "      <td>2526</td>\n",
       "      <td>2390</td>\n",
       "      <td>4916</td>\n",
       "    </tr>\n",
       "    <tr>\n",
       "      <th>341</th>\n",
       "      <td>CALDAS</td>\n",
       "      <td>SUPIA</td>\n",
       "      <td>2020</td>\n",
       "      <td>460</td>\n",
       "      <td>468</td>\n",
       "      <td>470</td>\n",
       "      <td>465</td>\n",
       "      <td>459</td>\n",
       "      <td>454</td>\n",
       "      <td>444</td>\n",
       "      <td>...</td>\n",
       "      <td>17</td>\n",
       "      <td>13</td>\n",
       "      <td>10</td>\n",
       "      <td>9</td>\n",
       "      <td>6</td>\n",
       "      <td>9</td>\n",
       "      <td>13</td>\n",
       "      <td>14366</td>\n",
       "      <td>14997</td>\n",
       "      <td>29363</td>\n",
       "    </tr>\n",
       "    <tr>\n",
       "      <th>342</th>\n",
       "      <td>CALDAS</td>\n",
       "      <td>VICTORIA</td>\n",
       "      <td>2020</td>\n",
       "      <td>160</td>\n",
       "      <td>160</td>\n",
       "      <td>162</td>\n",
       "      <td>163</td>\n",
       "      <td>163</td>\n",
       "      <td>164</td>\n",
       "      <td>163</td>\n",
       "      <td>...</td>\n",
       "      <td>4</td>\n",
       "      <td>5</td>\n",
       "      <td>4</td>\n",
       "      <td>4</td>\n",
       "      <td>4</td>\n",
       "      <td>5</td>\n",
       "      <td>6</td>\n",
       "      <td>5116</td>\n",
       "      <td>5235</td>\n",
       "      <td>10351</td>\n",
       "    </tr>\n",
       "    <tr>\n",
       "      <th>343</th>\n",
       "      <td>CALDAS</td>\n",
       "      <td>VILLAMARIA</td>\n",
       "      <td>2020</td>\n",
       "      <td>856</td>\n",
       "      <td>879</td>\n",
       "      <td>881</td>\n",
       "      <td>882</td>\n",
       "      <td>878</td>\n",
       "      <td>877</td>\n",
       "      <td>876</td>\n",
       "      <td>...</td>\n",
       "      <td>26</td>\n",
       "      <td>23</td>\n",
       "      <td>17</td>\n",
       "      <td>14</td>\n",
       "      <td>10</td>\n",
       "      <td>10</td>\n",
       "      <td>29</td>\n",
       "      <td>32463</td>\n",
       "      <td>34966</td>\n",
       "      <td>67429</td>\n",
       "    </tr>\n",
       "    <tr>\n",
       "      <th>344</th>\n",
       "      <td>CALDAS</td>\n",
       "      <td>VITERBO</td>\n",
       "      <td>2020</td>\n",
       "      <td>139</td>\n",
       "      <td>144</td>\n",
       "      <td>142</td>\n",
       "      <td>146</td>\n",
       "      <td>149</td>\n",
       "      <td>152</td>\n",
       "      <td>156</td>\n",
       "      <td>...</td>\n",
       "      <td>7</td>\n",
       "      <td>6</td>\n",
       "      <td>5</td>\n",
       "      <td>4</td>\n",
       "      <td>5</td>\n",
       "      <td>6</td>\n",
       "      <td>8</td>\n",
       "      <td>6096</td>\n",
       "      <td>6757</td>\n",
       "      <td>12853</td>\n",
       "    </tr>\n",
       "  </tbody>\n",
       "</table>\n",
       "<p>27 rows × 107 columns</p>\n",
       "</div>"
      ],
      "text/plain": [
       "    DEPARTAMENTO    MUNICIPIO   AÑO Total_0 Total_1 Total_2 Total_3 Total_4  \\\n",
       "318       CALDAS    MANIZALES  2020    4600    4740    4743    4751    4753   \n",
       "319       CALDAS      AGUADAS  2020     332     335     339     337     336   \n",
       "320       CALDAS      ANSERMA  2020     470     478     482     481     487   \n",
       "321       CALDAS     ARANZAZU  2020     153     158     158     157     158   \n",
       "322       CALDAS   BELALCAZAR  2020     195     199     200     195     193   \n",
       "323       CALDAS    CHINCHINA  2020     610     623     627     630     635   \n",
       "324       CALDAS   FILADELFIA  2020     149     148     151     152     151   \n",
       "325       CALDAS    LA DORADA  2020    1087    1116    1118    1119    1123   \n",
       "326       CALDAS    LA MERCED  2020      71      73      73      72      74   \n",
       "327       CALDAS   MANZANARES  2020     265     270     270     272     269   \n",
       "328       CALDAS      MARMATO  2020     183     185     186     183     178   \n",
       "329       CALDAS  MARQUETALIA  2020     216     218     219     221     220   \n",
       "330       CALDAS    MARULANDA  2020      46      47      47      46      44   \n",
       "331       CALDAS        NEIRA  2020     299     303     305     305     305   \n",
       "332       CALDAS     NORCASIA  2020     102     106     106     106     104   \n",
       "333       CALDAS       PACORA  2020     183     186     188     186     187   \n",
       "334       CALDAS    PALESTINA  2020     239     242     243     242     239   \n",
       "335       CALDAS  PENSILVANIA  2020     299     303     304     305     304   \n",
       "336       CALDAS     RIOSUCIO  2020     809     814     822     814     803   \n",
       "337       CALDAS    RISARALDA  2020     146     148     149     149     147   \n",
       "338       CALDAS     SALAMINA  2020     228     232     233     234     238   \n",
       "339       CALDAS       SAMANA  2020     339     340     343     343     341   \n",
       "340       CALDAS     SAN JOSE  2020      80      84      83      81      81   \n",
       "341       CALDAS        SUPIA  2020     460     468     470     465     459   \n",
       "342       CALDAS     VICTORIA  2020     160     160     162     163     163   \n",
       "343       CALDAS   VILLAMARIA  2020     856     879     881     882     878   \n",
       "344       CALDAS      VITERBO  2020     139     144     142     146     149   \n",
       "\n",
       "    Total_5 Total_6  ... Total_94 Total_95 Total_96 Total_97 Total_98  \\\n",
       "318    4762    4771  ...      260      224      177      141      105   \n",
       "319     334     333  ...       14        8        8        7        7   \n",
       "320     488     490  ...       24       20       17       11        9   \n",
       "321     157     158  ...        7        5        6        6        3   \n",
       "322     190     185  ...        9        5        6        6        3   \n",
       "323     644     649  ...       27       20       19       11       11   \n",
       "324     159     157  ...        6        6        4        3        4   \n",
       "325    1120    1120  ...       24       21       18       13        8   \n",
       "326      74      74  ...        3        3        2        2       -    \n",
       "327     268     266  ...       10       11        8        8        4   \n",
       "328     173     170  ...        3        5        2        3        1   \n",
       "329     220     217  ...        7        6        4        6        2   \n",
       "330      43      41  ...        1       -         1       -         2   \n",
       "331     303     304  ...       10        5        6        6        4   \n",
       "332     108     105  ...        2        3        2        5        2   \n",
       "333     188     189  ...       11        8        9        3        5   \n",
       "334     236     233  ...        8        8        7        6        6   \n",
       "335     304     305  ...       15       12       11        7        7   \n",
       "336     793     780  ...       35       31       22       17       11   \n",
       "337     147     146  ...        6        6        5        5        3   \n",
       "338     241     245  ...       15       11        8        8        6   \n",
       "339     340     339  ...       10        9        6        8        5   \n",
       "340      77      77  ...        3        4        2        3       -    \n",
       "341     454     444  ...       17       13       10        9        6   \n",
       "342     164     163  ...        4        5        4        4        4   \n",
       "343     877     876  ...       26       23       17       14       10   \n",
       "344     152     156  ...        7        6        5        4        5   \n",
       "\n",
       "    Total_99 Total_100 y mAs Total Hombres Total Mujeres   Total  \n",
       "318       83             201        210254        235906  446160  \n",
       "319        9              13         11486         11562   23048  \n",
       "320       10              17         18339         18352   36691  \n",
       "321        5               6          4971          5585   10556  \n",
       "322        5               6          5402          5248   10650  \n",
       "323        7              16         25061         27206   52267  \n",
       "324        5               6          5724          5676   11400  \n",
       "325       11              23         35874         38132   74006  \n",
       "326        4               2          2989          2893    5882  \n",
       "327        8              38          8965          8829   17794  \n",
       "328        4               2          4666          4501    9167  \n",
       "329        5               6          6792          6698   13490  \n",
       "330        2              -           1342          1202    2544  \n",
       "331        7              11         10575         10539   21114  \n",
       "332        4               3          3049          3079    6128  \n",
       "333        7               6          7724          7600   15324  \n",
       "334        6               6          7923          7758   15681  \n",
       "335        8              11          9968          9787   19755  \n",
       "336       12              24         25679         26277   51956  \n",
       "337        5               7          5527          5041   10568  \n",
       "338        7              11          9740          9653   19393  \n",
       "339        7               8         10166          9801   19967  \n",
       "340        4               2          2526          2390    4916  \n",
       "341        9              13         14366         14997   29363  \n",
       "342        5               6          5116          5235   10351  \n",
       "343       10              29         32463         34966   67429  \n",
       "344        6               8          6096          6757   12853  \n",
       "\n",
       "[27 rows x 107 columns]"
      ]
     },
     "execution_count": 78,
     "metadata": {},
     "output_type": "execute_result"
    }
   ],
   "source": [
    "etartotal.loc[etartotal['DEPARTAMENTO']==localidad,:]\n"
   ]
  },
  {
   "cell_type": "markdown",
   "metadata": {},
   "source": [
    "# Tasa mortalidad grupo etario municipio"
   ]
  },
  {
   "cell_type": "code",
   "execution_count": 79,
   "metadata": {},
   "outputs": [],
   "source": [
    "tasaMortalidadMunic = pd.read_csv('TasaMortalidadMunic.csv')"
   ]
  },
  {
   "cell_type": "code",
   "execution_count": 80,
   "metadata": {},
   "outputs": [],
   "source": [
    "tasaMortalidadMunic = tasaMortalidadMunic.set_index('Unnamed: 0')"
   ]
  },
  {
   "cell_type": "code",
   "execution_count": 81,
   "metadata": {},
   "outputs": [],
   "source": [
    "tasaMortalidadMunic=tasaMortalidadMunic.transpose()"
   ]
  },
  {
   "cell_type": "code",
   "execution_count": 82,
   "metadata": {},
   "outputs": [],
   "source": [
    "tasaMortalidadMunic['Total']= tasaMortalidadMunic['edad 0 a 4']+tasaMortalidadMunic['edad 5 a 14']+tasaMortalidadMunic['edad 15 a 44']+tasaMortalidadMunic['edad 45 a 64']+tasaMortalidadMunic['edad 65 a 84']+tasaMortalidadMunic['edad 85 a 99']+tasaMortalidadMunic['edad 100 o más']"
   ]
  },
  {
   "cell_type": "code",
   "execution_count": 83,
   "metadata": {},
   "outputs": [],
   "source": [
    "tasaMortalidadMunic=tasaMortalidadMunic.transpose()"
   ]
  },
  {
   "cell_type": "code",
   "execution_count": 84,
   "metadata": {},
   "outputs": [],
   "source": [
    "tasaMortalidadMunic.loc['Total','Tasa de mortalidad por 100.000 habitantes']=''"
   ]
  },
  {
   "cell_type": "code",
   "execution_count": 85,
   "metadata": {},
   "outputs": [
    {
     "data": {
      "text/html": [
       "<div>\n",
       "<style scoped>\n",
       "    .dataframe tbody tr th:only-of-type {\n",
       "        vertical-align: middle;\n",
       "    }\n",
       "\n",
       "    .dataframe tbody tr th {\n",
       "        vertical-align: top;\n",
       "    }\n",
       "\n",
       "    .dataframe thead th {\n",
       "        text-align: right;\n",
       "    }\n",
       "</style>\n",
       "<table border=\"1\" class=\"dataframe\">\n",
       "  <thead>\n",
       "    <tr style=\"text-align: right;\">\n",
       "      <th></th>\n",
       "      <th>Número fallecidos</th>\n",
       "      <th>Población</th>\n",
       "      <th>Tasa de mortalidad por 100.000 habitantes</th>\n",
       "    </tr>\n",
       "    <tr>\n",
       "      <th>Unnamed: 0</th>\n",
       "      <th></th>\n",
       "      <th></th>\n",
       "      <th></th>\n",
       "    </tr>\n",
       "  </thead>\n",
       "  <tbody>\n",
       "    <tr>\n",
       "      <th>edad 0 a 4</th>\n",
       "      <td>0.0</td>\n",
       "      <td>28349.0</td>\n",
       "      <td>0</td>\n",
       "    </tr>\n",
       "    <tr>\n",
       "      <th>edad 5 a 14</th>\n",
       "      <td>1.0</td>\n",
       "      <td>45465.0</td>\n",
       "      <td>2.19949</td>\n",
       "    </tr>\n",
       "    <tr>\n",
       "      <th>edad 15 a 44</th>\n",
       "      <td>3.0</td>\n",
       "      <td>198767.0</td>\n",
       "      <td>1.5093</td>\n",
       "    </tr>\n",
       "    <tr>\n",
       "      <th>edad 45 a 64</th>\n",
       "      <td>41.0</td>\n",
       "      <td>113931.0</td>\n",
       "      <td>35.9867</td>\n",
       "    </tr>\n",
       "    <tr>\n",
       "      <th>edad 65 a 84</th>\n",
       "      <td>89.0</td>\n",
       "      <td>53426.0</td>\n",
       "      <td>166.586</td>\n",
       "    </tr>\n",
       "    <tr>\n",
       "      <th>edad 85 a 99</th>\n",
       "      <td>30.0</td>\n",
       "      <td>6021.0</td>\n",
       "      <td>498.256</td>\n",
       "    </tr>\n",
       "    <tr>\n",
       "      <th>edad 100 o más</th>\n",
       "      <td>0.0</td>\n",
       "      <td>201.0</td>\n",
       "      <td>0</td>\n",
       "    </tr>\n",
       "    <tr>\n",
       "      <th>Total</th>\n",
       "      <td>164.0</td>\n",
       "      <td>446160.0</td>\n",
       "      <td></td>\n",
       "    </tr>\n",
       "  </tbody>\n",
       "</table>\n",
       "</div>"
      ],
      "text/plain": [
       "                Número fallecidos  Población  \\\n",
       "Unnamed: 0                                     \n",
       "edad 0 a 4                    0.0    28349.0   \n",
       "edad 5 a 14                   1.0    45465.0   \n",
       "edad 15 a 44                  3.0   198767.0   \n",
       "edad 45 a 64                 41.0   113931.0   \n",
       "edad 65 a 84                 89.0    53426.0   \n",
       "edad 85 a 99                 30.0     6021.0   \n",
       "edad 100 o más                0.0      201.0   \n",
       "Total                       164.0   446160.0   \n",
       "\n",
       "               Tasa de mortalidad por 100.000 habitantes  \n",
       "Unnamed: 0                                                \n",
       "edad 0 a 4                                             0  \n",
       "edad 5 a 14                                      2.19949  \n",
       "edad 15 a 44                                      1.5093  \n",
       "edad 45 a 64                                     35.9867  \n",
       "edad 65 a 84                                     166.586  \n",
       "edad 85 a 99                                     498.256  \n",
       "edad 100 o más                                         0  \n",
       "Total                                                     "
      ]
     },
     "execution_count": 85,
     "metadata": {},
     "output_type": "execute_result"
    }
   ],
   "source": [
    "tasaMortalidadMunic"
   ]
  },
  {
   "cell_type": "markdown",
   "metadata": {},
   "source": [
    "# Tasas de letalidad y mortalidad por departamento"
   ]
  },
  {
   "cell_type": "code",
   "execution_count": 86,
   "metadata": {},
   "outputs": [],
   "source": [
    "tasaMortalidadDpto = pd.read_csv('TasaMortalidadDpto.csv')"
   ]
  },
  {
   "cell_type": "code",
   "execution_count": 87,
   "metadata": {},
   "outputs": [
    {
     "data": {
      "text/plain": [
       "Index(['Unnamed: 0', 'Número fallecidos', 'Población',\n",
       "       'Tasa de mortalidad por 100.000 habitantes'],\n",
       "      dtype='object')"
      ]
     },
     "execution_count": 87,
     "metadata": {},
     "output_type": "execute_result"
    }
   ],
   "source": [
    "tasaMortalidadDpto.columns"
   ]
  },
  {
   "cell_type": "code",
   "execution_count": 88,
   "metadata": {},
   "outputs": [],
   "source": [
    "tasaMortalidadDpto.set_index('Unnamed: 0', inplace=True)"
   ]
  },
  {
   "cell_type": "code",
   "execution_count": 89,
   "metadata": {},
   "outputs": [],
   "source": [
    "TasasDpto= pd.merge(CasosyFallecidos, tasaMortalidadDpto, left_index=True, right_index=True)\n",
    "TasasDpto.drop(columns=['Número fallecidos'],inplace=True)\n",
    "TasasDpto['Tasa de mortalidad por 100.000 habitantes']=TasasDpto['Tasa de mortalidad por 100.000 habitantes'].round(2)\n",
    "TasasDpto=TasasDpto.rename(columns={'Tasa de letalidad por 100':'Tasa de letalidad (por cien contagios detectados)'})\n"
   ]
  },
  {
   "cell_type": "code",
   "execution_count": 90,
   "metadata": {
    "scrolled": true
   },
   "outputs": [],
   "source": [
    "Totales = TasasDpto.transpose()"
   ]
  },
  {
   "cell_type": "code",
   "execution_count": 91,
   "metadata": {},
   "outputs": [],
   "source": [
    "Totales['Totales']= Totales['edad 0 a 4']+Totales['edad 5 a 14']+Totales['edad 15 a 44']+Totales['edad 45 a 64']+Totales['edad 65 a 84']+Totales['edad 85 a 99']+Totales['edad 100 o más']"
   ]
  },
  {
   "cell_type": "code",
   "execution_count": 92,
   "metadata": {},
   "outputs": [],
   "source": [
    "Totales['Totales']=Totales['Totales'].round()"
   ]
  },
  {
   "cell_type": "code",
   "execution_count": 93,
   "metadata": {},
   "outputs": [],
   "source": [
    "Totales.loc['Tasa de letalidad (por cien contagios detectados)', 'Totales']= 'NA'\n",
    "Totales.loc['Tasa de mortalidad por 100.000 habitantes', 'Totales']= 'NA'"
   ]
  },
  {
   "cell_type": "code",
   "execution_count": 94,
   "metadata": {},
   "outputs": [],
   "source": [
    "Totales=Totales.transpose()"
   ]
  },
  {
   "cell_type": "code",
   "execution_count": 95,
   "metadata": {},
   "outputs": [
    {
     "data": {
      "text/html": [
       "<div>\n",
       "<style scoped>\n",
       "    .dataframe tbody tr th:only-of-type {\n",
       "        vertical-align: middle;\n",
       "    }\n",
       "\n",
       "    .dataframe tbody tr th {\n",
       "        vertical-align: top;\n",
       "    }\n",
       "\n",
       "    .dataframe thead th {\n",
       "        text-align: right;\n",
       "    }\n",
       "</style>\n",
       "<table border=\"1\" class=\"dataframe\">\n",
       "  <thead>\n",
       "    <tr style=\"text-align: right;\">\n",
       "      <th></th>\n",
       "      <th>Número de casos</th>\n",
       "      <th>Número de fallecidos</th>\n",
       "      <th>Tasa de letalidad (por cien contagios detectados)</th>\n",
       "      <th>Total habitantes de zonas afectadas</th>\n",
       "      <th>Tasa de mortalidad por 100.000 habitantes</th>\n",
       "    </tr>\n",
       "  </thead>\n",
       "  <tbody>\n",
       "    <tr>\n",
       "      <th>edad 0 a 4</th>\n",
       "      <td>154</td>\n",
       "      <td>0</td>\n",
       "      <td>0</td>\n",
       "      <td>77831</td>\n",
       "      <td>0</td>\n",
       "    </tr>\n",
       "    <tr>\n",
       "      <th>edad 5 a 14</th>\n",
       "      <td>501</td>\n",
       "      <td>2</td>\n",
       "      <td>0.4</td>\n",
       "      <td>119916</td>\n",
       "      <td>1.67</td>\n",
       "    </tr>\n",
       "    <tr>\n",
       "      <th>edad 15 a 44</th>\n",
       "      <td>8463</td>\n",
       "      <td>16</td>\n",
       "      <td>0.19</td>\n",
       "      <td>435989</td>\n",
       "      <td>3.9</td>\n",
       "    </tr>\n",
       "    <tr>\n",
       "      <th>edad 45 a 64</th>\n",
       "      <td>3927</td>\n",
       "      <td>74</td>\n",
       "      <td>1.88</td>\n",
       "      <td>252678</td>\n",
       "      <td>32.45</td>\n",
       "    </tr>\n",
       "    <tr>\n",
       "      <th>edad 65 a 84</th>\n",
       "      <td>1734</td>\n",
       "      <td>198</td>\n",
       "      <td>11.42</td>\n",
       "      <td>118140</td>\n",
       "      <td>168.44</td>\n",
       "    </tr>\n",
       "    <tr>\n",
       "      <th>edad 85 a 99</th>\n",
       "      <td>297</td>\n",
       "      <td>63</td>\n",
       "      <td>21.21</td>\n",
       "      <td>13232</td>\n",
       "      <td>400.54</td>\n",
       "    </tr>\n",
       "    <tr>\n",
       "      <th>edad 100 o más</th>\n",
       "      <td>8</td>\n",
       "      <td>1</td>\n",
       "      <td>12.5</td>\n",
       "      <td>481</td>\n",
       "      <td>207.9</td>\n",
       "    </tr>\n",
       "    <tr>\n",
       "      <th>Totales</th>\n",
       "      <td>15084</td>\n",
       "      <td>354</td>\n",
       "      <td>NA</td>\n",
       "      <td>1.01827e+06</td>\n",
       "      <td>NA</td>\n",
       "    </tr>\n",
       "  </tbody>\n",
       "</table>\n",
       "</div>"
      ],
      "text/plain": [
       "               Número de casos Número de fallecidos  \\\n",
       "edad 0 a 4                 154                    0   \n",
       "edad 5 a 14                501                    2   \n",
       "edad 15 a 44              8463                   16   \n",
       "edad 45 a 64              3927                   74   \n",
       "edad 65 a 84              1734                  198   \n",
       "edad 85 a 99               297                   63   \n",
       "edad 100 o más               8                    1   \n",
       "Totales                  15084                  354   \n",
       "\n",
       "               Tasa de letalidad (por cien contagios detectados)  \\\n",
       "edad 0 a 4                                                     0   \n",
       "edad 5 a 14                                                  0.4   \n",
       "edad 15 a 44                                                0.19   \n",
       "edad 45 a 64                                                1.88   \n",
       "edad 65 a 84                                               11.42   \n",
       "edad 85 a 99                                               21.21   \n",
       "edad 100 o más                                              12.5   \n",
       "Totales                                                       NA   \n",
       "\n",
       "               Total habitantes de zonas afectadas  \\\n",
       "edad 0 a 4                                   77831   \n",
       "edad 5 a 14                                 119916   \n",
       "edad 15 a 44                                435989   \n",
       "edad 45 a 64                                252678   \n",
       "edad 65 a 84                                118140   \n",
       "edad 85 a 99                                 13232   \n",
       "edad 100 o más                                 481   \n",
       "Totales                                1.01827e+06   \n",
       "\n",
       "               Tasa de mortalidad por 100.000 habitantes  \n",
       "edad 0 a 4                                             0  \n",
       "edad 5 a 14                                         1.67  \n",
       "edad 15 a 44                                         3.9  \n",
       "edad 45 a 64                                       32.45  \n",
       "edad 65 a 84                                      168.44  \n",
       "edad 85 a 99                                      400.54  \n",
       "edad 100 o más                                     207.9  \n",
       "Totales                                               NA  "
      ]
     },
     "execution_count": 95,
     "metadata": {},
     "output_type": "execute_result"
    }
   ],
   "source": [
    "Totales= Totales.rename(columns={'Población':'Total habitantes de zonas afectadas'})\n",
    "Totales"
   ]
  },
  {
   "cell_type": "code",
   "execution_count": null,
   "metadata": {},
   "outputs": [],
   "source": []
  },
  {
   "cell_type": "code",
   "execution_count": null,
   "metadata": {},
   "outputs": [],
   "source": []
  }
 ],
 "metadata": {
  "hide_input": false,
  "kernelspec": {
   "display_name": "Python 3",
   "language": "python",
   "name": "python3"
  },
  "language_info": {
   "codemirror_mode": {
    "name": "ipython",
    "version": 3
   },
   "file_extension": ".py",
   "mimetype": "text/x-python",
   "name": "python",
   "nbconvert_exporter": "python",
   "pygments_lexer": "ipython3",
   "version": "3.7.0"
  }
 },
 "nbformat": 4,
 "nbformat_minor": 4
}
