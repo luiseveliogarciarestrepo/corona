{
 "cells": [
  {
   "cell_type": "code",
   "execution_count": 1,
   "metadata": {},
   "outputs": [],
   "source": [
    "import pandas as pd"
   ]
  },
  {
   "cell_type": "code",
   "execution_count": 2,
   "metadata": {},
   "outputs": [],
   "source": [
    "covid=pd.read_csv('/Users/Dr.LuisEvelioRestrepoGarcia/REPOS/CovidColombia.csv', encoding = 'unicode_escape', engine ='python', sep=';', \n",
    "                  usecols=['Fecha Not', \n",
    "       'Departamento_nom', 'Ciudad_municipio_nom', 'Edad',\n",
    "       'Sexo', 'Ubicacion', 'Estado',\n",
    "       'Recuperado',\n",
    "       'Fecha_muerte', 'Fecha_diagnostico'])\n",
    "\n",
    "covid=covid.rename(columns={'Fecha Not':'Fecha de notificación', 'Departamento_nom':'Nombre departamento', \n",
    "                            'Ciudad_municipio_nom':'Nombre municipio',\n",
    "                            'Fecha_muerte':'Fecha de muerte',\n",
    "                            'Fecha_diagnostico':'Fecha de diagnóstico'})"
   ]
  },
  {
   "cell_type": "code",
   "execution_count": 7,
   "metadata": {},
   "outputs": [
    {
     "data": {
      "text/plain": [
       "<bound method Series.max of 0            6/3/2020 0:00:00\n",
       "1            9/3/2020 0:00:00\n",
       "2            9/3/2020 0:00:00\n",
       "3           11/3/2020 0:00:00\n",
       "4           11/3/2020 0:00:00\n",
       "                  ...        \n",
       "1198741    12/11/2020 0:00:00\n",
       "1198742    12/11/2020 0:00:00\n",
       "1198743    11/11/2020 0:00:00\n",
       "1198744    12/11/2020 0:00:00\n",
       "1198745    11/11/2020 0:00:00\n",
       "Name: Fecha de diagnóstico, Length: 1198746, dtype: object>"
      ]
     },
     "execution_count": 7,
     "metadata": {},
     "output_type": "execute_result"
    }
   ],
   "source": [
    "covid['Fecha de diagnóstico'].max\n"
   ]
  },
  {
   "cell_type": "code",
   "execution_count": null,
   "metadata": {},
   "outputs": [],
   "source": []
  }
 ],
 "metadata": {
  "hide_input": false,
  "kernelspec": {
   "display_name": "Python 3",
   "language": "python",
   "name": "python3"
  },
  "language_info": {
   "codemirror_mode": {
    "name": "ipython",
    "version": 3
   },
   "file_extension": ".py",
   "mimetype": "text/x-python",
   "name": "python",
   "nbconvert_exporter": "python",
   "pygments_lexer": "ipython3",
   "version": "3.7.0"
  }
 },
 "nbformat": 4,
 "nbformat_minor": 4
}
