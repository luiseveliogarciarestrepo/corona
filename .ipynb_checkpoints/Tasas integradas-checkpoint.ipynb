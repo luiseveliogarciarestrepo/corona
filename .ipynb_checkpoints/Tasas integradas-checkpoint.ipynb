{
 "cells": [
  {
   "cell_type": "markdown",
   "metadata": {
    "slideshow": {
     "slide_type": "slide"
    }
   },
   "source": [
    "# Luis Evelio García Restrepo MD, MAS, EF\n",
    " \n",
    "##  Ensayos o pruebas de testeo o tamizaje aleatorizados"
   ]
  },
  {
   "cell_type": "markdown",
   "metadata": {
    "slideshow": {
     "slide_type": "slide"
    }
   },
   "source": [
    "# INTRODUCCIÓN "
   ]
  },
  {
   "cell_type": "markdown",
   "metadata": {
    "slideshow": {
     "slide_type": "subslide"
    }
   },
   "source": [
    "# Testeo o tamizaje\n",
    "\n",
    ">Identificación presuntiva de una enfermedad o defecto, mediante la aplicación de pruebas (\"test\"), exámenes físicos o cualquier otro procemiento que pueda ser rápidamente realizado.    \n",
    "\n",
    "###### US Commision of Chronic Illnes 1957"
   ]
  },
  {
   "cell_type": "markdown",
   "metadata": {
    "slideshow": {
     "slide_type": "slide"
    }
   },
   "source": [
    "### Ejemplos testeo o tamizaje:     "
   ]
  },
  {
   "cell_type": "markdown",
   "metadata": {
    "slideshow": {
     "slide_type": "subslide"
    }
   },
   "source": [
    "> Exámen físico."
   ]
  },
  {
   "cell_type": "markdown",
   "metadata": {
    "slideshow": {
     "slide_type": "subslide"
    }
   },
   "source": [
    "> Exámen clínico."
   ]
  },
  {
   "cell_type": "markdown",
   "metadata": {
    "slideshow": {
     "slide_type": "subslide"
    }
   },
   "source": [
    "> Historia clínica."
   ]
  },
  {
   "cell_type": "markdown",
   "metadata": {
    "slideshow": {
     "slide_type": "subslide"
    }
   },
   "source": [
    "> Test genético."
   ]
  },
  {
   "cell_type": "markdown",
   "metadata": {
    "slideshow": {
     "slide_type": "subslide"
    }
   },
   "source": [
    "> Imágenes diagnósticas:\n",
    "* Radiología convencional.\n",
    "* TAC.\n",
    "* RMN."
   ]
  },
  {
   "cell_type": "markdown",
   "metadata": {
    "slideshow": {
     "slide_type": "subslide"
    }
   },
   "source": [
    "> Laboratorio clínico:\n",
    "* Parcial de Orina.\n",
    "* Hemograma.\n",
    "* RT-PCR."
   ]
  },
  {
   "cell_type": "markdown",
   "metadata": {
    "slideshow": {
     "slide_type": "slide"
    }
   },
   "source": [
    "### Con sus estudios de validez...."
   ]
  },
  {
   "cell_type": "markdown",
   "metadata": {},
   "source": [
    "### ...para las pruebas rápidas:"
   ]
  },
  {
   "cell_type": "markdown",
   "metadata": {
    "slideshow": {
     "slide_type": "slide"
    }
   },
   "source": [
    "![](PruebarapidaIgMigG.png)"
   ]
  },
  {
   "cell_type": "markdown",
   "metadata": {},
   "source": [
    "### ...y para la prueba \"Gold Standar\""
   ]
  },
  {
   "cell_type": "markdown",
   "metadata": {
    "slideshow": {
     "slide_type": "subslide"
    }
   },
   "source": [
    "![CDC](CDC.png)"
   ]
  },
  {
   "cell_type": "markdown",
   "metadata": {
    "slideshow": {
     "slide_type": "subslide"
    }
   },
   "source": [
    "![cdcTable](CDCTable.png)"
   ]
  },
  {
   "cell_type": "markdown",
   "metadata": {
    "slideshow": {
     "slide_type": "subslide"
    }
   },
   "source": [
    "![dataanalisis](CDCDataanalisis1.png)"
   ]
  },
  {
   "cell_type": "markdown",
   "metadata": {
    "slideshow": {
     "slide_type": "subslide"
    }
   },
   "source": [
    "![dataanalisis](CDCdataanalisis2.png)"
   ]
  },
  {
   "cell_type": "markdown",
   "metadata": {},
   "source": [
    "### ... y por razones obvias, la letra pequeña en la ficha técnica de la prueba rápida...."
   ]
  },
  {
   "cell_type": "markdown",
   "metadata": {
    "slideshow": {
     "slide_type": "subslide"
    }
   },
   "source": [
    "![](limitacionPruebaRapida.png)"
   ]
  },
  {
   "cell_type": "markdown",
   "metadata": {
    "slideshow": {
     "slide_type": "subslide"
    }
   },
   "source": [
    "![](limitacionPruebarapida1.png)"
   ]
  },
  {
   "cell_type": "markdown",
   "metadata": {
    "slideshow": {
     "slide_type": "subslide"
    }
   },
   "source": [
    "![](pruebasRapidasRespuesta1.png)"
   ]
  },
  {
   "cell_type": "markdown",
   "metadata": {
    "slideshow": {
     "slide_type": "subslide"
    }
   },
   "source": [
    "![](pruebasRapidasRespuesta2.png)"
   ]
  },
  {
   "cell_type": "code",
   "execution_count": null,
   "metadata": {},
   "outputs": [],
   "source": []
  },
  {
   "cell_type": "markdown",
   "metadata": {
    "slideshow": {
     "slide_type": "subslide"
    }
   },
   "source": [
    "### ...e increíblemente la ficha técnica de la prueba \"Gold Standar\", también con su letra pequeña:"
   ]
  },
  {
   "cell_type": "markdown",
   "metadata": {
    "slideshow": {
     "slide_type": "subslide"
    }
   },
   "source": [
    "![resumen2](RTPCR1.png)"
   ]
  },
  {
   "cell_type": "markdown",
   "metadata": {
    "slideshow": {
     "slide_type": "subslide"
    }
   },
   "source": [
    "![resumen](RTPCR2.png)"
   ]
  },
  {
   "cell_type": "markdown",
   "metadata": {
    "slideshow": {
     "slide_type": "slide"
    }
   },
   "source": [
    "![indicar](indicativo.png)"
   ]
  },
  {
   "cell_type": "markdown",
   "metadata": {
    "slideshow": {
     "slide_type": "slide"
    }
   },
   "source": [
    "# PRUEBAS PARA  TAMIZAJE ALEATORIZADO (Randomized Screen Trial: RST)\n",
    "\n",
    "## Requisitos para un tamizaje exitoso (prerrequisitos y objetivos):"
   ]
  },
  {
   "cell_type": "markdown",
   "metadata": {
    "slideshow": {
     "slide_type": "subslide"
    }
   },
   "source": [
    "### Prerrequisitos\n",
    "1.  A. Que se realice para una enfermedad que impacte realmente el estado de salud de la población.\n",
    "    - Alta prevalencia.\n",
    "    - Alta tasa de mortalidad, discapacidad o minusvalía.\n",
    "    \n",
    "    B. Que la identificación temprana:\n",
    "    - Prevenga muertes o disminuya su número.\n",
    "    - Disminuya las secuelas en quienes sobrevivan a esta.\n",
    "    - Permita un tratamiento oportuno.\n",
    "    - Prolongue la sobrevivencia y supervivencia.\n",
    "    \n",
    "2. ***Que el tratamiento sea efectivo.***   Eficiente y eficaz. "
   ]
  },
  {
   "cell_type": "markdown",
   "metadata": {
    "slideshow": {
     "slide_type": "subslide"
    }
   },
   "source": [
    "### Prerrequisitos\n",
    "\n",
    "3. Que se pueda identificar la \"Fase Preclínica Detectable\". \n",
    "   Detectable PreClinical Phase (DPCP) "
   ]
  },
  {
   "cell_type": "markdown",
   "metadata": {
    "slideshow": {
     "slide_type": "subslide"
    }
   },
   "source": [
    "![DCPP](DPCP.png)"
   ]
  },
  {
   "cell_type": "markdown",
   "metadata": {
    "slideshow": {
     "slide_type": "subslide"
    }
   },
   "source": [
    "La DPCP puede ser:\n",
    "\n",
    "- Evidenciable.\n",
    "    \n",
    "- No evidenciable."
   ]
  },
  {
   "cell_type": "markdown",
   "metadata": {
    "slideshow": {
     "slide_type": "slide"
    }
   },
   "source": [
    "### Objetivos del tamizaje y requisitos para un tamizaje exitoso:\n",
    "\n",
    "### I.  OBJETIVO:  **Mejorar** el tamizaje o testeo...\n",
    "\n",
    "#### USTED tiene que seleccionar una prueba que:\n",
    "\n",
    "-  Disminuya los falsos positivos.\n",
    "-  Testee solamente la ***población en alto riesgo***."
   ]
  },
  {
   "cell_type": "markdown",
   "metadata": {
    "slideshow": {
     "slide_type": "subslide"
    }
   },
   "source": [
    "### Objetivos del tamizaje y requisitos para un tamizaje exitoso:\n",
    "\n",
    "### I.  OBJETIVO:  **Mejorar** el tamizaje o testeo...\n",
    "\n",
    "#### USTED tiene que seleccionar una prueba que:\n",
    "\n",
    "-  Disminuya los falsos positivos.\n",
    "\n",
    "# ¿ Por qué ?\n",
    "\n",
    "###  USTED DEBE TRATAR DE MINIMIZAR LOS FALSOS POSITIVOS PARA EVITAR PROCEDIMIENTOS ADICIONALES."
   ]
  },
  {
   "cell_type": "markdown",
   "metadata": {
    "slideshow": {
     "slide_type": "slide"
    }
   },
   "source": [
    "# ¿ Por qué ?"
   ]
  },
  {
   "cell_type": "markdown",
   "metadata": {
    "slideshow": {
     "slide_type": "subslide"
    }
   },
   "source": [
    "Consecuencias de falsos resultados:\n",
    "\n",
    "Falsos positivos:\n",
    "- Morbilidad asociada con pruebas diagnósticas subsecuentes.\n",
    "- Costo psicológico:\n",
    "    - Temor.\n",
    "    - Estigmatización.\n",
    "- Afectación del bienestar de la persona y su entorno.\n",
    "- Costo económico para el paciente y su entorno familiar, social y laboral.\n",
    "- Mayores gastos de recursos del sistema de salud.\n",
    "- Reducción del presupuesto para la atención de otras patologías."
   ]
  },
  {
   "cell_type": "markdown",
   "metadata": {
    "slideshow": {
     "slide_type": "subslide"
    }
   },
   "source": [
    "Consecuencias de falsos resultados:\n",
    "\n",
    "Falsos negativos:\n",
    "- No detectar a tiempo una patología que en su etapa inicial es tratable.\n",
    "- Avance de la enfermedad y mayores costos de tratamiento o cuidados paliativos en etapas avanzadas."
   ]
  },
  {
   "cell_type": "markdown",
   "metadata": {
    "slideshow": {
     "slide_type": "subslide"
    }
   },
   "source": [
    "### Objetivos del tamizaje y requisitos para un tamizaje exitoso:\n",
    "\n",
    "### I.  OBJETIVO:  **Mejorar** el tamizaje o testeo...\n",
    "\n",
    "#### USTED tiene que seleccionar una prueba que:\n",
    "\n",
    "- Testee únicamente la ***población en alto riesgo***.\n",
    "\n",
    "### PARA QUE SEA MÁS FACTIBLE DETERMINAR LA PREVALENCIA DE LA ENFERMEDAD Y ASÍ INCREMENTAR EL VALOR PREDICTIVO POSITIVO (VPP)....\n",
    "\n",
    "#### VPP ==> Lo analizaremos en detalle más adelante..."
   ]
  },
  {
   "cell_type": "markdown",
   "metadata": {
    "slideshow": {
     "slide_type": "slide"
    }
   },
   "source": [
    "### Objetivos del tamizaje y requisitos para un tamizaje exitoso:\n",
    "\n",
    "### II. OBJETIVO:  Factibilidad del testeo o tamizaje."
   ]
  },
  {
   "cell_type": "markdown",
   "metadata": {
    "slideshow": {
     "slide_type": "subslide"
    }
   },
   "source": [
    "> Libre de molestia significativa !\n",
    "\n",
    "\n",
    "\n"
   ]
  },
  {
   "cell_type": "markdown",
   "metadata": {
    "slideshow": {
     "slide_type": "subslide"
    }
   },
   "source": [
    "> Eficiente y económico.   Recuerde que eficiente es la conjunción entre eficacia y efectividad."
   ]
  },
  {
   "cell_type": "markdown",
   "metadata": {
    "slideshow": {
     "slide_type": "subslide"
    }
   },
   "source": [
    "> Que la persona acepte el seguimiento y que este sea posible."
   ]
  },
  {
   "cell_type": "markdown",
   "metadata": {
    "slideshow": {
     "slide_type": "subslide"
    }
   },
   "source": [
    "> Alta especificidad."
   ]
  },
  {
   "cell_type": "markdown",
   "metadata": {
    "slideshow": {
     "slide_type": "subslide"
    }
   },
   "source": [
    "> El testeo o tamizaje debe derivar en la disminución efectiva de efectos adversos."
   ]
  },
  {
   "cell_type": "markdown",
   "metadata": {
    "slideshow": {
     "slide_type": "slide"
    }
   },
   "source": [
    "# Resumiendo hasta ahora:"
   ]
  },
  {
   "cell_type": "markdown",
   "metadata": {
    "slideshow": {
     "slide_type": "subslide"
    }
   },
   "source": [
    "> Prerrequisitos:  \n",
    "- Alto impacto  <== Alta prevalencia, morbilidad y mortalidad.\n",
    "- Tratamiento disponible."
   ]
  },
  {
   "cell_type": "markdown",
   "metadata": {
    "slideshow": {
     "slide_type": "subslide"
    }
   },
   "source": [
    "> Modalidades de testeo o tamizaje con *buenas características*  \n",
    "- Sensibilidad.\n",
    "- Especificidad."
   ]
  },
  {
   "cell_type": "markdown",
   "metadata": {
    "slideshow": {
     "slide_type": "subslide"
    }
   },
   "source": [
    "> Testear o tamizar en población de alto riesgo.\n",
    "- Incrementa la prevalencia y por ende el VPP."
   ]
  },
  {
   "cell_type": "markdown",
   "metadata": {
    "slideshow": {
     "slide_type": "subslide"
    }
   },
   "source": [
    "> Factibilidad ***real*** para hacer el testeo o tamizaje."
   ]
  },
  {
   "cell_type": "markdown",
   "metadata": {
    "slideshow": {
     "slide_type": "slide"
    }
   },
   "source": [
    "# ¿ RECONOZCO LAS CARACTERÍSTICAS **ESENCIALES** DEL TESTEO O TAMIZAJE... ?"
   ]
  },
  {
   "cell_type": "markdown",
   "metadata": {
    "slideshow": {
     "slide_type": "subslide"
    }
   },
   "source": [
    "> Evaluación de las pruebas o ensayos TT.\n",
    "\n",
    "> Objetivos de las pruebas o ensayos TT.\n",
    "\n",
    "> ~Prueba diagnóstica.\n",
    "\n",
    "> Presunción."
   ]
  },
  {
   "cell_type": "markdown",
   "metadata": {
    "slideshow": {
     "slide_type": "slide"
    }
   },
   "source": [
    "# ¿ RECONOZCO LAS CARACTERÍSTICAS **ESENCIALES** DEL TESTEO O TAMIZAJE... ?"
   ]
  },
  {
   "cell_type": "markdown",
   "metadata": {
    "slideshow": {
     "slide_type": "subslide"
    }
   },
   "source": [
    "### Evaluación de las pruebas o ensayos TT\n",
    "\n",
    "#### Concepto básicos generales de toda medición"
   ]
  },
  {
   "cell_type": "markdown",
   "metadata": {
    "slideshow": {
     "slide_type": "slide"
    }
   },
   "source": [
    "![](evalua0.png)"
   ]
  },
  {
   "cell_type": "markdown",
   "metadata": {
    "slideshow": {
     "slide_type": "slide"
    }
   },
   "source": [
    "![](evalua1.png)"
   ]
  },
  {
   "cell_type": "markdown",
   "metadata": {
    "slideshow": {
     "slide_type": "slide"
    }
   },
   "source": [
    "![](evalua2.png)"
   ]
  },
  {
   "cell_type": "markdown",
   "metadata": {
    "slideshow": {
     "slide_type": "slide"
    }
   },
   "source": [
    "![](evalua3.png)"
   ]
  },
  {
   "cell_type": "markdown",
   "metadata": {
    "slideshow": {
     "slide_type": "slide"
    }
   },
   "source": [
    "![](evalua4.png)"
   ]
  },
  {
   "cell_type": "markdown",
   "metadata": {
    "slideshow": {
     "slide_type": "slide"
    }
   },
   "source": [
    "![](evalua5.png)"
   ]
  },
  {
   "cell_type": "markdown",
   "metadata": {
    "slideshow": {
     "slide_type": "slide"
    }
   },
   "source": [
    "![](evalua6.png)"
   ]
  },
  {
   "cell_type": "markdown",
   "metadata": {
    "slideshow": {
     "slide_type": "slide"
    }
   },
   "source": [
    "![](evalua7.png)"
   ]
  },
  {
   "cell_type": "markdown",
   "metadata": {
    "slideshow": {
     "slide_type": "slide"
    }
   },
   "source": [
    "![](evalua8.png)"
   ]
  },
  {
   "cell_type": "markdown",
   "metadata": {
    "slideshow": {
     "slide_type": "slide"
    }
   },
   "source": [
    "![](concept1.png)"
   ]
  },
  {
   "cell_type": "markdown",
   "metadata": {
    "slideshow": {
     "slide_type": "slide"
    }
   },
   "source": [
    "![](concept22.png)"
   ]
  },
  {
   "cell_type": "markdown",
   "metadata": {
    "slideshow": {
     "slide_type": "slide"
    }
   },
   "source": [
    "![](concept33.png)"
   ]
  },
  {
   "cell_type": "markdown",
   "metadata": {
    "slideshow": {
     "slide_type": "slide"
    }
   },
   "source": [
    "### Evaluación de las pruebas o ensayos TT"
   ]
  },
  {
   "cell_type": "markdown",
   "metadata": {
    "slideshow": {
     "slide_type": "subslide"
    }
   },
   "source": [
    "> Evaluación de las pruebas o ensayos TT:\n",
    "- Medidas de validez.\n",
    "- Medidas de utilidad clínica."
   ]
  },
  {
   "cell_type": "markdown",
   "metadata": {
    "slideshow": {
     "slide_type": "slide"
    }
   },
   "source": [
    "### Evaluación de las pruebas o ensayos TT"
   ]
  },
  {
   "cell_type": "markdown",
   "metadata": {
    "slideshow": {
     "slide_type": "subslide"
    }
   },
   "source": [
    "### Medidas de validez:\n",
    "\n",
    "#### Sensibilidad y especificidad.\n",
    "\n",
    "# Que tan bueno es el test !!!"
   ]
  },
  {
   "cell_type": "markdown",
   "metadata": {
    "slideshow": {
     "slide_type": "slide"
    }
   },
   "source": [
    "### Evaluación de las pruebas o ensayos TT"
   ]
  },
  {
   "cell_type": "markdown",
   "metadata": {
    "slideshow": {
     "slide_type": "subslide"
    }
   },
   "source": [
    "### Medidas de utilidad clínica:\n",
    "\n",
    "> Factibilidad.\n",
    "\n",
    "> Criterio de positividad.\n",
    "\n",
    "> Curva R.O.C.\n",
    "\n"
   ]
  },
  {
   "cell_type": "markdown",
   "metadata": {
    "slideshow": {
     "slide_type": "slide"
    }
   },
   "source": [
    "### Medidas de utilidad clínica:\n",
    "\n",
    "> Factibilidad:\n",
    "- Valor predictivo positivo ==> VPP\n",
    "- Valor predictivo negativo ==> VPN\n",
    "\n",
    "> Criterio de positividad.\n",
    "\n",
    "> Curva R.O.C.\n",
    "\n"
   ]
  },
  {
   "cell_type": "markdown",
   "metadata": {
    "slideshow": {
     "slide_type": "slide"
    }
   },
   "source": [
    "### Medidas de utilidad clínica:\n",
    "\n",
    "> Factibilidad.\n",
    "\n",
    "> Criterio de positividad.*\n",
    "\n",
    "> Curva R.O.C.\n",
    "\n"
   ]
  },
  {
   "cell_type": "markdown",
   "metadata": {
    "slideshow": {
     "slide_type": "slide"
    }
   },
   "source": [
    "# Criterio de positividad:\n",
    "\n",
    "###  Nivel que se debe alcanzar, para considerar un resultado de un test como positivo.\n",
    "\n",
    "###  La definición de un \"resultado positivo\", puede ser alterada voluntariamente:\n",
    "\n",
    "####  Si se incrementa la sensibilidad pero se disminuye la especificidad ==> Criterio de positividad bajo.\n",
    "\n",
    "####  Si se disminuye la sensibilidad y se incrementa la especificidad       ==> Criterio de positividad alto."
   ]
  },
  {
   "cell_type": "markdown",
   "metadata": {
    "slideshow": {
     "slide_type": "slide"
    }
   },
   "source": [
    "![CP](CON1.png)"
   ]
  },
  {
   "cell_type": "markdown",
   "metadata": {
    "slideshow": {
     "slide_type": "subslide"
    }
   },
   "source": [
    "![CP](CON2.png)"
   ]
  },
  {
   "cell_type": "markdown",
   "metadata": {
    "slideshow": {
     "slide_type": "subslide"
    }
   },
   "source": [
    "![CP](CON3.png)"
   ]
  },
  {
   "cell_type": "markdown",
   "metadata": {
    "slideshow": {
     "slide_type": "subslide"
    }
   },
   "source": [
    "![CP](CON4.png)"
   ]
  },
  {
   "cell_type": "markdown",
   "metadata": {
    "slideshow": {
     "slide_type": "subslide"
    }
   },
   "source": [
    "![CP](CON5.png)"
   ]
  },
  {
   "cell_type": "markdown",
   "metadata": {
    "slideshow": {
     "slide_type": "subslide"
    }
   },
   "source": [
    "![CP](CON6.png)"
   ]
  },
  {
   "cell_type": "markdown",
   "metadata": {
    "slideshow": {
     "slide_type": "subslide"
    }
   },
   "source": [
    "![CP](CON7.png)"
   ]
  },
  {
   "cell_type": "markdown",
   "metadata": {
    "slideshow": {
     "slide_type": "subslide"
    }
   },
   "source": [
    "![CP](CON8.png)"
   ]
  },
  {
   "cell_type": "markdown",
   "metadata": {
    "slideshow": {
     "slide_type": "slide"
    }
   },
   "source": [
    "# Criterio de positividad:\n",
    "\n",
    "## Para poder establecerlo, primero ES INDISPENSABLE contar con un método de diagnóstico para la patología ==> \"Gold Standard\"\n",
    "\n",
    "### Establece el verdadero estado frente a una patología.\n",
    "\n",
    "#### Ejemplo:   Para el cáncer de seno, es el estudio histopatológico de muestra obtenida por biopsia.\n",
    "\n"
   ]
  },
  {
   "cell_type": "markdown",
   "metadata": {
    "slideshow": {
     "slide_type": "slide"
    }
   },
   "source": [
    "# Para establecer el Criterio de positividad:\n",
    "\n",
    "## Comparar el \"GOLD STANDARD\" vs. \"la prueba o ensayo para testeo o tamizaje\".\n",
    "\n",
    "## Para determinar que tan exacto y válido es la prueba o ensayo TT con respecto al \"Gold Standard\".\n",
    "\n"
   ]
  },
  {
   "cell_type": "markdown",
   "metadata": {
    "slideshow": {
     "slide_type": "subslide"
    }
   },
   "source": [
    "                              Gold Standard   \n",
    "  \n",
    "\n",
    "|      |     |       +      |       -      |\n",
    "|:-----|:---:|:------------:|:------------:|\n",
    "|Screen|  +  | Verdadero  + | Falso +      |\n",
    "|test  |  -  | Falso +      | Verdadero  - |\n",
    "          \n",
    "\n"
   ]
  },
  {
   "cell_type": "markdown",
   "metadata": {
    "slideshow": {
     "slide_type": "slide"
    }
   },
   "source": [
    "# El criterio de positividad puede ser alterado para que más resultados resulten positivos....\n",
    "\n",
    "                                      Patología\n",
    "                                    Gold Standard\n",
    "\n",
    "\n",
    "|          |     |       +      |       -      |        |\n",
    "|:---------|:------:|:------------:|:------------:|:------:|\n",
    "|          |    +   |      800     |      3.200      |   4.000   |\n",
    "|Test      |    -   |      100      |    95.900      |  96.000   |\n",
    "|          |        |      900      |    99.100      | 100.000   |\n",
    "\n",
    "Población = 100.000 ____________________________________ Sensibilidad =  800 / 900  ==> 88,88 %\n",
    "\n",
    "Prevalencia =  0,009 ___________________________________ Especificidad = 95.900 / 99.100 ==>  96,77%\n",
    "\n",
    "\n",
    "\n"
   ]
  },
  {
   "cell_type": "markdown",
   "metadata": {
    "slideshow": {
     "slide_type": "slide"
    }
   },
   "source": [
    "# Se puede adoptar un corte que incremente la sensibilidad (lograr más resultados positivos) :\n",
    "\n",
    "                                                         Patología\n",
    "                                                      Gold Standard\n",
    "\n",
    "\n",
    "|          |     |       +      |       -      |        |\n",
    "|:---------|:------:|:------------:|:------------:|:------:|\n",
    "|          |    +   |    895     |     3.295      |   4.190   |\n",
    "|Test      |    -   |      5     |    95.805      |  95.810   |\n",
    "|          |        |    900     |    99.100      | 100.000   |\n",
    "\n",
    "Población = 100.000\n",
    "\n",
    "Prevalencia =  0,009\n",
    "\n",
    "Sensibilidad =  895 / 900  ==> 99,44 %  Aumenta la sensibilidad y disminuyen los falsos negativos.\n",
    "\n",
    "Especificidad = 95.805 / 99.100 ==>  96,67%  Disminuye la especificidad y aumentan los falsos positivos."
   ]
  },
  {
   "cell_type": "markdown",
   "metadata": {
    "slideshow": {
     "slide_type": "slide"
    }
   },
   "source": [
    "###  Ejercicio para establecer el criterio de positividad  de la mamografía ante el cáncer de mama:"
   ]
  },
  {
   "cell_type": "markdown",
   "metadata": {
    "slideshow": {
     "slide_type": "slide"
    }
   },
   "source": [
    "###  Ejercicio para establecer el criterio de positividad de la mamografía ante el cáncer de mama:\n",
    "\n",
    "\n",
    "\n",
    "> Prerrequisitos:  \n",
    "- Alto impacto  <== Alta prevalencia, morbilidad y mortalidad.\n",
    "\n",
    "### Sí.  Cáncer más común entre las mujeres.  Alta morbilidad y mortalidad.\n",
    "\n",
    "> Prerrequisitos:  \n",
    "- Tratamiento disponible.\n",
    "\n",
    "### Sí.   Detectado a tiempo, hay tratamiento disponible."
   ]
  },
  {
   "cell_type": "markdown",
   "metadata": {
    "slideshow": {
     "slide_type": "slide"
    }
   },
   "source": [
    "###  Ejercicio para establecer el criterio de positividad de la mamografía ante el cáncer de mama:\n",
    "\n",
    "> Gold Standard\n",
    "\n",
    "### Sí hay estudio \"Gold Standard\" ==>  Estudio histopatológica de muestra obtenida por biopsia."
   ]
  },
  {
   "cell_type": "markdown",
   "metadata": {
    "slideshow": {
     "slide_type": "slide"
    }
   },
   "source": [
    "###  Ejercicio para establecer el criterio de positividad de la mamografía ante el cáncer de mama:\n",
    "\n",
    "> Modalidades de testeo o tamizaje con *buenas características*  \n",
    "- Sensibilidad.\n",
    "- Especificidad.\n",
    "- Valor predictivo positivo.\n",
    "- Valor predictivo negativo.\n",
    "\n",
    "                                                        Histopatología\n",
    "                                                        Cáncer de mama\n",
    "\n",
    "\n",
    "|          |     |       +      |       -      |        |\n",
    "|:---------|:------:|:------------:|:------------:|:------:|\n",
    "|          |    +   |      42      |      18      |   60   |\n",
    "|Mamografía|    -   |       8      |     132      |  140   |\n",
    "|          |        |      50      |     150      |  200   |\n",
    "\n",
    "\n",
    "\n",
    "Sensibilidad =   42   / 50    ==>  84 %\n",
    "\n",
    "Especificidad =  132 / 150    ==>  88 %\n",
    "\n",
    "\n",
    "### Sí.       Sensibilidad del 84%.   Especificidad del 88%.  \n",
    "### Evidenciadas **apropiadamente** en estudios clínicos aleatorizados doble ciego, cuya ***validez interna ha sido comprobada  por el análisis crítico adecuado y por ende se puede generalizar.***"
   ]
  },
  {
   "cell_type": "markdown",
   "metadata": {
    "slideshow": {
     "slide_type": "slide"
    }
   },
   "source": [
    "###  Ejercicio para establecer el criterio de positividad de la mamografía ante el cáncer de mama:\n",
    "\n",
    "### Rendimiento de la prueba:\n",
    "\n",
    "#### Valor predictivo positivo (VPP):  Cuantos de los que tuvieron un resultado positivo, realmente están en estadío preclínico de la patología.\n",
    "\n",
    "                                                       Gold Standard   \n",
    "\n",
    "\n",
    "|      |     |       +      |       -      ||\n",
    "|:-----|:---:|:------------:|:------------:|:---:|\n",
    "|Screen|  +  | ***A*** | b | ***A + B*** |\n",
    "|test  |  -  | c | d | c + d |\n",
    "|      |     |a + c | b + d | T |\n",
    "\n",
    "\n",
    "\n",
    "VPP = A / A + B"
   ]
  },
  {
   "cell_type": "markdown",
   "metadata": {
    "slideshow": {
     "slide_type": "slide"
    }
   },
   "source": [
    "###  Ejercicio para establecer el criterio de positividad de la mamografía ante el cáncer de mama:\n",
    "\n",
    "### Rendimiento de la prueba:\n",
    "\n",
    "#### Valor predictivo negativo (VPN):  Cuantos de los que tuvieron un resultado negativo, realmente NO están en estadío preclínico de la patología.\n",
    "\n",
    "                                                      Gold Standard   \n",
    "\n",
    "\n",
    "|      |     |       +      |       -      ||\n",
    "|:-----|:---:|:------------:|:------------:|:---:|\n",
    "|Screen|  +  | a | b | a + b |\n",
    "|test  |  -  | c | ***D*** | ***C + D*** |\n",
    "|      |     |a + c | b + d | T |\n",
    "\n",
    "\n",
    "\n",
    "VPN = D / C + D"
   ]
  },
  {
   "cell_type": "markdown",
   "metadata": {
    "slideshow": {
     "slide_type": "slide"
    }
   },
   "source": [
    "###  Ejercicio para establecer el criterio de positividad de la mamografía ante el cáncer de mama:\n",
    "    \n",
    " \n",
    "                                                         Histopatología\n",
    "                                                         Cáncer de mama\n",
    "\n",
    "\n",
    "|          |     |       +      |       -      |        |\n",
    "|:---------|:------:|:------------:|:------------:|:------:|\n",
    "|          |    +   |      42      |      18      |   60   |\n",
    "|Mamografía|    -   |       8      |     132      |  140   |\n",
    "|          |        |      50      |     150      |  200   |\n",
    "\n",
    "\n",
    "\n",
    "VPP =   42   / 60    ==>  79 %\n",
    "\n",
    "VPN =  132  / 140    ==>  94,3 % "
   ]
  },
  {
   "cell_type": "markdown",
   "metadata": {
    "slideshow": {
     "slide_type": "slide"
    }
   },
   "source": [
    "###  Ejercicio para establecer el criterio de positividad de la mamografía ante el cáncer de mama:\n",
    "\n",
    "> Factibilidad del testeo o tamizaje.\n",
    "\n",
    "- Libre de molestia significativa !\n",
    "\n",
    "### Sí.  Y la irradiación, aunque hay que tenerla presente, es baja.\n",
    "\n",
    "- Eficiente y económico.  \n",
    "\n",
    "### Sí."
   ]
  },
  {
   "cell_type": "markdown",
   "metadata": {
    "slideshow": {
     "slide_type": "slide"
    }
   },
   "source": [
    "###  Ejercicio para establecer el criterio de positividad de la mamografía ante el cáncer de mama:\n",
    "\n",
    "- Que la persona acepte el seguimiento y que este sea posible.\n",
    "\n",
    "### Sí.\n",
    "\n",
    "- Alta especificidad.\n",
    "\n",
    "### Sí.\n",
    "\n",
    "- El testeo o tamizaje debe derivar en la disminución efectiva de efectos adversos.\n",
    "\n",
    "### Sí."
   ]
  },
  {
   "cell_type": "markdown",
   "metadata": {
    "slideshow": {
     "slide_type": "slide"
    }
   },
   "source": [
    "### ¿ La mamografía es un test de tamizaje adecuado ante el cáncer de mama ?\n",
    "\n",
    "# SÍ !   ...hasta que aparezca un test de tamizaje con mejores características !"
   ]
  },
  {
   "cell_type": "markdown",
   "metadata": {
    "slideshow": {
     "slide_type": "slide"
    }
   },
   "source": [
    "# Determinantes del valor predictivo\n",
    "> Prevalencia de enfermedad preclínica detectable.\n",
    "\n",
    "> ¡ Especificidad !\n",
    "\n",
    "> Sensibilidad\n",
    "\n",
    "                                                        Patología\n",
    "                                                      Gold Standard\n",
    "\n",
    "\n",
    "|          |     |       +      |       -      |        |\n",
    "|:---------|:------:|:------------:|:------------:|:------:|\n",
    "|          |    +   |      800     |      3.200      |   4.000   |\n",
    "|Test      |    -   |      100      |    95.900      |  96.000   |\n",
    "|          |        |      900      |    99.100      | 100.000   |\n",
    "\n",
    "\n",
    "\n",
    "Población = 100.000\n",
    "\n",
    "Prevalencia =  0,009\n",
    "\n",
    "Sensibilidad =  800 / 900  ==> 88,88 %\n",
    "\n",
    "Especificidad = 95.900 / 99.100 ==>  96,77%\n",
    "\n",
    "VPP =   800   / 4.000    ==>  20 %\n",
    "\n",
    "VPN =  95.900  / 96.000    ==>  99,896 %   "
   ]
  },
  {
   "cell_type": "markdown",
   "metadata": {
    "slideshow": {
     "slide_type": "slide"
    }
   },
   "source": [
    "# Determinantes del valor predictivo\n",
    "\n",
    "> Prevalencia de enfermedad preclínica detectable.\n",
    "\n",
    "> ¡ Especificidad !\n",
    "\n",
    "> Sensibilidad\n",
    "\n",
    "####  Si la prevalencia de la enfermedad en su fase preclínica detectable INCREMENTA:\n",
    "                                                        Patología\n",
    "                                                      Gold Standard\n",
    "\n",
    "\n",
    "|          |     |       +      |       -      |        |\n",
    "|:---------|:------:|:------------:|:------------:|:------:|\n",
    "|          |    +   |    1.000     |      3.200      |   4.200   |\n",
    "|Test      |    -   |      100      |    95.700      |  95.800   |\n",
    "|          |        |    1.100      |    98.900      | 100.000   |\n",
    "\n",
    "\n",
    "\n",
    "Población      =       100.000\n",
    "\n",
    "Prevalencia    =       0,011\n",
    "\n",
    "Sensibilidad   =       1.000    /    1.100    ==>  90,9   %  \n",
    "\n",
    "Especificidad  =      95.700    /   98.900    ==>  96,76  %\n",
    "\n",
    "VPP            =       1.000    /    4.200    ==>  23,8   %         AUMENTA\n",
    "\n",
    "VPN            =      95.700    /   95.800    ==>  99,895 % "
   ]
  },
  {
   "cell_type": "markdown",
   "metadata": {
    "slideshow": {
     "slide_type": "slide"
    }
   },
   "source": [
    "# ¿ RECONOZCO LAS CARACTERÍSTICAS **ESENCIALES** DEL TESTEO O TAMIZAJE... ?"
   ]
  },
  {
   "cell_type": "markdown",
   "metadata": {
    "slideshow": {
     "slide_type": "subslide"
    }
   },
   "source": [
    "### Objetivo de las pruebas o ensayos TT:\n",
    "\n",
    "# Buscar tempranamente población asintomática afectada por la patología."
   ]
  },
  {
   "cell_type": "markdown",
   "metadata": {
    "slideshow": {
     "slide_type": "slide"
    }
   },
   "source": [
    "# ¿ RECONOZCO LAS CARACTERÍSTICAS **ESENCIALES** DEL TESTEO O TAMIZAJE... ?"
   ]
  },
  {
   "cell_type": "markdown",
   "metadata": {
    "slideshow": {
     "slide_type": "subslide"
    }
   },
   "source": [
    "###  ~Prueba diagnóstica: \n",
    "\n",
    "# NO ES UNA PRUEBA DIAGNÓSTICA !!!!!!"
   ]
  },
  {
   "cell_type": "markdown",
   "metadata": {
    "slideshow": {
     "slide_type": "slide"
    }
   },
   "source": [
    "# ¿ RECONOZCO LAS CARACTERÍSTICAS **ESENCIALES** DEL TESTEO O TAMIZAJE... ?"
   ]
  },
  {
   "cell_type": "markdown",
   "metadata": {
    "slideshow": {
     "slide_type": "subslide"
    }
   },
   "source": [
    "### Presunción:  \n",
    "\n",
    "# La detección temprana hará el pronóstico  más favorable."
   ]
  },
  {
   "cell_type": "markdown",
   "metadata": {
    "slideshow": {
     "slide_type": "slide"
    }
   },
   "source": [
    "### Medidas de utilidad clínica:\n",
    "\n",
    "> Factibilidad.\n",
    "\n",
    "> Criterio de positividad.\n",
    "\n",
    "> Curva R.O.C. *\n",
    "\n"
   ]
  },
  {
   "cell_type": "markdown",
   "metadata": {
    "slideshow": {
     "slide_type": "slide"
    }
   },
   "source": [
    "# Curva R.O.C.:   Receiver Operating Characteristic Curve (R.O.C.)\n",
    "\n",
    "## Permite apreciar como la sensibilidad y la especificidad interactúan en una prueba de testeo o tamizaje, aprecidados en diferentes zonas sobre un nivel continuo."
   ]
  },
  {
   "cell_type": "markdown",
   "metadata": {
    "slideshow": {
     "slide_type": "slide"
    }
   },
   "source": [
    "![ROC1](ROC1.png)"
   ]
  },
  {
   "cell_type": "markdown",
   "metadata": {
    "slideshow": {
     "slide_type": "subslide"
    }
   },
   "source": [
    "![ROC1](ROC2.png)"
   ]
  },
  {
   "cell_type": "markdown",
   "metadata": {
    "slideshow": {
     "slide_type": "subslide"
    }
   },
   "source": [
    "![ROC1](ROC3.png)"
   ]
  },
  {
   "cell_type": "markdown",
   "metadata": {
    "slideshow": {
     "slide_type": "subslide"
    }
   },
   "source": [
    "![ROC1](ROC4.png)"
   ]
  },
  {
   "cell_type": "markdown",
   "metadata": {
    "slideshow": {
     "slide_type": "subslide"
    }
   },
   "source": [
    "![ROC1](ROC5.png)"
   ]
  },
  {
   "cell_type": "markdown",
   "metadata": {
    "slideshow": {
     "slide_type": "subslide"
    }
   },
   "source": [
    "![ROC1](ROC6.png)"
   ]
  },
  {
   "cell_type": "markdown",
   "metadata": {
    "slideshow": {
     "slide_type": "subslide"
    }
   },
   "source": [
    "![ROC1](ROC7.png)"
   ]
  },
  {
   "cell_type": "markdown",
   "metadata": {
    "slideshow": {
     "slide_type": "slide"
    }
   },
   "source": [
    "# ¿ Cómo saber si una prueba de testeo o tamizaje sirve ?"
   ]
  },
  {
   "cell_type": "markdown",
   "metadata": {
    "slideshow": {
     "slide_type": "subslide"
    }
   },
   "source": [
    "## Comprendiendo y validando factores claves  en el diseño de un estudio eficaz de testeo o tamizaje:\n",
    "\n",
    "> Medidas de eficacia.\n",
    "\n",
    "> Sesgos.\n",
    "\n",
    "> Diseño epidemiológico del estudio.\n"
   ]
  },
  {
   "cell_type": "markdown",
   "metadata": {
    "slideshow": {
     "slide_type": "slide"
    }
   },
   "source": [
    "# ¿ Cómo saber si una prueba de testeo o tamizaje sirve ?"
   ]
  },
  {
   "cell_type": "markdown",
   "metadata": {
    "slideshow": {
     "slide_type": "subslide"
    }
   },
   "source": [
    "## y además...\n",
    "\n",
    "### Comparando los resultados.\n",
    "- Entre la población que fue tamizada y la que no lo fue.\n",
    "\n",
    "## y verificando si:\n",
    "\n",
    "### ¿ El diseño epidemiológico soporta su propia evaluación ?\n",
    "\n",
    "### ¿ Surgió de estudios de observación o de ensayos fase III ?\n",
    "\n",
    "### ¿ Se conocen y controlaron las variables de \"confusión\" ?\n"
   ]
  },
  {
   "cell_type": "markdown",
   "metadata": {
    "slideshow": {
     "slide_type": "slide"
    }
   },
   "source": [
    "## Comprendiendo y validando factores claves  en el diseño de un estudio eficaz de testeo o tamizaje:\n",
    "\n",
    "> Medidas de eficacia.*\n",
    "\n",
    "Ensayo clínico aleatorizado ciego o doble ciego, fase III, que soporte el análisis crítico y evidencie su validez interna.\n",
    "\n",
    "> Sesgos.\n",
    "\n",
    "> Diseño epidemiológico del estudio.\n"
   ]
  },
  {
   "cell_type": "markdown",
   "metadata": {
    "slideshow": {
     "slide_type": "slide"
    }
   },
   "source": [
    "## Comprendiendo y validando factores claves  en el diseño de un estudio eficaz de testeo o tamizaje:\n",
    "\n",
    "> Medidas de eficacia.\n",
    "\n",
    "> Sesgos.*\n",
    "\n",
    "> Diseño epidemiológico del estudio.\n"
   ]
  },
  {
   "cell_type": "markdown",
   "metadata": {
    "slideshow": {
     "slide_type": "slide"
    }
   },
   "source": [
    "## Comprendiendo y validando factores claves  en el diseño de un estudio eficaz de testeo o tamizaje:\n",
    "\n",
    "### Sesgos (bias):\n",
    "\n",
    "#### 'Over diagnosis bias':  Afecta la INCIDENCIA.   Se encuentran más casos de la patología en el grupo testeado.\n",
    "\n",
    "##### 'Over diagnosis' es el diagnóstico de una enfermedad que nunca causará síntomas durante la vida del ser, ni su muerte.\n",
    "\n",
    "#####  El sesgo de \"sobre diagnóstico\", genera el incremento del número de casos detectados, que se refleja en la incidencia o prevalencia de la patología, pero cuyo riesgo se sobreestima, generando sobreactuación y consumo de recursos que debieran ser utilizados en la atención de otras patologías prevalentes y de mayor morbilidad o mortalidad."
   ]
  },
  {
   "cell_type": "markdown",
   "metadata": {
    "slideshow": {
     "slide_type": "slide"
    }
   },
   "source": [
    "## Comprendiendo y validando factores claves  en el diseño de un estudio eficaz de testeo o tamizaje:\n",
    "\n",
    "#####  El sesgo de \"sobre diagnóstico\", \n",
    "\n",
    "# se corrige comparando tasas de mortalidad específicas por edad."
   ]
  },
  {
   "cell_type": "markdown",
   "metadata": {
    "slideshow": {
     "slide_type": "slide"
    }
   },
   "source": [
    "## Comprendiendo y validando factores claves  en el diseño de un estudio eficaz de testeo o tamizaje:\n",
    "\n",
    "### Sesgos (bias):\n",
    "\n",
    "#### 'Lead Time bias':  Afecta la SOBREVIVENCIA.   Pacientes identificados con la prueba, vivirán más, que quienes obtuvieron un resultado negativo en la prueba.\n",
    "\n",
    "#####  El sesgo de \"tiempo de espera\", genera la falsa percepción que quienes son detectados por el tamizaje vivirán por más tiempo, que los que el tamizaje no detecta."
   ]
  },
  {
   "cell_type": "markdown",
   "metadata": {
    "slideshow": {
     "slide_type": "slide"
    }
   },
   "source": [
    "## Comprendiendo y validando factores claves  en el diseño de un estudio eficaz de testeo o tamizaje:\n",
    "\n",
    "#####  El sesgo de \"tiempo de espera\",\n",
    "\n",
    "# también se corrige comparando tasas de mortalidad específicas por edad."
   ]
  },
  {
   "cell_type": "markdown",
   "metadata": {
    "slideshow": {
     "slide_type": "slide"
    }
   },
   "source": [
    "## Comprendiendo y validando factores claves  en el diseño de un estudio eficaz de testeo o tamizaje:\n",
    "\n",
    "### Sesgos (bias):\n",
    "\n",
    "#### 'Length bias sampling':  Afecta la determinación del Estado/Severidad de la enfermedad.   Pacientes identificados con la prueba, son diagnosticados en un Estado con menor severidad, en comparación con quienes obtuvieron un resultado negativo.\n",
    "\n",
    "#####  El sesgo de \"longitud de muestreo\", genera la falsa percepción que quienes son detectados por el tamizaje tendrán menor severidad de la enfermedad, que los que el tamizaje no detectó.  Es un error pues los casos identificados NO SON UNA MUESTRA ALEATORIA DE TODAS LAS PERSONAS QUE TIENEN LA ENFERMEDAD."
   ]
  },
  {
   "cell_type": "markdown",
   "metadata": {
    "slideshow": {
     "slide_type": "slide"
    }
   },
   "source": [
    "## Comprendiendo y validando factores claves  en el diseño de un estudio eficaz de testeo o tamizaje:\n",
    "\n",
    "#####  El sesgo de \"longitud de muestreo\", \n",
    "\n",
    "# también se corrige comparando tasas de mortalidad específicas por edad."
   ]
  },
  {
   "cell_type": "markdown",
   "metadata": {
    "slideshow": {
     "slide_type": "slide"
    }
   },
   "source": [
    "## Comprendiendo y validando factores claves  en el diseño de un estudio eficaz de testeo o tamizaje:\n",
    "\n",
    "### Sesgos (bias):\n",
    "\n",
    "#### 'Volunteer bias':  Afecta inmensamente la prueba.  Se presenta en estudios observacionales.  Por eso estos no son adecuados.\n",
    "\n",
    "#####  El sesgo del \"voluntario\", es grave por:\n",
    "- \"Los voluntarios\" en un estudio observacional, son sistemáticamente diferentes de los \"no voluntarios\".\n",
    "- ¿Son los voluntarios personas saludables o no? ¿ Esperan alguna ganancia secundaria?\n",
    "- No hay control alguno  sobre las variables de confusión."
   ]
  },
  {
   "cell_type": "markdown",
   "metadata": {
    "slideshow": {
     "slide_type": "slide"
    }
   },
   "source": [
    "## Comprendiendo y validando factores claves  en el diseño de un estudio eficaz de testeo o tamizaje:\n",
    "\n",
    "#####  El sesgo del \"voluntario\",\n",
    "\n",
    "# se corrige asegurando que los estudios sean clínicos aleatorizados ciegos o doble ciegos, fase III, que soporten el análisis crítico y evidencien validez interna que les permita ser generalizables.\n",
    "\n",
    "\n"
   ]
  },
  {
   "cell_type": "markdown",
   "metadata": {
    "slideshow": {
     "slide_type": "slide"
    }
   },
   "source": [
    "## Comprendiendo y validando factores claves  en el diseño de un estudio eficaz de testeo o tamizaje:\n",
    "\n",
    "### Sesgos (bias):\n",
    "\n",
    "#### Sesgo de negatividad\n",
    "El sesgo de negatividad o efecto negativo se refiere al concepto que en grados de la misma intensidad, las cosas de naturaleza negativa (pensamientos desagradables, emociones, interacciones sociales o eventos traumáticos) tienen un peso mayor en los estados y procesos psicológicos de las personas que las cosas neutrales o positivas.  Es decir, algo muy positivo normalmente tendrá menos impacto en el comportamiento y en pensamiento de las personas que algo igualmente emocional pero negativo. El sesgo de negatividad se ha investigado desde muchos campos diferentes, incluyendo la formación de tales como: atención, aprendizaje, memoria, toma de decisiones y riesgos.\n",
    "\n",
    "#####  El sesgo del \"negatividad\", es grave en el testeo pues:\n",
    "- Refuerza todos los anteriores sesgos."
   ]
  },
  {
   "cell_type": "markdown",
   "metadata": {
    "slideshow": {
     "slide_type": "slide"
    }
   },
   "source": [
    "# Conceptos sesgo negatividad:\n",
    "\n",
    "Potencia negativa: ...ante la posibilidad de igual magnitud, los elementos, eventos, etc. positivos y negativos no destacan de igual forma. \n",
    "\n",
    "Desigualdad negativa:... los eventos negativos se perciben como más negativos respecto a los eventos positivos se perciben como más positivos cuanto más cercano (en tiempo o espacio) es el evento en cuestión. \n",
    "\n",
    "     Rozin y Edward Royzman\n"
   ]
  },
  {
   "cell_type": "markdown",
   "metadata": {
    "slideshow": {
     "slide_type": "slide"
    }
   },
   "source": [
    "# Conceptos sesgo negatividad:\n",
    "\n",
    "Dominio negativo: ...tendencia de la combinación de elementos o eventos positivos y negativos hacia una interpretación global más negativa de la que cabría esperar si se analizaran los elementos positivos y negativos de forma individual. En términos de Gestalt, el todo es más negativo que la suma de las partes.\n",
    "\n",
    "Diferenciación negativa: ...la conceptualización de la negatividad es más elaborada y compleja que la de la positividad. El concepto de diferenciación negativa es consistente con la hipótesis movilización-minimalización que postula que los eventos negativos, debido de su complejidad, requieren movilizar más recursos cognitivos para tratar la experiencia afectiva y un mayor esfuerzo para minimizar sus consecuencias.     \n",
    "\n",
    "    Rozin y Edward Royzman\n"
   ]
  },
  {
   "cell_type": "markdown",
   "metadata": {
    "slideshow": {
     "slide_type": "slide"
    }
   },
   "source": [
    "# Herramienta para minimizar sesgos"
   ]
  },
  {
   "cell_type": "markdown",
   "metadata": {
    "slideshow": {
     "slide_type": "slide"
    }
   },
   "source": [
    "![](dataPandemics.png)"
   ]
  },
  {
   "cell_type": "markdown",
   "metadata": {
    "slideshow": {
     "slide_type": "slide"
    }
   },
   "source": [
    "# Comparativo Tasas de Mortalidad por millón de habitantes\n",
    "# Colombia\n",
    "### Elaborado por:  Luis Evelio García Restrepo.  MD. MAS. EF\n",
    "### Fuentes:  \n",
    "#### DANE.  Preliminares Tasas de Mortalidad por millón de habitantes último trimestre 2019  (ajustado a equivalentes días de pandemia en Colombia.          -  INS :  Instituto Nacional de Salud Colombia: Datos CoVid19.  Pendiente depuración de muertes CON COVID-19 vs muertes POR COVID-19 .  "
   ]
  },
  {
   "cell_type": "code",
   "execution_count": 1,
   "metadata": {
    "slideshow": {
     "slide_type": "skip"
    }
   },
   "outputs": [],
   "source": [
    "import pandas as pd\n",
    "import numpy as np"
   ]
  },
  {
   "cell_type": "code",
   "execution_count": 2,
   "metadata": {
    "slideshow": {
     "slide_type": "skip"
    }
   },
   "outputs": [],
   "source": [
    "%matplotlib inline"
   ]
  },
  {
   "cell_type": "markdown",
   "metadata": {},
   "source": [
    "Utilizar con datos hasta el 07 de noviembre 2020"
   ]
  },
  {
   "cell_type": "markdown",
   "metadata": {
    "slideshow": {
     "slide_type": "slide"
    }
   },
   "source": [
    "col = pd.read_csv('/Users/Dr.LuisEvelioRestrepoGarcia/REPOS/CovidColombia.csv', usecols= ['Fecha de notificación',\n",
    "       'Nombre municipio', 'Nombre departamento', 'Edad',\n",
    "       'Sexo', 'Tipo de contagio', 'Estado', \n",
    "       'Fecha de muerte', 'Fecha de diagnóstico', 'Fecha de recuperación',\n",
    "       'Tipo de recuperación'],low_memory = False)"
   ]
  },
  {
   "cell_type": "markdown",
   "metadata": {},
   "source": [
    "Utilizar con datos a partir del 8 de noviembre 2020"
   ]
  },
  {
   "cell_type": "code",
   "execution_count": 3,
   "metadata": {},
   "outputs": [],
   "source": [
    "col=pd.read_csv('/Users/Dr.LuisEvelioRestrepoGarcia/REPOS/CovidColombia.csv', encoding = 'unicode_escape', engine ='python', sep=';', \n",
    "                  usecols=['Fecha Not', \n",
    "       'Departamento_nom', 'Ciudad_municipio_nom', 'Edad',\n",
    "       'Sexo', 'Ubicacion', 'Estado',\n",
    "       'Recuperado',\n",
    "       'Fecha_muerte', 'Fecha_diagnostico'])"
   ]
  },
  {
   "cell_type": "code",
   "execution_count": 4,
   "metadata": {},
   "outputs": [
    {
     "data": {
      "text/html": [
       "<div>\n",
       "<style scoped>\n",
       "    .dataframe tbody tr th:only-of-type {\n",
       "        vertical-align: middle;\n",
       "    }\n",
       "\n",
       "    .dataframe tbody tr th {\n",
       "        vertical-align: top;\n",
       "    }\n",
       "\n",
       "    .dataframe thead th {\n",
       "        text-align: right;\n",
       "    }\n",
       "</style>\n",
       "<table border=\"1\" class=\"dataframe\">\n",
       "  <thead>\n",
       "    <tr style=\"text-align: right;\">\n",
       "      <th></th>\n",
       "      <th>Fecha Not</th>\n",
       "      <th>Departamento_nom</th>\n",
       "      <th>Ciudad_municipio_nom</th>\n",
       "      <th>Edad</th>\n",
       "      <th>Sexo</th>\n",
       "      <th>Ubicacion</th>\n",
       "      <th>Estado</th>\n",
       "      <th>Recuperado</th>\n",
       "      <th>Fecha_muerte</th>\n",
       "      <th>Fecha_diagnostico</th>\n",
       "    </tr>\n",
       "  </thead>\n",
       "  <tbody>\n",
       "    <tr>\n",
       "      <th>0</th>\n",
       "      <td>2/3/2020 0:00:00</td>\n",
       "      <td>BOGOTA</td>\n",
       "      <td>BOGOTA</td>\n",
       "      <td>19</td>\n",
       "      <td>F</td>\n",
       "      <td>Casa</td>\n",
       "      <td>Leve</td>\n",
       "      <td>Recuperado</td>\n",
       "      <td>NaN</td>\n",
       "      <td>6/3/2020 0:00:00</td>\n",
       "    </tr>\n",
       "    <tr>\n",
       "      <th>1</th>\n",
       "      <td>6/3/2020 0:00:00</td>\n",
       "      <td>VALLE</td>\n",
       "      <td>BUGA</td>\n",
       "      <td>34</td>\n",
       "      <td>M</td>\n",
       "      <td>Casa</td>\n",
       "      <td>Leve</td>\n",
       "      <td>Recuperado</td>\n",
       "      <td>NaN</td>\n",
       "      <td>9/3/2020 0:00:00</td>\n",
       "    </tr>\n",
       "    <tr>\n",
       "      <th>2</th>\n",
       "      <td>7/3/2020 0:00:00</td>\n",
       "      <td>ANTIOQUIA</td>\n",
       "      <td>MEDELLIN</td>\n",
       "      <td>50</td>\n",
       "      <td>F</td>\n",
       "      <td>Casa</td>\n",
       "      <td>Leve</td>\n",
       "      <td>Recuperado</td>\n",
       "      <td>NaN</td>\n",
       "      <td>9/3/2020 0:00:00</td>\n",
       "    </tr>\n",
       "    <tr>\n",
       "      <th>3</th>\n",
       "      <td>9/3/2020 0:00:00</td>\n",
       "      <td>ANTIOQUIA</td>\n",
       "      <td>MEDELLIN</td>\n",
       "      <td>55</td>\n",
       "      <td>M</td>\n",
       "      <td>Casa</td>\n",
       "      <td>Leve</td>\n",
       "      <td>Recuperado</td>\n",
       "      <td>NaN</td>\n",
       "      <td>11/3/2020 0:00:00</td>\n",
       "    </tr>\n",
       "    <tr>\n",
       "      <th>4</th>\n",
       "      <td>9/3/2020 0:00:00</td>\n",
       "      <td>ANTIOQUIA</td>\n",
       "      <td>MEDELLIN</td>\n",
       "      <td>25</td>\n",
       "      <td>M</td>\n",
       "      <td>Casa</td>\n",
       "      <td>Leve</td>\n",
       "      <td>Recuperado</td>\n",
       "      <td>NaN</td>\n",
       "      <td>11/3/2020 0:00:00</td>\n",
       "    </tr>\n",
       "    <tr>\n",
       "      <th>...</th>\n",
       "      <td>...</td>\n",
       "      <td>...</td>\n",
       "      <td>...</td>\n",
       "      <td>...</td>\n",
       "      <td>...</td>\n",
       "      <td>...</td>\n",
       "      <td>...</td>\n",
       "      <td>...</td>\n",
       "      <td>...</td>\n",
       "      <td>...</td>\n",
       "    </tr>\n",
       "    <tr>\n",
       "      <th>1316801</th>\n",
       "      <td>26/11/2020 0:00:00</td>\n",
       "      <td>ANTIOQUIA</td>\n",
       "      <td>MEDELLIN</td>\n",
       "      <td>36</td>\n",
       "      <td>M</td>\n",
       "      <td>Casa</td>\n",
       "      <td>Leve</td>\n",
       "      <td>Activo</td>\n",
       "      <td>NaN</td>\n",
       "      <td>28/11/2020 0:00:00</td>\n",
       "    </tr>\n",
       "    <tr>\n",
       "      <th>1316802</th>\n",
       "      <td>26/11/2020 0:00:00</td>\n",
       "      <td>ANTIOQUIA</td>\n",
       "      <td>RIONEGRO</td>\n",
       "      <td>11</td>\n",
       "      <td>M</td>\n",
       "      <td>Casa</td>\n",
       "      <td>Leve</td>\n",
       "      <td>Activo</td>\n",
       "      <td>NaN</td>\n",
       "      <td>29/11/2020 0:00:00</td>\n",
       "    </tr>\n",
       "    <tr>\n",
       "      <th>1316803</th>\n",
       "      <td>28/11/2020 0:00:00</td>\n",
       "      <td>ANTIOQUIA</td>\n",
       "      <td>RIONEGRO</td>\n",
       "      <td>41</td>\n",
       "      <td>F</td>\n",
       "      <td>Casa</td>\n",
       "      <td>Leve</td>\n",
       "      <td>Activo</td>\n",
       "      <td>NaN</td>\n",
       "      <td>29/11/2020 0:00:00</td>\n",
       "    </tr>\n",
       "    <tr>\n",
       "      <th>1316804</th>\n",
       "      <td>27/11/2020 0:00:00</td>\n",
       "      <td>ANTIOQUIA</td>\n",
       "      <td>RIONEGRO</td>\n",
       "      <td>39</td>\n",
       "      <td>F</td>\n",
       "      <td>Casa</td>\n",
       "      <td>Leve</td>\n",
       "      <td>Activo</td>\n",
       "      <td>NaN</td>\n",
       "      <td>29/11/2020 0:00:00</td>\n",
       "    </tr>\n",
       "    <tr>\n",
       "      <th>1316805</th>\n",
       "      <td>3/11/2020 0:00:00</td>\n",
       "      <td>ANTIOQUIA</td>\n",
       "      <td>LA CEJA</td>\n",
       "      <td>38</td>\n",
       "      <td>M</td>\n",
       "      <td>Hospital</td>\n",
       "      <td>Moderado</td>\n",
       "      <td>Activo</td>\n",
       "      <td>NaN</td>\n",
       "      <td>3/11/2020 0:00:00</td>\n",
       "    </tr>\n",
       "  </tbody>\n",
       "</table>\n",
       "<p>1316806 rows × 10 columns</p>\n",
       "</div>"
      ],
      "text/plain": [
       "                  Fecha Not Departamento_nom Ciudad_municipio_nom  Edad Sexo  \\\n",
       "0          2/3/2020 0:00:00           BOGOTA               BOGOTA    19    F   \n",
       "1          6/3/2020 0:00:00            VALLE                 BUGA    34    M   \n",
       "2          7/3/2020 0:00:00        ANTIOQUIA             MEDELLIN    50    F   \n",
       "3          9/3/2020 0:00:00        ANTIOQUIA             MEDELLIN    55    M   \n",
       "4          9/3/2020 0:00:00        ANTIOQUIA             MEDELLIN    25    M   \n",
       "...                     ...              ...                  ...   ...  ...   \n",
       "1316801  26/11/2020 0:00:00        ANTIOQUIA             MEDELLIN    36    M   \n",
       "1316802  26/11/2020 0:00:00        ANTIOQUIA             RIONEGRO    11    M   \n",
       "1316803  28/11/2020 0:00:00        ANTIOQUIA             RIONEGRO    41    F   \n",
       "1316804  27/11/2020 0:00:00        ANTIOQUIA             RIONEGRO    39    F   \n",
       "1316805   3/11/2020 0:00:00        ANTIOQUIA              LA CEJA    38    M   \n",
       "\n",
       "        Ubicacion    Estado  Recuperado Fecha_muerte   Fecha_diagnostico  \n",
       "0            Casa      Leve  Recuperado          NaN    6/3/2020 0:00:00  \n",
       "1            Casa      Leve  Recuperado          NaN    9/3/2020 0:00:00  \n",
       "2            Casa      Leve  Recuperado          NaN    9/3/2020 0:00:00  \n",
       "3            Casa      Leve  Recuperado          NaN   11/3/2020 0:00:00  \n",
       "4            Casa      Leve  Recuperado          NaN   11/3/2020 0:00:00  \n",
       "...           ...       ...         ...          ...                 ...  \n",
       "1316801      Casa      Leve      Activo          NaN  28/11/2020 0:00:00  \n",
       "1316802      Casa      Leve      Activo          NaN  29/11/2020 0:00:00  \n",
       "1316803      Casa      Leve      Activo          NaN  29/11/2020 0:00:00  \n",
       "1316804      Casa      Leve      Activo          NaN  29/11/2020 0:00:00  \n",
       "1316805  Hospital  Moderado      Activo          NaN   3/11/2020 0:00:00  \n",
       "\n",
       "[1316806 rows x 10 columns]"
      ]
     },
     "execution_count": 4,
     "metadata": {},
     "output_type": "execute_result"
    }
   ],
   "source": [
    "col"
   ]
  },
  {
   "cell_type": "code",
   "execution_count": 5,
   "metadata": {},
   "outputs": [],
   "source": [
    "col['Fecha Not']= pd.to_datetime(col['Fecha Not'], format='%d/%m/%Y %H:%M:%S')\n",
    "col['Fecha_muerte']= pd.to_datetime(col['Fecha_muerte'], format='%d/%m/%Y %H:%M:%S')\n",
    "col['Fecha_diagnostico']= pd.to_datetime(col['Fecha_diagnostico'], format='%d/%m/%Y %H:%M:%S')"
   ]
  },
  {
   "cell_type": "markdown",
   "metadata": {},
   "source": [
    "Utilizar con datos a partir del 8 de noviembre 2020"
   ]
  },
  {
   "cell_type": "code",
   "execution_count": 6,
   "metadata": {},
   "outputs": [],
   "source": [
    "col=col.rename(columns={'Fecha Not':'Fecha de notificación', 'Departamento_nom':'Nombre departamento', \n",
    "                            'Ciudad_municipio_nom':'Nombre municipio',\n",
    "                            'Fecha_muerte':'Fecha de muerte',\n",
    "                            'Fecha_diagnostico':'Fecha de diagnóstico'})"
   ]
  },
  {
   "cell_type": "code",
   "execution_count": 7,
   "metadata": {
    "slideshow": {
     "slide_type": "slide"
    }
   },
   "outputs": [
    {
     "data": {
      "text/html": [
       "<div>\n",
       "<style scoped>\n",
       "    .dataframe tbody tr th:only-of-type {\n",
       "        vertical-align: middle;\n",
       "    }\n",
       "\n",
       "    .dataframe tbody tr th {\n",
       "        vertical-align: top;\n",
       "    }\n",
       "\n",
       "    .dataframe thead th {\n",
       "        text-align: right;\n",
       "    }\n",
       "</style>\n",
       "<table border=\"1\" class=\"dataframe\">\n",
       "  <thead>\n",
       "    <tr style=\"text-align: right;\">\n",
       "      <th></th>\n",
       "      <th>Fecha de notificación</th>\n",
       "      <th>Nombre departamento</th>\n",
       "      <th>Nombre municipio</th>\n",
       "      <th>Edad</th>\n",
       "      <th>Sexo</th>\n",
       "      <th>Ubicacion</th>\n",
       "      <th>Estado</th>\n",
       "      <th>Recuperado</th>\n",
       "      <th>Fecha de muerte</th>\n",
       "      <th>Fecha de diagnóstico</th>\n",
       "    </tr>\n",
       "  </thead>\n",
       "  <tbody>\n",
       "    <tr>\n",
       "      <th>0</th>\n",
       "      <td>2020-03-02</td>\n",
       "      <td>BOGOTA</td>\n",
       "      <td>BOGOTA</td>\n",
       "      <td>19</td>\n",
       "      <td>F</td>\n",
       "      <td>Casa</td>\n",
       "      <td>Leve</td>\n",
       "      <td>Recuperado</td>\n",
       "      <td>NaT</td>\n",
       "      <td>2020-03-06</td>\n",
       "    </tr>\n",
       "    <tr>\n",
       "      <th>1</th>\n",
       "      <td>2020-03-06</td>\n",
       "      <td>VALLE</td>\n",
       "      <td>BUGA</td>\n",
       "      <td>34</td>\n",
       "      <td>M</td>\n",
       "      <td>Casa</td>\n",
       "      <td>Leve</td>\n",
       "      <td>Recuperado</td>\n",
       "      <td>NaT</td>\n",
       "      <td>2020-03-09</td>\n",
       "    </tr>\n",
       "    <tr>\n",
       "      <th>2</th>\n",
       "      <td>2020-03-07</td>\n",
       "      <td>ANTIOQUIA</td>\n",
       "      <td>MEDELLIN</td>\n",
       "      <td>50</td>\n",
       "      <td>F</td>\n",
       "      <td>Casa</td>\n",
       "      <td>Leve</td>\n",
       "      <td>Recuperado</td>\n",
       "      <td>NaT</td>\n",
       "      <td>2020-03-09</td>\n",
       "    </tr>\n",
       "    <tr>\n",
       "      <th>3</th>\n",
       "      <td>2020-03-09</td>\n",
       "      <td>ANTIOQUIA</td>\n",
       "      <td>MEDELLIN</td>\n",
       "      <td>55</td>\n",
       "      <td>M</td>\n",
       "      <td>Casa</td>\n",
       "      <td>Leve</td>\n",
       "      <td>Recuperado</td>\n",
       "      <td>NaT</td>\n",
       "      <td>2020-03-11</td>\n",
       "    </tr>\n",
       "    <tr>\n",
       "      <th>4</th>\n",
       "      <td>2020-03-09</td>\n",
       "      <td>ANTIOQUIA</td>\n",
       "      <td>MEDELLIN</td>\n",
       "      <td>25</td>\n",
       "      <td>M</td>\n",
       "      <td>Casa</td>\n",
       "      <td>Leve</td>\n",
       "      <td>Recuperado</td>\n",
       "      <td>NaT</td>\n",
       "      <td>2020-03-11</td>\n",
       "    </tr>\n",
       "    <tr>\n",
       "      <th>...</th>\n",
       "      <td>...</td>\n",
       "      <td>...</td>\n",
       "      <td>...</td>\n",
       "      <td>...</td>\n",
       "      <td>...</td>\n",
       "      <td>...</td>\n",
       "      <td>...</td>\n",
       "      <td>...</td>\n",
       "      <td>...</td>\n",
       "      <td>...</td>\n",
       "    </tr>\n",
       "    <tr>\n",
       "      <th>1316801</th>\n",
       "      <td>2020-11-26</td>\n",
       "      <td>ANTIOQUIA</td>\n",
       "      <td>MEDELLIN</td>\n",
       "      <td>36</td>\n",
       "      <td>M</td>\n",
       "      <td>Casa</td>\n",
       "      <td>Leve</td>\n",
       "      <td>Activo</td>\n",
       "      <td>NaT</td>\n",
       "      <td>2020-11-28</td>\n",
       "    </tr>\n",
       "    <tr>\n",
       "      <th>1316802</th>\n",
       "      <td>2020-11-26</td>\n",
       "      <td>ANTIOQUIA</td>\n",
       "      <td>RIONEGRO</td>\n",
       "      <td>11</td>\n",
       "      <td>M</td>\n",
       "      <td>Casa</td>\n",
       "      <td>Leve</td>\n",
       "      <td>Activo</td>\n",
       "      <td>NaT</td>\n",
       "      <td>2020-11-29</td>\n",
       "    </tr>\n",
       "    <tr>\n",
       "      <th>1316803</th>\n",
       "      <td>2020-11-28</td>\n",
       "      <td>ANTIOQUIA</td>\n",
       "      <td>RIONEGRO</td>\n",
       "      <td>41</td>\n",
       "      <td>F</td>\n",
       "      <td>Casa</td>\n",
       "      <td>Leve</td>\n",
       "      <td>Activo</td>\n",
       "      <td>NaT</td>\n",
       "      <td>2020-11-29</td>\n",
       "    </tr>\n",
       "    <tr>\n",
       "      <th>1316804</th>\n",
       "      <td>2020-11-27</td>\n",
       "      <td>ANTIOQUIA</td>\n",
       "      <td>RIONEGRO</td>\n",
       "      <td>39</td>\n",
       "      <td>F</td>\n",
       "      <td>Casa</td>\n",
       "      <td>Leve</td>\n",
       "      <td>Activo</td>\n",
       "      <td>NaT</td>\n",
       "      <td>2020-11-29</td>\n",
       "    </tr>\n",
       "    <tr>\n",
       "      <th>1316805</th>\n",
       "      <td>2020-11-03</td>\n",
       "      <td>ANTIOQUIA</td>\n",
       "      <td>LA CEJA</td>\n",
       "      <td>38</td>\n",
       "      <td>M</td>\n",
       "      <td>Hospital</td>\n",
       "      <td>Moderado</td>\n",
       "      <td>Activo</td>\n",
       "      <td>NaT</td>\n",
       "      <td>2020-11-03</td>\n",
       "    </tr>\n",
       "  </tbody>\n",
       "</table>\n",
       "<p>1316806 rows × 10 columns</p>\n",
       "</div>"
      ],
      "text/plain": [
       "        Fecha de notificación Nombre departamento Nombre municipio  Edad Sexo  \\\n",
       "0                  2020-03-02              BOGOTA           BOGOTA    19    F   \n",
       "1                  2020-03-06               VALLE             BUGA    34    M   \n",
       "2                  2020-03-07           ANTIOQUIA         MEDELLIN    50    F   \n",
       "3                  2020-03-09           ANTIOQUIA         MEDELLIN    55    M   \n",
       "4                  2020-03-09           ANTIOQUIA         MEDELLIN    25    M   \n",
       "...                       ...                 ...              ...   ...  ...   \n",
       "1316801            2020-11-26           ANTIOQUIA         MEDELLIN    36    M   \n",
       "1316802            2020-11-26           ANTIOQUIA         RIONEGRO    11    M   \n",
       "1316803            2020-11-28           ANTIOQUIA         RIONEGRO    41    F   \n",
       "1316804            2020-11-27           ANTIOQUIA         RIONEGRO    39    F   \n",
       "1316805            2020-11-03           ANTIOQUIA          LA CEJA    38    M   \n",
       "\n",
       "        Ubicacion    Estado  Recuperado Fecha de muerte Fecha de diagnóstico  \n",
       "0            Casa      Leve  Recuperado             NaT           2020-03-06  \n",
       "1            Casa      Leve  Recuperado             NaT           2020-03-09  \n",
       "2            Casa      Leve  Recuperado             NaT           2020-03-09  \n",
       "3            Casa      Leve  Recuperado             NaT           2020-03-11  \n",
       "4            Casa      Leve  Recuperado             NaT           2020-03-11  \n",
       "...           ...       ...         ...             ...                  ...  \n",
       "1316801      Casa      Leve      Activo             NaT           2020-11-28  \n",
       "1316802      Casa      Leve      Activo             NaT           2020-11-29  \n",
       "1316803      Casa      Leve      Activo             NaT           2020-11-29  \n",
       "1316804      Casa      Leve      Activo             NaT           2020-11-29  \n",
       "1316805  Hospital  Moderado      Activo             NaT           2020-11-03  \n",
       "\n",
       "[1316806 rows x 10 columns]"
      ]
     },
     "execution_count": 7,
     "metadata": {},
     "output_type": "execute_result"
    }
   ],
   "source": [
    "col"
   ]
  },
  {
   "cell_type": "markdown",
   "metadata": {
    "slideshow": {
     "slide_type": "slide"
    }
   },
   "source": [
    "# Selección departamento/municipio: Habitantes por grupos etarios. Proyección 2020.  DANE"
   ]
  },
  {
   "cell_type": "code",
   "execution_count": 8,
   "metadata": {
    "scrolled": false,
    "slideshow": {
     "slide_type": "skip"
    }
   },
   "outputs": [
    {
     "name": "stdout",
     "output_type": "stream",
     "text": [
      "Ingrese el departamento (para el total del país, ingrese 'COLOMBIA'):  CALDAS\n"
     ]
    }
   ],
   "source": [
    "localidad= input(\"Ingrese el departamento (para el total del país, ingrese 'COLOMBIA'):  \" )\n",
    "localidad= localidad.upper()"
   ]
  },
  {
   "cell_type": "code",
   "execution_count": 9,
   "metadata": {
    "slideshow": {
     "slide_type": "skip"
    }
   },
   "outputs": [
    {
     "name": "stdout",
     "output_type": "stream",
     "text": [
      "Ingrese el municipio (si quiere todos los del departamentos, digite 'T'):  MANIZALES\n"
     ]
    }
   ],
   "source": [
    "localidad1= input(\"Ingrese el municipio (si quiere todos los del departamentos, digite 'T'):  \")\n",
    "localidad1= localidad1.upper()"
   ]
  },
  {
   "cell_type": "code",
   "execution_count": 10,
   "metadata": {
    "scrolled": false,
    "slideshow": {
     "slide_type": "skip"
    }
   },
   "outputs": [
    {
     "data": {
      "text/plain": [
       "('CALDAS', 'MANIZALES')"
      ]
     },
     "execution_count": 10,
     "metadata": {},
     "output_type": "execute_result"
    }
   ],
   "source": [
    "localidad, localidad1"
   ]
  },
  {
   "cell_type": "code",
   "execution_count": 11,
   "metadata": {
    "slideshow": {
     "slide_type": "skip"
    }
   },
   "outputs": [],
   "source": [
    "etarioDefuncionesMunic= pd.read_csv('etarioDefuncionesMunic.csv')  # de Fallecidos Municip COVID19 por etarios"
   ]
  },
  {
   "cell_type": "code",
   "execution_count": 12,
   "metadata": {
    "slideshow": {
     "slide_type": "skip"
    }
   },
   "outputs": [],
   "source": [
    "etarioDefuncionesColombia= pd.read_csv('etarioDefuncionesCOLOMBIA.csv')   # de Fallecidos COLOMBIA COVID19 por etarios"
   ]
  },
  {
   "cell_type": "markdown",
   "metadata": {
    "slideshow": {
     "slide_type": "skip"
    }
   },
   "source": [
    "# Municipio:  Número de fallecidos por grupo etario:"
   ]
  },
  {
   "cell_type": "code",
   "execution_count": 13,
   "metadata": {
    "slideshow": {
     "slide_type": "skip"
    }
   },
   "outputs": [
    {
     "data": {
      "text/html": [
       "<div>\n",
       "<style scoped>\n",
       "    .dataframe tbody tr th:only-of-type {\n",
       "        vertical-align: middle;\n",
       "    }\n",
       "\n",
       "    .dataframe tbody tr th {\n",
       "        vertical-align: top;\n",
       "    }\n",
       "\n",
       "    .dataframe thead th {\n",
       "        text-align: right;\n",
       "    }\n",
       "</style>\n",
       "<table border=\"1\" class=\"dataframe\">\n",
       "  <thead>\n",
       "    <tr style=\"text-align: right;\">\n",
       "      <th></th>\n",
       "      <th>Unnamed: 0</th>\n",
       "      <th>Número fallecidos</th>\n",
       "    </tr>\n",
       "  </thead>\n",
       "  <tbody>\n",
       "    <tr>\n",
       "      <th>0</th>\n",
       "      <td>edad 0 a 4</td>\n",
       "      <td>6</td>\n",
       "    </tr>\n",
       "    <tr>\n",
       "      <th>1</th>\n",
       "      <td>edad 5 a 14</td>\n",
       "      <td>25</td>\n",
       "    </tr>\n",
       "    <tr>\n",
       "      <th>2</th>\n",
       "      <td>edad 15 a 44</td>\n",
       "      <td>245</td>\n",
       "    </tr>\n",
       "    <tr>\n",
       "      <th>3</th>\n",
       "      <td>edad 45 a 64</td>\n",
       "      <td>35</td>\n",
       "    </tr>\n",
       "    <tr>\n",
       "      <th>4</th>\n",
       "      <td>edad 65 a 84</td>\n",
       "      <td>0</td>\n",
       "    </tr>\n",
       "    <tr>\n",
       "      <th>5</th>\n",
       "      <td>edad 85 a 99</td>\n",
       "      <td>0</td>\n",
       "    </tr>\n",
       "    <tr>\n",
       "      <th>6</th>\n",
       "      <td>edad 100 o más</td>\n",
       "      <td>0</td>\n",
       "    </tr>\n",
       "    <tr>\n",
       "      <th>7</th>\n",
       "      <td>Total</td>\n",
       "      <td>311</td>\n",
       "    </tr>\n",
       "  </tbody>\n",
       "</table>\n",
       "</div>"
      ],
      "text/plain": [
       "       Unnamed: 0  Número fallecidos\n",
       "0      edad 0 a 4                  6\n",
       "1     edad 5 a 14                 25\n",
       "2    edad 15 a 44                245\n",
       "3    edad 45 a 64                 35\n",
       "4    edad 65 a 84                  0\n",
       "5    edad 85 a 99                  0\n",
       "6  edad 100 o más                  0\n",
       "7           Total                311"
      ]
     },
     "execution_count": 13,
     "metadata": {},
     "output_type": "execute_result"
    }
   ],
   "source": [
    "etarioDefuncionesMunic"
   ]
  },
  {
   "cell_type": "markdown",
   "metadata": {
    "slideshow": {
     "slide_type": "slide"
    }
   },
   "source": [
    "# Colombia: Habitantes departamentos y municipios por grupos etarios. Proyección 2020.  DANE"
   ]
  },
  {
   "cell_type": "code",
   "execution_count": 14,
   "metadata": {
    "slideshow": {
     "slide_type": "subslide"
    }
   },
   "outputs": [
    {
     "data": {
      "text/html": [
       "<div>\n",
       "<style scoped>\n",
       "    .dataframe tbody tr th:only-of-type {\n",
       "        vertical-align: middle;\n",
       "    }\n",
       "\n",
       "    .dataframe tbody tr th {\n",
       "        vertical-align: top;\n",
       "    }\n",
       "\n",
       "    .dataframe thead th {\n",
       "        text-align: right;\n",
       "    }\n",
       "</style>\n",
       "<table border=\"1\" class=\"dataframe\">\n",
       "  <thead>\n",
       "    <tr style=\"text-align: right;\">\n",
       "      <th></th>\n",
       "      <th>DEPARTAMENTO</th>\n",
       "      <th>MUNICIPIO</th>\n",
       "      <th>edad 100 o mas</th>\n",
       "      <th>Total Hombres</th>\n",
       "      <th>Total Mujeres</th>\n",
       "      <th>Total</th>\n",
       "      <th>edad 0 a 4</th>\n",
       "      <th>edad 5 a 14</th>\n",
       "      <th>edad 15 a 44</th>\n",
       "      <th>edad 45 a 64</th>\n",
       "      <th>edad 65 a 84</th>\n",
       "      <th>edad 85 a 99</th>\n",
       "    </tr>\n",
       "    <tr>\n",
       "      <th></th>\n",
       "      <th></th>\n",
       "      <th></th>\n",
       "      <th></th>\n",
       "      <th></th>\n",
       "      <th></th>\n",
       "      <th></th>\n",
       "      <th></th>\n",
       "      <th></th>\n",
       "      <th></th>\n",
       "      <th></th>\n",
       "      <th></th>\n",
       "      <th></th>\n",
       "    </tr>\n",
       "  </thead>\n",
       "  <tbody>\n",
       "    <tr>\n",
       "      <th>107</th>\n",
       "      <td>ANTIOQUIA</td>\n",
       "      <td>MEDELLIN</td>\n",
       "      <td>1631</td>\n",
       "      <td>1193791</td>\n",
       "      <td>1339633</td>\n",
       "      <td>2533424</td>\n",
       "      <td>148533</td>\n",
       "      <td>311575</td>\n",
       "      <td>1224276</td>\n",
       "      <td>581270</td>\n",
       "      <td>240903</td>\n",
       "      <td>25236</td>\n",
       "    </tr>\n",
       "    <tr>\n",
       "      <th>260</th>\n",
       "      <td>ANTIOQUIA</td>\n",
       "      <td>ABEJORRAL</td>\n",
       "      <td>15</td>\n",
       "      <td>10558</td>\n",
       "      <td>9729</td>\n",
       "      <td>20287</td>\n",
       "      <td>1291</td>\n",
       "      <td>3046</td>\n",
       "      <td>8299</td>\n",
       "      <td>4993</td>\n",
       "      <td>2417</td>\n",
       "      <td>226</td>\n",
       "    </tr>\n",
       "    <tr>\n",
       "      <th>413</th>\n",
       "      <td>ANTIOQUIA</td>\n",
       "      <td>ABRIAQUI</td>\n",
       "      <td>0</td>\n",
       "      <td>1482</td>\n",
       "      <td>1253</td>\n",
       "      <td>2735</td>\n",
       "      <td>213</td>\n",
       "      <td>427</td>\n",
       "      <td>1156</td>\n",
       "      <td>608</td>\n",
       "      <td>302</td>\n",
       "      <td>29</td>\n",
       "    </tr>\n",
       "    <tr>\n",
       "      <th>566</th>\n",
       "      <td>ANTIOQUIA</td>\n",
       "      <td>ALEJANDRIA</td>\n",
       "      <td>0</td>\n",
       "      <td>2338</td>\n",
       "      <td>2360</td>\n",
       "      <td>4698</td>\n",
       "      <td>420</td>\n",
       "      <td>737</td>\n",
       "      <td>1889</td>\n",
       "      <td>1062</td>\n",
       "      <td>525</td>\n",
       "      <td>65</td>\n",
       "    </tr>\n",
       "    <tr>\n",
       "      <th>719</th>\n",
       "      <td>ANTIOQUIA</td>\n",
       "      <td>AMAGA</td>\n",
       "      <td>9</td>\n",
       "      <td>15382</td>\n",
       "      <td>15901</td>\n",
       "      <td>31283</td>\n",
       "      <td>2024</td>\n",
       "      <td>4280</td>\n",
       "      <td>14150</td>\n",
       "      <td>7653</td>\n",
       "      <td>2868</td>\n",
       "      <td>299</td>\n",
       "    </tr>\n",
       "    <tr>\n",
       "      <th>...</th>\n",
       "      <td>...</td>\n",
       "      <td>...</td>\n",
       "      <td>...</td>\n",
       "      <td>...</td>\n",
       "      <td>...</td>\n",
       "      <td>...</td>\n",
       "      <td>...</td>\n",
       "      <td>...</td>\n",
       "      <td>...</td>\n",
       "      <td>...</td>\n",
       "      <td>...</td>\n",
       "      <td>...</td>\n",
       "    </tr>\n",
       "    <tr>\n",
       "      <th>171161</th>\n",
       "      <td>VICHADA</td>\n",
       "      <td>PUERTO CARREÑO</td>\n",
       "      <td>4</td>\n",
       "      <td>10520</td>\n",
       "      <td>9774</td>\n",
       "      <td>20294</td>\n",
       "      <td>2106</td>\n",
       "      <td>3856</td>\n",
       "      <td>10392</td>\n",
       "      <td>3089</td>\n",
       "      <td>797</td>\n",
       "      <td>50</td>\n",
       "    </tr>\n",
       "    <tr>\n",
       "      <th>171314</th>\n",
       "      <td>VICHADA</td>\n",
       "      <td>LA PRIMAVERA</td>\n",
       "      <td>1</td>\n",
       "      <td>5055</td>\n",
       "      <td>4553</td>\n",
       "      <td>9608</td>\n",
       "      <td>948</td>\n",
       "      <td>2097</td>\n",
       "      <td>4546</td>\n",
       "      <td>1534</td>\n",
       "      <td>436</td>\n",
       "      <td>46</td>\n",
       "    </tr>\n",
       "    <tr>\n",
       "      <th>171467</th>\n",
       "      <td>VICHADA</td>\n",
       "      <td>SANTA ROSALIA</td>\n",
       "      <td>0</td>\n",
       "      <td>2173</td>\n",
       "      <td>2020</td>\n",
       "      <td>4193</td>\n",
       "      <td>381</td>\n",
       "      <td>970</td>\n",
       "      <td>1977</td>\n",
       "      <td>671</td>\n",
       "      <td>180</td>\n",
       "      <td>14</td>\n",
       "    </tr>\n",
       "    <tr>\n",
       "      <th>171620</th>\n",
       "      <td>VICHADA</td>\n",
       "      <td>CUMARIBO</td>\n",
       "      <td>18</td>\n",
       "      <td>41840</td>\n",
       "      <td>37023</td>\n",
       "      <td>78863</td>\n",
       "      <td>10538</td>\n",
       "      <td>21092</td>\n",
       "      <td>35333</td>\n",
       "      <td>9348</td>\n",
       "      <td>2364</td>\n",
       "      <td>170</td>\n",
       "    </tr>\n",
       "    <tr>\n",
       "      <th>172621</th>\n",
       "      <td>COLOMBIA</td>\n",
       "      <td>COLOMBIA</td>\n",
       "      <td>19219</td>\n",
       "      <td>20887044</td>\n",
       "      <td>21741425</td>\n",
       "      <td>42628469</td>\n",
       "      <td>3433969</td>\n",
       "      <td>6938817</td>\n",
       "      <td>19541755</td>\n",
       "      <td>8757142</td>\n",
       "      <td>3512813</td>\n",
       "      <td>424754</td>\n",
       "    </tr>\n",
       "  </tbody>\n",
       "</table>\n",
       "<p>1122 rows × 12 columns</p>\n",
       "</div>"
      ],
      "text/plain": [
       "       DEPARTAMENTO       MUNICIPIO  edad 100 o mas  Total Hombres  \\\n",
       "                                                                     \n",
       "107       ANTIOQUIA        MEDELLIN            1631        1193791   \n",
       "260       ANTIOQUIA       ABEJORRAL              15          10558   \n",
       "413       ANTIOQUIA        ABRIAQUI               0           1482   \n",
       "566       ANTIOQUIA      ALEJANDRIA               0           2338   \n",
       "719       ANTIOQUIA           AMAGA               9          15382   \n",
       "...             ...             ...             ...            ...   \n",
       "171161      VICHADA  PUERTO CARREÑO               4          10520   \n",
       "171314      VICHADA    LA PRIMAVERA               1           5055   \n",
       "171467      VICHADA   SANTA ROSALIA               0           2173   \n",
       "171620      VICHADA        CUMARIBO              18          41840   \n",
       "172621     COLOMBIA        COLOMBIA           19219       20887044   \n",
       "\n",
       "        Total Mujeres     Total  edad 0 a 4  edad 5 a 14  edad 15 a 44  \\\n",
       "                                                                         \n",
       "107           1339633   2533424      148533       311575       1224276   \n",
       "260              9729     20287        1291         3046          8299   \n",
       "413              1253      2735         213          427          1156   \n",
       "566              2360      4698         420          737          1889   \n",
       "719             15901     31283        2024         4280         14150   \n",
       "...               ...       ...         ...          ...           ...   \n",
       "171161           9774     20294        2106         3856         10392   \n",
       "171314           4553      9608         948         2097          4546   \n",
       "171467           2020      4193         381          970          1977   \n",
       "171620          37023     78863       10538        21092         35333   \n",
       "172621       21741425  42628469     3433969      6938817      19541755   \n",
       "\n",
       "        edad 45 a 64  edad 65 a 84  edad 85 a 99  \n",
       "                                                  \n",
       "107           581270        240903         25236  \n",
       "260             4993          2417           226  \n",
       "413              608           302            29  \n",
       "566             1062           525            65  \n",
       "719             7653          2868           299  \n",
       "...              ...           ...           ...  \n",
       "171161          3089           797            50  \n",
       "171314          1534           436            46  \n",
       "171467           671           180            14  \n",
       "171620          9348          2364           170  \n",
       "172621       8757142       3512813        424754  \n",
       "\n",
       "[1122 rows x 12 columns]"
      ]
     },
     "execution_count": 14,
     "metadata": {},
     "output_type": "execute_result"
    }
   ],
   "source": [
    "etariosporMunic= pd.read_csv('totalEtariosMunicDpto_upper.csv', names=['', 'DEPARTAMENTO', 'MUNICIPIO','edad 100 o mas', \n",
    "                                                           'Total Hombres', 'Total Mujeres',\n",
    "                                                           'Total', 'edad 0 a 4', 'edad 5 a 14','edad 15 a 44', \n",
    "                                                           'edad 45 a 64', 'edad 65 a 84', 'edad 85 a 99'], skiprows=1, index_col= '')\n",
    "etariosporMunic"
   ]
  },
  {
   "cell_type": "code",
   "execution_count": 15,
   "metadata": {
    "scrolled": true,
    "slideshow": {
     "slide_type": "skip"
    }
   },
   "outputs": [],
   "source": [
    "etariosporMunic['INDICE']=0\n",
    "etariosporMunic= etariosporMunic.set_index('INDICE').copy()\n"
   ]
  },
  {
   "cell_type": "markdown",
   "metadata": {
    "slideshow": {
     "slide_type": "slide"
    }
   },
   "source": [
    "# Colombia:  Número de fallecidos por grupo etario:"
   ]
  },
  {
   "cell_type": "code",
   "execution_count": 16,
   "metadata": {
    "slideshow": {
     "slide_type": "skip"
    }
   },
   "outputs": [],
   "source": [
    "poblacion= pd.read_csv('Dane2018_2023_uppercase.csv', usecols= ['DPTO','MUNICIPIO','Género','2020'])"
   ]
  },
  {
   "cell_type": "code",
   "execution_count": 17,
   "metadata": {
    "slideshow": {
     "slide_type": "subslide"
    }
   },
   "outputs": [
    {
     "data": {
      "text/html": [
       "<div>\n",
       "<style scoped>\n",
       "    .dataframe tbody tr th:only-of-type {\n",
       "        vertical-align: middle;\n",
       "    }\n",
       "\n",
       "    .dataframe tbody tr th {\n",
       "        vertical-align: top;\n",
       "    }\n",
       "\n",
       "    .dataframe thead th {\n",
       "        text-align: right;\n",
       "    }\n",
       "</style>\n",
       "<table border=\"1\" class=\"dataframe\">\n",
       "  <thead>\n",
       "    <tr style=\"text-align: right;\">\n",
       "      <th></th>\n",
       "      <th></th>\n",
       "      <th>edad 0 a 4</th>\n",
       "      <th>edad 5 a 14</th>\n",
       "      <th>edad 15 a 44</th>\n",
       "      <th>edad 45 a 64</th>\n",
       "      <th>edad 65 a 84</th>\n",
       "      <th>edad 85 a 99</th>\n",
       "      <th>edad 100 o mas</th>\n",
       "      <th>Total fallecidos</th>\n",
       "    </tr>\n",
       "  </thead>\n",
       "  <tbody>\n",
       "    <tr>\n",
       "      <th>0</th>\n",
       "      <td>Número fallecidos</td>\n",
       "      <td>80</td>\n",
       "      <td>80</td>\n",
       "      <td>3130</td>\n",
       "      <td>11528</td>\n",
       "      <td>20724</td>\n",
       "      <td>5156</td>\n",
       "      <td>51</td>\n",
       "      <td>40749</td>\n",
       "    </tr>\n",
       "  </tbody>\n",
       "</table>\n",
       "</div>"
      ],
      "text/plain": [
       "                      edad 0 a 4  edad 5 a 14  edad 15 a 44  edad 45 a 64  \\\n",
       "0  Número fallecidos          80           80          3130         11528   \n",
       "\n",
       "   edad 65 a 84  edad 85 a 99  edad 100 o mas  Total fallecidos  \n",
       "0         20724          5156              51             40749  "
      ]
     },
     "execution_count": 17,
     "metadata": {},
     "output_type": "execute_result"
    }
   ],
   "source": [
    "etarioDefuncionesColombia.rename(columns={'Unnamed: 0':''}, inplace=True)\n",
    "etarioDefuncionesColombia"
   ]
  },
  {
   "cell_type": "code",
   "execution_count": 18,
   "metadata": {
    "slideshow": {
     "slide_type": "skip"
    }
   },
   "outputs": [],
   "source": [
    "etarios2= etariosporMunic"
   ]
  },
  {
   "cell_type": "code",
   "execution_count": 19,
   "metadata": {
    "slideshow": {
     "slide_type": "skip"
    }
   },
   "outputs": [],
   "source": [
    "if localidad1 =='T':\n",
    "    filtroMunic = (etarios2['DEPARTAMENTO']==localidad)\n",
    "    etariosporMunic = etarios2.loc[filtroMunic,:]\n",
    "else:\n",
    "    filtroMunic = (etarios2['DEPARTAMENTO']==localidad) & (etarios2['MUNICIPIO']==localidad1)\n",
    "    etariosporMunic = etarios2.loc[filtroMunic,:]\n",
    "    "
   ]
  },
  {
   "cell_type": "markdown",
   "metadata": {
    "slideshow": {
     "slide_type": "slide"
    }
   },
   "source": [
    "# Días desde el primer caso notificado (02 marzo 2020 -  había arrivado al país 5 días antes)"
   ]
  },
  {
   "cell_type": "code",
   "execution_count": 20,
   "metadata": {
    "slideshow": {
     "slide_type": "skip"
    }
   },
   "outputs": [
    {
     "data": {
      "text/plain": [
       "273"
      ]
     },
     "execution_count": 20,
     "metadata": {},
     "output_type": "execute_result"
    }
   ],
   "source": [
    "dias = (pd.to_datetime(col['Fecha de notificación'].max()) - pd.to_datetime(col['Fecha de notificación'].min())).days\n",
    "dias"
   ]
  },
  {
   "cell_type": "markdown",
   "metadata": {
    "slideshow": {
     "slide_type": "slide"
    }
   },
   "source": [
    "# Colombia:  Fallecidos por COVID-19 a última fecha de notificación INS (pendiente ajustes)"
   ]
  },
  {
   "cell_type": "markdown",
   "metadata": {
    "slideshow": {
     "slide_type": "skip"
    }
   },
   "source": [
    "#### Fecha último dato:"
   ]
  },
  {
   "cell_type": "code",
   "execution_count": 21,
   "metadata": {
    "slideshow": {
     "slide_type": "skip"
    }
   },
   "outputs": [
    {
     "data": {
      "text/plain": [
       "Timestamp('2020-11-30 00:00:00')"
      ]
     },
     "execution_count": 21,
     "metadata": {},
     "output_type": "execute_result"
    }
   ],
   "source": [
    "col['Fecha de diagnóstico'].max()"
   ]
  },
  {
   "cell_type": "code",
   "execution_count": 22,
   "metadata": {
    "slideshow": {
     "slide_type": "skip"
    }
   },
   "outputs": [
    {
     "data": {
      "text/plain": [
       "40749"
      ]
     },
     "execution_count": 22,
     "metadata": {},
     "output_type": "execute_result"
    }
   ],
   "source": [
    "fallecidos = col.loc[:,'Fecha de muerte'].count()\n",
    "fallecidos"
   ]
  },
  {
   "cell_type": "markdown",
   "metadata": {
    "slideshow": {
     "slide_type": "slide"
    }
   },
   "source": [
    "# TASA DE MORTALIDAD PRINCIPALES CAUSAS POR GRUPO ETARIO.\n",
    "## Factor comparativo con base en COVID-19"
   ]
  },
  {
   "cell_type": "code",
   "execution_count": 23,
   "metadata": {
    "scrolled": true,
    "slideshow": {
     "slide_type": "subslide"
    }
   },
   "outputs": [
    {
     "data": {
      "text/html": [
       "<div>\n",
       "<style scoped>\n",
       "    .dataframe tbody tr th:only-of-type {\n",
       "        vertical-align: middle;\n",
       "    }\n",
       "\n",
       "    .dataframe tbody tr th {\n",
       "        vertical-align: top;\n",
       "    }\n",
       "\n",
       "    .dataframe thead th {\n",
       "        text-align: right;\n",
       "    }\n",
       "</style>\n",
       "<table border=\"1\" class=\"dataframe\">\n",
       "  <thead>\n",
       "    <tr style=\"text-align: right;\">\n",
       "      <th></th>\n",
       "      <th>Código</th>\n",
       "      <th>Causa de defunción</th>\n",
       "      <th>Total</th>\n",
       "      <th>edad 0 a 4</th>\n",
       "      <th>edad 5 a 14</th>\n",
       "      <th>edad 15 a 44</th>\n",
       "      <th>edad 45 a 64</th>\n",
       "      <th>edad 65 a 84</th>\n",
       "      <th>edad 85 a 99</th>\n",
       "      <th>edad 100 o mas</th>\n",
       "      <th>edad desconocida</th>\n",
       "      <th>Tasa de Mortalidad</th>\n",
       "      <th>Factor</th>\n",
       "    </tr>\n",
       "  </thead>\n",
       "  <tbody>\n",
       "    <tr>\n",
       "      <th>0</th>\n",
       "      <td>200-215</td>\n",
       "      <td>Neoplasias</td>\n",
       "      <td>144820.0</td>\n",
       "      <td>NaN</td>\n",
       "      <td>NaN</td>\n",
       "      <td>NaN</td>\n",
       "      <td>NaN</td>\n",
       "      <td>NaN</td>\n",
       "      <td>NaN</td>\n",
       "      <td>NaN</td>\n",
       "      <td>NaN</td>\n",
       "      <td>2896.40</td>\n",
       "      <td>3.55</td>\n",
       "    </tr>\n",
       "    <tr>\n",
       "      <th>1</th>\n",
       "      <td>303</td>\n",
       "      <td>Enfermedades isquémicas del corazón</td>\n",
       "      <td>113799.0</td>\n",
       "      <td>2.0</td>\n",
       "      <td>10.0</td>\n",
       "      <td>1450.0</td>\n",
       "      <td>11984.0</td>\n",
       "      <td>36504.0</td>\n",
       "      <td>23998.0</td>\n",
       "      <td>1082.0</td>\n",
       "      <td>2.0</td>\n",
       "      <td>2275.98</td>\n",
       "      <td>2.79</td>\n",
       "    </tr>\n",
       "    <tr>\n",
       "      <th>2</th>\n",
       "      <td>605</td>\n",
       "      <td>Enfermedades crónicas de las vías respiratoria...</td>\n",
       "      <td>48279.0</td>\n",
       "      <td>26.0</td>\n",
       "      <td>10.0</td>\n",
       "      <td>222.0</td>\n",
       "      <td>2290.0</td>\n",
       "      <td>15284.0</td>\n",
       "      <td>13514.0</td>\n",
       "      <td>486.0</td>\n",
       "      <td>0.0</td>\n",
       "      <td>965.58</td>\n",
       "      <td>1.18</td>\n",
       "    </tr>\n",
       "    <tr>\n",
       "      <th>3</th>\n",
       "      <td>307</td>\n",
       "      <td>Enfermedades cerebrovasculares</td>\n",
       "      <td>46334.0</td>\n",
       "      <td>64.0</td>\n",
       "      <td>56.0</td>\n",
       "      <td>1202.0</td>\n",
       "      <td>5312.0</td>\n",
       "      <td>14942.0</td>\n",
       "      <td>8782.0</td>\n",
       "      <td>192.0</td>\n",
       "      <td>0.0</td>\n",
       "      <td>926.68</td>\n",
       "      <td>1.14</td>\n",
       "    </tr>\n",
       "    <tr>\n",
       "      <th>4</th>\n",
       "      <td>512</td>\n",
       "      <td>Agresiones (homicidios)</td>\n",
       "      <td>37559.0</td>\n",
       "      <td>90.0</td>\n",
       "      <td>192.0</td>\n",
       "      <td>19962.0</td>\n",
       "      <td>3798.0</td>\n",
       "      <td>648.0</td>\n",
       "      <td>46.0</td>\n",
       "      <td>2.0</td>\n",
       "      <td>26.0</td>\n",
       "      <td>751.18</td>\n",
       "      <td>0.92</td>\n",
       "    </tr>\n",
       "    <tr>\n",
       "      <th>5</th>\n",
       "      <td>999</td>\n",
       "      <td>COVID-19</td>\n",
       "      <td>40749.0</td>\n",
       "      <td>NaN</td>\n",
       "      <td>NaN</td>\n",
       "      <td>NaN</td>\n",
       "      <td>NaN</td>\n",
       "      <td>NaN</td>\n",
       "      <td>NaN</td>\n",
       "      <td>NaN</td>\n",
       "      <td>NaN</td>\n",
       "      <td>814.98</td>\n",
       "      <td>1.00</td>\n",
       "    </tr>\n",
       "    <tr>\n",
       "      <th>6</th>\n",
       "      <td>302</td>\n",
       "      <td>Enfermedades hipertensivas</td>\n",
       "      <td>26602.0</td>\n",
       "      <td>6.0</td>\n",
       "      <td>2.0</td>\n",
       "      <td>208.0</td>\n",
       "      <td>1840.0</td>\n",
       "      <td>8182.0</td>\n",
       "      <td>7002.0</td>\n",
       "      <td>300.0</td>\n",
       "      <td>0.0</td>\n",
       "      <td>532.04</td>\n",
       "      <td>0.65</td>\n",
       "    </tr>\n",
       "    <tr>\n",
       "      <th>7</th>\n",
       "      <td>601</td>\n",
       "      <td>Diabetes mellitus</td>\n",
       "      <td>23244.0</td>\n",
       "      <td>6.0</td>\n",
       "      <td>6.0</td>\n",
       "      <td>544.0</td>\n",
       "      <td>3490.0</td>\n",
       "      <td>8090.0</td>\n",
       "      <td>3110.0</td>\n",
       "      <td>80.0</td>\n",
       "      <td>0.0</td>\n",
       "      <td>464.88</td>\n",
       "      <td>0.57</td>\n",
       "    </tr>\n",
       "    <tr>\n",
       "      <th>8</th>\n",
       "      <td>609</td>\n",
       "      <td>Resto de enfermedades del sistema digestivo</td>\n",
       "      <td>22559.0</td>\n",
       "      <td>150.0</td>\n",
       "      <td>68.0</td>\n",
       "      <td>854.0</td>\n",
       "      <td>2656.0</td>\n",
       "      <td>7230.0</td>\n",
       "      <td>3836.0</td>\n",
       "      <td>80.0</td>\n",
       "      <td>0.0</td>\n",
       "      <td>451.18</td>\n",
       "      <td>0.55</td>\n",
       "    </tr>\n",
       "    <tr>\n",
       "      <th>9</th>\n",
       "      <td>501</td>\n",
       "      <td>Accidentes de transporte terrestre</td>\n",
       "      <td>20087.0</td>\n",
       "      <td>94.0</td>\n",
       "      <td>300.0</td>\n",
       "      <td>7652.0</td>\n",
       "      <td>2976.0</td>\n",
       "      <td>1926.0</td>\n",
       "      <td>290.0</td>\n",
       "      <td>0.0</td>\n",
       "      <td>6.0</td>\n",
       "      <td>401.74</td>\n",
       "      <td>0.49</td>\n",
       "    </tr>\n",
       "    <tr>\n",
       "      <th>10</th>\n",
       "      <td>610</td>\n",
       "      <td>Enfermedades del sistema urinario</td>\n",
       "      <td>19808.0</td>\n",
       "      <td>98.0</td>\n",
       "      <td>46.0</td>\n",
       "      <td>586.0</td>\n",
       "      <td>1898.0</td>\n",
       "      <td>6078.0</td>\n",
       "      <td>4222.0</td>\n",
       "      <td>132.0</td>\n",
       "      <td>0.0</td>\n",
       "      <td>396.16</td>\n",
       "      <td>0.49</td>\n",
       "    </tr>\n",
       "    <tr>\n",
       "      <th>11</th>\n",
       "      <td>614</td>\n",
       "      <td>Resto de las enfermedades</td>\n",
       "      <td>19553.0</td>\n",
       "      <td>344.0</td>\n",
       "      <td>172.0</td>\n",
       "      <td>1802.0</td>\n",
       "      <td>2634.0</td>\n",
       "      <td>4952.0</td>\n",
       "      <td>2860.0</td>\n",
       "      <td>128.0</td>\n",
       "      <td>0.0</td>\n",
       "      <td>391.06</td>\n",
       "      <td>0.48</td>\n",
       "    </tr>\n",
       "    <tr>\n",
       "      <th>12</th>\n",
       "      <td>304</td>\n",
       "      <td>Enfermedad cardiopulmonar enfermedades de la c...</td>\n",
       "      <td>17563.0</td>\n",
       "      <td>150.0</td>\n",
       "      <td>84.0</td>\n",
       "      <td>868.0</td>\n",
       "      <td>2128.0</td>\n",
       "      <td>5510.0</td>\n",
       "      <td>2760.0</td>\n",
       "      <td>80.0</td>\n",
       "      <td>0.0</td>\n",
       "      <td>351.26</td>\n",
       "      <td>0.43</td>\n",
       "    </tr>\n",
       "    <tr>\n",
       "      <th>13</th>\n",
       "      <td>604</td>\n",
       "      <td>Enfermedades del sistema nervioso  excepto men...</td>\n",
       "      <td>16544.0</td>\n",
       "      <td>392.0</td>\n",
       "      <td>448.0</td>\n",
       "      <td>1704.0</td>\n",
       "      <td>1704.0</td>\n",
       "      <td>3930.0</td>\n",
       "      <td>2650.0</td>\n",
       "      <td>80.0</td>\n",
       "      <td>0.0</td>\n",
       "      <td>330.88</td>\n",
       "      <td>0.41</td>\n",
       "    </tr>\n",
       "  </tbody>\n",
       "</table>\n",
       "</div>"
      ],
      "text/plain": [
       "     Código                                 Causa de defunción     Total  \\\n",
       "0   200-215                                         Neoplasias  144820.0   \n",
       "1       303                Enfermedades isquémicas del corazón  113799.0   \n",
       "2       605  Enfermedades crónicas de las vías respiratoria...   48279.0   \n",
       "3       307                     Enfermedades cerebrovasculares   46334.0   \n",
       "4       512                            Agresiones (homicidios)   37559.0   \n",
       "5       999                                           COVID-19   40749.0   \n",
       "6       302                         Enfermedades hipertensivas   26602.0   \n",
       "7       601                                  Diabetes mellitus   23244.0   \n",
       "8       609        Resto de enfermedades del sistema digestivo   22559.0   \n",
       "9       501                 Accidentes de transporte terrestre   20087.0   \n",
       "10      610                  Enfermedades del sistema urinario   19808.0   \n",
       "11      614                          Resto de las enfermedades   19553.0   \n",
       "12      304  Enfermedad cardiopulmonar enfermedades de la c...   17563.0   \n",
       "13      604  Enfermedades del sistema nervioso  excepto men...   16544.0   \n",
       "\n",
       "    edad 0 a 4  edad 5 a 14  edad 15 a 44  edad 45 a 64  edad 65 a 84  \\\n",
       "0          NaN          NaN           NaN           NaN           NaN   \n",
       "1          2.0         10.0        1450.0       11984.0       36504.0   \n",
       "2         26.0         10.0         222.0        2290.0       15284.0   \n",
       "3         64.0         56.0        1202.0        5312.0       14942.0   \n",
       "4         90.0        192.0       19962.0        3798.0         648.0   \n",
       "5          NaN          NaN           NaN           NaN           NaN   \n",
       "6          6.0          2.0         208.0        1840.0        8182.0   \n",
       "7          6.0          6.0         544.0        3490.0        8090.0   \n",
       "8        150.0         68.0         854.0        2656.0        7230.0   \n",
       "9         94.0        300.0        7652.0        2976.0        1926.0   \n",
       "10        98.0         46.0         586.0        1898.0        6078.0   \n",
       "11       344.0        172.0        1802.0        2634.0        4952.0   \n",
       "12       150.0         84.0         868.0        2128.0        5510.0   \n",
       "13       392.0        448.0        1704.0        1704.0        3930.0   \n",
       "\n",
       "    edad 85 a 99  edad 100 o mas  edad desconocida  Tasa de Mortalidad  Factor  \n",
       "0            NaN             NaN               NaN             2896.40    3.55  \n",
       "1        23998.0          1082.0               2.0             2275.98    2.79  \n",
       "2        13514.0           486.0               0.0              965.58    1.18  \n",
       "3         8782.0           192.0               0.0              926.68    1.14  \n",
       "4           46.0             2.0              26.0              751.18    0.92  \n",
       "5            NaN             NaN               NaN              814.98    1.00  \n",
       "6         7002.0           300.0               0.0              532.04    0.65  \n",
       "7         3110.0            80.0               0.0              464.88    0.57  \n",
       "8         3836.0            80.0               0.0              451.18    0.55  \n",
       "9          290.0             0.0               6.0              401.74    0.49  \n",
       "10        4222.0           132.0               0.0              396.16    0.49  \n",
       "11        2860.0           128.0               0.0              391.06    0.48  \n",
       "12        2760.0            80.0               0.0              351.26    0.43  \n",
       "13        2650.0            80.0               0.0              330.88    0.41  "
      ]
     },
     "execution_count": 23,
     "metadata": {},
     "output_type": "execute_result"
    }
   ],
   "source": [
    "mortalidadCol= pd.read_csv('tasasMortalidad.csv', names=['Código','Causa de defunción','Total', 'edad 0 a 4', 'edad 5 a 14',\n",
    "       'edad 15 a 44', 'edad 45 a 64', 'edad 65 a 84', 'edad 85 a 99',\n",
    "       'edad 100 o mas', 'edad desconocida', 'Tasa de Mortalidad', 'Factor','nombre'], skiprows= 1)\n",
    "mortalidadCol.drop(columns= ['Factor', 'nombre', 'Tasa de Mortalidad'], inplace=True)\n",
    "mortalidadCol['Total'] = (mortalidadCol.loc[:,'Total']*(dias/180)).round(0)\n",
    "mortalidadCol.loc[5, 'Total'] = fallecidos\n",
    "mortalidadCol['Tasa de Mortalidad']= mortalidadCol.loc[:,'Total']/50 \n",
    "mortalidadCol['Factor']= (mortalidadCol.loc[:,'Tasa de Mortalidad']/mortalidadCol.loc[5,'Tasa de Mortalidad']).round(2)\n",
    "mortalidadCol"
   ]
  },
  {
   "cell_type": "markdown",
   "metadata": {
    "slideshow": {
     "slide_type": "slide"
    }
   },
   "source": [
    "# Fallecidos estimados por otras causas período \"pandemia\" :"
   ]
  },
  {
   "cell_type": "code",
   "execution_count": 24,
   "metadata": {
    "slideshow": {
     "slide_type": "subslide"
    }
   },
   "outputs": [
    {
     "data": {
      "text/plain": [
       "597500.0"
      ]
     },
     "execution_count": 24,
     "metadata": {},
     "output_type": "execute_result"
    }
   ],
   "source": [
    "a = mortalidadCol['Total'].sum()\n",
    "a"
   ]
  },
  {
   "cell_type": "markdown",
   "metadata": {
    "slideshow": {
     "slide_type": "slide"
    }
   },
   "source": [
    "# Porcentaje Fallecidos por \"COVID-19\" en relación con otras causas:"
   ]
  },
  {
   "cell_type": "code",
   "execution_count": 25,
   "metadata": {
    "slideshow": {
     "slide_type": "subslide"
    }
   },
   "outputs": [
    {
     "data": {
      "text/plain": [
       "6.82"
      ]
     },
     "execution_count": 25,
     "metadata": {},
     "output_type": "execute_result"
    }
   ],
   "source": [
    "((mortalidadCol.loc[5,'Total']/mortalidadCol['Total'].sum())*100).round(2)"
   ]
  },
  {
   "cell_type": "markdown",
   "metadata": {
    "slideshow": {
     "slide_type": "slide"
    }
   },
   "source": [
    "# Tabla Colombia: Casos por grupo etario y Tasa de mortalidad por millón de habitantes. \n",
    "# Factor causa 'x'/CoVid-19"
   ]
  },
  {
   "cell_type": "code",
   "execution_count": 26,
   "metadata": {
    "slideshow": {
     "slide_type": "skip"
    }
   },
   "outputs": [],
   "source": [
    "mortalidadCol.loc[5,'edad 0 a 4']= etarioDefuncionesColombia.loc[0,'edad 0 a 4']"
   ]
  },
  {
   "cell_type": "code",
   "execution_count": 27,
   "metadata": {
    "slideshow": {
     "slide_type": "skip"
    }
   },
   "outputs": [],
   "source": [
    "mortalidadCol.loc[5,'edad 5 a 14']= etarioDefuncionesColombia.loc[0,'edad 5 a 14']"
   ]
  },
  {
   "cell_type": "code",
   "execution_count": 28,
   "metadata": {
    "slideshow": {
     "slide_type": "slide"
    }
   },
   "outputs": [],
   "source": [
    "mortalidadCol.loc[5,'edad 15 a 44']= etarioDefuncionesColombia.loc[0,'edad 15 a 44']"
   ]
  },
  {
   "cell_type": "code",
   "execution_count": 29,
   "metadata": {
    "slideshow": {
     "slide_type": "skip"
    }
   },
   "outputs": [],
   "source": [
    "mortalidadCol.loc[5,'edad 45 a 64']= etarioDefuncionesColombia.loc[0,'edad 45 a 64']"
   ]
  },
  {
   "cell_type": "code",
   "execution_count": 30,
   "metadata": {
    "slideshow": {
     "slide_type": "skip"
    }
   },
   "outputs": [],
   "source": [
    "mortalidadCol.loc[5,'edad 65 a 84']= etarioDefuncionesColombia.loc[0,'edad 65 a 84']"
   ]
  },
  {
   "cell_type": "code",
   "execution_count": 31,
   "metadata": {
    "slideshow": {
     "slide_type": "skip"
    }
   },
   "outputs": [],
   "source": [
    "mortalidadCol.loc[5,'edad 85 a 99']= etarioDefuncionesColombia.loc[0,'edad 85 a 99']"
   ]
  },
  {
   "cell_type": "code",
   "execution_count": 32,
   "metadata": {
    "slideshow": {
     "slide_type": "slide"
    }
   },
   "outputs": [
    {
     "data": {
      "text/html": [
       "<div>\n",
       "<style scoped>\n",
       "    .dataframe tbody tr th:only-of-type {\n",
       "        vertical-align: middle;\n",
       "    }\n",
       "\n",
       "    .dataframe tbody tr th {\n",
       "        vertical-align: top;\n",
       "    }\n",
       "\n",
       "    .dataframe thead th {\n",
       "        text-align: right;\n",
       "    }\n",
       "</style>\n",
       "<table border=\"1\" class=\"dataframe\">\n",
       "  <thead>\n",
       "    <tr style=\"text-align: right;\">\n",
       "      <th></th>\n",
       "      <th>Código</th>\n",
       "      <th>Causa de defunción</th>\n",
       "      <th>Total</th>\n",
       "      <th>edad 0 a 4</th>\n",
       "      <th>edad 5 a 14</th>\n",
       "      <th>edad 15 a 44</th>\n",
       "      <th>edad 45 a 64</th>\n",
       "      <th>edad 65 a 84</th>\n",
       "      <th>edad 85 a 99</th>\n",
       "      <th>edad 100 o mas</th>\n",
       "      <th>edad desconocida</th>\n",
       "      <th>Tasa de Mortalidad</th>\n",
       "      <th>Factor</th>\n",
       "    </tr>\n",
       "  </thead>\n",
       "  <tbody>\n",
       "    <tr>\n",
       "      <th>0</th>\n",
       "      <td>200-215</td>\n",
       "      <td>Neoplasias</td>\n",
       "      <td>144820.0</td>\n",
       "      <td>NaN</td>\n",
       "      <td>NaN</td>\n",
       "      <td>NaN</td>\n",
       "      <td>NaN</td>\n",
       "      <td>NaN</td>\n",
       "      <td>NaN</td>\n",
       "      <td>NaN</td>\n",
       "      <td>NaN</td>\n",
       "      <td>2896.40</td>\n",
       "      <td>3.55</td>\n",
       "    </tr>\n",
       "    <tr>\n",
       "      <th>1</th>\n",
       "      <td>303</td>\n",
       "      <td>Enfermedades isquémicas del corazón</td>\n",
       "      <td>113799.0</td>\n",
       "      <td>2.0</td>\n",
       "      <td>10.0</td>\n",
       "      <td>1450.0</td>\n",
       "      <td>11984.0</td>\n",
       "      <td>36504.0</td>\n",
       "      <td>23998.0</td>\n",
       "      <td>1082.0</td>\n",
       "      <td>2.0</td>\n",
       "      <td>2275.98</td>\n",
       "      <td>2.79</td>\n",
       "    </tr>\n",
       "    <tr>\n",
       "      <th>2</th>\n",
       "      <td>605</td>\n",
       "      <td>Enfermedades crónicas de las vías respiratoria...</td>\n",
       "      <td>48279.0</td>\n",
       "      <td>26.0</td>\n",
       "      <td>10.0</td>\n",
       "      <td>222.0</td>\n",
       "      <td>2290.0</td>\n",
       "      <td>15284.0</td>\n",
       "      <td>13514.0</td>\n",
       "      <td>486.0</td>\n",
       "      <td>0.0</td>\n",
       "      <td>965.58</td>\n",
       "      <td>1.18</td>\n",
       "    </tr>\n",
       "    <tr>\n",
       "      <th>3</th>\n",
       "      <td>307</td>\n",
       "      <td>Enfermedades cerebrovasculares</td>\n",
       "      <td>46334.0</td>\n",
       "      <td>64.0</td>\n",
       "      <td>56.0</td>\n",
       "      <td>1202.0</td>\n",
       "      <td>5312.0</td>\n",
       "      <td>14942.0</td>\n",
       "      <td>8782.0</td>\n",
       "      <td>192.0</td>\n",
       "      <td>0.0</td>\n",
       "      <td>926.68</td>\n",
       "      <td>1.14</td>\n",
       "    </tr>\n",
       "    <tr>\n",
       "      <th>4</th>\n",
       "      <td>512</td>\n",
       "      <td>Agresiones (homicidios)</td>\n",
       "      <td>37559.0</td>\n",
       "      <td>90.0</td>\n",
       "      <td>192.0</td>\n",
       "      <td>19962.0</td>\n",
       "      <td>3798.0</td>\n",
       "      <td>648.0</td>\n",
       "      <td>46.0</td>\n",
       "      <td>2.0</td>\n",
       "      <td>26.0</td>\n",
       "      <td>751.18</td>\n",
       "      <td>0.92</td>\n",
       "    </tr>\n",
       "    <tr>\n",
       "      <th>5</th>\n",
       "      <td>999</td>\n",
       "      <td>COVID-19</td>\n",
       "      <td>40749.0</td>\n",
       "      <td>80.0</td>\n",
       "      <td>80.0</td>\n",
       "      <td>3130.0</td>\n",
       "      <td>11528.0</td>\n",
       "      <td>20724.0</td>\n",
       "      <td>5156.0</td>\n",
       "      <td>51.0</td>\n",
       "      <td>NaN</td>\n",
       "      <td>814.98</td>\n",
       "      <td>1.00</td>\n",
       "    </tr>\n",
       "    <tr>\n",
       "      <th>6</th>\n",
       "      <td>302</td>\n",
       "      <td>Enfermedades hipertensivas</td>\n",
       "      <td>26602.0</td>\n",
       "      <td>6.0</td>\n",
       "      <td>2.0</td>\n",
       "      <td>208.0</td>\n",
       "      <td>1840.0</td>\n",
       "      <td>8182.0</td>\n",
       "      <td>7002.0</td>\n",
       "      <td>300.0</td>\n",
       "      <td>0.0</td>\n",
       "      <td>532.04</td>\n",
       "      <td>0.65</td>\n",
       "    </tr>\n",
       "    <tr>\n",
       "      <th>7</th>\n",
       "      <td>601</td>\n",
       "      <td>Diabetes mellitus</td>\n",
       "      <td>23244.0</td>\n",
       "      <td>6.0</td>\n",
       "      <td>6.0</td>\n",
       "      <td>544.0</td>\n",
       "      <td>3490.0</td>\n",
       "      <td>8090.0</td>\n",
       "      <td>3110.0</td>\n",
       "      <td>80.0</td>\n",
       "      <td>0.0</td>\n",
       "      <td>464.88</td>\n",
       "      <td>0.57</td>\n",
       "    </tr>\n",
       "    <tr>\n",
       "      <th>8</th>\n",
       "      <td>609</td>\n",
       "      <td>Resto de enfermedades del sistema digestivo</td>\n",
       "      <td>22559.0</td>\n",
       "      <td>150.0</td>\n",
       "      <td>68.0</td>\n",
       "      <td>854.0</td>\n",
       "      <td>2656.0</td>\n",
       "      <td>7230.0</td>\n",
       "      <td>3836.0</td>\n",
       "      <td>80.0</td>\n",
       "      <td>0.0</td>\n",
       "      <td>451.18</td>\n",
       "      <td>0.55</td>\n",
       "    </tr>\n",
       "    <tr>\n",
       "      <th>9</th>\n",
       "      <td>501</td>\n",
       "      <td>Accidentes de transporte terrestre</td>\n",
       "      <td>20087.0</td>\n",
       "      <td>94.0</td>\n",
       "      <td>300.0</td>\n",
       "      <td>7652.0</td>\n",
       "      <td>2976.0</td>\n",
       "      <td>1926.0</td>\n",
       "      <td>290.0</td>\n",
       "      <td>0.0</td>\n",
       "      <td>6.0</td>\n",
       "      <td>401.74</td>\n",
       "      <td>0.49</td>\n",
       "    </tr>\n",
       "    <tr>\n",
       "      <th>10</th>\n",
       "      <td>610</td>\n",
       "      <td>Enfermedades del sistema urinario</td>\n",
       "      <td>19808.0</td>\n",
       "      <td>98.0</td>\n",
       "      <td>46.0</td>\n",
       "      <td>586.0</td>\n",
       "      <td>1898.0</td>\n",
       "      <td>6078.0</td>\n",
       "      <td>4222.0</td>\n",
       "      <td>132.0</td>\n",
       "      <td>0.0</td>\n",
       "      <td>396.16</td>\n",
       "      <td>0.49</td>\n",
       "    </tr>\n",
       "    <tr>\n",
       "      <th>11</th>\n",
       "      <td>614</td>\n",
       "      <td>Resto de las enfermedades</td>\n",
       "      <td>19553.0</td>\n",
       "      <td>344.0</td>\n",
       "      <td>172.0</td>\n",
       "      <td>1802.0</td>\n",
       "      <td>2634.0</td>\n",
       "      <td>4952.0</td>\n",
       "      <td>2860.0</td>\n",
       "      <td>128.0</td>\n",
       "      <td>0.0</td>\n",
       "      <td>391.06</td>\n",
       "      <td>0.48</td>\n",
       "    </tr>\n",
       "    <tr>\n",
       "      <th>12</th>\n",
       "      <td>304</td>\n",
       "      <td>Enfermedad cardiopulmonar enfermedades de la c...</td>\n",
       "      <td>17563.0</td>\n",
       "      <td>150.0</td>\n",
       "      <td>84.0</td>\n",
       "      <td>868.0</td>\n",
       "      <td>2128.0</td>\n",
       "      <td>5510.0</td>\n",
       "      <td>2760.0</td>\n",
       "      <td>80.0</td>\n",
       "      <td>0.0</td>\n",
       "      <td>351.26</td>\n",
       "      <td>0.43</td>\n",
       "    </tr>\n",
       "    <tr>\n",
       "      <th>13</th>\n",
       "      <td>604</td>\n",
       "      <td>Enfermedades del sistema nervioso  excepto men...</td>\n",
       "      <td>16544.0</td>\n",
       "      <td>392.0</td>\n",
       "      <td>448.0</td>\n",
       "      <td>1704.0</td>\n",
       "      <td>1704.0</td>\n",
       "      <td>3930.0</td>\n",
       "      <td>2650.0</td>\n",
       "      <td>80.0</td>\n",
       "      <td>0.0</td>\n",
       "      <td>330.88</td>\n",
       "      <td>0.41</td>\n",
       "    </tr>\n",
       "  </tbody>\n",
       "</table>\n",
       "</div>"
      ],
      "text/plain": [
       "     Código                                 Causa de defunción     Total  \\\n",
       "0   200-215                                         Neoplasias  144820.0   \n",
       "1       303                Enfermedades isquémicas del corazón  113799.0   \n",
       "2       605  Enfermedades crónicas de las vías respiratoria...   48279.0   \n",
       "3       307                     Enfermedades cerebrovasculares   46334.0   \n",
       "4       512                            Agresiones (homicidios)   37559.0   \n",
       "5       999                                           COVID-19   40749.0   \n",
       "6       302                         Enfermedades hipertensivas   26602.0   \n",
       "7       601                                  Diabetes mellitus   23244.0   \n",
       "8       609        Resto de enfermedades del sistema digestivo   22559.0   \n",
       "9       501                 Accidentes de transporte terrestre   20087.0   \n",
       "10      610                  Enfermedades del sistema urinario   19808.0   \n",
       "11      614                          Resto de las enfermedades   19553.0   \n",
       "12      304  Enfermedad cardiopulmonar enfermedades de la c...   17563.0   \n",
       "13      604  Enfermedades del sistema nervioso  excepto men...   16544.0   \n",
       "\n",
       "    edad 0 a 4  edad 5 a 14  edad 15 a 44  edad 45 a 64  edad 65 a 84  \\\n",
       "0          NaN          NaN           NaN           NaN           NaN   \n",
       "1          2.0         10.0        1450.0       11984.0       36504.0   \n",
       "2         26.0         10.0         222.0        2290.0       15284.0   \n",
       "3         64.0         56.0        1202.0        5312.0       14942.0   \n",
       "4         90.0        192.0       19962.0        3798.0         648.0   \n",
       "5         80.0         80.0        3130.0       11528.0       20724.0   \n",
       "6          6.0          2.0         208.0        1840.0        8182.0   \n",
       "7          6.0          6.0         544.0        3490.0        8090.0   \n",
       "8        150.0         68.0         854.0        2656.0        7230.0   \n",
       "9         94.0        300.0        7652.0        2976.0        1926.0   \n",
       "10        98.0         46.0         586.0        1898.0        6078.0   \n",
       "11       344.0        172.0        1802.0        2634.0        4952.0   \n",
       "12       150.0         84.0         868.0        2128.0        5510.0   \n",
       "13       392.0        448.0        1704.0        1704.0        3930.0   \n",
       "\n",
       "    edad 85 a 99  edad 100 o mas  edad desconocida  Tasa de Mortalidad  Factor  \n",
       "0            NaN             NaN               NaN             2896.40    3.55  \n",
       "1        23998.0          1082.0               2.0             2275.98    2.79  \n",
       "2        13514.0           486.0               0.0              965.58    1.18  \n",
       "3         8782.0           192.0               0.0              926.68    1.14  \n",
       "4           46.0             2.0              26.0              751.18    0.92  \n",
       "5         5156.0            51.0               NaN              814.98    1.00  \n",
       "6         7002.0           300.0               0.0              532.04    0.65  \n",
       "7         3110.0            80.0               0.0              464.88    0.57  \n",
       "8         3836.0            80.0               0.0              451.18    0.55  \n",
       "9          290.0             0.0               6.0              401.74    0.49  \n",
       "10        4222.0           132.0               0.0              396.16    0.49  \n",
       "11        2860.0           128.0               0.0              391.06    0.48  \n",
       "12        2760.0            80.0               0.0              351.26    0.43  \n",
       "13        2650.0            80.0               0.0              330.88    0.41  "
      ]
     },
     "execution_count": 32,
     "metadata": {},
     "output_type": "execute_result"
    }
   ],
   "source": [
    "mortalidadCol.loc[5,'edad 100 o mas']= etarioDefuncionesColombia.loc[0,'edad 100 o mas']\n",
    "mortalidadCol.round()\n",
    "mortalidadCol"
   ]
  },
  {
   "cell_type": "code",
   "execution_count": 33,
   "metadata": {
    "slideshow": {
     "slide_type": "skip"
    }
   },
   "outputs": [],
   "source": [
    "mortalidadCol['TM_0_4'] = ((mortalidadCol['edad 0 a 4']/etariosporMunic.loc[0,'edad 0 a 4'])*1000000).round(2)\n",
    "mortalidadCol['TM_5_14'] = ((mortalidadCol['edad 5 a 14']/etariosporMunic.loc[0,'edad 0 a 4'])*1000000).round(2)\n",
    "mortalidadCol['TM_15_44'] = ((mortalidadCol['edad 15 a 44']/etariosporMunic.loc[0,'edad 0 a 4'])*1000000).round(2)\n",
    "mortalidadCol['TM_45_64'] = ((mortalidadCol['edad 45 a 64']/etariosporMunic.loc[0,'edad 0 a 4'])*1000000).round(2)\n",
    "mortalidadCol['TM_65_84'] = ((mortalidadCol['edad 65 a 84']/etariosporMunic.loc[0,'edad 0 a 4'])*1000000).round(2)\n",
    "mortalidadCol['TM_85_99'] = ((mortalidadCol['edad 85 a 99']/etariosporMunic.loc[0,'edad 0 a 4'])*1000000).round(2)\n",
    "mortalidadCol['TM_100 o más'] = ((mortalidadCol['edad 100 o mas']/etariosporMunic.loc[0,'edad 0 a 4'])*1000000).round(2)"
   ]
  },
  {
   "cell_type": "code",
   "execution_count": 34,
   "metadata": {
    "slideshow": {
     "slide_type": "skip"
    }
   },
   "outputs": [],
   "source": [
    "tasasMortalidadColGrupoEtario = mortalidadCol.drop(columns= ['edad 0 a 4', 'edad 5 a 14',\n",
    "       'edad 15 a 44', 'edad 45 a 64', 'edad 65 a 84', 'edad 85 a 99',\n",
    "       'edad 100 o mas', 'edad desconocida','Factor'])"
   ]
  },
  {
   "cell_type": "markdown",
   "metadata": {
    "slideshow": {
     "slide_type": "slide"
    }
   },
   "source": [
    "# Colombia:  Tasa de Mortalidad total y por grupo etario  de las principales patologías agrupadas (por millón de habitantes)"
   ]
  },
  {
   "cell_type": "code",
   "execution_count": 35,
   "metadata": {
    "slideshow": {
     "slide_type": "subslide"
    }
   },
   "outputs": [
    {
     "data": {
      "text/html": [
       "<div>\n",
       "<style scoped>\n",
       "    .dataframe tbody tr th:only-of-type {\n",
       "        vertical-align: middle;\n",
       "    }\n",
       "\n",
       "    .dataframe tbody tr th {\n",
       "        vertical-align: top;\n",
       "    }\n",
       "\n",
       "    .dataframe thead th {\n",
       "        text-align: right;\n",
       "    }\n",
       "</style>\n",
       "<table border=\"1\" class=\"dataframe\">\n",
       "  <thead>\n",
       "    <tr style=\"text-align: right;\">\n",
       "      <th></th>\n",
       "      <th>Código</th>\n",
       "      <th>Causa de defunción</th>\n",
       "      <th>Total defunciones</th>\n",
       "      <th>Tasa de Mortalidad total por millón de habitantes</th>\n",
       "      <th>TM edad 0 a 4 años</th>\n",
       "      <th>TM edad 5 a 14 años</th>\n",
       "      <th>TM edad 15 a 44 años</th>\n",
       "      <th>TM edad 45 a 64 años</th>\n",
       "      <th>TM edad 65 a 84 años</th>\n",
       "      <th>TM edad 85 a 99 años</th>\n",
       "      <th>TM edad 100 o más años</th>\n",
       "    </tr>\n",
       "  </thead>\n",
       "  <tbody>\n",
       "    <tr>\n",
       "      <th>0</th>\n",
       "      <td>200-215</td>\n",
       "      <td>Neoplasias</td>\n",
       "      <td>144820.0</td>\n",
       "      <td>2896.40</td>\n",
       "      <td>NaN</td>\n",
       "      <td>NaN</td>\n",
       "      <td>NaN</td>\n",
       "      <td>NaN</td>\n",
       "      <td>NaN</td>\n",
       "      <td>NaN</td>\n",
       "      <td>NaN</td>\n",
       "    </tr>\n",
       "    <tr>\n",
       "      <th>1</th>\n",
       "      <td>303</td>\n",
       "      <td>Enfermedades isquémicas del corazón</td>\n",
       "      <td>113799.0</td>\n",
       "      <td>2275.98</td>\n",
       "      <td>84.79</td>\n",
       "      <td>423.96</td>\n",
       "      <td>61474.54</td>\n",
       "      <td>508076.48</td>\n",
       "      <td>1547632.17</td>\n",
       "      <td>1017424.85</td>\n",
       "      <td>45872.73</td>\n",
       "    </tr>\n",
       "    <tr>\n",
       "      <th>2</th>\n",
       "      <td>605</td>\n",
       "      <td>Enfermedades crónicas de las vías respiratoria...</td>\n",
       "      <td>48279.0</td>\n",
       "      <td>965.58</td>\n",
       "      <td>1102.30</td>\n",
       "      <td>423.96</td>\n",
       "      <td>9411.96</td>\n",
       "      <td>97087.38</td>\n",
       "      <td>647984.06</td>\n",
       "      <td>572942.72</td>\n",
       "      <td>20604.57</td>\n",
       "    </tr>\n",
       "    <tr>\n",
       "      <th>3</th>\n",
       "      <td>307</td>\n",
       "      <td>Enfermedades cerebrovasculares</td>\n",
       "      <td>46334.0</td>\n",
       "      <td>926.68</td>\n",
       "      <td>2713.36</td>\n",
       "      <td>2374.19</td>\n",
       "      <td>50960.27</td>\n",
       "      <td>225208.80</td>\n",
       "      <td>633484.55</td>\n",
       "      <td>372323.74</td>\n",
       "      <td>8140.08</td>\n",
       "    </tr>\n",
       "    <tr>\n",
       "      <th>4</th>\n",
       "      <td>512</td>\n",
       "      <td>Agresiones (homicidios)</td>\n",
       "      <td>37559.0</td>\n",
       "      <td>751.18</td>\n",
       "      <td>3815.66</td>\n",
       "      <td>8140.08</td>\n",
       "      <td>846313.65</td>\n",
       "      <td>161020.90</td>\n",
       "      <td>27472.76</td>\n",
       "      <td>1950.23</td>\n",
       "      <td>84.79</td>\n",
       "    </tr>\n",
       "    <tr>\n",
       "      <th>5</th>\n",
       "      <td>999</td>\n",
       "      <td>COVID-19</td>\n",
       "      <td>40749.0</td>\n",
       "      <td>814.98</td>\n",
       "      <td>3391.70</td>\n",
       "      <td>3391.70</td>\n",
       "      <td>132700.22</td>\n",
       "      <td>488743.80</td>\n",
       "      <td>878619.58</td>\n",
       "      <td>218594.99</td>\n",
       "      <td>2162.21</td>\n",
       "    </tr>\n",
       "    <tr>\n",
       "      <th>6</th>\n",
       "      <td>302</td>\n",
       "      <td>Enfermedades hipertensivas</td>\n",
       "      <td>26602.0</td>\n",
       "      <td>532.04</td>\n",
       "      <td>254.38</td>\n",
       "      <td>84.79</td>\n",
       "      <td>8818.42</td>\n",
       "      <td>78009.07</td>\n",
       "      <td>346886.00</td>\n",
       "      <td>296858.44</td>\n",
       "      <td>12718.87</td>\n",
       "    </tr>\n",
       "    <tr>\n",
       "      <th>7</th>\n",
       "      <td>601</td>\n",
       "      <td>Diabetes mellitus</td>\n",
       "      <td>23244.0</td>\n",
       "      <td>464.88</td>\n",
       "      <td>254.38</td>\n",
       "      <td>254.38</td>\n",
       "      <td>23063.55</td>\n",
       "      <td>147962.86</td>\n",
       "      <td>342985.54</td>\n",
       "      <td>131852.29</td>\n",
       "      <td>3391.70</td>\n",
       "    </tr>\n",
       "    <tr>\n",
       "      <th>8</th>\n",
       "      <td>609</td>\n",
       "      <td>Resto de enfermedades del sistema digestivo</td>\n",
       "      <td>22559.0</td>\n",
       "      <td>451.18</td>\n",
       "      <td>6359.44</td>\n",
       "      <td>2882.94</td>\n",
       "      <td>36206.38</td>\n",
       "      <td>112604.40</td>\n",
       "      <td>306524.78</td>\n",
       "      <td>162631.96</td>\n",
       "      <td>3391.70</td>\n",
       "    </tr>\n",
       "    <tr>\n",
       "      <th>9</th>\n",
       "      <td>501</td>\n",
       "      <td>Accidentes de transporte terrestre</td>\n",
       "      <td>20087.0</td>\n",
       "      <td>401.74</td>\n",
       "      <td>3985.25</td>\n",
       "      <td>12718.87</td>\n",
       "      <td>324415.99</td>\n",
       "      <td>126171.20</td>\n",
       "      <td>81655.15</td>\n",
       "      <td>12294.91</td>\n",
       "      <td>0.00</td>\n",
       "    </tr>\n",
       "    <tr>\n",
       "      <th>10</th>\n",
       "      <td>610</td>\n",
       "      <td>Enfermedades del sistema urinario</td>\n",
       "      <td>19808.0</td>\n",
       "      <td>396.16</td>\n",
       "      <td>4154.83</td>\n",
       "      <td>1950.23</td>\n",
       "      <td>24844.19</td>\n",
       "      <td>80468.05</td>\n",
       "      <td>257684.32</td>\n",
       "      <td>178996.91</td>\n",
       "      <td>5596.30</td>\n",
       "    </tr>\n",
       "    <tr>\n",
       "      <th>11</th>\n",
       "      <td>614</td>\n",
       "      <td>Resto de las enfermedades</td>\n",
       "      <td>19553.0</td>\n",
       "      <td>391.06</td>\n",
       "      <td>14584.30</td>\n",
       "      <td>7292.15</td>\n",
       "      <td>76398.02</td>\n",
       "      <td>111671.68</td>\n",
       "      <td>209946.16</td>\n",
       "      <td>121253.23</td>\n",
       "      <td>5426.72</td>\n",
       "    </tr>\n",
       "    <tr>\n",
       "      <th>12</th>\n",
       "      <td>304</td>\n",
       "      <td>Enfermedad cardiopulmonar enfermedades de la c...</td>\n",
       "      <td>17563.0</td>\n",
       "      <td>351.26</td>\n",
       "      <td>6359.44</td>\n",
       "      <td>3561.28</td>\n",
       "      <td>36799.93</td>\n",
       "      <td>90219.19</td>\n",
       "      <td>233603.26</td>\n",
       "      <td>117013.61</td>\n",
       "      <td>3391.70</td>\n",
       "    </tr>\n",
       "    <tr>\n",
       "      <th>13</th>\n",
       "      <td>604</td>\n",
       "      <td>Enfermedades del sistema nervioso  excepto men...</td>\n",
       "      <td>16544.0</td>\n",
       "      <td>330.88</td>\n",
       "      <td>16619.32</td>\n",
       "      <td>18993.51</td>\n",
       "      <td>72243.18</td>\n",
       "      <td>72243.18</td>\n",
       "      <td>166617.20</td>\n",
       "      <td>112350.02</td>\n",
       "      <td>3391.70</td>\n",
       "    </tr>\n",
       "  </tbody>\n",
       "</table>\n",
       "</div>"
      ],
      "text/plain": [
       "     Código                                 Causa de defunción  \\\n",
       "0   200-215                                         Neoplasias   \n",
       "1       303                Enfermedades isquémicas del corazón   \n",
       "2       605  Enfermedades crónicas de las vías respiratoria...   \n",
       "3       307                     Enfermedades cerebrovasculares   \n",
       "4       512                            Agresiones (homicidios)   \n",
       "5       999                                           COVID-19   \n",
       "6       302                         Enfermedades hipertensivas   \n",
       "7       601                                  Diabetes mellitus   \n",
       "8       609        Resto de enfermedades del sistema digestivo   \n",
       "9       501                 Accidentes de transporte terrestre   \n",
       "10      610                  Enfermedades del sistema urinario   \n",
       "11      614                          Resto de las enfermedades   \n",
       "12      304  Enfermedad cardiopulmonar enfermedades de la c...   \n",
       "13      604  Enfermedades del sistema nervioso  excepto men...   \n",
       "\n",
       "    Total defunciones  Tasa de Mortalidad total por millón de habitantes  \\\n",
       "0            144820.0                                            2896.40   \n",
       "1            113799.0                                            2275.98   \n",
       "2             48279.0                                             965.58   \n",
       "3             46334.0                                             926.68   \n",
       "4             37559.0                                             751.18   \n",
       "5             40749.0                                             814.98   \n",
       "6             26602.0                                             532.04   \n",
       "7             23244.0                                             464.88   \n",
       "8             22559.0                                             451.18   \n",
       "9             20087.0                                             401.74   \n",
       "10            19808.0                                             396.16   \n",
       "11            19553.0                                             391.06   \n",
       "12            17563.0                                             351.26   \n",
       "13            16544.0                                             330.88   \n",
       "\n",
       "    TM edad 0 a 4 años  TM edad 5 a 14 años  TM edad 15 a 44 años  \\\n",
       "0                  NaN                  NaN                   NaN   \n",
       "1                84.79               423.96              61474.54   \n",
       "2              1102.30               423.96               9411.96   \n",
       "3              2713.36              2374.19              50960.27   \n",
       "4              3815.66              8140.08             846313.65   \n",
       "5              3391.70              3391.70             132700.22   \n",
       "6               254.38                84.79               8818.42   \n",
       "7               254.38               254.38              23063.55   \n",
       "8              6359.44              2882.94              36206.38   \n",
       "9              3985.25             12718.87             324415.99   \n",
       "10             4154.83              1950.23              24844.19   \n",
       "11            14584.30              7292.15              76398.02   \n",
       "12             6359.44              3561.28              36799.93   \n",
       "13            16619.32             18993.51              72243.18   \n",
       "\n",
       "    TM edad 45 a 64 años  TM edad 65 a 84 años  TM edad 85 a 99 años  \\\n",
       "0                    NaN                   NaN                   NaN   \n",
       "1              508076.48            1547632.17            1017424.85   \n",
       "2               97087.38             647984.06             572942.72   \n",
       "3              225208.80             633484.55             372323.74   \n",
       "4              161020.90              27472.76               1950.23   \n",
       "5              488743.80             878619.58             218594.99   \n",
       "6               78009.07             346886.00             296858.44   \n",
       "7              147962.86             342985.54             131852.29   \n",
       "8              112604.40             306524.78             162631.96   \n",
       "9              126171.20              81655.15              12294.91   \n",
       "10              80468.05             257684.32             178996.91   \n",
       "11             111671.68             209946.16             121253.23   \n",
       "12              90219.19             233603.26             117013.61   \n",
       "13              72243.18             166617.20             112350.02   \n",
       "\n",
       "    TM edad 100 o más años  \n",
       "0                      NaN  \n",
       "1                 45872.73  \n",
       "2                 20604.57  \n",
       "3                  8140.08  \n",
       "4                    84.79  \n",
       "5                  2162.21  \n",
       "6                 12718.87  \n",
       "7                  3391.70  \n",
       "8                  3391.70  \n",
       "9                     0.00  \n",
       "10                 5596.30  \n",
       "11                 5426.72  \n",
       "12                 3391.70  \n",
       "13                 3391.70  "
      ]
     },
     "execution_count": 35,
     "metadata": {},
     "output_type": "execute_result"
    }
   ],
   "source": [
    "tasasMortalidadColGrupoEtario.rename(columns={'Total':'Total defunciones', \n",
    "                                              'Tasa de Mortalidad': 'Tasa de Mortalidad total por millón de habitantes', \n",
    "                                              'TM_0_4':'TM edad 0 a 4 años',\n",
    "                                              'TM_5_14':'TM edad 5 a 14 años', \n",
    "                                              'TM_15_44': 'TM edad 15 a 44 años', \n",
    "                                              'TM_45_64': 'TM edad 45 a 64 años', \n",
    "                                              'TM_65_84': 'TM edad 65 a 84 años', \n",
    "                                              'TM_85_99': 'TM edad 85 a 99 años',\n",
    "                                              'TM_100 o más': 'TM edad 100 o más años'})"
   ]
  },
  {
   "cell_type": "markdown",
   "metadata": {
    "slideshow": {
     "slide_type": "slide"
    }
   },
   "source": [
    "### Departamentos:   Tasas de letalidad y de mortalidad \n",
    "#### Período del 2020 - 03 - 02  al "
   ]
  },
  {
   "cell_type": "code",
   "execution_count": 36,
   "metadata": {
    "slideshow": {
     "slide_type": "skip"
    }
   },
   "outputs": [],
   "source": [
    "fecha = col['Fecha de notificación'].max()"
   ]
  },
  {
   "cell_type": "code",
   "execution_count": 37,
   "metadata": {
    "slideshow": {
     "slide_type": "skip"
    }
   },
   "outputs": [
    {
     "data": {
      "text/plain": [
       "Index(['Fecha de notificación', 'Nombre departamento', 'Nombre municipio',\n",
       "       'Edad', 'Sexo', 'Ubicacion', 'Estado', 'Recuperado', 'Fecha de muerte',\n",
       "       'Fecha de diagnóstico'],\n",
       "      dtype='object')"
      ]
     },
     "execution_count": 37,
     "metadata": {},
     "output_type": "execute_result"
    }
   ],
   "source": [
    "col.columns"
   ]
  },
  {
   "cell_type": "code",
   "execution_count": 38,
   "metadata": {
    "slideshow": {
     "slide_type": "skip"
    }
   },
   "outputs": [],
   "source": [
    "col[['Fecha de notificación', 'Nombre departamento', 'Nombre municipio',\n",
    "       'Edad', 'Sexo', 'Estado', 'Fecha de muerte',\n",
    "       'Fecha de diagnóstico']]=  col[['Fecha de notificación', 'Nombre departamento', 'Nombre municipio',\n",
    "       'Edad', 'Sexo', 'Estado', 'Fecha de muerte',\n",
    "       'Fecha de diagnóstico']].astype('category')"
   ]
  },
  {
   "cell_type": "code",
   "execution_count": 39,
   "metadata": {
    "slideshow": {
     "slide_type": "skip"
    }
   },
   "outputs": [],
   "source": [
    "Tasas = col.groupby('Nombre departamento')[['Fecha de notificación','Fecha de muerte']].count()"
   ]
  },
  {
   "cell_type": "code",
   "execution_count": 40,
   "metadata": {
    "slideshow": {
     "slide_type": "skip"
    }
   },
   "outputs": [],
   "source": [
    "Tasas.rename(columns={'Fecha de notificación': 'Número de casos', 'Fecha de muerte': 'Fallecidos'}, inplace= True)"
   ]
  },
  {
   "cell_type": "code",
   "execution_count": 41,
   "metadata": {
    "slideshow": {
     "slide_type": "skip"
    }
   },
   "outputs": [],
   "source": [
    "Tasas['Tasa de letalidad por cien enfermos'] = (Tasas['Fallecidos']/Tasas['Número de casos'])*100"
   ]
  },
  {
   "cell_type": "code",
   "execution_count": 42,
   "metadata": {
    "slideshow": {
     "slide_type": "skip"
    }
   },
   "outputs": [],
   "source": [
    "habitantes = poblacion.loc[poblacion['Género']== 'AMBOS SEXOS', ['DPTO', 'MUNICIPIO','2020']].groupby('DPTO')['2020'].sum()\n"
   ]
  },
  {
   "cell_type": "code",
   "execution_count": 43,
   "metadata": {
    "slideshow": {
     "slide_type": "skip"
    }
   },
   "outputs": [],
   "source": [
    "Tasas['Tasa de mortalidad por millón de habitantes'] = (Tasas['Fallecidos']/habitantes)*1000000"
   ]
  },
  {
   "cell_type": "code",
   "execution_count": 44,
   "metadata": {
    "slideshow": {
     "slide_type": "slide"
    }
   },
   "outputs": [
    {
     "data": {
      "text/html": [
       "<div>\n",
       "<style scoped>\n",
       "    .dataframe tbody tr th:only-of-type {\n",
       "        vertical-align: middle;\n",
       "    }\n",
       "\n",
       "    .dataframe tbody tr th {\n",
       "        vertical-align: top;\n",
       "    }\n",
       "\n",
       "    .dataframe thead th {\n",
       "        text-align: right;\n",
       "    }\n",
       "</style>\n",
       "<table border=\"1\" class=\"dataframe\">\n",
       "  <thead>\n",
       "    <tr style=\"text-align: right;\">\n",
       "      <th></th>\n",
       "      <th>Número de casos</th>\n",
       "      <th>Fallecidos</th>\n",
       "      <th>Tasa de letalidad por cien enfermos</th>\n",
       "      <th>Tasa de mortalidad por millón de habitantes</th>\n",
       "    </tr>\n",
       "    <tr>\n",
       "      <th>Nombre departamento</th>\n",
       "      <th></th>\n",
       "      <th></th>\n",
       "      <th></th>\n",
       "      <th></th>\n",
       "    </tr>\n",
       "  </thead>\n",
       "  <tbody>\n",
       "    <tr>\n",
       "      <th>AMAZONAS</th>\n",
       "      <td>3149</td>\n",
       "      <td>130</td>\n",
       "      <td>4.13</td>\n",
       "      <td>1645.15</td>\n",
       "    </tr>\n",
       "    <tr>\n",
       "      <th>BARRANQUILLA</th>\n",
       "      <td>45214</td>\n",
       "      <td>1921</td>\n",
       "      <td>4.25</td>\n",
       "      <td>1507.55</td>\n",
       "    </tr>\n",
       "    <tr>\n",
       "      <th>CAQUETA</th>\n",
       "      <td>13389</td>\n",
       "      <td>538</td>\n",
       "      <td>4.02</td>\n",
       "      <td>1310.53</td>\n",
       "    </tr>\n",
       "    <tr>\n",
       "      <th>BOGOTA</th>\n",
       "      <td>375315</td>\n",
       "      <td>9637</td>\n",
       "      <td>2.57</td>\n",
       "      <td>1244.45</td>\n",
       "    </tr>\n",
       "    <tr>\n",
       "      <th>ATLANTICO</th>\n",
       "      <td>32909</td>\n",
       "      <td>1601</td>\n",
       "      <td>4.86</td>\n",
       "      <td>1105.76</td>\n",
       "    </tr>\n",
       "    <tr>\n",
       "      <th>CORDOBA</th>\n",
       "      <td>28228</td>\n",
       "      <td>1842</td>\n",
       "      <td>6.53</td>\n",
       "      <td>1007.14</td>\n",
       "    </tr>\n",
       "    <tr>\n",
       "      <th>STA MARTA D.E.</th>\n",
       "      <td>13703</td>\n",
       "      <td>534</td>\n",
       "      <td>3.90</td>\n",
       "      <td>991.44</td>\n",
       "    </tr>\n",
       "    <tr>\n",
       "      <th>SANTANDER</th>\n",
       "      <td>53314</td>\n",
       "      <td>2175</td>\n",
       "      <td>4.08</td>\n",
       "      <td>953.57</td>\n",
       "    </tr>\n",
       "    <tr>\n",
       "      <th>HUILA</th>\n",
       "      <td>30100</td>\n",
       "      <td>1031</td>\n",
       "      <td>3.43</td>\n",
       "      <td>918.39</td>\n",
       "    </tr>\n",
       "    <tr>\n",
       "      <th>NORTE SANTANDER</th>\n",
       "      <td>28970</td>\n",
       "      <td>1480</td>\n",
       "      <td>5.11</td>\n",
       "      <td>913.40</td>\n",
       "    </tr>\n",
       "    <tr>\n",
       "      <th>QUINDIO</th>\n",
       "      <td>17186</td>\n",
       "      <td>474</td>\n",
       "      <td>2.76</td>\n",
       "      <td>853.44</td>\n",
       "    </tr>\n",
       "    <tr>\n",
       "      <th>VALLE</th>\n",
       "      <td>108058</td>\n",
       "      <td>3866</td>\n",
       "      <td>3.58</td>\n",
       "      <td>853.02</td>\n",
       "    </tr>\n",
       "    <tr>\n",
       "      <th>CESAR</th>\n",
       "      <td>29781</td>\n",
       "      <td>1001</td>\n",
       "      <td>3.36</td>\n",
       "      <td>772.74</td>\n",
       "    </tr>\n",
       "    <tr>\n",
       "      <th>SUCRE</th>\n",
       "      <td>16511</td>\n",
       "      <td>706</td>\n",
       "      <td>4.28</td>\n",
       "      <td>743.74</td>\n",
       "    </tr>\n",
       "    <tr>\n",
       "      <th>TOLIMA</th>\n",
       "      <td>29782</td>\n",
       "      <td>988</td>\n",
       "      <td>3.32</td>\n",
       "      <td>737.31</td>\n",
       "    </tr>\n",
       "    <tr>\n",
       "      <th>CARTAGENA</th>\n",
       "      <td>31297</td>\n",
       "      <td>699</td>\n",
       "      <td>2.23</td>\n",
       "      <td>679.47</td>\n",
       "    </tr>\n",
       "    <tr>\n",
       "      <th>ANTIOQUIA</th>\n",
       "      <td>213928</td>\n",
       "      <td>4481</td>\n",
       "      <td>2.09</td>\n",
       "      <td>671.02</td>\n",
       "    </tr>\n",
       "    <tr>\n",
       "      <th>META</th>\n",
       "      <td>28369</td>\n",
       "      <td>711</td>\n",
       "      <td>2.51</td>\n",
       "      <td>668.58</td>\n",
       "    </tr>\n",
       "    <tr>\n",
       "      <th>PUTUMAYO</th>\n",
       "      <td>4978</td>\n",
       "      <td>238</td>\n",
       "      <td>4.78</td>\n",
       "      <td>662.72</td>\n",
       "    </tr>\n",
       "    <tr>\n",
       "      <th>RISARALDA</th>\n",
       "      <td>23491</td>\n",
       "      <td>620</td>\n",
       "      <td>2.64</td>\n",
       "      <td>645.12</td>\n",
       "    </tr>\n",
       "    <tr>\n",
       "      <th>MAGDALENA</th>\n",
       "      <td>6539</td>\n",
       "      <td>535</td>\n",
       "      <td>8.18</td>\n",
       "      <td>602.20</td>\n",
       "    </tr>\n",
       "    <tr>\n",
       "      <th>NARIÑO</th>\n",
       "      <td>25542</td>\n",
       "      <td>947</td>\n",
       "      <td>3.71</td>\n",
       "      <td>581.84</td>\n",
       "    </tr>\n",
       "    <tr>\n",
       "      <th>CALDAS</th>\n",
       "      <td>25168</td>\n",
       "      <td>579</td>\n",
       "      <td>2.30</td>\n",
       "      <td>568.51</td>\n",
       "    </tr>\n",
       "    <tr>\n",
       "      <th>SAN ANDRES</th>\n",
       "      <td>2138</td>\n",
       "      <td>35</td>\n",
       "      <td>1.64</td>\n",
       "      <td>549.52</td>\n",
       "    </tr>\n",
       "    <tr>\n",
       "      <th>CUNDINAMARCA</th>\n",
       "      <td>52544</td>\n",
       "      <td>1581</td>\n",
       "      <td>3.01</td>\n",
       "      <td>487.51</td>\n",
       "    </tr>\n",
       "    <tr>\n",
       "      <th>ARAUCA</th>\n",
       "      <td>4077</td>\n",
       "      <td>131</td>\n",
       "      <td>3.21</td>\n",
       "      <td>445.27</td>\n",
       "    </tr>\n",
       "    <tr>\n",
       "      <th>BOYACA</th>\n",
       "      <td>21693</td>\n",
       "      <td>538</td>\n",
       "      <td>2.48</td>\n",
       "      <td>432.92</td>\n",
       "    </tr>\n",
       "    <tr>\n",
       "      <th>GUAINIA</th>\n",
       "      <td>1204</td>\n",
       "      <td>21</td>\n",
       "      <td>1.74</td>\n",
       "      <td>414.72</td>\n",
       "    </tr>\n",
       "    <tr>\n",
       "      <th>GUAVIARE</th>\n",
       "      <td>1834</td>\n",
       "      <td>33</td>\n",
       "      <td>1.80</td>\n",
       "      <td>380.81</td>\n",
       "    </tr>\n",
       "    <tr>\n",
       "      <th>CASANARE</th>\n",
       "      <td>6964</td>\n",
       "      <td>160</td>\n",
       "      <td>2.30</td>\n",
       "      <td>367.65</td>\n",
       "    </tr>\n",
       "    <tr>\n",
       "      <th>CHOCO</th>\n",
       "      <td>4524</td>\n",
       "      <td>189</td>\n",
       "      <td>4.18</td>\n",
       "      <td>346.94</td>\n",
       "    </tr>\n",
       "    <tr>\n",
       "      <th>CAUCA</th>\n",
       "      <td>15792</td>\n",
       "      <td>511</td>\n",
       "      <td>3.24</td>\n",
       "      <td>342.51</td>\n",
       "    </tr>\n",
       "    <tr>\n",
       "      <th>VAUPES</th>\n",
       "      <td>1119</td>\n",
       "      <td>13</td>\n",
       "      <td>1.16</td>\n",
       "      <td>290.75</td>\n",
       "    </tr>\n",
       "    <tr>\n",
       "      <th>BOLIVAR</th>\n",
       "      <td>7154</td>\n",
       "      <td>300</td>\n",
       "      <td>4.19</td>\n",
       "      <td>260.36</td>\n",
       "    </tr>\n",
       "    <tr>\n",
       "      <th>VICHADA</th>\n",
       "      <td>919</td>\n",
       "      <td>12</td>\n",
       "      <td>1.31</td>\n",
       "      <td>106.23</td>\n",
       "    </tr>\n",
       "    <tr>\n",
       "      <th>GUAJIRA</th>\n",
       "      <td>11923</td>\n",
       "      <td>491</td>\n",
       "      <td>4.12</td>\n",
       "      <td>NaN</td>\n",
       "    </tr>\n",
       "  </tbody>\n",
       "</table>\n",
       "</div>"
      ],
      "text/plain": [
       "                     Número de casos  Fallecidos  \\\n",
       "Nombre departamento                                \n",
       "AMAZONAS                        3149         130   \n",
       "BARRANQUILLA                   45214        1921   \n",
       "CAQUETA                        13389         538   \n",
       "BOGOTA                        375315        9637   \n",
       "ATLANTICO                      32909        1601   \n",
       "CORDOBA                        28228        1842   \n",
       "STA MARTA D.E.                 13703         534   \n",
       "SANTANDER                      53314        2175   \n",
       "HUILA                          30100        1031   \n",
       "NORTE SANTANDER                28970        1480   \n",
       "QUINDIO                        17186         474   \n",
       "VALLE                         108058        3866   \n",
       "CESAR                          29781        1001   \n",
       "SUCRE                          16511         706   \n",
       "TOLIMA                         29782         988   \n",
       "CARTAGENA                      31297         699   \n",
       "ANTIOQUIA                     213928        4481   \n",
       "META                           28369         711   \n",
       "PUTUMAYO                        4978         238   \n",
       "RISARALDA                      23491         620   \n",
       "MAGDALENA                       6539         535   \n",
       "NARIÑO                         25542         947   \n",
       "CALDAS                         25168         579   \n",
       "SAN ANDRES                      2138          35   \n",
       "CUNDINAMARCA                   52544        1581   \n",
       "ARAUCA                          4077         131   \n",
       "BOYACA                         21693         538   \n",
       "GUAINIA                         1204          21   \n",
       "GUAVIARE                        1834          33   \n",
       "CASANARE                        6964         160   \n",
       "CHOCO                           4524         189   \n",
       "CAUCA                          15792         511   \n",
       "VAUPES                          1119          13   \n",
       "BOLIVAR                         7154         300   \n",
       "VICHADA                          919          12   \n",
       "GUAJIRA                        11923         491   \n",
       "\n",
       "                     Tasa de letalidad por cien enfermos  \\\n",
       "Nombre departamento                                        \n",
       "AMAZONAS                                            4.13   \n",
       "BARRANQUILLA                                        4.25   \n",
       "CAQUETA                                             4.02   \n",
       "BOGOTA                                              2.57   \n",
       "ATLANTICO                                           4.86   \n",
       "CORDOBA                                             6.53   \n",
       "STA MARTA D.E.                                      3.90   \n",
       "SANTANDER                                           4.08   \n",
       "HUILA                                               3.43   \n",
       "NORTE SANTANDER                                     5.11   \n",
       "QUINDIO                                             2.76   \n",
       "VALLE                                               3.58   \n",
       "CESAR                                               3.36   \n",
       "SUCRE                                               4.28   \n",
       "TOLIMA                                              3.32   \n",
       "CARTAGENA                                           2.23   \n",
       "ANTIOQUIA                                           2.09   \n",
       "META                                                2.51   \n",
       "PUTUMAYO                                            4.78   \n",
       "RISARALDA                                           2.64   \n",
       "MAGDALENA                                           8.18   \n",
       "NARIÑO                                              3.71   \n",
       "CALDAS                                              2.30   \n",
       "SAN ANDRES                                          1.64   \n",
       "CUNDINAMARCA                                        3.01   \n",
       "ARAUCA                                              3.21   \n",
       "BOYACA                                              2.48   \n",
       "GUAINIA                                             1.74   \n",
       "GUAVIARE                                            1.80   \n",
       "CASANARE                                            2.30   \n",
       "CHOCO                                               4.18   \n",
       "CAUCA                                               3.24   \n",
       "VAUPES                                              1.16   \n",
       "BOLIVAR                                             4.19   \n",
       "VICHADA                                             1.31   \n",
       "GUAJIRA                                             4.12   \n",
       "\n",
       "                     Tasa de mortalidad por millón de habitantes  \n",
       "Nombre departamento                                               \n",
       "AMAZONAS                                                 1645.15  \n",
       "BARRANQUILLA                                             1507.55  \n",
       "CAQUETA                                                  1310.53  \n",
       "BOGOTA                                                   1244.45  \n",
       "ATLANTICO                                                1105.76  \n",
       "CORDOBA                                                  1007.14  \n",
       "STA MARTA D.E.                                            991.44  \n",
       "SANTANDER                                                 953.57  \n",
       "HUILA                                                     918.39  \n",
       "NORTE SANTANDER                                           913.40  \n",
       "QUINDIO                                                   853.44  \n",
       "VALLE                                                     853.02  \n",
       "CESAR                                                     772.74  \n",
       "SUCRE                                                     743.74  \n",
       "TOLIMA                                                    737.31  \n",
       "CARTAGENA                                                 679.47  \n",
       "ANTIOQUIA                                                 671.02  \n",
       "META                                                      668.58  \n",
       "PUTUMAYO                                                  662.72  \n",
       "RISARALDA                                                 645.12  \n",
       "MAGDALENA                                                 602.20  \n",
       "NARIÑO                                                    581.84  \n",
       "CALDAS                                                    568.51  \n",
       "SAN ANDRES                                                549.52  \n",
       "CUNDINAMARCA                                              487.51  \n",
       "ARAUCA                                                    445.27  \n",
       "BOYACA                                                    432.92  \n",
       "GUAINIA                                                   414.72  \n",
       "GUAVIARE                                                  380.81  \n",
       "CASANARE                                                  367.65  \n",
       "CHOCO                                                     346.94  \n",
       "CAUCA                                                     342.51  \n",
       "VAUPES                                                    290.75  \n",
       "BOLIVAR                                                   260.36  \n",
       "VICHADA                                                   106.23  \n",
       "GUAJIRA                                                      NaN  "
      ]
     },
     "execution_count": 44,
     "metadata": {},
     "output_type": "execute_result"
    }
   ],
   "source": [
    "Tasas.round(2).sort_values('Tasa de mortalidad por millón de habitantes', ascending=False)"
   ]
  },
  {
   "cell_type": "markdown",
   "metadata": {
    "slideshow": {
     "slide_type": "slide"
    }
   },
   "source": [
    "### Comparativo Tasa de Mortalidad por millón de habitantes por departamentos"
   ]
  },
  {
   "cell_type": "markdown",
   "metadata": {
    "slideshow": {
     "slide_type": "skip"
    }
   },
   "source": [
    "#### Período del '2020 - 03 - 02' al '2020 - 11 - 08' "
   ]
  },
  {
   "cell_type": "markdown",
   "metadata": {
    "slideshow": {
     "slide_type": "skip"
    }
   },
   "source": [
    "fecha"
   ]
  },
  {
   "cell_type": "code",
   "execution_count": 45,
   "metadata": {
    "scrolled": true,
    "slideshow": {
     "slide_type": "subslide"
    }
   },
   "outputs": [
    {
     "data": {
      "text/plain": [
       "<matplotlib.axes._subplots.AxesSubplot at 0x11cdb4550>"
      ]
     },
     "execution_count": 45,
     "metadata": {},
     "output_type": "execute_result"
    },
    {
     "data": {
      "image/png": "[encoded data removed]",
      "text/plain": [
       "<Figure size 432x288 with 1 Axes>"
      ]
     },
     "metadata": {
      "needs_background": "light"
     },
     "output_type": "display_data"
    }
   ],
   "source": [
    "Tasas.loc[:,'Tasa de mortalidad por millón de habitantes'].sort_values(ascending=False).plot(kind='bar')"
   ]
  },
  {
   "cell_type": "code",
   "execution_count": 46,
   "metadata": {
    "slideshow": {
     "slide_type": "skip"
    }
   },
   "outputs": [
    {
     "name": "stdout",
     "output_type": "stream",
     "text": [
      "Ingrese los departamentos para los que requiere conocer la tasa.   Para terminar, digite 'F'   :CALDAS\n",
      "Ingrese los departamentos para los que requiere conocer la tasa.   Para terminar, digite 'F'   :QUINDIO\n",
      "Ingrese los departamentos para los que requiere conocer la tasa.   Para terminar, digite 'F'   :RISARALDA\n",
      "Ingrese los departamentos para los que requiere conocer la tasa.   Para terminar, digite 'F'   :ANTIOQUIA\n",
      "Ingrese los departamentos para los que requiere conocer la tasa.   Para terminar, digite 'F'   :VALLE\n",
      "Ingrese los departamentos para los que requiere conocer la tasa.   Para terminar, digite 'F'   :TOLIMA\n",
      "Ingrese los departamentos para los que requiere conocer la tasa.   Para terminar, digite 'F'   :BOGOTA\n",
      "Ingrese los departamentos para los que requiere conocer la tasa.   Para terminar, digite 'F'   :SANTANDER\n",
      "Ingrese los departamentos para los que requiere conocer la tasa.   Para terminar, digite 'F'   :CARTAGENA\n",
      "Ingrese los departamentos para los que requiere conocer la tasa.   Para terminar, digite 'F'   :BOYACA\n",
      "Ingrese los departamentos para los que requiere conocer la tasa.   Para terminar, digite 'F'   :BARRANQUILLA\n",
      "Ingrese los departamentos para los que requiere conocer la tasa.   Para terminar, digite 'F'   :AMAZONAS\n",
      "Ingrese los departamentos para los que requiere conocer la tasa.   Para terminar, digite 'F'   :F\n"
     ]
    }
   ],
   "source": [
    "departamentos = []\n",
    "dept = ''\n",
    "while dept != 'F' or dept != 'f':\n",
    "    dept = input(\"Ingrese los departamentos para los que requiere conocer la tasa.   Para terminar, digite 'F'   :\")\n",
    "    if dept == 'F' or dept == 'f':\n",
    "        break\n",
    "    else:\n",
    "        if Tasas.index.isin([dept]).any()==True:\n",
    "            departamentos.append(dept)\n",
    "        else:\n",
    "            print('No se encuentra el departamento.  Revise ortografía.  Para Distrito capitales, turísticos o especiales puede requerir D.C., D.E. o D.T. y C.')\n"
   ]
  },
  {
   "cell_type": "code",
   "execution_count": 47,
   "metadata": {
    "slideshow": {
     "slide_type": "skip"
    }
   },
   "outputs": [],
   "source": [
    "departamento = pd.concat([Tasas,habitantes], axis=1).loc[departamentos,:].round(2)\n",
    "cuadro_dptos = departamento"
   ]
  },
  {
   "cell_type": "markdown",
   "metadata": {
    "slideshow": {
     "slide_type": "slide"
    }
   },
   "source": [
    "### Tasas de letalidad y de mortalidad"
   ]
  },
  {
   "cell_type": "markdown",
   "metadata": {
    "slideshow": {
     "slide_type": "skip"
    }
   },
   "source": [
    "#### Período del '2020 - 03 - 02' al "
   ]
  },
  {
   "cell_type": "code",
   "execution_count": 48,
   "metadata": {
    "slideshow": {
     "slide_type": "skip"
    }
   },
   "outputs": [
    {
     "data": {
      "text/plain": [
       "Timestamp('2020-11-30 00:00:00')"
      ]
     },
     "execution_count": 48,
     "metadata": {},
     "output_type": "execute_result"
    }
   ],
   "source": [
    "fecha"
   ]
  },
  {
   "cell_type": "code",
   "execution_count": 49,
   "metadata": {
    "slideshow": {
     "slide_type": "skip"
    }
   },
   "outputs": [],
   "source": [
    "cuadro_dptos.rename(columns={'2020':'Población'}, inplace=True)"
   ]
  },
  {
   "cell_type": "code",
   "execution_count": 50,
   "metadata": {
    "slideshow": {
     "slide_type": "subslide"
    }
   },
   "outputs": [
    {
     "data": {
      "text/html": [
       "<div>\n",
       "<style scoped>\n",
       "    .dataframe tbody tr th:only-of-type {\n",
       "        vertical-align: middle;\n",
       "    }\n",
       "\n",
       "    .dataframe tbody tr th {\n",
       "        vertical-align: top;\n",
       "    }\n",
       "\n",
       "    .dataframe thead th {\n",
       "        text-align: right;\n",
       "    }\n",
       "</style>\n",
       "<table border=\"1\" class=\"dataframe\">\n",
       "  <thead>\n",
       "    <tr style=\"text-align: right;\">\n",
       "      <th></th>\n",
       "      <th>Número de casos</th>\n",
       "      <th>Fallecidos</th>\n",
       "      <th>Tasa de mortalidad por millón de habitantes</th>\n",
       "    </tr>\n",
       "  </thead>\n",
       "  <tbody>\n",
       "    <tr>\n",
       "      <th>AMAZONAS</th>\n",
       "      <td>3149.0</td>\n",
       "      <td>130.0</td>\n",
       "      <td>1645.15</td>\n",
       "    </tr>\n",
       "    <tr>\n",
       "      <th>BARRANQUILLA</th>\n",
       "      <td>45214.0</td>\n",
       "      <td>1921.0</td>\n",
       "      <td>1507.55</td>\n",
       "    </tr>\n",
       "    <tr>\n",
       "      <th>BOGOTA</th>\n",
       "      <td>375315.0</td>\n",
       "      <td>9637.0</td>\n",
       "      <td>1244.45</td>\n",
       "    </tr>\n",
       "    <tr>\n",
       "      <th>SANTANDER</th>\n",
       "      <td>53314.0</td>\n",
       "      <td>2175.0</td>\n",
       "      <td>953.57</td>\n",
       "    </tr>\n",
       "    <tr>\n",
       "      <th>QUINDIO</th>\n",
       "      <td>17186.0</td>\n",
       "      <td>474.0</td>\n",
       "      <td>853.44</td>\n",
       "    </tr>\n",
       "    <tr>\n",
       "      <th>VALLE</th>\n",
       "      <td>108058.0</td>\n",
       "      <td>3866.0</td>\n",
       "      <td>853.02</td>\n",
       "    </tr>\n",
       "    <tr>\n",
       "      <th>TOLIMA</th>\n",
       "      <td>29782.0</td>\n",
       "      <td>988.0</td>\n",
       "      <td>737.31</td>\n",
       "    </tr>\n",
       "    <tr>\n",
       "      <th>CARTAGENA</th>\n",
       "      <td>31297.0</td>\n",
       "      <td>699.0</td>\n",
       "      <td>679.47</td>\n",
       "    </tr>\n",
       "    <tr>\n",
       "      <th>ANTIOQUIA</th>\n",
       "      <td>213928.0</td>\n",
       "      <td>4481.0</td>\n",
       "      <td>671.02</td>\n",
       "    </tr>\n",
       "    <tr>\n",
       "      <th>RISARALDA</th>\n",
       "      <td>23491.0</td>\n",
       "      <td>620.0</td>\n",
       "      <td>645.12</td>\n",
       "    </tr>\n",
       "    <tr>\n",
       "      <th>CALDAS</th>\n",
       "      <td>25168.0</td>\n",
       "      <td>579.0</td>\n",
       "      <td>568.51</td>\n",
       "    </tr>\n",
       "    <tr>\n",
       "      <th>BOYACA</th>\n",
       "      <td>21693.0</td>\n",
       "      <td>538.0</td>\n",
       "      <td>432.92</td>\n",
       "    </tr>\n",
       "  </tbody>\n",
       "</table>\n",
       "</div>"
      ],
      "text/plain": [
       "              Número de casos  Fallecidos  \\\n",
       "AMAZONAS               3149.0       130.0   \n",
       "BARRANQUILLA          45214.0      1921.0   \n",
       "BOGOTA               375315.0      9637.0   \n",
       "SANTANDER             53314.0      2175.0   \n",
       "QUINDIO               17186.0       474.0   \n",
       "VALLE                108058.0      3866.0   \n",
       "TOLIMA                29782.0       988.0   \n",
       "CARTAGENA             31297.0       699.0   \n",
       "ANTIOQUIA            213928.0      4481.0   \n",
       "RISARALDA             23491.0       620.0   \n",
       "CALDAS                25168.0       579.0   \n",
       "BOYACA                21693.0       538.0   \n",
       "\n",
       "              Tasa de mortalidad por millón de habitantes  \n",
       "AMAZONAS                                          1645.15  \n",
       "BARRANQUILLA                                      1507.55  \n",
       "BOGOTA                                            1244.45  \n",
       "SANTANDER                                          953.57  \n",
       "QUINDIO                                            853.44  \n",
       "VALLE                                              853.02  \n",
       "TOLIMA                                             737.31  \n",
       "CARTAGENA                                          679.47  \n",
       "ANTIOQUIA                                          671.02  \n",
       "RISARALDA                                          645.12  \n",
       "CALDAS                                             568.51  \n",
       "BOYACA                                             432.92  "
      ]
     },
     "execution_count": 50,
     "metadata": {},
     "output_type": "execute_result"
    }
   ],
   "source": [
    "cuadro_dptos.sort_values('Tasa de mortalidad por millón de habitantes', ascending=False, inplace=True)\n",
    "cuadro_dptos[['Número de casos','Fallecidos','Tasa de mortalidad por millón de habitantes']]"
   ]
  },
  {
   "cell_type": "markdown",
   "metadata": {
    "slideshow": {
     "slide_type": "slide"
    }
   },
   "source": [
    "### Comparativo Tasa de Mortalidad por millón de habitantes por departamentos"
   ]
  },
  {
   "cell_type": "markdown",
   "metadata": {
    "slideshow": {
     "slide_type": "skip"
    }
   },
   "source": [
    "#### Período del '2020 - 03 - 02' al "
   ]
  },
  {
   "cell_type": "code",
   "execution_count": 51,
   "metadata": {
    "slideshow": {
     "slide_type": "skip"
    }
   },
   "outputs": [
    {
     "data": {
      "text/plain": [
       "Timestamp('2020-11-30 00:00:00')"
      ]
     },
     "execution_count": 51,
     "metadata": {},
     "output_type": "execute_result"
    }
   ],
   "source": [
    "fecha"
   ]
  },
  {
   "cell_type": "code",
   "execution_count": 52,
   "metadata": {
    "scrolled": true,
    "slideshow": {
     "slide_type": "subslide"
    }
   },
   "outputs": [
    {
     "data": {
      "text/plain": [
       "<matplotlib.axes._subplots.AxesSubplot at 0x11cec57f0>"
      ]
     },
     "execution_count": 52,
     "metadata": {},
     "output_type": "execute_result"
    },
    {
     "data": {
      "image/png": "[encoded data removed]",
      "text/plain": [
       "<Figure size 432x288 with 1 Axes>"
      ]
     },
     "metadata": {
      "needs_background": "light"
     },
     "output_type": "display_data"
    }
   ],
   "source": [
    "cuadro_dptos.loc[:,'Tasa de mortalidad por millón de habitantes'].sort_values(ascending=False).plot(kind='bar')"
   ]
  },
  {
   "cell_type": "markdown",
   "metadata": {
    "slideshow": {
     "slide_type": "slide"
    }
   },
   "source": [
    "###  Ejercicio para establecer el criterio de positividad de la PCR y las pruebas rápidas ante COVID-19:\n",
    "\n",
    "\n",
    "\n",
    "> Prerrequisitos:  \n",
    "- Alto impacto  <== Alta prevalencia, morbilidad y mortalidad.\n",
    "\n",
    "### Parcial.   Como patología viral y por sus mecanismos de transmisión tiene alta prevalencia, no en vano es pandémica.  La morbilidad es muy baja, teniendo una alta proporción de pacientes asintomáticos o con sintomatología leve o moderada.  La mortalidad por grupos etarios varía, respetando a población menor a los 44 años, afectando levemente a población entre los 45 y 64 años, moderadamente a las personas mayores de 65 años.  Al compararlo con otras patologías respiratorias, su comportamiento está dentro de los estándares en cuanto a mortalidad.  Está pendiente por definir si quienes fallecieron lo hicieron por o con CoV-2."
   ]
  },
  {
   "cell_type": "markdown",
   "metadata": {
    "slideshow": {
     "slide_type": "slide"
    }
   },
   "source": [
    "###  Ejercicio para establecer el criterio de positividad de la PCR y las pruebas rápidas ante COVID-19:\n",
    "\n",
    "> Prerrequisitos:  \n",
    "- Tratamiento disponible.\n",
    "\n",
    "\n",
    "### Hasta la fecha, el tratamiento es el convencional para neumonías virales.  Las recomendaciones que han surgido, salen de estudios observacionales que rápidamente han sido desvirtuados."
   ]
  },
  {
   "cell_type": "markdown",
   "metadata": {
    "slideshow": {
     "slide_type": "slide"
    }
   },
   "source": [
    "###  Ejercicio para establecer el criterio de positividad de la PCR y las pruebas rápidas ante COVID-19:\n",
    "\n",
    "> Gold Standard\n",
    "\n",
    "### Estudio \"Gold Standard\" ==>  PCR SarsCoV-2.  Hay discusión sobre su especificidad."
   ]
  },
  {
   "cell_type": "markdown",
   "metadata": {
    "slideshow": {
     "slide_type": "slide"
    }
   },
   "source": [
    "###  Ejercicio para establecer el criterio de positividad de la PCR y las pruebas rápidas ante COVID-19:\n",
    "\n",
    "> Modalidades de testeo o tamizaje con *buenas características*  \n",
    "- Sensibilidad.    \n",
    "- Especificidad.\n",
    "\n",
    "### Sí para la PRUEBA MOLECULAR.  NO para las pruebas rápidas.  \n",
    "### No existen para las Pruebas Rápidas estudios clínicos aleatorizados doble ciego, cuya ***validez interna haya sido establecida  por el análisis crítico adecuado.  En consecuencia no se debieron generalizar.***"
   ]
  },
  {
   "cell_type": "markdown",
   "metadata": {
    "slideshow": {
     "slide_type": "slide"
    }
   },
   "source": [
    "###  Ejercicio para establecer el criterio de positividad de la PCR y las pruebas rápidas ante COVID-19:\n",
    "\n",
    "> Factibilidad del testeo o tamizaje.\n",
    "\n",
    "- Libre de molestia significativa !\n",
    "\n",
    "### PCR SarsCoV-2 es molesta, especialmente para la población infantil.   "
   ]
  },
  {
   "cell_type": "markdown",
   "metadata": {
    "slideshow": {
     "slide_type": "slide"
    }
   },
   "source": [
    "###  Ejercicio para establecer el criterio de positividad de la PCR y las pruebas rápidas ante COVID-19:\n",
    "\n",
    "- Eficiente y económico.  \n",
    "\n",
    "### No.  Para la PCR SarsCoV-2, la precisión del test está alterada por los criterios de indicación vigentes.  El porcentaje de negativos es abrumador con respecto a los escasos positivos.\n",
    "### Las pruebas rápidas tienen la misma precisión que una moneda lanzada al aire (cara o sello)."
   ]
  },
  {
   "cell_type": "markdown",
   "metadata": {
    "slideshow": {
     "slide_type": "slide"
    }
   },
   "source": [
    "###  Ejercicio para establecer el criterio de positividad de la PCR y las pruebas rápidas ante COVID-19:\n",
    "\n",
    "- Que la persona acepte el seguimiento y que este sea posible.\n",
    "\n",
    "### Aunque entre las autoridades hay quienes semanalmente se hacen la PCR SarsCoV-2, esto no es viable en la población.  El tiempo de procesamiento ha estado siempre en nuestra zona en un promedio de 7 días."
   ]
  },
  {
   "cell_type": "markdown",
   "metadata": {
    "slideshow": {
     "slide_type": "slide"
    }
   },
   "source": [
    "###  Ejercicio para establecer el criterio de positividad de la PCR y las pruebas rápidas ante COVID-19:\n",
    "\n",
    "- Alta especidad.\n",
    "\n",
    "### Sí para la PCR SarsCoV-2.  No para las pruebas rápidas.\n",
    "\n"
   ]
  },
  {
   "cell_type": "markdown",
   "metadata": {
    "slideshow": {
     "slide_type": "slide"
    }
   },
   "source": [
    "###  Ejercicio para establecer el criterio de positividad de la PCR y las pruebas rápidas ante COVID-19:\n",
    "\n",
    "- El testeo o tamizaje debe derivar en la disminución efectiva de efectos adversos.\n",
    "\n",
    "### No.  El aislamiento preventivo de pacientes asintomáticos y el correspondiente cerco epidemiológico, genera más efectos adversos en la población, sin afectar positivamente las tasas de mortalidad por grupo etario."
   ]
  },
  {
   "cell_type": "markdown",
   "metadata": {
    "slideshow": {
     "slide_type": "slide"
    }
   },
   "source": [
    "CONCLUSIÓN frente a las estrategias implementadas ante el COVID-19, encontramos:   \n",
    "\n",
    "1.  SESGOS SIEMPRE PRESENTES:\n",
    "\n",
    "Se ha cometido sistemáticamente el sesgo de sobrediagnóstico:\n",
    "-  Desperdicio de recursos que debieran utilizarse en la atención de patologías de mayor tasa de mortalidad.\n",
    "-  Se promueven \"cuarentenas\" y \"aislamiento preventivos\" que tienen graves efectos físicos y psíquicos en la población, muestra de ello es el incremento de violencia intrafamiliar y pacientes con patologías crónicas en mayor fase de descompensación.\n",
    "\n",
    "Se han cometido sistemáticamente los sesgos de sobrevivencia (\"lead time bias\"), de severidad (\"length bias sampling\") y el sesgo del voluntario."
   ]
  },
  {
   "cell_type": "markdown",
   "metadata": {
    "slideshow": {
     "slide_type": "slide"
    }
   },
   "source": [
    "2.  Se ha actuado sin los preceptos de la medicina basada en la evidencia.\n",
    "\n",
    "3.  Las herramientas para modelar escenarios utilizadas por las autoridades competentes han sido anacrónicas, sin apropiarse de algoritmos adecuados, lo que las han llevado a postular \"picos\", continuamente aplazados ante las múltiples fallas de su predicción, y a adoptar pésimas estrategias.  Es cuando el \"remedio\" ha sido peor que la \"enfermedad\"."
   ]
  },
  {
   "cell_type": "markdown",
   "metadata": {
    "slideshow": {
     "slide_type": "slide"
    }
   },
   "source": [
    "4.  Pacientes con comorbilidades por patologías crónicas descompensadas, con síntomas respiratorios propios de estas, son diagnosticados como sospechosos de COVID19 e internados y expuestos a áreas COVID19 en las instituciones prestadoras de salud, con el riesgo de infección cruzada posterior y muerte CON COVID.  NO POR COVID.\n",
    "\n",
    "5.  No es de extrañarse que rápidamente aparecieran en escena en nuestro país, mercaderes de la muerte, que han aprovechado la situación para promover sus servicios o negocios, enriqueciéndose al propagar el temor y promover acciones injustificadas como las cuarentenas, aislamientos de toda la población, testeos sesgados y no apropiados, tratamientos sin evidencia científica.\n",
    "\n"
   ]
  },
  {
   "cell_type": "markdown",
   "metadata": {
    "slideshow": {
     "slide_type": "slide"
    }
   },
   "source": [
    "6. La lucha por el poder no ha desaprovechado el temor de la población, con \"politiqueros\" postulándose como defensores y cuidadores de su salud y su vida, presentándose una carrera para ser reconocido ahora y en el futuro, sustentadas en la creación de un pánico infundado, en las recomendaciones sin justificación y en la pauperización de la población al engendrar una debacle económica sin precedentes y sin sustento científico alguno.   Quienes ostentan el poder, dedican su tiempo en los medios a mostrarse como adalides en la lucha contra el COVID-19.\n",
    "\n",
    "7.  Las estrategias implementadas no han salvado una sola vida que no fuera a salverse luego del contagio con el virus, pero si nos ha devuelto dos décadas en los otros indicadores de salud y bienestar.    Las deudas adquiridas sin justificación alguna, las pagaremos en las próximas décadas y ni siquiera nuestros hijos estarán exentos de asumirlas.\n",
    "\n"
   ]
  },
  {
   "cell_type": "markdown",
   "metadata": {
    "slideshow": {
     "slide_type": "slide"
    }
   },
   "source": [
    "8.  \"Los expertos\" o fueron presas del pánico y olvidaron su formación y se dedicaron a estar atentos a los medios y a copiar estrategias de países donde se evidenciaba que estas no tenían impacto alguno, o se adaptaron al potencial económico propio que esta situación les brindó.\n",
    "\n",
    "9.  Conclusión final, ante el fracaso de nuestro expertos y de sus escenarios, la próxima estrategia para enfrentar la próxima pandemia no debe ser manejada por ellos, dejándosela a profesionales y especialistas de otras áreas que cuenten o construyan herramientas sustentadas en los principios de inteligencia artificial, principios que permitirán tomar las mejores decisiones sustentadas en datos y hechos, no en pánico o en intereses personales."
   ]
  },
  {
   "cell_type": "markdown",
   "metadata": {
    "slideshow": {
     "slide_type": "slide"
    }
   },
   "source": [
    "# Información OMS por país\n",
    "(hasta tres días de atraso)"
   ]
  },
  {
   "cell_type": "code",
   "execution_count": 221,
   "metadata": {
    "slideshow": {
     "slide_type": "subslide"
    }
   },
   "outputs": [
    {
     "data": {
      "text/html": [
       "<div>\n",
       "<style scoped>\n",
       "    .dataframe tbody tr th:only-of-type {\n",
       "        vertical-align: middle;\n",
       "    }\n",
       "\n",
       "    .dataframe tbody tr th {\n",
       "        vertical-align: top;\n",
       "    }\n",
       "\n",
       "    .dataframe thead th {\n",
       "        text-align: right;\n",
       "    }\n",
       "</style>\n",
       "<table border=\"1\" class=\"dataframe\">\n",
       "  <thead>\n",
       "    <tr style=\"text-align: right;\">\n",
       "      <th></th>\n",
       "      <th>Unnamed: 0</th>\n",
       "      <th>País</th>\n",
       "      <th>Total_Casos</th>\n",
       "      <th>Fallecidos</th>\n",
       "      <th>Spanish</th>\n",
       "    </tr>\n",
       "  </thead>\n",
       "  <tbody>\n",
       "    <tr>\n",
       "      <th>43</th>\n",
       "      <td>43</td>\n",
       "      <td>Colombia</td>\n",
       "      <td>1149063</td>\n",
       "      <td>32974</td>\n",
       "      <td>Colombia</td>\n",
       "    </tr>\n",
       "  </tbody>\n",
       "</table>\n",
       "</div>"
      ],
      "text/plain": [
       "    Unnamed: 0      País  Total_Casos  Fallecidos   Spanish\n",
       "43          43  Colombia      1149063       32974  Colombia"
      ]
     },
     "execution_count": 221,
     "metadata": {},
     "output_type": "execute_result"
    }
   ],
   "source": [
    "mundo= pd.read_csv('CovidMundoT.csv')\n",
    "mundo.loc[mundo['País']=='Colombia']"
   ]
  },
  {
   "cell_type": "code",
   "execution_count": 222,
   "metadata": {
    "slideshow": {
     "slide_type": "skip"
    }
   },
   "outputs": [],
   "source": [
    "tasasMundiales = pd.read_csv('Tasas_mundiales.csv')"
   ]
  },
  {
   "cell_type": "markdown",
   "metadata": {
    "slideshow": {
     "slide_type": "slide"
    }
   },
   "source": [
    "# Mundo:  Tasas de mortalidad y letalidad por CoV-2"
   ]
  },
  {
   "cell_type": "code",
   "execution_count": 223,
   "metadata": {
    "slideshow": {
     "slide_type": "subslide"
    }
   },
   "outputs": [
    {
     "data": {
      "text/html": [
       "<div>\n",
       "<style scoped>\n",
       "    .dataframe tbody tr th:only-of-type {\n",
       "        vertical-align: middle;\n",
       "    }\n",
       "\n",
       "    .dataframe tbody tr th {\n",
       "        vertical-align: top;\n",
       "    }\n",
       "\n",
       "    .dataframe thead th {\n",
       "        text-align: right;\n",
       "    }\n",
       "</style>\n",
       "<table border=\"1\" class=\"dataframe\">\n",
       "  <thead>\n",
       "    <tr style=\"text-align: right;\">\n",
       "      <th></th>\n",
       "      <th>País</th>\n",
       "      <th>Total_Casos</th>\n",
       "      <th>Fallecidos</th>\n",
       "      <th>Población</th>\n",
       "      <th>Tasa de mortalidad por millón de habitantes</th>\n",
       "      <th>Tasa de letalidad por cien habitantes</th>\n",
       "    </tr>\n",
       "  </thead>\n",
       "  <tbody>\n",
       "    <tr>\n",
       "      <th>71</th>\n",
       "      <td>San Marino</td>\n",
       "      <td>1832</td>\n",
       "      <td>48</td>\n",
       "      <td>34000</td>\n",
       "      <td>1411.76</td>\n",
       "      <td>2.62</td>\n",
       "    </tr>\n",
       "    <tr>\n",
       "      <th>1</th>\n",
       "      <td>Andorra</td>\n",
       "      <td>7127</td>\n",
       "      <td>78</td>\n",
       "      <td>77000</td>\n",
       "      <td>1012.99</td>\n",
       "      <td>1.09</td>\n",
       "    </tr>\n",
       "    <tr>\n",
       "      <th>3</th>\n",
       "      <td>Argentina</td>\n",
       "      <td>1469919</td>\n",
       "      <td>40009</td>\n",
       "      <td>45196000</td>\n",
       "      <td>885.23</td>\n",
       "      <td>2.72</td>\n",
       "    </tr>\n",
       "    <tr>\n",
       "      <th>56</th>\n",
       "      <td>Montenegro</td>\n",
       "      <td>39269</td>\n",
       "      <td>549</td>\n",
       "      <td>628000</td>\n",
       "      <td>874.20</td>\n",
       "      <td>1.40</td>\n",
       "    </tr>\n",
       "    <tr>\n",
       "      <th>54</th>\n",
       "      <td>Mexico</td>\n",
       "      <td>1193255</td>\n",
       "      <td>110874</td>\n",
       "      <td>128933000</td>\n",
       "      <td>859.94</td>\n",
       "      <td>9.29</td>\n",
       "    </tr>\n",
       "    <tr>\n",
       "      <th>18</th>\n",
       "      <td>Chile</td>\n",
       "      <td>564778</td>\n",
       "      <td>15690</td>\n",
       "      <td>19116000</td>\n",
       "      <td>820.78</td>\n",
       "      <td>2.78</td>\n",
       "    </tr>\n",
       "    <tr>\n",
       "      <th>4</th>\n",
       "      <td>Armenia</td>\n",
       "      <td>144066</td>\n",
       "      <td>2393</td>\n",
       "      <td>2963000</td>\n",
       "      <td>807.63</td>\n",
       "      <td>1.66</td>\n",
       "    </tr>\n",
       "    <tr>\n",
       "      <th>26</th>\n",
       "      <td>Ecuador</td>\n",
       "      <td>199228</td>\n",
       "      <td>13814</td>\n",
       "      <td>17643000</td>\n",
       "      <td>782.97</td>\n",
       "      <td>6.93</td>\n",
       "    </tr>\n",
       "    <tr>\n",
       "      <th>20</th>\n",
       "      <td>Colombia</td>\n",
       "      <td>1384610</td>\n",
       "      <td>38158</td>\n",
       "      <td>50883000</td>\n",
       "      <td>749.92</td>\n",
       "      <td>2.76</td>\n",
       "    </tr>\n",
       "    <tr>\n",
       "      <th>13</th>\n",
       "      <td>Bulgaria</td>\n",
       "      <td>168165</td>\n",
       "      <td>5156</td>\n",
       "      <td>6948000</td>\n",
       "      <td>742.08</td>\n",
       "      <td>3.07</td>\n",
       "    </tr>\n",
       "    <tr>\n",
       "      <th>35</th>\n",
       "      <td>Guam</td>\n",
       "      <td>6902</td>\n",
       "      <td>113</td>\n",
       "      <td>169000</td>\n",
       "      <td>668.64</td>\n",
       "      <td>1.64</td>\n",
       "    </tr>\n",
       "    <tr>\n",
       "      <th>68</th>\n",
       "      <td>Portugal</td>\n",
       "      <td>325071</td>\n",
       "      <td>5041</td>\n",
       "      <td>10197000</td>\n",
       "      <td>494.36</td>\n",
       "      <td>1.55</td>\n",
       "    </tr>\n",
       "    <tr>\n",
       "      <th>47</th>\n",
       "      <td>Liechtenstein</td>\n",
       "      <td>1447</td>\n",
       "      <td>17</td>\n",
       "      <td>38000</td>\n",
       "      <td>447.37</td>\n",
       "      <td>1.17</td>\n",
       "    </tr>\n",
       "    <tr>\n",
       "      <th>7</th>\n",
       "      <td>Austria</td>\n",
       "      <td>305688</td>\n",
       "      <td>3907</td>\n",
       "      <td>9006000</td>\n",
       "      <td>433.82</td>\n",
       "      <td>1.28</td>\n",
       "    </tr>\n",
       "    <tr>\n",
       "      <th>69</th>\n",
       "      <td>Puerto Rico</td>\n",
       "      <td>58962</td>\n",
       "      <td>1219</td>\n",
       "      <td>2861000</td>\n",
       "      <td>426.07</td>\n",
       "      <td>2.07</td>\n",
       "    </tr>\n",
       "    <tr>\n",
       "      <th>5</th>\n",
       "      <td>Aruba</td>\n",
       "      <td>4984</td>\n",
       "      <td>45</td>\n",
       "      <td>107000</td>\n",
       "      <td>420.56</td>\n",
       "      <td>0.90</td>\n",
       "    </tr>\n",
       "    <tr>\n",
       "      <th>8</th>\n",
       "      <td>Bahamas</td>\n",
       "      <td>7580</td>\n",
       "      <td>163</td>\n",
       "      <td>393000</td>\n",
       "      <td>414.76</td>\n",
       "      <td>2.15</td>\n",
       "    </tr>\n",
       "    <tr>\n",
       "      <th>32</th>\n",
       "      <td>Georgia</td>\n",
       "      <td>174383</td>\n",
       "      <td>1614</td>\n",
       "      <td>3989000</td>\n",
       "      <td>404.61</td>\n",
       "      <td>0.93</td>\n",
       "    </tr>\n",
       "    <tr>\n",
       "      <th>22</th>\n",
       "      <td>Costa Rica</td>\n",
       "      <td>147430</td>\n",
       "      <td>1846</td>\n",
       "      <td>5094000</td>\n",
       "      <td>362.39</td>\n",
       "      <td>1.25</td>\n",
       "    </tr>\n",
       "    <tr>\n",
       "      <th>51</th>\n",
       "      <td>Malta</td>\n",
       "      <td>10699</td>\n",
       "      <td>157</td>\n",
       "      <td>442000</td>\n",
       "      <td>355.20</td>\n",
       "      <td>1.47</td>\n",
       "    </tr>\n",
       "    <tr>\n",
       "      <th>42</th>\n",
       "      <td>Israel</td>\n",
       "      <td>347144</td>\n",
       "      <td>2929</td>\n",
       "      <td>8656000</td>\n",
       "      <td>338.38</td>\n",
       "      <td>0.84</td>\n",
       "    </tr>\n",
       "    <tr>\n",
       "      <th>0</th>\n",
       "      <td>Albania</td>\n",
       "      <td>44436</td>\n",
       "      <td>936</td>\n",
       "      <td>2878000</td>\n",
       "      <td>325.23</td>\n",
       "      <td>2.11</td>\n",
       "    </tr>\n",
       "    <tr>\n",
       "      <th>39</th>\n",
       "      <td>Honduras</td>\n",
       "      <td>112175</td>\n",
       "      <td>2952</td>\n",
       "      <td>9905000</td>\n",
       "      <td>298.03</td>\n",
       "      <td>2.63</td>\n",
       "    </tr>\n",
       "    <tr>\n",
       "      <th>67</th>\n",
       "      <td>Paraguay</td>\n",
       "      <td>89421</td>\n",
       "      <td>1887</td>\n",
       "      <td>7133000</td>\n",
       "      <td>264.55</td>\n",
       "      <td>2.11</td>\n",
       "    </tr>\n",
       "    <tr>\n",
       "      <th>36</th>\n",
       "      <td>Guatemala</td>\n",
       "      <td>127127</td>\n",
       "      <td>4311</td>\n",
       "      <td>17916000</td>\n",
       "      <td>240.62</td>\n",
       "      <td>3.39</td>\n",
       "    </tr>\n",
       "    <tr>\n",
       "      <th>73</th>\n",
       "      <td>Serbia</td>\n",
       "      <td>234027</td>\n",
       "      <td>2062</td>\n",
       "      <td>8737000</td>\n",
       "      <td>236.01</td>\n",
       "      <td>0.88</td>\n",
       "    </tr>\n",
       "    <tr>\n",
       "      <th>45</th>\n",
       "      <td>Kuwait</td>\n",
       "      <td>145204</td>\n",
       "      <td>905</td>\n",
       "      <td>4271000</td>\n",
       "      <td>211.89</td>\n",
       "      <td>0.62</td>\n",
       "    </tr>\n",
       "    <tr>\n",
       "      <th>57</th>\n",
       "      <td>Montserrat</td>\n",
       "      <td>13</td>\n",
       "      <td>1</td>\n",
       "      <td>5000</td>\n",
       "      <td>200.00</td>\n",
       "      <td>7.69</td>\n",
       "    </tr>\n",
       "    <tr>\n",
       "      <th>16</th>\n",
       "      <td>Cabo Verde</td>\n",
       "      <td>10626</td>\n",
       "      <td>105</td>\n",
       "      <td>556000</td>\n",
       "      <td>188.85</td>\n",
       "      <td>0.99</td>\n",
       "    </tr>\n",
       "    <tr>\n",
       "      <th>27</th>\n",
       "      <td>El Salvador</td>\n",
       "      <td>40741</td>\n",
       "      <td>1174</td>\n",
       "      <td>6486000</td>\n",
       "      <td>181.01</td>\n",
       "      <td>2.88</td>\n",
       "    </tr>\n",
       "    <tr>\n",
       "      <th>53</th>\n",
       "      <td>Mayotte</td>\n",
       "      <td>5181</td>\n",
       "      <td>49</td>\n",
       "      <td>273000</td>\n",
       "      <td>179.49</td>\n",
       "      <td>0.95</td>\n",
       "    </tr>\n",
       "    <tr>\n",
       "      <th>34</th>\n",
       "      <td>Gibraltar</td>\n",
       "      <td>1055</td>\n",
       "      <td>5</td>\n",
       "      <td>34000</td>\n",
       "      <td>147.06</td>\n",
       "      <td>0.47</td>\n",
       "    </tr>\n",
       "    <tr>\n",
       "      <th>30</th>\n",
       "      <td>Eswatini</td>\n",
       "      <td>6563</td>\n",
       "      <td>124</td>\n",
       "      <td>1160000</td>\n",
       "      <td>106.90</td>\n",
       "      <td>1.89</td>\n",
       "    </tr>\n",
       "    <tr>\n",
       "      <th>29</th>\n",
       "      <td>Estonia</td>\n",
       "      <td>15510</td>\n",
       "      <td>137</td>\n",
       "      <td>1327000</td>\n",
       "      <td>103.24</td>\n",
       "      <td>0.88</td>\n",
       "    </tr>\n",
       "    <tr>\n",
       "      <th>40</th>\n",
       "      <td>India</td>\n",
       "      <td>9767371</td>\n",
       "      <td>141772</td>\n",
       "      <td>1380004000</td>\n",
       "      <td>102.73</td>\n",
       "      <td>1.45</td>\n",
       "    </tr>\n",
       "    <tr>\n",
       "      <th>43</th>\n",
       "      <td>Jamaica</td>\n",
       "      <td>11369</td>\n",
       "      <td>266</td>\n",
       "      <td>2961000</td>\n",
       "      <td>89.83</td>\n",
       "      <td>2.34</td>\n",
       "    </tr>\n",
       "    <tr>\n",
       "      <th>41</th>\n",
       "      <td>Indonesia</td>\n",
       "      <td>592900</td>\n",
       "      <td>18171</td>\n",
       "      <td>273524000</td>\n",
       "      <td>66.43</td>\n",
       "      <td>3.06</td>\n",
       "    </tr>\n",
       "    <tr>\n",
       "      <th>24</th>\n",
       "      <td>Djibouti</td>\n",
       "      <td>5717</td>\n",
       "      <td>61</td>\n",
       "      <td>988000</td>\n",
       "      <td>61.74</td>\n",
       "      <td>1.07</td>\n",
       "    </tr>\n",
       "    <tr>\n",
       "      <th>60</th>\n",
       "      <td>Namibia</td>\n",
       "      <td>15298</td>\n",
       "      <td>154</td>\n",
       "      <td>2541000</td>\n",
       "      <td>60.61</td>\n",
       "      <td>1.01</td>\n",
       "    </tr>\n",
       "    <tr>\n",
       "      <th>62</th>\n",
       "      <td>Nepal</td>\n",
       "      <td>244433</td>\n",
       "      <td>1651</td>\n",
       "      <td>29137000</td>\n",
       "      <td>56.66</td>\n",
       "      <td>0.68</td>\n",
       "    </tr>\n",
       "    <tr>\n",
       "      <th>31</th>\n",
       "      <td>Gambia</td>\n",
       "      <td>3776</td>\n",
       "      <td>123</td>\n",
       "      <td>2417000</td>\n",
       "      <td>50.89</td>\n",
       "      <td>3.26</td>\n",
       "    </tr>\n",
       "    <tr>\n",
       "      <th>9</th>\n",
       "      <td>Bangladesh</td>\n",
       "      <td>484104</td>\n",
       "      <td>6930</td>\n",
       "      <td>164689000</td>\n",
       "      <td>42.08</td>\n",
       "      <td>1.43</td>\n",
       "    </tr>\n",
       "    <tr>\n",
       "      <th>52</th>\n",
       "      <td>Mauritania</td>\n",
       "      <td>9516</td>\n",
       "      <td>188</td>\n",
       "      <td>4650000</td>\n",
       "      <td>40.43</td>\n",
       "      <td>1.98</td>\n",
       "    </tr>\n",
       "    <tr>\n",
       "      <th>59</th>\n",
       "      <td>Myanmar</td>\n",
       "      <td>101739</td>\n",
       "      <td>2151</td>\n",
       "      <td>54410000</td>\n",
       "      <td>39.53</td>\n",
       "      <td>2.11</td>\n",
       "    </tr>\n",
       "    <tr>\n",
       "      <th>6</th>\n",
       "      <td>Australia</td>\n",
       "      <td>27993</td>\n",
       "      <td>908</td>\n",
       "      <td>25500000</td>\n",
       "      <td>35.61</td>\n",
       "      <td>3.24</td>\n",
       "    </tr>\n",
       "    <tr>\n",
       "      <th>82</th>\n",
       "      <td>Uruguay</td>\n",
       "      <td>7806</td>\n",
       "      <td>86</td>\n",
       "      <td>3474000</td>\n",
       "      <td>24.76</td>\n",
       "      <td>1.10</td>\n",
       "    </tr>\n",
       "    <tr>\n",
       "      <th>63</th>\n",
       "      <td>Nicaragua</td>\n",
       "      <td>4709</td>\n",
       "      <td>162</td>\n",
       "      <td>6625000</td>\n",
       "      <td>24.45</td>\n",
       "      <td>3.44</td>\n",
       "    </tr>\n",
       "    <tr>\n",
       "      <th>10</th>\n",
       "      <td>Barbados</td>\n",
       "      <td>290</td>\n",
       "      <td>7</td>\n",
       "      <td>287000</td>\n",
       "      <td>24.39</td>\n",
       "      <td>2.41</td>\n",
       "    </tr>\n",
       "    <tr>\n",
       "      <th>38</th>\n",
       "      <td>Guinea-Bissau</td>\n",
       "      <td>2444</td>\n",
       "      <td>44</td>\n",
       "      <td>1968000</td>\n",
       "      <td>22.36</td>\n",
       "      <td>1.80</td>\n",
       "    </tr>\n",
       "    <tr>\n",
       "      <th>84</th>\n",
       "      <td>Yemen</td>\n",
       "      <td>2083</td>\n",
       "      <td>607</td>\n",
       "      <td>29826000</td>\n",
       "      <td>20.35</td>\n",
       "      <td>29.14</td>\n",
       "    </tr>\n",
       "  </tbody>\n",
       "</table>\n",
       "</div>"
      ],
      "text/plain": [
       "             País  Total_Casos  Fallecidos   Población  \\\n",
       "71     San Marino         1832          48       34000   \n",
       "1         Andorra         7127          78       77000   \n",
       "3       Argentina      1469919       40009    45196000   \n",
       "56     Montenegro        39269         549      628000   \n",
       "54         Mexico      1193255      110874   128933000   \n",
       "18          Chile       564778       15690    19116000   \n",
       "4         Armenia       144066        2393     2963000   \n",
       "26        Ecuador       199228       13814    17643000   \n",
       "20       Colombia      1384610       38158    50883000   \n",
       "13       Bulgaria       168165        5156     6948000   \n",
       "35           Guam         6902         113      169000   \n",
       "68       Portugal       325071        5041    10197000   \n",
       "47  Liechtenstein         1447          17       38000   \n",
       "7         Austria       305688        3907     9006000   \n",
       "69    Puerto Rico        58962        1219     2861000   \n",
       "5           Aruba         4984          45      107000   \n",
       "8         Bahamas         7580         163      393000   \n",
       "32        Georgia       174383        1614     3989000   \n",
       "22     Costa Rica       147430        1846     5094000   \n",
       "51          Malta        10699         157      442000   \n",
       "42         Israel       347144        2929     8656000   \n",
       "0         Albania        44436         936     2878000   \n",
       "39       Honduras       112175        2952     9905000   \n",
       "67       Paraguay        89421        1887     7133000   \n",
       "36      Guatemala       127127        4311    17916000   \n",
       "73         Serbia       234027        2062     8737000   \n",
       "45         Kuwait       145204         905     4271000   \n",
       "57     Montserrat           13           1        5000   \n",
       "16     Cabo Verde        10626         105      556000   \n",
       "27    El Salvador        40741        1174     6486000   \n",
       "53        Mayotte         5181          49      273000   \n",
       "34      Gibraltar         1055           5       34000   \n",
       "30       Eswatini         6563         124     1160000   \n",
       "29        Estonia        15510         137     1327000   \n",
       "40          India      9767371      141772  1380004000   \n",
       "43        Jamaica        11369         266     2961000   \n",
       "41      Indonesia       592900       18171   273524000   \n",
       "24       Djibouti         5717          61      988000   \n",
       "60        Namibia        15298         154     2541000   \n",
       "62          Nepal       244433        1651    29137000   \n",
       "31         Gambia         3776         123     2417000   \n",
       "9      Bangladesh       484104        6930   164689000   \n",
       "52     Mauritania         9516         188     4650000   \n",
       "59        Myanmar       101739        2151    54410000   \n",
       "6       Australia        27993         908    25500000   \n",
       "82        Uruguay         7806          86     3474000   \n",
       "63      Nicaragua         4709         162     6625000   \n",
       "10       Barbados          290           7      287000   \n",
       "38  Guinea-Bissau         2444          44     1968000   \n",
       "84          Yemen         2083         607    29826000   \n",
       "\n",
       "    Tasa de mortalidad por millón de habitantes  \\\n",
       "71                                      1411.76   \n",
       "1                                       1012.99   \n",
       "3                                        885.23   \n",
       "56                                       874.20   \n",
       "54                                       859.94   \n",
       "18                                       820.78   \n",
       "4                                        807.63   \n",
       "26                                       782.97   \n",
       "20                                       749.92   \n",
       "13                                       742.08   \n",
       "35                                       668.64   \n",
       "68                                       494.36   \n",
       "47                                       447.37   \n",
       "7                                        433.82   \n",
       "69                                       426.07   \n",
       "5                                        420.56   \n",
       "8                                        414.76   \n",
       "32                                       404.61   \n",
       "22                                       362.39   \n",
       "51                                       355.20   \n",
       "42                                       338.38   \n",
       "0                                        325.23   \n",
       "39                                       298.03   \n",
       "67                                       264.55   \n",
       "36                                       240.62   \n",
       "73                                       236.01   \n",
       "45                                       211.89   \n",
       "57                                       200.00   \n",
       "16                                       188.85   \n",
       "27                                       181.01   \n",
       "53                                       179.49   \n",
       "34                                       147.06   \n",
       "30                                       106.90   \n",
       "29                                       103.24   \n",
       "40                                       102.73   \n",
       "43                                        89.83   \n",
       "41                                        66.43   \n",
       "24                                        61.74   \n",
       "60                                        60.61   \n",
       "62                                        56.66   \n",
       "31                                        50.89   \n",
       "9                                         42.08   \n",
       "52                                        40.43   \n",
       "59                                        39.53   \n",
       "6                                         35.61   \n",
       "82                                        24.76   \n",
       "63                                        24.45   \n",
       "10                                        24.39   \n",
       "38                                        22.36   \n",
       "84                                        20.35   \n",
       "\n",
       "    Tasa de letalidad por cien habitantes  \n",
       "71                                   2.62  \n",
       "1                                    1.09  \n",
       "3                                    2.72  \n",
       "56                                   1.40  \n",
       "54                                   9.29  \n",
       "18                                   2.78  \n",
       "4                                    1.66  \n",
       "26                                   6.93  \n",
       "20                                   2.76  \n",
       "13                                   3.07  \n",
       "35                                   1.64  \n",
       "68                                   1.55  \n",
       "47                                   1.17  \n",
       "7                                    1.28  \n",
       "69                                   2.07  \n",
       "5                                    0.90  \n",
       "8                                    2.15  \n",
       "32                                   0.93  \n",
       "22                                   1.25  \n",
       "51                                   1.47  \n",
       "42                                   0.84  \n",
       "0                                    2.11  \n",
       "39                                   2.63  \n",
       "67                                   2.11  \n",
       "36                                   3.39  \n",
       "73                                   0.88  \n",
       "45                                   0.62  \n",
       "57                                   7.69  \n",
       "16                                   0.99  \n",
       "27                                   2.88  \n",
       "53                                   0.95  \n",
       "34                                   0.47  \n",
       "30                                   1.89  \n",
       "29                                   0.88  \n",
       "40                                   1.45  \n",
       "43                                   2.34  \n",
       "41                                   3.06  \n",
       "24                                   1.07  \n",
       "60                                   1.01  \n",
       "62                                   0.68  \n",
       "31                                   3.26  \n",
       "9                                    1.43  \n",
       "52                                   1.98  \n",
       "59                                   2.11  \n",
       "6                                    3.24  \n",
       "82                                   1.10  \n",
       "63                                   3.44  \n",
       "10                                   2.41  \n",
       "38                                   1.80  \n",
       "84                                  29.14  "
      ]
     },
     "execution_count": 223,
     "metadata": {},
     "output_type": "execute_result"
    }
   ],
   "source": [
    "tasasMundiales.sort_values('Tasa de mortalidad por millón de habitantes', ascending=False).round(2).head(50)"
   ]
  },
  {
   "cell_type": "markdown",
   "metadata": {
    "slideshow": {
     "slide_type": "slide"
    }
   },
   "source": [
    "# Personas fallecidas en el mundo por CoV-2  (pendiente ajustes)"
   ]
  },
  {
   "cell_type": "code",
   "execution_count": 224,
   "metadata": {
    "slideshow": {
     "slide_type": "subslide"
    }
   },
   "outputs": [
    {
     "data": {
      "text/plain": [
       "440917"
      ]
     },
     "execution_count": 224,
     "metadata": {},
     "output_type": "execute_result"
    }
   ],
   "source": [
    "tasasMundiales['Fallecidos'].sum()"
   ]
  },
  {
   "cell_type": "markdown",
   "metadata": {
    "slideshow": {
     "slide_type": "slide"
    }
   },
   "source": [
    "# Datos departamento"
   ]
  },
  {
   "cell_type": "code",
   "execution_count": 225,
   "metadata": {
    "scrolled": true,
    "slideshow": {
     "slide_type": "subslide"
    }
   },
   "outputs": [
    {
     "data": {
      "text/html": [
       "<div>\n",
       "<style scoped>\n",
       "    .dataframe tbody tr th:only-of-type {\n",
       "        vertical-align: middle;\n",
       "    }\n",
       "\n",
       "    .dataframe tbody tr th {\n",
       "        vertical-align: top;\n",
       "    }\n",
       "\n",
       "    .dataframe thead th {\n",
       "        text-align: right;\n",
       "    }\n",
       "</style>\n",
       "<table border=\"1\" class=\"dataframe\">\n",
       "  <thead>\n",
       "    <tr style=\"text-align: right;\">\n",
       "      <th></th>\n",
       "      <th>Fecha de notificación</th>\n",
       "      <th>Nombre departamento</th>\n",
       "      <th>Nombre municipio</th>\n",
       "      <th>Edad</th>\n",
       "      <th>Sexo</th>\n",
       "      <th>Ubicacion</th>\n",
       "      <th>Estado</th>\n",
       "      <th>Recuperado</th>\n",
       "      <th>Fecha de muerte</th>\n",
       "      <th>Fecha de diagnóstico</th>\n",
       "    </tr>\n",
       "  </thead>\n",
       "  <tbody>\n",
       "    <tr>\n",
       "      <th>30</th>\n",
       "      <td>2020-03-12</td>\n",
       "      <td>CALDAS</td>\n",
       "      <td>MANIZALES</td>\n",
       "      <td>65</td>\n",
       "      <td>M</td>\n",
       "      <td>Casa</td>\n",
       "      <td>Leve</td>\n",
       "      <td>Recuperado</td>\n",
       "      <td>NaT</td>\n",
       "      <td>2020-03-13</td>\n",
       "    </tr>\n",
       "    <tr>\n",
       "      <th>122</th>\n",
       "      <td>2020-03-17</td>\n",
       "      <td>CALDAS</td>\n",
       "      <td>VITERBO</td>\n",
       "      <td>38</td>\n",
       "      <td>F</td>\n",
       "      <td>Casa</td>\n",
       "      <td>Leve</td>\n",
       "      <td>Recuperado</td>\n",
       "      <td>NaT</td>\n",
       "      <td>2020-03-19</td>\n",
       "    </tr>\n",
       "    <tr>\n",
       "      <th>180</th>\n",
       "      <td>2020-03-18</td>\n",
       "      <td>CALDAS</td>\n",
       "      <td>MANIZALES</td>\n",
       "      <td>22</td>\n",
       "      <td>F</td>\n",
       "      <td>Casa</td>\n",
       "      <td>Leve</td>\n",
       "      <td>Recuperado</td>\n",
       "      <td>NaT</td>\n",
       "      <td>2020-03-21</td>\n",
       "    </tr>\n",
       "    <tr>\n",
       "      <th>217</th>\n",
       "      <td>2020-03-19</td>\n",
       "      <td>CALDAS</td>\n",
       "      <td>LA DORADA</td>\n",
       "      <td>24</td>\n",
       "      <td>F</td>\n",
       "      <td>Casa</td>\n",
       "      <td>Leve</td>\n",
       "      <td>Recuperado</td>\n",
       "      <td>NaT</td>\n",
       "      <td>2020-03-22</td>\n",
       "    </tr>\n",
       "    <tr>\n",
       "      <th>218</th>\n",
       "      <td>2020-03-19</td>\n",
       "      <td>CALDAS</td>\n",
       "      <td>CHINCHINA</td>\n",
       "      <td>51</td>\n",
       "      <td>M</td>\n",
       "      <td>Casa</td>\n",
       "      <td>Leve</td>\n",
       "      <td>Recuperado</td>\n",
       "      <td>NaT</td>\n",
       "      <td>2020-03-22</td>\n",
       "    </tr>\n",
       "    <tr>\n",
       "      <th>...</th>\n",
       "      <td>...</td>\n",
       "      <td>...</td>\n",
       "      <td>...</td>\n",
       "      <td>...</td>\n",
       "      <td>...</td>\n",
       "      <td>...</td>\n",
       "      <td>...</td>\n",
       "      <td>...</td>\n",
       "      <td>...</td>\n",
       "      <td>...</td>\n",
       "    </tr>\n",
       "    <tr>\n",
       "      <th>1316665</th>\n",
       "      <td>2020-11-14</td>\n",
       "      <td>CALDAS</td>\n",
       "      <td>LA DORADA</td>\n",
       "      <td>36</td>\n",
       "      <td>F</td>\n",
       "      <td>Casa</td>\n",
       "      <td>Leve</td>\n",
       "      <td>Activo</td>\n",
       "      <td>NaT</td>\n",
       "      <td>2020-11-25</td>\n",
       "    </tr>\n",
       "    <tr>\n",
       "      <th>1316668</th>\n",
       "      <td>2020-11-14</td>\n",
       "      <td>CALDAS</td>\n",
       "      <td>LA DORADA</td>\n",
       "      <td>72</td>\n",
       "      <td>F</td>\n",
       "      <td>Casa</td>\n",
       "      <td>Leve</td>\n",
       "      <td>Activo</td>\n",
       "      <td>NaT</td>\n",
       "      <td>2020-11-25</td>\n",
       "    </tr>\n",
       "    <tr>\n",
       "      <th>1316672</th>\n",
       "      <td>2020-11-14</td>\n",
       "      <td>CALDAS</td>\n",
       "      <td>LA DORADA</td>\n",
       "      <td>77</td>\n",
       "      <td>F</td>\n",
       "      <td>Casa</td>\n",
       "      <td>Leve</td>\n",
       "      <td>Activo</td>\n",
       "      <td>NaT</td>\n",
       "      <td>2020-11-25</td>\n",
       "    </tr>\n",
       "    <tr>\n",
       "      <th>1316675</th>\n",
       "      <td>2020-11-14</td>\n",
       "      <td>CALDAS</td>\n",
       "      <td>LA DORADA</td>\n",
       "      <td>74</td>\n",
       "      <td>M</td>\n",
       "      <td>Casa</td>\n",
       "      <td>Leve</td>\n",
       "      <td>Activo</td>\n",
       "      <td>NaT</td>\n",
       "      <td>2020-11-25</td>\n",
       "    </tr>\n",
       "    <tr>\n",
       "      <th>1316693</th>\n",
       "      <td>2020-11-13</td>\n",
       "      <td>CALDAS</td>\n",
       "      <td>MANIZALES</td>\n",
       "      <td>47</td>\n",
       "      <td>F</td>\n",
       "      <td>Casa</td>\n",
       "      <td>Leve</td>\n",
       "      <td>Activo</td>\n",
       "      <td>NaT</td>\n",
       "      <td>2020-11-24</td>\n",
       "    </tr>\n",
       "  </tbody>\n",
       "</table>\n",
       "<p>25168 rows × 10 columns</p>\n",
       "</div>"
      ],
      "text/plain": [
       "        Fecha de notificación Nombre departamento Nombre municipio Edad Sexo  \\\n",
       "30                 2020-03-12              CALDAS        MANIZALES   65    M   \n",
       "122                2020-03-17              CALDAS          VITERBO   38    F   \n",
       "180                2020-03-18              CALDAS        MANIZALES   22    F   \n",
       "217                2020-03-19              CALDAS        LA DORADA   24    F   \n",
       "218                2020-03-19              CALDAS        CHINCHINA   51    M   \n",
       "...                       ...                 ...              ...  ...  ...   \n",
       "1316665            2020-11-14              CALDAS        LA DORADA   36    F   \n",
       "1316668            2020-11-14              CALDAS        LA DORADA   72    F   \n",
       "1316672            2020-11-14              CALDAS        LA DORADA   77    F   \n",
       "1316675            2020-11-14              CALDAS        LA DORADA   74    M   \n",
       "1316693            2020-11-13              CALDAS        MANIZALES   47    F   \n",
       "\n",
       "        Ubicacion Estado  Recuperado Fecha de muerte Fecha de diagnóstico  \n",
       "30           Casa   Leve  Recuperado             NaT           2020-03-13  \n",
       "122          Casa   Leve  Recuperado             NaT           2020-03-19  \n",
       "180          Casa   Leve  Recuperado             NaT           2020-03-21  \n",
       "217          Casa   Leve  Recuperado             NaT           2020-03-22  \n",
       "218          Casa   Leve  Recuperado             NaT           2020-03-22  \n",
       "...           ...    ...         ...             ...                  ...  \n",
       "1316665      Casa   Leve      Activo             NaT           2020-11-25  \n",
       "1316668      Casa   Leve      Activo             NaT           2020-11-25  \n",
       "1316672      Casa   Leve      Activo             NaT           2020-11-25  \n",
       "1316675      Casa   Leve      Activo             NaT           2020-11-25  \n",
       "1316693      Casa   Leve      Activo             NaT           2020-11-24  \n",
       "\n",
       "[25168 rows x 10 columns]"
      ]
     },
     "execution_count": 225,
     "metadata": {},
     "output_type": "execute_result"
    }
   ],
   "source": [
    "porDpto=col.loc[col['Nombre departamento']==localidad,:]\n",
    "porDpto"
   ]
  },
  {
   "cell_type": "markdown",
   "metadata": {
    "slideshow": {
     "slide_type": "slide"
    }
   },
   "source": [
    "# Datos municipio"
   ]
  },
  {
   "cell_type": "code",
   "execution_count": 226,
   "metadata": {
    "scrolled": true,
    "slideshow": {
     "slide_type": "subslide"
    }
   },
   "outputs": [
    {
     "data": {
      "text/html": [
       "<div>\n",
       "<style scoped>\n",
       "    .dataframe tbody tr th:only-of-type {\n",
       "        vertical-align: middle;\n",
       "    }\n",
       "\n",
       "    .dataframe tbody tr th {\n",
       "        vertical-align: top;\n",
       "    }\n",
       "\n",
       "    .dataframe thead th {\n",
       "        text-align: right;\n",
       "    }\n",
       "</style>\n",
       "<table border=\"1\" class=\"dataframe\">\n",
       "  <thead>\n",
       "    <tr style=\"text-align: right;\">\n",
       "      <th></th>\n",
       "      <th>Fecha de notificación</th>\n",
       "      <th>Nombre departamento</th>\n",
       "      <th>Nombre municipio</th>\n",
       "      <th>Edad</th>\n",
       "      <th>Sexo</th>\n",
       "      <th>Ubicacion</th>\n",
       "      <th>Estado</th>\n",
       "      <th>Recuperado</th>\n",
       "      <th>Fecha de muerte</th>\n",
       "      <th>Fecha de diagnóstico</th>\n",
       "    </tr>\n",
       "  </thead>\n",
       "  <tbody>\n",
       "    <tr>\n",
       "      <th>30</th>\n",
       "      <td>2020-03-12</td>\n",
       "      <td>CALDAS</td>\n",
       "      <td>MANIZALES</td>\n",
       "      <td>65</td>\n",
       "      <td>M</td>\n",
       "      <td>Casa</td>\n",
       "      <td>Leve</td>\n",
       "      <td>Recuperado</td>\n",
       "      <td>NaT</td>\n",
       "      <td>2020-03-13</td>\n",
       "    </tr>\n",
       "    <tr>\n",
       "      <th>180</th>\n",
       "      <td>2020-03-18</td>\n",
       "      <td>CALDAS</td>\n",
       "      <td>MANIZALES</td>\n",
       "      <td>22</td>\n",
       "      <td>F</td>\n",
       "      <td>Casa</td>\n",
       "      <td>Leve</td>\n",
       "      <td>Recuperado</td>\n",
       "      <td>NaT</td>\n",
       "      <td>2020-03-21</td>\n",
       "    </tr>\n",
       "    <tr>\n",
       "      <th>371</th>\n",
       "      <td>2020-03-21</td>\n",
       "      <td>CALDAS</td>\n",
       "      <td>MANIZALES</td>\n",
       "      <td>70</td>\n",
       "      <td>M</td>\n",
       "      <td>Casa</td>\n",
       "      <td>Leve</td>\n",
       "      <td>Recuperado</td>\n",
       "      <td>NaT</td>\n",
       "      <td>2020-03-24</td>\n",
       "    </tr>\n",
       "    <tr>\n",
       "      <th>452</th>\n",
       "      <td>2020-03-25</td>\n",
       "      <td>CALDAS</td>\n",
       "      <td>MANIZALES</td>\n",
       "      <td>26</td>\n",
       "      <td>F</td>\n",
       "      <td>Casa</td>\n",
       "      <td>Leve</td>\n",
       "      <td>Recuperado</td>\n",
       "      <td>NaT</td>\n",
       "      <td>2020-03-25</td>\n",
       "    </tr>\n",
       "    <tr>\n",
       "      <th>538</th>\n",
       "      <td>2020-03-24</td>\n",
       "      <td>CALDAS</td>\n",
       "      <td>MANIZALES</td>\n",
       "      <td>81</td>\n",
       "      <td>M</td>\n",
       "      <td>Casa</td>\n",
       "      <td>Leve</td>\n",
       "      <td>Recuperado</td>\n",
       "      <td>NaT</td>\n",
       "      <td>2020-03-27</td>\n",
       "    </tr>\n",
       "    <tr>\n",
       "      <th>...</th>\n",
       "      <td>...</td>\n",
       "      <td>...</td>\n",
       "      <td>...</td>\n",
       "      <td>...</td>\n",
       "      <td>...</td>\n",
       "      <td>...</td>\n",
       "      <td>...</td>\n",
       "      <td>...</td>\n",
       "      <td>...</td>\n",
       "      <td>...</td>\n",
       "    </tr>\n",
       "    <tr>\n",
       "      <th>1316633</th>\n",
       "      <td>2020-11-14</td>\n",
       "      <td>CALDAS</td>\n",
       "      <td>MANIZALES</td>\n",
       "      <td>66</td>\n",
       "      <td>F</td>\n",
       "      <td>Casa</td>\n",
       "      <td>Leve</td>\n",
       "      <td>Activo</td>\n",
       "      <td>NaT</td>\n",
       "      <td>2020-11-25</td>\n",
       "    </tr>\n",
       "    <tr>\n",
       "      <th>1316634</th>\n",
       "      <td>2020-11-14</td>\n",
       "      <td>CALDAS</td>\n",
       "      <td>MANIZALES</td>\n",
       "      <td>63</td>\n",
       "      <td>M</td>\n",
       "      <td>Casa</td>\n",
       "      <td>Leve</td>\n",
       "      <td>Activo</td>\n",
       "      <td>NaT</td>\n",
       "      <td>2020-11-25</td>\n",
       "    </tr>\n",
       "    <tr>\n",
       "      <th>1316637</th>\n",
       "      <td>2020-11-14</td>\n",
       "      <td>CALDAS</td>\n",
       "      <td>MANIZALES</td>\n",
       "      <td>60</td>\n",
       "      <td>M</td>\n",
       "      <td>Casa</td>\n",
       "      <td>Leve</td>\n",
       "      <td>Activo</td>\n",
       "      <td>NaT</td>\n",
       "      <td>2020-11-25</td>\n",
       "    </tr>\n",
       "    <tr>\n",
       "      <th>1316638</th>\n",
       "      <td>2020-11-14</td>\n",
       "      <td>CALDAS</td>\n",
       "      <td>MANIZALES</td>\n",
       "      <td>23</td>\n",
       "      <td>F</td>\n",
       "      <td>Casa</td>\n",
       "      <td>Leve</td>\n",
       "      <td>Activo</td>\n",
       "      <td>NaT</td>\n",
       "      <td>2020-11-25</td>\n",
       "    </tr>\n",
       "    <tr>\n",
       "      <th>1316693</th>\n",
       "      <td>2020-11-13</td>\n",
       "      <td>CALDAS</td>\n",
       "      <td>MANIZALES</td>\n",
       "      <td>47</td>\n",
       "      <td>F</td>\n",
       "      <td>Casa</td>\n",
       "      <td>Leve</td>\n",
       "      <td>Activo</td>\n",
       "      <td>NaT</td>\n",
       "      <td>2020-11-24</td>\n",
       "    </tr>\n",
       "  </tbody>\n",
       "</table>\n",
       "<p>17539 rows × 10 columns</p>\n",
       "</div>"
      ],
      "text/plain": [
       "        Fecha de notificación Nombre departamento Nombre municipio Edad Sexo  \\\n",
       "30                 2020-03-12              CALDAS        MANIZALES   65    M   \n",
       "180                2020-03-18              CALDAS        MANIZALES   22    F   \n",
       "371                2020-03-21              CALDAS        MANIZALES   70    M   \n",
       "452                2020-03-25              CALDAS        MANIZALES   26    F   \n",
       "538                2020-03-24              CALDAS        MANIZALES   81    M   \n",
       "...                       ...                 ...              ...  ...  ...   \n",
       "1316633            2020-11-14              CALDAS        MANIZALES   66    F   \n",
       "1316634            2020-11-14              CALDAS        MANIZALES   63    M   \n",
       "1316637            2020-11-14              CALDAS        MANIZALES   60    M   \n",
       "1316638            2020-11-14              CALDAS        MANIZALES   23    F   \n",
       "1316693            2020-11-13              CALDAS        MANIZALES   47    F   \n",
       "\n",
       "        Ubicacion Estado  Recuperado Fecha de muerte Fecha de diagnóstico  \n",
       "30           Casa   Leve  Recuperado             NaT           2020-03-13  \n",
       "180          Casa   Leve  Recuperado             NaT           2020-03-21  \n",
       "371          Casa   Leve  Recuperado             NaT           2020-03-24  \n",
       "452          Casa   Leve  Recuperado             NaT           2020-03-25  \n",
       "538          Casa   Leve  Recuperado             NaT           2020-03-27  \n",
       "...           ...    ...         ...             ...                  ...  \n",
       "1316633      Casa   Leve      Activo             NaT           2020-11-25  \n",
       "1316634      Casa   Leve      Activo             NaT           2020-11-25  \n",
       "1316637      Casa   Leve      Activo             NaT           2020-11-25  \n",
       "1316638      Casa   Leve      Activo             NaT           2020-11-25  \n",
       "1316693      Casa   Leve      Activo             NaT           2020-11-24  \n",
       "\n",
       "[17539 rows x 10 columns]"
      ]
     },
     "execution_count": 226,
     "metadata": {},
     "output_type": "execute_result"
    }
   ],
   "source": [
    "porMunicipio=col.loc[col['Nombre municipio']==localidad1,:]\n",
    "porMunicipio"
   ]
  },
  {
   "cell_type": "code",
   "execution_count": 227,
   "metadata": {
    "slideshow": {
     "slide_type": "skip"
    }
   },
   "outputs": [
    {
     "data": {
      "text/html": [
       "<div>\n",
       "<style scoped>\n",
       "    .dataframe tbody tr th:only-of-type {\n",
       "        vertical-align: middle;\n",
       "    }\n",
       "\n",
       "    .dataframe tbody tr th {\n",
       "        vertical-align: top;\n",
       "    }\n",
       "\n",
       "    .dataframe thead th {\n",
       "        text-align: right;\n",
       "    }\n",
       "</style>\n",
       "<table border=\"1\" class=\"dataframe\">\n",
       "  <thead>\n",
       "    <tr style=\"text-align: right;\">\n",
       "      <th></th>\n",
       "      <th>Número de casos</th>\n",
       "    </tr>\n",
       "    <tr>\n",
       "      <th>Edad</th>\n",
       "      <th></th>\n",
       "    </tr>\n",
       "  </thead>\n",
       "  <tbody>\n",
       "    <tr>\n",
       "      <th>1</th>\n",
       "      <td>72</td>\n",
       "    </tr>\n",
       "    <tr>\n",
       "      <th>2</th>\n",
       "      <td>65</td>\n",
       "    </tr>\n",
       "    <tr>\n",
       "      <th>3</th>\n",
       "      <td>60</td>\n",
       "    </tr>\n",
       "    <tr>\n",
       "      <th>4</th>\n",
       "      <td>49</td>\n",
       "    </tr>\n",
       "    <tr>\n",
       "      <th>5</th>\n",
       "      <td>61</td>\n",
       "    </tr>\n",
       "    <tr>\n",
       "      <th>...</th>\n",
       "      <td>...</td>\n",
       "    </tr>\n",
       "    <tr>\n",
       "      <th>107</th>\n",
       "      <td>0</td>\n",
       "    </tr>\n",
       "    <tr>\n",
       "      <th>108</th>\n",
       "      <td>0</td>\n",
       "    </tr>\n",
       "    <tr>\n",
       "      <th>109</th>\n",
       "      <td>0</td>\n",
       "    </tr>\n",
       "    <tr>\n",
       "      <th>110</th>\n",
       "      <td>0</td>\n",
       "    </tr>\n",
       "    <tr>\n",
       "      <th>114</th>\n",
       "      <td>0</td>\n",
       "    </tr>\n",
       "  </tbody>\n",
       "</table>\n",
       "<p>111 rows × 1 columns</p>\n",
       "</div>"
      ],
      "text/plain": [
       "      Número de casos\n",
       "Edad                 \n",
       "1                  72\n",
       "2                  65\n",
       "3                  60\n",
       "4                  49\n",
       "5                  61\n",
       "...               ...\n",
       "107                 0\n",
       "108                 0\n",
       "109                 0\n",
       "110                 0\n",
       "114                 0\n",
       "\n",
       "[111 rows x 1 columns]"
      ]
     },
     "execution_count": 227,
     "metadata": {},
     "output_type": "execute_result"
    }
   ],
   "source": [
    "CasosporEdad= porDpto.groupby('Edad').count().drop(columns=['Nombre municipio', 'Nombre departamento','Sexo','Estado','Fecha de muerte','Fecha de diagnóstico'])\n",
    "CasosporEdad.rename(columns={'Fecha de notificación':'Número de casos'}, inplace=True)\n",
    "CasosporEdad.drop(columns=['Ubicacion','Recuperado'])"
   ]
  },
  {
   "cell_type": "markdown",
   "metadata": {
    "slideshow": {
     "slide_type": "slide"
    }
   },
   "source": [
    "## Departamento:  Casos por edad"
   ]
  },
  {
   "cell_type": "code",
   "execution_count": 228,
   "metadata": {
    "slideshow": {
     "slide_type": "subslide"
    }
   },
   "outputs": [
    {
     "data": {
      "text/html": [
       "<div>\n",
       "<style scoped>\n",
       "    .dataframe tbody tr th:only-of-type {\n",
       "        vertical-align: middle;\n",
       "    }\n",
       "\n",
       "    .dataframe tbody tr th {\n",
       "        vertical-align: top;\n",
       "    }\n",
       "\n",
       "    .dataframe thead th {\n",
       "        text-align: right;\n",
       "    }\n",
       "</style>\n",
       "<table border=\"1\" class=\"dataframe\">\n",
       "  <thead>\n",
       "    <tr style=\"text-align: right;\">\n",
       "      <th>Edad</th>\n",
       "      <th>1</th>\n",
       "      <th>2</th>\n",
       "      <th>3</th>\n",
       "      <th>4</th>\n",
       "      <th>5</th>\n",
       "      <th>6</th>\n",
       "      <th>7</th>\n",
       "      <th>8</th>\n",
       "      <th>9</th>\n",
       "      <th>10</th>\n",
       "      <th>...</th>\n",
       "      <th>102</th>\n",
       "      <th>103</th>\n",
       "      <th>104</th>\n",
       "      <th>105</th>\n",
       "      <th>106</th>\n",
       "      <th>107</th>\n",
       "      <th>108</th>\n",
       "      <th>109</th>\n",
       "      <th>110</th>\n",
       "      <th>114</th>\n",
       "    </tr>\n",
       "  </thead>\n",
       "  <tbody>\n",
       "    <tr>\n",
       "      <th>Número de casos</th>\n",
       "      <td>72</td>\n",
       "      <td>65</td>\n",
       "      <td>60</td>\n",
       "      <td>49</td>\n",
       "      <td>61</td>\n",
       "      <td>67</td>\n",
       "      <td>61</td>\n",
       "      <td>75</td>\n",
       "      <td>76</td>\n",
       "      <td>77</td>\n",
       "      <td>...</td>\n",
       "      <td>1</td>\n",
       "      <td>0</td>\n",
       "      <td>1</td>\n",
       "      <td>1</td>\n",
       "      <td>0</td>\n",
       "      <td>0</td>\n",
       "      <td>0</td>\n",
       "      <td>0</td>\n",
       "      <td>0</td>\n",
       "      <td>0</td>\n",
       "    </tr>\n",
       "    <tr>\n",
       "      <th>Ubicacion</th>\n",
       "      <td>72</td>\n",
       "      <td>65</td>\n",
       "      <td>60</td>\n",
       "      <td>49</td>\n",
       "      <td>61</td>\n",
       "      <td>65</td>\n",
       "      <td>61</td>\n",
       "      <td>75</td>\n",
       "      <td>76</td>\n",
       "      <td>77</td>\n",
       "      <td>...</td>\n",
       "      <td>1</td>\n",
       "      <td>0</td>\n",
       "      <td>1</td>\n",
       "      <td>1</td>\n",
       "      <td>0</td>\n",
       "      <td>0</td>\n",
       "      <td>0</td>\n",
       "      <td>0</td>\n",
       "      <td>0</td>\n",
       "      <td>0</td>\n",
       "    </tr>\n",
       "    <tr>\n",
       "      <th>Recuperado</th>\n",
       "      <td>72</td>\n",
       "      <td>65</td>\n",
       "      <td>60</td>\n",
       "      <td>49</td>\n",
       "      <td>61</td>\n",
       "      <td>65</td>\n",
       "      <td>61</td>\n",
       "      <td>75</td>\n",
       "      <td>76</td>\n",
       "      <td>77</td>\n",
       "      <td>...</td>\n",
       "      <td>1</td>\n",
       "      <td>0</td>\n",
       "      <td>1</td>\n",
       "      <td>1</td>\n",
       "      <td>0</td>\n",
       "      <td>0</td>\n",
       "      <td>0</td>\n",
       "      <td>0</td>\n",
       "      <td>0</td>\n",
       "      <td>0</td>\n",
       "    </tr>\n",
       "  </tbody>\n",
       "</table>\n",
       "<p>3 rows × 111 columns</p>\n",
       "</div>"
      ],
      "text/plain": [
       "Edad             1    2    3    4    5    6    7    8    9    10   ...  102  \\\n",
       "Número de casos   72   65   60   49   61   67   61   75   76   77  ...    1   \n",
       "Ubicacion         72   65   60   49   61   65   61   75   76   77  ...    1   \n",
       "Recuperado        72   65   60   49   61   65   61   75   76   77  ...    1   \n",
       "\n",
       "Edad             103  104  105  106  107  108  109  110  114  \n",
       "Número de casos    0    1    1    0    0    0    0    0    0  \n",
       "Ubicacion          0    1    1    0    0    0    0    0    0  \n",
       "Recuperado         0    1    1    0    0    0    0    0    0  \n",
       "\n",
       "[3 rows x 111 columns]"
      ]
     },
     "execution_count": 228,
     "metadata": {},
     "output_type": "execute_result"
    }
   ],
   "source": [
    "CasosporEdad=CasosporEdad.transpose()\n",
    "CasosporEdad"
   ]
  },
  {
   "cell_type": "code",
   "execution_count": 229,
   "metadata": {
    "slideshow": {
     "slide_type": "skip"
    }
   },
   "outputs": [],
   "source": [
    "CasosporEdadMunicipio= porMunicipio.groupby('Edad').count().drop(columns=['Nombre municipio', 'Nombre departamento','Sexo','Estado','Fecha de muerte','Fecha de diagnóstico'])\n",
    "CasosporEdadMunicipio.rename(columns={'Fecha de notificación':'Número de casos'}, inplace=True)"
   ]
  },
  {
   "cell_type": "markdown",
   "metadata": {
    "slideshow": {
     "slide_type": "slide"
    }
   },
   "source": [
    "## Municipio:  Casos por edad"
   ]
  },
  {
   "cell_type": "code",
   "execution_count": 230,
   "metadata": {
    "scrolled": true,
    "slideshow": {
     "slide_type": "subslide"
    }
   },
   "outputs": [
    {
     "data": {
      "text/html": [
       "<div>\n",
       "<style scoped>\n",
       "    .dataframe tbody tr th:only-of-type {\n",
       "        vertical-align: middle;\n",
       "    }\n",
       "\n",
       "    .dataframe tbody tr th {\n",
       "        vertical-align: top;\n",
       "    }\n",
       "\n",
       "    .dataframe thead th {\n",
       "        text-align: right;\n",
       "    }\n",
       "</style>\n",
       "<table border=\"1\" class=\"dataframe\">\n",
       "  <thead>\n",
       "    <tr style=\"text-align: right;\">\n",
       "      <th>Edad</th>\n",
       "      <th>1</th>\n",
       "      <th>2</th>\n",
       "      <th>3</th>\n",
       "      <th>4</th>\n",
       "      <th>5</th>\n",
       "      <th>6</th>\n",
       "      <th>7</th>\n",
       "      <th>8</th>\n",
       "      <th>9</th>\n",
       "      <th>10</th>\n",
       "      <th>...</th>\n",
       "      <th>102</th>\n",
       "      <th>103</th>\n",
       "      <th>104</th>\n",
       "      <th>105</th>\n",
       "      <th>106</th>\n",
       "      <th>107</th>\n",
       "      <th>108</th>\n",
       "      <th>109</th>\n",
       "      <th>110</th>\n",
       "      <th>114</th>\n",
       "    </tr>\n",
       "  </thead>\n",
       "  <tbody>\n",
       "    <tr>\n",
       "      <th>Número de casos</th>\n",
       "      <td>50</td>\n",
       "      <td>49</td>\n",
       "      <td>36</td>\n",
       "      <td>32</td>\n",
       "      <td>47</td>\n",
       "      <td>51</td>\n",
       "      <td>44</td>\n",
       "      <td>50</td>\n",
       "      <td>52</td>\n",
       "      <td>55</td>\n",
       "      <td>...</td>\n",
       "      <td>1</td>\n",
       "      <td>0</td>\n",
       "      <td>1</td>\n",
       "      <td>1</td>\n",
       "      <td>0</td>\n",
       "      <td>0</td>\n",
       "      <td>0</td>\n",
       "      <td>0</td>\n",
       "      <td>0</td>\n",
       "      <td>0</td>\n",
       "    </tr>\n",
       "    <tr>\n",
       "      <th>Ubicacion</th>\n",
       "      <td>50</td>\n",
       "      <td>49</td>\n",
       "      <td>36</td>\n",
       "      <td>32</td>\n",
       "      <td>47</td>\n",
       "      <td>50</td>\n",
       "      <td>44</td>\n",
       "      <td>50</td>\n",
       "      <td>52</td>\n",
       "      <td>55</td>\n",
       "      <td>...</td>\n",
       "      <td>1</td>\n",
       "      <td>0</td>\n",
       "      <td>1</td>\n",
       "      <td>1</td>\n",
       "      <td>0</td>\n",
       "      <td>0</td>\n",
       "      <td>0</td>\n",
       "      <td>0</td>\n",
       "      <td>0</td>\n",
       "      <td>0</td>\n",
       "    </tr>\n",
       "    <tr>\n",
       "      <th>Recuperado</th>\n",
       "      <td>50</td>\n",
       "      <td>49</td>\n",
       "      <td>36</td>\n",
       "      <td>32</td>\n",
       "      <td>47</td>\n",
       "      <td>50</td>\n",
       "      <td>44</td>\n",
       "      <td>50</td>\n",
       "      <td>52</td>\n",
       "      <td>55</td>\n",
       "      <td>...</td>\n",
       "      <td>1</td>\n",
       "      <td>0</td>\n",
       "      <td>1</td>\n",
       "      <td>1</td>\n",
       "      <td>0</td>\n",
       "      <td>0</td>\n",
       "      <td>0</td>\n",
       "      <td>0</td>\n",
       "      <td>0</td>\n",
       "      <td>0</td>\n",
       "    </tr>\n",
       "  </tbody>\n",
       "</table>\n",
       "<p>3 rows × 111 columns</p>\n",
       "</div>"
      ],
      "text/plain": [
       "Edad             1    2    3    4    5    6    7    8    9    10   ...  102  \\\n",
       "Número de casos   50   49   36   32   47   51   44   50   52   55  ...    1   \n",
       "Ubicacion         50   49   36   32   47   50   44   50   52   55  ...    1   \n",
       "Recuperado        50   49   36   32   47   50   44   50   52   55  ...    1   \n",
       "\n",
       "Edad             103  104  105  106  107  108  109  110  114  \n",
       "Número de casos    0    1    1    0    0    0    0    0    0  \n",
       "Ubicacion          0    1    1    0    0    0    0    0    0  \n",
       "Recuperado         0    1    1    0    0    0    0    0    0  \n",
       "\n",
       "[3 rows x 111 columns]"
      ]
     },
     "execution_count": 230,
     "metadata": {},
     "output_type": "execute_result"
    }
   ],
   "source": [
    "CasosporEdadMunicipio=CasosporEdadMunicipio.transpose()\n",
    "CasosporEdadMunicipio"
   ]
  },
  {
   "cell_type": "code",
   "execution_count": 231,
   "metadata": {
    "slideshow": {
     "slide_type": "skip"
    }
   },
   "outputs": [],
   "source": [
    "fallecidosporEdad= porDpto.groupby('Edad').count().drop(columns=['Fecha de notificación','Nombre municipio', 'Nombre departamento', 'Sexo','Estado','Fecha de diagnóstico'])\n",
    "fallecidosporEdad.rename(columns={'Fecha de muerte':'Número de fallecidos'}, inplace=True)"
   ]
  },
  {
   "cell_type": "markdown",
   "metadata": {
    "slideshow": {
     "slide_type": "slide"
    }
   },
   "source": [
    "## Departamento:  Fallecidos por edad"
   ]
  },
  {
   "cell_type": "code",
   "execution_count": 232,
   "metadata": {
    "scrolled": false,
    "slideshow": {
     "slide_type": "subslide"
    }
   },
   "outputs": [
    {
     "data": {
      "text/html": [
       "<div>\n",
       "<style scoped>\n",
       "    .dataframe tbody tr th:only-of-type {\n",
       "        vertical-align: middle;\n",
       "    }\n",
       "\n",
       "    .dataframe tbody tr th {\n",
       "        vertical-align: top;\n",
       "    }\n",
       "\n",
       "    .dataframe thead th {\n",
       "        text-align: right;\n",
       "    }\n",
       "</style>\n",
       "<table border=\"1\" class=\"dataframe\">\n",
       "  <thead>\n",
       "    <tr style=\"text-align: right;\">\n",
       "      <th>Edad</th>\n",
       "      <th>1</th>\n",
       "      <th>2</th>\n",
       "      <th>3</th>\n",
       "      <th>4</th>\n",
       "      <th>5</th>\n",
       "      <th>6</th>\n",
       "      <th>7</th>\n",
       "      <th>8</th>\n",
       "      <th>9</th>\n",
       "      <th>10</th>\n",
       "      <th>...</th>\n",
       "      <th>102</th>\n",
       "      <th>103</th>\n",
       "      <th>104</th>\n",
       "      <th>105</th>\n",
       "      <th>106</th>\n",
       "      <th>107</th>\n",
       "      <th>108</th>\n",
       "      <th>109</th>\n",
       "      <th>110</th>\n",
       "      <th>114</th>\n",
       "    </tr>\n",
       "  </thead>\n",
       "  <tbody>\n",
       "    <tr>\n",
       "      <th>Ubicacion</th>\n",
       "      <td>72</td>\n",
       "      <td>65</td>\n",
       "      <td>60</td>\n",
       "      <td>49</td>\n",
       "      <td>61</td>\n",
       "      <td>65</td>\n",
       "      <td>61</td>\n",
       "      <td>75</td>\n",
       "      <td>76</td>\n",
       "      <td>77</td>\n",
       "      <td>...</td>\n",
       "      <td>1</td>\n",
       "      <td>0</td>\n",
       "      <td>1</td>\n",
       "      <td>1</td>\n",
       "      <td>0</td>\n",
       "      <td>0</td>\n",
       "      <td>0</td>\n",
       "      <td>0</td>\n",
       "      <td>0</td>\n",
       "      <td>0</td>\n",
       "    </tr>\n",
       "    <tr>\n",
       "      <th>Recuperado</th>\n",
       "      <td>72</td>\n",
       "      <td>65</td>\n",
       "      <td>60</td>\n",
       "      <td>49</td>\n",
       "      <td>61</td>\n",
       "      <td>65</td>\n",
       "      <td>61</td>\n",
       "      <td>75</td>\n",
       "      <td>76</td>\n",
       "      <td>77</td>\n",
       "      <td>...</td>\n",
       "      <td>1</td>\n",
       "      <td>0</td>\n",
       "      <td>1</td>\n",
       "      <td>1</td>\n",
       "      <td>0</td>\n",
       "      <td>0</td>\n",
       "      <td>0</td>\n",
       "      <td>0</td>\n",
       "      <td>0</td>\n",
       "      <td>0</td>\n",
       "    </tr>\n",
       "    <tr>\n",
       "      <th>Número de fallecidos</th>\n",
       "      <td>0</td>\n",
       "      <td>0</td>\n",
       "      <td>0</td>\n",
       "      <td>0</td>\n",
       "      <td>0</td>\n",
       "      <td>2</td>\n",
       "      <td>0</td>\n",
       "      <td>0</td>\n",
       "      <td>0</td>\n",
       "      <td>0</td>\n",
       "      <td>...</td>\n",
       "      <td>0</td>\n",
       "      <td>0</td>\n",
       "      <td>0</td>\n",
       "      <td>1</td>\n",
       "      <td>0</td>\n",
       "      <td>0</td>\n",
       "      <td>0</td>\n",
       "      <td>0</td>\n",
       "      <td>0</td>\n",
       "      <td>0</td>\n",
       "    </tr>\n",
       "  </tbody>\n",
       "</table>\n",
       "<p>3 rows × 111 columns</p>\n",
       "</div>"
      ],
      "text/plain": [
       "Edad                  1    2    3    4    5    6    7    8    9    10   ...  \\\n",
       "Ubicacion              72   65   60   49   61   65   61   75   76   77  ...   \n",
       "Recuperado             72   65   60   49   61   65   61   75   76   77  ...   \n",
       "Número de fallecidos    0    0    0    0    0    2    0    0    0    0  ...   \n",
       "\n",
       "Edad                  102  103  104  105  106  107  108  109  110  114  \n",
       "Ubicacion               1    0    1    1    0    0    0    0    0    0  \n",
       "Recuperado              1    0    1    1    0    0    0    0    0    0  \n",
       "Número de fallecidos    0    0    0    1    0    0    0    0    0    0  \n",
       "\n",
       "[3 rows x 111 columns]"
      ]
     },
     "execution_count": 232,
     "metadata": {},
     "output_type": "execute_result"
    }
   ],
   "source": [
    "fallecidosporEdad=fallecidosporEdad.transpose()\n",
    "fallecidosporEdad"
   ]
  },
  {
   "cell_type": "code",
   "execution_count": 233,
   "metadata": {
    "slideshow": {
     "slide_type": "skip"
    }
   },
   "outputs": [],
   "source": [
    "fallecidosporEdadMunicipio= porMunicipio.groupby('Edad').count().drop(columns=['Fecha de notificación','Nombre municipio', 'Nombre departamento', 'Sexo','Estado','Fecha de diagnóstico'])\n",
    "fallecidosporEdadMunicipio.rename(columns={'Fecha de muerte':'Número de fallecidos'}, inplace=True)"
   ]
  },
  {
   "cell_type": "markdown",
   "metadata": {
    "slideshow": {
     "slide_type": "slide"
    }
   },
   "source": [
    "## Municipio:  Fallecidos por edad"
   ]
  },
  {
   "cell_type": "code",
   "execution_count": 234,
   "metadata": {
    "scrolled": true,
    "slideshow": {
     "slide_type": "subslide"
    }
   },
   "outputs": [
    {
     "data": {
      "text/html": [
       "<div>\n",
       "<style scoped>\n",
       "    .dataframe tbody tr th:only-of-type {\n",
       "        vertical-align: middle;\n",
       "    }\n",
       "\n",
       "    .dataframe tbody tr th {\n",
       "        vertical-align: top;\n",
       "    }\n",
       "\n",
       "    .dataframe thead th {\n",
       "        text-align: right;\n",
       "    }\n",
       "</style>\n",
       "<table border=\"1\" class=\"dataframe\">\n",
       "  <thead>\n",
       "    <tr style=\"text-align: right;\">\n",
       "      <th>Edad</th>\n",
       "      <th>1</th>\n",
       "      <th>2</th>\n",
       "      <th>3</th>\n",
       "      <th>4</th>\n",
       "      <th>5</th>\n",
       "      <th>6</th>\n",
       "      <th>7</th>\n",
       "      <th>8</th>\n",
       "      <th>9</th>\n",
       "      <th>10</th>\n",
       "      <th>...</th>\n",
       "      <th>102</th>\n",
       "      <th>103</th>\n",
       "      <th>104</th>\n",
       "      <th>105</th>\n",
       "      <th>106</th>\n",
       "      <th>107</th>\n",
       "      <th>108</th>\n",
       "      <th>109</th>\n",
       "      <th>110</th>\n",
       "      <th>114</th>\n",
       "    </tr>\n",
       "  </thead>\n",
       "  <tbody>\n",
       "    <tr>\n",
       "      <th>Ubicacion</th>\n",
       "      <td>50</td>\n",
       "      <td>49</td>\n",
       "      <td>36</td>\n",
       "      <td>32</td>\n",
       "      <td>47</td>\n",
       "      <td>50</td>\n",
       "      <td>44</td>\n",
       "      <td>50</td>\n",
       "      <td>52</td>\n",
       "      <td>55</td>\n",
       "      <td>...</td>\n",
       "      <td>1</td>\n",
       "      <td>0</td>\n",
       "      <td>1</td>\n",
       "      <td>1</td>\n",
       "      <td>0</td>\n",
       "      <td>0</td>\n",
       "      <td>0</td>\n",
       "      <td>0</td>\n",
       "      <td>0</td>\n",
       "      <td>0</td>\n",
       "    </tr>\n",
       "    <tr>\n",
       "      <th>Recuperado</th>\n",
       "      <td>50</td>\n",
       "      <td>49</td>\n",
       "      <td>36</td>\n",
       "      <td>32</td>\n",
       "      <td>47</td>\n",
       "      <td>50</td>\n",
       "      <td>44</td>\n",
       "      <td>50</td>\n",
       "      <td>52</td>\n",
       "      <td>55</td>\n",
       "      <td>...</td>\n",
       "      <td>1</td>\n",
       "      <td>0</td>\n",
       "      <td>1</td>\n",
       "      <td>1</td>\n",
       "      <td>0</td>\n",
       "      <td>0</td>\n",
       "      <td>0</td>\n",
       "      <td>0</td>\n",
       "      <td>0</td>\n",
       "      <td>0</td>\n",
       "    </tr>\n",
       "    <tr>\n",
       "      <th>Número de fallecidos</th>\n",
       "      <td>0</td>\n",
       "      <td>0</td>\n",
       "      <td>0</td>\n",
       "      <td>0</td>\n",
       "      <td>0</td>\n",
       "      <td>1</td>\n",
       "      <td>0</td>\n",
       "      <td>0</td>\n",
       "      <td>0</td>\n",
       "      <td>0</td>\n",
       "      <td>...</td>\n",
       "      <td>0</td>\n",
       "      <td>0</td>\n",
       "      <td>0</td>\n",
       "      <td>1</td>\n",
       "      <td>0</td>\n",
       "      <td>0</td>\n",
       "      <td>0</td>\n",
       "      <td>0</td>\n",
       "      <td>0</td>\n",
       "      <td>0</td>\n",
       "    </tr>\n",
       "  </tbody>\n",
       "</table>\n",
       "<p>3 rows × 111 columns</p>\n",
       "</div>"
      ],
      "text/plain": [
       "Edad                  1    2    3    4    5    6    7    8    9    10   ...  \\\n",
       "Ubicacion              50   49   36   32   47   50   44   50   52   55  ...   \n",
       "Recuperado             50   49   36   32   47   50   44   50   52   55  ...   \n",
       "Número de fallecidos    0    0    0    0    0    1    0    0    0    0  ...   \n",
       "\n",
       "Edad                  102  103  104  105  106  107  108  109  110  114  \n",
       "Ubicacion               1    0    1    1    0    0    0    0    0    0  \n",
       "Recuperado              1    0    1    1    0    0    0    0    0    0  \n",
       "Número de fallecidos    0    0    0    1    0    0    0    0    0    0  \n",
       "\n",
       "[3 rows x 111 columns]"
      ]
     },
     "execution_count": 234,
     "metadata": {},
     "output_type": "execute_result"
    }
   ],
   "source": [
    "fallecidosporEdadMunicipio=fallecidosporEdadMunicipio.transpose()\n",
    "fallecidosporEdadMunicipio"
   ]
  },
  {
   "cell_type": "code",
   "execution_count": 235,
   "metadata": {
    "slideshow": {
     "slide_type": "skip"
    }
   },
   "outputs": [],
   "source": [
    "CasosporEdad.columns = CasosporEdad.columns.tolist()"
   ]
  },
  {
   "cell_type": "code",
   "execution_count": 236,
   "metadata": {
    "slideshow": {
     "slide_type": "skip"
    }
   },
   "outputs": [],
   "source": [
    "CasosporEdadMunicipio.columns = CasosporEdadMunicipio.columns.tolist()"
   ]
  },
  {
   "cell_type": "code",
   "execution_count": 237,
   "metadata": {
    "slideshow": {
     "slide_type": "skip"
    }
   },
   "outputs": [],
   "source": [
    "fallecidosporEdad.columns = fallecidosporEdad.columns.tolist()"
   ]
  },
  {
   "cell_type": "code",
   "execution_count": 238,
   "metadata": {
    "slideshow": {
     "slide_type": "skip"
    }
   },
   "outputs": [],
   "source": [
    "fallecidosporEdadMunicipio.columns = fallecidosporEdadMunicipio.columns.tolist()"
   ]
  },
  {
   "cell_type": "code",
   "execution_count": 239,
   "metadata": {
    "slideshow": {
     "slide_type": "skip"
    }
   },
   "outputs": [],
   "source": [
    "edad_0_a_4 = CasosporEdad.loc['Número de casos',0:4].sum()\n",
    "edad_5_a_14 = CasosporEdad.loc['Número de casos',5:14].sum()\n",
    "edad_15_a_44 = CasosporEdad.loc['Número de casos',15:44].sum()\n",
    "edad_45_a_64 = CasosporEdad.loc['Número de casos',45:64].sum()\n",
    "edad_65_a_84 = CasosporEdad.loc['Número de casos',65:84].sum()\n",
    "edad_85_a_99 = CasosporEdad.loc['Número de casos',85:99].sum()\n",
    "edad_100_o_mas = CasosporEdad.loc['Número de casos',100:].sum()\n",
    "\n"
   ]
  },
  {
   "cell_type": "code",
   "execution_count": 240,
   "metadata": {
    "slideshow": {
     "slide_type": "skip"
    }
   },
   "outputs": [],
   "source": [
    "CasosporEdad['edad 0 a 4']=edad_0_a_4\n",
    "CasosporEdad['edad 5 a 14']=edad_5_a_14\n",
    "CasosporEdad['edad 15 a 44']=edad_15_a_44\n",
    "CasosporEdad['edad 45 a 64']=edad_45_a_64\n",
    "CasosporEdad['edad 65 a 84']=edad_65_a_84\n",
    "CasosporEdad['edad 85 a 99']=edad_85_a_99\n",
    "CasosporEdad['edad 100 o más']=edad_100_o_mas\n",
    "CasosporEdad['Total']=edad_0_a_4+edad_5_a_14+edad_15_a_44+edad_45_a_64+edad_65_a_84+edad_85_a_99+edad_100_o_mas"
   ]
  },
  {
   "cell_type": "code",
   "execution_count": 241,
   "metadata": {
    "slideshow": {
     "slide_type": "skip"
    }
   },
   "outputs": [],
   "source": [
    "for i in range(0,124):\n",
    "    try:\n",
    "        CasosporEdad.drop(columns=i, inplace=True)\n",
    "    except:\n",
    "        pass\n",
    "        "
   ]
  },
  {
   "cell_type": "markdown",
   "metadata": {
    "slideshow": {
     "slide_type": "slide"
    }
   },
   "source": [
    "# Departamento:  Casos por grupo etario"
   ]
  },
  {
   "cell_type": "code",
   "execution_count": 242,
   "metadata": {
    "scrolled": true,
    "slideshow": {
     "slide_type": "subslide"
    }
   },
   "outputs": [
    {
     "data": {
      "text/html": [
       "<div>\n",
       "<style scoped>\n",
       "    .dataframe tbody tr th:only-of-type {\n",
       "        vertical-align: middle;\n",
       "    }\n",
       "\n",
       "    .dataframe tbody tr th {\n",
       "        vertical-align: top;\n",
       "    }\n",
       "\n",
       "    .dataframe thead th {\n",
       "        text-align: right;\n",
       "    }\n",
       "</style>\n",
       "<table border=\"1\" class=\"dataframe\">\n",
       "  <thead>\n",
       "    <tr style=\"text-align: right;\">\n",
       "      <th></th>\n",
       "      <th>edad 0 a 4</th>\n",
       "      <th>edad 5 a 14</th>\n",
       "      <th>edad 15 a 44</th>\n",
       "      <th>edad 45 a 64</th>\n",
       "      <th>edad 65 a 84</th>\n",
       "      <th>edad 85 a 99</th>\n",
       "      <th>edad 100 o más</th>\n",
       "      <th>Total</th>\n",
       "    </tr>\n",
       "  </thead>\n",
       "  <tbody>\n",
       "    <tr>\n",
       "      <th>Número de casos</th>\n",
       "      <td>246</td>\n",
       "      <td>875</td>\n",
       "      <td>13997</td>\n",
       "      <td>6682</td>\n",
       "      <td>2925</td>\n",
       "      <td>435</td>\n",
       "      <td>8</td>\n",
       "      <td>25168</td>\n",
       "    </tr>\n",
       "    <tr>\n",
       "      <th>Ubicacion</th>\n",
       "      <td>246</td>\n",
       "      <td>875</td>\n",
       "      <td>13997</td>\n",
       "      <td>6682</td>\n",
       "      <td>2925</td>\n",
       "      <td>435</td>\n",
       "      <td>8</td>\n",
       "      <td>25168</td>\n",
       "    </tr>\n",
       "    <tr>\n",
       "      <th>Recuperado</th>\n",
       "      <td>246</td>\n",
       "      <td>875</td>\n",
       "      <td>13997</td>\n",
       "      <td>6682</td>\n",
       "      <td>2925</td>\n",
       "      <td>435</td>\n",
       "      <td>8</td>\n",
       "      <td>25168</td>\n",
       "    </tr>\n",
       "  </tbody>\n",
       "</table>\n",
       "</div>"
      ],
      "text/plain": [
       "                 edad 0 a 4  edad 5 a 14  edad 15 a 44  edad 45 a 64  \\\n",
       "Número de casos         246          875         13997          6682   \n",
       "Ubicacion               246          875         13997          6682   \n",
       "Recuperado              246          875         13997          6682   \n",
       "\n",
       "                 edad 65 a 84  edad 85 a 99  edad 100 o más  Total  \n",
       "Número de casos          2925           435               8  25168  \n",
       "Ubicacion                2925           435               8  25168  \n",
       "Recuperado               2925           435               8  25168  "
      ]
     },
     "execution_count": 242,
     "metadata": {},
     "output_type": "execute_result"
    }
   ],
   "source": [
    "CasosporEdad"
   ]
  },
  {
   "cell_type": "code",
   "execution_count": 243,
   "metadata": {
    "slideshow": {
     "slide_type": "skip"
    }
   },
   "outputs": [],
   "source": [
    "edad_0_a_4 = fallecidosporEdad.loc['Número de fallecidos',0:4].sum()\n",
    "edad_5_a_14 = fallecidosporEdad.loc['Número de fallecidos',5:14].sum()\n",
    "edad_15_a_44 = fallecidosporEdad.loc['Número de fallecidos',15:44].sum()\n",
    "edad_45_a_64 = fallecidosporEdad.loc['Número de fallecidos',45:64].sum()\n",
    "edad_65_a_84 = fallecidosporEdad.loc['Número de fallecidos',65:84].sum()\n",
    "edad_85_a_99 = fallecidosporEdad.loc['Número de fallecidos',85:99].sum()\n",
    "edad_100_o_mas = fallecidosporEdad.loc['Número de fallecidos',100:].sum()"
   ]
  },
  {
   "cell_type": "code",
   "execution_count": 244,
   "metadata": {
    "slideshow": {
     "slide_type": "skip"
    }
   },
   "outputs": [],
   "source": [
    "fallecidosporEdad['edad 0 a 4']=edad_0_a_4\n",
    "fallecidosporEdad['edad 5 a 14']=edad_5_a_14\n",
    "fallecidosporEdad['edad 15 a 44']=edad_15_a_44\n",
    "fallecidosporEdad['edad 45 a 64']=edad_45_a_64\n",
    "fallecidosporEdad['edad 65 a 84']=edad_65_a_84\n",
    "fallecidosporEdad['edad 85 a 99']=edad_85_a_99\n",
    "fallecidosporEdad['edad 100 o más']=edad_100_o_mas\n",
    "fallecidosporEdad['Total']=edad_0_a_4+edad_5_a_14+edad_15_a_44+edad_45_a_64+edad_65_a_84+edad_85_a_99+edad_100_o_mas"
   ]
  },
  {
   "cell_type": "code",
   "execution_count": 245,
   "metadata": {
    "slideshow": {
     "slide_type": "skip"
    }
   },
   "outputs": [],
   "source": [
    "for i in range(0,124):\n",
    "    try:\n",
    "        fallecidosporEdad.drop(columns=i, inplace=True)\n",
    "    except:\n",
    "        pass\n",
    "        "
   ]
  },
  {
   "cell_type": "markdown",
   "metadata": {
    "slideshow": {
     "slide_type": "slide"
    }
   },
   "source": [
    "# Departamento:  Fallecidos por grupo etario"
   ]
  },
  {
   "cell_type": "code",
   "execution_count": 246,
   "metadata": {
    "scrolled": false,
    "slideshow": {
     "slide_type": "subslide"
    }
   },
   "outputs": [
    {
     "data": {
      "text/html": [
       "<div>\n",
       "<style scoped>\n",
       "    .dataframe tbody tr th:only-of-type {\n",
       "        vertical-align: middle;\n",
       "    }\n",
       "\n",
       "    .dataframe tbody tr th {\n",
       "        vertical-align: top;\n",
       "    }\n",
       "\n",
       "    .dataframe thead th {\n",
       "        text-align: right;\n",
       "    }\n",
       "</style>\n",
       "<table border=\"1\" class=\"dataframe\">\n",
       "  <thead>\n",
       "    <tr style=\"text-align: right;\">\n",
       "      <th></th>\n",
       "      <th>edad 0 a 4</th>\n",
       "      <th>edad 5 a 14</th>\n",
       "      <th>edad 15 a 44</th>\n",
       "      <th>edad 45 a 64</th>\n",
       "      <th>edad 65 a 84</th>\n",
       "      <th>edad 85 a 99</th>\n",
       "      <th>edad 100 o más</th>\n",
       "      <th>Total</th>\n",
       "    </tr>\n",
       "  </thead>\n",
       "  <tbody>\n",
       "    <tr>\n",
       "      <th>Ubicacion</th>\n",
       "      <td>0</td>\n",
       "      <td>2</td>\n",
       "      <td>24</td>\n",
       "      <td>108</td>\n",
       "      <td>327</td>\n",
       "      <td>115</td>\n",
       "      <td>3</td>\n",
       "      <td>579</td>\n",
       "    </tr>\n",
       "    <tr>\n",
       "      <th>Recuperado</th>\n",
       "      <td>0</td>\n",
       "      <td>2</td>\n",
       "      <td>24</td>\n",
       "      <td>108</td>\n",
       "      <td>327</td>\n",
       "      <td>115</td>\n",
       "      <td>3</td>\n",
       "      <td>579</td>\n",
       "    </tr>\n",
       "    <tr>\n",
       "      <th>Número de fallecidos</th>\n",
       "      <td>0</td>\n",
       "      <td>2</td>\n",
       "      <td>24</td>\n",
       "      <td>108</td>\n",
       "      <td>327</td>\n",
       "      <td>115</td>\n",
       "      <td>3</td>\n",
       "      <td>579</td>\n",
       "    </tr>\n",
       "  </tbody>\n",
       "</table>\n",
       "</div>"
      ],
      "text/plain": [
       "                      edad 0 a 4  edad 5 a 14  edad 15 a 44  edad 45 a 64  \\\n",
       "Ubicacion                      0            2            24           108   \n",
       "Recuperado                     0            2            24           108   \n",
       "Número de fallecidos           0            2            24           108   \n",
       "\n",
       "                      edad 65 a 84  edad 85 a 99  edad 100 o más  Total  \n",
       "Ubicacion                      327           115               3    579  \n",
       "Recuperado                     327           115               3    579  \n",
       "Número de fallecidos           327           115               3    579  "
      ]
     },
     "execution_count": 246,
     "metadata": {},
     "output_type": "execute_result"
    }
   ],
   "source": [
    "fallecidosporEdad"
   ]
  },
  {
   "cell_type": "code",
   "execution_count": 247,
   "metadata": {
    "scrolled": false,
    "slideshow": {
     "slide_type": "skip"
    }
   },
   "outputs": [],
   "source": [
    "CasosporEdad=CasosporEdad.transpose()"
   ]
  },
  {
   "cell_type": "code",
   "execution_count": 248,
   "metadata": {
    "scrolled": false,
    "slideshow": {
     "slide_type": "skip"
    }
   },
   "outputs": [],
   "source": [
    "fallecidosporEdad=fallecidosporEdad.transpose()"
   ]
  },
  {
   "cell_type": "code",
   "execution_count": 249,
   "metadata": {
    "slideshow": {
     "slide_type": "skip"
    }
   },
   "outputs": [],
   "source": [
    "CasosyFallecidos= pd.merge(CasosporEdad, fallecidosporEdad, left_index=True, right_index=True)"
   ]
  },
  {
   "cell_type": "code",
   "execution_count": 250,
   "metadata": {
    "slideshow": {
     "slide_type": "skip"
    }
   },
   "outputs": [],
   "source": [
    "CasosyFallecidos['Tasa de letalidad por 100'] =100*(CasosyFallecidos['Número de fallecidos']/CasosyFallecidos['Número de casos']).round(4)"
   ]
  },
  {
   "cell_type": "markdown",
   "metadata": {
    "slideshow": {
     "slide_type": "slide"
    }
   },
   "source": [
    "# Tasa Departamental de letalidad por grupo etario "
   ]
  },
  {
   "cell_type": "code",
   "execution_count": 251,
   "metadata": {
    "slideshow": {
     "slide_type": "skip"
    }
   },
   "outputs": [],
   "source": [
    "etartotal = pd.read_csv('/Users/Dr.LuisEvelioRestrepoGarcia/REPOS/poblacionEdad1985_2035_upper.csv', low_memory=False)\n",
    "etartotal.drop(columns=['Unnamed: 108',\n",
    "       'Unnamed: 109'], inplace=True)\n",
    "\n",
    "etartotal = etartotal.loc[(etartotal['AREA GEOGRAFICA']=='Total')&(etartotal['AÑO']=='2020'),:].drop(columns=['AREA GEOGRAFICA'])\n",
    "\n",
    "etartotal.reset_index(drop=True, inplace=True)"
   ]
  },
  {
   "cell_type": "code",
   "execution_count": 252,
   "metadata": {
    "slideshow": {
     "slide_type": "subslide"
    }
   },
   "outputs": [
    {
     "data": {
      "text/html": [
       "<div>\n",
       "<style scoped>\n",
       "    .dataframe tbody tr th:only-of-type {\n",
       "        vertical-align: middle;\n",
       "    }\n",
       "\n",
       "    .dataframe tbody tr th {\n",
       "        vertical-align: top;\n",
       "    }\n",
       "\n",
       "    .dataframe thead th {\n",
       "        text-align: right;\n",
       "    }\n",
       "</style>\n",
       "<table border=\"1\" class=\"dataframe\">\n",
       "  <thead>\n",
       "    <tr style=\"text-align: right;\">\n",
       "      <th></th>\n",
       "      <th>DEPARTAMENTO</th>\n",
       "      <th>MUNICIPIO</th>\n",
       "      <th>AÑO</th>\n",
       "      <th>Total_0</th>\n",
       "      <th>Total_1</th>\n",
       "      <th>Total_2</th>\n",
       "      <th>Total_3</th>\n",
       "      <th>Total_4</th>\n",
       "      <th>Total_5</th>\n",
       "      <th>Total_6</th>\n",
       "      <th>...</th>\n",
       "      <th>Total_94</th>\n",
       "      <th>Total_95</th>\n",
       "      <th>Total_96</th>\n",
       "      <th>Total_97</th>\n",
       "      <th>Total_98</th>\n",
       "      <th>Total_99</th>\n",
       "      <th>Total_100 y mAs</th>\n",
       "      <th>Total Hombres</th>\n",
       "      <th>Total Mujeres</th>\n",
       "      <th>Total</th>\n",
       "    </tr>\n",
       "  </thead>\n",
       "  <tbody>\n",
       "    <tr>\n",
       "      <th>318</th>\n",
       "      <td>CALDAS</td>\n",
       "      <td>MANIZALES</td>\n",
       "      <td>2020</td>\n",
       "      <td>4600</td>\n",
       "      <td>4740</td>\n",
       "      <td>4743</td>\n",
       "      <td>4751</td>\n",
       "      <td>4753</td>\n",
       "      <td>4762</td>\n",
       "      <td>4771</td>\n",
       "      <td>...</td>\n",
       "      <td>260</td>\n",
       "      <td>224</td>\n",
       "      <td>177</td>\n",
       "      <td>141</td>\n",
       "      <td>105</td>\n",
       "      <td>83</td>\n",
       "      <td>201</td>\n",
       "      <td>210254</td>\n",
       "      <td>235906</td>\n",
       "      <td>446160</td>\n",
       "    </tr>\n",
       "    <tr>\n",
       "      <th>319</th>\n",
       "      <td>CALDAS</td>\n",
       "      <td>AGUADAS</td>\n",
       "      <td>2020</td>\n",
       "      <td>332</td>\n",
       "      <td>335</td>\n",
       "      <td>339</td>\n",
       "      <td>337</td>\n",
       "      <td>336</td>\n",
       "      <td>334</td>\n",
       "      <td>333</td>\n",
       "      <td>...</td>\n",
       "      <td>14</td>\n",
       "      <td>8</td>\n",
       "      <td>8</td>\n",
       "      <td>7</td>\n",
       "      <td>7</td>\n",
       "      <td>9</td>\n",
       "      <td>13</td>\n",
       "      <td>11486</td>\n",
       "      <td>11562</td>\n",
       "      <td>23048</td>\n",
       "    </tr>\n",
       "    <tr>\n",
       "      <th>320</th>\n",
       "      <td>CALDAS</td>\n",
       "      <td>ANSERMA</td>\n",
       "      <td>2020</td>\n",
       "      <td>470</td>\n",
       "      <td>478</td>\n",
       "      <td>482</td>\n",
       "      <td>481</td>\n",
       "      <td>487</td>\n",
       "      <td>488</td>\n",
       "      <td>490</td>\n",
       "      <td>...</td>\n",
       "      <td>24</td>\n",
       "      <td>20</td>\n",
       "      <td>17</td>\n",
       "      <td>11</td>\n",
       "      <td>9</td>\n",
       "      <td>10</td>\n",
       "      <td>17</td>\n",
       "      <td>18339</td>\n",
       "      <td>18352</td>\n",
       "      <td>36691</td>\n",
       "    </tr>\n",
       "    <tr>\n",
       "      <th>321</th>\n",
       "      <td>CALDAS</td>\n",
       "      <td>ARANZAZU</td>\n",
       "      <td>2020</td>\n",
       "      <td>153</td>\n",
       "      <td>158</td>\n",
       "      <td>158</td>\n",
       "      <td>157</td>\n",
       "      <td>158</td>\n",
       "      <td>157</td>\n",
       "      <td>158</td>\n",
       "      <td>...</td>\n",
       "      <td>7</td>\n",
       "      <td>5</td>\n",
       "      <td>6</td>\n",
       "      <td>6</td>\n",
       "      <td>3</td>\n",
       "      <td>5</td>\n",
       "      <td>6</td>\n",
       "      <td>4971</td>\n",
       "      <td>5585</td>\n",
       "      <td>10556</td>\n",
       "    </tr>\n",
       "    <tr>\n",
       "      <th>322</th>\n",
       "      <td>CALDAS</td>\n",
       "      <td>BELALCAZAR</td>\n",
       "      <td>2020</td>\n",
       "      <td>195</td>\n",
       "      <td>199</td>\n",
       "      <td>200</td>\n",
       "      <td>195</td>\n",
       "      <td>193</td>\n",
       "      <td>190</td>\n",
       "      <td>185</td>\n",
       "      <td>...</td>\n",
       "      <td>9</td>\n",
       "      <td>5</td>\n",
       "      <td>6</td>\n",
       "      <td>6</td>\n",
       "      <td>3</td>\n",
       "      <td>5</td>\n",
       "      <td>6</td>\n",
       "      <td>5402</td>\n",
       "      <td>5248</td>\n",
       "      <td>10650</td>\n",
       "    </tr>\n",
       "    <tr>\n",
       "      <th>323</th>\n",
       "      <td>CALDAS</td>\n",
       "      <td>CHINCHINA</td>\n",
       "      <td>2020</td>\n",
       "      <td>610</td>\n",
       "      <td>623</td>\n",
       "      <td>627</td>\n",
       "      <td>630</td>\n",
       "      <td>635</td>\n",
       "      <td>644</td>\n",
       "      <td>649</td>\n",
       "      <td>...</td>\n",
       "      <td>27</td>\n",
       "      <td>20</td>\n",
       "      <td>19</td>\n",
       "      <td>11</td>\n",
       "      <td>11</td>\n",
       "      <td>7</td>\n",
       "      <td>16</td>\n",
       "      <td>25061</td>\n",
       "      <td>27206</td>\n",
       "      <td>52267</td>\n",
       "    </tr>\n",
       "    <tr>\n",
       "      <th>324</th>\n",
       "      <td>CALDAS</td>\n",
       "      <td>FILADELFIA</td>\n",
       "      <td>2020</td>\n",
       "      <td>149</td>\n",
       "      <td>148</td>\n",
       "      <td>151</td>\n",
       "      <td>152</td>\n",
       "      <td>151</td>\n",
       "      <td>159</td>\n",
       "      <td>157</td>\n",
       "      <td>...</td>\n",
       "      <td>6</td>\n",
       "      <td>6</td>\n",
       "      <td>4</td>\n",
       "      <td>3</td>\n",
       "      <td>4</td>\n",
       "      <td>5</td>\n",
       "      <td>6</td>\n",
       "      <td>5724</td>\n",
       "      <td>5676</td>\n",
       "      <td>11400</td>\n",
       "    </tr>\n",
       "    <tr>\n",
       "      <th>325</th>\n",
       "      <td>CALDAS</td>\n",
       "      <td>LA DORADA</td>\n",
       "      <td>2020</td>\n",
       "      <td>1087</td>\n",
       "      <td>1116</td>\n",
       "      <td>1118</td>\n",
       "      <td>1119</td>\n",
       "      <td>1123</td>\n",
       "      <td>1120</td>\n",
       "      <td>1120</td>\n",
       "      <td>...</td>\n",
       "      <td>24</td>\n",
       "      <td>21</td>\n",
       "      <td>18</td>\n",
       "      <td>13</td>\n",
       "      <td>8</td>\n",
       "      <td>11</td>\n",
       "      <td>23</td>\n",
       "      <td>35874</td>\n",
       "      <td>38132</td>\n",
       "      <td>74006</td>\n",
       "    </tr>\n",
       "    <tr>\n",
       "      <th>326</th>\n",
       "      <td>CALDAS</td>\n",
       "      <td>LA MERCED</td>\n",
       "      <td>2020</td>\n",
       "      <td>71</td>\n",
       "      <td>73</td>\n",
       "      <td>73</td>\n",
       "      <td>72</td>\n",
       "      <td>74</td>\n",
       "      <td>74</td>\n",
       "      <td>74</td>\n",
       "      <td>...</td>\n",
       "      <td>3</td>\n",
       "      <td>3</td>\n",
       "      <td>2</td>\n",
       "      <td>2</td>\n",
       "      <td>-</td>\n",
       "      <td>4</td>\n",
       "      <td>2</td>\n",
       "      <td>2989</td>\n",
       "      <td>2893</td>\n",
       "      <td>5882</td>\n",
       "    </tr>\n",
       "    <tr>\n",
       "      <th>327</th>\n",
       "      <td>CALDAS</td>\n",
       "      <td>MANZANARES</td>\n",
       "      <td>2020</td>\n",
       "      <td>265</td>\n",
       "      <td>270</td>\n",
       "      <td>270</td>\n",
       "      <td>272</td>\n",
       "      <td>269</td>\n",
       "      <td>268</td>\n",
       "      <td>266</td>\n",
       "      <td>...</td>\n",
       "      <td>10</td>\n",
       "      <td>11</td>\n",
       "      <td>8</td>\n",
       "      <td>8</td>\n",
       "      <td>4</td>\n",
       "      <td>8</td>\n",
       "      <td>38</td>\n",
       "      <td>8965</td>\n",
       "      <td>8829</td>\n",
       "      <td>17794</td>\n",
       "    </tr>\n",
       "    <tr>\n",
       "      <th>328</th>\n",
       "      <td>CALDAS</td>\n",
       "      <td>MARMATO</td>\n",
       "      <td>2020</td>\n",
       "      <td>183</td>\n",
       "      <td>185</td>\n",
       "      <td>186</td>\n",
       "      <td>183</td>\n",
       "      <td>178</td>\n",
       "      <td>173</td>\n",
       "      <td>170</td>\n",
       "      <td>...</td>\n",
       "      <td>3</td>\n",
       "      <td>5</td>\n",
       "      <td>2</td>\n",
       "      <td>3</td>\n",
       "      <td>1</td>\n",
       "      <td>4</td>\n",
       "      <td>2</td>\n",
       "      <td>4666</td>\n",
       "      <td>4501</td>\n",
       "      <td>9167</td>\n",
       "    </tr>\n",
       "    <tr>\n",
       "      <th>329</th>\n",
       "      <td>CALDAS</td>\n",
       "      <td>MARQUETALIA</td>\n",
       "      <td>2020</td>\n",
       "      <td>216</td>\n",
       "      <td>218</td>\n",
       "      <td>219</td>\n",
       "      <td>221</td>\n",
       "      <td>220</td>\n",
       "      <td>220</td>\n",
       "      <td>217</td>\n",
       "      <td>...</td>\n",
       "      <td>7</td>\n",
       "      <td>6</td>\n",
       "      <td>4</td>\n",
       "      <td>6</td>\n",
       "      <td>2</td>\n",
       "      <td>5</td>\n",
       "      <td>6</td>\n",
       "      <td>6792</td>\n",
       "      <td>6698</td>\n",
       "      <td>13490</td>\n",
       "    </tr>\n",
       "    <tr>\n",
       "      <th>330</th>\n",
       "      <td>CALDAS</td>\n",
       "      <td>MARULANDA</td>\n",
       "      <td>2020</td>\n",
       "      <td>46</td>\n",
       "      <td>47</td>\n",
       "      <td>47</td>\n",
       "      <td>46</td>\n",
       "      <td>44</td>\n",
       "      <td>43</td>\n",
       "      <td>41</td>\n",
       "      <td>...</td>\n",
       "      <td>1</td>\n",
       "      <td>-</td>\n",
       "      <td>1</td>\n",
       "      <td>-</td>\n",
       "      <td>2</td>\n",
       "      <td>2</td>\n",
       "      <td>-</td>\n",
       "      <td>1342</td>\n",
       "      <td>1202</td>\n",
       "      <td>2544</td>\n",
       "    </tr>\n",
       "    <tr>\n",
       "      <th>331</th>\n",
       "      <td>CALDAS</td>\n",
       "      <td>NEIRA</td>\n",
       "      <td>2020</td>\n",
       "      <td>299</td>\n",
       "      <td>303</td>\n",
       "      <td>305</td>\n",
       "      <td>305</td>\n",
       "      <td>305</td>\n",
       "      <td>303</td>\n",
       "      <td>304</td>\n",
       "      <td>...</td>\n",
       "      <td>10</td>\n",
       "      <td>5</td>\n",
       "      <td>6</td>\n",
       "      <td>6</td>\n",
       "      <td>4</td>\n",
       "      <td>7</td>\n",
       "      <td>11</td>\n",
       "      <td>10575</td>\n",
       "      <td>10539</td>\n",
       "      <td>21114</td>\n",
       "    </tr>\n",
       "    <tr>\n",
       "      <th>332</th>\n",
       "      <td>CALDAS</td>\n",
       "      <td>NORCASIA</td>\n",
       "      <td>2020</td>\n",
       "      <td>102</td>\n",
       "      <td>106</td>\n",
       "      <td>106</td>\n",
       "      <td>106</td>\n",
       "      <td>104</td>\n",
       "      <td>108</td>\n",
       "      <td>105</td>\n",
       "      <td>...</td>\n",
       "      <td>2</td>\n",
       "      <td>3</td>\n",
       "      <td>2</td>\n",
       "      <td>5</td>\n",
       "      <td>2</td>\n",
       "      <td>4</td>\n",
       "      <td>3</td>\n",
       "      <td>3049</td>\n",
       "      <td>3079</td>\n",
       "      <td>6128</td>\n",
       "    </tr>\n",
       "    <tr>\n",
       "      <th>333</th>\n",
       "      <td>CALDAS</td>\n",
       "      <td>PACORA</td>\n",
       "      <td>2020</td>\n",
       "      <td>183</td>\n",
       "      <td>186</td>\n",
       "      <td>188</td>\n",
       "      <td>186</td>\n",
       "      <td>187</td>\n",
       "      <td>188</td>\n",
       "      <td>189</td>\n",
       "      <td>...</td>\n",
       "      <td>11</td>\n",
       "      <td>8</td>\n",
       "      <td>9</td>\n",
       "      <td>3</td>\n",
       "      <td>5</td>\n",
       "      <td>7</td>\n",
       "      <td>6</td>\n",
       "      <td>7724</td>\n",
       "      <td>7600</td>\n",
       "      <td>15324</td>\n",
       "    </tr>\n",
       "    <tr>\n",
       "      <th>334</th>\n",
       "      <td>CALDAS</td>\n",
       "      <td>PALESTINA</td>\n",
       "      <td>2020</td>\n",
       "      <td>239</td>\n",
       "      <td>242</td>\n",
       "      <td>243</td>\n",
       "      <td>242</td>\n",
       "      <td>239</td>\n",
       "      <td>236</td>\n",
       "      <td>233</td>\n",
       "      <td>...</td>\n",
       "      <td>8</td>\n",
       "      <td>8</td>\n",
       "      <td>7</td>\n",
       "      <td>6</td>\n",
       "      <td>6</td>\n",
       "      <td>6</td>\n",
       "      <td>6</td>\n",
       "      <td>7923</td>\n",
       "      <td>7758</td>\n",
       "      <td>15681</td>\n",
       "    </tr>\n",
       "    <tr>\n",
       "      <th>335</th>\n",
       "      <td>CALDAS</td>\n",
       "      <td>PENSILVANIA</td>\n",
       "      <td>2020</td>\n",
       "      <td>299</td>\n",
       "      <td>303</td>\n",
       "      <td>304</td>\n",
       "      <td>305</td>\n",
       "      <td>304</td>\n",
       "      <td>304</td>\n",
       "      <td>305</td>\n",
       "      <td>...</td>\n",
       "      <td>15</td>\n",
       "      <td>12</td>\n",
       "      <td>11</td>\n",
       "      <td>7</td>\n",
       "      <td>7</td>\n",
       "      <td>8</td>\n",
       "      <td>11</td>\n",
       "      <td>9968</td>\n",
       "      <td>9787</td>\n",
       "      <td>19755</td>\n",
       "    </tr>\n",
       "    <tr>\n",
       "      <th>336</th>\n",
       "      <td>CALDAS</td>\n",
       "      <td>RIOSUCIO</td>\n",
       "      <td>2020</td>\n",
       "      <td>809</td>\n",
       "      <td>814</td>\n",
       "      <td>822</td>\n",
       "      <td>814</td>\n",
       "      <td>803</td>\n",
       "      <td>793</td>\n",
       "      <td>780</td>\n",
       "      <td>...</td>\n",
       "      <td>35</td>\n",
       "      <td>31</td>\n",
       "      <td>22</td>\n",
       "      <td>17</td>\n",
       "      <td>11</td>\n",
       "      <td>12</td>\n",
       "      <td>24</td>\n",
       "      <td>25679</td>\n",
       "      <td>26277</td>\n",
       "      <td>51956</td>\n",
       "    </tr>\n",
       "    <tr>\n",
       "      <th>337</th>\n",
       "      <td>CALDAS</td>\n",
       "      <td>RISARALDA</td>\n",
       "      <td>2020</td>\n",
       "      <td>146</td>\n",
       "      <td>148</td>\n",
       "      <td>149</td>\n",
       "      <td>149</td>\n",
       "      <td>147</td>\n",
       "      <td>147</td>\n",
       "      <td>146</td>\n",
       "      <td>...</td>\n",
       "      <td>6</td>\n",
       "      <td>6</td>\n",
       "      <td>5</td>\n",
       "      <td>5</td>\n",
       "      <td>3</td>\n",
       "      <td>5</td>\n",
       "      <td>7</td>\n",
       "      <td>5527</td>\n",
       "      <td>5041</td>\n",
       "      <td>10568</td>\n",
       "    </tr>\n",
       "    <tr>\n",
       "      <th>338</th>\n",
       "      <td>CALDAS</td>\n",
       "      <td>SALAMINA</td>\n",
       "      <td>2020</td>\n",
       "      <td>228</td>\n",
       "      <td>232</td>\n",
       "      <td>233</td>\n",
       "      <td>234</td>\n",
       "      <td>238</td>\n",
       "      <td>241</td>\n",
       "      <td>245</td>\n",
       "      <td>...</td>\n",
       "      <td>15</td>\n",
       "      <td>11</td>\n",
       "      <td>8</td>\n",
       "      <td>8</td>\n",
       "      <td>6</td>\n",
       "      <td>7</td>\n",
       "      <td>11</td>\n",
       "      <td>9740</td>\n",
       "      <td>9653</td>\n",
       "      <td>19393</td>\n",
       "    </tr>\n",
       "    <tr>\n",
       "      <th>339</th>\n",
       "      <td>CALDAS</td>\n",
       "      <td>SAMANA</td>\n",
       "      <td>2020</td>\n",
       "      <td>339</td>\n",
       "      <td>340</td>\n",
       "      <td>343</td>\n",
       "      <td>343</td>\n",
       "      <td>341</td>\n",
       "      <td>340</td>\n",
       "      <td>339</td>\n",
       "      <td>...</td>\n",
       "      <td>10</td>\n",
       "      <td>9</td>\n",
       "      <td>6</td>\n",
       "      <td>8</td>\n",
       "      <td>5</td>\n",
       "      <td>7</td>\n",
       "      <td>8</td>\n",
       "      <td>10166</td>\n",
       "      <td>9801</td>\n",
       "      <td>19967</td>\n",
       "    </tr>\n",
       "    <tr>\n",
       "      <th>340</th>\n",
       "      <td>CALDAS</td>\n",
       "      <td>SAN JOSE</td>\n",
       "      <td>2020</td>\n",
       "      <td>80</td>\n",
       "      <td>84</td>\n",
       "      <td>83</td>\n",
       "      <td>81</td>\n",
       "      <td>81</td>\n",
       "      <td>77</td>\n",
       "      <td>77</td>\n",
       "      <td>...</td>\n",
       "      <td>3</td>\n",
       "      <td>4</td>\n",
       "      <td>2</td>\n",
       "      <td>3</td>\n",
       "      <td>-</td>\n",
       "      <td>4</td>\n",
       "      <td>2</td>\n",
       "      <td>2526</td>\n",
       "      <td>2390</td>\n",
       "      <td>4916</td>\n",
       "    </tr>\n",
       "    <tr>\n",
       "      <th>341</th>\n",
       "      <td>CALDAS</td>\n",
       "      <td>SUPIA</td>\n",
       "      <td>2020</td>\n",
       "      <td>460</td>\n",
       "      <td>468</td>\n",
       "      <td>470</td>\n",
       "      <td>465</td>\n",
       "      <td>459</td>\n",
       "      <td>454</td>\n",
       "      <td>444</td>\n",
       "      <td>...</td>\n",
       "      <td>17</td>\n",
       "      <td>13</td>\n",
       "      <td>10</td>\n",
       "      <td>9</td>\n",
       "      <td>6</td>\n",
       "      <td>9</td>\n",
       "      <td>13</td>\n",
       "      <td>14366</td>\n",
       "      <td>14997</td>\n",
       "      <td>29363</td>\n",
       "    </tr>\n",
       "    <tr>\n",
       "      <th>342</th>\n",
       "      <td>CALDAS</td>\n",
       "      <td>VICTORIA</td>\n",
       "      <td>2020</td>\n",
       "      <td>160</td>\n",
       "      <td>160</td>\n",
       "      <td>162</td>\n",
       "      <td>163</td>\n",
       "      <td>163</td>\n",
       "      <td>164</td>\n",
       "      <td>163</td>\n",
       "      <td>...</td>\n",
       "      <td>4</td>\n",
       "      <td>5</td>\n",
       "      <td>4</td>\n",
       "      <td>4</td>\n",
       "      <td>4</td>\n",
       "      <td>5</td>\n",
       "      <td>6</td>\n",
       "      <td>5116</td>\n",
       "      <td>5235</td>\n",
       "      <td>10351</td>\n",
       "    </tr>\n",
       "    <tr>\n",
       "      <th>343</th>\n",
       "      <td>CALDAS</td>\n",
       "      <td>VILLAMARIA</td>\n",
       "      <td>2020</td>\n",
       "      <td>856</td>\n",
       "      <td>879</td>\n",
       "      <td>881</td>\n",
       "      <td>882</td>\n",
       "      <td>878</td>\n",
       "      <td>877</td>\n",
       "      <td>876</td>\n",
       "      <td>...</td>\n",
       "      <td>26</td>\n",
       "      <td>23</td>\n",
       "      <td>17</td>\n",
       "      <td>14</td>\n",
       "      <td>10</td>\n",
       "      <td>10</td>\n",
       "      <td>29</td>\n",
       "      <td>32463</td>\n",
       "      <td>34966</td>\n",
       "      <td>67429</td>\n",
       "    </tr>\n",
       "    <tr>\n",
       "      <th>344</th>\n",
       "      <td>CALDAS</td>\n",
       "      <td>VITERBO</td>\n",
       "      <td>2020</td>\n",
       "      <td>139</td>\n",
       "      <td>144</td>\n",
       "      <td>142</td>\n",
       "      <td>146</td>\n",
       "      <td>149</td>\n",
       "      <td>152</td>\n",
       "      <td>156</td>\n",
       "      <td>...</td>\n",
       "      <td>7</td>\n",
       "      <td>6</td>\n",
       "      <td>5</td>\n",
       "      <td>4</td>\n",
       "      <td>5</td>\n",
       "      <td>6</td>\n",
       "      <td>8</td>\n",
       "      <td>6096</td>\n",
       "      <td>6757</td>\n",
       "      <td>12853</td>\n",
       "    </tr>\n",
       "  </tbody>\n",
       "</table>\n",
       "<p>27 rows × 107 columns</p>\n",
       "</div>"
      ],
      "text/plain": [
       "    DEPARTAMENTO    MUNICIPIO   AÑO Total_0 Total_1 Total_2 Total_3 Total_4  \\\n",
       "318       CALDAS    MANIZALES  2020    4600    4740    4743    4751    4753   \n",
       "319       CALDAS      AGUADAS  2020     332     335     339     337     336   \n",
       "320       CALDAS      ANSERMA  2020     470     478     482     481     487   \n",
       "321       CALDAS     ARANZAZU  2020     153     158     158     157     158   \n",
       "322       CALDAS   BELALCAZAR  2020     195     199     200     195     193   \n",
       "323       CALDAS    CHINCHINA  2020     610     623     627     630     635   \n",
       "324       CALDAS   FILADELFIA  2020     149     148     151     152     151   \n",
       "325       CALDAS    LA DORADA  2020    1087    1116    1118    1119    1123   \n",
       "326       CALDAS    LA MERCED  2020      71      73      73      72      74   \n",
       "327       CALDAS   MANZANARES  2020     265     270     270     272     269   \n",
       "328       CALDAS      MARMATO  2020     183     185     186     183     178   \n",
       "329       CALDAS  MARQUETALIA  2020     216     218     219     221     220   \n",
       "330       CALDAS    MARULANDA  2020      46      47      47      46      44   \n",
       "331       CALDAS        NEIRA  2020     299     303     305     305     305   \n",
       "332       CALDAS     NORCASIA  2020     102     106     106     106     104   \n",
       "333       CALDAS       PACORA  2020     183     186     188     186     187   \n",
       "334       CALDAS    PALESTINA  2020     239     242     243     242     239   \n",
       "335       CALDAS  PENSILVANIA  2020     299     303     304     305     304   \n",
       "336       CALDAS     RIOSUCIO  2020     809     814     822     814     803   \n",
       "337       CALDAS    RISARALDA  2020     146     148     149     149     147   \n",
       "338       CALDAS     SALAMINA  2020     228     232     233     234     238   \n",
       "339       CALDAS       SAMANA  2020     339     340     343     343     341   \n",
       "340       CALDAS     SAN JOSE  2020      80      84      83      81      81   \n",
       "341       CALDAS        SUPIA  2020     460     468     470     465     459   \n",
       "342       CALDAS     VICTORIA  2020     160     160     162     163     163   \n",
       "343       CALDAS   VILLAMARIA  2020     856     879     881     882     878   \n",
       "344       CALDAS      VITERBO  2020     139     144     142     146     149   \n",
       "\n",
       "    Total_5 Total_6  ... Total_94 Total_95 Total_96 Total_97 Total_98  \\\n",
       "318    4762    4771  ...      260      224      177      141      105   \n",
       "319     334     333  ...       14        8        8        7        7   \n",
       "320     488     490  ...       24       20       17       11        9   \n",
       "321     157     158  ...        7        5        6        6        3   \n",
       "322     190     185  ...        9        5        6        6        3   \n",
       "323     644     649  ...       27       20       19       11       11   \n",
       "324     159     157  ...        6        6        4        3        4   \n",
       "325    1120    1120  ...       24       21       18       13        8   \n",
       "326      74      74  ...        3        3        2        2       -    \n",
       "327     268     266  ...       10       11        8        8        4   \n",
       "328     173     170  ...        3        5        2        3        1   \n",
       "329     220     217  ...        7        6        4        6        2   \n",
       "330      43      41  ...        1       -         1       -         2   \n",
       "331     303     304  ...       10        5        6        6        4   \n",
       "332     108     105  ...        2        3        2        5        2   \n",
       "333     188     189  ...       11        8        9        3        5   \n",
       "334     236     233  ...        8        8        7        6        6   \n",
       "335     304     305  ...       15       12       11        7        7   \n",
       "336     793     780  ...       35       31       22       17       11   \n",
       "337     147     146  ...        6        6        5        5        3   \n",
       "338     241     245  ...       15       11        8        8        6   \n",
       "339     340     339  ...       10        9        6        8        5   \n",
       "340      77      77  ...        3        4        2        3       -    \n",
       "341     454     444  ...       17       13       10        9        6   \n",
       "342     164     163  ...        4        5        4        4        4   \n",
       "343     877     876  ...       26       23       17       14       10   \n",
       "344     152     156  ...        7        6        5        4        5   \n",
       "\n",
       "    Total_99 Total_100 y mAs Total Hombres Total Mujeres   Total  \n",
       "318       83             201        210254        235906  446160  \n",
       "319        9              13         11486         11562   23048  \n",
       "320       10              17         18339         18352   36691  \n",
       "321        5               6          4971          5585   10556  \n",
       "322        5               6          5402          5248   10650  \n",
       "323        7              16         25061         27206   52267  \n",
       "324        5               6          5724          5676   11400  \n",
       "325       11              23         35874         38132   74006  \n",
       "326        4               2          2989          2893    5882  \n",
       "327        8              38          8965          8829   17794  \n",
       "328        4               2          4666          4501    9167  \n",
       "329        5               6          6792          6698   13490  \n",
       "330        2              -           1342          1202    2544  \n",
       "331        7              11         10575         10539   21114  \n",
       "332        4               3          3049          3079    6128  \n",
       "333        7               6          7724          7600   15324  \n",
       "334        6               6          7923          7758   15681  \n",
       "335        8              11          9968          9787   19755  \n",
       "336       12              24         25679         26277   51956  \n",
       "337        5               7          5527          5041   10568  \n",
       "338        7              11          9740          9653   19393  \n",
       "339        7               8         10166          9801   19967  \n",
       "340        4               2          2526          2390    4916  \n",
       "341        9              13         14366         14997   29363  \n",
       "342        5               6          5116          5235   10351  \n",
       "343       10              29         32463         34966   67429  \n",
       "344        6               8          6096          6757   12853  \n",
       "\n",
       "[27 rows x 107 columns]"
      ]
     },
     "execution_count": 252,
     "metadata": {},
     "output_type": "execute_result"
    }
   ],
   "source": [
    "etartotal.loc[etartotal['DEPARTAMENTO']==localidad,:]\n"
   ]
  },
  {
   "cell_type": "markdown",
   "metadata": {
    "slideshow": {
     "slide_type": "slide"
    }
   },
   "source": [
    "# Tasa mortalidad grupo etario municipio"
   ]
  },
  {
   "cell_type": "code",
   "execution_count": 253,
   "metadata": {
    "slideshow": {
     "slide_type": "skip"
    }
   },
   "outputs": [],
   "source": [
    "edad_0_a_4 = CasosporEdadMunicipio.loc['Número de casos',0:4].sum()\n",
    "edad_5_a_14 = CasosporEdadMunicipio.loc['Número de casos',5:14].sum()\n",
    "edad_15_a_44 = CasosporEdadMunicipio.loc['Número de casos',15:44].sum()\n",
    "edad_45_a_64 = CasosporEdadMunicipio.loc['Número de casos',45:64].sum()\n",
    "edad_65_a_84 = CasosporEdadMunicipio.loc['Número de casos',65:84].sum()\n",
    "edad_85_a_99 = CasosporEdadMunicipio.loc['Número de casos',85:99].sum()\n",
    "edad_100_o_mas = CasosporEdadMunicipio.loc['Número de casos',100:].sum()\n",
    "\n"
   ]
  },
  {
   "cell_type": "code",
   "execution_count": 254,
   "metadata": {
    "slideshow": {
     "slide_type": "skip"
    }
   },
   "outputs": [],
   "source": [
    "CasosporEdadMunicipio['edad 0 a 4']=edad_0_a_4\n",
    "CasosporEdadMunicipio['edad 5 a 14']=edad_5_a_14\n",
    "CasosporEdadMunicipio['edad 15 a 44']=edad_15_a_44\n",
    "CasosporEdadMunicipio['edad 45 a 64']=edad_45_a_64\n",
    "CasosporEdadMunicipio['edad 65 a 84']=edad_65_a_84\n",
    "CasosporEdadMunicipio['edad 85 a 99']=edad_85_a_99\n",
    "CasosporEdadMunicipio['edad 100 o más']=edad_100_o_mas\n",
    "CasosporEdadMunicipio['Total']=edad_0_a_4+edad_5_a_14+edad_15_a_44+edad_45_a_64+edad_65_a_84+edad_85_a_99+edad_100_o_mas"
   ]
  },
  {
   "cell_type": "code",
   "execution_count": 255,
   "metadata": {
    "slideshow": {
     "slide_type": "skip"
    }
   },
   "outputs": [],
   "source": [
    "for i in range(0,124):\n",
    "    try:\n",
    "        CasosporEdadMunicipio.drop(columns=i, inplace=True)\n",
    "    except:\n",
    "        pass\n",
    "        "
   ]
  },
  {
   "cell_type": "markdown",
   "metadata": {
    "slideshow": {
     "slide_type": "slide"
    }
   },
   "source": [
    "# Municipio:  Casos por grupo etario"
   ]
  },
  {
   "cell_type": "code",
   "execution_count": 256,
   "metadata": {
    "scrolled": true,
    "slideshow": {
     "slide_type": "subslide"
    }
   },
   "outputs": [
    {
     "data": {
      "text/html": [
       "<div>\n",
       "<style scoped>\n",
       "    .dataframe tbody tr th:only-of-type {\n",
       "        vertical-align: middle;\n",
       "    }\n",
       "\n",
       "    .dataframe tbody tr th {\n",
       "        vertical-align: top;\n",
       "    }\n",
       "\n",
       "    .dataframe thead th {\n",
       "        text-align: right;\n",
       "    }\n",
       "</style>\n",
       "<table border=\"1\" class=\"dataframe\">\n",
       "  <thead>\n",
       "    <tr style=\"text-align: right;\">\n",
       "      <th></th>\n",
       "      <th>edad 0 a 4</th>\n",
       "      <th>edad 5 a 14</th>\n",
       "      <th>edad 15 a 44</th>\n",
       "      <th>edad 45 a 64</th>\n",
       "      <th>edad 65 a 84</th>\n",
       "      <th>edad 85 a 99</th>\n",
       "      <th>edad 100 o más</th>\n",
       "      <th>Total</th>\n",
       "    </tr>\n",
       "  </thead>\n",
       "  <tbody>\n",
       "    <tr>\n",
       "      <th>Número de casos</th>\n",
       "      <td>167</td>\n",
       "      <td>616</td>\n",
       "      <td>9717</td>\n",
       "      <td>4749</td>\n",
       "      <td>2003</td>\n",
       "      <td>281</td>\n",
       "      <td>6</td>\n",
       "      <td>17539</td>\n",
       "    </tr>\n",
       "    <tr>\n",
       "      <th>Ubicacion</th>\n",
       "      <td>167</td>\n",
       "      <td>616</td>\n",
       "      <td>9717</td>\n",
       "      <td>4749</td>\n",
       "      <td>2003</td>\n",
       "      <td>281</td>\n",
       "      <td>6</td>\n",
       "      <td>17539</td>\n",
       "    </tr>\n",
       "    <tr>\n",
       "      <th>Recuperado</th>\n",
       "      <td>167</td>\n",
       "      <td>616</td>\n",
       "      <td>9717</td>\n",
       "      <td>4749</td>\n",
       "      <td>2003</td>\n",
       "      <td>281</td>\n",
       "      <td>6</td>\n",
       "      <td>17539</td>\n",
       "    </tr>\n",
       "  </tbody>\n",
       "</table>\n",
       "</div>"
      ],
      "text/plain": [
       "                 edad 0 a 4  edad 5 a 14  edad 15 a 44  edad 45 a 64  \\\n",
       "Número de casos         167          616          9717          4749   \n",
       "Ubicacion               167          616          9717          4749   \n",
       "Recuperado              167          616          9717          4749   \n",
       "\n",
       "                 edad 65 a 84  edad 85 a 99  edad 100 o más  Total  \n",
       "Número de casos          2003           281               6  17539  \n",
       "Ubicacion                2003           281               6  17539  \n",
       "Recuperado               2003           281               6  17539  "
      ]
     },
     "execution_count": 256,
     "metadata": {},
     "output_type": "execute_result"
    }
   ],
   "source": [
    "CasosporEdadMunicipio"
   ]
  },
  {
   "cell_type": "code",
   "execution_count": 257,
   "metadata": {
    "slideshow": {
     "slide_type": "skip"
    }
   },
   "outputs": [],
   "source": [
    "edad_0_a_4 = fallecidosporEdadMunicipio.loc['Número de fallecidos',0:4].sum()\n",
    "edad_5_a_14 = fallecidosporEdadMunicipio.loc['Número de fallecidos',5:14].sum()\n",
    "edad_15_a_44 = fallecidosporEdadMunicipio.loc['Número de fallecidos',15:44].sum()\n",
    "edad_45_a_64 = fallecidosporEdadMunicipio.loc['Número de fallecidos',45:64].sum()\n",
    "edad_65_a_84 = fallecidosporEdadMunicipio.loc['Número de fallecidos',65:84].sum()\n",
    "edad_85_a_99 = fallecidosporEdadMunicipio.loc['Número de fallecidos',85:99].sum()\n",
    "edad_100_o_mas = fallecidosporEdadMunicipio.loc['Número de fallecidos',100:].sum()"
   ]
  },
  {
   "cell_type": "code",
   "execution_count": 258,
   "metadata": {
    "slideshow": {
     "slide_type": "skip"
    }
   },
   "outputs": [],
   "source": [
    "fallecidosporEdadMunicipio['edad 0 a 4']=edad_0_a_4\n",
    "fallecidosporEdadMunicipio['edad 5 a 14']=edad_5_a_14\n",
    "fallecidosporEdadMunicipio['edad 15 a 44']=edad_15_a_44\n",
    "fallecidosporEdadMunicipio['edad 45 a 64']=edad_45_a_64\n",
    "fallecidosporEdadMunicipio['edad 65 a 84']=edad_65_a_84\n",
    "fallecidosporEdadMunicipio['edad 85 a 99']=edad_85_a_99\n",
    "fallecidosporEdadMunicipio['edad 100 o más']=edad_100_o_mas\n",
    "fallecidosporEdadMunicipio['Total']=edad_0_a_4+edad_5_a_14+edad_15_a_44+edad_45_a_64+edad_65_a_84+edad_85_a_99+edad_100_o_mas"
   ]
  },
  {
   "cell_type": "code",
   "execution_count": 259,
   "metadata": {
    "slideshow": {
     "slide_type": "skip"
    }
   },
   "outputs": [],
   "source": [
    "for i in range(0,124):\n",
    "    try:\n",
    "        fallecidosporEdadMunicipio.drop(columns=i, inplace=True)\n",
    "    except:\n",
    "        pass\n",
    "        "
   ]
  },
  {
   "cell_type": "markdown",
   "metadata": {
    "slideshow": {
     "slide_type": "slide"
    }
   },
   "source": [
    "# Municipio:  Fallecidos por grupo etario"
   ]
  },
  {
   "cell_type": "code",
   "execution_count": 260,
   "metadata": {
    "scrolled": true,
    "slideshow": {
     "slide_type": "subslide"
    }
   },
   "outputs": [
    {
     "data": {
      "text/html": [
       "<div>\n",
       "<style scoped>\n",
       "    .dataframe tbody tr th:only-of-type {\n",
       "        vertical-align: middle;\n",
       "    }\n",
       "\n",
       "    .dataframe tbody tr th {\n",
       "        vertical-align: top;\n",
       "    }\n",
       "\n",
       "    .dataframe thead th {\n",
       "        text-align: right;\n",
       "    }\n",
       "</style>\n",
       "<table border=\"1\" class=\"dataframe\">\n",
       "  <thead>\n",
       "    <tr style=\"text-align: right;\">\n",
       "      <th></th>\n",
       "      <th>edad 0 a 4</th>\n",
       "      <th>edad 5 a 14</th>\n",
       "      <th>edad 15 a 44</th>\n",
       "      <th>edad 45 a 64</th>\n",
       "      <th>edad 65 a 84</th>\n",
       "      <th>edad 85 a 99</th>\n",
       "      <th>edad 100 o más</th>\n",
       "      <th>Total</th>\n",
       "    </tr>\n",
       "  </thead>\n",
       "  <tbody>\n",
       "    <tr>\n",
       "      <th>Ubicacion</th>\n",
       "      <td>0</td>\n",
       "      <td>1</td>\n",
       "      <td>6</td>\n",
       "      <td>57</td>\n",
       "      <td>179</td>\n",
       "      <td>66</td>\n",
       "      <td>2</td>\n",
       "      <td>311</td>\n",
       "    </tr>\n",
       "    <tr>\n",
       "      <th>Recuperado</th>\n",
       "      <td>0</td>\n",
       "      <td>1</td>\n",
       "      <td>6</td>\n",
       "      <td>57</td>\n",
       "      <td>179</td>\n",
       "      <td>66</td>\n",
       "      <td>2</td>\n",
       "      <td>311</td>\n",
       "    </tr>\n",
       "    <tr>\n",
       "      <th>Número de fallecidos</th>\n",
       "      <td>0</td>\n",
       "      <td>1</td>\n",
       "      <td>6</td>\n",
       "      <td>57</td>\n",
       "      <td>179</td>\n",
       "      <td>66</td>\n",
       "      <td>2</td>\n",
       "      <td>311</td>\n",
       "    </tr>\n",
       "  </tbody>\n",
       "</table>\n",
       "</div>"
      ],
      "text/plain": [
       "                      edad 0 a 4  edad 5 a 14  edad 15 a 44  edad 45 a 64  \\\n",
       "Ubicacion                      0            1             6            57   \n",
       "Recuperado                     0            1             6            57   \n",
       "Número de fallecidos           0            1             6            57   \n",
       "\n",
       "                      edad 65 a 84  edad 85 a 99  edad 100 o más  Total  \n",
       "Ubicacion                      179            66               2    311  \n",
       "Recuperado                     179            66               2    311  \n",
       "Número de fallecidos           179            66               2    311  "
      ]
     },
     "execution_count": 260,
     "metadata": {},
     "output_type": "execute_result"
    }
   ],
   "source": [
    "fallecidosporEdadMunicipio"
   ]
  },
  {
   "cell_type": "code",
   "execution_count": 261,
   "metadata": {
    "scrolled": false,
    "slideshow": {
     "slide_type": "skip"
    }
   },
   "outputs": [],
   "source": [
    "CasosporEdadMunicipio=CasosporEdadMunicipio.transpose()"
   ]
  },
  {
   "cell_type": "code",
   "execution_count": 262,
   "metadata": {
    "scrolled": true,
    "slideshow": {
     "slide_type": "skip"
    }
   },
   "outputs": [],
   "source": [
    "fallecidosporEdadMunicipio=fallecidosporEdadMunicipio.transpose()\n"
   ]
  },
  {
   "cell_type": "code",
   "execution_count": 263,
   "metadata": {
    "slideshow": {
     "slide_type": "skip"
    }
   },
   "outputs": [],
   "source": [
    "CasosyFallecidosMunicipio= pd.merge(CasosporEdadMunicipio, fallecidosporEdadMunicipio, left_index=True, right_index=True)"
   ]
  },
  {
   "cell_type": "code",
   "execution_count": 264,
   "metadata": {
    "slideshow": {
     "slide_type": "skip"
    }
   },
   "outputs": [],
   "source": [
    "CasosyFallecidosMunicipio['Tasa de letalidad por 100'] =100*(CasosyFallecidosMunicipio['Número de fallecidos']/CasosyFallecidosMunicipio['Número de casos']).round(4)"
   ]
  },
  {
   "cell_type": "code",
   "execution_count": 265,
   "metadata": {
    "slideshow": {
     "slide_type": "skip"
    }
   },
   "outputs": [],
   "source": [
    "tasaMortalidadMunic = pd.read_csv('TasaMortalidadMunic.csv')\n"
   ]
  },
  {
   "cell_type": "code",
   "execution_count": 266,
   "metadata": {
    "slideshow": {
     "slide_type": "skip"
    }
   },
   "outputs": [],
   "source": [
    "tasaMortalidadMunic=tasaMortalidadMunic.round(2)"
   ]
  },
  {
   "cell_type": "code",
   "execution_count": 267,
   "metadata": {
    "slideshow": {
     "slide_type": "skip"
    }
   },
   "outputs": [],
   "source": [
    "tasaMortalidadMunic = tasaMortalidadMunic.set_index('Unnamed: 0')"
   ]
  },
  {
   "cell_type": "code",
   "execution_count": 268,
   "metadata": {
    "slideshow": {
     "slide_type": "skip"
    }
   },
   "outputs": [],
   "source": [
    "tasaMortalidadMunic=tasaMortalidadMunic.transpose()"
   ]
  },
  {
   "cell_type": "code",
   "execution_count": 269,
   "metadata": {
    "slideshow": {
     "slide_type": "skip"
    }
   },
   "outputs": [],
   "source": [
    "tasaMortalidadMunic=tasaMortalidadMunic.transpose()"
   ]
  },
  {
   "cell_type": "code",
   "execution_count": 270,
   "metadata": {
    "slideshow": {
     "slide_type": "skip"
    }
   },
   "outputs": [],
   "source": [
    "TasasMunicipio= CasosyFallecidosMunicipio.merge(tasaMortalidadMunic, left_index=True, right_index=True).drop(columns='Número fallecidos')"
   ]
  },
  {
   "cell_type": "code",
   "execution_count": 271,
   "metadata": {
    "slideshow": {
     "slide_type": "skip"
    }
   },
   "outputs": [
    {
     "data": {
      "text/html": [
       "<div>\n",
       "<style scoped>\n",
       "    .dataframe tbody tr th:only-of-type {\n",
       "        vertical-align: middle;\n",
       "    }\n",
       "\n",
       "    .dataframe tbody tr th {\n",
       "        vertical-align: top;\n",
       "    }\n",
       "\n",
       "    .dataframe thead th {\n",
       "        text-align: right;\n",
       "    }\n",
       "</style>\n",
       "<table border=\"1\" class=\"dataframe\">\n",
       "  <thead>\n",
       "    <tr style=\"text-align: right;\">\n",
       "      <th></th>\n",
       "      <th>Número fallecidos</th>\n",
       "      <th>Población</th>\n",
       "      <th>Tasa de mortalidad por 100.000 habitantes</th>\n",
       "    </tr>\n",
       "    <tr>\n",
       "      <th>Unnamed: 0</th>\n",
       "      <th></th>\n",
       "      <th></th>\n",
       "      <th></th>\n",
       "    </tr>\n",
       "  </thead>\n",
       "  <tbody>\n",
       "    <tr>\n",
       "      <th>edad 0 a 4</th>\n",
       "      <td>6.0</td>\n",
       "      <td>28349.0</td>\n",
       "      <td>21.16</td>\n",
       "    </tr>\n",
       "    <tr>\n",
       "      <th>edad 5 a 14</th>\n",
       "      <td>25.0</td>\n",
       "      <td>45465.0</td>\n",
       "      <td>54.99</td>\n",
       "    </tr>\n",
       "    <tr>\n",
       "      <th>edad 15 a 44</th>\n",
       "      <td>245.0</td>\n",
       "      <td>198767.0</td>\n",
       "      <td>123.26</td>\n",
       "    </tr>\n",
       "    <tr>\n",
       "      <th>edad 45 a 64</th>\n",
       "      <td>35.0</td>\n",
       "      <td>113931.0</td>\n",
       "      <td>30.72</td>\n",
       "    </tr>\n",
       "    <tr>\n",
       "      <th>edad 65 a 84</th>\n",
       "      <td>0.0</td>\n",
       "      <td>53426.0</td>\n",
       "      <td>0.00</td>\n",
       "    </tr>\n",
       "    <tr>\n",
       "      <th>edad 85 a 99</th>\n",
       "      <td>0.0</td>\n",
       "      <td>6021.0</td>\n",
       "      <td>0.00</td>\n",
       "    </tr>\n",
       "    <tr>\n",
       "      <th>edad 100 o más</th>\n",
       "      <td>0.0</td>\n",
       "      <td>201.0</td>\n",
       "      <td>0.00</td>\n",
       "    </tr>\n",
       "    <tr>\n",
       "      <th>Total</th>\n",
       "      <td>311.0</td>\n",
       "      <td>446160.0</td>\n",
       "      <td>69.71</td>\n",
       "    </tr>\n",
       "  </tbody>\n",
       "</table>\n",
       "</div>"
      ],
      "text/plain": [
       "                Número fallecidos  Población  \\\n",
       "Unnamed: 0                                     \n",
       "edad 0 a 4                    6.0    28349.0   \n",
       "edad 5 a 14                  25.0    45465.0   \n",
       "edad 15 a 44                245.0   198767.0   \n",
       "edad 45 a 64                 35.0   113931.0   \n",
       "edad 65 a 84                  0.0    53426.0   \n",
       "edad 85 a 99                  0.0     6021.0   \n",
       "edad 100 o más                0.0      201.0   \n",
       "Total                       311.0   446160.0   \n",
       "\n",
       "                Tasa de mortalidad por 100.000 habitantes  \n",
       "Unnamed: 0                                                 \n",
       "edad 0 a 4                                          21.16  \n",
       "edad 5 a 14                                         54.99  \n",
       "edad 15 a 44                                       123.26  \n",
       "edad 45 a 64                                        30.72  \n",
       "edad 65 a 84                                         0.00  \n",
       "edad 85 a 99                                         0.00  \n",
       "edad 100 o más                                       0.00  \n",
       "Total                                               69.71  "
      ]
     },
     "execution_count": 271,
     "metadata": {},
     "output_type": "execute_result"
    }
   ],
   "source": [
    "tasaMortalidadMunic"
   ]
  },
  {
   "cell_type": "markdown",
   "metadata": {
    "slideshow": {
     "slide_type": "slide"
    }
   },
   "source": [
    "# Municipio:  Tasas por grupo etario\n",
    "#### Luis Evelio García Restrepo.  MD. MAS. EF\n",
    "##### Fuentes primarias:   DANE-INS"
   ]
  },
  {
   "cell_type": "code",
   "execution_count": 272,
   "metadata": {
    "scrolled": true,
    "slideshow": {
     "slide_type": "skip"
    }
   },
   "outputs": [],
   "source": [
    "TasasMunicipio= TasasMunicipio.rename(columns={'Población':'Total habitantes de zonas afectadas'})"
   ]
  },
  {
   "cell_type": "code",
   "execution_count": 273,
   "metadata": {
    "slideshow": {
     "slide_type": "skip"
    }
   },
   "outputs": [],
   "source": [
    "TasasMunicipio = TasasMunicipio.reindex(['Número de casos', 'Número de fallecidos',\n",
    "       'Total habitantes de zonas afectadas',\n",
    "       'Tasa de letalidad (por cien contagios detectados)',\n",
    "       'Tasa de mortalidad por 100.000 habitantes'],axis=1)\n",
    "\n",
    "TasasMunicipio['Tasa de letalidad (por cien contagios detectados)']= (TasasMunicipio['Número de fallecidos']/TasasMunicipio['Número de casos'])*100\n",
    "TasasMunicipio['Tasa de mortalidad por 100.000 habitantes']= (TasasMunicipio['Número de fallecidos']/TasasMunicipio['Total habitantes de zonas afectadas'])*100000"
   ]
  },
  {
   "cell_type": "code",
   "execution_count": 274,
   "metadata": {
    "slideshow": {
     "slide_type": "skip"
    }
   },
   "outputs": [],
   "source": [
    "TasasMunicipio['Tasa de letalidad (por cien contagios detectados)']=TasasMunicipio['Tasa de letalidad (por cien contagios detectados)'].round(2)\n",
    "TasasMunicipio['Total habitantes de zonas afectadas']=TasasMunicipio['Total habitantes de zonas afectadas'].astype(int)\n"
   ]
  },
  {
   "cell_type": "code",
   "execution_count": 275,
   "metadata": {
    "slideshow": {
     "slide_type": "subslide"
    }
   },
   "outputs": [
    {
     "data": {
      "text/html": [
       "<div>\n",
       "<style scoped>\n",
       "    .dataframe tbody tr th:only-of-type {\n",
       "        vertical-align: middle;\n",
       "    }\n",
       "\n",
       "    .dataframe tbody tr th {\n",
       "        vertical-align: top;\n",
       "    }\n",
       "\n",
       "    .dataframe thead th {\n",
       "        text-align: right;\n",
       "    }\n",
       "</style>\n",
       "<table border=\"1\" class=\"dataframe\">\n",
       "  <thead>\n",
       "    <tr style=\"text-align: right;\">\n",
       "      <th></th>\n",
       "      <th>Número de casos</th>\n",
       "      <th>Número de fallecidos</th>\n",
       "      <th>Total habitantes de zonas afectadas</th>\n",
       "      <th>Tasa de letalidad (por cien contagios detectados)</th>\n",
       "      <th>Tasa de mortalidad por 100.000 habitantes</th>\n",
       "    </tr>\n",
       "  </thead>\n",
       "  <tbody>\n",
       "    <tr>\n",
       "      <th>edad 0 a 4</th>\n",
       "      <td>167</td>\n",
       "      <td>0</td>\n",
       "      <td>28349</td>\n",
       "      <td>0.00</td>\n",
       "      <td>0.000000</td>\n",
       "    </tr>\n",
       "    <tr>\n",
       "      <th>edad 5 a 14</th>\n",
       "      <td>616</td>\n",
       "      <td>1</td>\n",
       "      <td>45465</td>\n",
       "      <td>0.16</td>\n",
       "      <td>2.199494</td>\n",
       "    </tr>\n",
       "    <tr>\n",
       "      <th>edad 15 a 44</th>\n",
       "      <td>9717</td>\n",
       "      <td>6</td>\n",
       "      <td>198767</td>\n",
       "      <td>0.06</td>\n",
       "      <td>3.018610</td>\n",
       "    </tr>\n",
       "    <tr>\n",
       "      <th>edad 45 a 64</th>\n",
       "      <td>4749</td>\n",
       "      <td>57</td>\n",
       "      <td>113931</td>\n",
       "      <td>1.20</td>\n",
       "      <td>50.030281</td>\n",
       "    </tr>\n",
       "    <tr>\n",
       "      <th>edad 65 a 84</th>\n",
       "      <td>2003</td>\n",
       "      <td>179</td>\n",
       "      <td>53426</td>\n",
       "      <td>8.94</td>\n",
       "      <td>335.042863</td>\n",
       "    </tr>\n",
       "    <tr>\n",
       "      <th>edad 85 a 99</th>\n",
       "      <td>281</td>\n",
       "      <td>66</td>\n",
       "      <td>6021</td>\n",
       "      <td>23.49</td>\n",
       "      <td>1096.163428</td>\n",
       "    </tr>\n",
       "    <tr>\n",
       "      <th>edad 100 o más</th>\n",
       "      <td>6</td>\n",
       "      <td>2</td>\n",
       "      <td>201</td>\n",
       "      <td>33.33</td>\n",
       "      <td>995.024876</td>\n",
       "    </tr>\n",
       "    <tr>\n",
       "      <th>Total</th>\n",
       "      <td>17539</td>\n",
       "      <td>311</td>\n",
       "      <td>446160</td>\n",
       "      <td>1.77</td>\n",
       "      <td>69.705935</td>\n",
       "    </tr>\n",
       "  </tbody>\n",
       "</table>\n",
       "</div>"
      ],
      "text/plain": [
       "                Número de casos  Número de fallecidos  \\\n",
       "edad 0 a 4                  167                     0   \n",
       "edad 5 a 14                 616                     1   \n",
       "edad 15 a 44               9717                     6   \n",
       "edad 45 a 64               4749                    57   \n",
       "edad 65 a 84               2003                   179   \n",
       "edad 85 a 99                281                    66   \n",
       "edad 100 o más                6                     2   \n",
       "Total                     17539                   311   \n",
       "\n",
       "                Total habitantes de zonas afectadas  \\\n",
       "edad 0 a 4                                    28349   \n",
       "edad 5 a 14                                   45465   \n",
       "edad 15 a 44                                 198767   \n",
       "edad 45 a 64                                 113931   \n",
       "edad 65 a 84                                  53426   \n",
       "edad 85 a 99                                   6021   \n",
       "edad 100 o más                                  201   \n",
       "Total                                        446160   \n",
       "\n",
       "                Tasa de letalidad (por cien contagios detectados)  \\\n",
       "edad 0 a 4                                                   0.00   \n",
       "edad 5 a 14                                                  0.16   \n",
       "edad 15 a 44                                                 0.06   \n",
       "edad 45 a 64                                                 1.20   \n",
       "edad 65 a 84                                                 8.94   \n",
       "edad 85 a 99                                                23.49   \n",
       "edad 100 o más                                              33.33   \n",
       "Total                                                        1.77   \n",
       "\n",
       "                Tasa de mortalidad por 100.000 habitantes  \n",
       "edad 0 a 4                                       0.000000  \n",
       "edad 5 a 14                                      2.199494  \n",
       "edad 15 a 44                                     3.018610  \n",
       "edad 45 a 64                                    50.030281  \n",
       "edad 65 a 84                                   335.042863  \n",
       "edad 85 a 99                                  1096.163428  \n",
       "edad 100 o más                                 995.024876  \n",
       "Total                                           69.705935  "
      ]
     },
     "execution_count": 275,
     "metadata": {},
     "output_type": "execute_result"
    }
   ],
   "source": [
    "TasasMunicipio\n"
   ]
  },
  {
   "cell_type": "code",
   "execution_count": 276,
   "metadata": {},
   "outputs": [
    {
     "data": {
      "text/plain": [
       "Timestamp('2020-11-30 00:00:00')"
      ]
     },
     "execution_count": 276,
     "metadata": {},
     "output_type": "execute_result"
    }
   ],
   "source": [
    "fecha"
   ]
  },
  {
   "cell_type": "markdown",
   "metadata": {
    "slideshow": {
     "slide_type": "slide"
    }
   },
   "source": [
    "# Causas de defunción en el municipio por grupo etario"
   ]
  },
  {
   "cell_type": "code",
   "execution_count": 277,
   "metadata": {
    "slideshow": {
     "slide_type": "skip"
    }
   },
   "outputs": [],
   "source": [
    "defuncionesMunicipales=pd.read_csv('defuncionesMunicipales.csv')\n",
    "defuncionesMunicipales.drop(columns=['Unnamed: 0'], inplace=True)"
   ]
  },
  {
   "cell_type": "code",
   "execution_count": 278,
   "metadata": {
    "slideshow": {
     "slide_type": "skip"
    }
   },
   "outputs": [],
   "source": [
    "defuncionesMunicipales['edad 0 a 4']= ((defuncionesMunicipales.loc[:,'edad 0 a 4'])*dias/90).astype(int)\n",
    "defuncionesMunicipales['edad 5 a 14']= ((defuncionesMunicipales.loc[:,'edad 5 a 14'])*dias/90).astype(int)\n",
    "defuncionesMunicipales['edad 15 a 44']= ((defuncionesMunicipales.loc[:,'edad 15 a 44'])*dias/90).astype(int)\n",
    "defuncionesMunicipales['edad 45 a 64']= ((defuncionesMunicipales.loc[:,'edad 45 a 64'])*dias/90).astype(int)\n",
    "defuncionesMunicipales['edad 65 a 84']= ((defuncionesMunicipales.loc[:,'edad 65 a 84'])*dias/90).astype(int)\n",
    "defuncionesMunicipales['edad 85 a 99']= ((defuncionesMunicipales.loc[:,'edad 85 a 99'])*dias/90).astype(int)\n",
    "defuncionesMunicipales['edad 100 o más']= ((defuncionesMunicipales.loc[:,'edad 100 o más'])*dias/90).astype(int)\n",
    "defuncionesMunicipales['Total']= ((defuncionesMunicipales.loc[:,'Total'])*dias/90).astype(int)"
   ]
  },
  {
   "cell_type": "code",
   "execution_count": 279,
   "metadata": {
    "slideshow": {
     "slide_type": "subslide"
    }
   },
   "outputs": [
    {
     "data": {
      "text/html": [
       "<div>\n",
       "<style scoped>\n",
       "    .dataframe tbody tr th:only-of-type {\n",
       "        vertical-align: middle;\n",
       "    }\n",
       "\n",
       "    .dataframe tbody tr th {\n",
       "        vertical-align: top;\n",
       "    }\n",
       "\n",
       "    .dataframe thead th {\n",
       "        text-align: right;\n",
       "    }\n",
       "</style>\n",
       "<table border=\"1\" class=\"dataframe\">\n",
       "  <thead>\n",
       "    <tr style=\"text-align: right;\">\n",
       "      <th></th>\n",
       "      <th>Causas de defunción</th>\n",
       "      <th>edad 0 a 4</th>\n",
       "      <th>edad 5 a 14</th>\n",
       "      <th>edad 15 a 44</th>\n",
       "      <th>edad 45 a 64</th>\n",
       "      <th>edad 65 a 84</th>\n",
       "      <th>edad 85 a 99</th>\n",
       "      <th>edad 100 o más</th>\n",
       "      <th>Total</th>\n",
       "    </tr>\n",
       "  </thead>\n",
       "  <tbody>\n",
       "    <tr>\n",
       "      <th>0</th>\n",
       "      <td>201 Tumor maligno del estómago202 Tumor malign...</td>\n",
       "      <td>0</td>\n",
       "      <td>3</td>\n",
       "      <td>51</td>\n",
       "      <td>124</td>\n",
       "      <td>276</td>\n",
       "      <td>63</td>\n",
       "      <td>0</td>\n",
       "      <td>518</td>\n",
       "    </tr>\n",
       "    <tr>\n",
       "      <th>1</th>\n",
       "      <td>303 Enfermedades isquémicas del corazón</td>\n",
       "      <td>0</td>\n",
       "      <td>0</td>\n",
       "      <td>6</td>\n",
       "      <td>30</td>\n",
       "      <td>160</td>\n",
       "      <td>100</td>\n",
       "      <td>6</td>\n",
       "      <td>303</td>\n",
       "    </tr>\n",
       "    <tr>\n",
       "      <th>2</th>\n",
       "      <td>605 Enfermedades crónicas de las vías respirat...</td>\n",
       "      <td>0</td>\n",
       "      <td>0</td>\n",
       "      <td>3</td>\n",
       "      <td>9</td>\n",
       "      <td>97</td>\n",
       "      <td>109</td>\n",
       "      <td>0</td>\n",
       "      <td>218</td>\n",
       "    </tr>\n",
       "    <tr>\n",
       "      <th>3</th>\n",
       "      <td>307 Enfermedades cerebrovasculares</td>\n",
       "      <td>3</td>\n",
       "      <td>0</td>\n",
       "      <td>3</td>\n",
       "      <td>12</td>\n",
       "      <td>66</td>\n",
       "      <td>33</td>\n",
       "      <td>0</td>\n",
       "      <td>118</td>\n",
       "    </tr>\n",
       "    <tr>\n",
       "      <th>4</th>\n",
       "      <td>614 Resto de las enfermedades</td>\n",
       "      <td>0</td>\n",
       "      <td>0</td>\n",
       "      <td>0</td>\n",
       "      <td>18</td>\n",
       "      <td>27</td>\n",
       "      <td>27</td>\n",
       "      <td>3</td>\n",
       "      <td>75</td>\n",
       "    </tr>\n",
       "    <tr>\n",
       "      <th>5</th>\n",
       "      <td>604 Enfermedades del sistema nervioso, excepto...</td>\n",
       "      <td>0</td>\n",
       "      <td>0</td>\n",
       "      <td>3</td>\n",
       "      <td>18</td>\n",
       "      <td>27</td>\n",
       "      <td>24</td>\n",
       "      <td>0</td>\n",
       "      <td>72</td>\n",
       "    </tr>\n",
       "    <tr>\n",
       "      <th>6</th>\n",
       "      <td>304 Enfermedad cardiopulmonar, enfermedades de...</td>\n",
       "      <td>0</td>\n",
       "      <td>3</td>\n",
       "      <td>9</td>\n",
       "      <td>6</td>\n",
       "      <td>27</td>\n",
       "      <td>21</td>\n",
       "      <td>0</td>\n",
       "      <td>66</td>\n",
       "    </tr>\n",
       "    <tr>\n",
       "      <th>7</th>\n",
       "      <td>108 Infecciones respiratorias agudas</td>\n",
       "      <td>0</td>\n",
       "      <td>0</td>\n",
       "      <td>3</td>\n",
       "      <td>3</td>\n",
       "      <td>21</td>\n",
       "      <td>27</td>\n",
       "      <td>9</td>\n",
       "      <td>63</td>\n",
       "    </tr>\n",
       "    <tr>\n",
       "      <th>8</th>\n",
       "      <td>610 Enfermedades del sistema urinario</td>\n",
       "      <td>0</td>\n",
       "      <td>0</td>\n",
       "      <td>0</td>\n",
       "      <td>9</td>\n",
       "      <td>24</td>\n",
       "      <td>27</td>\n",
       "      <td>0</td>\n",
       "      <td>60</td>\n",
       "    </tr>\n",
       "    <tr>\n",
       "      <th>9</th>\n",
       "      <td>512 Agresiones (homicidios)</td>\n",
       "      <td>0</td>\n",
       "      <td>0</td>\n",
       "      <td>42</td>\n",
       "      <td>3</td>\n",
       "      <td>3</td>\n",
       "      <td>0</td>\n",
       "      <td>0</td>\n",
       "      <td>48</td>\n",
       "    </tr>\n",
       "    <tr>\n",
       "      <th>10</th>\n",
       "      <td>609 Resto de enfermedades del sistema digestivo</td>\n",
       "      <td>0</td>\n",
       "      <td>0</td>\n",
       "      <td>6</td>\n",
       "      <td>12</td>\n",
       "      <td>21</td>\n",
       "      <td>9</td>\n",
       "      <td>0</td>\n",
       "      <td>48</td>\n",
       "    </tr>\n",
       "    <tr>\n",
       "      <th>11</th>\n",
       "      <td>603 Trastornos mentales y del comportamiento</td>\n",
       "      <td>0</td>\n",
       "      <td>0</td>\n",
       "      <td>0</td>\n",
       "      <td>3</td>\n",
       "      <td>6</td>\n",
       "      <td>24</td>\n",
       "      <td>0</td>\n",
       "      <td>33</td>\n",
       "    </tr>\n",
       "    <tr>\n",
       "      <th>12</th>\n",
       "      <td>501 Accidentes de transporte terrestre</td>\n",
       "      <td>0</td>\n",
       "      <td>0</td>\n",
       "      <td>18</td>\n",
       "      <td>6</td>\n",
       "      <td>3</td>\n",
       "      <td>3</td>\n",
       "      <td>0</td>\n",
       "      <td>30</td>\n",
       "    </tr>\n",
       "    <tr>\n",
       "      <th>13</th>\n",
       "      <td>608 Cirrosis y ciertas otras enfermedades crón...</td>\n",
       "      <td>0</td>\n",
       "      <td>0</td>\n",
       "      <td>0</td>\n",
       "      <td>6</td>\n",
       "      <td>15</td>\n",
       "      <td>6</td>\n",
       "      <td>0</td>\n",
       "      <td>27</td>\n",
       "    </tr>\n",
       "    <tr>\n",
       "      <th>14</th>\n",
       "      <td>606 Resto de enfermedades del sistema respirat...</td>\n",
       "      <td>0</td>\n",
       "      <td>0</td>\n",
       "      <td>0</td>\n",
       "      <td>9</td>\n",
       "      <td>9</td>\n",
       "      <td>9</td>\n",
       "      <td>0</td>\n",
       "      <td>27</td>\n",
       "    </tr>\n",
       "    <tr>\n",
       "      <th>15</th>\n",
       "      <td>302 Enfermedades hipertensivas</td>\n",
       "      <td>0</td>\n",
       "      <td>0</td>\n",
       "      <td>0</td>\n",
       "      <td>0</td>\n",
       "      <td>9</td>\n",
       "      <td>12</td>\n",
       "      <td>3</td>\n",
       "      <td>24</td>\n",
       "    </tr>\n",
       "    <tr>\n",
       "      <th>16</th>\n",
       "      <td>212 Leucemia</td>\n",
       "      <td>0</td>\n",
       "      <td>3</td>\n",
       "      <td>9</td>\n",
       "      <td>3</td>\n",
       "      <td>6</td>\n",
       "      <td>0</td>\n",
       "      <td>0</td>\n",
       "      <td>21</td>\n",
       "    </tr>\n",
       "    <tr>\n",
       "      <th>17</th>\n",
       "      <td>601 Diabetes mellitus</td>\n",
       "      <td>0</td>\n",
       "      <td>0</td>\n",
       "      <td>0</td>\n",
       "      <td>0</td>\n",
       "      <td>12</td>\n",
       "      <td>9</td>\n",
       "      <td>0</td>\n",
       "      <td>21</td>\n",
       "    </tr>\n",
       "    <tr>\n",
       "      <th>18</th>\n",
       "      <td>306 Insuficiencia cardíaca</td>\n",
       "      <td>0</td>\n",
       "      <td>0</td>\n",
       "      <td>0</td>\n",
       "      <td>0</td>\n",
       "      <td>9</td>\n",
       "      <td>9</td>\n",
       "      <td>0</td>\n",
       "      <td>18</td>\n",
       "    </tr>\n",
       "    <tr>\n",
       "      <th>19</th>\n",
       "      <td>511 Lesiones autoinfligidas intencionalmente (...</td>\n",
       "      <td>0</td>\n",
       "      <td>3</td>\n",
       "      <td>15</td>\n",
       "      <td>0</td>\n",
       "      <td>0</td>\n",
       "      <td>0</td>\n",
       "      <td>0</td>\n",
       "      <td>18</td>\n",
       "    </tr>\n",
       "    <tr>\n",
       "      <th>20</th>\n",
       "      <td>309 Las demás enfermedades del sistema circula...</td>\n",
       "      <td>0</td>\n",
       "      <td>0</td>\n",
       "      <td>0</td>\n",
       "      <td>6</td>\n",
       "      <td>3</td>\n",
       "      <td>6</td>\n",
       "      <td>0</td>\n",
       "      <td>15</td>\n",
       "    </tr>\n",
       "    <tr>\n",
       "      <th>21</th>\n",
       "      <td>107 Enfermedad por el VIH (SIDA)</td>\n",
       "      <td>0</td>\n",
       "      <td>0</td>\n",
       "      <td>3</td>\n",
       "      <td>9</td>\n",
       "      <td>3</td>\n",
       "      <td>0</td>\n",
       "      <td>0</td>\n",
       "      <td>15</td>\n",
       "    </tr>\n",
       "    <tr>\n",
       "      <th>22</th>\n",
       "      <td>607 Apendicitis, hernia de la cavidad abdomina...</td>\n",
       "      <td>0</td>\n",
       "      <td>0</td>\n",
       "      <td>3</td>\n",
       "      <td>0</td>\n",
       "      <td>6</td>\n",
       "      <td>6</td>\n",
       "      <td>0</td>\n",
       "      <td>15</td>\n",
       "    </tr>\n",
       "    <tr>\n",
       "      <th>23</th>\n",
       "      <td>613 Malformaciones congénitas, deformidades y ...</td>\n",
       "      <td>9</td>\n",
       "      <td>0</td>\n",
       "      <td>0</td>\n",
       "      <td>0</td>\n",
       "      <td>6</td>\n",
       "      <td>0</td>\n",
       "      <td>0</td>\n",
       "      <td>15</td>\n",
       "    </tr>\n",
       "    <tr>\n",
       "      <th>24</th>\n",
       "      <td>503 Caídas</td>\n",
       "      <td>0</td>\n",
       "      <td>0</td>\n",
       "      <td>0</td>\n",
       "      <td>3</td>\n",
       "      <td>9</td>\n",
       "      <td>0</td>\n",
       "      <td>0</td>\n",
       "      <td>12</td>\n",
       "    </tr>\n",
       "    <tr>\n",
       "      <th>25</th>\n",
       "      <td>513 Eventos de intención no determinada</td>\n",
       "      <td>0</td>\n",
       "      <td>0</td>\n",
       "      <td>3</td>\n",
       "      <td>3</td>\n",
       "      <td>6</td>\n",
       "      <td>0</td>\n",
       "      <td>0</td>\n",
       "      <td>12</td>\n",
       "    </tr>\n",
       "    <tr>\n",
       "      <th>26</th>\n",
       "      <td>510 Otros accidentes, inclusive secuelas</td>\n",
       "      <td>0</td>\n",
       "      <td>0</td>\n",
       "      <td>3</td>\n",
       "      <td>3</td>\n",
       "      <td>3</td>\n",
       "      <td>3</td>\n",
       "      <td>0</td>\n",
       "      <td>12</td>\n",
       "    </tr>\n",
       "    <tr>\n",
       "      <th>27</th>\n",
       "      <td>101 Enfermedades infecciosas intestinales</td>\n",
       "      <td>0</td>\n",
       "      <td>0</td>\n",
       "      <td>0</td>\n",
       "      <td>3</td>\n",
       "      <td>6</td>\n",
       "      <td>3</td>\n",
       "      <td>0</td>\n",
       "      <td>12</td>\n",
       "    </tr>\n",
       "    <tr>\n",
       "      <th>28</th>\n",
       "      <td>404 Trastornos respiratorios específicos del p...</td>\n",
       "      <td>12</td>\n",
       "      <td>0</td>\n",
       "      <td>0</td>\n",
       "      <td>0</td>\n",
       "      <td>0</td>\n",
       "      <td>0</td>\n",
       "      <td>0</td>\n",
       "      <td>12</td>\n",
       "    </tr>\n",
       "    <tr>\n",
       "      <th>29</th>\n",
       "      <td>102 Tuberculosis</td>\n",
       "      <td>3</td>\n",
       "      <td>0</td>\n",
       "      <td>0</td>\n",
       "      <td>0</td>\n",
       "      <td>6</td>\n",
       "      <td>0</td>\n",
       "      <td>0</td>\n",
       "      <td>9</td>\n",
       "    </tr>\n",
       "    <tr>\n",
       "      <th>30</th>\n",
       "      <td>000 Signos, síntomas y afecciones mal definidas</td>\n",
       "      <td>3</td>\n",
       "      <td>0</td>\n",
       "      <td>0</td>\n",
       "      <td>0</td>\n",
       "      <td>3</td>\n",
       "      <td>0</td>\n",
       "      <td>0</td>\n",
       "      <td>6</td>\n",
       "    </tr>\n",
       "    <tr>\n",
       "      <th>31</th>\n",
       "      <td>602 Deficiencias nutricionales y anemias nutri...</td>\n",
       "      <td>0</td>\n",
       "      <td>0</td>\n",
       "      <td>0</td>\n",
       "      <td>3</td>\n",
       "      <td>0</td>\n",
       "      <td>0</td>\n",
       "      <td>0</td>\n",
       "      <td>3</td>\n",
       "    </tr>\n",
       "    <tr>\n",
       "      <th>32</th>\n",
       "      <td>406 Resto de ciertas afecciones originadas en ...</td>\n",
       "      <td>3</td>\n",
       "      <td>0</td>\n",
       "      <td>0</td>\n",
       "      <td>0</td>\n",
       "      <td>0</td>\n",
       "      <td>0</td>\n",
       "      <td>0</td>\n",
       "      <td>3</td>\n",
       "    </tr>\n",
       "    <tr>\n",
       "      <th>33</th>\n",
       "      <td>403 Retardo del crecimiento fetal, desnutrició...</td>\n",
       "      <td>3</td>\n",
       "      <td>0</td>\n",
       "      <td>0</td>\n",
       "      <td>0</td>\n",
       "      <td>0</td>\n",
       "      <td>0</td>\n",
       "      <td>0</td>\n",
       "      <td>3</td>\n",
       "    </tr>\n",
       "    <tr>\n",
       "      <th>34</th>\n",
       "      <td>106 Septicemia, excepto neonatal</td>\n",
       "      <td>0</td>\n",
       "      <td>0</td>\n",
       "      <td>0</td>\n",
       "      <td>0</td>\n",
       "      <td>3</td>\n",
       "      <td>0</td>\n",
       "      <td>0</td>\n",
       "      <td>3</td>\n",
       "    </tr>\n",
       "    <tr>\n",
       "      <th>35</th>\n",
       "      <td>105 Meningitis</td>\n",
       "      <td>0</td>\n",
       "      <td>0</td>\n",
       "      <td>0</td>\n",
       "      <td>0</td>\n",
       "      <td>3</td>\n",
       "      <td>0</td>\n",
       "      <td>0</td>\n",
       "      <td>3</td>\n",
       "    </tr>\n",
       "  </tbody>\n",
       "</table>\n",
       "</div>"
      ],
      "text/plain": [
       "                                  Causas de defunción  edad 0 a 4  \\\n",
       "0   201 Tumor maligno del estómago202 Tumor malign...           0   \n",
       "1             303 Enfermedades isquémicas del corazón           0   \n",
       "2   605 Enfermedades crónicas de las vías respirat...           0   \n",
       "3                  307 Enfermedades cerebrovasculares           3   \n",
       "4                       614 Resto de las enfermedades           0   \n",
       "5   604 Enfermedades del sistema nervioso, excepto...           0   \n",
       "6   304 Enfermedad cardiopulmonar, enfermedades de...           0   \n",
       "7                108 Infecciones respiratorias agudas           0   \n",
       "8               610 Enfermedades del sistema urinario           0   \n",
       "9                         512 Agresiones (homicidios)           0   \n",
       "10    609 Resto de enfermedades del sistema digestivo           0   \n",
       "11       603 Trastornos mentales y del comportamiento           0   \n",
       "12             501 Accidentes de transporte terrestre           0   \n",
       "13  608 Cirrosis y ciertas otras enfermedades crón...           0   \n",
       "14  606 Resto de enfermedades del sistema respirat...           0   \n",
       "15                     302 Enfermedades hipertensivas           0   \n",
       "16                                       212 Leucemia           0   \n",
       "17                              601 Diabetes mellitus           0   \n",
       "18                         306 Insuficiencia cardíaca           0   \n",
       "19  511 Lesiones autoinfligidas intencionalmente (...           0   \n",
       "20  309 Las demás enfermedades del sistema circula...           0   \n",
       "21                   107 Enfermedad por el VIH (SIDA)           0   \n",
       "22  607 Apendicitis, hernia de la cavidad abdomina...           0   \n",
       "23  613 Malformaciones congénitas, deformidades y ...           9   \n",
       "24                                         503 Caídas           0   \n",
       "25            513 Eventos de intención no determinada           0   \n",
       "26           510 Otros accidentes, inclusive secuelas           0   \n",
       "27          101 Enfermedades infecciosas intestinales           0   \n",
       "28  404 Trastornos respiratorios específicos del p...          12   \n",
       "29                                   102 Tuberculosis           3   \n",
       "30    000 Signos, síntomas y afecciones mal definidas           3   \n",
       "31  602 Deficiencias nutricionales y anemias nutri...           0   \n",
       "32  406 Resto de ciertas afecciones originadas en ...           3   \n",
       "33  403 Retardo del crecimiento fetal, desnutrició...           3   \n",
       "34                   106 Septicemia, excepto neonatal           0   \n",
       "35                                     105 Meningitis           0   \n",
       "\n",
       "    edad 5 a 14  edad 15 a 44  edad 45 a 64  edad 65 a 84  edad 85 a 99  \\\n",
       "0             3            51           124           276            63   \n",
       "1             0             6            30           160           100   \n",
       "2             0             3             9            97           109   \n",
       "3             0             3            12            66            33   \n",
       "4             0             0            18            27            27   \n",
       "5             0             3            18            27            24   \n",
       "6             3             9             6            27            21   \n",
       "7             0             3             3            21            27   \n",
       "8             0             0             9            24            27   \n",
       "9             0            42             3             3             0   \n",
       "10            0             6            12            21             9   \n",
       "11            0             0             3             6            24   \n",
       "12            0            18             6             3             3   \n",
       "13            0             0             6            15             6   \n",
       "14            0             0             9             9             9   \n",
       "15            0             0             0             9            12   \n",
       "16            3             9             3             6             0   \n",
       "17            0             0             0            12             9   \n",
       "18            0             0             0             9             9   \n",
       "19            3            15             0             0             0   \n",
       "20            0             0             6             3             6   \n",
       "21            0             3             9             3             0   \n",
       "22            0             3             0             6             6   \n",
       "23            0             0             0             6             0   \n",
       "24            0             0             3             9             0   \n",
       "25            0             3             3             6             0   \n",
       "26            0             3             3             3             3   \n",
       "27            0             0             3             6             3   \n",
       "28            0             0             0             0             0   \n",
       "29            0             0             0             6             0   \n",
       "30            0             0             0             3             0   \n",
       "31            0             0             3             0             0   \n",
       "32            0             0             0             0             0   \n",
       "33            0             0             0             0             0   \n",
       "34            0             0             0             3             0   \n",
       "35            0             0             0             3             0   \n",
       "\n",
       "    edad 100 o más  Total  \n",
       "0                0    518  \n",
       "1                6    303  \n",
       "2                0    218  \n",
       "3                0    118  \n",
       "4                3     75  \n",
       "5                0     72  \n",
       "6                0     66  \n",
       "7                9     63  \n",
       "8                0     60  \n",
       "9                0     48  \n",
       "10               0     48  \n",
       "11               0     33  \n",
       "12               0     30  \n",
       "13               0     27  \n",
       "14               0     27  \n",
       "15               3     24  \n",
       "16               0     21  \n",
       "17               0     21  \n",
       "18               0     18  \n",
       "19               0     18  \n",
       "20               0     15  \n",
       "21               0     15  \n",
       "22               0     15  \n",
       "23               0     15  \n",
       "24               0     12  \n",
       "25               0     12  \n",
       "26               0     12  \n",
       "27               0     12  \n",
       "28               0     12  \n",
       "29               0      9  \n",
       "30               0      6  \n",
       "31               0      3  \n",
       "32               0      3  \n",
       "33               0      3  \n",
       "34               0      3  \n",
       "35               0      3  "
      ]
     },
     "execution_count": 279,
     "metadata": {},
     "output_type": "execute_result"
    }
   ],
   "source": [
    "defuncionesMunicipales"
   ]
  },
  {
   "cell_type": "code",
   "execution_count": 280,
   "metadata": {
    "slideshow": {
     "slide_type": "skip"
    }
   },
   "outputs": [],
   "source": [
    "covidMunicipio=TasasMunicipio['Número de fallecidos']"
   ]
  },
  {
   "cell_type": "code",
   "execution_count": 281,
   "metadata": {
    "slideshow": {
     "slide_type": "skip"
    }
   },
   "outputs": [
    {
     "data": {
      "text/html": [
       "<div>\n",
       "<style scoped>\n",
       "    .dataframe tbody tr th:only-of-type {\n",
       "        vertical-align: middle;\n",
       "    }\n",
       "\n",
       "    .dataframe tbody tr th {\n",
       "        vertical-align: top;\n",
       "    }\n",
       "\n",
       "    .dataframe thead th {\n",
       "        text-align: right;\n",
       "    }\n",
       "</style>\n",
       "<table border=\"1\" class=\"dataframe\">\n",
       "  <thead>\n",
       "    <tr style=\"text-align: right;\">\n",
       "      <th></th>\n",
       "      <th>edad 0 a 4</th>\n",
       "      <th>edad 5 a 14</th>\n",
       "      <th>edad 15 a 44</th>\n",
       "      <th>edad 45 a 64</th>\n",
       "      <th>edad 65 a 84</th>\n",
       "      <th>edad 85 a 99</th>\n",
       "      <th>edad 100 o más</th>\n",
       "      <th>Total</th>\n",
       "    </tr>\n",
       "  </thead>\n",
       "  <tbody>\n",
       "    <tr>\n",
       "      <th>RT-PCR_positivo (covid19???)</th>\n",
       "      <td>0</td>\n",
       "      <td>1</td>\n",
       "      <td>6</td>\n",
       "      <td>57</td>\n",
       "      <td>179</td>\n",
       "      <td>66</td>\n",
       "      <td>2</td>\n",
       "      <td>311</td>\n",
       "    </tr>\n",
       "  </tbody>\n",
       "</table>\n",
       "</div>"
      ],
      "text/plain": [
       "                              edad 0 a 4  edad 5 a 14  edad 15 a 44  \\\n",
       "RT-PCR_positivo (covid19???)           0            1             6   \n",
       "\n",
       "                              edad 45 a 64  edad 65 a 84  edad 85 a 99  \\\n",
       "RT-PCR_positivo (covid19???)            57           179            66   \n",
       "\n",
       "                              edad 100 o más  Total  \n",
       "RT-PCR_positivo (covid19???)               2    311  "
      ]
     },
     "execution_count": 281,
     "metadata": {},
     "output_type": "execute_result"
    }
   ],
   "source": [
    "covidMunicipio= covidMunicipio.to_frame().rename(columns={'Número de fallecidos':'RT-PCR_positivo (covid19???)'}).transpose()\n",
    "covidMunicipio"
   ]
  },
  {
   "cell_type": "code",
   "execution_count": 282,
   "metadata": {
    "slideshow": {
     "slide_type": "skip"
    }
   },
   "outputs": [
    {
     "data": {
      "text/html": [
       "<div>\n",
       "<style scoped>\n",
       "    .dataframe tbody tr th:only-of-type {\n",
       "        vertical-align: middle;\n",
       "    }\n",
       "\n",
       "    .dataframe tbody tr th {\n",
       "        vertical-align: top;\n",
       "    }\n",
       "\n",
       "    .dataframe thead th {\n",
       "        text-align: right;\n",
       "    }\n",
       "</style>\n",
       "<table border=\"1\" class=\"dataframe\">\n",
       "  <thead>\n",
       "    <tr style=\"text-align: right;\">\n",
       "      <th></th>\n",
       "      <th>index</th>\n",
       "      <th>edad 0 a 4</th>\n",
       "      <th>edad 5 a 14</th>\n",
       "      <th>edad 15 a 44</th>\n",
       "      <th>edad 45 a 64</th>\n",
       "      <th>edad 65 a 84</th>\n",
       "      <th>edad 85 a 99</th>\n",
       "      <th>edad 100 o más</th>\n",
       "      <th>Total</th>\n",
       "    </tr>\n",
       "  </thead>\n",
       "  <tbody>\n",
       "    <tr>\n",
       "      <th>0</th>\n",
       "      <td>RT-PCR_positivo (covid19???)</td>\n",
       "      <td>0</td>\n",
       "      <td>1</td>\n",
       "      <td>6</td>\n",
       "      <td>57</td>\n",
       "      <td>179</td>\n",
       "      <td>66</td>\n",
       "      <td>2</td>\n",
       "      <td>311</td>\n",
       "    </tr>\n",
       "  </tbody>\n",
       "</table>\n",
       "</div>"
      ],
      "text/plain": [
       "                          index  edad 0 a 4  edad 5 a 14  edad 15 a 44  \\\n",
       "0  RT-PCR_positivo (covid19???)           0            1             6   \n",
       "\n",
       "   edad 45 a 64  edad 65 a 84  edad 85 a 99  edad 100 o más  Total  \n",
       "0            57           179            66               2    311  "
      ]
     },
     "execution_count": 282,
     "metadata": {},
     "output_type": "execute_result"
    }
   ],
   "source": [
    "covidMunicipio=covidMunicipio.reset_index()\n",
    "covidMunicipio"
   ]
  },
  {
   "cell_type": "code",
   "execution_count": 283,
   "metadata": {
    "slideshow": {
     "slide_type": "skip"
    }
   },
   "outputs": [],
   "source": [
    "covidMunicipio.rename(columns={'index':'Causas de defunción'}, inplace=True)"
   ]
  },
  {
   "cell_type": "code",
   "execution_count": 284,
   "metadata": {
    "slideshow": {
     "slide_type": "subslide"
    }
   },
   "outputs": [
    {
     "data": {
      "text/html": [
       "<div>\n",
       "<style scoped>\n",
       "    .dataframe tbody tr th:only-of-type {\n",
       "        vertical-align: middle;\n",
       "    }\n",
       "\n",
       "    .dataframe tbody tr th {\n",
       "        vertical-align: top;\n",
       "    }\n",
       "\n",
       "    .dataframe thead th {\n",
       "        text-align: right;\n",
       "    }\n",
       "</style>\n",
       "<table border=\"1\" class=\"dataframe\">\n",
       "  <thead>\n",
       "    <tr style=\"text-align: right;\">\n",
       "      <th></th>\n",
       "      <th>Causas de defunción</th>\n",
       "      <th>edad 0 a 4</th>\n",
       "      <th>edad 5 a 14</th>\n",
       "      <th>edad 15 a 44</th>\n",
       "      <th>edad 45 a 64</th>\n",
       "      <th>edad 65 a 84</th>\n",
       "      <th>edad 85 a 99</th>\n",
       "      <th>edad 100 o más</th>\n",
       "      <th>Total</th>\n",
       "    </tr>\n",
       "  </thead>\n",
       "  <tbody>\n",
       "    <tr>\n",
       "      <th>0</th>\n",
       "      <td>RT-PCR_positivo (covid19???)</td>\n",
       "      <td>0</td>\n",
       "      <td>1</td>\n",
       "      <td>6</td>\n",
       "      <td>57</td>\n",
       "      <td>179</td>\n",
       "      <td>66</td>\n",
       "      <td>2</td>\n",
       "      <td>311</td>\n",
       "    </tr>\n",
       "  </tbody>\n",
       "</table>\n",
       "</div>"
      ],
      "text/plain": [
       "            Causas de defunción  edad 0 a 4  edad 5 a 14  edad 15 a 44  \\\n",
       "0  RT-PCR_positivo (covid19???)           0            1             6   \n",
       "\n",
       "   edad 45 a 64  edad 65 a 84  edad 85 a 99  edad 100 o más  Total  \n",
       "0            57           179            66               2    311  "
      ]
     },
     "execution_count": 284,
     "metadata": {},
     "output_type": "execute_result"
    }
   ],
   "source": [
    "covidMunicipio"
   ]
  },
  {
   "cell_type": "code",
   "execution_count": 285,
   "metadata": {
    "slideshow": {
     "slide_type": "skip"
    }
   },
   "outputs": [],
   "source": [
    "defuncionesMunicipales = defuncionesMunicipales.append(covidMunicipio, ignore_index=True).sort_values('Total', ascending=False).head(10)"
   ]
  },
  {
   "cell_type": "code",
   "execution_count": 286,
   "metadata": {
    "scrolled": true,
    "slideshow": {
     "slide_type": "subslide"
    }
   },
   "outputs": [
    {
     "data": {
      "text/html": [
       "<div>\n",
       "<style scoped>\n",
       "    .dataframe tbody tr th:only-of-type {\n",
       "        vertical-align: middle;\n",
       "    }\n",
       "\n",
       "    .dataframe tbody tr th {\n",
       "        vertical-align: top;\n",
       "    }\n",
       "\n",
       "    .dataframe thead th {\n",
       "        text-align: right;\n",
       "    }\n",
       "</style>\n",
       "<table border=\"1\" class=\"dataframe\">\n",
       "  <thead>\n",
       "    <tr style=\"text-align: right;\">\n",
       "      <th></th>\n",
       "      <th>Causas de defunción</th>\n",
       "      <th>edad 0 a 4</th>\n",
       "      <th>edad 5 a 14</th>\n",
       "      <th>edad 15 a 44</th>\n",
       "      <th>edad 45 a 64</th>\n",
       "      <th>edad 65 a 84</th>\n",
       "      <th>edad 85 a 99</th>\n",
       "      <th>edad 100 o más</th>\n",
       "      <th>Total</th>\n",
       "    </tr>\n",
       "  </thead>\n",
       "  <tbody>\n",
       "    <tr>\n",
       "      <th>0</th>\n",
       "      <td>201 Tumor maligno del estómago202 Tumor malign...</td>\n",
       "      <td>0</td>\n",
       "      <td>3</td>\n",
       "      <td>51</td>\n",
       "      <td>124</td>\n",
       "      <td>276</td>\n",
       "      <td>63</td>\n",
       "      <td>0</td>\n",
       "      <td>518</td>\n",
       "    </tr>\n",
       "    <tr>\n",
       "      <th>36</th>\n",
       "      <td>RT-PCR_positivo (covid19???)</td>\n",
       "      <td>0</td>\n",
       "      <td>1</td>\n",
       "      <td>6</td>\n",
       "      <td>57</td>\n",
       "      <td>179</td>\n",
       "      <td>66</td>\n",
       "      <td>2</td>\n",
       "      <td>311</td>\n",
       "    </tr>\n",
       "    <tr>\n",
       "      <th>1</th>\n",
       "      <td>303 Enfermedades isquémicas del corazón</td>\n",
       "      <td>0</td>\n",
       "      <td>0</td>\n",
       "      <td>6</td>\n",
       "      <td>30</td>\n",
       "      <td>160</td>\n",
       "      <td>100</td>\n",
       "      <td>6</td>\n",
       "      <td>303</td>\n",
       "    </tr>\n",
       "    <tr>\n",
       "      <th>2</th>\n",
       "      <td>605 Enfermedades crónicas de las vías respirat...</td>\n",
       "      <td>0</td>\n",
       "      <td>0</td>\n",
       "      <td>3</td>\n",
       "      <td>9</td>\n",
       "      <td>97</td>\n",
       "      <td>109</td>\n",
       "      <td>0</td>\n",
       "      <td>218</td>\n",
       "    </tr>\n",
       "    <tr>\n",
       "      <th>3</th>\n",
       "      <td>307 Enfermedades cerebrovasculares</td>\n",
       "      <td>3</td>\n",
       "      <td>0</td>\n",
       "      <td>3</td>\n",
       "      <td>12</td>\n",
       "      <td>66</td>\n",
       "      <td>33</td>\n",
       "      <td>0</td>\n",
       "      <td>118</td>\n",
       "    </tr>\n",
       "    <tr>\n",
       "      <th>4</th>\n",
       "      <td>614 Resto de las enfermedades</td>\n",
       "      <td>0</td>\n",
       "      <td>0</td>\n",
       "      <td>0</td>\n",
       "      <td>18</td>\n",
       "      <td>27</td>\n",
       "      <td>27</td>\n",
       "      <td>3</td>\n",
       "      <td>75</td>\n",
       "    </tr>\n",
       "    <tr>\n",
       "      <th>5</th>\n",
       "      <td>604 Enfermedades del sistema nervioso, excepto...</td>\n",
       "      <td>0</td>\n",
       "      <td>0</td>\n",
       "      <td>3</td>\n",
       "      <td>18</td>\n",
       "      <td>27</td>\n",
       "      <td>24</td>\n",
       "      <td>0</td>\n",
       "      <td>72</td>\n",
       "    </tr>\n",
       "    <tr>\n",
       "      <th>6</th>\n",
       "      <td>304 Enfermedad cardiopulmonar, enfermedades de...</td>\n",
       "      <td>0</td>\n",
       "      <td>3</td>\n",
       "      <td>9</td>\n",
       "      <td>6</td>\n",
       "      <td>27</td>\n",
       "      <td>21</td>\n",
       "      <td>0</td>\n",
       "      <td>66</td>\n",
       "    </tr>\n",
       "    <tr>\n",
       "      <th>7</th>\n",
       "      <td>108 Infecciones respiratorias agudas</td>\n",
       "      <td>0</td>\n",
       "      <td>0</td>\n",
       "      <td>3</td>\n",
       "      <td>3</td>\n",
       "      <td>21</td>\n",
       "      <td>27</td>\n",
       "      <td>9</td>\n",
       "      <td>63</td>\n",
       "    </tr>\n",
       "    <tr>\n",
       "      <th>8</th>\n",
       "      <td>610 Enfermedades del sistema urinario</td>\n",
       "      <td>0</td>\n",
       "      <td>0</td>\n",
       "      <td>0</td>\n",
       "      <td>9</td>\n",
       "      <td>24</td>\n",
       "      <td>27</td>\n",
       "      <td>0</td>\n",
       "      <td>60</td>\n",
       "    </tr>\n",
       "  </tbody>\n",
       "</table>\n",
       "</div>"
      ],
      "text/plain": [
       "                                  Causas de defunción  edad 0 a 4  \\\n",
       "0   201 Tumor maligno del estómago202 Tumor malign...           0   \n",
       "36                       RT-PCR_positivo (covid19???)           0   \n",
       "1             303 Enfermedades isquémicas del corazón           0   \n",
       "2   605 Enfermedades crónicas de las vías respirat...           0   \n",
       "3                  307 Enfermedades cerebrovasculares           3   \n",
       "4                       614 Resto de las enfermedades           0   \n",
       "5   604 Enfermedades del sistema nervioso, excepto...           0   \n",
       "6   304 Enfermedad cardiopulmonar, enfermedades de...           0   \n",
       "7                108 Infecciones respiratorias agudas           0   \n",
       "8               610 Enfermedades del sistema urinario           0   \n",
       "\n",
       "    edad 5 a 14  edad 15 a 44  edad 45 a 64  edad 65 a 84  edad 85 a 99  \\\n",
       "0             3            51           124           276            63   \n",
       "36            1             6            57           179            66   \n",
       "1             0             6            30           160           100   \n",
       "2             0             3             9            97           109   \n",
       "3             0             3            12            66            33   \n",
       "4             0             0            18            27            27   \n",
       "5             0             3            18            27            24   \n",
       "6             3             9             6            27            21   \n",
       "7             0             3             3            21            27   \n",
       "8             0             0             9            24            27   \n",
       "\n",
       "    edad 100 o más  Total  \n",
       "0                0    518  \n",
       "36               2    311  \n",
       "1                6    303  \n",
       "2                0    218  \n",
       "3                0    118  \n",
       "4                3     75  \n",
       "5                0     72  \n",
       "6                0     66  \n",
       "7                9     63  \n",
       "8                0     60  "
      ]
     },
     "execution_count": 286,
     "metadata": {},
     "output_type": "execute_result"
    }
   ],
   "source": [
    "defuncionesMunicipales"
   ]
  },
  {
   "cell_type": "code",
   "execution_count": 287,
   "metadata": {},
   "outputs": [
    {
     "data": {
      "text/plain": [
       "Unnamed: 0\n",
       "edad 0 a 4         28349.0\n",
       "edad 5 a 14        45465.0\n",
       "edad 15 a 44      198767.0\n",
       "edad 45 a 64      113931.0\n",
       "edad 65 a 84       53426.0\n",
       "edad 85 a 99        6021.0\n",
       "edad 100 o más       201.0\n",
       "Total             446160.0\n",
       "Name: Población, dtype: float64"
      ]
     },
     "execution_count": 287,
     "metadata": {},
     "output_type": "execute_result"
    }
   ],
   "source": [
    "poblacionMunicipal=tasaMortalidadMunic['Población']\n",
    "poblacionMunicipal"
   ]
  },
  {
   "cell_type": "code",
   "execution_count": 288,
   "metadata": {},
   "outputs": [],
   "source": [
    "poblacionMunicipal=poblacionMunicipal.to_frame()"
   ]
  },
  {
   "cell_type": "code",
   "execution_count": 289,
   "metadata": {},
   "outputs": [
    {
     "data": {
      "text/html": [
       "<div>\n",
       "<style scoped>\n",
       "    .dataframe tbody tr th:only-of-type {\n",
       "        vertical-align: middle;\n",
       "    }\n",
       "\n",
       "    .dataframe tbody tr th {\n",
       "        vertical-align: top;\n",
       "    }\n",
       "\n",
       "    .dataframe thead th {\n",
       "        text-align: right;\n",
       "    }\n",
       "</style>\n",
       "<table border=\"1\" class=\"dataframe\">\n",
       "  <thead>\n",
       "    <tr style=\"text-align: right;\">\n",
       "      <th></th>\n",
       "      <th>Población</th>\n",
       "    </tr>\n",
       "    <tr>\n",
       "      <th>Unnamed: 0</th>\n",
       "      <th></th>\n",
       "    </tr>\n",
       "  </thead>\n",
       "  <tbody>\n",
       "    <tr>\n",
       "      <th>edad 0 a 4</th>\n",
       "      <td>28349.0</td>\n",
       "    </tr>\n",
       "    <tr>\n",
       "      <th>edad 5 a 14</th>\n",
       "      <td>45465.0</td>\n",
       "    </tr>\n",
       "    <tr>\n",
       "      <th>edad 15 a 44</th>\n",
       "      <td>198767.0</td>\n",
       "    </tr>\n",
       "    <tr>\n",
       "      <th>edad 45 a 64</th>\n",
       "      <td>113931.0</td>\n",
       "    </tr>\n",
       "    <tr>\n",
       "      <th>edad 65 a 84</th>\n",
       "      <td>53426.0</td>\n",
       "    </tr>\n",
       "    <tr>\n",
       "      <th>edad 85 a 99</th>\n",
       "      <td>6021.0</td>\n",
       "    </tr>\n",
       "    <tr>\n",
       "      <th>edad 100 o más</th>\n",
       "      <td>201.0</td>\n",
       "    </tr>\n",
       "    <tr>\n",
       "      <th>Total</th>\n",
       "      <td>446160.0</td>\n",
       "    </tr>\n",
       "  </tbody>\n",
       "</table>\n",
       "</div>"
      ],
      "text/plain": [
       "                Población\n",
       "Unnamed: 0               \n",
       "edad 0 a 4        28349.0\n",
       "edad 5 a 14       45465.0\n",
       "edad 15 a 44     198767.0\n",
       "edad 45 a 64     113931.0\n",
       "edad 65 a 84      53426.0\n",
       "edad 85 a 99       6021.0\n",
       "edad 100 o más      201.0\n",
       "Total            446160.0"
      ]
     },
     "execution_count": 289,
     "metadata": {},
     "output_type": "execute_result"
    }
   ],
   "source": [
    "poblacionMunicipal"
   ]
  },
  {
   "cell_type": "code",
   "execution_count": 290,
   "metadata": {},
   "outputs": [
    {
     "data": {
      "text/html": [
       "<div>\n",
       "<style scoped>\n",
       "    .dataframe tbody tr th:only-of-type {\n",
       "        vertical-align: middle;\n",
       "    }\n",
       "\n",
       "    .dataframe tbody tr th {\n",
       "        vertical-align: top;\n",
       "    }\n",
       "\n",
       "    .dataframe thead th {\n",
       "        text-align: right;\n",
       "    }\n",
       "</style>\n",
       "<table border=\"1\" class=\"dataframe\">\n",
       "  <thead>\n",
       "    <tr style=\"text-align: right;\">\n",
       "      <th>Unnamed: 0</th>\n",
       "      <th>edad 0 a 4</th>\n",
       "      <th>edad 5 a 14</th>\n",
       "      <th>edad 15 a 44</th>\n",
       "      <th>edad 45 a 64</th>\n",
       "      <th>edad 65 a 84</th>\n",
       "      <th>edad 85 a 99</th>\n",
       "      <th>edad 100 o más</th>\n",
       "      <th>Total</th>\n",
       "    </tr>\n",
       "  </thead>\n",
       "  <tbody>\n",
       "    <tr>\n",
       "      <th>Población</th>\n",
       "      <td>28349.0</td>\n",
       "      <td>45465.0</td>\n",
       "      <td>198767.0</td>\n",
       "      <td>113931.0</td>\n",
       "      <td>53426.0</td>\n",
       "      <td>6021.0</td>\n",
       "      <td>201.0</td>\n",
       "      <td>446160.0</td>\n",
       "    </tr>\n",
       "  </tbody>\n",
       "</table>\n",
       "</div>"
      ],
      "text/plain": [
       "Unnamed: 0  edad 0 a 4  edad 5 a 14  edad 15 a 44  edad 45 a 64  edad 65 a 84  \\\n",
       "Población      28349.0      45465.0      198767.0      113931.0       53426.0   \n",
       "\n",
       "Unnamed: 0  edad 85 a 99  edad 100 o más     Total  \n",
       "Población         6021.0           201.0  446160.0  "
      ]
     },
     "execution_count": 290,
     "metadata": {},
     "output_type": "execute_result"
    }
   ],
   "source": [
    "poblacionMunicipal=poblacionMunicipal.transpose()\n",
    "poblacionMunicipal"
   ]
  },
  {
   "cell_type": "code",
   "execution_count": 291,
   "metadata": {},
   "outputs": [],
   "source": [
    "poblacionMunicipal=poblacionMunicipal.reset_index()"
   ]
  },
  {
   "cell_type": "code",
   "execution_count": 292,
   "metadata": {},
   "outputs": [],
   "source": [
    "poblacionMunicipal['Causas de defunción']=np.nan"
   ]
  },
  {
   "cell_type": "code",
   "execution_count": 293,
   "metadata": {},
   "outputs": [],
   "source": [
    "poblacionMunicipal=poblacionMunicipal.reindex(columns= ['index','Causas de defunción','edad 0 a 4', 'edad 5 a 14', 'edad 15 a 44', 'edad 45 a 64',\n",
    "       'edad 65 a 84', 'edad 85 a 99', 'edad 100 o más', 'Total']\n",
    "       )"
   ]
  },
  {
   "cell_type": "code",
   "execution_count": 294,
   "metadata": {},
   "outputs": [],
   "source": [
    "poblacionMunicipal.drop(columns='index', inplace=True)"
   ]
  },
  {
   "cell_type": "code",
   "execution_count": 295,
   "metadata": {},
   "outputs": [],
   "source": [
    "poblacionMunicipal['Causas de defunción']='Total habitantes de zonas afectadas'"
   ]
  },
  {
   "cell_type": "code",
   "execution_count": 296,
   "metadata": {},
   "outputs": [],
   "source": [
    "defuncionesMunicipales=defuncionesMunicipales.append(poblacionMunicipal)"
   ]
  },
  {
   "cell_type": "code",
   "execution_count": 297,
   "metadata": {},
   "outputs": [
    {
     "data": {
      "text/html": [
       "<div>\n",
       "<style scoped>\n",
       "    .dataframe tbody tr th:only-of-type {\n",
       "        vertical-align: middle;\n",
       "    }\n",
       "\n",
       "    .dataframe tbody tr th {\n",
       "        vertical-align: top;\n",
       "    }\n",
       "\n",
       "    .dataframe thead th {\n",
       "        text-align: right;\n",
       "    }\n",
       "</style>\n",
       "<table border=\"1\" class=\"dataframe\">\n",
       "  <thead>\n",
       "    <tr style=\"text-align: right;\">\n",
       "      <th>Unnamed: 0</th>\n",
       "      <th>Causas de defunción</th>\n",
       "      <th>edad 0 a 4</th>\n",
       "      <th>edad 5 a 14</th>\n",
       "      <th>edad 15 a 44</th>\n",
       "      <th>edad 45 a 64</th>\n",
       "      <th>edad 65 a 84</th>\n",
       "      <th>edad 85 a 99</th>\n",
       "      <th>edad 100 o más</th>\n",
       "      <th>Total</th>\n",
       "    </tr>\n",
       "  </thead>\n",
       "  <tbody>\n",
       "    <tr>\n",
       "      <th>0</th>\n",
       "      <td>201 Tumor maligno del estómago202 Tumor malign...</td>\n",
       "      <td>0.0</td>\n",
       "      <td>3.0</td>\n",
       "      <td>51.0</td>\n",
       "      <td>124.0</td>\n",
       "      <td>276.0</td>\n",
       "      <td>63.0</td>\n",
       "      <td>0.0</td>\n",
       "      <td>518.0</td>\n",
       "    </tr>\n",
       "    <tr>\n",
       "      <th>36</th>\n",
       "      <td>RT-PCR_positivo (covid19???)</td>\n",
       "      <td>0.0</td>\n",
       "      <td>1.0</td>\n",
       "      <td>6.0</td>\n",
       "      <td>57.0</td>\n",
       "      <td>179.0</td>\n",
       "      <td>66.0</td>\n",
       "      <td>2.0</td>\n",
       "      <td>311.0</td>\n",
       "    </tr>\n",
       "    <tr>\n",
       "      <th>1</th>\n",
       "      <td>303 Enfermedades isquémicas del corazón</td>\n",
       "      <td>0.0</td>\n",
       "      <td>0.0</td>\n",
       "      <td>6.0</td>\n",
       "      <td>30.0</td>\n",
       "      <td>160.0</td>\n",
       "      <td>100.0</td>\n",
       "      <td>6.0</td>\n",
       "      <td>303.0</td>\n",
       "    </tr>\n",
       "    <tr>\n",
       "      <th>2</th>\n",
       "      <td>605 Enfermedades crónicas de las vías respirat...</td>\n",
       "      <td>0.0</td>\n",
       "      <td>0.0</td>\n",
       "      <td>3.0</td>\n",
       "      <td>9.0</td>\n",
       "      <td>97.0</td>\n",
       "      <td>109.0</td>\n",
       "      <td>0.0</td>\n",
       "      <td>218.0</td>\n",
       "    </tr>\n",
       "    <tr>\n",
       "      <th>3</th>\n",
       "      <td>307 Enfermedades cerebrovasculares</td>\n",
       "      <td>3.0</td>\n",
       "      <td>0.0</td>\n",
       "      <td>3.0</td>\n",
       "      <td>12.0</td>\n",
       "      <td>66.0</td>\n",
       "      <td>33.0</td>\n",
       "      <td>0.0</td>\n",
       "      <td>118.0</td>\n",
       "    </tr>\n",
       "    <tr>\n",
       "      <th>4</th>\n",
       "      <td>614 Resto de las enfermedades</td>\n",
       "      <td>0.0</td>\n",
       "      <td>0.0</td>\n",
       "      <td>0.0</td>\n",
       "      <td>18.0</td>\n",
       "      <td>27.0</td>\n",
       "      <td>27.0</td>\n",
       "      <td>3.0</td>\n",
       "      <td>75.0</td>\n",
       "    </tr>\n",
       "    <tr>\n",
       "      <th>5</th>\n",
       "      <td>604 Enfermedades del sistema nervioso, excepto...</td>\n",
       "      <td>0.0</td>\n",
       "      <td>0.0</td>\n",
       "      <td>3.0</td>\n",
       "      <td>18.0</td>\n",
       "      <td>27.0</td>\n",
       "      <td>24.0</td>\n",
       "      <td>0.0</td>\n",
       "      <td>72.0</td>\n",
       "    </tr>\n",
       "    <tr>\n",
       "      <th>6</th>\n",
       "      <td>304 Enfermedad cardiopulmonar, enfermedades de...</td>\n",
       "      <td>0.0</td>\n",
       "      <td>3.0</td>\n",
       "      <td>9.0</td>\n",
       "      <td>6.0</td>\n",
       "      <td>27.0</td>\n",
       "      <td>21.0</td>\n",
       "      <td>0.0</td>\n",
       "      <td>66.0</td>\n",
       "    </tr>\n",
       "    <tr>\n",
       "      <th>7</th>\n",
       "      <td>108 Infecciones respiratorias agudas</td>\n",
       "      <td>0.0</td>\n",
       "      <td>0.0</td>\n",
       "      <td>3.0</td>\n",
       "      <td>3.0</td>\n",
       "      <td>21.0</td>\n",
       "      <td>27.0</td>\n",
       "      <td>9.0</td>\n",
       "      <td>63.0</td>\n",
       "    </tr>\n",
       "    <tr>\n",
       "      <th>8</th>\n",
       "      <td>610 Enfermedades del sistema urinario</td>\n",
       "      <td>0.0</td>\n",
       "      <td>0.0</td>\n",
       "      <td>0.0</td>\n",
       "      <td>9.0</td>\n",
       "      <td>24.0</td>\n",
       "      <td>27.0</td>\n",
       "      <td>0.0</td>\n",
       "      <td>60.0</td>\n",
       "    </tr>\n",
       "    <tr>\n",
       "      <th>0</th>\n",
       "      <td>Total habitantes de zonas afectadas</td>\n",
       "      <td>28349.0</td>\n",
       "      <td>45465.0</td>\n",
       "      <td>198767.0</td>\n",
       "      <td>113931.0</td>\n",
       "      <td>53426.0</td>\n",
       "      <td>6021.0</td>\n",
       "      <td>201.0</td>\n",
       "      <td>446160.0</td>\n",
       "    </tr>\n",
       "  </tbody>\n",
       "</table>\n",
       "</div>"
      ],
      "text/plain": [
       "Unnamed: 0                                Causas de defunción  edad 0 a 4  \\\n",
       "0           201 Tumor maligno del estómago202 Tumor malign...         0.0   \n",
       "36                               RT-PCR_positivo (covid19???)         0.0   \n",
       "1                     303 Enfermedades isquémicas del corazón         0.0   \n",
       "2           605 Enfermedades crónicas de las vías respirat...         0.0   \n",
       "3                          307 Enfermedades cerebrovasculares         3.0   \n",
       "4                               614 Resto de las enfermedades         0.0   \n",
       "5           604 Enfermedades del sistema nervioso, excepto...         0.0   \n",
       "6           304 Enfermedad cardiopulmonar, enfermedades de...         0.0   \n",
       "7                        108 Infecciones respiratorias agudas         0.0   \n",
       "8                       610 Enfermedades del sistema urinario         0.0   \n",
       "0                         Total habitantes de zonas afectadas     28349.0   \n",
       "\n",
       "Unnamed: 0  edad 5 a 14  edad 15 a 44  edad 45 a 64  edad 65 a 84  \\\n",
       "0                   3.0          51.0         124.0         276.0   \n",
       "36                  1.0           6.0          57.0         179.0   \n",
       "1                   0.0           6.0          30.0         160.0   \n",
       "2                   0.0           3.0           9.0          97.0   \n",
       "3                   0.0           3.0          12.0          66.0   \n",
       "4                   0.0           0.0          18.0          27.0   \n",
       "5                   0.0           3.0          18.0          27.0   \n",
       "6                   3.0           9.0           6.0          27.0   \n",
       "7                   0.0           3.0           3.0          21.0   \n",
       "8                   0.0           0.0           9.0          24.0   \n",
       "0               45465.0      198767.0      113931.0       53426.0   \n",
       "\n",
       "Unnamed: 0  edad 85 a 99  edad 100 o más     Total  \n",
       "0                   63.0             0.0     518.0  \n",
       "36                  66.0             2.0     311.0  \n",
       "1                  100.0             6.0     303.0  \n",
       "2                  109.0             0.0     218.0  \n",
       "3                   33.0             0.0     118.0  \n",
       "4                   27.0             3.0      75.0  \n",
       "5                   24.0             0.0      72.0  \n",
       "6                   21.0             0.0      66.0  \n",
       "7                   27.0             9.0      63.0  \n",
       "8                   27.0             0.0      60.0  \n",
       "0                 6021.0           201.0  446160.0  "
      ]
     },
     "execution_count": 297,
     "metadata": {},
     "output_type": "execute_result"
    }
   ],
   "source": [
    "defuncionesMunicipales"
   ]
  },
  {
   "cell_type": "code",
   "execution_count": 298,
   "metadata": {},
   "outputs": [],
   "source": [
    "defuncionesMunicipales.set_index('Causas de defunción', inplace=True)"
   ]
  },
  {
   "cell_type": "code",
   "execution_count": 299,
   "metadata": {},
   "outputs": [
    {
     "data": {
      "text/html": [
       "<div>\n",
       "<style scoped>\n",
       "    .dataframe tbody tr th:only-of-type {\n",
       "        vertical-align: middle;\n",
       "    }\n",
       "\n",
       "    .dataframe tbody tr th {\n",
       "        vertical-align: top;\n",
       "    }\n",
       "\n",
       "    .dataframe thead th {\n",
       "        text-align: right;\n",
       "    }\n",
       "</style>\n",
       "<table border=\"1\" class=\"dataframe\">\n",
       "  <thead>\n",
       "    <tr style=\"text-align: right;\">\n",
       "      <th>Unnamed: 0</th>\n",
       "      <th>edad 0 a 4</th>\n",
       "      <th>edad 5 a 14</th>\n",
       "      <th>edad 15 a 44</th>\n",
       "      <th>edad 45 a 64</th>\n",
       "      <th>edad 65 a 84</th>\n",
       "      <th>edad 85 a 99</th>\n",
       "      <th>edad 100 o más</th>\n",
       "      <th>Total</th>\n",
       "    </tr>\n",
       "    <tr>\n",
       "      <th>Causas de defunción</th>\n",
       "      <th></th>\n",
       "      <th></th>\n",
       "      <th></th>\n",
       "      <th></th>\n",
       "      <th></th>\n",
       "      <th></th>\n",
       "      <th></th>\n",
       "      <th></th>\n",
       "    </tr>\n",
       "  </thead>\n",
       "  <tbody>\n",
       "    <tr>\n",
       "      <th>201 Tumor maligno del estómago202 Tumor maligno del colon y de la unión rectosigmoidea203 Tumor maligno de los órganos digestivos y del peritoneo excepto estómago y colon204 Tumor maligno de la tráquea, los bronquios y el pulmón205 Tumor maligno de los órganos respiratorios e intratorácicos, excepto tráquea, bronquios y pulmón206 Tumor maligno de la mama de la mujer207 Tumor maligno del cuello del útero208 Tumor maligno del cuerpo del útero209 Tumor maligno del útero, parte no especificada210 Tumor maligno de la próstata211 Tumor maligno de otros órganos genitourinarios213 Tumor maligno del tejido linfático, de otros órganos hematopoyéticos y de tejidos afines214 Tumores malignos de otras localizaciones y de las no especificadas215 Tumores in situ, beningnos y los de comportamiento incierto o desconocido</th>\n",
       "      <td>0.0</td>\n",
       "      <td>3.0</td>\n",
       "      <td>51.0</td>\n",
       "      <td>124.0</td>\n",
       "      <td>276.0</td>\n",
       "      <td>63.0</td>\n",
       "      <td>0.0</td>\n",
       "      <td>518.0</td>\n",
       "    </tr>\n",
       "    <tr>\n",
       "      <th>RT-PCR_positivo (covid19???)</th>\n",
       "      <td>0.0</td>\n",
       "      <td>1.0</td>\n",
       "      <td>6.0</td>\n",
       "      <td>57.0</td>\n",
       "      <td>179.0</td>\n",
       "      <td>66.0</td>\n",
       "      <td>2.0</td>\n",
       "      <td>311.0</td>\n",
       "    </tr>\n",
       "    <tr>\n",
       "      <th>303 Enfermedades isquémicas del corazón</th>\n",
       "      <td>0.0</td>\n",
       "      <td>0.0</td>\n",
       "      <td>6.0</td>\n",
       "      <td>30.0</td>\n",
       "      <td>160.0</td>\n",
       "      <td>100.0</td>\n",
       "      <td>6.0</td>\n",
       "      <td>303.0</td>\n",
       "    </tr>\n",
       "    <tr>\n",
       "      <th>605 Enfermedades crónicas de las vías respiratorias inferiores</th>\n",
       "      <td>0.0</td>\n",
       "      <td>0.0</td>\n",
       "      <td>3.0</td>\n",
       "      <td>9.0</td>\n",
       "      <td>97.0</td>\n",
       "      <td>109.0</td>\n",
       "      <td>0.0</td>\n",
       "      <td>218.0</td>\n",
       "    </tr>\n",
       "    <tr>\n",
       "      <th>307 Enfermedades cerebrovasculares</th>\n",
       "      <td>3.0</td>\n",
       "      <td>0.0</td>\n",
       "      <td>3.0</td>\n",
       "      <td>12.0</td>\n",
       "      <td>66.0</td>\n",
       "      <td>33.0</td>\n",
       "      <td>0.0</td>\n",
       "      <td>118.0</td>\n",
       "    </tr>\n",
       "    <tr>\n",
       "      <th>614 Resto de las enfermedades</th>\n",
       "      <td>0.0</td>\n",
       "      <td>0.0</td>\n",
       "      <td>0.0</td>\n",
       "      <td>18.0</td>\n",
       "      <td>27.0</td>\n",
       "      <td>27.0</td>\n",
       "      <td>3.0</td>\n",
       "      <td>75.0</td>\n",
       "    </tr>\n",
       "    <tr>\n",
       "      <th>604 Enfermedades del sistema nervioso, excepto meningitis</th>\n",
       "      <td>0.0</td>\n",
       "      <td>0.0</td>\n",
       "      <td>3.0</td>\n",
       "      <td>18.0</td>\n",
       "      <td>27.0</td>\n",
       "      <td>24.0</td>\n",
       "      <td>0.0</td>\n",
       "      <td>72.0</td>\n",
       "    </tr>\n",
       "    <tr>\n",
       "      <th>304 Enfermedad cardiopulmonar, enfermedades de la circulación pulmonar y otras formas de enfermedad del corazón</th>\n",
       "      <td>0.0</td>\n",
       "      <td>3.0</td>\n",
       "      <td>9.0</td>\n",
       "      <td>6.0</td>\n",
       "      <td>27.0</td>\n",
       "      <td>21.0</td>\n",
       "      <td>0.0</td>\n",
       "      <td>66.0</td>\n",
       "    </tr>\n",
       "    <tr>\n",
       "      <th>108 Infecciones respiratorias agudas</th>\n",
       "      <td>0.0</td>\n",
       "      <td>0.0</td>\n",
       "      <td>3.0</td>\n",
       "      <td>3.0</td>\n",
       "      <td>21.0</td>\n",
       "      <td>27.0</td>\n",
       "      <td>9.0</td>\n",
       "      <td>63.0</td>\n",
       "    </tr>\n",
       "    <tr>\n",
       "      <th>610 Enfermedades del sistema urinario</th>\n",
       "      <td>0.0</td>\n",
       "      <td>0.0</td>\n",
       "      <td>0.0</td>\n",
       "      <td>9.0</td>\n",
       "      <td>24.0</td>\n",
       "      <td>27.0</td>\n",
       "      <td>0.0</td>\n",
       "      <td>60.0</td>\n",
       "    </tr>\n",
       "    <tr>\n",
       "      <th>Total habitantes de zonas afectadas</th>\n",
       "      <td>28349.0</td>\n",
       "      <td>45465.0</td>\n",
       "      <td>198767.0</td>\n",
       "      <td>113931.0</td>\n",
       "      <td>53426.0</td>\n",
       "      <td>6021.0</td>\n",
       "      <td>201.0</td>\n",
       "      <td>446160.0</td>\n",
       "    </tr>\n",
       "  </tbody>\n",
       "</table>\n",
       "</div>"
      ],
      "text/plain": [
       "Unnamed: 0                                          edad 0 a 4  edad 5 a 14  \\\n",
       "Causas de defunción                                                           \n",
       "201 Tumor maligno del estómago202 Tumor maligno...         0.0          3.0   \n",
       "RT-PCR_positivo (covid19???)                               0.0          1.0   \n",
       "303 Enfermedades isquémicas del corazón                    0.0          0.0   \n",
       "605 Enfermedades crónicas de las vías respirato...         0.0          0.0   \n",
       "307 Enfermedades cerebrovasculares                         3.0          0.0   \n",
       "614 Resto de las enfermedades                              0.0          0.0   \n",
       "604 Enfermedades del sistema nervioso, excepto ...         0.0          0.0   \n",
       "304 Enfermedad cardiopulmonar, enfermedades de ...         0.0          3.0   \n",
       "108 Infecciones respiratorias agudas                       0.0          0.0   \n",
       "610 Enfermedades del sistema urinario                      0.0          0.0   \n",
       "Total habitantes de zonas afectadas                    28349.0      45465.0   \n",
       "\n",
       "Unnamed: 0                                          edad 15 a 44  \\\n",
       "Causas de defunción                                                \n",
       "201 Tumor maligno del estómago202 Tumor maligno...          51.0   \n",
       "RT-PCR_positivo (covid19???)                                 6.0   \n",
       "303 Enfermedades isquémicas del corazón                      6.0   \n",
       "605 Enfermedades crónicas de las vías respirato...           3.0   \n",
       "307 Enfermedades cerebrovasculares                           3.0   \n",
       "614 Resto de las enfermedades                                0.0   \n",
       "604 Enfermedades del sistema nervioso, excepto ...           3.0   \n",
       "304 Enfermedad cardiopulmonar, enfermedades de ...           9.0   \n",
       "108 Infecciones respiratorias agudas                         3.0   \n",
       "610 Enfermedades del sistema urinario                        0.0   \n",
       "Total habitantes de zonas afectadas                     198767.0   \n",
       "\n",
       "Unnamed: 0                                          edad 45 a 64  \\\n",
       "Causas de defunción                                                \n",
       "201 Tumor maligno del estómago202 Tumor maligno...         124.0   \n",
       "RT-PCR_positivo (covid19???)                                57.0   \n",
       "303 Enfermedades isquémicas del corazón                     30.0   \n",
       "605 Enfermedades crónicas de las vías respirato...           9.0   \n",
       "307 Enfermedades cerebrovasculares                          12.0   \n",
       "614 Resto de las enfermedades                               18.0   \n",
       "604 Enfermedades del sistema nervioso, excepto ...          18.0   \n",
       "304 Enfermedad cardiopulmonar, enfermedades de ...           6.0   \n",
       "108 Infecciones respiratorias agudas                         3.0   \n",
       "610 Enfermedades del sistema urinario                        9.0   \n",
       "Total habitantes de zonas afectadas                     113931.0   \n",
       "\n",
       "Unnamed: 0                                          edad 65 a 84  \\\n",
       "Causas de defunción                                                \n",
       "201 Tumor maligno del estómago202 Tumor maligno...         276.0   \n",
       "RT-PCR_positivo (covid19???)                               179.0   \n",
       "303 Enfermedades isquémicas del corazón                    160.0   \n",
       "605 Enfermedades crónicas de las vías respirato...          97.0   \n",
       "307 Enfermedades cerebrovasculares                          66.0   \n",
       "614 Resto de las enfermedades                               27.0   \n",
       "604 Enfermedades del sistema nervioso, excepto ...          27.0   \n",
       "304 Enfermedad cardiopulmonar, enfermedades de ...          27.0   \n",
       "108 Infecciones respiratorias agudas                        21.0   \n",
       "610 Enfermedades del sistema urinario                       24.0   \n",
       "Total habitantes de zonas afectadas                      53426.0   \n",
       "\n",
       "Unnamed: 0                                          edad 85 a 99  \\\n",
       "Causas de defunción                                                \n",
       "201 Tumor maligno del estómago202 Tumor maligno...          63.0   \n",
       "RT-PCR_positivo (covid19???)                                66.0   \n",
       "303 Enfermedades isquémicas del corazón                    100.0   \n",
       "605 Enfermedades crónicas de las vías respirato...         109.0   \n",
       "307 Enfermedades cerebrovasculares                          33.0   \n",
       "614 Resto de las enfermedades                               27.0   \n",
       "604 Enfermedades del sistema nervioso, excepto ...          24.0   \n",
       "304 Enfermedad cardiopulmonar, enfermedades de ...          21.0   \n",
       "108 Infecciones respiratorias agudas                        27.0   \n",
       "610 Enfermedades del sistema urinario                       27.0   \n",
       "Total habitantes de zonas afectadas                       6021.0   \n",
       "\n",
       "Unnamed: 0                                          edad 100 o más     Total  \n",
       "Causas de defunción                                                           \n",
       "201 Tumor maligno del estómago202 Tumor maligno...             0.0     518.0  \n",
       "RT-PCR_positivo (covid19???)                                   2.0     311.0  \n",
       "303 Enfermedades isquémicas del corazón                        6.0     303.0  \n",
       "605 Enfermedades crónicas de las vías respirato...             0.0     218.0  \n",
       "307 Enfermedades cerebrovasculares                             0.0     118.0  \n",
       "614 Resto de las enfermedades                                  3.0      75.0  \n",
       "604 Enfermedades del sistema nervioso, excepto ...             0.0      72.0  \n",
       "304 Enfermedad cardiopulmonar, enfermedades de ...             0.0      66.0  \n",
       "108 Infecciones respiratorias agudas                           9.0      63.0  \n",
       "610 Enfermedades del sistema urinario                          0.0      60.0  \n",
       "Total habitantes de zonas afectadas                          201.0  446160.0  "
      ]
     },
     "execution_count": 299,
     "metadata": {},
     "output_type": "execute_result"
    }
   ],
   "source": [
    "defuncionesMunicipales.head(30)"
   ]
  },
  {
   "cell_type": "code",
   "execution_count": 300,
   "metadata": {},
   "outputs": [],
   "source": [
    "defuncionesMunicipales=defuncionesMunicipales.transpose()"
   ]
  },
  {
   "cell_type": "code",
   "execution_count": 301,
   "metadata": {},
   "outputs": [],
   "source": [
    "defuncionesMunicipales.rename(columns={'201 Tumor maligno del estómago202 Tumor maligno del colon y de la unión rectosigmoidea203 Tumor maligno de los órganos digestivos y del peritoneo excepto estómago y colon204 Tumor maligno de la tráquea, los bronquios y el pulmón205 Tumor maligno de los órganos respiratorios e intratorácicos, excepto tráquea, bronquios y pulmón206 Tumor maligno de la mama de la mujer207 Tumor maligno del cuello del útero208 Tumor maligno del cuerpo del útero209 Tumor maligno del útero, parte no especificada210 Tumor maligno de la próstata211 Tumor maligno de otros órganos genitourinarios213 Tumor maligno del tejido linfático, de otros órganos hematopoyéticos y de tejidos afines214 Tumores malignos de otras localizaciones y de las no especificadas215 Tumores in situ, beningnos y los de comportamiento incierto o desconocido':'Tumores'}, inplace=True)"
   ]
  },
  {
   "cell_type": "code",
   "execution_count": 303,
   "metadata": {},
   "outputs": [
    {
     "data": {
      "text/html": [
       "<div>\n",
       "<style scoped>\n",
       "    .dataframe tbody tr th:only-of-type {\n",
       "        vertical-align: middle;\n",
       "    }\n",
       "\n",
       "    .dataframe tbody tr th {\n",
       "        vertical-align: top;\n",
       "    }\n",
       "\n",
       "    .dataframe thead th {\n",
       "        text-align: right;\n",
       "    }\n",
       "</style>\n",
       "<table border=\"1\" class=\"dataframe\">\n",
       "  <thead>\n",
       "    <tr style=\"text-align: right;\">\n",
       "      <th>Causas de defunción</th>\n",
       "      <th>Tumores</th>\n",
       "      <th>RT-PCR_positivo (covid19???)</th>\n",
       "      <th>303 Enfermedades isquémicas del corazón</th>\n",
       "      <th>605 Enfermedades crónicas de las vías respiratorias inferiores</th>\n",
       "      <th>307 Enfermedades cerebrovasculares</th>\n",
       "      <th>614 Resto de las enfermedades</th>\n",
       "      <th>604 Enfermedades del sistema nervioso, excepto meningitis</th>\n",
       "      <th>304 Enfermedad cardiopulmonar, enfermedades de la circulación pulmonar y otras formas de enfermedad del corazón</th>\n",
       "      <th>108 Infecciones respiratorias agudas</th>\n",
       "      <th>610 Enfermedades del sistema urinario</th>\n",
       "      <th>Total habitantes de zonas afectadas</th>\n",
       "    </tr>\n",
       "    <tr>\n",
       "      <th>Unnamed: 0</th>\n",
       "      <th></th>\n",
       "      <th></th>\n",
       "      <th></th>\n",
       "      <th></th>\n",
       "      <th></th>\n",
       "      <th></th>\n",
       "      <th></th>\n",
       "      <th></th>\n",
       "      <th></th>\n",
       "      <th></th>\n",
       "      <th></th>\n",
       "    </tr>\n",
       "  </thead>\n",
       "  <tbody>\n",
       "    <tr>\n",
       "      <th>edad 0 a 4</th>\n",
       "      <td>0.0</td>\n",
       "      <td>0.0</td>\n",
       "      <td>0.0</td>\n",
       "      <td>0.0</td>\n",
       "      <td>3.0</td>\n",
       "      <td>0.0</td>\n",
       "      <td>0.0</td>\n",
       "      <td>0.0</td>\n",
       "      <td>0.0</td>\n",
       "      <td>0.0</td>\n",
       "      <td>28349.0</td>\n",
       "    </tr>\n",
       "    <tr>\n",
       "      <th>edad 5 a 14</th>\n",
       "      <td>3.0</td>\n",
       "      <td>1.0</td>\n",
       "      <td>0.0</td>\n",
       "      <td>0.0</td>\n",
       "      <td>0.0</td>\n",
       "      <td>0.0</td>\n",
       "      <td>0.0</td>\n",
       "      <td>3.0</td>\n",
       "      <td>0.0</td>\n",
       "      <td>0.0</td>\n",
       "      <td>45465.0</td>\n",
       "    </tr>\n",
       "    <tr>\n",
       "      <th>edad 15 a 44</th>\n",
       "      <td>51.0</td>\n",
       "      <td>6.0</td>\n",
       "      <td>6.0</td>\n",
       "      <td>3.0</td>\n",
       "      <td>3.0</td>\n",
       "      <td>0.0</td>\n",
       "      <td>3.0</td>\n",
       "      <td>9.0</td>\n",
       "      <td>3.0</td>\n",
       "      <td>0.0</td>\n",
       "      <td>198767.0</td>\n",
       "    </tr>\n",
       "    <tr>\n",
       "      <th>edad 45 a 64</th>\n",
       "      <td>124.0</td>\n",
       "      <td>57.0</td>\n",
       "      <td>30.0</td>\n",
       "      <td>9.0</td>\n",
       "      <td>12.0</td>\n",
       "      <td>18.0</td>\n",
       "      <td>18.0</td>\n",
       "      <td>6.0</td>\n",
       "      <td>3.0</td>\n",
       "      <td>9.0</td>\n",
       "      <td>113931.0</td>\n",
       "    </tr>\n",
       "    <tr>\n",
       "      <th>edad 65 a 84</th>\n",
       "      <td>276.0</td>\n",
       "      <td>179.0</td>\n",
       "      <td>160.0</td>\n",
       "      <td>97.0</td>\n",
       "      <td>66.0</td>\n",
       "      <td>27.0</td>\n",
       "      <td>27.0</td>\n",
       "      <td>27.0</td>\n",
       "      <td>21.0</td>\n",
       "      <td>24.0</td>\n",
       "      <td>53426.0</td>\n",
       "    </tr>\n",
       "    <tr>\n",
       "      <th>edad 85 a 99</th>\n",
       "      <td>63.0</td>\n",
       "      <td>66.0</td>\n",
       "      <td>100.0</td>\n",
       "      <td>109.0</td>\n",
       "      <td>33.0</td>\n",
       "      <td>27.0</td>\n",
       "      <td>24.0</td>\n",
       "      <td>21.0</td>\n",
       "      <td>27.0</td>\n",
       "      <td>27.0</td>\n",
       "      <td>6021.0</td>\n",
       "    </tr>\n",
       "    <tr>\n",
       "      <th>edad 100 o más</th>\n",
       "      <td>0.0</td>\n",
       "      <td>2.0</td>\n",
       "      <td>6.0</td>\n",
       "      <td>0.0</td>\n",
       "      <td>0.0</td>\n",
       "      <td>3.0</td>\n",
       "      <td>0.0</td>\n",
       "      <td>0.0</td>\n",
       "      <td>9.0</td>\n",
       "      <td>0.0</td>\n",
       "      <td>201.0</td>\n",
       "    </tr>\n",
       "    <tr>\n",
       "      <th>Total</th>\n",
       "      <td>518.0</td>\n",
       "      <td>311.0</td>\n",
       "      <td>303.0</td>\n",
       "      <td>218.0</td>\n",
       "      <td>118.0</td>\n",
       "      <td>75.0</td>\n",
       "      <td>72.0</td>\n",
       "      <td>66.0</td>\n",
       "      <td>63.0</td>\n",
       "      <td>60.0</td>\n",
       "      <td>446160.0</td>\n",
       "    </tr>\n",
       "  </tbody>\n",
       "</table>\n",
       "</div>"
      ],
      "text/plain": [
       "Causas de defunción  Tumores  RT-PCR_positivo (covid19???)  \\\n",
       "Unnamed: 0                                                   \n",
       "edad 0 a 4               0.0                           0.0   \n",
       "edad 5 a 14              3.0                           1.0   \n",
       "edad 15 a 44            51.0                           6.0   \n",
       "edad 45 a 64           124.0                          57.0   \n",
       "edad 65 a 84           276.0                         179.0   \n",
       "edad 85 a 99            63.0                          66.0   \n",
       "edad 100 o más           0.0                           2.0   \n",
       "Total                  518.0                         311.0   \n",
       "\n",
       "Causas de defunción  303 Enfermedades isquémicas del corazón  \\\n",
       "Unnamed: 0                                                     \n",
       "edad 0 a 4                                               0.0   \n",
       "edad 5 a 14                                              0.0   \n",
       "edad 15 a 44                                             6.0   \n",
       "edad 45 a 64                                            30.0   \n",
       "edad 65 a 84                                           160.0   \n",
       "edad 85 a 99                                           100.0   \n",
       "edad 100 o más                                           6.0   \n",
       "Total                                                  303.0   \n",
       "\n",
       "Causas de defunción  605 Enfermedades crónicas de las vías respiratorias inferiores  \\\n",
       "Unnamed: 0                                                                            \n",
       "edad 0 a 4                                                         0.0                \n",
       "edad 5 a 14                                                        0.0                \n",
       "edad 15 a 44                                                       3.0                \n",
       "edad 45 a 64                                                       9.0                \n",
       "edad 65 a 84                                                      97.0                \n",
       "edad 85 a 99                                                     109.0                \n",
       "edad 100 o más                                                     0.0                \n",
       "Total                                                            218.0                \n",
       "\n",
       "Causas de defunción  307 Enfermedades cerebrovasculares  \\\n",
       "Unnamed: 0                                                \n",
       "edad 0 a 4                                          3.0   \n",
       "edad 5 a 14                                         0.0   \n",
       "edad 15 a 44                                        3.0   \n",
       "edad 45 a 64                                       12.0   \n",
       "edad 65 a 84                                       66.0   \n",
       "edad 85 a 99                                       33.0   \n",
       "edad 100 o más                                      0.0   \n",
       "Total                                             118.0   \n",
       "\n",
       "Causas de defunción  614 Resto de las enfermedades  \\\n",
       "Unnamed: 0                                           \n",
       "edad 0 a 4                                     0.0   \n",
       "edad 5 a 14                                    0.0   \n",
       "edad 15 a 44                                   0.0   \n",
       "edad 45 a 64                                  18.0   \n",
       "edad 65 a 84                                  27.0   \n",
       "edad 85 a 99                                  27.0   \n",
       "edad 100 o más                                 3.0   \n",
       "Total                                         75.0   \n",
       "\n",
       "Causas de defunción  604 Enfermedades del sistema nervioso, excepto meningitis  \\\n",
       "Unnamed: 0                                                                       \n",
       "edad 0 a 4                                                         0.0           \n",
       "edad 5 a 14                                                        0.0           \n",
       "edad 15 a 44                                                       3.0           \n",
       "edad 45 a 64                                                      18.0           \n",
       "edad 65 a 84                                                      27.0           \n",
       "edad 85 a 99                                                      24.0           \n",
       "edad 100 o más                                                     0.0           \n",
       "Total                                                             72.0           \n",
       "\n",
       "Causas de defunción  304 Enfermedad cardiopulmonar, enfermedades de la circulación pulmonar y otras formas de enfermedad del corazón  \\\n",
       "Unnamed: 0                                                                                                                             \n",
       "edad 0 a 4                                                         0.0                                                                 \n",
       "edad 5 a 14                                                        3.0                                                                 \n",
       "edad 15 a 44                                                       9.0                                                                 \n",
       "edad 45 a 64                                                       6.0                                                                 \n",
       "edad 65 a 84                                                      27.0                                                                 \n",
       "edad 85 a 99                                                      21.0                                                                 \n",
       "edad 100 o más                                                     0.0                                                                 \n",
       "Total                                                             66.0                                                                 \n",
       "\n",
       "Causas de defunción  108 Infecciones respiratorias agudas  \\\n",
       "Unnamed: 0                                                  \n",
       "edad 0 a 4                                            0.0   \n",
       "edad 5 a 14                                           0.0   \n",
       "edad 15 a 44                                          3.0   \n",
       "edad 45 a 64                                          3.0   \n",
       "edad 65 a 84                                         21.0   \n",
       "edad 85 a 99                                         27.0   \n",
       "edad 100 o más                                        9.0   \n",
       "Total                                                63.0   \n",
       "\n",
       "Causas de defunción  610 Enfermedades del sistema urinario  \\\n",
       "Unnamed: 0                                                   \n",
       "edad 0 a 4                                             0.0   \n",
       "edad 5 a 14                                            0.0   \n",
       "edad 15 a 44                                           0.0   \n",
       "edad 45 a 64                                           9.0   \n",
       "edad 65 a 84                                          24.0   \n",
       "edad 85 a 99                                          27.0   \n",
       "edad 100 o más                                         0.0   \n",
       "Total                                                 60.0   \n",
       "\n",
       "Causas de defunción  Total habitantes de zonas afectadas  \n",
       "Unnamed: 0                                                \n",
       "edad 0 a 4                                       28349.0  \n",
       "edad 5 a 14                                      45465.0  \n",
       "edad 15 a 44                                    198767.0  \n",
       "edad 45 a 64                                    113931.0  \n",
       "edad 65 a 84                                     53426.0  \n",
       "edad 85 a 99                                      6021.0  \n",
       "edad 100 o más                                     201.0  \n",
       "Total                                           446160.0  "
      ]
     },
     "execution_count": 303,
     "metadata": {},
     "output_type": "execute_result"
    }
   ],
   "source": [
    "defuncionesMunicipales"
   ]
  },
  {
   "cell_type": "code",
   "execution_count": 304,
   "metadata": {},
   "outputs": [],
   "source": [
    "defuncionesMunicipalesxaLetalidad = defuncionesMunicipales"
   ]
  },
  {
   "cell_type": "code",
   "execution_count": 305,
   "metadata": {},
   "outputs": [],
   "source": [
    "defuncionesMunicipales['Tumores']= (100000*(defuncionesMunicipales['Tumores']/defuncionesMunicipales['Total habitantes de zonas afectadas'])).round(2)\n",
    "defuncionesMunicipales['303 Enfermedades isquémicas del corazón']= (100000*(defuncionesMunicipales['303 Enfermedades isquémicas del corazón']/defuncionesMunicipales['Total habitantes de zonas afectadas'])).round(2)\n",
    "defuncionesMunicipales['605 Enfermedades crónicas de las vías respiratorias inferiores']= (100000*(defuncionesMunicipales['605 Enfermedades crónicas de las vías respiratorias inferiores']/defuncionesMunicipales['Total habitantes de zonas afectadas'])).round(2)\n",
    "defuncionesMunicipales['RT-PCR_positivo (covid19???)']= (100000*(defuncionesMunicipales['RT-PCR_positivo (covid19???)']/defuncionesMunicipales['Total habitantes de zonas afectadas'])).round(2)\n",
    "defuncionesMunicipales['307 Enfermedades cerebrovasculares']= (100000*(defuncionesMunicipales['307 Enfermedades cerebrovasculares']/defuncionesMunicipales['Total habitantes de zonas afectadas'])).round(2)\n",
    "defuncionesMunicipales['614 Resto de las enfermedades']= (100000*(defuncionesMunicipales['614 Resto de las enfermedades']/defuncionesMunicipales['Total habitantes de zonas afectadas'])).round(2)\n",
    "defuncionesMunicipales['604 Enfermedades del sistema nervioso, excepto meningitis']= (100000*(defuncionesMunicipales['604 Enfermedades del sistema nervioso, excepto meningitis']/defuncionesMunicipales['Total habitantes de zonas afectadas'])).round(2)\n",
    "defuncionesMunicipales['304 Enfermedad cardiopulmonar, enfermedades de la circulación pulmonar y otras formas de enfermedad del corazón']= (100000*(defuncionesMunicipales['304 Enfermedad cardiopulmonar, enfermedades de la circulación pulmonar y otras formas de enfermedad del corazón']/defuncionesMunicipales['Total habitantes de zonas afectadas'])).round(2)\n",
    "defuncionesMunicipales['108 Infecciones respiratorias agudas']= (100000*(defuncionesMunicipales['108 Infecciones respiratorias agudas']/defuncionesMunicipales['Total habitantes de zonas afectadas'])).round(2)\n",
    "defuncionesMunicipales['610 Enfermedades del sistema urinario']= (100000*(defuncionesMunicipales['610 Enfermedades del sistema urinario']/defuncionesMunicipales['Total habitantes de zonas afectadas'])).round(2)"
   ]
  },
  {
   "cell_type": "markdown",
   "metadata": {},
   "source": [
    "### Tasa de mortalidad municipal por patología y grupo etario x 100.000 habitantes"
   ]
  },
  {
   "cell_type": "code",
   "execution_count": 306,
   "metadata": {
    "scrolled": true
   },
   "outputs": [
    {
     "data": {
      "text/html": [
       "<div>\n",
       "<style scoped>\n",
       "    .dataframe tbody tr th:only-of-type {\n",
       "        vertical-align: middle;\n",
       "    }\n",
       "\n",
       "    .dataframe tbody tr th {\n",
       "        vertical-align: top;\n",
       "    }\n",
       "\n",
       "    .dataframe thead th {\n",
       "        text-align: right;\n",
       "    }\n",
       "</style>\n",
       "<table border=\"1\" class=\"dataframe\">\n",
       "  <thead>\n",
       "    <tr style=\"text-align: right;\">\n",
       "      <th>Causas de defunción</th>\n",
       "      <th>Tumores</th>\n",
       "      <th>RT-PCR_positivo (covid19???)</th>\n",
       "      <th>303 Enfermedades isquémicas del corazón</th>\n",
       "      <th>605 Enfermedades crónicas de las vías respiratorias inferiores</th>\n",
       "      <th>307 Enfermedades cerebrovasculares</th>\n",
       "      <th>614 Resto de las enfermedades</th>\n",
       "      <th>604 Enfermedades del sistema nervioso, excepto meningitis</th>\n",
       "      <th>304 Enfermedad cardiopulmonar, enfermedades de la circulación pulmonar y otras formas de enfermedad del corazón</th>\n",
       "      <th>108 Infecciones respiratorias agudas</th>\n",
       "      <th>610 Enfermedades del sistema urinario</th>\n",
       "      <th>Total habitantes de zonas afectadas</th>\n",
       "    </tr>\n",
       "    <tr>\n",
       "      <th>Unnamed: 0</th>\n",
       "      <th></th>\n",
       "      <th></th>\n",
       "      <th></th>\n",
       "      <th></th>\n",
       "      <th></th>\n",
       "      <th></th>\n",
       "      <th></th>\n",
       "      <th></th>\n",
       "      <th></th>\n",
       "      <th></th>\n",
       "      <th></th>\n",
       "    </tr>\n",
       "  </thead>\n",
       "  <tbody>\n",
       "    <tr>\n",
       "      <th>edad 0 a 4</th>\n",
       "      <td>0.00</td>\n",
       "      <td>0.00</td>\n",
       "      <td>0.00</td>\n",
       "      <td>0.00</td>\n",
       "      <td>10.58</td>\n",
       "      <td>0.00</td>\n",
       "      <td>0.00</td>\n",
       "      <td>0.00</td>\n",
       "      <td>0.00</td>\n",
       "      <td>0.00</td>\n",
       "      <td>28349.0</td>\n",
       "    </tr>\n",
       "    <tr>\n",
       "      <th>edad 5 a 14</th>\n",
       "      <td>6.60</td>\n",
       "      <td>2.20</td>\n",
       "      <td>0.00</td>\n",
       "      <td>0.00</td>\n",
       "      <td>0.00</td>\n",
       "      <td>0.00</td>\n",
       "      <td>0.00</td>\n",
       "      <td>6.60</td>\n",
       "      <td>0.00</td>\n",
       "      <td>0.00</td>\n",
       "      <td>45465.0</td>\n",
       "    </tr>\n",
       "    <tr>\n",
       "      <th>edad 15 a 44</th>\n",
       "      <td>25.66</td>\n",
       "      <td>3.02</td>\n",
       "      <td>3.02</td>\n",
       "      <td>1.51</td>\n",
       "      <td>1.51</td>\n",
       "      <td>0.00</td>\n",
       "      <td>1.51</td>\n",
       "      <td>4.53</td>\n",
       "      <td>1.51</td>\n",
       "      <td>0.00</td>\n",
       "      <td>198767.0</td>\n",
       "    </tr>\n",
       "    <tr>\n",
       "      <th>edad 45 a 64</th>\n",
       "      <td>108.84</td>\n",
       "      <td>50.03</td>\n",
       "      <td>26.33</td>\n",
       "      <td>7.90</td>\n",
       "      <td>10.53</td>\n",
       "      <td>15.80</td>\n",
       "      <td>15.80</td>\n",
       "      <td>5.27</td>\n",
       "      <td>2.63</td>\n",
       "      <td>7.90</td>\n",
       "      <td>113931.0</td>\n",
       "    </tr>\n",
       "    <tr>\n",
       "      <th>edad 65 a 84</th>\n",
       "      <td>516.60</td>\n",
       "      <td>335.04</td>\n",
       "      <td>299.48</td>\n",
       "      <td>181.56</td>\n",
       "      <td>123.54</td>\n",
       "      <td>50.54</td>\n",
       "      <td>50.54</td>\n",
       "      <td>50.54</td>\n",
       "      <td>39.31</td>\n",
       "      <td>44.92</td>\n",
       "      <td>53426.0</td>\n",
       "    </tr>\n",
       "    <tr>\n",
       "      <th>edad 85 a 99</th>\n",
       "      <td>1046.34</td>\n",
       "      <td>1096.16</td>\n",
       "      <td>1660.85</td>\n",
       "      <td>1810.33</td>\n",
       "      <td>548.08</td>\n",
       "      <td>448.43</td>\n",
       "      <td>398.60</td>\n",
       "      <td>348.78</td>\n",
       "      <td>448.43</td>\n",
       "      <td>448.43</td>\n",
       "      <td>6021.0</td>\n",
       "    </tr>\n",
       "    <tr>\n",
       "      <th>edad 100 o más</th>\n",
       "      <td>0.00</td>\n",
       "      <td>995.02</td>\n",
       "      <td>2985.07</td>\n",
       "      <td>0.00</td>\n",
       "      <td>0.00</td>\n",
       "      <td>1492.54</td>\n",
       "      <td>0.00</td>\n",
       "      <td>0.00</td>\n",
       "      <td>4477.61</td>\n",
       "      <td>0.00</td>\n",
       "      <td>201.0</td>\n",
       "    </tr>\n",
       "    <tr>\n",
       "      <th>Total</th>\n",
       "      <td>116.10</td>\n",
       "      <td>69.71</td>\n",
       "      <td>67.91</td>\n",
       "      <td>48.86</td>\n",
       "      <td>26.45</td>\n",
       "      <td>16.81</td>\n",
       "      <td>16.14</td>\n",
       "      <td>14.79</td>\n",
       "      <td>14.12</td>\n",
       "      <td>13.45</td>\n",
       "      <td>446160.0</td>\n",
       "    </tr>\n",
       "  </tbody>\n",
       "</table>\n",
       "</div>"
      ],
      "text/plain": [
       "Causas de defunción  Tumores  RT-PCR_positivo (covid19???)  \\\n",
       "Unnamed: 0                                                   \n",
       "edad 0 a 4              0.00                          0.00   \n",
       "edad 5 a 14             6.60                          2.20   \n",
       "edad 15 a 44           25.66                          3.02   \n",
       "edad 45 a 64          108.84                         50.03   \n",
       "edad 65 a 84          516.60                        335.04   \n",
       "edad 85 a 99         1046.34                       1096.16   \n",
       "edad 100 o más          0.00                        995.02   \n",
       "Total                 116.10                         69.71   \n",
       "\n",
       "Causas de defunción  303 Enfermedades isquémicas del corazón  \\\n",
       "Unnamed: 0                                                     \n",
       "edad 0 a 4                                              0.00   \n",
       "edad 5 a 14                                             0.00   \n",
       "edad 15 a 44                                            3.02   \n",
       "edad 45 a 64                                           26.33   \n",
       "edad 65 a 84                                          299.48   \n",
       "edad 85 a 99                                         1660.85   \n",
       "edad 100 o más                                       2985.07   \n",
       "Total                                                  67.91   \n",
       "\n",
       "Causas de defunción  605 Enfermedades crónicas de las vías respiratorias inferiores  \\\n",
       "Unnamed: 0                                                                            \n",
       "edad 0 a 4                                                        0.00                \n",
       "edad 5 a 14                                                       0.00                \n",
       "edad 15 a 44                                                      1.51                \n",
       "edad 45 a 64                                                      7.90                \n",
       "edad 65 a 84                                                    181.56                \n",
       "edad 85 a 99                                                   1810.33                \n",
       "edad 100 o más                                                    0.00                \n",
       "Total                                                            48.86                \n",
       "\n",
       "Causas de defunción  307 Enfermedades cerebrovasculares  \\\n",
       "Unnamed: 0                                                \n",
       "edad 0 a 4                                        10.58   \n",
       "edad 5 a 14                                        0.00   \n",
       "edad 15 a 44                                       1.51   \n",
       "edad 45 a 64                                      10.53   \n",
       "edad 65 a 84                                     123.54   \n",
       "edad 85 a 99                                     548.08   \n",
       "edad 100 o más                                     0.00   \n",
       "Total                                             26.45   \n",
       "\n",
       "Causas de defunción  614 Resto de las enfermedades  \\\n",
       "Unnamed: 0                                           \n",
       "edad 0 a 4                                    0.00   \n",
       "edad 5 a 14                                   0.00   \n",
       "edad 15 a 44                                  0.00   \n",
       "edad 45 a 64                                 15.80   \n",
       "edad 65 a 84                                 50.54   \n",
       "edad 85 a 99                                448.43   \n",
       "edad 100 o más                             1492.54   \n",
       "Total                                        16.81   \n",
       "\n",
       "Causas de defunción  604 Enfermedades del sistema nervioso, excepto meningitis  \\\n",
       "Unnamed: 0                                                                       \n",
       "edad 0 a 4                                                        0.00           \n",
       "edad 5 a 14                                                       0.00           \n",
       "edad 15 a 44                                                      1.51           \n",
       "edad 45 a 64                                                     15.80           \n",
       "edad 65 a 84                                                     50.54           \n",
       "edad 85 a 99                                                    398.60           \n",
       "edad 100 o más                                                    0.00           \n",
       "Total                                                            16.14           \n",
       "\n",
       "Causas de defunción  304 Enfermedad cardiopulmonar, enfermedades de la circulación pulmonar y otras formas de enfermedad del corazón  \\\n",
       "Unnamed: 0                                                                                                                             \n",
       "edad 0 a 4                                                        0.00                                                                 \n",
       "edad 5 a 14                                                       6.60                                                                 \n",
       "edad 15 a 44                                                      4.53                                                                 \n",
       "edad 45 a 64                                                      5.27                                                                 \n",
       "edad 65 a 84                                                     50.54                                                                 \n",
       "edad 85 a 99                                                    348.78                                                                 \n",
       "edad 100 o más                                                    0.00                                                                 \n",
       "Total                                                            14.79                                                                 \n",
       "\n",
       "Causas de defunción  108 Infecciones respiratorias agudas  \\\n",
       "Unnamed: 0                                                  \n",
       "edad 0 a 4                                           0.00   \n",
       "edad 5 a 14                                          0.00   \n",
       "edad 15 a 44                                         1.51   \n",
       "edad 45 a 64                                         2.63   \n",
       "edad 65 a 84                                        39.31   \n",
       "edad 85 a 99                                       448.43   \n",
       "edad 100 o más                                    4477.61   \n",
       "Total                                               14.12   \n",
       "\n",
       "Causas de defunción  610 Enfermedades del sistema urinario  \\\n",
       "Unnamed: 0                                                   \n",
       "edad 0 a 4                                            0.00   \n",
       "edad 5 a 14                                           0.00   \n",
       "edad 15 a 44                                          0.00   \n",
       "edad 45 a 64                                          7.90   \n",
       "edad 65 a 84                                         44.92   \n",
       "edad 85 a 99                                        448.43   \n",
       "edad 100 o más                                        0.00   \n",
       "Total                                                13.45   \n",
       "\n",
       "Causas de defunción  Total habitantes de zonas afectadas  \n",
       "Unnamed: 0                                                \n",
       "edad 0 a 4                                       28349.0  \n",
       "edad 5 a 14                                      45465.0  \n",
       "edad 15 a 44                                    198767.0  \n",
       "edad 45 a 64                                    113931.0  \n",
       "edad 65 a 84                                     53426.0  \n",
       "edad 85 a 99                                      6021.0  \n",
       "edad 100 o más                                     201.0  \n",
       "Total                                           446160.0  "
      ]
     },
     "execution_count": 306,
     "metadata": {},
     "output_type": "execute_result"
    }
   ],
   "source": [
    "Tasa_Mortalidad_total_patologias= defuncionesMunicipales\n",
    "Tasa_Mortalidad_total_patologias\n"
   ]
  },
  {
   "cell_type": "markdown",
   "metadata": {
    "slideshow": {
     "slide_type": "slide"
    }
   },
   "source": [
    "# Departamento: Tasas por grupo etario\n",
    "#### Luis Evelio García Restrepo.  MD. MAS. EF\n",
    "##### Fuentes primarias:   DANE-INS"
   ]
  },
  {
   "cell_type": "code",
   "execution_count": 307,
   "metadata": {
    "slideshow": {
     "slide_type": "skip"
    }
   },
   "outputs": [],
   "source": [
    "tasaMortalidadDpto = pd.read_csv('TasaMortalidadDpto.csv')"
   ]
  },
  {
   "cell_type": "code",
   "execution_count": 308,
   "metadata": {
    "slideshow": {
     "slide_type": "skip"
    }
   },
   "outputs": [],
   "source": [
    "tasaMortalidadDpto.set_index('Unnamed: 0', inplace=True)"
   ]
  },
  {
   "cell_type": "code",
   "execution_count": 309,
   "metadata": {
    "slideshow": {
     "slide_type": "skip"
    }
   },
   "outputs": [
    {
     "data": {
      "text/html": [
       "<div>\n",
       "<style scoped>\n",
       "    .dataframe tbody tr th:only-of-type {\n",
       "        vertical-align: middle;\n",
       "    }\n",
       "\n",
       "    .dataframe tbody tr th {\n",
       "        vertical-align: top;\n",
       "    }\n",
       "\n",
       "    .dataframe thead th {\n",
       "        text-align: right;\n",
       "    }\n",
       "</style>\n",
       "<table border=\"1\" class=\"dataframe\">\n",
       "  <thead>\n",
       "    <tr style=\"text-align: right;\">\n",
       "      <th></th>\n",
       "      <th>Número fallecidos</th>\n",
       "      <th>Población</th>\n",
       "      <th>Tasa de mortalidad por 100.000 habitantes</th>\n",
       "    </tr>\n",
       "    <tr>\n",
       "      <th>Unnamed: 0</th>\n",
       "      <th></th>\n",
       "      <th></th>\n",
       "      <th></th>\n",
       "    </tr>\n",
       "  </thead>\n",
       "  <tbody>\n",
       "    <tr>\n",
       "      <th>edad 0 a 4</th>\n",
       "      <td>8</td>\n",
       "      <td>77831</td>\n",
       "      <td>10.278681</td>\n",
       "    </tr>\n",
       "    <tr>\n",
       "      <th>edad 5 a 14</th>\n",
       "      <td>16</td>\n",
       "      <td>119916</td>\n",
       "      <td>13.342673</td>\n",
       "    </tr>\n",
       "    <tr>\n",
       "      <th>edad 15 a 44</th>\n",
       "      <td>230</td>\n",
       "      <td>435989</td>\n",
       "      <td>52.753625</td>\n",
       "    </tr>\n",
       "    <tr>\n",
       "      <th>edad 45 a 64</th>\n",
       "      <td>304</td>\n",
       "      <td>252678</td>\n",
       "      <td>120.311226</td>\n",
       "    </tr>\n",
       "    <tr>\n",
       "      <th>edad 65 a 84</th>\n",
       "      <td>21</td>\n",
       "      <td>118140</td>\n",
       "      <td>17.775521</td>\n",
       "    </tr>\n",
       "    <tr>\n",
       "      <th>edad 85 a 99</th>\n",
       "      <td>0</td>\n",
       "      <td>13232</td>\n",
       "      <td>0.000000</td>\n",
       "    </tr>\n",
       "    <tr>\n",
       "      <th>edad 100 o más</th>\n",
       "      <td>0</td>\n",
       "      <td>481</td>\n",
       "      <td>0.000000</td>\n",
       "    </tr>\n",
       "  </tbody>\n",
       "</table>\n",
       "</div>"
      ],
      "text/plain": [
       "                Número fallecidos  Población  \\\n",
       "Unnamed: 0                                     \n",
       "edad 0 a 4                      8      77831   \n",
       "edad 5 a 14                    16     119916   \n",
       "edad 15 a 44                  230     435989   \n",
       "edad 45 a 64                  304     252678   \n",
       "edad 65 a 84                   21     118140   \n",
       "edad 85 a 99                    0      13232   \n",
       "edad 100 o más                  0        481   \n",
       "\n",
       "                Tasa de mortalidad por 100.000 habitantes  \n",
       "Unnamed: 0                                                 \n",
       "edad 0 a 4                                      10.278681  \n",
       "edad 5 a 14                                     13.342673  \n",
       "edad 15 a 44                                    52.753625  \n",
       "edad 45 a 64                                   120.311226  \n",
       "edad 65 a 84                                    17.775521  \n",
       "edad 85 a 99                                     0.000000  \n",
       "edad 100 o más                                   0.000000  "
      ]
     },
     "execution_count": 309,
     "metadata": {},
     "output_type": "execute_result"
    }
   ],
   "source": [
    "tasaMortalidadDpto"
   ]
  },
  {
   "cell_type": "code",
   "execution_count": 310,
   "metadata": {
    "slideshow": {
     "slide_type": "skip"
    }
   },
   "outputs": [
    {
     "data": {
      "text/html": [
       "<div>\n",
       "<style scoped>\n",
       "    .dataframe tbody tr th:only-of-type {\n",
       "        vertical-align: middle;\n",
       "    }\n",
       "\n",
       "    .dataframe tbody tr th {\n",
       "        vertical-align: top;\n",
       "    }\n",
       "\n",
       "    .dataframe thead th {\n",
       "        text-align: right;\n",
       "    }\n",
       "</style>\n",
       "<table border=\"1\" class=\"dataframe\">\n",
       "  <thead>\n",
       "    <tr style=\"text-align: right;\">\n",
       "      <th></th>\n",
       "      <th>Número de casos</th>\n",
       "      <th>Ubicacion_x</th>\n",
       "      <th>Recuperado_x</th>\n",
       "      <th>Ubicacion_y</th>\n",
       "      <th>Recuperado_y</th>\n",
       "      <th>Tasa de letalidad (por cien contagios detectados)</th>\n",
       "      <th>Número fallecidos</th>\n",
       "      <th>Población</th>\n",
       "      <th>Tasa de mortalidad por 100.000 habitantes</th>\n",
       "    </tr>\n",
       "  </thead>\n",
       "  <tbody>\n",
       "    <tr>\n",
       "      <th>edad 0 a 4</th>\n",
       "      <td>246</td>\n",
       "      <td>246</td>\n",
       "      <td>246</td>\n",
       "      <td>0</td>\n",
       "      <td>0</td>\n",
       "      <td>0.00</td>\n",
       "      <td>8</td>\n",
       "      <td>77831</td>\n",
       "      <td>10.28</td>\n",
       "    </tr>\n",
       "    <tr>\n",
       "      <th>edad 5 a 14</th>\n",
       "      <td>875</td>\n",
       "      <td>875</td>\n",
       "      <td>875</td>\n",
       "      <td>2</td>\n",
       "      <td>2</td>\n",
       "      <td>0.23</td>\n",
       "      <td>16</td>\n",
       "      <td>119916</td>\n",
       "      <td>13.34</td>\n",
       "    </tr>\n",
       "    <tr>\n",
       "      <th>edad 15 a 44</th>\n",
       "      <td>13997</td>\n",
       "      <td>13997</td>\n",
       "      <td>13997</td>\n",
       "      <td>24</td>\n",
       "      <td>24</td>\n",
       "      <td>0.17</td>\n",
       "      <td>230</td>\n",
       "      <td>435989</td>\n",
       "      <td>52.75</td>\n",
       "    </tr>\n",
       "    <tr>\n",
       "      <th>edad 45 a 64</th>\n",
       "      <td>6682</td>\n",
       "      <td>6682</td>\n",
       "      <td>6682</td>\n",
       "      <td>108</td>\n",
       "      <td>108</td>\n",
       "      <td>1.62</td>\n",
       "      <td>304</td>\n",
       "      <td>252678</td>\n",
       "      <td>120.31</td>\n",
       "    </tr>\n",
       "    <tr>\n",
       "      <th>edad 65 a 84</th>\n",
       "      <td>2925</td>\n",
       "      <td>2925</td>\n",
       "      <td>2925</td>\n",
       "      <td>327</td>\n",
       "      <td>327</td>\n",
       "      <td>11.18</td>\n",
       "      <td>21</td>\n",
       "      <td>118140</td>\n",
       "      <td>17.78</td>\n",
       "    </tr>\n",
       "    <tr>\n",
       "      <th>edad 85 a 99</th>\n",
       "      <td>435</td>\n",
       "      <td>435</td>\n",
       "      <td>435</td>\n",
       "      <td>115</td>\n",
       "      <td>115</td>\n",
       "      <td>26.44</td>\n",
       "      <td>0</td>\n",
       "      <td>13232</td>\n",
       "      <td>0.00</td>\n",
       "    </tr>\n",
       "    <tr>\n",
       "      <th>edad 100 o más</th>\n",
       "      <td>8</td>\n",
       "      <td>8</td>\n",
       "      <td>8</td>\n",
       "      <td>3</td>\n",
       "      <td>3</td>\n",
       "      <td>37.50</td>\n",
       "      <td>0</td>\n",
       "      <td>481</td>\n",
       "      <td>0.00</td>\n",
       "    </tr>\n",
       "  </tbody>\n",
       "</table>\n",
       "</div>"
      ],
      "text/plain": [
       "                Número de casos  Ubicacion_x  Recuperado_x  Ubicacion_y  \\\n",
       "edad 0 a 4                  246          246           246            0   \n",
       "edad 5 a 14                 875          875           875            2   \n",
       "edad 15 a 44              13997        13997         13997           24   \n",
       "edad 45 a 64               6682         6682          6682          108   \n",
       "edad 65 a 84               2925         2925          2925          327   \n",
       "edad 85 a 99                435          435           435          115   \n",
       "edad 100 o más                8            8             8            3   \n",
       "\n",
       "                Recuperado_y  \\\n",
       "edad 0 a 4                 0   \n",
       "edad 5 a 14                2   \n",
       "edad 15 a 44              24   \n",
       "edad 45 a 64             108   \n",
       "edad 65 a 84             327   \n",
       "edad 85 a 99             115   \n",
       "edad 100 o más             3   \n",
       "\n",
       "                Tasa de letalidad (por cien contagios detectados)  \\\n",
       "edad 0 a 4                                                   0.00   \n",
       "edad 5 a 14                                                  0.23   \n",
       "edad 15 a 44                                                 0.17   \n",
       "edad 45 a 64                                                 1.62   \n",
       "edad 65 a 84                                                11.18   \n",
       "edad 85 a 99                                                26.44   \n",
       "edad 100 o más                                              37.50   \n",
       "\n",
       "                Número fallecidos  Población  \\\n",
       "edad 0 a 4                      8      77831   \n",
       "edad 5 a 14                    16     119916   \n",
       "edad 15 a 44                  230     435989   \n",
       "edad 45 a 64                  304     252678   \n",
       "edad 65 a 84                   21     118140   \n",
       "edad 85 a 99                    0      13232   \n",
       "edad 100 o más                  0        481   \n",
       "\n",
       "                Tasa de mortalidad por 100.000 habitantes  \n",
       "edad 0 a 4                                          10.28  \n",
       "edad 5 a 14                                         13.34  \n",
       "edad 15 a 44                                        52.75  \n",
       "edad 45 a 64                                       120.31  \n",
       "edad 65 a 84                                        17.78  \n",
       "edad 85 a 99                                         0.00  \n",
       "edad 100 o más                                       0.00  "
      ]
     },
     "execution_count": 310,
     "metadata": {},
     "output_type": "execute_result"
    }
   ],
   "source": [
    "TasasDpto= pd.merge(CasosyFallecidos, tasaMortalidadDpto, left_index=True, right_index=True)\n",
    "TasasDpto.drop(columns=['Número de fallecidos'],inplace=True)\n",
    "TasasDpto['Tasa de mortalidad por 100.000 habitantes']=TasasDpto['Tasa de mortalidad por 100.000 habitantes'].round(2)\n",
    "TasasDpto=TasasDpto.rename(columns={'Tasa de letalidad por 100':'Tasa de letalidad (por cien contagios detectados)'})\n",
    "TasasDpto"
   ]
  },
  {
   "cell_type": "code",
   "execution_count": 311,
   "metadata": {
    "scrolled": true,
    "slideshow": {
     "slide_type": "skip"
    }
   },
   "outputs": [],
   "source": [
    "Totales = TasasDpto.transpose()"
   ]
  },
  {
   "cell_type": "code",
   "execution_count": 312,
   "metadata": {
    "slideshow": {
     "slide_type": "skip"
    }
   },
   "outputs": [],
   "source": [
    "Totales['Totales']= Totales['edad 0 a 4']+Totales['edad 5 a 14']+Totales['edad 15 a 44']+Totales['edad 45 a 64']+Totales['edad 65 a 84']+Totales['edad 85 a 99']+Totales['edad 100 o más']"
   ]
  },
  {
   "cell_type": "code",
   "execution_count": 313,
   "metadata": {
    "slideshow": {
     "slide_type": "skip"
    }
   },
   "outputs": [
    {
     "data": {
      "text/html": [
       "<div>\n",
       "<style scoped>\n",
       "    .dataframe tbody tr th:only-of-type {\n",
       "        vertical-align: middle;\n",
       "    }\n",
       "\n",
       "    .dataframe tbody tr th {\n",
       "        vertical-align: top;\n",
       "    }\n",
       "\n",
       "    .dataframe thead th {\n",
       "        text-align: right;\n",
       "    }\n",
       "</style>\n",
       "<table border=\"1\" class=\"dataframe\">\n",
       "  <thead>\n",
       "    <tr style=\"text-align: right;\">\n",
       "      <th></th>\n",
       "      <th>edad 0 a 4</th>\n",
       "      <th>edad 5 a 14</th>\n",
       "      <th>edad 15 a 44</th>\n",
       "      <th>edad 45 a 64</th>\n",
       "      <th>edad 65 a 84</th>\n",
       "      <th>edad 85 a 99</th>\n",
       "      <th>edad 100 o más</th>\n",
       "      <th>Totales</th>\n",
       "    </tr>\n",
       "  </thead>\n",
       "  <tbody>\n",
       "    <tr>\n",
       "      <th>Número de casos</th>\n",
       "      <td>246.00</td>\n",
       "      <td>875.00</td>\n",
       "      <td>13997.00</td>\n",
       "      <td>6682.00</td>\n",
       "      <td>2925.00</td>\n",
       "      <td>435.00</td>\n",
       "      <td>8.0</td>\n",
       "      <td>25168.0</td>\n",
       "    </tr>\n",
       "    <tr>\n",
       "      <th>Ubicacion_x</th>\n",
       "      <td>246.00</td>\n",
       "      <td>875.00</td>\n",
       "      <td>13997.00</td>\n",
       "      <td>6682.00</td>\n",
       "      <td>2925.00</td>\n",
       "      <td>435.00</td>\n",
       "      <td>8.0</td>\n",
       "      <td>25168.0</td>\n",
       "    </tr>\n",
       "    <tr>\n",
       "      <th>Recuperado_x</th>\n",
       "      <td>246.00</td>\n",
       "      <td>875.00</td>\n",
       "      <td>13997.00</td>\n",
       "      <td>6682.00</td>\n",
       "      <td>2925.00</td>\n",
       "      <td>435.00</td>\n",
       "      <td>8.0</td>\n",
       "      <td>25168.0</td>\n",
       "    </tr>\n",
       "    <tr>\n",
       "      <th>Ubicacion_y</th>\n",
       "      <td>0.00</td>\n",
       "      <td>2.00</td>\n",
       "      <td>24.00</td>\n",
       "      <td>108.00</td>\n",
       "      <td>327.00</td>\n",
       "      <td>115.00</td>\n",
       "      <td>3.0</td>\n",
       "      <td>579.0</td>\n",
       "    </tr>\n",
       "    <tr>\n",
       "      <th>Recuperado_y</th>\n",
       "      <td>0.00</td>\n",
       "      <td>2.00</td>\n",
       "      <td>24.00</td>\n",
       "      <td>108.00</td>\n",
       "      <td>327.00</td>\n",
       "      <td>115.00</td>\n",
       "      <td>3.0</td>\n",
       "      <td>579.0</td>\n",
       "    </tr>\n",
       "    <tr>\n",
       "      <th>Tasa de letalidad (por cien contagios detectados)</th>\n",
       "      <td>0.00</td>\n",
       "      <td>0.23</td>\n",
       "      <td>0.17</td>\n",
       "      <td>1.62</td>\n",
       "      <td>11.18</td>\n",
       "      <td>26.44</td>\n",
       "      <td>37.5</td>\n",
       "      <td>77.0</td>\n",
       "    </tr>\n",
       "    <tr>\n",
       "      <th>Número fallecidos</th>\n",
       "      <td>8.00</td>\n",
       "      <td>16.00</td>\n",
       "      <td>230.00</td>\n",
       "      <td>304.00</td>\n",
       "      <td>21.00</td>\n",
       "      <td>0.00</td>\n",
       "      <td>0.0</td>\n",
       "      <td>579.0</td>\n",
       "    </tr>\n",
       "    <tr>\n",
       "      <th>Población</th>\n",
       "      <td>77831.00</td>\n",
       "      <td>119916.00</td>\n",
       "      <td>435989.00</td>\n",
       "      <td>252678.00</td>\n",
       "      <td>118140.00</td>\n",
       "      <td>13232.00</td>\n",
       "      <td>481.0</td>\n",
       "      <td>1018267.0</td>\n",
       "    </tr>\n",
       "    <tr>\n",
       "      <th>Tasa de mortalidad por 100.000 habitantes</th>\n",
       "      <td>10.28</td>\n",
       "      <td>13.34</td>\n",
       "      <td>52.75</td>\n",
       "      <td>120.31</td>\n",
       "      <td>17.78</td>\n",
       "      <td>0.00</td>\n",
       "      <td>0.0</td>\n",
       "      <td>214.0</td>\n",
       "    </tr>\n",
       "  </tbody>\n",
       "</table>\n",
       "</div>"
      ],
      "text/plain": [
       "                                                   edad 0 a 4  edad 5 a 14  \\\n",
       "Número de casos                                        246.00       875.00   \n",
       "Ubicacion_x                                            246.00       875.00   \n",
       "Recuperado_x                                           246.00       875.00   \n",
       "Ubicacion_y                                              0.00         2.00   \n",
       "Recuperado_y                                             0.00         2.00   \n",
       "Tasa de letalidad (por cien contagios detectados)        0.00         0.23   \n",
       "Número fallecidos                                        8.00        16.00   \n",
       "Población                                            77831.00    119916.00   \n",
       "Tasa de mortalidad por 100.000 habitantes               10.28        13.34   \n",
       "\n",
       "                                                   edad 15 a 44  edad 45 a 64  \\\n",
       "Número de casos                                        13997.00       6682.00   \n",
       "Ubicacion_x                                            13997.00       6682.00   \n",
       "Recuperado_x                                           13997.00       6682.00   \n",
       "Ubicacion_y                                               24.00        108.00   \n",
       "Recuperado_y                                              24.00        108.00   \n",
       "Tasa de letalidad (por cien contagios detectados)          0.17          1.62   \n",
       "Número fallecidos                                        230.00        304.00   \n",
       "Población                                             435989.00     252678.00   \n",
       "Tasa de mortalidad por 100.000 habitantes                 52.75        120.31   \n",
       "\n",
       "                                                   edad 65 a 84  edad 85 a 99  \\\n",
       "Número de casos                                         2925.00        435.00   \n",
       "Ubicacion_x                                             2925.00        435.00   \n",
       "Recuperado_x                                            2925.00        435.00   \n",
       "Ubicacion_y                                              327.00        115.00   \n",
       "Recuperado_y                                             327.00        115.00   \n",
       "Tasa de letalidad (por cien contagios detectados)         11.18         26.44   \n",
       "Número fallecidos                                         21.00          0.00   \n",
       "Población                                             118140.00      13232.00   \n",
       "Tasa de mortalidad por 100.000 habitantes                 17.78          0.00   \n",
       "\n",
       "                                                   edad 100 o más    Totales  \n",
       "Número de casos                                               8.0    25168.0  \n",
       "Ubicacion_x                                                   8.0    25168.0  \n",
       "Recuperado_x                                                  8.0    25168.0  \n",
       "Ubicacion_y                                                   3.0      579.0  \n",
       "Recuperado_y                                                  3.0      579.0  \n",
       "Tasa de letalidad (por cien contagios detectados)            37.5       77.0  \n",
       "Número fallecidos                                             0.0      579.0  \n",
       "Población                                                   481.0  1018267.0  \n",
       "Tasa de mortalidad por 100.000 habitantes                     0.0      214.0  "
      ]
     },
     "execution_count": 313,
     "metadata": {},
     "output_type": "execute_result"
    }
   ],
   "source": [
    "Totales['Totales']=Totales['Totales'].round()\n",
    "Totales"
   ]
  },
  {
   "cell_type": "code",
   "execution_count": 314,
   "metadata": {
    "slideshow": {
     "slide_type": "skip"
    }
   },
   "outputs": [],
   "source": [
    "Totales=Totales.transpose()"
   ]
  },
  {
   "cell_type": "code",
   "execution_count": 315,
   "metadata": {
    "slideshow": {
     "slide_type": "skip"
    }
   },
   "outputs": [],
   "source": [
    "Totales= Totales.rename(columns={'Población':'Total habitantes de zonas afectadas'})"
   ]
  },
  {
   "cell_type": "code",
   "execution_count": 316,
   "metadata": {
    "slideshow": {
     "slide_type": "skip"
    }
   },
   "outputs": [],
   "source": [
    "Totales.loc['Totales', 'Tasa de mortalidad por 100.000 habitantes']= (Totales.loc['Totales', 'Número fallecidos']/Totales.loc['Totales', 'Total habitantes de zonas afectadas'])*100000\n",
    "Totales.loc['Totales', 'Tasa de letalidad (por cien contagios detectados)']= (Totales.loc['Totales', 'Número fallecidos']/Totales.loc['Totales', 'Número de casos'])*100"
   ]
  },
  {
   "cell_type": "code",
   "execution_count": 317,
   "metadata": {
    "slideshow": {
     "slide_type": "skip"
    }
   },
   "outputs": [],
   "source": [
    "Totales['Tasa de letalidad (por cien contagios detectados)']= Totales['Tasa de letalidad (por cien contagios detectados)'].round(2)\n",
    "Totales['Tasa de mortalidad por 100.000 habitantes']= Totales['Tasa de mortalidad por 100.000 habitantes'].round(2)"
   ]
  },
  {
   "cell_type": "code",
   "execution_count": 318,
   "metadata": {
    "slideshow": {
     "slide_type": "skip"
    }
   },
   "outputs": [],
   "source": [
    "Totales['Número de casos']= Totales['Número de casos'].astype(int)\n",
    "Totales['Número fallecidos']= Totales['Número fallecidos'].astype(int)\n",
    "Totales['Total habitantes de zonas afectadas']= Totales['Total habitantes de zonas afectadas'].astype(int)"
   ]
  },
  {
   "cell_type": "code",
   "execution_count": 319,
   "metadata": {
    "slideshow": {
     "slide_type": "skip"
    }
   },
   "outputs": [],
   "source": [
    "Totales = Totales.reindex(['Número de casos', 'Número fallecidos',\n",
    "       'Total habitantes de zonas afectadas',\n",
    "       'Tasa de letalidad (por cien contagios detectados)',\n",
    "       'Tasa de mortalidad por 100.000 habitantes'],axis=1)"
   ]
  },
  {
   "cell_type": "code",
   "execution_count": 320,
   "metadata": {
    "slideshow": {
     "slide_type": "subslide"
    }
   },
   "outputs": [
    {
     "data": {
      "text/html": [
       "<div>\n",
       "<style scoped>\n",
       "    .dataframe tbody tr th:only-of-type {\n",
       "        vertical-align: middle;\n",
       "    }\n",
       "\n",
       "    .dataframe tbody tr th {\n",
       "        vertical-align: top;\n",
       "    }\n",
       "\n",
       "    .dataframe thead th {\n",
       "        text-align: right;\n",
       "    }\n",
       "</style>\n",
       "<table border=\"1\" class=\"dataframe\">\n",
       "  <thead>\n",
       "    <tr style=\"text-align: right;\">\n",
       "      <th></th>\n",
       "      <th>Número de casos</th>\n",
       "      <th>Número fallecidos</th>\n",
       "      <th>Total habitantes de zonas afectadas</th>\n",
       "      <th>Tasa de letalidad (por cien contagios detectados)</th>\n",
       "      <th>Tasa de mortalidad por 100.000 habitantes</th>\n",
       "    </tr>\n",
       "  </thead>\n",
       "  <tbody>\n",
       "    <tr>\n",
       "      <th>edad 0 a 4</th>\n",
       "      <td>246</td>\n",
       "      <td>8</td>\n",
       "      <td>77831</td>\n",
       "      <td>0.00</td>\n",
       "      <td>10.28</td>\n",
       "    </tr>\n",
       "    <tr>\n",
       "      <th>edad 5 a 14</th>\n",
       "      <td>875</td>\n",
       "      <td>16</td>\n",
       "      <td>119916</td>\n",
       "      <td>0.23</td>\n",
       "      <td>13.34</td>\n",
       "    </tr>\n",
       "    <tr>\n",
       "      <th>edad 15 a 44</th>\n",
       "      <td>13997</td>\n",
       "      <td>230</td>\n",
       "      <td>435989</td>\n",
       "      <td>0.17</td>\n",
       "      <td>52.75</td>\n",
       "    </tr>\n",
       "    <tr>\n",
       "      <th>edad 45 a 64</th>\n",
       "      <td>6682</td>\n",
       "      <td>304</td>\n",
       "      <td>252678</td>\n",
       "      <td>1.62</td>\n",
       "      <td>120.31</td>\n",
       "    </tr>\n",
       "    <tr>\n",
       "      <th>edad 65 a 84</th>\n",
       "      <td>2925</td>\n",
       "      <td>21</td>\n",
       "      <td>118140</td>\n",
       "      <td>11.18</td>\n",
       "      <td>17.78</td>\n",
       "    </tr>\n",
       "    <tr>\n",
       "      <th>edad 85 a 99</th>\n",
       "      <td>435</td>\n",
       "      <td>0</td>\n",
       "      <td>13232</td>\n",
       "      <td>26.44</td>\n",
       "      <td>0.00</td>\n",
       "    </tr>\n",
       "    <tr>\n",
       "      <th>edad 100 o más</th>\n",
       "      <td>8</td>\n",
       "      <td>0</td>\n",
       "      <td>481</td>\n",
       "      <td>37.50</td>\n",
       "      <td>0.00</td>\n",
       "    </tr>\n",
       "    <tr>\n",
       "      <th>Totales</th>\n",
       "      <td>25168</td>\n",
       "      <td>579</td>\n",
       "      <td>1018267</td>\n",
       "      <td>2.30</td>\n",
       "      <td>56.86</td>\n",
       "    </tr>\n",
       "  </tbody>\n",
       "</table>\n",
       "</div>"
      ],
      "text/plain": [
       "                Número de casos  Número fallecidos  \\\n",
       "edad 0 a 4                  246                  8   \n",
       "edad 5 a 14                 875                 16   \n",
       "edad 15 a 44              13997                230   \n",
       "edad 45 a 64               6682                304   \n",
       "edad 65 a 84               2925                 21   \n",
       "edad 85 a 99                435                  0   \n",
       "edad 100 o más                8                  0   \n",
       "Totales                   25168                579   \n",
       "\n",
       "                Total habitantes de zonas afectadas  \\\n",
       "edad 0 a 4                                    77831   \n",
       "edad 5 a 14                                  119916   \n",
       "edad 15 a 44                                 435989   \n",
       "edad 45 a 64                                 252678   \n",
       "edad 65 a 84                                 118140   \n",
       "edad 85 a 99                                  13232   \n",
       "edad 100 o más                                  481   \n",
       "Totales                                     1018267   \n",
       "\n",
       "                Tasa de letalidad (por cien contagios detectados)  \\\n",
       "edad 0 a 4                                                   0.00   \n",
       "edad 5 a 14                                                  0.23   \n",
       "edad 15 a 44                                                 0.17   \n",
       "edad 45 a 64                                                 1.62   \n",
       "edad 65 a 84                                                11.18   \n",
       "edad 85 a 99                                                26.44   \n",
       "edad 100 o más                                              37.50   \n",
       "Totales                                                      2.30   \n",
       "\n",
       "                Tasa de mortalidad por 100.000 habitantes  \n",
       "edad 0 a 4                                          10.28  \n",
       "edad 5 a 14                                         13.34  \n",
       "edad 15 a 44                                        52.75  \n",
       "edad 45 a 64                                       120.31  \n",
       "edad 65 a 84                                        17.78  \n",
       "edad 85 a 99                                         0.00  \n",
       "edad 100 o más                                       0.00  \n",
       "Totales                                             56.86  "
      ]
     },
     "execution_count": 320,
     "metadata": {},
     "output_type": "execute_result"
    }
   ],
   "source": [
    "Totales"
   ]
  },
  {
   "cell_type": "markdown",
   "metadata": {
    "slideshow": {
     "slide_type": "slide"
    }
   },
   "source": [
    "# Causas de defunción en el departamento por grupo etario"
   ]
  },
  {
   "cell_type": "code",
   "execution_count": 321,
   "metadata": {
    "slideshow": {
     "slide_type": "skip"
    }
   },
   "outputs": [
    {
     "data": {
      "text/html": [
       "<div>\n",
       "<style scoped>\n",
       "    .dataframe tbody tr th:only-of-type {\n",
       "        vertical-align: middle;\n",
       "    }\n",
       "\n",
       "    .dataframe tbody tr th {\n",
       "        vertical-align: top;\n",
       "    }\n",
       "\n",
       "    .dataframe thead th {\n",
       "        text-align: right;\n",
       "    }\n",
       "</style>\n",
       "<table border=\"1\" class=\"dataframe\">\n",
       "  <thead>\n",
       "    <tr style=\"text-align: right;\">\n",
       "      <th></th>\n",
       "      <th>Unnamed: 0</th>\n",
       "      <th>Causas de defunción</th>\n",
       "      <th>edad 0 a 4</th>\n",
       "      <th>edad 5 a 14</th>\n",
       "      <th>edad 15 a 44</th>\n",
       "      <th>edad 45 a 64</th>\n",
       "      <th>edad 65 a 84</th>\n",
       "      <th>edad 85 a 99</th>\n",
       "      <th>edad 100 o más</th>\n",
       "      <th>Total</th>\n",
       "    </tr>\n",
       "  </thead>\n",
       "  <tbody>\n",
       "    <tr>\n",
       "      <th>0</th>\n",
       "      <td>0</td>\n",
       "      <td>201 Tumor maligno del estómago202 Tumor malign...</td>\n",
       "      <td>0</td>\n",
       "      <td>1</td>\n",
       "      <td>27</td>\n",
       "      <td>90</td>\n",
       "      <td>173</td>\n",
       "      <td>38</td>\n",
       "      <td>0</td>\n",
       "      <td>329</td>\n",
       "    </tr>\n",
       "    <tr>\n",
       "      <th>1</th>\n",
       "      <td>24</td>\n",
       "      <td>303 Enfermedades isquémicas del corazón</td>\n",
       "      <td>0</td>\n",
       "      <td>0</td>\n",
       "      <td>4</td>\n",
       "      <td>38</td>\n",
       "      <td>142</td>\n",
       "      <td>90</td>\n",
       "      <td>4</td>\n",
       "      <td>278</td>\n",
       "    </tr>\n",
       "    <tr>\n",
       "      <th>2</th>\n",
       "      <td>47</td>\n",
       "      <td>605 Enfermedades crónicas de las vías respirat...</td>\n",
       "      <td>0</td>\n",
       "      <td>0</td>\n",
       "      <td>1</td>\n",
       "      <td>13</td>\n",
       "      <td>73</td>\n",
       "      <td>61</td>\n",
       "      <td>1</td>\n",
       "      <td>149</td>\n",
       "    </tr>\n",
       "    <tr>\n",
       "      <th>3</th>\n",
       "      <td>27</td>\n",
       "      <td>307 Enfermedades cerebrovasculares</td>\n",
       "      <td>1</td>\n",
       "      <td>0</td>\n",
       "      <td>3</td>\n",
       "      <td>11</td>\n",
       "      <td>43</td>\n",
       "      <td>29</td>\n",
       "      <td>0</td>\n",
       "      <td>87</td>\n",
       "    </tr>\n",
       "    <tr>\n",
       "      <th>4</th>\n",
       "      <td>54</td>\n",
       "      <td>614 Resto de las enfermedades</td>\n",
       "      <td>1</td>\n",
       "      <td>0</td>\n",
       "      <td>4</td>\n",
       "      <td>11</td>\n",
       "      <td>25</td>\n",
       "      <td>17</td>\n",
       "      <td>2</td>\n",
       "      <td>60</td>\n",
       "    </tr>\n",
       "    <tr>\n",
       "      <th>5</th>\n",
       "      <td>6</td>\n",
       "      <td>108 Infecciones respiratorias agudas</td>\n",
       "      <td>1</td>\n",
       "      <td>0</td>\n",
       "      <td>1</td>\n",
       "      <td>7</td>\n",
       "      <td>23</td>\n",
       "      <td>21</td>\n",
       "      <td>4</td>\n",
       "      <td>57</td>\n",
       "    </tr>\n",
       "    <tr>\n",
       "      <th>6</th>\n",
       "      <td>52</td>\n",
       "      <td>610 Enfermedades del sistema urinario</td>\n",
       "      <td>0</td>\n",
       "      <td>0</td>\n",
       "      <td>2</td>\n",
       "      <td>5</td>\n",
       "      <td>25</td>\n",
       "      <td>19</td>\n",
       "      <td>0</td>\n",
       "      <td>51</td>\n",
       "    </tr>\n",
       "    <tr>\n",
       "      <th>7</th>\n",
       "      <td>51</td>\n",
       "      <td>609 Resto de enfermedades del sistema digestivo</td>\n",
       "      <td>1</td>\n",
       "      <td>0</td>\n",
       "      <td>2</td>\n",
       "      <td>10</td>\n",
       "      <td>20</td>\n",
       "      <td>13</td>\n",
       "      <td>0</td>\n",
       "      <td>46</td>\n",
       "    </tr>\n",
       "    <tr>\n",
       "      <th>8</th>\n",
       "      <td>25</td>\n",
       "      <td>304 Enfermedad cardiopulmonar, enfermedades de...</td>\n",
       "      <td>0</td>\n",
       "      <td>1</td>\n",
       "      <td>5</td>\n",
       "      <td>3</td>\n",
       "      <td>20</td>\n",
       "      <td>11</td>\n",
       "      <td>0</td>\n",
       "      <td>40</td>\n",
       "    </tr>\n",
       "    <tr>\n",
       "      <th>9</th>\n",
       "      <td>23</td>\n",
       "      <td>302 Enfermedades hipertensivas</td>\n",
       "      <td>0</td>\n",
       "      <td>0</td>\n",
       "      <td>0</td>\n",
       "      <td>1</td>\n",
       "      <td>21</td>\n",
       "      <td>17</td>\n",
       "      <td>1</td>\n",
       "      <td>40</td>\n",
       "    </tr>\n",
       "    <tr>\n",
       "      <th>10</th>\n",
       "      <td>46</td>\n",
       "      <td>604 Enfermedades del sistema nervioso, excepto...</td>\n",
       "      <td>0</td>\n",
       "      <td>1</td>\n",
       "      <td>4</td>\n",
       "      <td>8</td>\n",
       "      <td>13</td>\n",
       "      <td>12</td>\n",
       "      <td>0</td>\n",
       "      <td>38</td>\n",
       "    </tr>\n",
       "    <tr>\n",
       "      <th>11</th>\n",
       "      <td>41</td>\n",
       "      <td>512 Agresiones (homicidios)</td>\n",
       "      <td>0</td>\n",
       "      <td>0</td>\n",
       "      <td>27</td>\n",
       "      <td>2</td>\n",
       "      <td>3</td>\n",
       "      <td>0</td>\n",
       "      <td>0</td>\n",
       "      <td>32</td>\n",
       "    </tr>\n",
       "    <tr>\n",
       "      <th>12</th>\n",
       "      <td>43</td>\n",
       "      <td>601 Diabetes mellitus</td>\n",
       "      <td>0</td>\n",
       "      <td>0</td>\n",
       "      <td>2</td>\n",
       "      <td>7</td>\n",
       "      <td>13</td>\n",
       "      <td>8</td>\n",
       "      <td>0</td>\n",
       "      <td>30</td>\n",
       "    </tr>\n",
       "    <tr>\n",
       "      <th>13</th>\n",
       "      <td>34</td>\n",
       "      <td>501 Accidentes de transporte terrestre</td>\n",
       "      <td>0</td>\n",
       "      <td>0</td>\n",
       "      <td>15</td>\n",
       "      <td>8</td>\n",
       "      <td>3</td>\n",
       "      <td>2</td>\n",
       "      <td>0</td>\n",
       "      <td>28</td>\n",
       "    </tr>\n",
       "    <tr>\n",
       "      <th>14</th>\n",
       "      <td>48</td>\n",
       "      <td>606 Resto de enfermedades del sistema respirat...</td>\n",
       "      <td>2</td>\n",
       "      <td>0</td>\n",
       "      <td>0</td>\n",
       "      <td>5</td>\n",
       "      <td>8</td>\n",
       "      <td>7</td>\n",
       "      <td>0</td>\n",
       "      <td>22</td>\n",
       "    </tr>\n",
       "    <tr>\n",
       "      <th>15</th>\n",
       "      <td>45</td>\n",
       "      <td>603 Trastornos mentales y del comportamiento</td>\n",
       "      <td>0</td>\n",
       "      <td>0</td>\n",
       "      <td>1</td>\n",
       "      <td>1</td>\n",
       "      <td>4</td>\n",
       "      <td>9</td>\n",
       "      <td>0</td>\n",
       "      <td>15</td>\n",
       "    </tr>\n",
       "    <tr>\n",
       "      <th>16</th>\n",
       "      <td>40</td>\n",
       "      <td>511 Lesiones autoinfligidas intencionalmente (...</td>\n",
       "      <td>0</td>\n",
       "      <td>1</td>\n",
       "      <td>11</td>\n",
       "      <td>1</td>\n",
       "      <td>1</td>\n",
       "      <td>0</td>\n",
       "      <td>0</td>\n",
       "      <td>14</td>\n",
       "    </tr>\n",
       "    <tr>\n",
       "      <th>17</th>\n",
       "      <td>26</td>\n",
       "      <td>306 Insuficiencia cardíaca</td>\n",
       "      <td>0</td>\n",
       "      <td>0</td>\n",
       "      <td>1</td>\n",
       "      <td>3</td>\n",
       "      <td>6</td>\n",
       "      <td>3</td>\n",
       "      <td>0</td>\n",
       "      <td>13</td>\n",
       "    </tr>\n",
       "    <tr>\n",
       "      <th>18</th>\n",
       "      <td>50</td>\n",
       "      <td>608 Cirrosis y ciertas otras enfermedades crón...</td>\n",
       "      <td>0</td>\n",
       "      <td>0</td>\n",
       "      <td>1</td>\n",
       "      <td>2</td>\n",
       "      <td>8</td>\n",
       "      <td>2</td>\n",
       "      <td>0</td>\n",
       "      <td>13</td>\n",
       "    </tr>\n",
       "    <tr>\n",
       "      <th>19</th>\n",
       "      <td>19</td>\n",
       "      <td>212 Leucemia</td>\n",
       "      <td>0</td>\n",
       "      <td>1</td>\n",
       "      <td>5</td>\n",
       "      <td>3</td>\n",
       "      <td>3</td>\n",
       "      <td>0</td>\n",
       "      <td>0</td>\n",
       "      <td>12</td>\n",
       "    </tr>\n",
       "    <tr>\n",
       "      <th>20</th>\n",
       "      <td>39</td>\n",
       "      <td>510 Otros accidentes, inclusive secuelas</td>\n",
       "      <td>0</td>\n",
       "      <td>0</td>\n",
       "      <td>4</td>\n",
       "      <td>3</td>\n",
       "      <td>3</td>\n",
       "      <td>2</td>\n",
       "      <td>0</td>\n",
       "      <td>12</td>\n",
       "    </tr>\n",
       "    <tr>\n",
       "      <th>21</th>\n",
       "      <td>53</td>\n",
       "      <td>613 Malformaciones congénitas, deformidades y ...</td>\n",
       "      <td>8</td>\n",
       "      <td>0</td>\n",
       "      <td>0</td>\n",
       "      <td>1</td>\n",
       "      <td>2</td>\n",
       "      <td>0</td>\n",
       "      <td>0</td>\n",
       "      <td>11</td>\n",
       "    </tr>\n",
       "    <tr>\n",
       "      <th>22</th>\n",
       "      <td>2</td>\n",
       "      <td>102 Tuberculosis</td>\n",
       "      <td>1</td>\n",
       "      <td>0</td>\n",
       "      <td>3</td>\n",
       "      <td>1</td>\n",
       "      <td>4</td>\n",
       "      <td>0</td>\n",
       "      <td>0</td>\n",
       "      <td>9</td>\n",
       "    </tr>\n",
       "    <tr>\n",
       "      <th>23</th>\n",
       "      <td>49</td>\n",
       "      <td>607 Apendicitis, hernia de la cavidad abdomina...</td>\n",
       "      <td>1</td>\n",
       "      <td>0</td>\n",
       "      <td>1</td>\n",
       "      <td>1</td>\n",
       "      <td>3</td>\n",
       "      <td>2</td>\n",
       "      <td>0</td>\n",
       "      <td>8</td>\n",
       "    </tr>\n",
       "    <tr>\n",
       "      <th>24</th>\n",
       "      <td>1</td>\n",
       "      <td>101 Enfermedades infecciosas intestinales</td>\n",
       "      <td>0</td>\n",
       "      <td>0</td>\n",
       "      <td>0</td>\n",
       "      <td>3</td>\n",
       "      <td>3</td>\n",
       "      <td>2</td>\n",
       "      <td>0</td>\n",
       "      <td>8</td>\n",
       "    </tr>\n",
       "    <tr>\n",
       "      <th>25</th>\n",
       "      <td>28</td>\n",
       "      <td>309 Las demás enfermedades del sistema circula...</td>\n",
       "      <td>0</td>\n",
       "      <td>0</td>\n",
       "      <td>0</td>\n",
       "      <td>3</td>\n",
       "      <td>3</td>\n",
       "      <td>2</td>\n",
       "      <td>0</td>\n",
       "      <td>8</td>\n",
       "    </tr>\n",
       "    <tr>\n",
       "      <th>26</th>\n",
       "      <td>5</td>\n",
       "      <td>107 Enfermedad por el VIH (SIDA)</td>\n",
       "      <td>0</td>\n",
       "      <td>0</td>\n",
       "      <td>1</td>\n",
       "      <td>4</td>\n",
       "      <td>2</td>\n",
       "      <td>0</td>\n",
       "      <td>0</td>\n",
       "      <td>7</td>\n",
       "    </tr>\n",
       "    <tr>\n",
       "      <th>27</th>\n",
       "      <td>44</td>\n",
       "      <td>602 Deficiencias nutricionales y anemias nutri...</td>\n",
       "      <td>0</td>\n",
       "      <td>0</td>\n",
       "      <td>0</td>\n",
       "      <td>2</td>\n",
       "      <td>1</td>\n",
       "      <td>4</td>\n",
       "      <td>0</td>\n",
       "      <td>7</td>\n",
       "    </tr>\n",
       "    <tr>\n",
       "      <th>28</th>\n",
       "      <td>35</td>\n",
       "      <td>503 Caídas</td>\n",
       "      <td>0</td>\n",
       "      <td>0</td>\n",
       "      <td>0</td>\n",
       "      <td>3</td>\n",
       "      <td>3</td>\n",
       "      <td>0</td>\n",
       "      <td>0</td>\n",
       "      <td>6</td>\n",
       "    </tr>\n",
       "    <tr>\n",
       "      <th>29</th>\n",
       "      <td>42</td>\n",
       "      <td>513 Eventos de intención no determinada</td>\n",
       "      <td>0</td>\n",
       "      <td>0</td>\n",
       "      <td>2</td>\n",
       "      <td>2</td>\n",
       "      <td>2</td>\n",
       "      <td>0</td>\n",
       "      <td>0</td>\n",
       "      <td>6</td>\n",
       "    </tr>\n",
       "    <tr>\n",
       "      <th>30</th>\n",
       "      <td>31</td>\n",
       "      <td>404 Trastornos respiratorios específicos del p...</td>\n",
       "      <td>6</td>\n",
       "      <td>0</td>\n",
       "      <td>0</td>\n",
       "      <td>0</td>\n",
       "      <td>0</td>\n",
       "      <td>0</td>\n",
       "      <td>0</td>\n",
       "      <td>6</td>\n",
       "    </tr>\n",
       "    <tr>\n",
       "      <th>31</th>\n",
       "      <td>0</td>\n",
       "      <td>000 Signos, síntomas y afecciones mal definidas</td>\n",
       "      <td>1</td>\n",
       "      <td>0</td>\n",
       "      <td>0</td>\n",
       "      <td>1</td>\n",
       "      <td>1</td>\n",
       "      <td>1</td>\n",
       "      <td>1</td>\n",
       "      <td>5</td>\n",
       "    </tr>\n",
       "    <tr>\n",
       "      <th>32</th>\n",
       "      <td>38</td>\n",
       "      <td>507 Exposición a la corriente eléctrica</td>\n",
       "      <td>0</td>\n",
       "      <td>0</td>\n",
       "      <td>2</td>\n",
       "      <td>1</td>\n",
       "      <td>0</td>\n",
       "      <td>0</td>\n",
       "      <td>0</td>\n",
       "      <td>3</td>\n",
       "    </tr>\n",
       "    <tr>\n",
       "      <th>33</th>\n",
       "      <td>36</td>\n",
       "      <td>505 Ahogamiento y sumersión accidentales</td>\n",
       "      <td>1</td>\n",
       "      <td>0</td>\n",
       "      <td>1</td>\n",
       "      <td>1</td>\n",
       "      <td>0</td>\n",
       "      <td>0</td>\n",
       "      <td>0</td>\n",
       "      <td>3</td>\n",
       "    </tr>\n",
       "    <tr>\n",
       "      <th>34</th>\n",
       "      <td>4</td>\n",
       "      <td>106 Septicemia, excepto neonatal</td>\n",
       "      <td>1</td>\n",
       "      <td>0</td>\n",
       "      <td>0</td>\n",
       "      <td>0</td>\n",
       "      <td>1</td>\n",
       "      <td>1</td>\n",
       "      <td>0</td>\n",
       "      <td>3</td>\n",
       "    </tr>\n",
       "    <tr>\n",
       "      <th>35</th>\n",
       "      <td>37</td>\n",
       "      <td>506 Accidentes que obstruyen la respiración</td>\n",
       "      <td>0</td>\n",
       "      <td>0</td>\n",
       "      <td>2</td>\n",
       "      <td>0</td>\n",
       "      <td>0</td>\n",
       "      <td>0</td>\n",
       "      <td>0</td>\n",
       "      <td>2</td>\n",
       "    </tr>\n",
       "    <tr>\n",
       "      <th>36</th>\n",
       "      <td>30</td>\n",
       "      <td>403 Retardo del crecimiento fetal, desnutrició...</td>\n",
       "      <td>2</td>\n",
       "      <td>0</td>\n",
       "      <td>0</td>\n",
       "      <td>0</td>\n",
       "      <td>0</td>\n",
       "      <td>0</td>\n",
       "      <td>0</td>\n",
       "      <td>2</td>\n",
       "    </tr>\n",
       "    <tr>\n",
       "      <th>37</th>\n",
       "      <td>33</td>\n",
       "      <td>406 Resto de ciertas afecciones originadas en ...</td>\n",
       "      <td>1</td>\n",
       "      <td>0</td>\n",
       "      <td>0</td>\n",
       "      <td>0</td>\n",
       "      <td>0</td>\n",
       "      <td>0</td>\n",
       "      <td>0</td>\n",
       "      <td>1</td>\n",
       "    </tr>\n",
       "    <tr>\n",
       "      <th>38</th>\n",
       "      <td>32</td>\n",
       "      <td>405 Sepsis bacteriana del recién nacido</td>\n",
       "      <td>1</td>\n",
       "      <td>0</td>\n",
       "      <td>0</td>\n",
       "      <td>0</td>\n",
       "      <td>0</td>\n",
       "      <td>0</td>\n",
       "      <td>0</td>\n",
       "      <td>1</td>\n",
       "    </tr>\n",
       "    <tr>\n",
       "      <th>39</th>\n",
       "      <td>29</td>\n",
       "      <td>402 Feto y recién nacido afectados por complic...</td>\n",
       "      <td>1</td>\n",
       "      <td>0</td>\n",
       "      <td>0</td>\n",
       "      <td>0</td>\n",
       "      <td>0</td>\n",
       "      <td>0</td>\n",
       "      <td>0</td>\n",
       "      <td>1</td>\n",
       "    </tr>\n",
       "    <tr>\n",
       "      <th>40</th>\n",
       "      <td>7</td>\n",
       "      <td>109 Resto de ciertas enfermedades infecciosas ...</td>\n",
       "      <td>0</td>\n",
       "      <td>0</td>\n",
       "      <td>0</td>\n",
       "      <td>0</td>\n",
       "      <td>1</td>\n",
       "      <td>0</td>\n",
       "      <td>0</td>\n",
       "      <td>1</td>\n",
       "    </tr>\n",
       "    <tr>\n",
       "      <th>41</th>\n",
       "      <td>3</td>\n",
       "      <td>105 Meningitis</td>\n",
       "      <td>0</td>\n",
       "      <td>0</td>\n",
       "      <td>0</td>\n",
       "      <td>0</td>\n",
       "      <td>1</td>\n",
       "      <td>0</td>\n",
       "      <td>0</td>\n",
       "      <td>1</td>\n",
       "    </tr>\n",
       "  </tbody>\n",
       "</table>\n",
       "</div>"
      ],
      "text/plain": [
       "    Unnamed: 0                                Causas de defunción  edad 0 a 4  \\\n",
       "0            0  201 Tumor maligno del estómago202 Tumor malign...           0   \n",
       "1           24            303 Enfermedades isquémicas del corazón           0   \n",
       "2           47  605 Enfermedades crónicas de las vías respirat...           0   \n",
       "3           27                 307 Enfermedades cerebrovasculares           1   \n",
       "4           54                      614 Resto de las enfermedades           1   \n",
       "5            6               108 Infecciones respiratorias agudas           1   \n",
       "6           52              610 Enfermedades del sistema urinario           0   \n",
       "7           51    609 Resto de enfermedades del sistema digestivo           1   \n",
       "8           25  304 Enfermedad cardiopulmonar, enfermedades de...           0   \n",
       "9           23                     302 Enfermedades hipertensivas           0   \n",
       "10          46  604 Enfermedades del sistema nervioso, excepto...           0   \n",
       "11          41                        512 Agresiones (homicidios)           0   \n",
       "12          43                              601 Diabetes mellitus           0   \n",
       "13          34             501 Accidentes de transporte terrestre           0   \n",
       "14          48  606 Resto de enfermedades del sistema respirat...           2   \n",
       "15          45       603 Trastornos mentales y del comportamiento           0   \n",
       "16          40  511 Lesiones autoinfligidas intencionalmente (...           0   \n",
       "17          26                         306 Insuficiencia cardíaca           0   \n",
       "18          50  608 Cirrosis y ciertas otras enfermedades crón...           0   \n",
       "19          19                                       212 Leucemia           0   \n",
       "20          39           510 Otros accidentes, inclusive secuelas           0   \n",
       "21          53  613 Malformaciones congénitas, deformidades y ...           8   \n",
       "22           2                                   102 Tuberculosis           1   \n",
       "23          49  607 Apendicitis, hernia de la cavidad abdomina...           1   \n",
       "24           1          101 Enfermedades infecciosas intestinales           0   \n",
       "25          28  309 Las demás enfermedades del sistema circula...           0   \n",
       "26           5                   107 Enfermedad por el VIH (SIDA)           0   \n",
       "27          44  602 Deficiencias nutricionales y anemias nutri...           0   \n",
       "28          35                                         503 Caídas           0   \n",
       "29          42            513 Eventos de intención no determinada           0   \n",
       "30          31  404 Trastornos respiratorios específicos del p...           6   \n",
       "31           0    000 Signos, síntomas y afecciones mal definidas           1   \n",
       "32          38            507 Exposición a la corriente eléctrica           0   \n",
       "33          36           505 Ahogamiento y sumersión accidentales           1   \n",
       "34           4                   106 Septicemia, excepto neonatal           1   \n",
       "35          37        506 Accidentes que obstruyen la respiración           0   \n",
       "36          30  403 Retardo del crecimiento fetal, desnutrició...           2   \n",
       "37          33  406 Resto de ciertas afecciones originadas en ...           1   \n",
       "38          32            405 Sepsis bacteriana del recién nacido           1   \n",
       "39          29  402 Feto y recién nacido afectados por complic...           1   \n",
       "40           7  109 Resto de ciertas enfermedades infecciosas ...           0   \n",
       "41           3                                     105 Meningitis           0   \n",
       "\n",
       "    edad 5 a 14  edad 15 a 44  edad 45 a 64  edad 65 a 84  edad 85 a 99  \\\n",
       "0             1            27            90           173            38   \n",
       "1             0             4            38           142            90   \n",
       "2             0             1            13            73            61   \n",
       "3             0             3            11            43            29   \n",
       "4             0             4            11            25            17   \n",
       "5             0             1             7            23            21   \n",
       "6             0             2             5            25            19   \n",
       "7             0             2            10            20            13   \n",
       "8             1             5             3            20            11   \n",
       "9             0             0             1            21            17   \n",
       "10            1             4             8            13            12   \n",
       "11            0            27             2             3             0   \n",
       "12            0             2             7            13             8   \n",
       "13            0            15             8             3             2   \n",
       "14            0             0             5             8             7   \n",
       "15            0             1             1             4             9   \n",
       "16            1            11             1             1             0   \n",
       "17            0             1             3             6             3   \n",
       "18            0             1             2             8             2   \n",
       "19            1             5             3             3             0   \n",
       "20            0             4             3             3             2   \n",
       "21            0             0             1             2             0   \n",
       "22            0             3             1             4             0   \n",
       "23            0             1             1             3             2   \n",
       "24            0             0             3             3             2   \n",
       "25            0             0             3             3             2   \n",
       "26            0             1             4             2             0   \n",
       "27            0             0             2             1             4   \n",
       "28            0             0             3             3             0   \n",
       "29            0             2             2             2             0   \n",
       "30            0             0             0             0             0   \n",
       "31            0             0             1             1             1   \n",
       "32            0             2             1             0             0   \n",
       "33            0             1             1             0             0   \n",
       "34            0             0             0             1             1   \n",
       "35            0             2             0             0             0   \n",
       "36            0             0             0             0             0   \n",
       "37            0             0             0             0             0   \n",
       "38            0             0             0             0             0   \n",
       "39            0             0             0             0             0   \n",
       "40            0             0             0             1             0   \n",
       "41            0             0             0             1             0   \n",
       "\n",
       "    edad 100 o más  Total  \n",
       "0                0    329  \n",
       "1                4    278  \n",
       "2                1    149  \n",
       "3                0     87  \n",
       "4                2     60  \n",
       "5                4     57  \n",
       "6                0     51  \n",
       "7                0     46  \n",
       "8                0     40  \n",
       "9                1     40  \n",
       "10               0     38  \n",
       "11               0     32  \n",
       "12               0     30  \n",
       "13               0     28  \n",
       "14               0     22  \n",
       "15               0     15  \n",
       "16               0     14  \n",
       "17               0     13  \n",
       "18               0     13  \n",
       "19               0     12  \n",
       "20               0     12  \n",
       "21               0     11  \n",
       "22               0      9  \n",
       "23               0      8  \n",
       "24               0      8  \n",
       "25               0      8  \n",
       "26               0      7  \n",
       "27               0      7  \n",
       "28               0      6  \n",
       "29               0      6  \n",
       "30               0      6  \n",
       "31               1      5  \n",
       "32               0      3  \n",
       "33               0      3  \n",
       "34               0      3  \n",
       "35               0      2  \n",
       "36               0      2  \n",
       "37               0      1  \n",
       "38               0      1  \n",
       "39               0      1  \n",
       "40               0      1  \n",
       "41               0      1  "
      ]
     },
     "execution_count": 321,
     "metadata": {},
     "output_type": "execute_result"
    }
   ],
   "source": [
    "defuncionesMunicipales=pd.read_csv('defuncionesDepartamento.csv')\n",
    "defuncionesMunicipales"
   ]
  },
  {
   "cell_type": "code",
   "execution_count": 322,
   "metadata": {
    "slideshow": {
     "slide_type": "skip"
    }
   },
   "outputs": [],
   "source": [
    "defuncionesMunicipales.drop(columns=['Unnamed: 0'], inplace=True)"
   ]
  },
  {
   "cell_type": "code",
   "execution_count": 323,
   "metadata": {
    "slideshow": {
     "slide_type": "skip"
    }
   },
   "outputs": [],
   "source": [
    "defuncionesMunicipales['edad 0 a 4']= ((defuncionesMunicipales.loc[:,'edad 0 a 4'])*dias/90).astype(int)\n",
    "defuncionesMunicipales['edad 5 a 14']= ((defuncionesMunicipales.loc[:,'edad 5 a 14'])*dias/90).astype(int)\n",
    "defuncionesMunicipales['edad 15 a 44']= ((defuncionesMunicipales.loc[:,'edad 15 a 44'])*dias/90).astype(int)\n",
    "defuncionesMunicipales['edad 45 a 64']= ((defuncionesMunicipales.loc[:,'edad 45 a 64'])*dias/90).astype(int)\n",
    "defuncionesMunicipales['edad 65 a 84']= ((defuncionesMunicipales.loc[:,'edad 65 a 84'])*dias/90).astype(int)\n",
    "defuncionesMunicipales['edad 85 a 99']= ((defuncionesMunicipales.loc[:,'edad 85 a 99'])*dias/90).astype(int)\n",
    "defuncionesMunicipales['edad 100 o más']= ((defuncionesMunicipales.loc[:,'edad 100 o más'])*dias/90).astype(int)\n",
    "defuncionesMunicipales['Total']= ((defuncionesMunicipales.loc[:,'Total'])*dias/90).astype(int)"
   ]
  },
  {
   "cell_type": "code",
   "execution_count": 324,
   "metadata": {
    "slideshow": {
     "slide_type": "subslide"
    }
   },
   "outputs": [
    {
     "data": {
      "text/html": [
       "<div>\n",
       "<style scoped>\n",
       "    .dataframe tbody tr th:only-of-type {\n",
       "        vertical-align: middle;\n",
       "    }\n",
       "\n",
       "    .dataframe tbody tr th {\n",
       "        vertical-align: top;\n",
       "    }\n",
       "\n",
       "    .dataframe thead th {\n",
       "        text-align: right;\n",
       "    }\n",
       "</style>\n",
       "<table border=\"1\" class=\"dataframe\">\n",
       "  <thead>\n",
       "    <tr style=\"text-align: right;\">\n",
       "      <th></th>\n",
       "      <th>Causas de defunción</th>\n",
       "      <th>edad 0 a 4</th>\n",
       "      <th>edad 5 a 14</th>\n",
       "      <th>edad 15 a 44</th>\n",
       "      <th>edad 45 a 64</th>\n",
       "      <th>edad 65 a 84</th>\n",
       "      <th>edad 85 a 99</th>\n",
       "      <th>edad 100 o más</th>\n",
       "      <th>Total</th>\n",
       "    </tr>\n",
       "  </thead>\n",
       "  <tbody>\n",
       "    <tr>\n",
       "      <th>0</th>\n",
       "      <td>201 Tumor maligno del estómago202 Tumor malign...</td>\n",
       "      <td>0</td>\n",
       "      <td>3</td>\n",
       "      <td>81</td>\n",
       "      <td>273</td>\n",
       "      <td>524</td>\n",
       "      <td>115</td>\n",
       "      <td>0</td>\n",
       "      <td>997</td>\n",
       "    </tr>\n",
       "    <tr>\n",
       "      <th>1</th>\n",
       "      <td>303 Enfermedades isquémicas del corazón</td>\n",
       "      <td>0</td>\n",
       "      <td>0</td>\n",
       "      <td>12</td>\n",
       "      <td>115</td>\n",
       "      <td>430</td>\n",
       "      <td>273</td>\n",
       "      <td>12</td>\n",
       "      <td>843</td>\n",
       "    </tr>\n",
       "    <tr>\n",
       "      <th>2</th>\n",
       "      <td>605 Enfermedades crónicas de las vías respirat...</td>\n",
       "      <td>0</td>\n",
       "      <td>0</td>\n",
       "      <td>3</td>\n",
       "      <td>39</td>\n",
       "      <td>221</td>\n",
       "      <td>185</td>\n",
       "      <td>3</td>\n",
       "      <td>451</td>\n",
       "    </tr>\n",
       "    <tr>\n",
       "      <th>3</th>\n",
       "      <td>307 Enfermedades cerebrovasculares</td>\n",
       "      <td>3</td>\n",
       "      <td>0</td>\n",
       "      <td>9</td>\n",
       "      <td>33</td>\n",
       "      <td>130</td>\n",
       "      <td>87</td>\n",
       "      <td>0</td>\n",
       "      <td>263</td>\n",
       "    </tr>\n",
       "    <tr>\n",
       "      <th>4</th>\n",
       "      <td>614 Resto de las enfermedades</td>\n",
       "      <td>3</td>\n",
       "      <td>0</td>\n",
       "      <td>12</td>\n",
       "      <td>33</td>\n",
       "      <td>75</td>\n",
       "      <td>51</td>\n",
       "      <td>6</td>\n",
       "      <td>182</td>\n",
       "    </tr>\n",
       "    <tr>\n",
       "      <th>5</th>\n",
       "      <td>108 Infecciones respiratorias agudas</td>\n",
       "      <td>3</td>\n",
       "      <td>0</td>\n",
       "      <td>3</td>\n",
       "      <td>21</td>\n",
       "      <td>69</td>\n",
       "      <td>63</td>\n",
       "      <td>12</td>\n",
       "      <td>172</td>\n",
       "    </tr>\n",
       "    <tr>\n",
       "      <th>6</th>\n",
       "      <td>610 Enfermedades del sistema urinario</td>\n",
       "      <td>0</td>\n",
       "      <td>0</td>\n",
       "      <td>6</td>\n",
       "      <td>15</td>\n",
       "      <td>75</td>\n",
       "      <td>57</td>\n",
       "      <td>0</td>\n",
       "      <td>154</td>\n",
       "    </tr>\n",
       "    <tr>\n",
       "      <th>7</th>\n",
       "      <td>609 Resto de enfermedades del sistema digestivo</td>\n",
       "      <td>3</td>\n",
       "      <td>0</td>\n",
       "      <td>6</td>\n",
       "      <td>30</td>\n",
       "      <td>60</td>\n",
       "      <td>39</td>\n",
       "      <td>0</td>\n",
       "      <td>139</td>\n",
       "    </tr>\n",
       "    <tr>\n",
       "      <th>8</th>\n",
       "      <td>304 Enfermedad cardiopulmonar, enfermedades de...</td>\n",
       "      <td>0</td>\n",
       "      <td>3</td>\n",
       "      <td>15</td>\n",
       "      <td>9</td>\n",
       "      <td>60</td>\n",
       "      <td>33</td>\n",
       "      <td>0</td>\n",
       "      <td>121</td>\n",
       "    </tr>\n",
       "    <tr>\n",
       "      <th>9</th>\n",
       "      <td>302 Enfermedades hipertensivas</td>\n",
       "      <td>0</td>\n",
       "      <td>0</td>\n",
       "      <td>0</td>\n",
       "      <td>3</td>\n",
       "      <td>63</td>\n",
       "      <td>51</td>\n",
       "      <td>3</td>\n",
       "      <td>121</td>\n",
       "    </tr>\n",
       "    <tr>\n",
       "      <th>10</th>\n",
       "      <td>604 Enfermedades del sistema nervioso, excepto...</td>\n",
       "      <td>0</td>\n",
       "      <td>3</td>\n",
       "      <td>12</td>\n",
       "      <td>24</td>\n",
       "      <td>39</td>\n",
       "      <td>36</td>\n",
       "      <td>0</td>\n",
       "      <td>115</td>\n",
       "    </tr>\n",
       "    <tr>\n",
       "      <th>11</th>\n",
       "      <td>512 Agresiones (homicidios)</td>\n",
       "      <td>0</td>\n",
       "      <td>0</td>\n",
       "      <td>81</td>\n",
       "      <td>6</td>\n",
       "      <td>9</td>\n",
       "      <td>0</td>\n",
       "      <td>0</td>\n",
       "      <td>97</td>\n",
       "    </tr>\n",
       "    <tr>\n",
       "      <th>12</th>\n",
       "      <td>601 Diabetes mellitus</td>\n",
       "      <td>0</td>\n",
       "      <td>0</td>\n",
       "      <td>6</td>\n",
       "      <td>21</td>\n",
       "      <td>39</td>\n",
       "      <td>24</td>\n",
       "      <td>0</td>\n",
       "      <td>91</td>\n",
       "    </tr>\n",
       "    <tr>\n",
       "      <th>13</th>\n",
       "      <td>501 Accidentes de transporte terrestre</td>\n",
       "      <td>0</td>\n",
       "      <td>0</td>\n",
       "      <td>45</td>\n",
       "      <td>24</td>\n",
       "      <td>9</td>\n",
       "      <td>6</td>\n",
       "      <td>0</td>\n",
       "      <td>84</td>\n",
       "    </tr>\n",
       "    <tr>\n",
       "      <th>14</th>\n",
       "      <td>606 Resto de enfermedades del sistema respirat...</td>\n",
       "      <td>6</td>\n",
       "      <td>0</td>\n",
       "      <td>0</td>\n",
       "      <td>15</td>\n",
       "      <td>24</td>\n",
       "      <td>21</td>\n",
       "      <td>0</td>\n",
       "      <td>66</td>\n",
       "    </tr>\n",
       "    <tr>\n",
       "      <th>15</th>\n",
       "      <td>603 Trastornos mentales y del comportamiento</td>\n",
       "      <td>0</td>\n",
       "      <td>0</td>\n",
       "      <td>3</td>\n",
       "      <td>3</td>\n",
       "      <td>12</td>\n",
       "      <td>27</td>\n",
       "      <td>0</td>\n",
       "      <td>45</td>\n",
       "    </tr>\n",
       "    <tr>\n",
       "      <th>16</th>\n",
       "      <td>511 Lesiones autoinfligidas intencionalmente (...</td>\n",
       "      <td>0</td>\n",
       "      <td>3</td>\n",
       "      <td>33</td>\n",
       "      <td>3</td>\n",
       "      <td>3</td>\n",
       "      <td>0</td>\n",
       "      <td>0</td>\n",
       "      <td>42</td>\n",
       "    </tr>\n",
       "    <tr>\n",
       "      <th>17</th>\n",
       "      <td>306 Insuficiencia cardíaca</td>\n",
       "      <td>0</td>\n",
       "      <td>0</td>\n",
       "      <td>3</td>\n",
       "      <td>9</td>\n",
       "      <td>18</td>\n",
       "      <td>9</td>\n",
       "      <td>0</td>\n",
       "      <td>39</td>\n",
       "    </tr>\n",
       "    <tr>\n",
       "      <th>18</th>\n",
       "      <td>608 Cirrosis y ciertas otras enfermedades crón...</td>\n",
       "      <td>0</td>\n",
       "      <td>0</td>\n",
       "      <td>3</td>\n",
       "      <td>6</td>\n",
       "      <td>24</td>\n",
       "      <td>6</td>\n",
       "      <td>0</td>\n",
       "      <td>39</td>\n",
       "    </tr>\n",
       "    <tr>\n",
       "      <th>19</th>\n",
       "      <td>212 Leucemia</td>\n",
       "      <td>0</td>\n",
       "      <td>3</td>\n",
       "      <td>15</td>\n",
       "      <td>9</td>\n",
       "      <td>9</td>\n",
       "      <td>0</td>\n",
       "      <td>0</td>\n",
       "      <td>36</td>\n",
       "    </tr>\n",
       "    <tr>\n",
       "      <th>20</th>\n",
       "      <td>510 Otros accidentes, inclusive secuelas</td>\n",
       "      <td>0</td>\n",
       "      <td>0</td>\n",
       "      <td>12</td>\n",
       "      <td>9</td>\n",
       "      <td>9</td>\n",
       "      <td>6</td>\n",
       "      <td>0</td>\n",
       "      <td>36</td>\n",
       "    </tr>\n",
       "    <tr>\n",
       "      <th>21</th>\n",
       "      <td>613 Malformaciones congénitas, deformidades y ...</td>\n",
       "      <td>24</td>\n",
       "      <td>0</td>\n",
       "      <td>0</td>\n",
       "      <td>3</td>\n",
       "      <td>6</td>\n",
       "      <td>0</td>\n",
       "      <td>0</td>\n",
       "      <td>33</td>\n",
       "    </tr>\n",
       "    <tr>\n",
       "      <th>22</th>\n",
       "      <td>102 Tuberculosis</td>\n",
       "      <td>3</td>\n",
       "      <td>0</td>\n",
       "      <td>9</td>\n",
       "      <td>3</td>\n",
       "      <td>12</td>\n",
       "      <td>0</td>\n",
       "      <td>0</td>\n",
       "      <td>27</td>\n",
       "    </tr>\n",
       "    <tr>\n",
       "      <th>23</th>\n",
       "      <td>607 Apendicitis, hernia de la cavidad abdomina...</td>\n",
       "      <td>3</td>\n",
       "      <td>0</td>\n",
       "      <td>3</td>\n",
       "      <td>3</td>\n",
       "      <td>9</td>\n",
       "      <td>6</td>\n",
       "      <td>0</td>\n",
       "      <td>24</td>\n",
       "    </tr>\n",
       "    <tr>\n",
       "      <th>24</th>\n",
       "      <td>101 Enfermedades infecciosas intestinales</td>\n",
       "      <td>0</td>\n",
       "      <td>0</td>\n",
       "      <td>0</td>\n",
       "      <td>9</td>\n",
       "      <td>9</td>\n",
       "      <td>6</td>\n",
       "      <td>0</td>\n",
       "      <td>24</td>\n",
       "    </tr>\n",
       "    <tr>\n",
       "      <th>25</th>\n",
       "      <td>309 Las demás enfermedades del sistema circula...</td>\n",
       "      <td>0</td>\n",
       "      <td>0</td>\n",
       "      <td>0</td>\n",
       "      <td>9</td>\n",
       "      <td>9</td>\n",
       "      <td>6</td>\n",
       "      <td>0</td>\n",
       "      <td>24</td>\n",
       "    </tr>\n",
       "    <tr>\n",
       "      <th>26</th>\n",
       "      <td>107 Enfermedad por el VIH (SIDA)</td>\n",
       "      <td>0</td>\n",
       "      <td>0</td>\n",
       "      <td>3</td>\n",
       "      <td>12</td>\n",
       "      <td>6</td>\n",
       "      <td>0</td>\n",
       "      <td>0</td>\n",
       "      <td>21</td>\n",
       "    </tr>\n",
       "    <tr>\n",
       "      <th>27</th>\n",
       "      <td>602 Deficiencias nutricionales y anemias nutri...</td>\n",
       "      <td>0</td>\n",
       "      <td>0</td>\n",
       "      <td>0</td>\n",
       "      <td>6</td>\n",
       "      <td>3</td>\n",
       "      <td>12</td>\n",
       "      <td>0</td>\n",
       "      <td>21</td>\n",
       "    </tr>\n",
       "    <tr>\n",
       "      <th>28</th>\n",
       "      <td>503 Caídas</td>\n",
       "      <td>0</td>\n",
       "      <td>0</td>\n",
       "      <td>0</td>\n",
       "      <td>9</td>\n",
       "      <td>9</td>\n",
       "      <td>0</td>\n",
       "      <td>0</td>\n",
       "      <td>18</td>\n",
       "    </tr>\n",
       "    <tr>\n",
       "      <th>29</th>\n",
       "      <td>513 Eventos de intención no determinada</td>\n",
       "      <td>0</td>\n",
       "      <td>0</td>\n",
       "      <td>6</td>\n",
       "      <td>6</td>\n",
       "      <td>6</td>\n",
       "      <td>0</td>\n",
       "      <td>0</td>\n",
       "      <td>18</td>\n",
       "    </tr>\n",
       "    <tr>\n",
       "      <th>30</th>\n",
       "      <td>404 Trastornos respiratorios específicos del p...</td>\n",
       "      <td>18</td>\n",
       "      <td>0</td>\n",
       "      <td>0</td>\n",
       "      <td>0</td>\n",
       "      <td>0</td>\n",
       "      <td>0</td>\n",
       "      <td>0</td>\n",
       "      <td>18</td>\n",
       "    </tr>\n",
       "    <tr>\n",
       "      <th>31</th>\n",
       "      <td>000 Signos, síntomas y afecciones mal definidas</td>\n",
       "      <td>3</td>\n",
       "      <td>0</td>\n",
       "      <td>0</td>\n",
       "      <td>3</td>\n",
       "      <td>3</td>\n",
       "      <td>3</td>\n",
       "      <td>3</td>\n",
       "      <td>15</td>\n",
       "    </tr>\n",
       "    <tr>\n",
       "      <th>32</th>\n",
       "      <td>507 Exposición a la corriente eléctrica</td>\n",
       "      <td>0</td>\n",
       "      <td>0</td>\n",
       "      <td>6</td>\n",
       "      <td>3</td>\n",
       "      <td>0</td>\n",
       "      <td>0</td>\n",
       "      <td>0</td>\n",
       "      <td>9</td>\n",
       "    </tr>\n",
       "    <tr>\n",
       "      <th>33</th>\n",
       "      <td>505 Ahogamiento y sumersión accidentales</td>\n",
       "      <td>3</td>\n",
       "      <td>0</td>\n",
       "      <td>3</td>\n",
       "      <td>3</td>\n",
       "      <td>0</td>\n",
       "      <td>0</td>\n",
       "      <td>0</td>\n",
       "      <td>9</td>\n",
       "    </tr>\n",
       "    <tr>\n",
       "      <th>34</th>\n",
       "      <td>106 Septicemia, excepto neonatal</td>\n",
       "      <td>3</td>\n",
       "      <td>0</td>\n",
       "      <td>0</td>\n",
       "      <td>0</td>\n",
       "      <td>3</td>\n",
       "      <td>3</td>\n",
       "      <td>0</td>\n",
       "      <td>9</td>\n",
       "    </tr>\n",
       "    <tr>\n",
       "      <th>35</th>\n",
       "      <td>506 Accidentes que obstruyen la respiración</td>\n",
       "      <td>0</td>\n",
       "      <td>0</td>\n",
       "      <td>6</td>\n",
       "      <td>0</td>\n",
       "      <td>0</td>\n",
       "      <td>0</td>\n",
       "      <td>0</td>\n",
       "      <td>6</td>\n",
       "    </tr>\n",
       "    <tr>\n",
       "      <th>36</th>\n",
       "      <td>403 Retardo del crecimiento fetal, desnutrició...</td>\n",
       "      <td>6</td>\n",
       "      <td>0</td>\n",
       "      <td>0</td>\n",
       "      <td>0</td>\n",
       "      <td>0</td>\n",
       "      <td>0</td>\n",
       "      <td>0</td>\n",
       "      <td>6</td>\n",
       "    </tr>\n",
       "    <tr>\n",
       "      <th>37</th>\n",
       "      <td>406 Resto de ciertas afecciones originadas en ...</td>\n",
       "      <td>3</td>\n",
       "      <td>0</td>\n",
       "      <td>0</td>\n",
       "      <td>0</td>\n",
       "      <td>0</td>\n",
       "      <td>0</td>\n",
       "      <td>0</td>\n",
       "      <td>3</td>\n",
       "    </tr>\n",
       "    <tr>\n",
       "      <th>38</th>\n",
       "      <td>405 Sepsis bacteriana del recién nacido</td>\n",
       "      <td>3</td>\n",
       "      <td>0</td>\n",
       "      <td>0</td>\n",
       "      <td>0</td>\n",
       "      <td>0</td>\n",
       "      <td>0</td>\n",
       "      <td>0</td>\n",
       "      <td>3</td>\n",
       "    </tr>\n",
       "    <tr>\n",
       "      <th>39</th>\n",
       "      <td>402 Feto y recién nacido afectados por complic...</td>\n",
       "      <td>3</td>\n",
       "      <td>0</td>\n",
       "      <td>0</td>\n",
       "      <td>0</td>\n",
       "      <td>0</td>\n",
       "      <td>0</td>\n",
       "      <td>0</td>\n",
       "      <td>3</td>\n",
       "    </tr>\n",
       "    <tr>\n",
       "      <th>40</th>\n",
       "      <td>109 Resto de ciertas enfermedades infecciosas ...</td>\n",
       "      <td>0</td>\n",
       "      <td>0</td>\n",
       "      <td>0</td>\n",
       "      <td>0</td>\n",
       "      <td>3</td>\n",
       "      <td>0</td>\n",
       "      <td>0</td>\n",
       "      <td>3</td>\n",
       "    </tr>\n",
       "    <tr>\n",
       "      <th>41</th>\n",
       "      <td>105 Meningitis</td>\n",
       "      <td>0</td>\n",
       "      <td>0</td>\n",
       "      <td>0</td>\n",
       "      <td>0</td>\n",
       "      <td>3</td>\n",
       "      <td>0</td>\n",
       "      <td>0</td>\n",
       "      <td>3</td>\n",
       "    </tr>\n",
       "  </tbody>\n",
       "</table>\n",
       "</div>"
      ],
      "text/plain": [
       "                                  Causas de defunción  edad 0 a 4  \\\n",
       "0   201 Tumor maligno del estómago202 Tumor malign...           0   \n",
       "1             303 Enfermedades isquémicas del corazón           0   \n",
       "2   605 Enfermedades crónicas de las vías respirat...           0   \n",
       "3                  307 Enfermedades cerebrovasculares           3   \n",
       "4                       614 Resto de las enfermedades           3   \n",
       "5                108 Infecciones respiratorias agudas           3   \n",
       "6               610 Enfermedades del sistema urinario           0   \n",
       "7     609 Resto de enfermedades del sistema digestivo           3   \n",
       "8   304 Enfermedad cardiopulmonar, enfermedades de...           0   \n",
       "9                      302 Enfermedades hipertensivas           0   \n",
       "10  604 Enfermedades del sistema nervioso, excepto...           0   \n",
       "11                        512 Agresiones (homicidios)           0   \n",
       "12                              601 Diabetes mellitus           0   \n",
       "13             501 Accidentes de transporte terrestre           0   \n",
       "14  606 Resto de enfermedades del sistema respirat...           6   \n",
       "15       603 Trastornos mentales y del comportamiento           0   \n",
       "16  511 Lesiones autoinfligidas intencionalmente (...           0   \n",
       "17                         306 Insuficiencia cardíaca           0   \n",
       "18  608 Cirrosis y ciertas otras enfermedades crón...           0   \n",
       "19                                       212 Leucemia           0   \n",
       "20           510 Otros accidentes, inclusive secuelas           0   \n",
       "21  613 Malformaciones congénitas, deformidades y ...          24   \n",
       "22                                   102 Tuberculosis           3   \n",
       "23  607 Apendicitis, hernia de la cavidad abdomina...           3   \n",
       "24          101 Enfermedades infecciosas intestinales           0   \n",
       "25  309 Las demás enfermedades del sistema circula...           0   \n",
       "26                   107 Enfermedad por el VIH (SIDA)           0   \n",
       "27  602 Deficiencias nutricionales y anemias nutri...           0   \n",
       "28                                         503 Caídas           0   \n",
       "29            513 Eventos de intención no determinada           0   \n",
       "30  404 Trastornos respiratorios específicos del p...          18   \n",
       "31    000 Signos, síntomas y afecciones mal definidas           3   \n",
       "32            507 Exposición a la corriente eléctrica           0   \n",
       "33           505 Ahogamiento y sumersión accidentales           3   \n",
       "34                   106 Septicemia, excepto neonatal           3   \n",
       "35        506 Accidentes que obstruyen la respiración           0   \n",
       "36  403 Retardo del crecimiento fetal, desnutrició...           6   \n",
       "37  406 Resto de ciertas afecciones originadas en ...           3   \n",
       "38            405 Sepsis bacteriana del recién nacido           3   \n",
       "39  402 Feto y recién nacido afectados por complic...           3   \n",
       "40  109 Resto de ciertas enfermedades infecciosas ...           0   \n",
       "41                                     105 Meningitis           0   \n",
       "\n",
       "    edad 5 a 14  edad 15 a 44  edad 45 a 64  edad 65 a 84  edad 85 a 99  \\\n",
       "0             3            81           273           524           115   \n",
       "1             0            12           115           430           273   \n",
       "2             0             3            39           221           185   \n",
       "3             0             9            33           130            87   \n",
       "4             0            12            33            75            51   \n",
       "5             0             3            21            69            63   \n",
       "6             0             6            15            75            57   \n",
       "7             0             6            30            60            39   \n",
       "8             3            15             9            60            33   \n",
       "9             0             0             3            63            51   \n",
       "10            3            12            24            39            36   \n",
       "11            0            81             6             9             0   \n",
       "12            0             6            21            39            24   \n",
       "13            0            45            24             9             6   \n",
       "14            0             0            15            24            21   \n",
       "15            0             3             3            12            27   \n",
       "16            3            33             3             3             0   \n",
       "17            0             3             9            18             9   \n",
       "18            0             3             6            24             6   \n",
       "19            3            15             9             9             0   \n",
       "20            0            12             9             9             6   \n",
       "21            0             0             3             6             0   \n",
       "22            0             9             3            12             0   \n",
       "23            0             3             3             9             6   \n",
       "24            0             0             9             9             6   \n",
       "25            0             0             9             9             6   \n",
       "26            0             3            12             6             0   \n",
       "27            0             0             6             3            12   \n",
       "28            0             0             9             9             0   \n",
       "29            0             6             6             6             0   \n",
       "30            0             0             0             0             0   \n",
       "31            0             0             3             3             3   \n",
       "32            0             6             3             0             0   \n",
       "33            0             3             3             0             0   \n",
       "34            0             0             0             3             3   \n",
       "35            0             6             0             0             0   \n",
       "36            0             0             0             0             0   \n",
       "37            0             0             0             0             0   \n",
       "38            0             0             0             0             0   \n",
       "39            0             0             0             0             0   \n",
       "40            0             0             0             3             0   \n",
       "41            0             0             0             3             0   \n",
       "\n",
       "    edad 100 o más  Total  \n",
       "0                0    997  \n",
       "1               12    843  \n",
       "2                3    451  \n",
       "3                0    263  \n",
       "4                6    182  \n",
       "5               12    172  \n",
       "6                0    154  \n",
       "7                0    139  \n",
       "8                0    121  \n",
       "9                3    121  \n",
       "10               0    115  \n",
       "11               0     97  \n",
       "12               0     91  \n",
       "13               0     84  \n",
       "14               0     66  \n",
       "15               0     45  \n",
       "16               0     42  \n",
       "17               0     39  \n",
       "18               0     39  \n",
       "19               0     36  \n",
       "20               0     36  \n",
       "21               0     33  \n",
       "22               0     27  \n",
       "23               0     24  \n",
       "24               0     24  \n",
       "25               0     24  \n",
       "26               0     21  \n",
       "27               0     21  \n",
       "28               0     18  \n",
       "29               0     18  \n",
       "30               0     18  \n",
       "31               3     15  \n",
       "32               0      9  \n",
       "33               0      9  \n",
       "34               0      9  \n",
       "35               0      6  \n",
       "36               0      6  \n",
       "37               0      3  \n",
       "38               0      3  \n",
       "39               0      3  \n",
       "40               0      3  \n",
       "41               0      3  "
      ]
     },
     "execution_count": 324,
     "metadata": {},
     "output_type": "execute_result"
    }
   ],
   "source": [
    "defuncionesMunicipales"
   ]
  },
  {
   "cell_type": "code",
   "execution_count": 325,
   "metadata": {
    "slideshow": {
     "slide_type": "skip"
    }
   },
   "outputs": [],
   "source": [
    "covidMunicipio=Totales['Número fallecidos']"
   ]
  },
  {
   "cell_type": "code",
   "execution_count": 326,
   "metadata": {
    "slideshow": {
     "slide_type": "skip"
    }
   },
   "outputs": [
    {
     "data": {
      "text/html": [
       "<div>\n",
       "<style scoped>\n",
       "    .dataframe tbody tr th:only-of-type {\n",
       "        vertical-align: middle;\n",
       "    }\n",
       "\n",
       "    .dataframe tbody tr th {\n",
       "        vertical-align: top;\n",
       "    }\n",
       "\n",
       "    .dataframe thead th {\n",
       "        text-align: right;\n",
       "    }\n",
       "</style>\n",
       "<table border=\"1\" class=\"dataframe\">\n",
       "  <thead>\n",
       "    <tr style=\"text-align: right;\">\n",
       "      <th></th>\n",
       "      <th>edad 0 a 4</th>\n",
       "      <th>edad 5 a 14</th>\n",
       "      <th>edad 15 a 44</th>\n",
       "      <th>edad 45 a 64</th>\n",
       "      <th>edad 65 a 84</th>\n",
       "      <th>edad 85 a 99</th>\n",
       "      <th>edad 100 o más</th>\n",
       "      <th>Totales</th>\n",
       "    </tr>\n",
       "  </thead>\n",
       "  <tbody>\n",
       "    <tr>\n",
       "      <th>RT-PCR_positivo (covid19???)</th>\n",
       "      <td>8</td>\n",
       "      <td>16</td>\n",
       "      <td>230</td>\n",
       "      <td>304</td>\n",
       "      <td>21</td>\n",
       "      <td>0</td>\n",
       "      <td>0</td>\n",
       "      <td>579</td>\n",
       "    </tr>\n",
       "  </tbody>\n",
       "</table>\n",
       "</div>"
      ],
      "text/plain": [
       "                              edad 0 a 4  edad 5 a 14  edad 15 a 44  \\\n",
       "RT-PCR_positivo (covid19???)           8           16           230   \n",
       "\n",
       "                              edad 45 a 64  edad 65 a 84  edad 85 a 99  \\\n",
       "RT-PCR_positivo (covid19???)           304            21             0   \n",
       "\n",
       "                              edad 100 o más  Totales  \n",
       "RT-PCR_positivo (covid19???)               0      579  "
      ]
     },
     "execution_count": 326,
     "metadata": {},
     "output_type": "execute_result"
    }
   ],
   "source": [
    "covidMunicipio= covidMunicipio.to_frame().rename(columns={'Número fallecidos':'RT-PCR_positivo (covid19???)'}).transpose()\n",
    "covidMunicipio"
   ]
  },
  {
   "cell_type": "code",
   "execution_count": 327,
   "metadata": {
    "slideshow": {
     "slide_type": "skip"
    }
   },
   "outputs": [
    {
     "data": {
      "text/html": [
       "<div>\n",
       "<style scoped>\n",
       "    .dataframe tbody tr th:only-of-type {\n",
       "        vertical-align: middle;\n",
       "    }\n",
       "\n",
       "    .dataframe tbody tr th {\n",
       "        vertical-align: top;\n",
       "    }\n",
       "\n",
       "    .dataframe thead th {\n",
       "        text-align: right;\n",
       "    }\n",
       "</style>\n",
       "<table border=\"1\" class=\"dataframe\">\n",
       "  <thead>\n",
       "    <tr style=\"text-align: right;\">\n",
       "      <th></th>\n",
       "      <th>index</th>\n",
       "      <th>edad 0 a 4</th>\n",
       "      <th>edad 5 a 14</th>\n",
       "      <th>edad 15 a 44</th>\n",
       "      <th>edad 45 a 64</th>\n",
       "      <th>edad 65 a 84</th>\n",
       "      <th>edad 85 a 99</th>\n",
       "      <th>edad 100 o más</th>\n",
       "      <th>Totales</th>\n",
       "    </tr>\n",
       "  </thead>\n",
       "  <tbody>\n",
       "    <tr>\n",
       "      <th>0</th>\n",
       "      <td>RT-PCR_positivo (covid19???)</td>\n",
       "      <td>8</td>\n",
       "      <td>16</td>\n",
       "      <td>230</td>\n",
       "      <td>304</td>\n",
       "      <td>21</td>\n",
       "      <td>0</td>\n",
       "      <td>0</td>\n",
       "      <td>579</td>\n",
       "    </tr>\n",
       "  </tbody>\n",
       "</table>\n",
       "</div>"
      ],
      "text/plain": [
       "                          index  edad 0 a 4  edad 5 a 14  edad 15 a 44  \\\n",
       "0  RT-PCR_positivo (covid19???)           8           16           230   \n",
       "\n",
       "   edad 45 a 64  edad 65 a 84  edad 85 a 99  edad 100 o más  Totales  \n",
       "0           304            21             0               0      579  "
      ]
     },
     "execution_count": 327,
     "metadata": {},
     "output_type": "execute_result"
    }
   ],
   "source": [
    "covidMunicipio=covidMunicipio.reset_index()\n",
    "covidMunicipio"
   ]
  },
  {
   "cell_type": "code",
   "execution_count": 328,
   "metadata": {
    "slideshow": {
     "slide_type": "skip"
    }
   },
   "outputs": [],
   "source": [
    "covidMunicipio.rename(columns={'index':'Causas de defunción', 'Totales':'Total'}, inplace=True)"
   ]
  },
  {
   "cell_type": "code",
   "execution_count": 329,
   "metadata": {
    "slideshow": {
     "slide_type": "subslide"
    }
   },
   "outputs": [
    {
     "data": {
      "text/html": [
       "<div>\n",
       "<style scoped>\n",
       "    .dataframe tbody tr th:only-of-type {\n",
       "        vertical-align: middle;\n",
       "    }\n",
       "\n",
       "    .dataframe tbody tr th {\n",
       "        vertical-align: top;\n",
       "    }\n",
       "\n",
       "    .dataframe thead th {\n",
       "        text-align: right;\n",
       "    }\n",
       "</style>\n",
       "<table border=\"1\" class=\"dataframe\">\n",
       "  <thead>\n",
       "    <tr style=\"text-align: right;\">\n",
       "      <th></th>\n",
       "      <th>Causas de defunción</th>\n",
       "      <th>edad 0 a 4</th>\n",
       "      <th>edad 5 a 14</th>\n",
       "      <th>edad 15 a 44</th>\n",
       "      <th>edad 45 a 64</th>\n",
       "      <th>edad 65 a 84</th>\n",
       "      <th>edad 85 a 99</th>\n",
       "      <th>edad 100 o más</th>\n",
       "      <th>Total</th>\n",
       "    </tr>\n",
       "  </thead>\n",
       "  <tbody>\n",
       "    <tr>\n",
       "      <th>0</th>\n",
       "      <td>RT-PCR_positivo (covid19???)</td>\n",
       "      <td>8</td>\n",
       "      <td>16</td>\n",
       "      <td>230</td>\n",
       "      <td>304</td>\n",
       "      <td>21</td>\n",
       "      <td>0</td>\n",
       "      <td>0</td>\n",
       "      <td>579</td>\n",
       "    </tr>\n",
       "  </tbody>\n",
       "</table>\n",
       "</div>"
      ],
      "text/plain": [
       "            Causas de defunción  edad 0 a 4  edad 5 a 14  edad 15 a 44  \\\n",
       "0  RT-PCR_positivo (covid19???)           8           16           230   \n",
       "\n",
       "   edad 45 a 64  edad 65 a 84  edad 85 a 99  edad 100 o más  Total  \n",
       "0           304            21             0               0    579  "
      ]
     },
     "execution_count": 329,
     "metadata": {},
     "output_type": "execute_result"
    }
   ],
   "source": [
    "covidMunicipio"
   ]
  },
  {
   "cell_type": "code",
   "execution_count": 330,
   "metadata": {
    "slideshow": {
     "slide_type": "skip"
    }
   },
   "outputs": [],
   "source": [
    "defuncionesMunicipales = defuncionesMunicipales.append(covidMunicipio, ignore_index=True).sort_values('Total', ascending=False).head(10)"
   ]
  },
  {
   "cell_type": "code",
   "execution_count": 331,
   "metadata": {
    "scrolled": false,
    "slideshow": {
     "slide_type": "slide"
    }
   },
   "outputs": [
    {
     "data": {
      "text/html": [
       "<div>\n",
       "<style scoped>\n",
       "    .dataframe tbody tr th:only-of-type {\n",
       "        vertical-align: middle;\n",
       "    }\n",
       "\n",
       "    .dataframe tbody tr th {\n",
       "        vertical-align: top;\n",
       "    }\n",
       "\n",
       "    .dataframe thead th {\n",
       "        text-align: right;\n",
       "    }\n",
       "</style>\n",
       "<table border=\"1\" class=\"dataframe\">\n",
       "  <thead>\n",
       "    <tr style=\"text-align: right;\">\n",
       "      <th></th>\n",
       "      <th>Causas de defunción</th>\n",
       "      <th>edad 0 a 4</th>\n",
       "      <th>edad 5 a 14</th>\n",
       "      <th>edad 15 a 44</th>\n",
       "      <th>edad 45 a 64</th>\n",
       "      <th>edad 65 a 84</th>\n",
       "      <th>edad 85 a 99</th>\n",
       "      <th>edad 100 o más</th>\n",
       "      <th>Total</th>\n",
       "    </tr>\n",
       "  </thead>\n",
       "  <tbody>\n",
       "    <tr>\n",
       "      <th>0</th>\n",
       "      <td>201 Tumor maligno del estómago202 Tumor malign...</td>\n",
       "      <td>0</td>\n",
       "      <td>3</td>\n",
       "      <td>81</td>\n",
       "      <td>273</td>\n",
       "      <td>524</td>\n",
       "      <td>115</td>\n",
       "      <td>0</td>\n",
       "      <td>997</td>\n",
       "    </tr>\n",
       "    <tr>\n",
       "      <th>1</th>\n",
       "      <td>303 Enfermedades isquémicas del corazón</td>\n",
       "      <td>0</td>\n",
       "      <td>0</td>\n",
       "      <td>12</td>\n",
       "      <td>115</td>\n",
       "      <td>430</td>\n",
       "      <td>273</td>\n",
       "      <td>12</td>\n",
       "      <td>843</td>\n",
       "    </tr>\n",
       "    <tr>\n",
       "      <th>42</th>\n",
       "      <td>RT-PCR_positivo (covid19???)</td>\n",
       "      <td>8</td>\n",
       "      <td>16</td>\n",
       "      <td>230</td>\n",
       "      <td>304</td>\n",
       "      <td>21</td>\n",
       "      <td>0</td>\n",
       "      <td>0</td>\n",
       "      <td>579</td>\n",
       "    </tr>\n",
       "    <tr>\n",
       "      <th>2</th>\n",
       "      <td>605 Enfermedades crónicas de las vías respirat...</td>\n",
       "      <td>0</td>\n",
       "      <td>0</td>\n",
       "      <td>3</td>\n",
       "      <td>39</td>\n",
       "      <td>221</td>\n",
       "      <td>185</td>\n",
       "      <td>3</td>\n",
       "      <td>451</td>\n",
       "    </tr>\n",
       "    <tr>\n",
       "      <th>3</th>\n",
       "      <td>307 Enfermedades cerebrovasculares</td>\n",
       "      <td>3</td>\n",
       "      <td>0</td>\n",
       "      <td>9</td>\n",
       "      <td>33</td>\n",
       "      <td>130</td>\n",
       "      <td>87</td>\n",
       "      <td>0</td>\n",
       "      <td>263</td>\n",
       "    </tr>\n",
       "    <tr>\n",
       "      <th>4</th>\n",
       "      <td>614 Resto de las enfermedades</td>\n",
       "      <td>3</td>\n",
       "      <td>0</td>\n",
       "      <td>12</td>\n",
       "      <td>33</td>\n",
       "      <td>75</td>\n",
       "      <td>51</td>\n",
       "      <td>6</td>\n",
       "      <td>182</td>\n",
       "    </tr>\n",
       "    <tr>\n",
       "      <th>5</th>\n",
       "      <td>108 Infecciones respiratorias agudas</td>\n",
       "      <td>3</td>\n",
       "      <td>0</td>\n",
       "      <td>3</td>\n",
       "      <td>21</td>\n",
       "      <td>69</td>\n",
       "      <td>63</td>\n",
       "      <td>12</td>\n",
       "      <td>172</td>\n",
       "    </tr>\n",
       "    <tr>\n",
       "      <th>6</th>\n",
       "      <td>610 Enfermedades del sistema urinario</td>\n",
       "      <td>0</td>\n",
       "      <td>0</td>\n",
       "      <td>6</td>\n",
       "      <td>15</td>\n",
       "      <td>75</td>\n",
       "      <td>57</td>\n",
       "      <td>0</td>\n",
       "      <td>154</td>\n",
       "    </tr>\n",
       "    <tr>\n",
       "      <th>7</th>\n",
       "      <td>609 Resto de enfermedades del sistema digestivo</td>\n",
       "      <td>3</td>\n",
       "      <td>0</td>\n",
       "      <td>6</td>\n",
       "      <td>30</td>\n",
       "      <td>60</td>\n",
       "      <td>39</td>\n",
       "      <td>0</td>\n",
       "      <td>139</td>\n",
       "    </tr>\n",
       "    <tr>\n",
       "      <th>8</th>\n",
       "      <td>304 Enfermedad cardiopulmonar, enfermedades de...</td>\n",
       "      <td>0</td>\n",
       "      <td>3</td>\n",
       "      <td>15</td>\n",
       "      <td>9</td>\n",
       "      <td>60</td>\n",
       "      <td>33</td>\n",
       "      <td>0</td>\n",
       "      <td>121</td>\n",
       "    </tr>\n",
       "  </tbody>\n",
       "</table>\n",
       "</div>"
      ],
      "text/plain": [
       "                                  Causas de defunción  edad 0 a 4  \\\n",
       "0   201 Tumor maligno del estómago202 Tumor malign...           0   \n",
       "1             303 Enfermedades isquémicas del corazón           0   \n",
       "42                       RT-PCR_positivo (covid19???)           8   \n",
       "2   605 Enfermedades crónicas de las vías respirat...           0   \n",
       "3                  307 Enfermedades cerebrovasculares           3   \n",
       "4                       614 Resto de las enfermedades           3   \n",
       "5                108 Infecciones respiratorias agudas           3   \n",
       "6               610 Enfermedades del sistema urinario           0   \n",
       "7     609 Resto de enfermedades del sistema digestivo           3   \n",
       "8   304 Enfermedad cardiopulmonar, enfermedades de...           0   \n",
       "\n",
       "    edad 5 a 14  edad 15 a 44  edad 45 a 64  edad 65 a 84  edad 85 a 99  \\\n",
       "0             3            81           273           524           115   \n",
       "1             0            12           115           430           273   \n",
       "42           16           230           304            21             0   \n",
       "2             0             3            39           221           185   \n",
       "3             0             9            33           130            87   \n",
       "4             0            12            33            75            51   \n",
       "5             0             3            21            69            63   \n",
       "6             0             6            15            75            57   \n",
       "7             0             6            30            60            39   \n",
       "8             3            15             9            60            33   \n",
       "\n",
       "    edad 100 o más  Total  \n",
       "0                0    997  \n",
       "1               12    843  \n",
       "42               0    579  \n",
       "2                3    451  \n",
       "3                0    263  \n",
       "4                6    182  \n",
       "5               12    172  \n",
       "6                0    154  \n",
       "7                0    139  \n",
       "8                0    121  "
      ]
     },
     "execution_count": 331,
     "metadata": {},
     "output_type": "execute_result"
    }
   ],
   "source": [
    "defuncionesMunicipales.head(10)"
   ]
  },
  {
   "cell_type": "code",
   "execution_count": null,
   "metadata": {},
   "outputs": [],
   "source": [
    "\n"
   ]
  },
  {
   "cell_type": "code",
   "execution_count": null,
   "metadata": {},
   "outputs": [],
   "source": []
  },
  {
   "cell_type": "code",
   "execution_count": null,
   "metadata": {},
   "outputs": [],
   "source": []
  }
 ],
 "metadata": {
  "hide_input": false,
  "kernelspec": {
   "display_name": "Python 3",
   "language": "python",
   "name": "python3"
  },
  "language_info": {
   "codemirror_mode": {
    "name": "ipython",
    "version": 3
   },
   "file_extension": ".py",
   "mimetype": "text/x-python",
   "name": "python",
   "nbconvert_exporter": "python",
   "pygments_lexer": "ipython3",
   "version": "3.7.0"
  }
 },
 "nbformat": 4,
 "nbformat_minor": 4
}
