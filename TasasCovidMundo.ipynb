{
 "cells": [
  {
   "cell_type": "markdown",
   "metadata": {},
   "source": [
    "#### World Population Prospects 2019\n",
    "#### File POP/1-1: Total population (both sexes combined) by region, subregion and country, ####annually for 1950-2100 (thousands)\n",
    "#### Constant-mortality variant, 2020 - 2100\n",
    "#### POP/DB/WPP/Rev.2019/POP/F01-1\n",
    "#### © August 2019 by United Nations, made available under a Creative Commons license CC BY 3.0 IGO: #### http://creativecommons.org/licenses/by/3.0/igo/\n",
    "#### United Nations, Department of Economic and Social Affairs, Population Division (2019). World Population Prospects 2019, Online Edition. Rev. 1."
   ]
  },
  {
   "cell_type": "code",
   "execution_count": 1,
   "metadata": {},
   "outputs": [],
   "source": [
    "import pandas as pd\n",
    "import requests\n",
    "import os\n",
    "import csv\n",
    "#from googletrans import Translator"
   ]
  },
  {
   "cell_type": "code",
   "execution_count": 2,
   "metadata": {},
   "outputs": [],
   "source": [
    "pd.set_option(\"display.precision\", 2)"
   ]
  },
  {
   "cell_type": "markdown",
   "metadata": {},
   "source": [
    "### OMS https://covid19.who.int/WHO-COVID-19-global-data.csv"
   ]
  },
  {
   "cell_type": "code",
   "execution_count": 3,
   "metadata": {},
   "outputs": [],
   "source": [
    "direccion_url = 'https://covid19.who.int/WHO-COVID-19-global-data.csv'"
   ]
  },
  {
   "cell_type": "code",
   "execution_count": 4,
   "metadata": {},
   "outputs": [
    {
     "data": {
      "text/plain": [
       "'Obtiene la base de datos actualizada y la guardar en disco local.'"
      ]
     },
     "execution_count": 4,
     "metadata": {},
     "output_type": "execute_result"
    }
   ],
   "source": [
    "'''Uncomment para definir el Path'''\n",
    "\n",
    "direccion_local = '/Users/Dr.LuisEvelioRestrepoGarcia/datosRecopilador/CovidMundo.csv'    # En mi Apple\n",
    "'''Obtiene la base de datos actualizada y la guardar en disco local.'''"
   ]
  },
  {
   "cell_type": "code",
   "execution_count": 5,
   "metadata": {},
   "outputs": [
    {
     "name": "stdout",
     "output_type": "stream",
     "text": [
      "True\n"
     ]
    }
   ],
   "source": [
    "datos_req = requests.get(direccion_url)\n",
    "try:\n",
    "    datos_req.raise_for_status()\n",
    "except Exception as exc:\n",
    "    print('Problema en la descarga: %s' % (exc))\n",
    "print(datos_req.status_code == requests.codes.ok)\n",
    "playFile = open('CovidMundo.csv', 'wb')\n",
    "for chunk in datos_req.iter_content(100000):\n",
    "    playFile.write(chunk)\n",
    "playFile.close()"
   ]
  },
  {
   "cell_type": "code",
   "execution_count": 6,
   "metadata": {},
   "outputs": [],
   "source": [
    "covMun = pd.read_csv('CovidMundo.csv', usecols=['Date_reported', 'Country', \n",
    "       'New_cases', 'Cumulative_cases', 'New_deaths', 'Cumulative_deaths'])"
   ]
  },
  {
   "cell_type": "code",
   "execution_count": 7,
   "metadata": {},
   "outputs": [
    {
     "data": {
      "text/plain": [
       "Index(['Date_reported', 'Country', 'New_cases', 'Cumulative_cases',\n",
       "       'New_deaths', 'Cumulative_deaths'],\n",
       "      dtype='object')"
      ]
     },
     "execution_count": 7,
     "metadata": {},
     "output_type": "execute_result"
    }
   ],
   "source": [
    "covMun.columns"
   ]
  },
  {
   "cell_type": "code",
   "execution_count": 8,
   "metadata": {},
   "outputs": [
    {
     "data": {
      "text/html": [
       "<div>\n",
       "<style scoped>\n",
       "    .dataframe tbody tr th:only-of-type {\n",
       "        vertical-align: middle;\n",
       "    }\n",
       "\n",
       "    .dataframe tbody tr th {\n",
       "        vertical-align: top;\n",
       "    }\n",
       "\n",
       "    .dataframe thead th {\n",
       "        text-align: right;\n",
       "    }\n",
       "</style>\n",
       "<table border=\"1\" class=\"dataframe\">\n",
       "  <thead>\n",
       "    <tr style=\"text-align: right;\">\n",
       "      <th></th>\n",
       "      <th>País</th>\n",
       "      <th>Total_Casos</th>\n",
       "      <th>Fallecidos</th>\n",
       "    </tr>\n",
       "  </thead>\n",
       "  <tbody>\n",
       "    <tr>\n",
       "      <th>0</th>\n",
       "      <td>Afghanistan</td>\n",
       "      <td>48540</td>\n",
       "      <td>1921</td>\n",
       "    </tr>\n",
       "    <tr>\n",
       "      <th>1</th>\n",
       "      <td>Albania</td>\n",
       "      <td>44436</td>\n",
       "      <td>936</td>\n",
       "    </tr>\n",
       "    <tr>\n",
       "      <th>2</th>\n",
       "      <td>Algeria</td>\n",
       "      <td>89416</td>\n",
       "      <td>2539</td>\n",
       "    </tr>\n",
       "    <tr>\n",
       "      <th>3</th>\n",
       "      <td>American Samoa</td>\n",
       "      <td>0</td>\n",
       "      <td>0</td>\n",
       "    </tr>\n",
       "    <tr>\n",
       "      <th>4</th>\n",
       "      <td>Andorra</td>\n",
       "      <td>7127</td>\n",
       "      <td>78</td>\n",
       "    </tr>\n",
       "    <tr>\n",
       "      <th>...</th>\n",
       "      <td>...</td>\n",
       "      <td>...</td>\n",
       "      <td>...</td>\n",
       "    </tr>\n",
       "    <tr>\n",
       "      <th>230</th>\n",
       "      <td>Wallis and Futuna</td>\n",
       "      <td>3</td>\n",
       "      <td>0</td>\n",
       "    </tr>\n",
       "    <tr>\n",
       "      <th>231</th>\n",
       "      <td>Yemen</td>\n",
       "      <td>2083</td>\n",
       "      <td>607</td>\n",
       "    </tr>\n",
       "    <tr>\n",
       "      <th>232</th>\n",
       "      <td>Zambia</td>\n",
       "      <td>17931</td>\n",
       "      <td>364</td>\n",
       "    </tr>\n",
       "    <tr>\n",
       "      <th>233</th>\n",
       "      <td>Zimbabwe</td>\n",
       "      <td>10839</td>\n",
       "      <td>294</td>\n",
       "    </tr>\n",
       "    <tr>\n",
       "      <th>234</th>\n",
       "      <td>occupied Palestinian territory, including east...</td>\n",
       "      <td>117233</td>\n",
       "      <td>984</td>\n",
       "    </tr>\n",
       "  </tbody>\n",
       "</table>\n",
       "<p>235 rows × 3 columns</p>\n",
       "</div>"
      ],
      "text/plain": [
       "                                                  País  Total_Casos  \\\n",
       "0                                          Afghanistan        48540   \n",
       "1                                              Albania        44436   \n",
       "2                                              Algeria        89416   \n",
       "3                                       American Samoa            0   \n",
       "4                                              Andorra         7127   \n",
       "..                                                 ...          ...   \n",
       "230                                  Wallis and Futuna            3   \n",
       "231                                              Yemen         2083   \n",
       "232                                             Zambia        17931   \n",
       "233                                           Zimbabwe        10839   \n",
       "234  occupied Palestinian territory, including east...       117233   \n",
       "\n",
       "     Fallecidos  \n",
       "0          1921  \n",
       "1           936  \n",
       "2          2539  \n",
       "3             0  \n",
       "4            78  \n",
       "..          ...  \n",
       "230           0  \n",
       "231         607  \n",
       "232         364  \n",
       "233         294  \n",
       "234         984  \n",
       "\n",
       "[235 rows x 3 columns]"
      ]
     },
     "execution_count": 8,
     "metadata": {},
     "output_type": "execute_result"
    }
   ],
   "source": [
    "covMun.rename({'Date_reported': 'Fecha_reporte', 'Country': 'País', 'New_cases':'Total_Casos', \n",
    "                'Cumulative_cases': 'Casos_acumulados', 'New_deaths':'Fallecidos', \n",
    "                'Cumulative_deaths':'Muertes_acumuladas'}, axis='columns', inplace=True)\n",
    "covMun = covMun.groupby('País')[['Total_Casos','Fallecidos']].sum()\n",
    "\n",
    "\n",
    "covMun = covMun.reset_index()\n",
    "\n",
    "covMun"
   ]
  },
  {
   "cell_type": "code",
   "execution_count": 9,
   "metadata": {},
   "outputs": [
    {
     "data": {
      "text/plain": [
       "numpy.int64"
      ]
     },
     "execution_count": 9,
     "metadata": {},
     "output_type": "execute_result"
    }
   ],
   "source": [
    "type(covMun.loc[0,'Fallecidos'])"
   ]
  },
  {
   "cell_type": "markdown",
   "metadata": {},
   "source": [
    "translator = Translator()\n",
    "covMun['Spanish'] = covMun['País'].apply(translator.translate, src='en', dest='es').apply(getattr, args=('text',))\n",
    "covMun.to_csv('CovidMundoT.csv')"
   ]
  },
  {
   "cell_type": "markdown",
   "metadata": {},
   "source": [
    "covMun.drop('País', axis= 'columns', inplace=True)\n",
    "covMun.rename({'Spanish':'País'}, axis = 'columns', inplace=True)"
   ]
  },
  {
   "cell_type": "code",
   "execution_count": 10,
   "metadata": {},
   "outputs": [],
   "source": [
    "covMun.set_index('País', inplace=True)"
   ]
  },
  {
   "cell_type": "code",
   "execution_count": 11,
   "metadata": {},
   "outputs": [],
   "source": [
    "mundo= pd.read_csv('/Users/Dr.LuisEvelioRestrepoGarcia/REPOS/poblacionMundial.csv')\n",
    "mundo.rename({'Spanish':'País'}, axis='columns', inplace=True)\n",
    "mundo.set_index('País', inplace=True)\n",
    "mundo = mundo['2020']"
   ]
  },
  {
   "cell_type": "code",
   "execution_count": 12,
   "metadata": {},
   "outputs": [],
   "source": [
    "Tasas_mundiales = pd.merge(covMun, mundo, left_index=True, right_index=True)\n",
    "\n",
    "Tasas_mundiales.rename({'2020':'Población'}, axis ='columns', inplace=True)\n",
    "\n",
    "Tasas_mundiales['Tasa de mortalidad por millón de habitantes']= (Tasas_mundiales['Fallecidos']/Tasas_mundiales['Población'])*1000000\n",
    "Tasas_mundiales['Tasa de letalidad por cien habitantes']= (Tasas_mundiales['Fallecidos']/Tasas_mundiales['Total_Casos'])*100"
   ]
  },
  {
   "cell_type": "code",
   "execution_count": 13,
   "metadata": {},
   "outputs": [
    {
     "data": {
      "text/plain": [
       "Total_Casos                                      int64\n",
       "Fallecidos                                       int64\n",
       "Población                                        int64\n",
       "Tasa de mortalidad por millón de habitantes    float64\n",
       "Tasa de letalidad por cien habitantes          float64\n",
       "dtype: object"
      ]
     },
     "execution_count": 13,
     "metadata": {},
     "output_type": "execute_result"
    }
   ],
   "source": [
    "Tasas_mundiales.dtypes"
   ]
  },
  {
   "cell_type": "code",
   "execution_count": 14,
   "metadata": {},
   "outputs": [],
   "source": [
    "pais = ['Colombia']"
   ]
  },
  {
   "cell_type": "code",
   "execution_count": 15,
   "metadata": {},
   "outputs": [
    {
     "data": {
      "text/plain": [
       "['Colombia']"
      ]
     },
     "execution_count": 15,
     "metadata": {},
     "output_type": "execute_result"
    }
   ],
   "source": [
    "pais"
   ]
  },
  {
   "cell_type": "code",
   "execution_count": 16,
   "metadata": {
    "scrolled": true
   },
   "outputs": [
    {
     "data": {
      "text/html": [
       "<div>\n",
       "<style scoped>\n",
       "    .dataframe tbody tr th:only-of-type {\n",
       "        vertical-align: middle;\n",
       "    }\n",
       "\n",
       "    .dataframe tbody tr th {\n",
       "        vertical-align: top;\n",
       "    }\n",
       "\n",
       "    .dataframe thead th {\n",
       "        text-align: right;\n",
       "    }\n",
       "</style>\n",
       "<table border=\"1\" class=\"dataframe\">\n",
       "  <thead>\n",
       "    <tr style=\"text-align: right;\">\n",
       "      <th></th>\n",
       "      <th>Total_Casos</th>\n",
       "      <th>Fallecidos</th>\n",
       "      <th>Población</th>\n",
       "      <th>Tasa de mortalidad por millón de habitantes</th>\n",
       "      <th>Tasa de letalidad por cien habitantes</th>\n",
       "    </tr>\n",
       "    <tr>\n",
       "      <th>País</th>\n",
       "      <th></th>\n",
       "      <th></th>\n",
       "      <th></th>\n",
       "      <th></th>\n",
       "      <th></th>\n",
       "    </tr>\n",
       "  </thead>\n",
       "  <tbody>\n",
       "    <tr>\n",
       "      <th>Colombia</th>\n",
       "      <td>1384610</td>\n",
       "      <td>38158</td>\n",
       "      <td>50883000</td>\n",
       "      <td>749.92</td>\n",
       "      <td>2.76</td>\n",
       "    </tr>\n",
       "  </tbody>\n",
       "</table>\n",
       "</div>"
      ],
      "text/plain": [
       "          Total_Casos  Fallecidos  Población  \\\n",
       "País                                           \n",
       "Colombia      1384610       38158   50883000   \n",
       "\n",
       "          Tasa de mortalidad por millón de habitantes  \\\n",
       "País                                                    \n",
       "Colombia                                       749.92   \n",
       "\n",
       "          Tasa de letalidad por cien habitantes  \n",
       "País                                             \n",
       "Colombia                                   2.76  "
      ]
     },
     "execution_count": 16,
     "metadata": {},
     "output_type": "execute_result"
    }
   ],
   "source": [
    "Tasas_mundiales.loc[pais].sort_values('Tasa de mortalidad por millón de habitantes')"
   ]
  },
  {
   "cell_type": "code",
   "execution_count": 17,
   "metadata": {},
   "outputs": [],
   "source": [
    "Tasas_mundiales.to_csv('Tasas_mundiales.csv')"
   ]
  },
  {
   "cell_type": "code",
   "execution_count": null,
   "metadata": {},
   "outputs": [],
   "source": []
  }
 ],
 "metadata": {
  "hide_input": false,
  "kernelspec": {
   "display_name": "Python 3",
   "language": "python",
   "name": "python3"
  },
  "language_info": {
   "codemirror_mode": {
    "name": "ipython",
    "version": 3
   },
   "file_extension": ".py",
   "mimetype": "text/x-python",
   "name": "python",
   "nbconvert_exporter": "python",
   "pygments_lexer": "ipython3",
   "version": "3.7.0"
  }
 },
 "nbformat": 4,
 "nbformat_minor": 4
}
