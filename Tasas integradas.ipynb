{
 "cells": [
  {
   "cell_type": "markdown",
   "metadata": {
    "slideshow": {
     "slide_type": "slide"
    }
   },
   "source": [
    "# Luis Evelio García Restrepo MD, MAS, EF\n",
    " \n",
    "##  Ensayos o pruebas de testeo o tamizaje aleatorizados"
   ]
  },
  {
   "cell_type": "markdown",
   "metadata": {
    "slideshow": {
     "slide_type": "slide"
    }
   },
   "source": [
    "# INTRODUCCIÓN "
   ]
  },
  {
   "cell_type": "markdown",
   "metadata": {
    "slideshow": {
     "slide_type": "subslide"
    }
   },
   "source": [
    "# Testeo o tamizaje\n",
    "\n",
    ">Identificación presuntiva de una enfermedad o defecto, mediante la aplicación de pruebas (\"test\"), exámenes físicos o cualquier otro procemiento que pueda ser rápidamente realizado.    \n",
    "\n",
    "###### US Commision of Chronic Illnes 1957"
   ]
  },
  {
   "cell_type": "markdown",
   "metadata": {
    "slideshow": {
     "slide_type": "slide"
    }
   },
   "source": [
    "### Ejemplos testeo o tamizaje:     "
   ]
  },
  {
   "cell_type": "markdown",
   "metadata": {
    "slideshow": {
     "slide_type": "subslide"
    }
   },
   "source": [
    "> Exámen físico."
   ]
  },
  {
   "cell_type": "markdown",
   "metadata": {
    "slideshow": {
     "slide_type": "subslide"
    }
   },
   "source": [
    "> Exámen clínico."
   ]
  },
  {
   "cell_type": "markdown",
   "metadata": {
    "slideshow": {
     "slide_type": "subslide"
    }
   },
   "source": [
    "> Historia clínica."
   ]
  },
  {
   "cell_type": "markdown",
   "metadata": {
    "slideshow": {
     "slide_type": "subslide"
    }
   },
   "source": [
    "> Test genético."
   ]
  },
  {
   "cell_type": "markdown",
   "metadata": {
    "slideshow": {
     "slide_type": "subslide"
    }
   },
   "source": [
    "> Imágenes diagnósticas:\n",
    "* Radiología convencional.\n",
    "* TAC.\n",
    "* RMN."
   ]
  },
  {
   "cell_type": "markdown",
   "metadata": {
    "slideshow": {
     "slide_type": "subslide"
    }
   },
   "source": [
    "> Laboratorio clínico:\n",
    "* Parcial de Orina.\n",
    "* Hemograma.\n",
    "* RT-PCR."
   ]
  },
  {
   "cell_type": "markdown",
   "metadata": {
    "slideshow": {
     "slide_type": "slide"
    }
   },
   "source": [
    "### Con sus estudios de validez...."
   ]
  },
  {
   "cell_type": "markdown",
   "metadata": {
    "slideshow": {
     "slide_type": "slide"
    }
   },
   "source": [
    "![](PruebarapidaIgMigG.png)"
   ]
  },
  {
   "cell_type": "markdown",
   "metadata": {
    "slideshow": {
     "slide_type": "subslide"
    }
   },
   "source": [
    "![](pruebarapidaTestlimitations.png)"
   ]
  },
  {
   "cell_type": "markdown",
   "metadata": {
    "slideshow": {
     "slide_type": "subslide"
    }
   },
   "source": [
    "![](pruebasRapidasRespuesta.png)"
   ]
  },
  {
   "cell_type": "code",
   "execution_count": null,
   "metadata": {},
   "outputs": [],
   "source": []
  },
  {
   "cell_type": "markdown",
   "metadata": {
    "slideshow": {
     "slide_type": "subslide"
    }
   },
   "source": [
    "![CDC](CDC.png)"
   ]
  },
  {
   "cell_type": "markdown",
   "metadata": {
    "slideshow": {
     "slide_type": "subslide"
    }
   },
   "source": [
    "![cdcTable](CDCTable.png)"
   ]
  },
  {
   "cell_type": "markdown",
   "metadata": {
    "slideshow": {
     "slide_type": "subslide"
    }
   },
   "source": [
    "![dataanalisis](CDCDataanalisis1.png)"
   ]
  },
  {
   "cell_type": "markdown",
   "metadata": {
    "slideshow": {
     "slide_type": "subslide"
    }
   },
   "source": [
    "![dataanalisis](CDCdataanalisis2.png)"
   ]
  },
  {
   "cell_type": "markdown",
   "metadata": {
    "slideshow": {
     "slide_type": "subslide"
    }
   },
   "source": [
    "#### ... y con su letra pequeña:"
   ]
  },
  {
   "cell_type": "markdown",
   "metadata": {
    "slideshow": {
     "slide_type": "subslide"
    }
   },
   "source": [
    "![resumen2](RTPCR1.png)"
   ]
  },
  {
   "cell_type": "markdown",
   "metadata": {
    "slideshow": {
     "slide_type": "subslide"
    }
   },
   "source": [
    "![resumen](RTPCR2.png)"
   ]
  },
  {
   "cell_type": "markdown",
   "metadata": {
    "slideshow": {
     "slide_type": "slide"
    }
   },
   "source": [
    "![indicar](indicativo.png)"
   ]
  },
  {
   "cell_type": "markdown",
   "metadata": {
    "slideshow": {
     "slide_type": "slide"
    }
   },
   "source": [
    "# PRUEBAS PARA  TAMIZAJE ALEATORIZADO (Randomized Screen Trial: RST)\n",
    "\n",
    "## Requisitos para un tamizaje exitoso (prerrequisitos y objetivos):"
   ]
  },
  {
   "cell_type": "markdown",
   "metadata": {
    "slideshow": {
     "slide_type": "subslide"
    }
   },
   "source": [
    "### Prerrequisitos\n",
    "1.  A. Que se realice para una enfermedad que impacte realmente el estado de salud de la población.\n",
    "    - Alta prevalencia.\n",
    "    - Alta tasa de mortalidad, discapacidad o minusvalía.\n",
    "    \n",
    "    B. Que la identificación temprana:\n",
    "    - Prevenga muertes o disminuya su número.\n",
    "    - Disminuya las secuelas en quienes sobrevivan a esta.\n",
    "    - Permita un tratamiento oportuno.\n",
    "    - Prolongue la sobrevivencia y supervivencia.\n",
    "    \n",
    "2. ***Que el tratamiento sea efectivo.***   Eficiente y eficaz. "
   ]
  },
  {
   "cell_type": "markdown",
   "metadata": {
    "slideshow": {
     "slide_type": "subslide"
    }
   },
   "source": [
    "### Prerrequisitos\n",
    "\n",
    "3. Que se pueda identificar la \"Fase Preclínica Detectable\". \n",
    "   Detectable PreClinical Phase (DPCP) "
   ]
  },
  {
   "cell_type": "markdown",
   "metadata": {
    "slideshow": {
     "slide_type": "subslide"
    }
   },
   "source": [
    "![DCPP](DPCP.png)"
   ]
  },
  {
   "cell_type": "markdown",
   "metadata": {
    "slideshow": {
     "slide_type": "subslide"
    }
   },
   "source": [
    "La DPCP puede ser:\n",
    "\n",
    "- Evidenciable.\n",
    "    \n",
    "- No evidenciable."
   ]
  },
  {
   "cell_type": "markdown",
   "metadata": {
    "slideshow": {
     "slide_type": "slide"
    }
   },
   "source": [
    "### Objetivos del tamizaje y requisitos para un tamizaje exitoso:\n",
    "\n",
    "### I.  OBJETIVO:  **Mejorar** el tamizaje o testeo...\n",
    "\n",
    "#### USTED tiene que seleccionar una prueba que:\n",
    "\n",
    "-  Disminuya los falsos positivos.\n",
    "-  Testee solamente la ***población en alto riesgo***."
   ]
  },
  {
   "cell_type": "markdown",
   "metadata": {
    "slideshow": {
     "slide_type": "subslide"
    }
   },
   "source": [
    "### Objetivos del tamizaje y requisitos para un tamizaje exitoso:\n",
    "\n",
    "### I.  OBJETIVO:  **Mejorar** el tamizaje o testeo...\n",
    "\n",
    "#### USTED tiene que seleccionar una prueba que:\n",
    "\n",
    "-  Disminuya los falsos positivos.\n",
    "\n",
    "# ¿ Por qué ?\n",
    "\n",
    "###  USTED DEBE TRATAR DE MINIMIZAR LOS FALSOS POSITIVOS PARA EVITAR PROCEDIMIENTOS ADICIONALES."
   ]
  },
  {
   "cell_type": "markdown",
   "metadata": {
    "slideshow": {
     "slide_type": "slide"
    }
   },
   "source": [
    "# ¿ Por qué ?"
   ]
  },
  {
   "cell_type": "markdown",
   "metadata": {
    "slideshow": {
     "slide_type": "subslide"
    }
   },
   "source": [
    "Consecuencias de falsos resultados:\n",
    "\n",
    "Falsos positivos:\n",
    "- Morbilidad asociada con pruebas diagnósticas subsecuentes.\n",
    "- Costo psicológico:\n",
    "    - Temor.\n",
    "    - Estigmatización.\n",
    "- Afectación del bienestar de la persona y su entorno.\n",
    "- Costo económico para el paciente y su entorno familiar, social y laboral.\n",
    "- Mayores gastos de recursos del sistema de salud.\n",
    "- Reducción del presupuesto para la atención de otras patologías."
   ]
  },
  {
   "cell_type": "markdown",
   "metadata": {
    "slideshow": {
     "slide_type": "subslide"
    }
   },
   "source": [
    "Consecuencias de falsos resultados:\n",
    "\n",
    "Falsos negativos:\n",
    "- No detectar a tiempo una patología que en su etapa inicial es tratable.\n",
    "- Avance de la enfermedad y mayores costos de tratamiento o cuidados paliativos en etapas avanzadas."
   ]
  },
  {
   "cell_type": "markdown",
   "metadata": {
    "slideshow": {
     "slide_type": "subslide"
    }
   },
   "source": [
    "### Objetivos del tamizaje y requisitos para un tamizaje exitoso:\n",
    "\n",
    "### I.  OBJETIVO:  **Mejorar** el tamizaje o testeo...\n",
    "\n",
    "#### USTED tiene que seleccionar una prueba que:\n",
    "\n",
    "- Testee únicamente la ***población en alto riesgo***.\n",
    "\n",
    "### PARA QUE SEA MÁS FACTIBLE DETERMINAR LA PREVALENCIA DE LA ENFERMEDAD Y ASÍ INCREMENTAR EL VALOR PREDICTIVO POSITIVO (VPP)....\n",
    "\n",
    "#### VPP ==> Lo analizaremos en detalle más adelante..."
   ]
  },
  {
   "cell_type": "markdown",
   "metadata": {
    "slideshow": {
     "slide_type": "slide"
    }
   },
   "source": [
    "### Objetivos del tamizaje y requisitos para un tamizaje exitoso:\n",
    "\n",
    "### II. OBJETIVO:  Factibilidad del testeo o tamizaje."
   ]
  },
  {
   "cell_type": "markdown",
   "metadata": {
    "slideshow": {
     "slide_type": "subslide"
    }
   },
   "source": [
    "> Libre de molestia significativa !\n",
    "\n",
    "\n",
    "\n"
   ]
  },
  {
   "cell_type": "markdown",
   "metadata": {
    "slideshow": {
     "slide_type": "subslide"
    }
   },
   "source": [
    "> Eficiente y económico.   Recuerde que eficiente es la conjunción entre eficacia y efectividad."
   ]
  },
  {
   "cell_type": "markdown",
   "metadata": {
    "slideshow": {
     "slide_type": "subslide"
    }
   },
   "source": [
    "> Que la persona acepte el seguimiento y que este sea posible."
   ]
  },
  {
   "cell_type": "markdown",
   "metadata": {
    "slideshow": {
     "slide_type": "subslide"
    }
   },
   "source": [
    "> Alta especificidad."
   ]
  },
  {
   "cell_type": "markdown",
   "metadata": {
    "slideshow": {
     "slide_type": "subslide"
    }
   },
   "source": [
    "> El testeo o tamizaje debe derivar en la disminución efectiva de efectos adversos."
   ]
  },
  {
   "cell_type": "markdown",
   "metadata": {
    "slideshow": {
     "slide_type": "slide"
    }
   },
   "source": [
    "# Resumiendo hasta ahora:"
   ]
  },
  {
   "cell_type": "markdown",
   "metadata": {
    "slideshow": {
     "slide_type": "subslide"
    }
   },
   "source": [
    "> Prerrequisitos:  \n",
    "- Alto impacto  <== Alta prevalencia, morbilidad y mortalidad.\n",
    "- Tratamiento disponible."
   ]
  },
  {
   "cell_type": "markdown",
   "metadata": {
    "slideshow": {
     "slide_type": "subslide"
    }
   },
   "source": [
    "> Modalidades de testeo o tamizaje con *buenas características*  \n",
    "- Sensibilidad.\n",
    "- Especificidad."
   ]
  },
  {
   "cell_type": "markdown",
   "metadata": {
    "slideshow": {
     "slide_type": "subslide"
    }
   },
   "source": [
    "> Testear o tamizar en población de alto riesgo.\n",
    "- Incrementa la prevalencia y por ende el VPP."
   ]
  },
  {
   "cell_type": "markdown",
   "metadata": {
    "slideshow": {
     "slide_type": "subslide"
    }
   },
   "source": [
    "> Factibilidad ***real*** para hacer el testeo o tamizaje."
   ]
  },
  {
   "cell_type": "markdown",
   "metadata": {
    "slideshow": {
     "slide_type": "slide"
    }
   },
   "source": [
    "# ¿ RECONOZCO LAS CARACTERÍSTICAS **ESENCIALES** DEL TESTEO O TAMIZAJE... ?"
   ]
  },
  {
   "cell_type": "markdown",
   "metadata": {
    "slideshow": {
     "slide_type": "subslide"
    }
   },
   "source": [
    "> Evaluación de las pruebas o ensayos TT.\n",
    "\n",
    "> Objetivos de las pruebas o ensayos TT.\n",
    "\n",
    "> ~Prueba diagnóstica.\n",
    "\n",
    "> Presunción."
   ]
  },
  {
   "cell_type": "markdown",
   "metadata": {
    "slideshow": {
     "slide_type": "slide"
    }
   },
   "source": [
    "# ¿ RECONOZCO LAS CARACTERÍSTICAS **ESENCIALES** DEL TESTEO O TAMIZAJE... ?"
   ]
  },
  {
   "cell_type": "markdown",
   "metadata": {
    "slideshow": {
     "slide_type": "subslide"
    }
   },
   "source": [
    "### Evaluación de las pruebas o ensayos TT\n",
    "\n",
    "#### Concepto básicos generales de toda medición"
   ]
  },
  {
   "cell_type": "markdown",
   "metadata": {
    "slideshow": {
     "slide_type": "slide"
    }
   },
   "source": [
    "![](evalua0.png)"
   ]
  },
  {
   "cell_type": "markdown",
   "metadata": {
    "slideshow": {
     "slide_type": "slide"
    }
   },
   "source": [
    "![](evalua1.png)"
   ]
  },
  {
   "cell_type": "markdown",
   "metadata": {
    "slideshow": {
     "slide_type": "slide"
    }
   },
   "source": [
    "![](evalua2.png)"
   ]
  },
  {
   "cell_type": "markdown",
   "metadata": {
    "slideshow": {
     "slide_type": "slide"
    }
   },
   "source": [
    "![](evalua3.png)"
   ]
  },
  {
   "cell_type": "markdown",
   "metadata": {
    "slideshow": {
     "slide_type": "slide"
    }
   },
   "source": [
    "![](evalua4.png)"
   ]
  },
  {
   "cell_type": "markdown",
   "metadata": {
    "slideshow": {
     "slide_type": "slide"
    }
   },
   "source": [
    "![](evalua5.png)"
   ]
  },
  {
   "cell_type": "markdown",
   "metadata": {
    "slideshow": {
     "slide_type": "slide"
    }
   },
   "source": [
    "![](evalua6.png)"
   ]
  },
  {
   "cell_type": "markdown",
   "metadata": {
    "slideshow": {
     "slide_type": "slide"
    }
   },
   "source": [
    "![](evalua7.png)"
   ]
  },
  {
   "cell_type": "markdown",
   "metadata": {
    "slideshow": {
     "slide_type": "slide"
    }
   },
   "source": [
    "![](evalua8.png)"
   ]
  },
  {
   "cell_type": "markdown",
   "metadata": {
    "slideshow": {
     "slide_type": "slide"
    }
   },
   "source": [
    "![](concept1.png)"
   ]
  },
  {
   "cell_type": "markdown",
   "metadata": {
    "slideshow": {
     "slide_type": "slide"
    }
   },
   "source": [
    "![](concept22.png)"
   ]
  },
  {
   "cell_type": "markdown",
   "metadata": {
    "slideshow": {
     "slide_type": "slide"
    }
   },
   "source": [
    "![](concept33.png)"
   ]
  },
  {
   "cell_type": "markdown",
   "metadata": {
    "slideshow": {
     "slide_type": "slide"
    }
   },
   "source": [
    "### Evaluación de las pruebas o ensayos TT"
   ]
  },
  {
   "cell_type": "markdown",
   "metadata": {
    "slideshow": {
     "slide_type": "subslide"
    }
   },
   "source": [
    "> Evaluación de las pruebas o ensayos TT:\n",
    "- Medidas de validez.\n",
    "- Medidas de utilidad clínica."
   ]
  },
  {
   "cell_type": "markdown",
   "metadata": {
    "slideshow": {
     "slide_type": "slide"
    }
   },
   "source": [
    "### Evaluación de las pruebas o ensayos TT"
   ]
  },
  {
   "cell_type": "markdown",
   "metadata": {
    "slideshow": {
     "slide_type": "subslide"
    }
   },
   "source": [
    "### Medidas de validez:\n",
    "\n",
    "#### Sensibilidad y especificidad.\n",
    "\n",
    "# Que tan bueno es el test !!!"
   ]
  },
  {
   "cell_type": "markdown",
   "metadata": {
    "slideshow": {
     "slide_type": "slide"
    }
   },
   "source": [
    "### Evaluación de las pruebas o ensayos TT"
   ]
  },
  {
   "cell_type": "markdown",
   "metadata": {
    "slideshow": {
     "slide_type": "subslide"
    }
   },
   "source": [
    "### Medidas de utilidad clínica:\n",
    "\n",
    "> Factibilidad.\n",
    "\n",
    "> Criterio de positividad.\n",
    "\n",
    "> Curva R.O.C.\n",
    "\n"
   ]
  },
  {
   "cell_type": "markdown",
   "metadata": {
    "slideshow": {
     "slide_type": "slide"
    }
   },
   "source": [
    "### Medidas de utilidad clínica:\n",
    "\n",
    "> Factibilidad:\n",
    "- Valor predictivo positivo ==> VPP\n",
    "- Valor predictivo negativo ==> VPN\n",
    "\n",
    "> Criterio de positividad.\n",
    "\n",
    "> Curva R.O.C.\n",
    "\n"
   ]
  },
  {
   "cell_type": "markdown",
   "metadata": {
    "slideshow": {
     "slide_type": "slide"
    }
   },
   "source": [
    "### Medidas de utilidad clínica:\n",
    "\n",
    "> Factibilidad.\n",
    "\n",
    "> Criterio de positividad.*\n",
    "\n",
    "> Curva R.O.C.\n",
    "\n"
   ]
  },
  {
   "cell_type": "markdown",
   "metadata": {
    "slideshow": {
     "slide_type": "slide"
    }
   },
   "source": [
    "# Criterio de positividad:\n",
    "\n",
    "###  Nivel que se debe alcanzar, para considerar un resultado de un test como positivo.\n",
    "\n",
    "###  La definición de un \"resultado positivo\", puede ser alterada voluntariamente:\n",
    "\n",
    "####  Si se incrementa la sensibilidad pero se disminuye la especificidad ==> Criterio de positividad bajo.\n",
    "\n",
    "####  Si se disminuye la sensibilidad y se incrementa la especificidad       ==> Criterio de positividad alto."
   ]
  },
  {
   "cell_type": "markdown",
   "metadata": {
    "slideshow": {
     "slide_type": "slide"
    }
   },
   "source": [
    "![CP](CON1.png)"
   ]
  },
  {
   "cell_type": "markdown",
   "metadata": {
    "slideshow": {
     "slide_type": "subslide"
    }
   },
   "source": [
    "![CP](CON2.png)"
   ]
  },
  {
   "cell_type": "markdown",
   "metadata": {
    "slideshow": {
     "slide_type": "subslide"
    }
   },
   "source": [
    "![CP](CON3.png)"
   ]
  },
  {
   "cell_type": "markdown",
   "metadata": {
    "slideshow": {
     "slide_type": "subslide"
    }
   },
   "source": [
    "![CP](CON4.png)"
   ]
  },
  {
   "cell_type": "markdown",
   "metadata": {
    "slideshow": {
     "slide_type": "subslide"
    }
   },
   "source": [
    "![CP](CON5.png)"
   ]
  },
  {
   "cell_type": "markdown",
   "metadata": {
    "slideshow": {
     "slide_type": "subslide"
    }
   },
   "source": [
    "![CP](CON6.png)"
   ]
  },
  {
   "cell_type": "markdown",
   "metadata": {
    "slideshow": {
     "slide_type": "subslide"
    }
   },
   "source": [
    "![CP](CON7.png)"
   ]
  },
  {
   "cell_type": "markdown",
   "metadata": {
    "slideshow": {
     "slide_type": "subslide"
    }
   },
   "source": [
    "![CP](CON8.png)"
   ]
  },
  {
   "cell_type": "markdown",
   "metadata": {
    "slideshow": {
     "slide_type": "slide"
    }
   },
   "source": [
    "# Criterio de positividad:\n",
    "\n",
    "## Para poder establecerlo, primero ES INDISPENSABLE contar con un método de diagnóstico para la patología ==> \"Gold Standard\"\n",
    "\n",
    "### Establece el verdadero estado frente a una patología.\n",
    "\n",
    "#### Ejemplo:   Para el cáncer de seno, es el estudio histopatológico de muestra obtenida por biopsia.\n",
    "\n"
   ]
  },
  {
   "cell_type": "markdown",
   "metadata": {
    "slideshow": {
     "slide_type": "slide"
    }
   },
   "source": [
    "# Para establecer el Criterio de positividad:\n",
    "\n",
    "## Comparar el \"GOLD STANDARD\" vs. \"la prueba o ensayo para testeo o tamizaje\".\n",
    "\n",
    "## Para determinar que tan exacto y válido es la prueba o ensayo TT con respecto al \"Gold Standard\".\n",
    "\n"
   ]
  },
  {
   "cell_type": "markdown",
   "metadata": {
    "slideshow": {
     "slide_type": "subslide"
    }
   },
   "source": [
    "                              Gold Standard   \n",
    "  \n",
    "\n",
    "|      |     |       +      |       -      |\n",
    "|:-----|:---:|:------------:|:------------:|\n",
    "|Screen|  +  | Verdadero  + | Falso +      |\n",
    "|test  |  -  | Falso +      | Verdadero  - |\n",
    "          \n",
    "\n"
   ]
  },
  {
   "cell_type": "markdown",
   "metadata": {
    "slideshow": {
     "slide_type": "slide"
    }
   },
   "source": [
    "# El criterio de positividad puede ser alterado para que más resultados resulten positivos....\n",
    "\n",
    "                                      Patología\n",
    "                                    Gold Standard\n",
    "\n",
    "\n",
    "|          |     |       +      |       -      |        |\n",
    "|:---------|:------:|:------------:|:------------:|:------:|\n",
    "|          |    +   |      800     |      3.200      |   4.000   |\n",
    "|Test      |    -   |      100      |    95.900      |  96.000   |\n",
    "|          |        |      900      |    99.100      | 100.000   |\n",
    "\n",
    "Población = 100.000 ____________________________________ Sensibilidad =  800 / 900  ==> 88,88 %\n",
    "\n",
    "Prevalencia =  0,009 ___________________________________ Especificidad = 95.900 / 99.100 ==>  96,77%\n",
    "\n",
    "\n",
    "\n"
   ]
  },
  {
   "cell_type": "markdown",
   "metadata": {
    "slideshow": {
     "slide_type": "slide"
    }
   },
   "source": [
    "# Se puede adoptar un corte que incremente la sensibilidad (lograr más resultados positivos) :\n",
    "\n",
    "                                                         Patología\n",
    "                                                      Gold Standard\n",
    "\n",
    "\n",
    "|          |     |       +      |       -      |        |\n",
    "|:---------|:------:|:------------:|:------------:|:------:|\n",
    "|          |    +   |    895     |     3.295      |   4.190   |\n",
    "|Test      |    -   |      5     |    95.805      |  95.810   |\n",
    "|          |        |    900     |    99.100      | 100.000   |\n",
    "\n",
    "Población = 100.000\n",
    "\n",
    "Prevalencia =  0,009\n",
    "\n",
    "Sensibilidad =  895 / 900  ==> 99,44 %  Aumenta la sensibilidad y disminuyen los falsos negativos.\n",
    "\n",
    "Especificidad = 95.805 / 99.100 ==>  96,67%  Disminuye la especificidad y aumentan los falsos positivos."
   ]
  },
  {
   "cell_type": "markdown",
   "metadata": {
    "slideshow": {
     "slide_type": "slide"
    }
   },
   "source": [
    "###  Ejercicio para establecer el criterio de positividad  de la mamografía ante el cáncer de mama:"
   ]
  },
  {
   "cell_type": "markdown",
   "metadata": {
    "slideshow": {
     "slide_type": "slide"
    }
   },
   "source": [
    "###  Ejercicio para establecer el criterio de positividad de la mamografía ante el cáncer de mama:\n",
    "\n",
    "\n",
    "\n",
    "> Prerrequisitos:  \n",
    "- Alto impacto  <== Alta prevalencia, morbilidad y mortalidad.\n",
    "\n",
    "### Sí.  Cáncer más común entre las mujeres.  Alta morbilidad y mortalidad.\n",
    "\n",
    "> Prerrequisitos:  \n",
    "- Tratamiento disponible.\n",
    "\n",
    "### Sí.   Detectado a tiempo, hay tratamiento disponible."
   ]
  },
  {
   "cell_type": "markdown",
   "metadata": {
    "slideshow": {
     "slide_type": "slide"
    }
   },
   "source": [
    "###  Ejercicio para establecer el criterio de positividad de la mamografía ante el cáncer de mama:\n",
    "\n",
    "> Gold Standard\n",
    "\n",
    "### Sí hay estudio \"Gold Standard\" ==>  Estudio histopatológica de muestra obtenida por biopsia."
   ]
  },
  {
   "cell_type": "markdown",
   "metadata": {
    "slideshow": {
     "slide_type": "slide"
    }
   },
   "source": [
    "###  Ejercicio para establecer el criterio de positividad de la mamografía ante el cáncer de mama:\n",
    "\n",
    "> Modalidades de testeo o tamizaje con *buenas características*  \n",
    "- Sensibilidad.\n",
    "- Especificidad.\n",
    "- Valor predictivo positivo.\n",
    "- Valor predictivo negativo.\n",
    "\n",
    "                                                        Histopatología\n",
    "                                                        Cáncer de mama\n",
    "\n",
    "\n",
    "|          |     |       +      |       -      |        |\n",
    "|:---------|:------:|:------------:|:------------:|:------:|\n",
    "|          |    +   |      42      |      18      |   60   |\n",
    "|Mamografía|    -   |       8      |     132      |  140   |\n",
    "|          |        |      50      |     150      |  200   |\n",
    "\n",
    "\n",
    "\n",
    "Sensibilidad =   42   / 50    ==>  84 %\n",
    "\n",
    "Especificidad =  132 / 150    ==>  88 %\n",
    "\n",
    "\n",
    "### Sí.       Sensibilidad del 84%.   Especificidad del 88%.  \n",
    "### Evidenciadas **apropiadamente** en estudios clínicos aleatorizados doble ciego, cuya ***validez interna ha sido comprobada  por el análisis crítico adecuado y por ende se puede generalizar.***"
   ]
  },
  {
   "cell_type": "markdown",
   "metadata": {
    "slideshow": {
     "slide_type": "slide"
    }
   },
   "source": [
    "###  Ejercicio para establecer el criterio de positividad de la mamografía ante el cáncer de mama:\n",
    "\n",
    "### Rendimiento de la prueba:\n",
    "\n",
    "#### Valor predictivo positivo (VPP):  Cuantos de los que tuvieron un resultado positivo, realmente están en estadío preclínico de la patología.\n",
    "\n",
    "                                                       Gold Standard   \n",
    "\n",
    "\n",
    "|      |     |       +      |       -      ||\n",
    "|:-----|:---:|:------------:|:------------:|:---:|\n",
    "|Screen|  +  | ***A*** | b | ***A + B*** |\n",
    "|test  |  -  | c | d | c + d |\n",
    "|      |     |a + c | b + d | T |\n",
    "\n",
    "\n",
    "\n",
    "VPP = A / A + B"
   ]
  },
  {
   "cell_type": "markdown",
   "metadata": {
    "slideshow": {
     "slide_type": "slide"
    }
   },
   "source": [
    "###  Ejercicio para establecer el criterio de positividad de la mamografía ante el cáncer de mama:\n",
    "\n",
    "### Rendimiento de la prueba:\n",
    "\n",
    "#### Valor predictivo negativo (VPN):  Cuantos de los que tuvieron un resultado negativo, realmente NO están en estadío preclínico de la patología.\n",
    "\n",
    "                                                      Gold Standard   \n",
    "\n",
    "\n",
    "|      |     |       +      |       -      ||\n",
    "|:-----|:---:|:------------:|:------------:|:---:|\n",
    "|Screen|  +  | a | b | a + b |\n",
    "|test  |  -  | c | ***D*** | ***C + D*** |\n",
    "|      |     |a + c | b + d | T |\n",
    "\n",
    "\n",
    "\n",
    "VPN = D / C + D"
   ]
  },
  {
   "cell_type": "markdown",
   "metadata": {
    "slideshow": {
     "slide_type": "slide"
    }
   },
   "source": [
    "###  Ejercicio para establecer el criterio de positividad de la mamografía ante el cáncer de mama:\n",
    "    \n",
    " \n",
    "                                                         Histopatología\n",
    "                                                         Cáncer de mama\n",
    "\n",
    "\n",
    "|          |     |       +      |       -      |        |\n",
    "|:---------|:------:|:------------:|:------------:|:------:|\n",
    "|          |    +   |      42      |      18      |   60   |\n",
    "|Mamografía|    -   |       8      |     132      |  140   |\n",
    "|          |        |      50      |     150      |  200   |\n",
    "\n",
    "\n",
    "\n",
    "VPP =   42   / 60    ==>  79 %\n",
    "\n",
    "VPN =  132  / 140    ==>  94,3 % "
   ]
  },
  {
   "cell_type": "markdown",
   "metadata": {
    "slideshow": {
     "slide_type": "slide"
    }
   },
   "source": [
    "###  Ejercicio para establecer el criterio de positividad de la mamografía ante el cáncer de mama:\n",
    "\n",
    "> Factibilidad del testeo o tamizaje.\n",
    "\n",
    "- Libre de molestia significativa !\n",
    "\n",
    "### Sí.  Y la irradiación, aunque hay que tenerla presente, es baja.\n",
    "\n",
    "- Eficiente y económico.  \n",
    "\n",
    "### Sí."
   ]
  },
  {
   "cell_type": "markdown",
   "metadata": {
    "slideshow": {
     "slide_type": "slide"
    }
   },
   "source": [
    "###  Ejercicio para establecer el criterio de positividad de la mamografía ante el cáncer de mama:\n",
    "\n",
    "- Que la persona acepte el seguimiento y que este sea posible.\n",
    "\n",
    "### Sí.\n",
    "\n",
    "- Alta especificidad.\n",
    "\n",
    "### Sí.\n",
    "\n",
    "- El testeo o tamizaje debe derivar en la disminución efectiva de efectos adversos.\n",
    "\n",
    "### Sí."
   ]
  },
  {
   "cell_type": "markdown",
   "metadata": {
    "slideshow": {
     "slide_type": "slide"
    }
   },
   "source": [
    "### ¿ La mamografía es un test de tamizaje adecuado ante el cáncer de mama ?\n",
    "\n",
    "# SÍ !   ...hasta que aparezca un test de tamizaje con mejores características !"
   ]
  },
  {
   "cell_type": "markdown",
   "metadata": {
    "slideshow": {
     "slide_type": "slide"
    }
   },
   "source": [
    "# Determinantes del valor predictivo\n",
    "> Prevalencia de enfermedad preclínica detectable.\n",
    "\n",
    "> ¡ Especificidad !\n",
    "\n",
    "> Sensibilidad\n",
    "\n",
    "                                                        Patología\n",
    "                                                      Gold Standard\n",
    "\n",
    "\n",
    "|          |     |       +      |       -      |        |\n",
    "|:---------|:------:|:------------:|:------------:|:------:|\n",
    "|          |    +   |      800     |      3.200      |   4.000   |\n",
    "|Test      |    -   |      100      |    95.900      |  96.000   |\n",
    "|          |        |      900      |    99.100      | 100.000   |\n",
    "\n",
    "\n",
    "\n",
    "Población = 100.000\n",
    "\n",
    "Prevalencia =  0,009\n",
    "\n",
    "Sensibilidad =  800 / 900  ==> 88,88 %\n",
    "\n",
    "Especificidad = 95.900 / 99.100 ==>  96,77%\n",
    "\n",
    "VPP =   800   / 4.000    ==>  20 %\n",
    "\n",
    "VPN =  95.900  / 96.000    ==>  99,896 %   "
   ]
  },
  {
   "cell_type": "markdown",
   "metadata": {
    "slideshow": {
     "slide_type": "slide"
    }
   },
   "source": [
    "# Determinantes del valor predictivo\n",
    "\n",
    "> Prevalencia de enfermedad preclínica detectable.\n",
    "\n",
    "> ¡ Especificidad !\n",
    "\n",
    "> Sensibilidad\n",
    "\n",
    "####  Si la prevalencia de la enfermedad en su fase preclínica detectable INCREMENTA:\n",
    "                                                        Patología\n",
    "                                                      Gold Standard\n",
    "\n",
    "\n",
    "|          |     |       +      |       -      |        |\n",
    "|:---------|:------:|:------------:|:------------:|:------:|\n",
    "|          |    +   |    1.000     |      3.200      |   4.200   |\n",
    "|Test      |    -   |      100      |    95.700      |  95.800   |\n",
    "|          |        |    1.100      |    98.900      | 100.000   |\n",
    "\n",
    "\n",
    "\n",
    "Población      =       100.000\n",
    "\n",
    "Prevalencia    =       0,011\n",
    "\n",
    "Sensibilidad   =       1.000    /    1.100    ==>  90,9   %  \n",
    "\n",
    "Especificidad  =      95.700    /   98.900    ==>  96,76  %\n",
    "\n",
    "VPP            =       1.000    /    4.200    ==>  23,8   %         AUMENTA\n",
    "\n",
    "VPN            =      95.700    /   95.800    ==>  99,895 % "
   ]
  },
  {
   "cell_type": "markdown",
   "metadata": {
    "slideshow": {
     "slide_type": "slide"
    }
   },
   "source": [
    "# ¿ RECONOZCO LAS CARACTERÍSTICAS **ESENCIALES** DEL TESTEO O TAMIZAJE... ?"
   ]
  },
  {
   "cell_type": "markdown",
   "metadata": {
    "slideshow": {
     "slide_type": "subslide"
    }
   },
   "source": [
    "### Objetivo de las pruebas o ensayos TT:\n",
    "\n",
    "# Buscar tempranamente población asintomática afectada por la patología."
   ]
  },
  {
   "cell_type": "markdown",
   "metadata": {
    "slideshow": {
     "slide_type": "slide"
    }
   },
   "source": [
    "# ¿ RECONOZCO LAS CARACTERÍSTICAS **ESENCIALES** DEL TESTEO O TAMIZAJE... ?"
   ]
  },
  {
   "cell_type": "markdown",
   "metadata": {
    "slideshow": {
     "slide_type": "subslide"
    }
   },
   "source": [
    "###  ~Prueba diagnóstica: \n",
    "\n",
    "# NO ES UNA PRUEBA DIAGNÓSTICA !!!!!!"
   ]
  },
  {
   "cell_type": "markdown",
   "metadata": {
    "slideshow": {
     "slide_type": "slide"
    }
   },
   "source": [
    "# ¿ RECONOZCO LAS CARACTERÍSTICAS **ESENCIALES** DEL TESTEO O TAMIZAJE... ?"
   ]
  },
  {
   "cell_type": "markdown",
   "metadata": {
    "slideshow": {
     "slide_type": "subslide"
    }
   },
   "source": [
    "### Presunción:  \n",
    "\n",
    "# La detección temprana hará el pronóstico  más favorable."
   ]
  },
  {
   "cell_type": "markdown",
   "metadata": {
    "slideshow": {
     "slide_type": "slide"
    }
   },
   "source": [
    "### Medidas de utilidad clínica:\n",
    "\n",
    "> Factibilidad.\n",
    "\n",
    "> Criterio de positividad.\n",
    "\n",
    "> Curva R.O.C. *\n",
    "\n"
   ]
  },
  {
   "cell_type": "markdown",
   "metadata": {
    "slideshow": {
     "slide_type": "slide"
    }
   },
   "source": [
    "# Curva R.O.C.:   Receiver Operating Characteristic Curve (R.O.C.)\n",
    "\n",
    "## Permite apreciar como la sensibilidad y la especificidad interactúan en una prueba de testeo o tamizaje, aprecidados en diferentes zonas sobre un nivel continuo."
   ]
  },
  {
   "cell_type": "markdown",
   "metadata": {
    "slideshow": {
     "slide_type": "slide"
    }
   },
   "source": [
    "![ROC1](ROC1.png)"
   ]
  },
  {
   "cell_type": "markdown",
   "metadata": {
    "slideshow": {
     "slide_type": "subslide"
    }
   },
   "source": [
    "![ROC1](ROC2.png)"
   ]
  },
  {
   "cell_type": "markdown",
   "metadata": {
    "slideshow": {
     "slide_type": "subslide"
    }
   },
   "source": [
    "![ROC1](ROC3.png)"
   ]
  },
  {
   "cell_type": "markdown",
   "metadata": {
    "slideshow": {
     "slide_type": "subslide"
    }
   },
   "source": [
    "![ROC1](ROC4.png)"
   ]
  },
  {
   "cell_type": "markdown",
   "metadata": {
    "slideshow": {
     "slide_type": "subslide"
    }
   },
   "source": [
    "![ROC1](ROC5.png)"
   ]
  },
  {
   "cell_type": "markdown",
   "metadata": {
    "slideshow": {
     "slide_type": "subslide"
    }
   },
   "source": [
    "![ROC1](ROC6.png)"
   ]
  },
  {
   "cell_type": "markdown",
   "metadata": {
    "slideshow": {
     "slide_type": "subslide"
    }
   },
   "source": [
    "![ROC1](ROC7.png)"
   ]
  },
  {
   "cell_type": "markdown",
   "metadata": {
    "slideshow": {
     "slide_type": "slide"
    }
   },
   "source": [
    "# ¿ Cómo saber si una prueba de testeo o tamizaje sirve ?"
   ]
  },
  {
   "cell_type": "markdown",
   "metadata": {
    "slideshow": {
     "slide_type": "subslide"
    }
   },
   "source": [
    "## Comprendiendo y validando factores claves  en el diseño de un estudio eficaz de testeo o tamizaje:\n",
    "\n",
    "> Medidas de eficacia.\n",
    "\n",
    "> Sesgos.\n",
    "\n",
    "> Diseño epidemiológico del estudio.\n"
   ]
  },
  {
   "cell_type": "markdown",
   "metadata": {
    "slideshow": {
     "slide_type": "slide"
    }
   },
   "source": [
    "# ¿ Cómo saber si una prueba de testeo o tamizaje sirve ?"
   ]
  },
  {
   "cell_type": "markdown",
   "metadata": {
    "slideshow": {
     "slide_type": "subslide"
    }
   },
   "source": [
    "## y además...\n",
    "\n",
    "### Comparando los resultados.\n",
    "- Entre la población que fue tamizada y la que no lo fue.\n",
    "\n",
    "## y verificando si:\n",
    "\n",
    "### ¿ El diseño epidemiológico soporta su propia evaluación ?\n",
    "\n",
    "### ¿ Surgió de estudios de observación o de ensayos fase III ?\n",
    "\n",
    "### ¿ Se conocen y controlaron las variables de \"confusión\" ?\n"
   ]
  },
  {
   "cell_type": "markdown",
   "metadata": {
    "slideshow": {
     "slide_type": "slide"
    }
   },
   "source": [
    "## Comprendiendo y validando factores claves  en el diseño de un estudio eficaz de testeo o tamizaje:\n",
    "\n",
    "> Medidas de eficacia.*\n",
    "\n",
    "Ensayo clínico aleatorizado ciego o doble ciego, fase III, que soporte el análisis crítico y evidencie su validez interna.\n",
    "\n",
    "> Sesgos.\n",
    "\n",
    "> Diseño epidemiológico del estudio.\n"
   ]
  },
  {
   "cell_type": "markdown",
   "metadata": {
    "slideshow": {
     "slide_type": "slide"
    }
   },
   "source": [
    "## Comprendiendo y validando factores claves  en el diseño de un estudio eficaz de testeo o tamizaje:\n",
    "\n",
    "> Medidas de eficacia.\n",
    "\n",
    "> Sesgos.*\n",
    "\n",
    "> Diseño epidemiológico del estudio.\n"
   ]
  },
  {
   "cell_type": "markdown",
   "metadata": {
    "slideshow": {
     "slide_type": "slide"
    }
   },
   "source": [
    "## Comprendiendo y validando factores claves  en el diseño de un estudio eficaz de testeo o tamizaje:\n",
    "\n",
    "### Sesgos (bias):\n",
    "\n",
    "#### 'Over diagnosis bias':  Afecta la INCIDENCIA.   Se encuentran más casos de la patología en el grupo testeado.\n",
    "\n",
    "##### 'Over diagnosis' es el diagnóstico de una enfermedad que nunca causará síntomas durante la vida del ser, ni su muerte.\n",
    "\n",
    "#####  El sesgo de \"sobre diagnóstico\", genera el incremento del número de casos detectados, que se refleja en la incidencia o prevalencia de la patología, pero cuyo riesgo se sobreestima, generando sobreactuación y consumo de recursos que debieran ser utilizados en la atención de otras patologías prevalentes y de mayor morbilidad o mortalidad."
   ]
  },
  {
   "cell_type": "markdown",
   "metadata": {
    "slideshow": {
     "slide_type": "slide"
    }
   },
   "source": [
    "## Comprendiendo y validando factores claves  en el diseño de un estudio eficaz de testeo o tamizaje:\n",
    "\n",
    "#####  El sesgo de \"sobre diagnóstico\", \n",
    "\n",
    "# se corrige comparando tasas de mortalidad específicas por edad."
   ]
  },
  {
   "cell_type": "markdown",
   "metadata": {
    "slideshow": {
     "slide_type": "slide"
    }
   },
   "source": [
    "## Comprendiendo y validando factores claves  en el diseño de un estudio eficaz de testeo o tamizaje:\n",
    "\n",
    "### Sesgos (bias):\n",
    "\n",
    "#### 'Lead Time bias':  Afecta la SOBREVIVENCIA.   Pacientes identificados con la prueba, vivirán más, que quienes obtuvieron un resultado negativo en la prueba.\n",
    "\n",
    "#####  El sesgo de \"tiempo de espera\", genera la falsa percepción que quienes son detectados por el tamizaje vivirán por más tiempo, que los que el tamizaje no detecta."
   ]
  },
  {
   "cell_type": "markdown",
   "metadata": {
    "slideshow": {
     "slide_type": "slide"
    }
   },
   "source": [
    "## Comprendiendo y validando factores claves  en el diseño de un estudio eficaz de testeo o tamizaje:\n",
    "\n",
    "#####  El sesgo de \"tiempo de espera\",\n",
    "\n",
    "# también se corrige comparando tasas de mortalidad específicas por edad."
   ]
  },
  {
   "cell_type": "markdown",
   "metadata": {
    "slideshow": {
     "slide_type": "slide"
    }
   },
   "source": [
    "## Comprendiendo y validando factores claves  en el diseño de un estudio eficaz de testeo o tamizaje:\n",
    "\n",
    "### Sesgos (bias):\n",
    "\n",
    "#### 'Length bias sampling':  Afecta la determinación del Estado/Severidad de la enfermedad.   Pacientes identificados con la prueba, son diagnosticados en un Estado con menor severidad, en comparación con quienes obtuvieron un resultado negativo.\n",
    "\n",
    "#####  El sesgo de \"longitud de muestreo\", genera la falsa percepción que quienes son detectados por el tamizaje tendrán menor severidad de la enfermedad, que los que el tamizaje no detectó.  Es un error pues los casos identificados NO SON UNA MUESTRA ALEATORIA DE TODAS LAS PERSONAS QUE TIENEN LA ENFERMEDAD."
   ]
  },
  {
   "cell_type": "markdown",
   "metadata": {
    "slideshow": {
     "slide_type": "slide"
    }
   },
   "source": [
    "## Comprendiendo y validando factores claves  en el diseño de un estudio eficaz de testeo o tamizaje:\n",
    "\n",
    "#####  El sesgo de \"longitud de muestreo\", \n",
    "\n",
    "# también se corrige comparando tasas de mortalidad específicas por edad."
   ]
  },
  {
   "cell_type": "markdown",
   "metadata": {
    "slideshow": {
     "slide_type": "slide"
    }
   },
   "source": [
    "## Comprendiendo y validando factores claves  en el diseño de un estudio eficaz de testeo o tamizaje:\n",
    "\n",
    "### Sesgos (bias):\n",
    "\n",
    "#### 'Volunteer bias':  Afecta inmensamente la prueba.  Se presenta en estudios observacionales.  Por eso estos no son adecuados.\n",
    "\n",
    "#####  El sesgo del \"voluntario\", es grave por:\n",
    "- \"Los voluntarios\" en un estudio observacional, son sistemáticamente diferentes de los \"no voluntarios\".\n",
    "- ¿Son los voluntarios personas saludables o no? ¿ Esperan alguna ganancia secundaria?\n",
    "- No hay control alguno  sobre las variables de confusión."
   ]
  },
  {
   "cell_type": "markdown",
   "metadata": {
    "slideshow": {
     "slide_type": "slide"
    }
   },
   "source": [
    "## Comprendiendo y validando factores claves  en el diseño de un estudio eficaz de testeo o tamizaje:\n",
    "\n",
    "#####  El sesgo del \"voluntario\",\n",
    "\n",
    "# se corrige asegurando que los estudios sean clínicos aleatorizados ciegos o doble ciegos, fase III, que soporten el análisis crítico y evidencien validez interna que les permita ser generalizables.\n",
    "\n",
    "\n"
   ]
  },
  {
   "cell_type": "markdown",
   "metadata": {
    "slideshow": {
     "slide_type": "slide"
    }
   },
   "source": [
    "## Comprendiendo y validando factores claves  en el diseño de un estudio eficaz de testeo o tamizaje:\n",
    "\n",
    "### Sesgos (bias):\n",
    "\n",
    "#### Sesgo de negatividad\n",
    "El sesgo de negatividad o efecto negativo se refiere al concepto que en grados de la misma intensidad, las cosas de naturaleza negativa (pensamientos desagradables, emociones, interacciones sociales o eventos traumáticos) tienen un peso mayor en los estados y procesos psicológicos de las personas que las cosas neutrales o positivas.  Es decir, algo muy positivo normalmente tendrá menos impacto en el comportamiento y en pensamiento de las personas que algo igualmente emocional pero negativo. El sesgo de negatividad se ha investigado desde muchos campos diferentes, incluyendo la formación de tales como: atención, aprendizaje, memoria, toma de decisiones y riesgos.\n",
    "\n",
    "#####  El sesgo del \"negatividad\", es grave en el testeo pues:\n",
    "- Refuerza todos los anteriores sesgos."
   ]
  },
  {
   "cell_type": "markdown",
   "metadata": {
    "slideshow": {
     "slide_type": "slide"
    }
   },
   "source": [
    "# Conceptos sesgo negatividad:\n",
    "\n",
    "Potencia negativa: ...ante la posibilidad de igual magnitud, los elementos, eventos, etc. positivos y negativos no destacan de igual forma. \n",
    "\n",
    "Desigualdad negativa:... los eventos negativos se perciben como más negativos respecto a los eventos positivos se perciben como más positivos cuanto más cercano (en tiempo o espacio) es el evento en cuestión. \n",
    "\n",
    "     Rozin y Edward Royzman\n"
   ]
  },
  {
   "cell_type": "markdown",
   "metadata": {
    "slideshow": {
     "slide_type": "slide"
    }
   },
   "source": [
    "# Conceptos sesgo negatividad:\n",
    "\n",
    "Dominio negativo: ...tendencia de la combinación de elementos o eventos positivos y negativos hacia una interpretación global más negativa de la que cabría esperar si se analizaran los elementos positivos y negativos de forma individual. En términos de Gestalt, el todo es más negativo que la suma de las partes.\n",
    "\n",
    "Diferenciación negativa: ...la conceptualización de la negatividad es más elaborada y compleja que la de la positividad. El concepto de diferenciación negativa es consistente con la hipótesis movilización-minimalización que postula que los eventos negativos, debido de su complejidad, requieren movilizar más recursos cognitivos para tratar la experiencia afectiva y un mayor esfuerzo para minimizar sus consecuencias.     \n",
    "\n",
    "    Rozin y Edward Royzman\n"
   ]
  },
  {
   "cell_type": "markdown",
   "metadata": {
    "slideshow": {
     "slide_type": "slide"
    }
   },
   "source": [
    "# Herramienta para minimizar sesgos"
   ]
  },
  {
   "cell_type": "markdown",
   "metadata": {
    "slideshow": {
     "slide_type": "slide"
    }
   },
   "source": [
    "![](dataPandemics.png)"
   ]
  },
  {
   "cell_type": "markdown",
   "metadata": {
    "slideshow": {
     "slide_type": "slide"
    }
   },
   "source": [
    "# Comparativo Tasas de Mortalidad por millón de habitantes\n",
    "# Colombia\n",
    "### Elaborado por:  Luis Evelio García Restrepo.  MD. MAS. EF\n",
    "### Fuentes:  \n",
    "#### DANE.  Preliminares Tasas de Mortalidad por millón de habitantes último trimestre 2019  (ajustado a equivalentes días de pandemia en Colombia.          -  INS :  Instituto Nacional de Salud Colombia: Datos CoVid19.  Pendiente depuración de muertes CON COVID-19 vs muertes POR COVID-19 .  "
   ]
  },
  {
   "cell_type": "code",
   "execution_count": 1,
   "metadata": {
    "slideshow": {
     "slide_type": "skip"
    }
   },
   "outputs": [],
   "source": [
    "import pandas as pd\n",
    "import numpy as np"
   ]
  },
  {
   "cell_type": "code",
   "execution_count": 2,
   "metadata": {
    "slideshow": {
     "slide_type": "skip"
    }
   },
   "outputs": [],
   "source": [
    "%matplotlib inline"
   ]
  },
  {
   "cell_type": "code",
   "execution_count": 3,
   "metadata": {
    "slideshow": {
     "slide_type": "slide"
    }
   },
   "outputs": [],
   "source": [
    "col = pd.read_csv('/Users/Dr.LuisEvelioRestrepoGarcia/REPOS/CovidColombia.csv', usecols= ['Fecha de notificación',\n",
    "       'Nombre municipio', 'Nombre departamento', 'Edad',\n",
    "       'Sexo', 'Tipo de contagio', 'Estado', \n",
    "       'Fecha de muerte', 'Fecha de diagnóstico', 'Fecha de recuperación',\n",
    "       'Tipo de recuperación'],low_memory = False)"
   ]
  },
  {
   "cell_type": "code",
   "execution_count": 4,
   "metadata": {
    "scrolled": true,
    "slideshow": {
     "slide_type": "slide"
    }
   },
   "outputs": [
    {
     "data": {
      "text/html": [
       "<div>\n",
       "<style scoped>\n",
       "    .dataframe tbody tr th:only-of-type {\n",
       "        vertical-align: middle;\n",
       "    }\n",
       "\n",
       "    .dataframe tbody tr th {\n",
       "        vertical-align: top;\n",
       "    }\n",
       "\n",
       "    .dataframe thead th {\n",
       "        text-align: right;\n",
       "    }\n",
       "</style>\n",
       "<table border=\"1\" class=\"dataframe\">\n",
       "  <thead>\n",
       "    <tr style=\"text-align: right;\">\n",
       "      <th></th>\n",
       "      <th>Fecha de notificación</th>\n",
       "      <th>Nombre departamento</th>\n",
       "      <th>Nombre municipio</th>\n",
       "      <th>Edad</th>\n",
       "      <th>Sexo</th>\n",
       "      <th>Tipo de contagio</th>\n",
       "      <th>Estado</th>\n",
       "      <th>Fecha de muerte</th>\n",
       "      <th>Fecha de diagnóstico</th>\n",
       "      <th>Fecha de recuperación</th>\n",
       "      <th>Tipo de recuperación</th>\n",
       "    </tr>\n",
       "  </thead>\n",
       "  <tbody>\n",
       "    <tr>\n",
       "      <th>0</th>\n",
       "      <td>2/3/2020 0:00:00</td>\n",
       "      <td>BOGOTA</td>\n",
       "      <td>BOGOTA</td>\n",
       "      <td>19</td>\n",
       "      <td>F</td>\n",
       "      <td>Importado</td>\n",
       "      <td>Leve</td>\n",
       "      <td>NaN</td>\n",
       "      <td>6/3/2020 0:00:00</td>\n",
       "      <td>13/3/2020 0:00:00</td>\n",
       "      <td>PCR</td>\n",
       "    </tr>\n",
       "    <tr>\n",
       "      <th>1</th>\n",
       "      <td>6/3/2020 0:00:00</td>\n",
       "      <td>VALLE</td>\n",
       "      <td>BUGA</td>\n",
       "      <td>34</td>\n",
       "      <td>M</td>\n",
       "      <td>Importado</td>\n",
       "      <td>Leve</td>\n",
       "      <td>NaN</td>\n",
       "      <td>9/3/2020 0:00:00</td>\n",
       "      <td>19/3/2020 0:00:00</td>\n",
       "      <td>PCR</td>\n",
       "    </tr>\n",
       "    <tr>\n",
       "      <th>2</th>\n",
       "      <td>7/3/2020 0:00:00</td>\n",
       "      <td>ANTIOQUIA</td>\n",
       "      <td>MEDELLIN</td>\n",
       "      <td>50</td>\n",
       "      <td>F</td>\n",
       "      <td>Importado</td>\n",
       "      <td>Leve</td>\n",
       "      <td>NaN</td>\n",
       "      <td>9/3/2020 0:00:00</td>\n",
       "      <td>15/3/2020 0:00:00</td>\n",
       "      <td>PCR</td>\n",
       "    </tr>\n",
       "    <tr>\n",
       "      <th>3</th>\n",
       "      <td>9/3/2020 0:00:00</td>\n",
       "      <td>ANTIOQUIA</td>\n",
       "      <td>MEDELLIN</td>\n",
       "      <td>55</td>\n",
       "      <td>M</td>\n",
       "      <td>Relacionado</td>\n",
       "      <td>Leve</td>\n",
       "      <td>NaN</td>\n",
       "      <td>11/3/2020 0:00:00</td>\n",
       "      <td>26/3/2020 0:00:00</td>\n",
       "      <td>PCR</td>\n",
       "    </tr>\n",
       "    <tr>\n",
       "      <th>4</th>\n",
       "      <td>9/3/2020 0:00:00</td>\n",
       "      <td>ANTIOQUIA</td>\n",
       "      <td>MEDELLIN</td>\n",
       "      <td>25</td>\n",
       "      <td>M</td>\n",
       "      <td>Relacionado</td>\n",
       "      <td>Leve</td>\n",
       "      <td>NaN</td>\n",
       "      <td>11/3/2020 0:00:00</td>\n",
       "      <td>23/3/2020 0:00:00</td>\n",
       "      <td>PCR</td>\n",
       "    </tr>\n",
       "    <tr>\n",
       "      <th>...</th>\n",
       "      <td>...</td>\n",
       "      <td>...</td>\n",
       "      <td>...</td>\n",
       "      <td>...</td>\n",
       "      <td>...</td>\n",
       "      <td>...</td>\n",
       "      <td>...</td>\n",
       "      <td>...</td>\n",
       "      <td>...</td>\n",
       "      <td>...</td>\n",
       "      <td>...</td>\n",
       "    </tr>\n",
       "    <tr>\n",
       "      <th>1143882</th>\n",
       "      <td>27/10/2020 0:00:00</td>\n",
       "      <td>QUINDIO</td>\n",
       "      <td>ARMENIA</td>\n",
       "      <td>48</td>\n",
       "      <td>F</td>\n",
       "      <td>En estudio</td>\n",
       "      <td>Leve</td>\n",
       "      <td>NaN</td>\n",
       "      <td>7/11/2020 0:00:00</td>\n",
       "      <td>NaN</td>\n",
       "      <td>NaN</td>\n",
       "    </tr>\n",
       "    <tr>\n",
       "      <th>1143883</th>\n",
       "      <td>27/10/2020 0:00:00</td>\n",
       "      <td>QUINDIO</td>\n",
       "      <td>CALARCA</td>\n",
       "      <td>25</td>\n",
       "      <td>M</td>\n",
       "      <td>En estudio</td>\n",
       "      <td>Leve</td>\n",
       "      <td>NaN</td>\n",
       "      <td>7/11/2020 0:00:00</td>\n",
       "      <td>NaN</td>\n",
       "      <td>NaN</td>\n",
       "    </tr>\n",
       "    <tr>\n",
       "      <th>1143884</th>\n",
       "      <td>27/10/2020 0:00:00</td>\n",
       "      <td>QUINDIO</td>\n",
       "      <td>ARMENIA</td>\n",
       "      <td>46</td>\n",
       "      <td>M</td>\n",
       "      <td>En estudio</td>\n",
       "      <td>Leve</td>\n",
       "      <td>NaN</td>\n",
       "      <td>7/11/2020 0:00:00</td>\n",
       "      <td>NaN</td>\n",
       "      <td>NaN</td>\n",
       "    </tr>\n",
       "    <tr>\n",
       "      <th>1143885</th>\n",
       "      <td>27/10/2020 0:00:00</td>\n",
       "      <td>QUINDIO</td>\n",
       "      <td>ARMENIA</td>\n",
       "      <td>62</td>\n",
       "      <td>M</td>\n",
       "      <td>En estudio</td>\n",
       "      <td>Leve</td>\n",
       "      <td>NaN</td>\n",
       "      <td>7/11/2020 0:00:00</td>\n",
       "      <td>NaN</td>\n",
       "      <td>NaN</td>\n",
       "    </tr>\n",
       "    <tr>\n",
       "      <th>1143886</th>\n",
       "      <td>27/10/2020 0:00:00</td>\n",
       "      <td>QUINDIO</td>\n",
       "      <td>ARMENIA</td>\n",
       "      <td>51</td>\n",
       "      <td>F</td>\n",
       "      <td>En estudio</td>\n",
       "      <td>Leve</td>\n",
       "      <td>NaN</td>\n",
       "      <td>7/11/2020 0:00:00</td>\n",
       "      <td>NaN</td>\n",
       "      <td>NaN</td>\n",
       "    </tr>\n",
       "  </tbody>\n",
       "</table>\n",
       "<p>1143887 rows × 11 columns</p>\n",
       "</div>"
      ],
      "text/plain": [
       "        Fecha de notificación Nombre departamento Nombre municipio  Edad Sexo  \\\n",
       "0            2/3/2020 0:00:00              BOGOTA           BOGOTA    19    F   \n",
       "1            6/3/2020 0:00:00               VALLE             BUGA    34    M   \n",
       "2            7/3/2020 0:00:00           ANTIOQUIA         MEDELLIN    50    F   \n",
       "3            9/3/2020 0:00:00           ANTIOQUIA         MEDELLIN    55    M   \n",
       "4            9/3/2020 0:00:00           ANTIOQUIA         MEDELLIN    25    M   \n",
       "...                       ...                 ...              ...   ...  ...   \n",
       "1143882    27/10/2020 0:00:00             QUINDIO          ARMENIA    48    F   \n",
       "1143883    27/10/2020 0:00:00             QUINDIO          CALARCA    25    M   \n",
       "1143884    27/10/2020 0:00:00             QUINDIO          ARMENIA    46    M   \n",
       "1143885    27/10/2020 0:00:00             QUINDIO          ARMENIA    62    M   \n",
       "1143886    27/10/2020 0:00:00             QUINDIO          ARMENIA    51    F   \n",
       "\n",
       "        Tipo de contagio Estado Fecha de muerte Fecha de diagnóstico  \\\n",
       "0              Importado   Leve             NaN     6/3/2020 0:00:00   \n",
       "1              Importado   Leve             NaN     9/3/2020 0:00:00   \n",
       "2              Importado   Leve             NaN     9/3/2020 0:00:00   \n",
       "3            Relacionado   Leve             NaN    11/3/2020 0:00:00   \n",
       "4            Relacionado   Leve             NaN    11/3/2020 0:00:00   \n",
       "...                  ...    ...             ...                  ...   \n",
       "1143882       En estudio   Leve             NaN    7/11/2020 0:00:00   \n",
       "1143883       En estudio   Leve             NaN    7/11/2020 0:00:00   \n",
       "1143884       En estudio   Leve             NaN    7/11/2020 0:00:00   \n",
       "1143885       En estudio   Leve             NaN    7/11/2020 0:00:00   \n",
       "1143886       En estudio   Leve             NaN    7/11/2020 0:00:00   \n",
       "\n",
       "        Fecha de recuperación Tipo de recuperación  \n",
       "0           13/3/2020 0:00:00                  PCR  \n",
       "1           19/3/2020 0:00:00                  PCR  \n",
       "2           15/3/2020 0:00:00                  PCR  \n",
       "3           26/3/2020 0:00:00                  PCR  \n",
       "4           23/3/2020 0:00:00                  PCR  \n",
       "...                       ...                  ...  \n",
       "1143882                   NaN                  NaN  \n",
       "1143883                   NaN                  NaN  \n",
       "1143884                   NaN                  NaN  \n",
       "1143885                   NaN                  NaN  \n",
       "1143886                   NaN                  NaN  \n",
       "\n",
       "[1143887 rows x 11 columns]"
      ]
     },
     "execution_count": 4,
     "metadata": {},
     "output_type": "execute_result"
    }
   ],
   "source": [
    "col"
   ]
  },
  {
   "cell_type": "markdown",
   "metadata": {
    "slideshow": {
     "slide_type": "slide"
    }
   },
   "source": [
    "# Selección departamento/municipio: Habitantes por grupos etarios. Proyección 2020.  DANE"
   ]
  },
  {
   "cell_type": "code",
   "execution_count": 7,
   "metadata": {
    "slideshow": {
     "slide_type": "skip"
    }
   },
   "outputs": [
    {
     "name": "stdout",
     "output_type": "stream",
     "text": [
      "Ingrese el departamento (para el total del país, ingrese 'COLOMBIA'):  CALDAS\n"
     ]
    }
   ],
   "source": [
    "localidad= input(\"Ingrese el departamento (para el total del país, ingrese 'COLOMBIA'):  \" )\n"
   ]
  },
  {
   "cell_type": "code",
   "execution_count": 8,
   "metadata": {
    "slideshow": {
     "slide_type": "skip"
    }
   },
   "outputs": [
    {
     "name": "stdout",
     "output_type": "stream",
     "text": [
      "Ingrese el municipio (si quiere todos los del departamentos, digite 'T'):  MANIZALES\n"
     ]
    }
   ],
   "source": [
    "localidad1= input(\"Ingrese el municipio (si quiere todos los del departamentos, digite 'T'):  \")\n"
   ]
  },
  {
   "cell_type": "code",
   "execution_count": 9,
   "metadata": {
    "scrolled": false,
    "slideshow": {
     "slide_type": "skip"
    }
   },
   "outputs": [
    {
     "data": {
      "text/plain": [
       "('CALDAS', 'MANIZALES')"
      ]
     },
     "execution_count": 9,
     "metadata": {},
     "output_type": "execute_result"
    }
   ],
   "source": [
    "localidad, localidad1"
   ]
  },
  {
   "cell_type": "code",
   "execution_count": 10,
   "metadata": {
    "slideshow": {
     "slide_type": "skip"
    }
   },
   "outputs": [],
   "source": [
    "etarioDefuncionesMunic= pd.read_csv('etarioDefuncionesMunic.csv')  # de Fallecidos Municip COVID19 por etarios"
   ]
  },
  {
   "cell_type": "code",
   "execution_count": 11,
   "metadata": {
    "slideshow": {
     "slide_type": "skip"
    }
   },
   "outputs": [],
   "source": [
    "etarioDefuncionesColombia= pd.read_csv('etarioDefuncionesCOLOMBIA.csv')   # de Fallecidos COLOMBIA COVID19 por etarios"
   ]
  },
  {
   "cell_type": "markdown",
   "metadata": {
    "slideshow": {
     "slide_type": "skip"
    }
   },
   "source": [
    "# Municipio:  Número de fallecidos por grupo etario:"
   ]
  },
  {
   "cell_type": "code",
   "execution_count": 12,
   "metadata": {
    "slideshow": {
     "slide_type": "skip"
    }
   },
   "outputs": [
    {
     "data": {
      "text/html": [
       "<div>\n",
       "<style scoped>\n",
       "    .dataframe tbody tr th:only-of-type {\n",
       "        vertical-align: middle;\n",
       "    }\n",
       "\n",
       "    .dataframe tbody tr th {\n",
       "        vertical-align: top;\n",
       "    }\n",
       "\n",
       "    .dataframe thead th {\n",
       "        text-align: right;\n",
       "    }\n",
       "</style>\n",
       "<table border=\"1\" class=\"dataframe\">\n",
       "  <thead>\n",
       "    <tr style=\"text-align: right;\">\n",
       "      <th></th>\n",
       "      <th>Unnamed: 0</th>\n",
       "      <th>Número fallecidos</th>\n",
       "    </tr>\n",
       "  </thead>\n",
       "  <tbody>\n",
       "    <tr>\n",
       "      <th>0</th>\n",
       "      <td>edad 0 a 4</td>\n",
       "      <td>0</td>\n",
       "    </tr>\n",
       "    <tr>\n",
       "      <th>1</th>\n",
       "      <td>edad 5 a 14</td>\n",
       "      <td>1</td>\n",
       "    </tr>\n",
       "    <tr>\n",
       "      <th>2</th>\n",
       "      <td>edad 15 a 44</td>\n",
       "      <td>4</td>\n",
       "    </tr>\n",
       "    <tr>\n",
       "      <th>3</th>\n",
       "      <td>edad 45 a 64</td>\n",
       "      <td>47</td>\n",
       "    </tr>\n",
       "    <tr>\n",
       "      <th>4</th>\n",
       "      <td>edad 65 a 84</td>\n",
       "      <td>118</td>\n",
       "    </tr>\n",
       "    <tr>\n",
       "      <th>5</th>\n",
       "      <td>edad 85 a 99</td>\n",
       "      <td>41</td>\n",
       "    </tr>\n",
       "    <tr>\n",
       "      <th>6</th>\n",
       "      <td>edad 100 o más</td>\n",
       "      <td>0</td>\n",
       "    </tr>\n",
       "    <tr>\n",
       "      <th>7</th>\n",
       "      <td>Total</td>\n",
       "      <td>211</td>\n",
       "    </tr>\n",
       "  </tbody>\n",
       "</table>\n",
       "</div>"
      ],
      "text/plain": [
       "       Unnamed: 0  Número fallecidos\n",
       "0      edad 0 a 4                  0\n",
       "1     edad 5 a 14                  1\n",
       "2    edad 15 a 44                  4\n",
       "3    edad 45 a 64                 47\n",
       "4    edad 65 a 84                118\n",
       "5    edad 85 a 99                 41\n",
       "6  edad 100 o más                  0\n",
       "7           Total                211"
      ]
     },
     "execution_count": 12,
     "metadata": {},
     "output_type": "execute_result"
    }
   ],
   "source": [
    "etarioDefuncionesMunic"
   ]
  },
  {
   "cell_type": "markdown",
   "metadata": {
    "slideshow": {
     "slide_type": "slide"
    }
   },
   "source": [
    "# Colombia: Habitantes departamentos y municipios por grupos etarios. Proyección 2020.  DANE"
   ]
  },
  {
   "cell_type": "code",
   "execution_count": 13,
   "metadata": {
    "slideshow": {
     "slide_type": "subslide"
    }
   },
   "outputs": [
    {
     "data": {
      "text/html": [
       "<div>\n",
       "<style scoped>\n",
       "    .dataframe tbody tr th:only-of-type {\n",
       "        vertical-align: middle;\n",
       "    }\n",
       "\n",
       "    .dataframe tbody tr th {\n",
       "        vertical-align: top;\n",
       "    }\n",
       "\n",
       "    .dataframe thead th {\n",
       "        text-align: right;\n",
       "    }\n",
       "</style>\n",
       "<table border=\"1\" class=\"dataframe\">\n",
       "  <thead>\n",
       "    <tr style=\"text-align: right;\">\n",
       "      <th></th>\n",
       "      <th>DEPARTAMENTO</th>\n",
       "      <th>MUNICIPIO</th>\n",
       "      <th>edad 100 o mas</th>\n",
       "      <th>Total Hombres</th>\n",
       "      <th>Total Mujeres</th>\n",
       "      <th>Total</th>\n",
       "      <th>edad 0 a 4</th>\n",
       "      <th>edad 5 a 14</th>\n",
       "      <th>edad 15 a 44</th>\n",
       "      <th>edad 45 a 64</th>\n",
       "      <th>edad 65 a 84</th>\n",
       "      <th>edad 85 a 99</th>\n",
       "    </tr>\n",
       "    <tr>\n",
       "      <th></th>\n",
       "      <th></th>\n",
       "      <th></th>\n",
       "      <th></th>\n",
       "      <th></th>\n",
       "      <th></th>\n",
       "      <th></th>\n",
       "      <th></th>\n",
       "      <th></th>\n",
       "      <th></th>\n",
       "      <th></th>\n",
       "      <th></th>\n",
       "      <th></th>\n",
       "    </tr>\n",
       "  </thead>\n",
       "  <tbody>\n",
       "    <tr>\n",
       "      <th>107</th>\n",
       "      <td>ANTIOQUIA</td>\n",
       "      <td>MEDELLIN</td>\n",
       "      <td>1631</td>\n",
       "      <td>1193791</td>\n",
       "      <td>1339633</td>\n",
       "      <td>2533424</td>\n",
       "      <td>148533</td>\n",
       "      <td>311575</td>\n",
       "      <td>1224276</td>\n",
       "      <td>581270</td>\n",
       "      <td>240903</td>\n",
       "      <td>25236</td>\n",
       "    </tr>\n",
       "    <tr>\n",
       "      <th>260</th>\n",
       "      <td>ANTIOQUIA</td>\n",
       "      <td>ABEJORRAL</td>\n",
       "      <td>15</td>\n",
       "      <td>10558</td>\n",
       "      <td>9729</td>\n",
       "      <td>20287</td>\n",
       "      <td>1291</td>\n",
       "      <td>3046</td>\n",
       "      <td>8299</td>\n",
       "      <td>4993</td>\n",
       "      <td>2417</td>\n",
       "      <td>226</td>\n",
       "    </tr>\n",
       "    <tr>\n",
       "      <th>413</th>\n",
       "      <td>ANTIOQUIA</td>\n",
       "      <td>ABRIAQUI</td>\n",
       "      <td>0</td>\n",
       "      <td>1482</td>\n",
       "      <td>1253</td>\n",
       "      <td>2735</td>\n",
       "      <td>213</td>\n",
       "      <td>427</td>\n",
       "      <td>1156</td>\n",
       "      <td>608</td>\n",
       "      <td>302</td>\n",
       "      <td>29</td>\n",
       "    </tr>\n",
       "    <tr>\n",
       "      <th>566</th>\n",
       "      <td>ANTIOQUIA</td>\n",
       "      <td>ALEJANDRIA</td>\n",
       "      <td>0</td>\n",
       "      <td>2338</td>\n",
       "      <td>2360</td>\n",
       "      <td>4698</td>\n",
       "      <td>420</td>\n",
       "      <td>737</td>\n",
       "      <td>1889</td>\n",
       "      <td>1062</td>\n",
       "      <td>525</td>\n",
       "      <td>65</td>\n",
       "    </tr>\n",
       "    <tr>\n",
       "      <th>719</th>\n",
       "      <td>ANTIOQUIA</td>\n",
       "      <td>AMAGA</td>\n",
       "      <td>9</td>\n",
       "      <td>15382</td>\n",
       "      <td>15901</td>\n",
       "      <td>31283</td>\n",
       "      <td>2024</td>\n",
       "      <td>4280</td>\n",
       "      <td>14150</td>\n",
       "      <td>7653</td>\n",
       "      <td>2868</td>\n",
       "      <td>299</td>\n",
       "    </tr>\n",
       "    <tr>\n",
       "      <th>...</th>\n",
       "      <td>...</td>\n",
       "      <td>...</td>\n",
       "      <td>...</td>\n",
       "      <td>...</td>\n",
       "      <td>...</td>\n",
       "      <td>...</td>\n",
       "      <td>...</td>\n",
       "      <td>...</td>\n",
       "      <td>...</td>\n",
       "      <td>...</td>\n",
       "      <td>...</td>\n",
       "      <td>...</td>\n",
       "    </tr>\n",
       "    <tr>\n",
       "      <th>171161</th>\n",
       "      <td>VICHADA</td>\n",
       "      <td>PUERTO CARREÑO</td>\n",
       "      <td>4</td>\n",
       "      <td>10520</td>\n",
       "      <td>9774</td>\n",
       "      <td>20294</td>\n",
       "      <td>2106</td>\n",
       "      <td>3856</td>\n",
       "      <td>10392</td>\n",
       "      <td>3089</td>\n",
       "      <td>797</td>\n",
       "      <td>50</td>\n",
       "    </tr>\n",
       "    <tr>\n",
       "      <th>171314</th>\n",
       "      <td>VICHADA</td>\n",
       "      <td>LA PRIMAVERA</td>\n",
       "      <td>1</td>\n",
       "      <td>5055</td>\n",
       "      <td>4553</td>\n",
       "      <td>9608</td>\n",
       "      <td>948</td>\n",
       "      <td>2097</td>\n",
       "      <td>4546</td>\n",
       "      <td>1534</td>\n",
       "      <td>436</td>\n",
       "      <td>46</td>\n",
       "    </tr>\n",
       "    <tr>\n",
       "      <th>171467</th>\n",
       "      <td>VICHADA</td>\n",
       "      <td>SANTA ROSALIA</td>\n",
       "      <td>0</td>\n",
       "      <td>2173</td>\n",
       "      <td>2020</td>\n",
       "      <td>4193</td>\n",
       "      <td>381</td>\n",
       "      <td>970</td>\n",
       "      <td>1977</td>\n",
       "      <td>671</td>\n",
       "      <td>180</td>\n",
       "      <td>14</td>\n",
       "    </tr>\n",
       "    <tr>\n",
       "      <th>171620</th>\n",
       "      <td>VICHADA</td>\n",
       "      <td>CUMARIBO</td>\n",
       "      <td>18</td>\n",
       "      <td>41840</td>\n",
       "      <td>37023</td>\n",
       "      <td>78863</td>\n",
       "      <td>10538</td>\n",
       "      <td>21092</td>\n",
       "      <td>35333</td>\n",
       "      <td>9348</td>\n",
       "      <td>2364</td>\n",
       "      <td>170</td>\n",
       "    </tr>\n",
       "    <tr>\n",
       "      <th>172621</th>\n",
       "      <td>COLOMBIA</td>\n",
       "      <td>COLOMBIA</td>\n",
       "      <td>19219</td>\n",
       "      <td>20887044</td>\n",
       "      <td>21741425</td>\n",
       "      <td>42628469</td>\n",
       "      <td>3433969</td>\n",
       "      <td>6938817</td>\n",
       "      <td>19541755</td>\n",
       "      <td>8757142</td>\n",
       "      <td>3512813</td>\n",
       "      <td>424754</td>\n",
       "    </tr>\n",
       "  </tbody>\n",
       "</table>\n",
       "<p>1122 rows × 12 columns</p>\n",
       "</div>"
      ],
      "text/plain": [
       "       DEPARTAMENTO       MUNICIPIO  edad 100 o mas  Total Hombres  \\\n",
       "                                                                     \n",
       "107       ANTIOQUIA        MEDELLIN            1631        1193791   \n",
       "260       ANTIOQUIA       ABEJORRAL              15          10558   \n",
       "413       ANTIOQUIA        ABRIAQUI               0           1482   \n",
       "566       ANTIOQUIA      ALEJANDRIA               0           2338   \n",
       "719       ANTIOQUIA           AMAGA               9          15382   \n",
       "...             ...             ...             ...            ...   \n",
       "171161      VICHADA  PUERTO CARREÑO               4          10520   \n",
       "171314      VICHADA    LA PRIMAVERA               1           5055   \n",
       "171467      VICHADA   SANTA ROSALIA               0           2173   \n",
       "171620      VICHADA        CUMARIBO              18          41840   \n",
       "172621     COLOMBIA        COLOMBIA           19219       20887044   \n",
       "\n",
       "        Total Mujeres     Total  edad 0 a 4  edad 5 a 14  edad 15 a 44  \\\n",
       "                                                                         \n",
       "107           1339633   2533424      148533       311575       1224276   \n",
       "260              9729     20287        1291         3046          8299   \n",
       "413              1253      2735         213          427          1156   \n",
       "566              2360      4698         420          737          1889   \n",
       "719             15901     31283        2024         4280         14150   \n",
       "...               ...       ...         ...          ...           ...   \n",
       "171161           9774     20294        2106         3856         10392   \n",
       "171314           4553      9608         948         2097          4546   \n",
       "171467           2020      4193         381          970          1977   \n",
       "171620          37023     78863       10538        21092         35333   \n",
       "172621       21741425  42628469     3433969      6938817      19541755   \n",
       "\n",
       "        edad 45 a 64  edad 65 a 84  edad 85 a 99  \n",
       "                                                  \n",
       "107           581270        240903         25236  \n",
       "260             4993          2417           226  \n",
       "413              608           302            29  \n",
       "566             1062           525            65  \n",
       "719             7653          2868           299  \n",
       "...              ...           ...           ...  \n",
       "171161          3089           797            50  \n",
       "171314          1534           436            46  \n",
       "171467           671           180            14  \n",
       "171620          9348          2364           170  \n",
       "172621       8757142       3512813        424754  \n",
       "\n",
       "[1122 rows x 12 columns]"
      ]
     },
     "execution_count": 13,
     "metadata": {},
     "output_type": "execute_result"
    }
   ],
   "source": [
    "etariosporMunic= pd.read_csv('totalEtariosMunicDpto_upper.csv', names=['', 'DEPARTAMENTO', 'MUNICIPIO','edad 100 o mas', \n",
    "                                                           'Total Hombres', 'Total Mujeres',\n",
    "                                                           'Total', 'edad 0 a 4', 'edad 5 a 14','edad 15 a 44', \n",
    "                                                           'edad 45 a 64', 'edad 65 a 84', 'edad 85 a 99'], skiprows=1, index_col= '')\n",
    "etariosporMunic"
   ]
  },
  {
   "cell_type": "code",
   "execution_count": 14,
   "metadata": {
    "scrolled": true,
    "slideshow": {
     "slide_type": "skip"
    }
   },
   "outputs": [],
   "source": [
    "etariosporMunic['INDICE']=0\n",
    "etariosporMunic= etariosporMunic.set_index('INDICE').copy()\n"
   ]
  },
  {
   "cell_type": "markdown",
   "metadata": {
    "slideshow": {
     "slide_type": "slide"
    }
   },
   "source": [
    "# Colombia:  Número de fallecidos por grupo etario:"
   ]
  },
  {
   "cell_type": "code",
   "execution_count": 15,
   "metadata": {
    "slideshow": {
     "slide_type": "skip"
    }
   },
   "outputs": [],
   "source": [
    "poblacion= pd.read_csv('Dane2018_2023_uppercase.csv', usecols= ['DPTO','MUNICIPIO','Género','2020'])"
   ]
  },
  {
   "cell_type": "code",
   "execution_count": 16,
   "metadata": {
    "slideshow": {
     "slide_type": "subslide"
    }
   },
   "outputs": [
    {
     "data": {
      "text/html": [
       "<div>\n",
       "<style scoped>\n",
       "    .dataframe tbody tr th:only-of-type {\n",
       "        vertical-align: middle;\n",
       "    }\n",
       "\n",
       "    .dataframe tbody tr th {\n",
       "        vertical-align: top;\n",
       "    }\n",
       "\n",
       "    .dataframe thead th {\n",
       "        text-align: right;\n",
       "    }\n",
       "</style>\n",
       "<table border=\"1\" class=\"dataframe\">\n",
       "  <thead>\n",
       "    <tr style=\"text-align: right;\">\n",
       "      <th></th>\n",
       "      <th></th>\n",
       "      <th>edad 0 a 4</th>\n",
       "      <th>edad 5 a 14</th>\n",
       "      <th>edad 15 a 44</th>\n",
       "      <th>edad 45 a 64</th>\n",
       "      <th>edad 65 a 84</th>\n",
       "      <th>edad 85 a 99</th>\n",
       "      <th>edad 100 o mas</th>\n",
       "      <th>Total fallecidos</th>\n",
       "    </tr>\n",
       "  </thead>\n",
       "  <tbody>\n",
       "    <tr>\n",
       "      <th>0</th>\n",
       "      <td>Número fallecidos</td>\n",
       "      <td>74</td>\n",
       "      <td>73</td>\n",
       "      <td>2820</td>\n",
       "      <td>10474</td>\n",
       "      <td>18428</td>\n",
       "      <td>4540</td>\n",
       "      <td>48</td>\n",
       "      <td>36457</td>\n",
       "    </tr>\n",
       "  </tbody>\n",
       "</table>\n",
       "</div>"
      ],
      "text/plain": [
       "                      edad 0 a 4  edad 5 a 14  edad 15 a 44  edad 45 a 64  \\\n",
       "0  Número fallecidos          74           73          2820         10474   \n",
       "\n",
       "   edad 65 a 84  edad 85 a 99  edad 100 o mas  Total fallecidos  \n",
       "0         18428          4540              48             36457  "
      ]
     },
     "execution_count": 16,
     "metadata": {},
     "output_type": "execute_result"
    }
   ],
   "source": [
    "etarioDefuncionesColombia.rename(columns={'Unnamed: 0':''}, inplace=True)\n",
    "etarioDefuncionesColombia"
   ]
  },
  {
   "cell_type": "code",
   "execution_count": 17,
   "metadata": {
    "slideshow": {
     "slide_type": "skip"
    }
   },
   "outputs": [],
   "source": [
    "etarios2= etariosporMunic"
   ]
  },
  {
   "cell_type": "code",
   "execution_count": 18,
   "metadata": {
    "slideshow": {
     "slide_type": "skip"
    }
   },
   "outputs": [],
   "source": [
    "if localidad1 =='T':\n",
    "    filtroMunic = (etarios2['DEPARTAMENTO']==localidad)\n",
    "    etariosporMunic = etarios2.loc[filtroMunic,:]\n",
    "else:\n",
    "    filtroMunic = (etarios2['DEPARTAMENTO']==localidad) & (etarios2['MUNICIPIO']==localidad1)\n",
    "    etariosporMunic = etarios2.loc[filtroMunic,:]\n",
    "    "
   ]
  },
  {
   "cell_type": "markdown",
   "metadata": {
    "slideshow": {
     "slide_type": "slide"
    }
   },
   "source": [
    "# Días desde el primer caso notificado (02 marzo 2020 -  había arrivado al país 5 días antes)"
   ]
  },
  {
   "cell_type": "code",
   "execution_count": 19,
   "metadata": {
    "slideshow": {
     "slide_type": "skip"
    }
   },
   "outputs": [
    {
     "data": {
      "text/plain": [
       "243"
      ]
     },
     "execution_count": 19,
     "metadata": {},
     "output_type": "execute_result"
    }
   ],
   "source": [
    "dias = (pd.to_datetime(col['Fecha de notificación'].max()) - pd.to_datetime(col['Fecha de notificación'].min())).days\n",
    "dias"
   ]
  },
  {
   "cell_type": "markdown",
   "metadata": {
    "slideshow": {
     "slide_type": "slide"
    }
   },
   "source": [
    "# Colombia:  Fallecidos por COVID-19 a última fecha de notificación INS (pendiente ajustes)"
   ]
  },
  {
   "cell_type": "markdown",
   "metadata": {
    "slideshow": {
     "slide_type": "skip"
    }
   },
   "source": [
    "#### Fecha último dato:"
   ]
  },
  {
   "cell_type": "code",
   "execution_count": 20,
   "metadata": {
    "slideshow": {
     "slide_type": "skip"
    }
   },
   "outputs": [
    {
     "data": {
      "text/plain": [
       "'9/9/2020 0:00:00'"
      ]
     },
     "execution_count": 20,
     "metadata": {},
     "output_type": "execute_result"
    }
   ],
   "source": [
    "col['Fecha de notificación'].max()"
   ]
  },
  {
   "cell_type": "code",
   "execution_count": 21,
   "metadata": {
    "slideshow": {
     "slide_type": "skip"
    }
   },
   "outputs": [
    {
     "data": {
      "text/plain": [
       "36025"
      ]
     },
     "execution_count": 21,
     "metadata": {},
     "output_type": "execute_result"
    }
   ],
   "source": [
    "fallecidos = col.loc[:,'Fecha de muerte'].count()\n",
    "fallecidos"
   ]
  },
  {
   "cell_type": "markdown",
   "metadata": {
    "slideshow": {
     "slide_type": "slide"
    }
   },
   "source": [
    "# TASA DE MORTALIDAD PRINCIPALES CAUSAS POR GRUPO ETARIO.\n",
    "## Factor comparativo con base en COVID-19"
   ]
  },
  {
   "cell_type": "code",
   "execution_count": 22,
   "metadata": {
    "scrolled": true,
    "slideshow": {
     "slide_type": "subslide"
    }
   },
   "outputs": [
    {
     "data": {
      "text/html": [
       "<div>\n",
       "<style scoped>\n",
       "    .dataframe tbody tr th:only-of-type {\n",
       "        vertical-align: middle;\n",
       "    }\n",
       "\n",
       "    .dataframe tbody tr th {\n",
       "        vertical-align: top;\n",
       "    }\n",
       "\n",
       "    .dataframe thead th {\n",
       "        text-align: right;\n",
       "    }\n",
       "</style>\n",
       "<table border=\"1\" class=\"dataframe\">\n",
       "  <thead>\n",
       "    <tr style=\"text-align: right;\">\n",
       "      <th></th>\n",
       "      <th>Código</th>\n",
       "      <th>Causa de defunción</th>\n",
       "      <th>Total</th>\n",
       "      <th>edad 0 a 4</th>\n",
       "      <th>edad 5 a 14</th>\n",
       "      <th>edad 15 a 44</th>\n",
       "      <th>edad 45 a 64</th>\n",
       "      <th>edad 65 a 84</th>\n",
       "      <th>edad 85 a 99</th>\n",
       "      <th>edad 100 o mas</th>\n",
       "      <th>edad desconocida</th>\n",
       "      <th>Tasa de Mortalidad</th>\n",
       "      <th>Factor</th>\n",
       "    </tr>\n",
       "  </thead>\n",
       "  <tbody>\n",
       "    <tr>\n",
       "      <th>0</th>\n",
       "      <td>200-215</td>\n",
       "      <td>Neoplasias</td>\n",
       "      <td>128906.0</td>\n",
       "      <td>NaN</td>\n",
       "      <td>NaN</td>\n",
       "      <td>NaN</td>\n",
       "      <td>NaN</td>\n",
       "      <td>NaN</td>\n",
       "      <td>NaN</td>\n",
       "      <td>NaN</td>\n",
       "      <td>NaN</td>\n",
       "      <td>2578.12</td>\n",
       "      <td>3.58</td>\n",
       "    </tr>\n",
       "    <tr>\n",
       "      <th>1</th>\n",
       "      <td>303</td>\n",
       "      <td>Enfermedades isquémicas del corazón</td>\n",
       "      <td>101293.0</td>\n",
       "      <td>2.0</td>\n",
       "      <td>10.0</td>\n",
       "      <td>1450.0</td>\n",
       "      <td>11984.0</td>\n",
       "      <td>36504.0</td>\n",
       "      <td>23998.0</td>\n",
       "      <td>1082.0</td>\n",
       "      <td>2.0</td>\n",
       "      <td>2025.86</td>\n",
       "      <td>2.81</td>\n",
       "    </tr>\n",
       "    <tr>\n",
       "      <th>2</th>\n",
       "      <td>605</td>\n",
       "      <td>Enfermedades crónicas de las vías respiratoria...</td>\n",
       "      <td>42973.0</td>\n",
       "      <td>26.0</td>\n",
       "      <td>10.0</td>\n",
       "      <td>222.0</td>\n",
       "      <td>2290.0</td>\n",
       "      <td>15284.0</td>\n",
       "      <td>13514.0</td>\n",
       "      <td>486.0</td>\n",
       "      <td>0.0</td>\n",
       "      <td>859.46</td>\n",
       "      <td>1.19</td>\n",
       "    </tr>\n",
       "    <tr>\n",
       "      <th>3</th>\n",
       "      <td>307</td>\n",
       "      <td>Enfermedades cerebrovasculares</td>\n",
       "      <td>41242.0</td>\n",
       "      <td>64.0</td>\n",
       "      <td>56.0</td>\n",
       "      <td>1202.0</td>\n",
       "      <td>5312.0</td>\n",
       "      <td>14942.0</td>\n",
       "      <td>8782.0</td>\n",
       "      <td>192.0</td>\n",
       "      <td>0.0</td>\n",
       "      <td>824.84</td>\n",
       "      <td>1.14</td>\n",
       "    </tr>\n",
       "    <tr>\n",
       "      <th>4</th>\n",
       "      <td>512</td>\n",
       "      <td>Agresiones (homicidios)</td>\n",
       "      <td>33431.0</td>\n",
       "      <td>90.0</td>\n",
       "      <td>192.0</td>\n",
       "      <td>19962.0</td>\n",
       "      <td>3798.0</td>\n",
       "      <td>648.0</td>\n",
       "      <td>46.0</td>\n",
       "      <td>2.0</td>\n",
       "      <td>26.0</td>\n",
       "      <td>668.62</td>\n",
       "      <td>0.93</td>\n",
       "    </tr>\n",
       "    <tr>\n",
       "      <th>5</th>\n",
       "      <td>999</td>\n",
       "      <td>COVID-19</td>\n",
       "      <td>36025.0</td>\n",
       "      <td>NaN</td>\n",
       "      <td>NaN</td>\n",
       "      <td>NaN</td>\n",
       "      <td>NaN</td>\n",
       "      <td>NaN</td>\n",
       "      <td>NaN</td>\n",
       "      <td>NaN</td>\n",
       "      <td>NaN</td>\n",
       "      <td>720.50</td>\n",
       "      <td>1.00</td>\n",
       "    </tr>\n",
       "    <tr>\n",
       "      <th>6</th>\n",
       "      <td>302</td>\n",
       "      <td>Enfermedades hipertensivas</td>\n",
       "      <td>23679.0</td>\n",
       "      <td>6.0</td>\n",
       "      <td>2.0</td>\n",
       "      <td>208.0</td>\n",
       "      <td>1840.0</td>\n",
       "      <td>8182.0</td>\n",
       "      <td>7002.0</td>\n",
       "      <td>300.0</td>\n",
       "      <td>0.0</td>\n",
       "      <td>473.58</td>\n",
       "      <td>0.66</td>\n",
       "    </tr>\n",
       "    <tr>\n",
       "      <th>7</th>\n",
       "      <td>601</td>\n",
       "      <td>Diabetes mellitus</td>\n",
       "      <td>20690.0</td>\n",
       "      <td>6.0</td>\n",
       "      <td>6.0</td>\n",
       "      <td>544.0</td>\n",
       "      <td>3490.0</td>\n",
       "      <td>8090.0</td>\n",
       "      <td>3110.0</td>\n",
       "      <td>80.0</td>\n",
       "      <td>0.0</td>\n",
       "      <td>413.80</td>\n",
       "      <td>0.57</td>\n",
       "    </tr>\n",
       "    <tr>\n",
       "      <th>8</th>\n",
       "      <td>609</td>\n",
       "      <td>Resto de enfermedades del sistema digestivo</td>\n",
       "      <td>20080.0</td>\n",
       "      <td>150.0</td>\n",
       "      <td>68.0</td>\n",
       "      <td>854.0</td>\n",
       "      <td>2656.0</td>\n",
       "      <td>7230.0</td>\n",
       "      <td>3836.0</td>\n",
       "      <td>80.0</td>\n",
       "      <td>0.0</td>\n",
       "      <td>401.60</td>\n",
       "      <td>0.56</td>\n",
       "    </tr>\n",
       "    <tr>\n",
       "      <th>9</th>\n",
       "      <td>501</td>\n",
       "      <td>Accidentes de transporte terrestre</td>\n",
       "      <td>17879.0</td>\n",
       "      <td>94.0</td>\n",
       "      <td>300.0</td>\n",
       "      <td>7652.0</td>\n",
       "      <td>2976.0</td>\n",
       "      <td>1926.0</td>\n",
       "      <td>290.0</td>\n",
       "      <td>0.0</td>\n",
       "      <td>6.0</td>\n",
       "      <td>357.58</td>\n",
       "      <td>0.50</td>\n",
       "    </tr>\n",
       "    <tr>\n",
       "      <th>10</th>\n",
       "      <td>610</td>\n",
       "      <td>Enfermedades del sistema urinario</td>\n",
       "      <td>17631.0</td>\n",
       "      <td>98.0</td>\n",
       "      <td>46.0</td>\n",
       "      <td>586.0</td>\n",
       "      <td>1898.0</td>\n",
       "      <td>6078.0</td>\n",
       "      <td>4222.0</td>\n",
       "      <td>132.0</td>\n",
       "      <td>0.0</td>\n",
       "      <td>352.62</td>\n",
       "      <td>0.49</td>\n",
       "    </tr>\n",
       "    <tr>\n",
       "      <th>11</th>\n",
       "      <td>614</td>\n",
       "      <td>Resto de las enfermedades</td>\n",
       "      <td>17404.0</td>\n",
       "      <td>344.0</td>\n",
       "      <td>172.0</td>\n",
       "      <td>1802.0</td>\n",
       "      <td>2634.0</td>\n",
       "      <td>4952.0</td>\n",
       "      <td>2860.0</td>\n",
       "      <td>128.0</td>\n",
       "      <td>0.0</td>\n",
       "      <td>348.08</td>\n",
       "      <td>0.48</td>\n",
       "    </tr>\n",
       "    <tr>\n",
       "      <th>12</th>\n",
       "      <td>304</td>\n",
       "      <td>Enfermedad cardiopulmonar enfermedades de la c...</td>\n",
       "      <td>15633.0</td>\n",
       "      <td>150.0</td>\n",
       "      <td>84.0</td>\n",
       "      <td>868.0</td>\n",
       "      <td>2128.0</td>\n",
       "      <td>5510.0</td>\n",
       "      <td>2760.0</td>\n",
       "      <td>80.0</td>\n",
       "      <td>0.0</td>\n",
       "      <td>312.66</td>\n",
       "      <td>0.43</td>\n",
       "    </tr>\n",
       "    <tr>\n",
       "      <th>13</th>\n",
       "      <td>604</td>\n",
       "      <td>Enfermedades del sistema nervioso  excepto men...</td>\n",
       "      <td>14726.0</td>\n",
       "      <td>392.0</td>\n",
       "      <td>448.0</td>\n",
       "      <td>1704.0</td>\n",
       "      <td>1704.0</td>\n",
       "      <td>3930.0</td>\n",
       "      <td>2650.0</td>\n",
       "      <td>80.0</td>\n",
       "      <td>0.0</td>\n",
       "      <td>294.52</td>\n",
       "      <td>0.41</td>\n",
       "    </tr>\n",
       "  </tbody>\n",
       "</table>\n",
       "</div>"
      ],
      "text/plain": [
       "     Código                                 Causa de defunción     Total  \\\n",
       "0   200-215                                         Neoplasias  128906.0   \n",
       "1       303                Enfermedades isquémicas del corazón  101293.0   \n",
       "2       605  Enfermedades crónicas de las vías respiratoria...   42973.0   \n",
       "3       307                     Enfermedades cerebrovasculares   41242.0   \n",
       "4       512                            Agresiones (homicidios)   33431.0   \n",
       "5       999                                           COVID-19   36025.0   \n",
       "6       302                         Enfermedades hipertensivas   23679.0   \n",
       "7       601                                  Diabetes mellitus   20690.0   \n",
       "8       609        Resto de enfermedades del sistema digestivo   20080.0   \n",
       "9       501                 Accidentes de transporte terrestre   17879.0   \n",
       "10      610                  Enfermedades del sistema urinario   17631.0   \n",
       "11      614                          Resto de las enfermedades   17404.0   \n",
       "12      304  Enfermedad cardiopulmonar enfermedades de la c...   15633.0   \n",
       "13      604  Enfermedades del sistema nervioso  excepto men...   14726.0   \n",
       "\n",
       "    edad 0 a 4  edad 5 a 14  edad 15 a 44  edad 45 a 64  edad 65 a 84  \\\n",
       "0          NaN          NaN           NaN           NaN           NaN   \n",
       "1          2.0         10.0        1450.0       11984.0       36504.0   \n",
       "2         26.0         10.0         222.0        2290.0       15284.0   \n",
       "3         64.0         56.0        1202.0        5312.0       14942.0   \n",
       "4         90.0        192.0       19962.0        3798.0         648.0   \n",
       "5          NaN          NaN           NaN           NaN           NaN   \n",
       "6          6.0          2.0         208.0        1840.0        8182.0   \n",
       "7          6.0          6.0         544.0        3490.0        8090.0   \n",
       "8        150.0         68.0         854.0        2656.0        7230.0   \n",
       "9         94.0        300.0        7652.0        2976.0        1926.0   \n",
       "10        98.0         46.0         586.0        1898.0        6078.0   \n",
       "11       344.0        172.0        1802.0        2634.0        4952.0   \n",
       "12       150.0         84.0         868.0        2128.0        5510.0   \n",
       "13       392.0        448.0        1704.0        1704.0        3930.0   \n",
       "\n",
       "    edad 85 a 99  edad 100 o mas  edad desconocida  Tasa de Mortalidad  Factor  \n",
       "0            NaN             NaN               NaN             2578.12    3.58  \n",
       "1        23998.0          1082.0               2.0             2025.86    2.81  \n",
       "2        13514.0           486.0               0.0              859.46    1.19  \n",
       "3         8782.0           192.0               0.0              824.84    1.14  \n",
       "4           46.0             2.0              26.0              668.62    0.93  \n",
       "5            NaN             NaN               NaN              720.50    1.00  \n",
       "6         7002.0           300.0               0.0              473.58    0.66  \n",
       "7         3110.0            80.0               0.0              413.80    0.57  \n",
       "8         3836.0            80.0               0.0              401.60    0.56  \n",
       "9          290.0             0.0               6.0              357.58    0.50  \n",
       "10        4222.0           132.0               0.0              352.62    0.49  \n",
       "11        2860.0           128.0               0.0              348.08    0.48  \n",
       "12        2760.0            80.0               0.0              312.66    0.43  \n",
       "13        2650.0            80.0               0.0              294.52    0.41  "
      ]
     },
     "execution_count": 22,
     "metadata": {},
     "output_type": "execute_result"
    }
   ],
   "source": [
    "mortalidadCol= pd.read_csv('tasasMortalidad.csv', names=['Código','Causa de defunción','Total', 'edad 0 a 4', 'edad 5 a 14',\n",
    "       'edad 15 a 44', 'edad 45 a 64', 'edad 65 a 84', 'edad 85 a 99',\n",
    "       'edad 100 o mas', 'edad desconocida', 'Tasa de Mortalidad', 'Factor','nombre'], skiprows= 1)\n",
    "mortalidadCol.drop(columns= ['Factor', 'nombre', 'Tasa de Mortalidad'], inplace=True)\n",
    "mortalidadCol['Total'] = (mortalidadCol.loc[:,'Total']*(dias/180)).round(0)\n",
    "mortalidadCol.loc[5, 'Total'] = fallecidos\n",
    "mortalidadCol['Tasa de Mortalidad']= mortalidadCol.loc[:,'Total']/50 \n",
    "mortalidadCol['Factor']= (mortalidadCol.loc[:,'Tasa de Mortalidad']/mortalidadCol.loc[5,'Tasa de Mortalidad']).round(2)\n",
    "mortalidadCol"
   ]
  },
  {
   "cell_type": "markdown",
   "metadata": {
    "slideshow": {
     "slide_type": "slide"
    }
   },
   "source": [
    "# Fallecidos estimados por otras causas período \"pandemia\" :"
   ]
  },
  {
   "cell_type": "code",
   "execution_count": 23,
   "metadata": {
    "slideshow": {
     "slide_type": "subslide"
    }
   },
   "outputs": [
    {
     "data": {
      "text/plain": [
       "531592.0"
      ]
     },
     "execution_count": 23,
     "metadata": {},
     "output_type": "execute_result"
    }
   ],
   "source": [
    "a = mortalidadCol['Total'].sum()\n",
    "a"
   ]
  },
  {
   "cell_type": "markdown",
   "metadata": {
    "slideshow": {
     "slide_type": "slide"
    }
   },
   "source": [
    "# Porcentaje Fallecidos por \"COVID-19\" en relación con otras causas:"
   ]
  },
  {
   "cell_type": "code",
   "execution_count": 24,
   "metadata": {
    "slideshow": {
     "slide_type": "subslide"
    }
   },
   "outputs": [
    {
     "data": {
      "text/plain": [
       "6.78"
      ]
     },
     "execution_count": 24,
     "metadata": {},
     "output_type": "execute_result"
    }
   ],
   "source": [
    "((mortalidadCol.loc[5,'Total']/mortalidadCol['Total'].sum())*100).round(2)"
   ]
  },
  {
   "cell_type": "markdown",
   "metadata": {
    "slideshow": {
     "slide_type": "slide"
    }
   },
   "source": [
    "# Tabla Colombia: Casos por grupo etario y Tasa de mortalidad por millón de habitantes. \n",
    "# Factor causa 'x'/CoVid-19"
   ]
  },
  {
   "cell_type": "code",
   "execution_count": 25,
   "metadata": {
    "slideshow": {
     "slide_type": "skip"
    }
   },
   "outputs": [],
   "source": [
    "mortalidadCol.loc[5,'edad 0 a 4']= etarioDefuncionesColombia.loc[0,'edad 0 a 4']"
   ]
  },
  {
   "cell_type": "code",
   "execution_count": 26,
   "metadata": {
    "slideshow": {
     "slide_type": "skip"
    }
   },
   "outputs": [],
   "source": [
    "mortalidadCol.loc[5,'edad 5 a 14']= etarioDefuncionesColombia.loc[0,'edad 5 a 14']"
   ]
  },
  {
   "cell_type": "code",
   "execution_count": 27,
   "metadata": {
    "slideshow": {
     "slide_type": "slide"
    }
   },
   "outputs": [],
   "source": [
    "mortalidadCol.loc[5,'edad 15 a 44']= etarioDefuncionesColombia.loc[0,'edad 15 a 44']"
   ]
  },
  {
   "cell_type": "code",
   "execution_count": 28,
   "metadata": {
    "slideshow": {
     "slide_type": "skip"
    }
   },
   "outputs": [],
   "source": [
    "mortalidadCol.loc[5,'edad 45 a 64']= etarioDefuncionesColombia.loc[0,'edad 45 a 64']"
   ]
  },
  {
   "cell_type": "code",
   "execution_count": 29,
   "metadata": {
    "slideshow": {
     "slide_type": "skip"
    }
   },
   "outputs": [],
   "source": [
    "mortalidadCol.loc[5,'edad 65 a 84']= etarioDefuncionesColombia.loc[0,'edad 65 a 84']"
   ]
  },
  {
   "cell_type": "code",
   "execution_count": 30,
   "metadata": {
    "slideshow": {
     "slide_type": "skip"
    }
   },
   "outputs": [],
   "source": [
    "mortalidadCol.loc[5,'edad 85 a 99']= etarioDefuncionesColombia.loc[0,'edad 85 a 99']"
   ]
  },
  {
   "cell_type": "code",
   "execution_count": 31,
   "metadata": {
    "slideshow": {
     "slide_type": "slide"
    }
   },
   "outputs": [
    {
     "data": {
      "text/html": [
       "<div>\n",
       "<style scoped>\n",
       "    .dataframe tbody tr th:only-of-type {\n",
       "        vertical-align: middle;\n",
       "    }\n",
       "\n",
       "    .dataframe tbody tr th {\n",
       "        vertical-align: top;\n",
       "    }\n",
       "\n",
       "    .dataframe thead th {\n",
       "        text-align: right;\n",
       "    }\n",
       "</style>\n",
       "<table border=\"1\" class=\"dataframe\">\n",
       "  <thead>\n",
       "    <tr style=\"text-align: right;\">\n",
       "      <th></th>\n",
       "      <th>Código</th>\n",
       "      <th>Causa de defunción</th>\n",
       "      <th>Total</th>\n",
       "      <th>edad 0 a 4</th>\n",
       "      <th>edad 5 a 14</th>\n",
       "      <th>edad 15 a 44</th>\n",
       "      <th>edad 45 a 64</th>\n",
       "      <th>edad 65 a 84</th>\n",
       "      <th>edad 85 a 99</th>\n",
       "      <th>edad 100 o mas</th>\n",
       "      <th>edad desconocida</th>\n",
       "      <th>Tasa de Mortalidad</th>\n",
       "      <th>Factor</th>\n",
       "    </tr>\n",
       "  </thead>\n",
       "  <tbody>\n",
       "    <tr>\n",
       "      <th>0</th>\n",
       "      <td>200-215</td>\n",
       "      <td>Neoplasias</td>\n",
       "      <td>128906.0</td>\n",
       "      <td>NaN</td>\n",
       "      <td>NaN</td>\n",
       "      <td>NaN</td>\n",
       "      <td>NaN</td>\n",
       "      <td>NaN</td>\n",
       "      <td>NaN</td>\n",
       "      <td>NaN</td>\n",
       "      <td>NaN</td>\n",
       "      <td>2578.12</td>\n",
       "      <td>3.58</td>\n",
       "    </tr>\n",
       "    <tr>\n",
       "      <th>1</th>\n",
       "      <td>303</td>\n",
       "      <td>Enfermedades isquémicas del corazón</td>\n",
       "      <td>101293.0</td>\n",
       "      <td>2.0</td>\n",
       "      <td>10.0</td>\n",
       "      <td>1450.0</td>\n",
       "      <td>11984.0</td>\n",
       "      <td>36504.0</td>\n",
       "      <td>23998.0</td>\n",
       "      <td>1082.0</td>\n",
       "      <td>2.0</td>\n",
       "      <td>2025.86</td>\n",
       "      <td>2.81</td>\n",
       "    </tr>\n",
       "    <tr>\n",
       "      <th>2</th>\n",
       "      <td>605</td>\n",
       "      <td>Enfermedades crónicas de las vías respiratoria...</td>\n",
       "      <td>42973.0</td>\n",
       "      <td>26.0</td>\n",
       "      <td>10.0</td>\n",
       "      <td>222.0</td>\n",
       "      <td>2290.0</td>\n",
       "      <td>15284.0</td>\n",
       "      <td>13514.0</td>\n",
       "      <td>486.0</td>\n",
       "      <td>0.0</td>\n",
       "      <td>859.46</td>\n",
       "      <td>1.19</td>\n",
       "    </tr>\n",
       "    <tr>\n",
       "      <th>3</th>\n",
       "      <td>307</td>\n",
       "      <td>Enfermedades cerebrovasculares</td>\n",
       "      <td>41242.0</td>\n",
       "      <td>64.0</td>\n",
       "      <td>56.0</td>\n",
       "      <td>1202.0</td>\n",
       "      <td>5312.0</td>\n",
       "      <td>14942.0</td>\n",
       "      <td>8782.0</td>\n",
       "      <td>192.0</td>\n",
       "      <td>0.0</td>\n",
       "      <td>824.84</td>\n",
       "      <td>1.14</td>\n",
       "    </tr>\n",
       "    <tr>\n",
       "      <th>4</th>\n",
       "      <td>512</td>\n",
       "      <td>Agresiones (homicidios)</td>\n",
       "      <td>33431.0</td>\n",
       "      <td>90.0</td>\n",
       "      <td>192.0</td>\n",
       "      <td>19962.0</td>\n",
       "      <td>3798.0</td>\n",
       "      <td>648.0</td>\n",
       "      <td>46.0</td>\n",
       "      <td>2.0</td>\n",
       "      <td>26.0</td>\n",
       "      <td>668.62</td>\n",
       "      <td>0.93</td>\n",
       "    </tr>\n",
       "    <tr>\n",
       "      <th>5</th>\n",
       "      <td>999</td>\n",
       "      <td>COVID-19</td>\n",
       "      <td>36025.0</td>\n",
       "      <td>74.0</td>\n",
       "      <td>73.0</td>\n",
       "      <td>2820.0</td>\n",
       "      <td>10474.0</td>\n",
       "      <td>18428.0</td>\n",
       "      <td>4540.0</td>\n",
       "      <td>48.0</td>\n",
       "      <td>NaN</td>\n",
       "      <td>720.50</td>\n",
       "      <td>1.00</td>\n",
       "    </tr>\n",
       "    <tr>\n",
       "      <th>6</th>\n",
       "      <td>302</td>\n",
       "      <td>Enfermedades hipertensivas</td>\n",
       "      <td>23679.0</td>\n",
       "      <td>6.0</td>\n",
       "      <td>2.0</td>\n",
       "      <td>208.0</td>\n",
       "      <td>1840.0</td>\n",
       "      <td>8182.0</td>\n",
       "      <td>7002.0</td>\n",
       "      <td>300.0</td>\n",
       "      <td>0.0</td>\n",
       "      <td>473.58</td>\n",
       "      <td>0.66</td>\n",
       "    </tr>\n",
       "    <tr>\n",
       "      <th>7</th>\n",
       "      <td>601</td>\n",
       "      <td>Diabetes mellitus</td>\n",
       "      <td>20690.0</td>\n",
       "      <td>6.0</td>\n",
       "      <td>6.0</td>\n",
       "      <td>544.0</td>\n",
       "      <td>3490.0</td>\n",
       "      <td>8090.0</td>\n",
       "      <td>3110.0</td>\n",
       "      <td>80.0</td>\n",
       "      <td>0.0</td>\n",
       "      <td>413.80</td>\n",
       "      <td>0.57</td>\n",
       "    </tr>\n",
       "    <tr>\n",
       "      <th>8</th>\n",
       "      <td>609</td>\n",
       "      <td>Resto de enfermedades del sistema digestivo</td>\n",
       "      <td>20080.0</td>\n",
       "      <td>150.0</td>\n",
       "      <td>68.0</td>\n",
       "      <td>854.0</td>\n",
       "      <td>2656.0</td>\n",
       "      <td>7230.0</td>\n",
       "      <td>3836.0</td>\n",
       "      <td>80.0</td>\n",
       "      <td>0.0</td>\n",
       "      <td>401.60</td>\n",
       "      <td>0.56</td>\n",
       "    </tr>\n",
       "    <tr>\n",
       "      <th>9</th>\n",
       "      <td>501</td>\n",
       "      <td>Accidentes de transporte terrestre</td>\n",
       "      <td>17879.0</td>\n",
       "      <td>94.0</td>\n",
       "      <td>300.0</td>\n",
       "      <td>7652.0</td>\n",
       "      <td>2976.0</td>\n",
       "      <td>1926.0</td>\n",
       "      <td>290.0</td>\n",
       "      <td>0.0</td>\n",
       "      <td>6.0</td>\n",
       "      <td>357.58</td>\n",
       "      <td>0.50</td>\n",
       "    </tr>\n",
       "    <tr>\n",
       "      <th>10</th>\n",
       "      <td>610</td>\n",
       "      <td>Enfermedades del sistema urinario</td>\n",
       "      <td>17631.0</td>\n",
       "      <td>98.0</td>\n",
       "      <td>46.0</td>\n",
       "      <td>586.0</td>\n",
       "      <td>1898.0</td>\n",
       "      <td>6078.0</td>\n",
       "      <td>4222.0</td>\n",
       "      <td>132.0</td>\n",
       "      <td>0.0</td>\n",
       "      <td>352.62</td>\n",
       "      <td>0.49</td>\n",
       "    </tr>\n",
       "    <tr>\n",
       "      <th>11</th>\n",
       "      <td>614</td>\n",
       "      <td>Resto de las enfermedades</td>\n",
       "      <td>17404.0</td>\n",
       "      <td>344.0</td>\n",
       "      <td>172.0</td>\n",
       "      <td>1802.0</td>\n",
       "      <td>2634.0</td>\n",
       "      <td>4952.0</td>\n",
       "      <td>2860.0</td>\n",
       "      <td>128.0</td>\n",
       "      <td>0.0</td>\n",
       "      <td>348.08</td>\n",
       "      <td>0.48</td>\n",
       "    </tr>\n",
       "    <tr>\n",
       "      <th>12</th>\n",
       "      <td>304</td>\n",
       "      <td>Enfermedad cardiopulmonar enfermedades de la c...</td>\n",
       "      <td>15633.0</td>\n",
       "      <td>150.0</td>\n",
       "      <td>84.0</td>\n",
       "      <td>868.0</td>\n",
       "      <td>2128.0</td>\n",
       "      <td>5510.0</td>\n",
       "      <td>2760.0</td>\n",
       "      <td>80.0</td>\n",
       "      <td>0.0</td>\n",
       "      <td>312.66</td>\n",
       "      <td>0.43</td>\n",
       "    </tr>\n",
       "    <tr>\n",
       "      <th>13</th>\n",
       "      <td>604</td>\n",
       "      <td>Enfermedades del sistema nervioso  excepto men...</td>\n",
       "      <td>14726.0</td>\n",
       "      <td>392.0</td>\n",
       "      <td>448.0</td>\n",
       "      <td>1704.0</td>\n",
       "      <td>1704.0</td>\n",
       "      <td>3930.0</td>\n",
       "      <td>2650.0</td>\n",
       "      <td>80.0</td>\n",
       "      <td>0.0</td>\n",
       "      <td>294.52</td>\n",
       "      <td>0.41</td>\n",
       "    </tr>\n",
       "  </tbody>\n",
       "</table>\n",
       "</div>"
      ],
      "text/plain": [
       "     Código                                 Causa de defunción     Total  \\\n",
       "0   200-215                                         Neoplasias  128906.0   \n",
       "1       303                Enfermedades isquémicas del corazón  101293.0   \n",
       "2       605  Enfermedades crónicas de las vías respiratoria...   42973.0   \n",
       "3       307                     Enfermedades cerebrovasculares   41242.0   \n",
       "4       512                            Agresiones (homicidios)   33431.0   \n",
       "5       999                                           COVID-19   36025.0   \n",
       "6       302                         Enfermedades hipertensivas   23679.0   \n",
       "7       601                                  Diabetes mellitus   20690.0   \n",
       "8       609        Resto de enfermedades del sistema digestivo   20080.0   \n",
       "9       501                 Accidentes de transporte terrestre   17879.0   \n",
       "10      610                  Enfermedades del sistema urinario   17631.0   \n",
       "11      614                          Resto de las enfermedades   17404.0   \n",
       "12      304  Enfermedad cardiopulmonar enfermedades de la c...   15633.0   \n",
       "13      604  Enfermedades del sistema nervioso  excepto men...   14726.0   \n",
       "\n",
       "    edad 0 a 4  edad 5 a 14  edad 15 a 44  edad 45 a 64  edad 65 a 84  \\\n",
       "0          NaN          NaN           NaN           NaN           NaN   \n",
       "1          2.0         10.0        1450.0       11984.0       36504.0   \n",
       "2         26.0         10.0         222.0        2290.0       15284.0   \n",
       "3         64.0         56.0        1202.0        5312.0       14942.0   \n",
       "4         90.0        192.0       19962.0        3798.0         648.0   \n",
       "5         74.0         73.0        2820.0       10474.0       18428.0   \n",
       "6          6.0          2.0         208.0        1840.0        8182.0   \n",
       "7          6.0          6.0         544.0        3490.0        8090.0   \n",
       "8        150.0         68.0         854.0        2656.0        7230.0   \n",
       "9         94.0        300.0        7652.0        2976.0        1926.0   \n",
       "10        98.0         46.0         586.0        1898.0        6078.0   \n",
       "11       344.0        172.0        1802.0        2634.0        4952.0   \n",
       "12       150.0         84.0         868.0        2128.0        5510.0   \n",
       "13       392.0        448.0        1704.0        1704.0        3930.0   \n",
       "\n",
       "    edad 85 a 99  edad 100 o mas  edad desconocida  Tasa de Mortalidad  Factor  \n",
       "0            NaN             NaN               NaN             2578.12    3.58  \n",
       "1        23998.0          1082.0               2.0             2025.86    2.81  \n",
       "2        13514.0           486.0               0.0              859.46    1.19  \n",
       "3         8782.0           192.0               0.0              824.84    1.14  \n",
       "4           46.0             2.0              26.0              668.62    0.93  \n",
       "5         4540.0            48.0               NaN              720.50    1.00  \n",
       "6         7002.0           300.0               0.0              473.58    0.66  \n",
       "7         3110.0            80.0               0.0              413.80    0.57  \n",
       "8         3836.0            80.0               0.0              401.60    0.56  \n",
       "9          290.0             0.0               6.0              357.58    0.50  \n",
       "10        4222.0           132.0               0.0              352.62    0.49  \n",
       "11        2860.0           128.0               0.0              348.08    0.48  \n",
       "12        2760.0            80.0               0.0              312.66    0.43  \n",
       "13        2650.0            80.0               0.0              294.52    0.41  "
      ]
     },
     "execution_count": 31,
     "metadata": {},
     "output_type": "execute_result"
    }
   ],
   "source": [
    "mortalidadCol.loc[5,'edad 100 o mas']= etarioDefuncionesColombia.loc[0,'edad 100 o mas']\n",
    "mortalidadCol.round()\n",
    "mortalidadCol"
   ]
  },
  {
   "cell_type": "code",
   "execution_count": 32,
   "metadata": {
    "slideshow": {
     "slide_type": "skip"
    }
   },
   "outputs": [],
   "source": [
    "mortalidadCol['TM_0_4'] = ((mortalidadCol['edad 0 a 4']/etariosporMunic.loc[0,'edad 0 a 4'])*1000000).round(2)\n",
    "mortalidadCol['TM_5_14'] = ((mortalidadCol['edad 5 a 14']/etariosporMunic.loc[0,'edad 0 a 4'])*1000000).round(2)\n",
    "mortalidadCol['TM_15_44'] = ((mortalidadCol['edad 15 a 44']/etariosporMunic.loc[0,'edad 0 a 4'])*1000000).round(2)\n",
    "mortalidadCol['TM_45_64'] = ((mortalidadCol['edad 45 a 64']/etariosporMunic.loc[0,'edad 0 a 4'])*1000000).round(2)\n",
    "mortalidadCol['TM_65_84'] = ((mortalidadCol['edad 65 a 84']/etariosporMunic.loc[0,'edad 0 a 4'])*1000000).round(2)\n",
    "mortalidadCol['TM_85_99'] = ((mortalidadCol['edad 85 a 99']/etariosporMunic.loc[0,'edad 0 a 4'])*1000000).round(2)\n",
    "mortalidadCol['TM_100 o más'] = ((mortalidadCol['edad 100 o mas']/etariosporMunic.loc[0,'edad 0 a 4'])*1000000).round(2)"
   ]
  },
  {
   "cell_type": "code",
   "execution_count": 33,
   "metadata": {
    "slideshow": {
     "slide_type": "skip"
    }
   },
   "outputs": [],
   "source": [
    "tasasMortalidadColGrupoEtario = mortalidadCol.drop(columns= ['edad 0 a 4', 'edad 5 a 14',\n",
    "       'edad 15 a 44', 'edad 45 a 64', 'edad 65 a 84', 'edad 85 a 99',\n",
    "       'edad 100 o mas', 'edad desconocida','Factor'])"
   ]
  },
  {
   "cell_type": "markdown",
   "metadata": {
    "slideshow": {
     "slide_type": "slide"
    }
   },
   "source": [
    "# Colombia:  Tasa de Mortalidad total y por grupo etario  de las principales patologías agrupadas (por millón de habitantes)"
   ]
  },
  {
   "cell_type": "code",
   "execution_count": 34,
   "metadata": {
    "slideshow": {
     "slide_type": "subslide"
    }
   },
   "outputs": [
    {
     "data": {
      "text/html": [
       "<div>\n",
       "<style scoped>\n",
       "    .dataframe tbody tr th:only-of-type {\n",
       "        vertical-align: middle;\n",
       "    }\n",
       "\n",
       "    .dataframe tbody tr th {\n",
       "        vertical-align: top;\n",
       "    }\n",
       "\n",
       "    .dataframe thead th {\n",
       "        text-align: right;\n",
       "    }\n",
       "</style>\n",
       "<table border=\"1\" class=\"dataframe\">\n",
       "  <thead>\n",
       "    <tr style=\"text-align: right;\">\n",
       "      <th></th>\n",
       "      <th>Código</th>\n",
       "      <th>Causa de defunción</th>\n",
       "      <th>Total defunciones</th>\n",
       "      <th>Tasa de Mortalidad total por millón de habitantes</th>\n",
       "      <th>TM edad 0 a 4 años</th>\n",
       "      <th>TM edad 5 a 14 años</th>\n",
       "      <th>TM edad 15 a 44 años</th>\n",
       "      <th>TM edad 45 a 64 años</th>\n",
       "      <th>TM edad 65 a 84 años</th>\n",
       "      <th>TM edad 85 a 99 años</th>\n",
       "      <th>TM edad 100 o más años</th>\n",
       "    </tr>\n",
       "  </thead>\n",
       "  <tbody>\n",
       "    <tr>\n",
       "      <th>0</th>\n",
       "      <td>200-215</td>\n",
       "      <td>Neoplasias</td>\n",
       "      <td>128906.0</td>\n",
       "      <td>2578.12</td>\n",
       "      <td>NaN</td>\n",
       "      <td>NaN</td>\n",
       "      <td>NaN</td>\n",
       "      <td>NaN</td>\n",
       "      <td>NaN</td>\n",
       "      <td>NaN</td>\n",
       "      <td>NaN</td>\n",
       "    </tr>\n",
       "    <tr>\n",
       "      <th>1</th>\n",
       "      <td>303</td>\n",
       "      <td>Enfermedades isquémicas del corazón</td>\n",
       "      <td>101293.0</td>\n",
       "      <td>2025.86</td>\n",
       "      <td>84.79</td>\n",
       "      <td>423.96</td>\n",
       "      <td>61474.54</td>\n",
       "      <td>508076.48</td>\n",
       "      <td>1547632.17</td>\n",
       "      <td>1017424.85</td>\n",
       "      <td>45872.73</td>\n",
       "    </tr>\n",
       "    <tr>\n",
       "      <th>2</th>\n",
       "      <td>605</td>\n",
       "      <td>Enfermedades crónicas de las vías respiratoria...</td>\n",
       "      <td>42973.0</td>\n",
       "      <td>859.46</td>\n",
       "      <td>1102.30</td>\n",
       "      <td>423.96</td>\n",
       "      <td>9411.96</td>\n",
       "      <td>97087.38</td>\n",
       "      <td>647984.06</td>\n",
       "      <td>572942.72</td>\n",
       "      <td>20604.57</td>\n",
       "    </tr>\n",
       "    <tr>\n",
       "      <th>3</th>\n",
       "      <td>307</td>\n",
       "      <td>Enfermedades cerebrovasculares</td>\n",
       "      <td>41242.0</td>\n",
       "      <td>824.84</td>\n",
       "      <td>2713.36</td>\n",
       "      <td>2374.19</td>\n",
       "      <td>50960.27</td>\n",
       "      <td>225208.80</td>\n",
       "      <td>633484.55</td>\n",
       "      <td>372323.74</td>\n",
       "      <td>8140.08</td>\n",
       "    </tr>\n",
       "    <tr>\n",
       "      <th>4</th>\n",
       "      <td>512</td>\n",
       "      <td>Agresiones (homicidios)</td>\n",
       "      <td>33431.0</td>\n",
       "      <td>668.62</td>\n",
       "      <td>3815.66</td>\n",
       "      <td>8140.08</td>\n",
       "      <td>846313.65</td>\n",
       "      <td>161020.90</td>\n",
       "      <td>27472.76</td>\n",
       "      <td>1950.23</td>\n",
       "      <td>84.79</td>\n",
       "    </tr>\n",
       "    <tr>\n",
       "      <th>5</th>\n",
       "      <td>999</td>\n",
       "      <td>COVID-19</td>\n",
       "      <td>36025.0</td>\n",
       "      <td>720.50</td>\n",
       "      <td>3137.32</td>\n",
       "      <td>3094.93</td>\n",
       "      <td>119557.38</td>\n",
       "      <td>444058.17</td>\n",
       "      <td>781277.82</td>\n",
       "      <td>192478.91</td>\n",
       "      <td>2035.02</td>\n",
       "    </tr>\n",
       "    <tr>\n",
       "      <th>6</th>\n",
       "      <td>302</td>\n",
       "      <td>Enfermedades hipertensivas</td>\n",
       "      <td>23679.0</td>\n",
       "      <td>473.58</td>\n",
       "      <td>254.38</td>\n",
       "      <td>84.79</td>\n",
       "      <td>8818.42</td>\n",
       "      <td>78009.07</td>\n",
       "      <td>346886.00</td>\n",
       "      <td>296858.44</td>\n",
       "      <td>12718.87</td>\n",
       "    </tr>\n",
       "    <tr>\n",
       "      <th>7</th>\n",
       "      <td>601</td>\n",
       "      <td>Diabetes mellitus</td>\n",
       "      <td>20690.0</td>\n",
       "      <td>413.80</td>\n",
       "      <td>254.38</td>\n",
       "      <td>254.38</td>\n",
       "      <td>23063.55</td>\n",
       "      <td>147962.86</td>\n",
       "      <td>342985.54</td>\n",
       "      <td>131852.29</td>\n",
       "      <td>3391.70</td>\n",
       "    </tr>\n",
       "    <tr>\n",
       "      <th>8</th>\n",
       "      <td>609</td>\n",
       "      <td>Resto de enfermedades del sistema digestivo</td>\n",
       "      <td>20080.0</td>\n",
       "      <td>401.60</td>\n",
       "      <td>6359.44</td>\n",
       "      <td>2882.94</td>\n",
       "      <td>36206.38</td>\n",
       "      <td>112604.40</td>\n",
       "      <td>306524.78</td>\n",
       "      <td>162631.96</td>\n",
       "      <td>3391.70</td>\n",
       "    </tr>\n",
       "    <tr>\n",
       "      <th>9</th>\n",
       "      <td>501</td>\n",
       "      <td>Accidentes de transporte terrestre</td>\n",
       "      <td>17879.0</td>\n",
       "      <td>357.58</td>\n",
       "      <td>3985.25</td>\n",
       "      <td>12718.87</td>\n",
       "      <td>324415.99</td>\n",
       "      <td>126171.20</td>\n",
       "      <td>81655.15</td>\n",
       "      <td>12294.91</td>\n",
       "      <td>0.00</td>\n",
       "    </tr>\n",
       "    <tr>\n",
       "      <th>10</th>\n",
       "      <td>610</td>\n",
       "      <td>Enfermedades del sistema urinario</td>\n",
       "      <td>17631.0</td>\n",
       "      <td>352.62</td>\n",
       "      <td>4154.83</td>\n",
       "      <td>1950.23</td>\n",
       "      <td>24844.19</td>\n",
       "      <td>80468.05</td>\n",
       "      <td>257684.32</td>\n",
       "      <td>178996.91</td>\n",
       "      <td>5596.30</td>\n",
       "    </tr>\n",
       "    <tr>\n",
       "      <th>11</th>\n",
       "      <td>614</td>\n",
       "      <td>Resto de las enfermedades</td>\n",
       "      <td>17404.0</td>\n",
       "      <td>348.08</td>\n",
       "      <td>14584.30</td>\n",
       "      <td>7292.15</td>\n",
       "      <td>76398.02</td>\n",
       "      <td>111671.68</td>\n",
       "      <td>209946.16</td>\n",
       "      <td>121253.23</td>\n",
       "      <td>5426.72</td>\n",
       "    </tr>\n",
       "    <tr>\n",
       "      <th>12</th>\n",
       "      <td>304</td>\n",
       "      <td>Enfermedad cardiopulmonar enfermedades de la c...</td>\n",
       "      <td>15633.0</td>\n",
       "      <td>312.66</td>\n",
       "      <td>6359.44</td>\n",
       "      <td>3561.28</td>\n",
       "      <td>36799.93</td>\n",
       "      <td>90219.19</td>\n",
       "      <td>233603.26</td>\n",
       "      <td>117013.61</td>\n",
       "      <td>3391.70</td>\n",
       "    </tr>\n",
       "    <tr>\n",
       "      <th>13</th>\n",
       "      <td>604</td>\n",
       "      <td>Enfermedades del sistema nervioso  excepto men...</td>\n",
       "      <td>14726.0</td>\n",
       "      <td>294.52</td>\n",
       "      <td>16619.32</td>\n",
       "      <td>18993.51</td>\n",
       "      <td>72243.18</td>\n",
       "      <td>72243.18</td>\n",
       "      <td>166617.20</td>\n",
       "      <td>112350.02</td>\n",
       "      <td>3391.70</td>\n",
       "    </tr>\n",
       "  </tbody>\n",
       "</table>\n",
       "</div>"
      ],
      "text/plain": [
       "     Código                                 Causa de defunción  \\\n",
       "0   200-215                                         Neoplasias   \n",
       "1       303                Enfermedades isquémicas del corazón   \n",
       "2       605  Enfermedades crónicas de las vías respiratoria...   \n",
       "3       307                     Enfermedades cerebrovasculares   \n",
       "4       512                            Agresiones (homicidios)   \n",
       "5       999                                           COVID-19   \n",
       "6       302                         Enfermedades hipertensivas   \n",
       "7       601                                  Diabetes mellitus   \n",
       "8       609        Resto de enfermedades del sistema digestivo   \n",
       "9       501                 Accidentes de transporte terrestre   \n",
       "10      610                  Enfermedades del sistema urinario   \n",
       "11      614                          Resto de las enfermedades   \n",
       "12      304  Enfermedad cardiopulmonar enfermedades de la c...   \n",
       "13      604  Enfermedades del sistema nervioso  excepto men...   \n",
       "\n",
       "    Total defunciones  Tasa de Mortalidad total por millón de habitantes  \\\n",
       "0            128906.0                                            2578.12   \n",
       "1            101293.0                                            2025.86   \n",
       "2             42973.0                                             859.46   \n",
       "3             41242.0                                             824.84   \n",
       "4             33431.0                                             668.62   \n",
       "5             36025.0                                             720.50   \n",
       "6             23679.0                                             473.58   \n",
       "7             20690.0                                             413.80   \n",
       "8             20080.0                                             401.60   \n",
       "9             17879.0                                             357.58   \n",
       "10            17631.0                                             352.62   \n",
       "11            17404.0                                             348.08   \n",
       "12            15633.0                                             312.66   \n",
       "13            14726.0                                             294.52   \n",
       "\n",
       "    TM edad 0 a 4 años  TM edad 5 a 14 años  TM edad 15 a 44 años  \\\n",
       "0                  NaN                  NaN                   NaN   \n",
       "1                84.79               423.96              61474.54   \n",
       "2              1102.30               423.96               9411.96   \n",
       "3              2713.36              2374.19              50960.27   \n",
       "4              3815.66              8140.08             846313.65   \n",
       "5              3137.32              3094.93             119557.38   \n",
       "6               254.38                84.79               8818.42   \n",
       "7               254.38               254.38              23063.55   \n",
       "8              6359.44              2882.94              36206.38   \n",
       "9              3985.25             12718.87             324415.99   \n",
       "10             4154.83              1950.23              24844.19   \n",
       "11            14584.30              7292.15              76398.02   \n",
       "12             6359.44              3561.28              36799.93   \n",
       "13            16619.32             18993.51              72243.18   \n",
       "\n",
       "    TM edad 45 a 64 años  TM edad 65 a 84 años  TM edad 85 a 99 años  \\\n",
       "0                    NaN                   NaN                   NaN   \n",
       "1              508076.48            1547632.17            1017424.85   \n",
       "2               97087.38             647984.06             572942.72   \n",
       "3              225208.80             633484.55             372323.74   \n",
       "4              161020.90              27472.76               1950.23   \n",
       "5              444058.17             781277.82             192478.91   \n",
       "6               78009.07             346886.00             296858.44   \n",
       "7              147962.86             342985.54             131852.29   \n",
       "8              112604.40             306524.78             162631.96   \n",
       "9              126171.20              81655.15              12294.91   \n",
       "10              80468.05             257684.32             178996.91   \n",
       "11             111671.68             209946.16             121253.23   \n",
       "12              90219.19             233603.26             117013.61   \n",
       "13              72243.18             166617.20             112350.02   \n",
       "\n",
       "    TM edad 100 o más años  \n",
       "0                      NaN  \n",
       "1                 45872.73  \n",
       "2                 20604.57  \n",
       "3                  8140.08  \n",
       "4                    84.79  \n",
       "5                  2035.02  \n",
       "6                 12718.87  \n",
       "7                  3391.70  \n",
       "8                  3391.70  \n",
       "9                     0.00  \n",
       "10                 5596.30  \n",
       "11                 5426.72  \n",
       "12                 3391.70  \n",
       "13                 3391.70  "
      ]
     },
     "execution_count": 34,
     "metadata": {},
     "output_type": "execute_result"
    }
   ],
   "source": [
    "tasasMortalidadColGrupoEtario.rename(columns={'Total':'Total defunciones', \n",
    "                                              'Tasa de Mortalidad': 'Tasa de Mortalidad total por millón de habitantes', \n",
    "                                              'TM_0_4':'TM edad 0 a 4 años',\n",
    "                                              'TM_5_14':'TM edad 5 a 14 años', \n",
    "                                              'TM_15_44': 'TM edad 15 a 44 años', \n",
    "                                              'TM_45_64': 'TM edad 45 a 64 años', \n",
    "                                              'TM_65_84': 'TM edad 65 a 84 años', \n",
    "                                              'TM_85_99': 'TM edad 85 a 99 años',\n",
    "                                              'TM_100 o más': 'TM edad 100 o más años'})"
   ]
  },
  {
   "cell_type": "markdown",
   "metadata": {
    "slideshow": {
     "slide_type": "slide"
    }
   },
   "source": [
    "### Departamentos:   Tasas de letalidad y de mortalidad \n",
    "#### Período del 2020 - 03 - 02  al "
   ]
  },
  {
   "cell_type": "code",
   "execution_count": 35,
   "metadata": {
    "slideshow": {
     "slide_type": "skip"
    }
   },
   "outputs": [],
   "source": [
    "fecha = col['Fecha de notificación'].max()"
   ]
  },
  {
   "cell_type": "code",
   "execution_count": 36,
   "metadata": {
    "slideshow": {
     "slide_type": "skip"
    }
   },
   "outputs": [
    {
     "data": {
      "text/plain": [
       "'9/9/2020 0:00:00'"
      ]
     },
     "execution_count": 36,
     "metadata": {},
     "output_type": "execute_result"
    }
   ],
   "source": [
    "fecha"
   ]
  },
  {
   "cell_type": "code",
   "execution_count": 37,
   "metadata": {
    "slideshow": {
     "slide_type": "skip"
    }
   },
   "outputs": [],
   "source": [
    "col[['Fecha de notificación', 'Nombre departamento', 'Nombre municipio',\n",
    "       'Edad', 'Sexo', 'Tipo de contagio', 'Estado', 'Fecha de muerte',\n",
    "       'Fecha de diagnóstico', 'Fecha de recuperación',\n",
    "       'Tipo de recuperación']]=  col[['Fecha de notificación', 'Nombre departamento', 'Nombre municipio',\n",
    "       'Edad', 'Sexo', 'Tipo de contagio', 'Estado', 'Fecha de muerte',\n",
    "       'Fecha de diagnóstico', 'Fecha de recuperación',\n",
    "       'Tipo de recuperación']].astype('category')"
   ]
  },
  {
   "cell_type": "code",
   "execution_count": 38,
   "metadata": {
    "slideshow": {
     "slide_type": "skip"
    }
   },
   "outputs": [],
   "source": [
    "Tasas = col.groupby('Nombre departamento')[['Fecha de notificación','Fecha de muerte']].count()"
   ]
  },
  {
   "cell_type": "code",
   "execution_count": 39,
   "metadata": {
    "slideshow": {
     "slide_type": "skip"
    }
   },
   "outputs": [],
   "source": [
    "Tasas.rename(columns={'Fecha de notificación': 'Número de casos', 'Fecha de muerte': 'Fallecidos'}, inplace= True)"
   ]
  },
  {
   "cell_type": "code",
   "execution_count": 40,
   "metadata": {
    "slideshow": {
     "slide_type": "skip"
    }
   },
   "outputs": [],
   "source": [
    "Tasas['Tasa de letalidad por cien enfermos'] = (Tasas['Fallecidos']/Tasas['Número de casos'])*100"
   ]
  },
  {
   "cell_type": "code",
   "execution_count": 41,
   "metadata": {
    "slideshow": {
     "slide_type": "skip"
    }
   },
   "outputs": [],
   "source": [
    "habitantes = poblacion.loc[poblacion['Género']== 'AMBOS SEXOS', ['DPTO', 'MUNICIPIO','2020']].groupby('DPTO')['2020'].sum()\n"
   ]
  },
  {
   "cell_type": "code",
   "execution_count": 42,
   "metadata": {
    "slideshow": {
     "slide_type": "skip"
    }
   },
   "outputs": [],
   "source": [
    "Tasas['Tasa de mortalidad por millón de habitantes'] = (Tasas['Fallecidos']/habitantes)*1000000"
   ]
  },
  {
   "cell_type": "code",
   "execution_count": 43,
   "metadata": {
    "slideshow": {
     "slide_type": "slide"
    }
   },
   "outputs": [
    {
     "data": {
      "text/html": [
       "<div>\n",
       "<style scoped>\n",
       "    .dataframe tbody tr th:only-of-type {\n",
       "        vertical-align: middle;\n",
       "    }\n",
       "\n",
       "    .dataframe tbody tr th {\n",
       "        vertical-align: top;\n",
       "    }\n",
       "\n",
       "    .dataframe thead th {\n",
       "        text-align: right;\n",
       "    }\n",
       "</style>\n",
       "<table border=\"1\" class=\"dataframe\">\n",
       "  <thead>\n",
       "    <tr style=\"text-align: right;\">\n",
       "      <th></th>\n",
       "      <th>Número de casos</th>\n",
       "      <th>Fallecidos</th>\n",
       "      <th>Tasa de letalidad por cien enfermos</th>\n",
       "      <th>Tasa de mortalidad por millón de habitantes</th>\n",
       "    </tr>\n",
       "    <tr>\n",
       "      <th>Nombre departamento</th>\n",
       "      <th></th>\n",
       "      <th></th>\n",
       "      <th></th>\n",
       "      <th></th>\n",
       "    </tr>\n",
       "  </thead>\n",
       "  <tbody>\n",
       "    <tr>\n",
       "      <th>AMAZONAS</th>\n",
       "      <td>2957</td>\n",
       "      <td>127</td>\n",
       "      <td>4.29</td>\n",
       "      <td>1607.19</td>\n",
       "    </tr>\n",
       "    <tr>\n",
       "      <th>BARRANQUILLA</th>\n",
       "      <td>42025</td>\n",
       "      <td>1874</td>\n",
       "      <td>4.46</td>\n",
       "      <td>1470.67</td>\n",
       "    </tr>\n",
       "    <tr>\n",
       "      <th>BOGOTA</th>\n",
       "      <td>335008</td>\n",
       "      <td>8821</td>\n",
       "      <td>2.63</td>\n",
       "      <td>1139.08</td>\n",
       "    </tr>\n",
       "    <tr>\n",
       "      <th>CAQUETA</th>\n",
       "      <td>11955</td>\n",
       "      <td>462</td>\n",
       "      <td>3.86</td>\n",
       "      <td>1125.40</td>\n",
       "    </tr>\n",
       "    <tr>\n",
       "      <th>ATLANTICO</th>\n",
       "      <td>31422</td>\n",
       "      <td>1559</td>\n",
       "      <td>4.96</td>\n",
       "      <td>1076.75</td>\n",
       "    </tr>\n",
       "    <tr>\n",
       "      <th>CORDOBA</th>\n",
       "      <td>27052</td>\n",
       "      <td>1797</td>\n",
       "      <td>6.64</td>\n",
       "      <td>982.53</td>\n",
       "    </tr>\n",
       "    <tr>\n",
       "      <th>STA MARTA D.E.</th>\n",
       "      <td>11848</td>\n",
       "      <td>501</td>\n",
       "      <td>4.23</td>\n",
       "      <td>930.17</td>\n",
       "    </tr>\n",
       "    <tr>\n",
       "      <th>SANTANDER</th>\n",
       "      <td>45561</td>\n",
       "      <td>1905</td>\n",
       "      <td>4.18</td>\n",
       "      <td>835.19</td>\n",
       "    </tr>\n",
       "    <tr>\n",
       "      <th>NORTE SANTANDER</th>\n",
       "      <td>23240</td>\n",
       "      <td>1250</td>\n",
       "      <td>5.38</td>\n",
       "      <td>771.45</td>\n",
       "    </tr>\n",
       "    <tr>\n",
       "      <th>VALLE</th>\n",
       "      <td>89703</td>\n",
       "      <td>3258</td>\n",
       "      <td>3.63</td>\n",
       "      <td>718.86</td>\n",
       "    </tr>\n",
       "    <tr>\n",
       "      <th>HUILA</th>\n",
       "      <td>25776</td>\n",
       "      <td>796</td>\n",
       "      <td>3.09</td>\n",
       "      <td>709.05</td>\n",
       "    </tr>\n",
       "    <tr>\n",
       "      <th>CESAR</th>\n",
       "      <td>27235</td>\n",
       "      <td>916</td>\n",
       "      <td>3.36</td>\n",
       "      <td>707.12</td>\n",
       "    </tr>\n",
       "    <tr>\n",
       "      <th>SUCRE</th>\n",
       "      <td>15869</td>\n",
       "      <td>667</td>\n",
       "      <td>4.20</td>\n",
       "      <td>702.66</td>\n",
       "    </tr>\n",
       "    <tr>\n",
       "      <th>CARTAGENA</th>\n",
       "      <td>27214</td>\n",
       "      <td>650</td>\n",
       "      <td>2.39</td>\n",
       "      <td>631.84</td>\n",
       "    </tr>\n",
       "    <tr>\n",
       "      <th>PUTUMAYO</th>\n",
       "      <td>4548</td>\n",
       "      <td>217</td>\n",
       "      <td>4.77</td>\n",
       "      <td>604.24</td>\n",
       "    </tr>\n",
       "    <tr>\n",
       "      <th>TOLIMA</th>\n",
       "      <td>22819</td>\n",
       "      <td>783</td>\n",
       "      <td>3.43</td>\n",
       "      <td>584.33</td>\n",
       "    </tr>\n",
       "    <tr>\n",
       "      <th>META</th>\n",
       "      <td>24566</td>\n",
       "      <td>620</td>\n",
       "      <td>2.52</td>\n",
       "      <td>583.01</td>\n",
       "    </tr>\n",
       "    <tr>\n",
       "      <th>ANTIOQUIA</th>\n",
       "      <td>183991</td>\n",
       "      <td>3801</td>\n",
       "      <td>2.07</td>\n",
       "      <td>569.19</td>\n",
       "    </tr>\n",
       "    <tr>\n",
       "      <th>MAGDALENA</th>\n",
       "      <td>5982</td>\n",
       "      <td>505</td>\n",
       "      <td>8.44</td>\n",
       "      <td>568.43</td>\n",
       "    </tr>\n",
       "    <tr>\n",
       "      <th>QUINDIO</th>\n",
       "      <td>12334</td>\n",
       "      <td>303</td>\n",
       "      <td>2.46</td>\n",
       "      <td>545.55</td>\n",
       "    </tr>\n",
       "    <tr>\n",
       "      <th>NARIÑO</th>\n",
       "      <td>23123</td>\n",
       "      <td>868</td>\n",
       "      <td>3.75</td>\n",
       "      <td>533.30</td>\n",
       "    </tr>\n",
       "    <tr>\n",
       "      <th>RISARALDA</th>\n",
       "      <td>19238</td>\n",
       "      <td>484</td>\n",
       "      <td>2.52</td>\n",
       "      <td>503.61</td>\n",
       "    </tr>\n",
       "    <tr>\n",
       "      <th>SAN ANDRES</th>\n",
       "      <td>1952</td>\n",
       "      <td>32</td>\n",
       "      <td>1.64</td>\n",
       "      <td>502.42</td>\n",
       "    </tr>\n",
       "    <tr>\n",
       "      <th>CUNDINAMARCA</th>\n",
       "      <td>45007</td>\n",
       "      <td>1377</td>\n",
       "      <td>3.06</td>\n",
       "      <td>424.61</td>\n",
       "    </tr>\n",
       "    <tr>\n",
       "      <th>GUAINIA</th>\n",
       "      <td>1159</td>\n",
       "      <td>20</td>\n",
       "      <td>1.73</td>\n",
       "      <td>394.98</td>\n",
       "    </tr>\n",
       "    <tr>\n",
       "      <th>ARAUCA</th>\n",
       "      <td>3604</td>\n",
       "      <td>115</td>\n",
       "      <td>3.19</td>\n",
       "      <td>390.88</td>\n",
       "    </tr>\n",
       "    <tr>\n",
       "      <th>CALDAS</th>\n",
       "      <td>17113</td>\n",
       "      <td>391</td>\n",
       "      <td>2.28</td>\n",
       "      <td>383.92</td>\n",
       "    </tr>\n",
       "    <tr>\n",
       "      <th>CHOCO</th>\n",
       "      <td>4254</td>\n",
       "      <td>183</td>\n",
       "      <td>4.30</td>\n",
       "      <td>335.93</td>\n",
       "    </tr>\n",
       "    <tr>\n",
       "      <th>GUAVIARE</th>\n",
       "      <td>1589</td>\n",
       "      <td>28</td>\n",
       "      <td>1.76</td>\n",
       "      <td>323.11</td>\n",
       "    </tr>\n",
       "    <tr>\n",
       "      <th>BOYACA</th>\n",
       "      <td>16708</td>\n",
       "      <td>397</td>\n",
       "      <td>2.38</td>\n",
       "      <td>319.46</td>\n",
       "    </tr>\n",
       "    <tr>\n",
       "      <th>CAUCA</th>\n",
       "      <td>14036</td>\n",
       "      <td>449</td>\n",
       "      <td>3.20</td>\n",
       "      <td>300.95</td>\n",
       "    </tr>\n",
       "    <tr>\n",
       "      <th>CASANARE</th>\n",
       "      <td>5586</td>\n",
       "      <td>121</td>\n",
       "      <td>2.17</td>\n",
       "      <td>278.04</td>\n",
       "    </tr>\n",
       "    <tr>\n",
       "      <th>VAUPES</th>\n",
       "      <td>1076</td>\n",
       "      <td>12</td>\n",
       "      <td>1.12</td>\n",
       "      <td>268.38</td>\n",
       "    </tr>\n",
       "    <tr>\n",
       "      <th>BOLIVAR</th>\n",
       "      <td>6841</td>\n",
       "      <td>287</td>\n",
       "      <td>4.20</td>\n",
       "      <td>249.08</td>\n",
       "    </tr>\n",
       "    <tr>\n",
       "      <th>VICHADA</th>\n",
       "      <td>836</td>\n",
       "      <td>10</td>\n",
       "      <td>1.20</td>\n",
       "      <td>88.53</td>\n",
       "    </tr>\n",
       "    <tr>\n",
       "      <th>GUAJIRA</th>\n",
       "      <td>10660</td>\n",
       "      <td>439</td>\n",
       "      <td>4.12</td>\n",
       "      <td>NaN</td>\n",
       "    </tr>\n",
       "  </tbody>\n",
       "</table>\n",
       "</div>"
      ],
      "text/plain": [
       "                     Número de casos  Fallecidos  \\\n",
       "Nombre departamento                                \n",
       "AMAZONAS                        2957         127   \n",
       "BARRANQUILLA                   42025        1874   \n",
       "BOGOTA                        335008        8821   \n",
       "CAQUETA                        11955         462   \n",
       "ATLANTICO                      31422        1559   \n",
       "CORDOBA                        27052        1797   \n",
       "STA MARTA D.E.                 11848         501   \n",
       "SANTANDER                      45561        1905   \n",
       "NORTE SANTANDER                23240        1250   \n",
       "VALLE                          89703        3258   \n",
       "HUILA                          25776         796   \n",
       "CESAR                          27235         916   \n",
       "SUCRE                          15869         667   \n",
       "CARTAGENA                      27214         650   \n",
       "PUTUMAYO                        4548         217   \n",
       "TOLIMA                         22819         783   \n",
       "META                           24566         620   \n",
       "ANTIOQUIA                     183991        3801   \n",
       "MAGDALENA                       5982         505   \n",
       "QUINDIO                        12334         303   \n",
       "NARIÑO                         23123         868   \n",
       "RISARALDA                      19238         484   \n",
       "SAN ANDRES                      1952          32   \n",
       "CUNDINAMARCA                   45007        1377   \n",
       "GUAINIA                         1159          20   \n",
       "ARAUCA                          3604         115   \n",
       "CALDAS                         17113         391   \n",
       "CHOCO                           4254         183   \n",
       "GUAVIARE                        1589          28   \n",
       "BOYACA                         16708         397   \n",
       "CAUCA                          14036         449   \n",
       "CASANARE                        5586         121   \n",
       "VAUPES                          1076          12   \n",
       "BOLIVAR                         6841         287   \n",
       "VICHADA                          836          10   \n",
       "GUAJIRA                        10660         439   \n",
       "\n",
       "                     Tasa de letalidad por cien enfermos  \\\n",
       "Nombre departamento                                        \n",
       "AMAZONAS                                            4.29   \n",
       "BARRANQUILLA                                        4.46   \n",
       "BOGOTA                                              2.63   \n",
       "CAQUETA                                             3.86   \n",
       "ATLANTICO                                           4.96   \n",
       "CORDOBA                                             6.64   \n",
       "STA MARTA D.E.                                      4.23   \n",
       "SANTANDER                                           4.18   \n",
       "NORTE SANTANDER                                     5.38   \n",
       "VALLE                                               3.63   \n",
       "HUILA                                               3.09   \n",
       "CESAR                                               3.36   \n",
       "SUCRE                                               4.20   \n",
       "CARTAGENA                                           2.39   \n",
       "PUTUMAYO                                            4.77   \n",
       "TOLIMA                                              3.43   \n",
       "META                                                2.52   \n",
       "ANTIOQUIA                                           2.07   \n",
       "MAGDALENA                                           8.44   \n",
       "QUINDIO                                             2.46   \n",
       "NARIÑO                                              3.75   \n",
       "RISARALDA                                           2.52   \n",
       "SAN ANDRES                                          1.64   \n",
       "CUNDINAMARCA                                        3.06   \n",
       "GUAINIA                                             1.73   \n",
       "ARAUCA                                              3.19   \n",
       "CALDAS                                              2.28   \n",
       "CHOCO                                               4.30   \n",
       "GUAVIARE                                            1.76   \n",
       "BOYACA                                              2.38   \n",
       "CAUCA                                               3.20   \n",
       "CASANARE                                            2.17   \n",
       "VAUPES                                              1.12   \n",
       "BOLIVAR                                             4.20   \n",
       "VICHADA                                             1.20   \n",
       "GUAJIRA                                             4.12   \n",
       "\n",
       "                     Tasa de mortalidad por millón de habitantes  \n",
       "Nombre departamento                                               \n",
       "AMAZONAS                                                 1607.19  \n",
       "BARRANQUILLA                                             1470.67  \n",
       "BOGOTA                                                   1139.08  \n",
       "CAQUETA                                                  1125.40  \n",
       "ATLANTICO                                                1076.75  \n",
       "CORDOBA                                                   982.53  \n",
       "STA MARTA D.E.                                            930.17  \n",
       "SANTANDER                                                 835.19  \n",
       "NORTE SANTANDER                                           771.45  \n",
       "VALLE                                                     718.86  \n",
       "HUILA                                                     709.05  \n",
       "CESAR                                                     707.12  \n",
       "SUCRE                                                     702.66  \n",
       "CARTAGENA                                                 631.84  \n",
       "PUTUMAYO                                                  604.24  \n",
       "TOLIMA                                                    584.33  \n",
       "META                                                      583.01  \n",
       "ANTIOQUIA                                                 569.19  \n",
       "MAGDALENA                                                 568.43  \n",
       "QUINDIO                                                   545.55  \n",
       "NARIÑO                                                    533.30  \n",
       "RISARALDA                                                 503.61  \n",
       "SAN ANDRES                                                502.42  \n",
       "CUNDINAMARCA                                              424.61  \n",
       "GUAINIA                                                   394.98  \n",
       "ARAUCA                                                    390.88  \n",
       "CALDAS                                                    383.92  \n",
       "CHOCO                                                     335.93  \n",
       "GUAVIARE                                                  323.11  \n",
       "BOYACA                                                    319.46  \n",
       "CAUCA                                                     300.95  \n",
       "CASANARE                                                  278.04  \n",
       "VAUPES                                                    268.38  \n",
       "BOLIVAR                                                   249.08  \n",
       "VICHADA                                                    88.53  \n",
       "GUAJIRA                                                      NaN  "
      ]
     },
     "execution_count": 43,
     "metadata": {},
     "output_type": "execute_result"
    }
   ],
   "source": [
    "Tasas.round(2).sort_values('Tasa de mortalidad por millón de habitantes', ascending=False)"
   ]
  },
  {
   "cell_type": "markdown",
   "metadata": {
    "slideshow": {
     "slide_type": "slide"
    }
   },
   "source": [
    "### Comparativo Tasa de Mortalidad por millón de habitantes por departamentos"
   ]
  },
  {
   "cell_type": "markdown",
   "metadata": {
    "slideshow": {
     "slide_type": "skip"
    }
   },
   "source": [
    "#### Período del '2020 - 03 - 02' al '2020 - 11 - 04' "
   ]
  },
  {
   "cell_type": "markdown",
   "metadata": {
    "slideshow": {
     "slide_type": "skip"
    }
   },
   "source": [
    "fecha"
   ]
  },
  {
   "cell_type": "code",
   "execution_count": 44,
   "metadata": {
    "scrolled": true,
    "slideshow": {
     "slide_type": "subslide"
    }
   },
   "outputs": [
    {
     "data": {
      "text/plain": [
       "<matplotlib.axes._subplots.AxesSubplot at 0x1122e01d0>"
      ]
     },
     "execution_count": 44,
     "metadata": {},
     "output_type": "execute_result"
    },
    {
     "data": {
      "image/png": "[encoded data removed]",
      "text/plain": [
       "<Figure size 432x288 with 1 Axes>"
      ]
     },
     "metadata": {
      "needs_background": "light"
     },
     "output_type": "display_data"
    }
   ],
   "source": [
    "Tasas.loc[:,'Tasa de mortalidad por millón de habitantes'].sort_values(ascending=False).plot(kind='bar')"
   ]
  },
  {
   "cell_type": "code",
   "execution_count": 45,
   "metadata": {
    "slideshow": {
     "slide_type": "skip"
    }
   },
   "outputs": [
    {
     "name": "stdout",
     "output_type": "stream",
     "text": [
      "Ingrese los departamentos para los que requiere conocer la tasa.   Para terminar, digite 'F'   :CALDAS\n",
      "Ingrese los departamentos para los que requiere conocer la tasa.   Para terminar, digite 'F'   :QUINDIO\n",
      "Ingrese los departamentos para los que requiere conocer la tasa.   Para terminar, digite 'F'   :RISARALDA\n",
      "Ingrese los departamentos para los que requiere conocer la tasa.   Para terminar, digite 'F'   :ANTIOQUIA\n",
      "Ingrese los departamentos para los que requiere conocer la tasa.   Para terminar, digite 'F'   :BOGOTA\n",
      "Ingrese los departamentos para los que requiere conocer la tasa.   Para terminar, digite 'F'   :TOLIMA\n",
      "Ingrese los departamentos para los que requiere conocer la tasa.   Para terminar, digite 'F'   :ATLANTICO\n",
      "Ingrese los departamentos para los que requiere conocer la tasa.   Para terminar, digite 'F'   :BARRANQUILLA\n",
      "Ingrese los departamentos para los que requiere conocer la tasa.   Para terminar, digite 'F'   :STA MARTA D.C.\n",
      "No se encuentra el departamento.  Revise ortografía.  Para Distrito capitales, turísticos o especiales puede requerir D.C., D.E. o D.T. y C.\n",
      "Ingrese los departamentos para los que requiere conocer la tasa.   Para terminar, digite 'F'   :F\n"
     ]
    }
   ],
   "source": [
    "departamentos = []\n",
    "dept = ''\n",
    "while dept != 'F' or dept != 'f':\n",
    "    dept = input(\"Ingrese los departamentos para los que requiere conocer la tasa.   Para terminar, digite 'F'   :\")\n",
    "    if dept == 'F' or dept == 'f':\n",
    "        break\n",
    "    else:\n",
    "        if Tasas.index.isin([dept]).any()==True:\n",
    "            departamentos.append(dept)\n",
    "        else:\n",
    "            print('No se encuentra el departamento.  Revise ortografía.  Para Distrito capitales, turísticos o especiales puede requerir D.C., D.E. o D.T. y C.')\n"
   ]
  },
  {
   "cell_type": "code",
   "execution_count": 46,
   "metadata": {
    "slideshow": {
     "slide_type": "skip"
    }
   },
   "outputs": [],
   "source": [
    "departamento = pd.concat([Tasas,habitantes], axis=1).loc[departamentos,:].round(2)\n",
    "cuadro_dptos = departamento"
   ]
  },
  {
   "cell_type": "markdown",
   "metadata": {
    "slideshow": {
     "slide_type": "slide"
    }
   },
   "source": [
    "### Tasas de letalidad y de mortalidad"
   ]
  },
  {
   "cell_type": "markdown",
   "metadata": {
    "slideshow": {
     "slide_type": "skip"
    }
   },
   "source": [
    "#### Período del '2020 - 03 - 02' al "
   ]
  },
  {
   "cell_type": "code",
   "execution_count": 47,
   "metadata": {
    "slideshow": {
     "slide_type": "skip"
    }
   },
   "outputs": [
    {
     "data": {
      "text/plain": [
       "'9/9/2020 0:00:00'"
      ]
     },
     "execution_count": 47,
     "metadata": {},
     "output_type": "execute_result"
    }
   ],
   "source": [
    "fecha"
   ]
  },
  {
   "cell_type": "code",
   "execution_count": 48,
   "metadata": {
    "slideshow": {
     "slide_type": "skip"
    }
   },
   "outputs": [],
   "source": [
    "cuadro_dptos.rename(columns={'2020':'Población'}, inplace=True)"
   ]
  },
  {
   "cell_type": "code",
   "execution_count": 49,
   "metadata": {
    "slideshow": {
     "slide_type": "subslide"
    }
   },
   "outputs": [
    {
     "data": {
      "text/html": [
       "<div>\n",
       "<style scoped>\n",
       "    .dataframe tbody tr th:only-of-type {\n",
       "        vertical-align: middle;\n",
       "    }\n",
       "\n",
       "    .dataframe tbody tr th {\n",
       "        vertical-align: top;\n",
       "    }\n",
       "\n",
       "    .dataframe thead th {\n",
       "        text-align: right;\n",
       "    }\n",
       "</style>\n",
       "<table border=\"1\" class=\"dataframe\">\n",
       "  <thead>\n",
       "    <tr style=\"text-align: right;\">\n",
       "      <th></th>\n",
       "      <th>Número de casos</th>\n",
       "      <th>Fallecidos</th>\n",
       "      <th>Tasa de letalidad por cien enfermos</th>\n",
       "      <th>Tasa de mortalidad por millón de habitantes</th>\n",
       "      <th>Población</th>\n",
       "    </tr>\n",
       "  </thead>\n",
       "  <tbody>\n",
       "    <tr>\n",
       "      <th>BARRANQUILLA</th>\n",
       "      <td>42025.0</td>\n",
       "      <td>1874.0</td>\n",
       "      <td>4.46</td>\n",
       "      <td>1470.67</td>\n",
       "      <td>1274250.0</td>\n",
       "    </tr>\n",
       "    <tr>\n",
       "      <th>BOGOTA</th>\n",
       "      <td>335008.0</td>\n",
       "      <td>8821.0</td>\n",
       "      <td>2.63</td>\n",
       "      <td>1139.08</td>\n",
       "      <td>7743955.0</td>\n",
       "    </tr>\n",
       "    <tr>\n",
       "      <th>ATLANTICO</th>\n",
       "      <td>31422.0</td>\n",
       "      <td>1559.0</td>\n",
       "      <td>4.96</td>\n",
       "      <td>1076.75</td>\n",
       "      <td>1447878.0</td>\n",
       "    </tr>\n",
       "    <tr>\n",
       "      <th>TOLIMA</th>\n",
       "      <td>22819.0</td>\n",
       "      <td>783.0</td>\n",
       "      <td>3.43</td>\n",
       "      <td>584.33</td>\n",
       "      <td>1339998.0</td>\n",
       "    </tr>\n",
       "    <tr>\n",
       "      <th>ANTIOQUIA</th>\n",
       "      <td>183991.0</td>\n",
       "      <td>3801.0</td>\n",
       "      <td>2.07</td>\n",
       "      <td>569.19</td>\n",
       "      <td>6677930.0</td>\n",
       "    </tr>\n",
       "    <tr>\n",
       "      <th>QUINDIO</th>\n",
       "      <td>12334.0</td>\n",
       "      <td>303.0</td>\n",
       "      <td>2.46</td>\n",
       "      <td>545.55</td>\n",
       "      <td>555401.0</td>\n",
       "    </tr>\n",
       "    <tr>\n",
       "      <th>RISARALDA</th>\n",
       "      <td>19238.0</td>\n",
       "      <td>484.0</td>\n",
       "      <td>2.52</td>\n",
       "      <td>503.61</td>\n",
       "      <td>961055.0</td>\n",
       "    </tr>\n",
       "    <tr>\n",
       "      <th>CALDAS</th>\n",
       "      <td>17113.0</td>\n",
       "      <td>391.0</td>\n",
       "      <td>2.28</td>\n",
       "      <td>383.92</td>\n",
       "      <td>1018453.0</td>\n",
       "    </tr>\n",
       "  </tbody>\n",
       "</table>\n",
       "</div>"
      ],
      "text/plain": [
       "              Número de casos  Fallecidos  \\\n",
       "BARRANQUILLA          42025.0      1874.0   \n",
       "BOGOTA               335008.0      8821.0   \n",
       "ATLANTICO             31422.0      1559.0   \n",
       "TOLIMA                22819.0       783.0   \n",
       "ANTIOQUIA            183991.0      3801.0   \n",
       "QUINDIO               12334.0       303.0   \n",
       "RISARALDA             19238.0       484.0   \n",
       "CALDAS                17113.0       391.0   \n",
       "\n",
       "              Tasa de letalidad por cien enfermos  \\\n",
       "BARRANQUILLA                                 4.46   \n",
       "BOGOTA                                       2.63   \n",
       "ATLANTICO                                    4.96   \n",
       "TOLIMA                                       3.43   \n",
       "ANTIOQUIA                                    2.07   \n",
       "QUINDIO                                      2.46   \n",
       "RISARALDA                                    2.52   \n",
       "CALDAS                                       2.28   \n",
       "\n",
       "              Tasa de mortalidad por millón de habitantes  Población  \n",
       "BARRANQUILLA                                      1470.67  1274250.0  \n",
       "BOGOTA                                            1139.08  7743955.0  \n",
       "ATLANTICO                                         1076.75  1447878.0  \n",
       "TOLIMA                                             584.33  1339998.0  \n",
       "ANTIOQUIA                                          569.19  6677930.0  \n",
       "QUINDIO                                            545.55   555401.0  \n",
       "RISARALDA                                          503.61   961055.0  \n",
       "CALDAS                                             383.92  1018453.0  "
      ]
     },
     "execution_count": 49,
     "metadata": {},
     "output_type": "execute_result"
    }
   ],
   "source": [
    "cuadro_dptos.sort_values('Tasa de mortalidad por millón de habitantes', ascending=False, inplace=True)\n",
    "cuadro_dptos"
   ]
  },
  {
   "cell_type": "markdown",
   "metadata": {
    "slideshow": {
     "slide_type": "slide"
    }
   },
   "source": [
    "### Comparativo Tasa de Mortalidad por millón de habitantes por departamentos"
   ]
  },
  {
   "cell_type": "markdown",
   "metadata": {
    "slideshow": {
     "slide_type": "skip"
    }
   },
   "source": [
    "#### Período del '2020 - 03 - 02' al "
   ]
  },
  {
   "cell_type": "code",
   "execution_count": 50,
   "metadata": {
    "slideshow": {
     "slide_type": "skip"
    }
   },
   "outputs": [
    {
     "data": {
      "text/plain": [
       "'9/9/2020 0:00:00'"
      ]
     },
     "execution_count": 50,
     "metadata": {},
     "output_type": "execute_result"
    }
   ],
   "source": [
    "fecha"
   ]
  },
  {
   "cell_type": "code",
   "execution_count": 51,
   "metadata": {
    "scrolled": true,
    "slideshow": {
     "slide_type": "subslide"
    }
   },
   "outputs": [
    {
     "data": {
      "text/plain": [
       "<matplotlib.axes._subplots.AxesSubplot at 0x114b522b0>"
      ]
     },
     "execution_count": 51,
     "metadata": {},
     "output_type": "execute_result"
    },
    {
     "data": {
      "image/png": "[encoded data removed]",
      "text/plain": [
       "<Figure size 432x288 with 1 Axes>"
      ]
     },
     "metadata": {
      "needs_background": "light"
     },
     "output_type": "display_data"
    }
   ],
   "source": [
    "cuadro_dptos.loc[:,'Tasa de mortalidad por millón de habitantes'].sort_values(ascending=False).plot(kind='bar')"
   ]
  },
  {
   "cell_type": "markdown",
   "metadata": {
    "slideshow": {
     "slide_type": "slide"
    }
   },
   "source": [
    "###  Ejercicio para establecer el criterio de positividad de la PCR y las pruebas rápidas ante COVID-19:\n",
    "\n",
    "\n",
    "\n",
    "> Prerrequisitos:  \n",
    "- Alto impacto  <== Alta prevalencia, morbilidad y mortalidad.\n",
    "\n",
    "### Parcial.   Como patología viral y por sus mecanismos de transmisión tiene alta prevalencia, no en vano es pandémica.  La morbilidad es muy baja, teniendo una alta proporción de pacientes asintomáticos o con sintomatología leve o moderada.  La mortalidad por grupos etarios varía, respetando a población menor a los 44 años, afectando levemente a población entre los 45 y 64 años, moderadamente a las personas mayores de 65 años.  Al compararlo con otras patologías respiratorias, su comportamiento está dentro de los estándares en cuanto a mortalidad.  Está pendiente por definir si quienes fallecieron lo hicieron por o con CoV-2."
   ]
  },
  {
   "cell_type": "markdown",
   "metadata": {
    "slideshow": {
     "slide_type": "slide"
    }
   },
   "source": [
    "###  Ejercicio para establecer el criterio de positividad de la PCR y las pruebas rápidas ante COVID-19:\n",
    "\n",
    "> Prerrequisitos:  \n",
    "- Tratamiento disponible.\n",
    "\n",
    "\n",
    "### Hasta la fecha, el tratamiento es el convencional para neumonías virales.  Las recomendaciones que han surgido, salen de estudios observacionales que rápidamente han sido desvirtuados."
   ]
  },
  {
   "cell_type": "markdown",
   "metadata": {
    "slideshow": {
     "slide_type": "slide"
    }
   },
   "source": [
    "###  Ejercicio para establecer el criterio de positividad de la PCR y las pruebas rápidas ante COVID-19:\n",
    "\n",
    "> Gold Standard\n",
    "\n",
    "### Estudio \"Gold Standard\" ==>  PCR SarsCoV-2.  Hay discusión sobre su especificidad."
   ]
  },
  {
   "cell_type": "markdown",
   "metadata": {
    "slideshow": {
     "slide_type": "slide"
    }
   },
   "source": [
    "###  Ejercicio para establecer el criterio de positividad de la PCR y las pruebas rápidas ante COVID-19:\n",
    "\n",
    "> Modalidades de testeo o tamizaje con *buenas características*  \n",
    "- Sensibilidad.    \n",
    "- Especificidad.\n",
    "\n",
    "### Sí para la PRUEBA MOLECULAR.  NO para las pruebas rápidas.  \n",
    "### No existen para las Pruebas Rápidas estudios clínicos aleatorizados doble ciego, cuya ***validez interna haya sido establecida  por el análisis crítico adecuado.  En consecuencia no se debieron generalizar.***"
   ]
  },
  {
   "cell_type": "markdown",
   "metadata": {
    "slideshow": {
     "slide_type": "slide"
    }
   },
   "source": [
    "###  Ejercicio para establecer el criterio de positividad de la PCR y las pruebas rápidas ante COVID-19:\n",
    "\n",
    "> Factibilidad del testeo o tamizaje.\n",
    "\n",
    "- Libre de molestia significativa !\n",
    "\n",
    "### PCR SarsCoV-2 es molesta, especialmente para la población infantil.   "
   ]
  },
  {
   "cell_type": "markdown",
   "metadata": {
    "slideshow": {
     "slide_type": "slide"
    }
   },
   "source": [
    "###  Ejercicio para establecer el criterio de positividad de la PCR y las pruebas rápidas ante COVID-19:\n",
    "\n",
    "- Eficiente y económico.  \n",
    "\n",
    "### No.  Para la PCR SarsCoV-2, la precisión del test está alterada por los criterios de indicación vigentes.  El porcentaje de negativos es abrumador con respecto a los escasos positivos.\n",
    "### Las pruebas rápidas tienen la misma precisión que una moneda lanzada al aire (cara o sello)."
   ]
  },
  {
   "cell_type": "markdown",
   "metadata": {
    "slideshow": {
     "slide_type": "slide"
    }
   },
   "source": [
    "###  Ejercicio para establecer el criterio de positividad de la PCR y las pruebas rápidas ante COVID-19:\n",
    "\n",
    "- Que la persona acepte el seguimiento y que este sea posible.\n",
    "\n",
    "### Aunque entre las autoridades hay quienes semanalmente se hacen la PCR SarsCoV-2, esto no es viable en la población.  El tiempo de procesamiento ha estado siempre en nuestra zona en un promedio de 7 días."
   ]
  },
  {
   "cell_type": "markdown",
   "metadata": {
    "slideshow": {
     "slide_type": "slide"
    }
   },
   "source": [
    "###  Ejercicio para establecer el criterio de positividad de la PCR y las pruebas rápidas ante COVID-19:\n",
    "\n",
    "- Alta especidad.\n",
    "\n",
    "### Sí para la PCR SarsCoV-2.  No para las pruebas rápidas.\n",
    "\n"
   ]
  },
  {
   "cell_type": "markdown",
   "metadata": {
    "slideshow": {
     "slide_type": "slide"
    }
   },
   "source": [
    "###  Ejercicio para establecer el criterio de positividad de la PCR y las pruebas rápidas ante COVID-19:\n",
    "\n",
    "- El testeo o tamizaje debe derivar en la disminución efectiva de efectos adversos.\n",
    "\n",
    "### No.  El aislamiento preventivo de pacientes asintomáticos y el correspondiente cerco epidemiológico, genera más efectos adversos en la población, sin afectar positivamente las tasas de mortalidad por grupo etario."
   ]
  },
  {
   "cell_type": "markdown",
   "metadata": {
    "slideshow": {
     "slide_type": "slide"
    }
   },
   "source": [
    "CONCLUSIÓN frente a las estrategias implementadas ante el COVID-19, encontramos:   \n",
    "\n",
    "1.  SESGOS SIEMPRE PRESENTES:\n",
    "\n",
    "Se ha cometido sistemáticamente el sesgo de sobrediagnóstico:\n",
    "-  Desperdicio de recursos que debieran utilizarse en la atención de patologías de mayor tasa de mortalidad.\n",
    "-  Se promueven \"cuarentenas\" y \"aislamiento preventivos\" que tienen graves efectos físicos y psíquicos en la población, muestra de ello es el incremento de violencia intrafamiliar y pacientes con patologías crónicas en mayor fase de descompensación.\n",
    "\n",
    "Se han cometido sistemáticamente los sesgos de sobrevivencia (\"lead time bias\"), de severidad (\"length bias sampling\") y el sesgo del voluntario."
   ]
  },
  {
   "cell_type": "markdown",
   "metadata": {
    "slideshow": {
     "slide_type": "slide"
    }
   },
   "source": [
    "2.  Se ha actuado sin los preceptos de la medicina basada en la evidencia.\n",
    "\n",
    "3.  Las herramientas para modelar escenarios utilizadas por las autoridades competentes han sido anacrónicas, sin apropiarse de algoritmos adecuados, lo que las han llevado a postular \"picos\", continuamente aplazados ante las múltiples fallas de su predicción, y a adoptar pésimas estrategias.  Es cuando el \"remedio\" ha sido peor que la \"enfermedad\"."
   ]
  },
  {
   "cell_type": "markdown",
   "metadata": {
    "slideshow": {
     "slide_type": "slide"
    }
   },
   "source": [
    "4.  Pacientes con comorbilidades por patologías crónicas descompensadas, con síntomas respiratorios propios de estas, son diagnosticados como sospechosos de COVID19 e internados y expuestos a áreas COVID19 en las instituciones prestadoras de salud, con el riesgo de infección cruzada posterior y muerte CON COVID.  NO POR COVID.\n",
    "\n",
    "5.  No es de extrañarse que rápidamente aparecieran en escena en nuestro país, mercaderes de la muerte, que han aprovechado la situación para promover sus servicios o negocios, enriqueciéndose al propagar el temor y promover acciones injustificadas como las cuarentenas, aislamientos de toda la población, testeos sesgados y no apropiados, tratamientos sin evidencia científica.\n",
    "\n"
   ]
  },
  {
   "cell_type": "markdown",
   "metadata": {
    "slideshow": {
     "slide_type": "slide"
    }
   },
   "source": [
    "6. La lucha por el poder no ha desaprovechado el temor de la población, con \"politiqueros\" postulándose como defensores y cuidadores de su salud y su vida, presentándose una carrera para ser reconocido ahora y en el futuro, sustentadas en la creación de un pánico infundado, en las recomendaciones sin justificación y en la pauperización de la población al engendrar una debacle económica sin precedentes y sin sustento científico alguno.   Quienes ostentan el poder, dedican su tiempo en los medios a mostrarse como adalides en la lucha contra el COVID-19.\n",
    "\n",
    "7.  Las estrategias implementadas no han salvado una sola vida que no fuera a salverse luego del contagio con el virus, pero si nos ha devuelto dos décadas en los otros indicadores de salud y bienestar.    Las deudas adquiridas sin justificación alguna, las pagaremos en las próximas décadas y ni siquiera nuestros hijos estarán exentos de asumirlas.\n",
    "\n"
   ]
  },
  {
   "cell_type": "markdown",
   "metadata": {
    "slideshow": {
     "slide_type": "slide"
    }
   },
   "source": [
    "8.  \"Los expertos\" o fueron presas del pánico y olvidaron su formación y se dedicaron a estar atentos a los medios y a copiar estrategias de países donde se evidenciaba que estas no tenían impacto alguno, o se adaptaron al potencial económico propio que esta situación les brindó.\n",
    "\n",
    "9.  Conclusión final, ante el fracaso de nuestro expertos y de sus escenarios, la próxima estrategia para enfrentar la próxima pandemia no debe ser manejada por ellos, dejándosela a profesionales y especialistas de otras áreas que cuenten o construyan herramientas sustentadas en los principios de inteligencia artificial, principios que permitirán tomar las mejores decisiones sustentadas en datos y hechos, no en pánico o en intereses personales."
   ]
  },
  {
   "cell_type": "markdown",
   "metadata": {
    "slideshow": {
     "slide_type": "slide"
    }
   },
   "source": [
    "# Información OMS por país\n",
    "(hasta tres días de atraso)"
   ]
  },
  {
   "cell_type": "code",
   "execution_count": 52,
   "metadata": {
    "slideshow": {
     "slide_type": "subslide"
    }
   },
   "outputs": [
    {
     "data": {
      "text/html": [
       "<div>\n",
       "<style scoped>\n",
       "    .dataframe tbody tr th:only-of-type {\n",
       "        vertical-align: middle;\n",
       "    }\n",
       "\n",
       "    .dataframe tbody tr th {\n",
       "        vertical-align: top;\n",
       "    }\n",
       "\n",
       "    .dataframe thead th {\n",
       "        text-align: right;\n",
       "    }\n",
       "</style>\n",
       "<table border=\"1\" class=\"dataframe\">\n",
       "  <thead>\n",
       "    <tr style=\"text-align: right;\">\n",
       "      <th></th>\n",
       "      <th>Unnamed: 0</th>\n",
       "      <th>País</th>\n",
       "      <th>Total_Casos</th>\n",
       "      <th>Fallecidos</th>\n",
       "      <th>Spanish</th>\n",
       "    </tr>\n",
       "  </thead>\n",
       "  <tbody>\n",
       "    <tr>\n",
       "      <th>43</th>\n",
       "      <td>43</td>\n",
       "      <td>Colombia</td>\n",
       "      <td>1149063</td>\n",
       "      <td>32974</td>\n",
       "      <td>Colombia</td>\n",
       "    </tr>\n",
       "  </tbody>\n",
       "</table>\n",
       "</div>"
      ],
      "text/plain": [
       "    Unnamed: 0      País  Total_Casos  Fallecidos   Spanish\n",
       "43          43  Colombia      1149063       32974  Colombia"
      ]
     },
     "execution_count": 52,
     "metadata": {},
     "output_type": "execute_result"
    }
   ],
   "source": [
    "mundo= pd.read_csv('CovidMundoT.csv')\n",
    "mundo.loc[mundo['País']=='Colombia']"
   ]
  },
  {
   "cell_type": "code",
   "execution_count": 53,
   "metadata": {
    "slideshow": {
     "slide_type": "skip"
    }
   },
   "outputs": [],
   "source": [
    "tasasMundiales = pd.read_csv('Tasas_mundiales.csv')"
   ]
  },
  {
   "cell_type": "markdown",
   "metadata": {
    "slideshow": {
     "slide_type": "slide"
    }
   },
   "source": [
    "# Mundo:  Tasas de mortalidad y letalidad por CoV-2"
   ]
  },
  {
   "cell_type": "code",
   "execution_count": 54,
   "metadata": {
    "slideshow": {
     "slide_type": "subslide"
    }
   },
   "outputs": [
    {
     "data": {
      "text/html": [
       "<div>\n",
       "<style scoped>\n",
       "    .dataframe tbody tr th:only-of-type {\n",
       "        vertical-align: middle;\n",
       "    }\n",
       "\n",
       "    .dataframe tbody tr th {\n",
       "        vertical-align: top;\n",
       "    }\n",
       "\n",
       "    .dataframe thead th {\n",
       "        text-align: right;\n",
       "    }\n",
       "</style>\n",
       "<table border=\"1\" class=\"dataframe\">\n",
       "  <thead>\n",
       "    <tr style=\"text-align: right;\">\n",
       "      <th></th>\n",
       "      <th>País</th>\n",
       "      <th>Total_Casos</th>\n",
       "      <th>Fallecidos</th>\n",
       "      <th>Población</th>\n",
       "      <th>Tasa de mortalidad por millón de habitantes</th>\n",
       "      <th>Tasa de letalidad por cien habitantes</th>\n",
       "    </tr>\n",
       "  </thead>\n",
       "  <tbody>\n",
       "    <tr>\n",
       "      <th>166</th>\n",
       "      <td>San Marino</td>\n",
       "      <td>1155</td>\n",
       "      <td>42</td>\n",
       "      <td>34000</td>\n",
       "      <td>1235.29</td>\n",
       "      <td>3.64</td>\n",
       "    </tr>\n",
       "    <tr>\n",
       "      <th>18</th>\n",
       "      <td>Bélgica</td>\n",
       "      <td>507380</td>\n",
       "      <td>13561</td>\n",
       "      <td>11590000</td>\n",
       "      <td>1170.06</td>\n",
       "      <td>2.67</td>\n",
       "    </tr>\n",
       "    <tr>\n",
       "      <th>149</th>\n",
       "      <td>Perú</td>\n",
       "      <td>923527</td>\n",
       "      <td>34943</td>\n",
       "      <td>32972000</td>\n",
       "      <td>1059.78</td>\n",
       "      <td>3.78</td>\n",
       "    </tr>\n",
       "    <tr>\n",
       "      <th>4</th>\n",
       "      <td>Andorra</td>\n",
       "      <td>5477</td>\n",
       "      <td>75</td>\n",
       "      <td>77000</td>\n",
       "      <td>974.03</td>\n",
       "      <td>1.37</td>\n",
       "    </tr>\n",
       "    <tr>\n",
       "      <th>180</th>\n",
       "      <td>España</td>\n",
       "      <td>1398613</td>\n",
       "      <td>39756</td>\n",
       "      <td>46755000</td>\n",
       "      <td>850.30</td>\n",
       "      <td>2.84</td>\n",
       "    </tr>\n",
       "    <tr>\n",
       "      <th>25</th>\n",
       "      <td>Brasil</td>\n",
       "      <td>5675032</td>\n",
       "      <td>162628</td>\n",
       "      <td>212559000</td>\n",
       "      <td>765.10</td>\n",
       "      <td>2.87</td>\n",
       "    </tr>\n",
       "    <tr>\n",
       "      <th>38</th>\n",
       "      <td>Chile</td>\n",
       "      <td>523907</td>\n",
       "      <td>14611</td>\n",
       "      <td>19116000</td>\n",
       "      <td>764.33</td>\n",
       "      <td>2.79</td>\n",
       "    </tr>\n",
       "    <tr>\n",
       "      <th>23</th>\n",
       "      <td>Bolivia (Estado Plurinacional de)</td>\n",
       "      <td>142561</td>\n",
       "      <td>8802</td>\n",
       "      <td>11673000</td>\n",
       "      <td>754.05</td>\n",
       "      <td>6.17</td>\n",
       "    </tr>\n",
       "    <tr>\n",
       "      <th>8</th>\n",
       "      <td>Argentina</td>\n",
       "      <td>1250499</td>\n",
       "      <td>33907</td>\n",
       "      <td>45196000</td>\n",
       "      <td>750.22</td>\n",
       "      <td>2.71</td>\n",
       "    </tr>\n",
       "    <tr>\n",
       "      <th>55</th>\n",
       "      <td>Ecuador</td>\n",
       "      <td>175711</td>\n",
       "      <td>12849</td>\n",
       "      <td>17643000</td>\n",
       "      <td>728.28</td>\n",
       "      <td>7.31</td>\n",
       "    </tr>\n",
       "    <tr>\n",
       "      <th>204</th>\n",
       "      <td>Estados Unidos de America</td>\n",
       "      <td>9990620</td>\n",
       "      <td>236727</td>\n",
       "      <td>331003000</td>\n",
       "      <td>715.18</td>\n",
       "      <td>2.37</td>\n",
       "    </tr>\n",
       "    <tr>\n",
       "      <th>96</th>\n",
       "      <td>Italia</td>\n",
       "      <td>995463</td>\n",
       "      <td>42330</td>\n",
       "      <td>60462000</td>\n",
       "      <td>700.11</td>\n",
       "      <td>4.25</td>\n",
       "    </tr>\n",
       "    <tr>\n",
       "      <th>146</th>\n",
       "      <td>Panamá</td>\n",
       "      <td>140331</td>\n",
       "      <td>2808</td>\n",
       "      <td>4315000</td>\n",
       "      <td>650.75</td>\n",
       "      <td>2.00</td>\n",
       "    </tr>\n",
       "    <tr>\n",
       "      <th>40</th>\n",
       "      <td>Colombia</td>\n",
       "      <td>1149063</td>\n",
       "      <td>32974</td>\n",
       "      <td>50883000</td>\n",
       "      <td>648.04</td>\n",
       "      <td>2.87</td>\n",
       "    </tr>\n",
       "    <tr>\n",
       "      <th>66</th>\n",
       "      <td>Francia</td>\n",
       "      <td>1794717</td>\n",
       "      <td>41885</td>\n",
       "      <td>65274000</td>\n",
       "      <td>641.68</td>\n",
       "      <td>2.33</td>\n",
       "    </tr>\n",
       "    <tr>\n",
       "      <th>184</th>\n",
       "      <td>Suecia</td>\n",
       "      <td>162240</td>\n",
       "      <td>6057</td>\n",
       "      <td>10099000</td>\n",
       "      <td>599.76</td>\n",
       "      <td>3.73</td>\n",
       "    </tr>\n",
       "    <tr>\n",
       "      <th>127</th>\n",
       "      <td>Montenegro</td>\n",
       "      <td>24063</td>\n",
       "      <td>349</td>\n",
       "      <td>628000</td>\n",
       "      <td>555.73</td>\n",
       "      <td>1.45</td>\n",
       "    </tr>\n",
       "    <tr>\n",
       "      <th>9</th>\n",
       "      <td>Armenia</td>\n",
       "      <td>110548</td>\n",
       "      <td>1636</td>\n",
       "      <td>2963000</td>\n",
       "      <td>552.14</td>\n",
       "      <td>1.48</td>\n",
       "    </tr>\n",
       "    <tr>\n",
       "      <th>79</th>\n",
       "      <td>Guam</td>\n",
       "      <td>5552</td>\n",
       "      <td>91</td>\n",
       "      <td>169000</td>\n",
       "      <td>538.46</td>\n",
       "      <td>1.64</td>\n",
       "    </tr>\n",
       "    <tr>\n",
       "      <th>49</th>\n",
       "      <td>Chequia</td>\n",
       "      <td>429880</td>\n",
       "      <td>5323</td>\n",
       "      <td>10709000</td>\n",
       "      <td>497.06</td>\n",
       "      <td>1.24</td>\n",
       "    </tr>\n",
       "    <tr>\n",
       "      <th>24</th>\n",
       "      <td>Bosnia y Herzegovina</td>\n",
       "      <td>63420</td>\n",
       "      <td>1583</td>\n",
       "      <td>3281000</td>\n",
       "      <td>482.47</td>\n",
       "      <td>2.50</td>\n",
       "    </tr>\n",
       "    <tr>\n",
       "      <th>156</th>\n",
       "      <td>República de Moldova</td>\n",
       "      <td>83592</td>\n",
       "      <td>1930</td>\n",
       "      <td>4034000</td>\n",
       "      <td>478.43</td>\n",
       "      <td>2.31</td>\n",
       "    </tr>\n",
       "    <tr>\n",
       "      <th>135</th>\n",
       "      <td>Países Bajos</td>\n",
       "      <td>418911</td>\n",
       "      <td>8131</td>\n",
       "      <td>17135000</td>\n",
       "      <td>474.53</td>\n",
       "      <td>1.94</td>\n",
       "    </tr>\n",
       "    <tr>\n",
       "      <th>91</th>\n",
       "      <td>Irán (República Islámica de)</td>\n",
       "      <td>703288</td>\n",
       "      <td>39202</td>\n",
       "      <td>83993000</td>\n",
       "      <td>466.73</td>\n",
       "      <td>5.57</td>\n",
       "    </tr>\n",
       "    <tr>\n",
       "      <th>157</th>\n",
       "      <td>Rumania</td>\n",
       "      <td>314295</td>\n",
       "      <td>8186</td>\n",
       "      <td>19238000</td>\n",
       "      <td>425.51</td>\n",
       "      <td>2.60</td>\n",
       "    </tr>\n",
       "    <tr>\n",
       "      <th>93</th>\n",
       "      <td>Irlanda</td>\n",
       "      <td>65889</td>\n",
       "      <td>1963</td>\n",
       "      <td>4938000</td>\n",
       "      <td>397.53</td>\n",
       "      <td>2.98</td>\n",
       "    </tr>\n",
       "    <tr>\n",
       "      <th>14</th>\n",
       "      <td>Bahamas</td>\n",
       "      <td>7012</td>\n",
       "      <td>154</td>\n",
       "      <td>393000</td>\n",
       "      <td>391.86</td>\n",
       "      <td>2.20</td>\n",
       "    </tr>\n",
       "    <tr>\n",
       "      <th>10</th>\n",
       "      <td>Aruba</td>\n",
       "      <td>4606</td>\n",
       "      <td>41</td>\n",
       "      <td>107000</td>\n",
       "      <td>383.18</td>\n",
       "      <td>0.89</td>\n",
       "    </tr>\n",
       "    <tr>\n",
       "      <th>178</th>\n",
       "      <td>Sudáfrica</td>\n",
       "      <td>740254</td>\n",
       "      <td>19951</td>\n",
       "      <td>59309000</td>\n",
       "      <td>336.39</td>\n",
       "      <td>2.70</td>\n",
       "    </tr>\n",
       "    <tr>\n",
       "      <th>78</th>\n",
       "      <td>Guadalupe</td>\n",
       "      <td>7903</td>\n",
       "      <td>133</td>\n",
       "      <td>400000</td>\n",
       "      <td>332.50</td>\n",
       "      <td>1.68</td>\n",
       "    </tr>\n",
       "    <tr>\n",
       "      <th>153</th>\n",
       "      <td>Puerto Rico</td>\n",
       "      <td>38856</td>\n",
       "      <td>889</td>\n",
       "      <td>2861000</td>\n",
       "      <td>310.73</td>\n",
       "      <td>2.29</td>\n",
       "    </tr>\n",
       "    <tr>\n",
       "      <th>185</th>\n",
       "      <td>Suiza</td>\n",
       "      <td>234340</td>\n",
       "      <td>2679</td>\n",
       "      <td>8655000</td>\n",
       "      <td>309.53</td>\n",
       "      <td>1.14</td>\n",
       "    </tr>\n",
       "    <tr>\n",
       "      <th>95</th>\n",
       "      <td>Israel</td>\n",
       "      <td>319399</td>\n",
       "      <td>2677</td>\n",
       "      <td>8656000</td>\n",
       "      <td>309.27</td>\n",
       "      <td>0.84</td>\n",
       "    </tr>\n",
       "    <tr>\n",
       "      <th>113</th>\n",
       "      <td>Luxemburgo</td>\n",
       "      <td>23227</td>\n",
       "      <td>193</td>\n",
       "      <td>626000</td>\n",
       "      <td>308.31</td>\n",
       "      <td>0.83</td>\n",
       "    </tr>\n",
       "    <tr>\n",
       "      <th>152</th>\n",
       "      <td>Portugal</td>\n",
       "      <td>187237</td>\n",
       "      <td>3021</td>\n",
       "      <td>10197000</td>\n",
       "      <td>296.26</td>\n",
       "      <td>1.61</td>\n",
       "    </tr>\n",
       "    <tr>\n",
       "      <th>94</th>\n",
       "      <td>Isla del hombre</td>\n",
       "      <td>357</td>\n",
       "      <td>25</td>\n",
       "      <td>85000</td>\n",
       "      <td>294.12</td>\n",
       "      <td>7.00</td>\n",
       "    </tr>\n",
       "    <tr>\n",
       "      <th>44</th>\n",
       "      <td>Costa Rica</td>\n",
       "      <td>117587</td>\n",
       "      <td>1491</td>\n",
       "      <td>5094000</td>\n",
       "      <td>292.70</td>\n",
       "      <td>1.27</td>\n",
       "    </tr>\n",
       "    <tr>\n",
       "      <th>92</th>\n",
       "      <td>Irak</td>\n",
       "      <td>505310</td>\n",
       "      <td>11432</td>\n",
       "      <td>40223000</td>\n",
       "      <td>284.22</td>\n",
       "      <td>2.26</td>\n",
       "    </tr>\n",
       "    <tr>\n",
       "      <th>34</th>\n",
       "      <td>Canadá</td>\n",
       "      <td>268735</td>\n",
       "      <td>10564</td>\n",
       "      <td>37742000</td>\n",
       "      <td>279.90</td>\n",
       "      <td>3.93</td>\n",
       "    </tr>\n",
       "    <tr>\n",
       "      <th>87</th>\n",
       "      <td>Hungría</td>\n",
       "      <td>122863</td>\n",
       "      <td>2697</td>\n",
       "      <td>9660000</td>\n",
       "      <td>279.19</td>\n",
       "      <td>2.20</td>\n",
       "    </tr>\n",
       "    <tr>\n",
       "      <th>86</th>\n",
       "      <td>Honduras</td>\n",
       "      <td>100573</td>\n",
       "      <td>2765</td>\n",
       "      <td>9905000</td>\n",
       "      <td>279.15</td>\n",
       "      <td>2.75</td>\n",
       "    </tr>\n",
       "    <tr>\n",
       "      <th>28</th>\n",
       "      <td>Bulgaria</td>\n",
       "      <td>83366</td>\n",
       "      <td>1851</td>\n",
       "      <td>6948000</td>\n",
       "      <td>266.41</td>\n",
       "      <td>2.22</td>\n",
       "    </tr>\n",
       "    <tr>\n",
       "      <th>143</th>\n",
       "      <td>Omán</td>\n",
       "      <td>118884</td>\n",
       "      <td>1316</td>\n",
       "      <td>5107000</td>\n",
       "      <td>257.69</td>\n",
       "      <td>1.11</td>\n",
       "    </tr>\n",
       "    <tr>\n",
       "      <th>67</th>\n",
       "      <td>Guayana Francesa</td>\n",
       "      <td>10729</td>\n",
       "      <td>70</td>\n",
       "      <td>299000</td>\n",
       "      <td>234.11</td>\n",
       "      <td>0.65</td>\n",
       "    </tr>\n",
       "    <tr>\n",
       "      <th>151</th>\n",
       "      <td>Polonia</td>\n",
       "      <td>593592</td>\n",
       "      <td>8375</td>\n",
       "      <td>37847000</td>\n",
       "      <td>221.29</td>\n",
       "      <td>1.41</td>\n",
       "    </tr>\n",
       "    <tr>\n",
       "      <th>203</th>\n",
       "      <td>Islas Vírgenes de los Estados Unidos</td>\n",
       "      <td>1410</td>\n",
       "      <td>23</td>\n",
       "      <td>104000</td>\n",
       "      <td>221.15</td>\n",
       "      <td>1.63</td>\n",
       "    </tr>\n",
       "    <tr>\n",
       "      <th>158</th>\n",
       "      <td>Federación Rusa</td>\n",
       "      <td>1836960</td>\n",
       "      <td>31593</td>\n",
       "      <td>145934000</td>\n",
       "      <td>216.49</td>\n",
       "      <td>1.72</td>\n",
       "    </tr>\n",
       "    <tr>\n",
       "      <th>80</th>\n",
       "      <td>Guatemala</td>\n",
       "      <td>112129</td>\n",
       "      <td>3832</td>\n",
       "      <td>17916000</td>\n",
       "      <td>213.89</td>\n",
       "      <td>3.42</td>\n",
       "    </tr>\n",
       "    <tr>\n",
       "      <th>45</th>\n",
       "      <td>Croacia</td>\n",
       "      <td>70243</td>\n",
       "      <td>865</td>\n",
       "      <td>4105000</td>\n",
       "      <td>210.72</td>\n",
       "      <td>1.23</td>\n",
       "    </tr>\n",
       "    <tr>\n",
       "      <th>148</th>\n",
       "      <td>Paraguay</td>\n",
       "      <td>67948</td>\n",
       "      <td>1502</td>\n",
       "      <td>7133000</td>\n",
       "      <td>210.57</td>\n",
       "      <td>2.21</td>\n",
       "    </tr>\n",
       "  </tbody>\n",
       "</table>\n",
       "</div>"
      ],
      "text/plain": [
       "                                     País  Total_Casos  Fallecidos  Población  \\\n",
       "166                            San Marino         1155          42      34000   \n",
       "18                                Bélgica       507380       13561   11590000   \n",
       "149                                  Perú       923527       34943   32972000   \n",
       "4                                 Andorra         5477          75      77000   \n",
       "180                                España      1398613       39756   46755000   \n",
       "25                                 Brasil      5675032      162628  212559000   \n",
       "38                                  Chile       523907       14611   19116000   \n",
       "23      Bolivia (Estado Plurinacional de)       142561        8802   11673000   \n",
       "8                               Argentina      1250499       33907   45196000   \n",
       "55                                Ecuador       175711       12849   17643000   \n",
       "204             Estados Unidos de America      9990620      236727  331003000   \n",
       "96                                 Italia       995463       42330   60462000   \n",
       "146                                Panamá       140331        2808    4315000   \n",
       "40                               Colombia      1149063       32974   50883000   \n",
       "66                                Francia      1794717       41885   65274000   \n",
       "184                                Suecia       162240        6057   10099000   \n",
       "127                            Montenegro        24063         349     628000   \n",
       "9                                 Armenia       110548        1636    2963000   \n",
       "79                                   Guam         5552          91     169000   \n",
       "49                                Chequia       429880        5323   10709000   \n",
       "24                   Bosnia y Herzegovina        63420        1583    3281000   \n",
       "156                  República de Moldova        83592        1930    4034000   \n",
       "135                          Países Bajos       418911        8131   17135000   \n",
       "91           Irán (República Islámica de)       703288       39202   83993000   \n",
       "157                               Rumania       314295        8186   19238000   \n",
       "93                                Irlanda        65889        1963    4938000   \n",
       "14                                Bahamas         7012         154     393000   \n",
       "10                                  Aruba         4606          41     107000   \n",
       "178                             Sudáfrica       740254       19951   59309000   \n",
       "78                              Guadalupe         7903         133     400000   \n",
       "153                           Puerto Rico        38856         889    2861000   \n",
       "185                                 Suiza       234340        2679    8655000   \n",
       "95                                 Israel       319399        2677    8656000   \n",
       "113                            Luxemburgo        23227         193     626000   \n",
       "152                              Portugal       187237        3021   10197000   \n",
       "94                        Isla del hombre          357          25      85000   \n",
       "44                             Costa Rica       117587        1491    5094000   \n",
       "92                                   Irak       505310       11432   40223000   \n",
       "34                                 Canadá       268735       10564   37742000   \n",
       "87                                Hungría       122863        2697    9660000   \n",
       "86                               Honduras       100573        2765    9905000   \n",
       "28                               Bulgaria        83366        1851    6948000   \n",
       "143                                  Omán       118884        1316    5107000   \n",
       "67                       Guayana Francesa        10729          70     299000   \n",
       "151                               Polonia       593592        8375   37847000   \n",
       "203  Islas Vírgenes de los Estados Unidos         1410          23     104000   \n",
       "158                       Federación Rusa      1836960       31593  145934000   \n",
       "80                              Guatemala       112129        3832   17916000   \n",
       "45                                Croacia        70243         865    4105000   \n",
       "148                              Paraguay        67948        1502    7133000   \n",
       "\n",
       "     Tasa de mortalidad por millón de habitantes  \\\n",
       "166                                      1235.29   \n",
       "18                                       1170.06   \n",
       "149                                      1059.78   \n",
       "4                                         974.03   \n",
       "180                                       850.30   \n",
       "25                                        765.10   \n",
       "38                                        764.33   \n",
       "23                                        754.05   \n",
       "8                                         750.22   \n",
       "55                                        728.28   \n",
       "204                                       715.18   \n",
       "96                                        700.11   \n",
       "146                                       650.75   \n",
       "40                                        648.04   \n",
       "66                                        641.68   \n",
       "184                                       599.76   \n",
       "127                                       555.73   \n",
       "9                                         552.14   \n",
       "79                                        538.46   \n",
       "49                                        497.06   \n",
       "24                                        482.47   \n",
       "156                                       478.43   \n",
       "135                                       474.53   \n",
       "91                                        466.73   \n",
       "157                                       425.51   \n",
       "93                                        397.53   \n",
       "14                                        391.86   \n",
       "10                                        383.18   \n",
       "178                                       336.39   \n",
       "78                                        332.50   \n",
       "153                                       310.73   \n",
       "185                                       309.53   \n",
       "95                                        309.27   \n",
       "113                                       308.31   \n",
       "152                                       296.26   \n",
       "94                                        294.12   \n",
       "44                                        292.70   \n",
       "92                                        284.22   \n",
       "34                                        279.90   \n",
       "87                                        279.19   \n",
       "86                                        279.15   \n",
       "28                                        266.41   \n",
       "143                                       257.69   \n",
       "67                                        234.11   \n",
       "151                                       221.29   \n",
       "203                                       221.15   \n",
       "158                                       216.49   \n",
       "80                                        213.89   \n",
       "45                                        210.72   \n",
       "148                                       210.57   \n",
       "\n",
       "     Tasa de letalidad por cien habitantes  \n",
       "166                                   3.64  \n",
       "18                                    2.67  \n",
       "149                                   3.78  \n",
       "4                                     1.37  \n",
       "180                                   2.84  \n",
       "25                                    2.87  \n",
       "38                                    2.79  \n",
       "23                                    6.17  \n",
       "8                                     2.71  \n",
       "55                                    7.31  \n",
       "204                                   2.37  \n",
       "96                                    4.25  \n",
       "146                                   2.00  \n",
       "40                                    2.87  \n",
       "66                                    2.33  \n",
       "184                                   3.73  \n",
       "127                                   1.45  \n",
       "9                                     1.48  \n",
       "79                                    1.64  \n",
       "49                                    1.24  \n",
       "24                                    2.50  \n",
       "156                                   2.31  \n",
       "135                                   1.94  \n",
       "91                                    5.57  \n",
       "157                                   2.60  \n",
       "93                                    2.98  \n",
       "14                                    2.20  \n",
       "10                                    0.89  \n",
       "178                                   2.70  \n",
       "78                                    1.68  \n",
       "153                                   2.29  \n",
       "185                                   1.14  \n",
       "95                                    0.84  \n",
       "113                                   0.83  \n",
       "152                                   1.61  \n",
       "94                                    7.00  \n",
       "44                                    1.27  \n",
       "92                                    2.26  \n",
       "34                                    3.93  \n",
       "87                                    2.20  \n",
       "86                                    2.75  \n",
       "28                                    2.22  \n",
       "143                                   1.11  \n",
       "67                                    0.65  \n",
       "151                                   1.41  \n",
       "203                                   1.63  \n",
       "158                                   1.72  \n",
       "80                                    3.42  \n",
       "45                                    1.23  \n",
       "148                                   2.21  "
      ]
     },
     "execution_count": 54,
     "metadata": {},
     "output_type": "execute_result"
    }
   ],
   "source": [
    "tasasMundiales.sort_values('Tasa de mortalidad por millón de habitantes', ascending=False).round(2).head(50)"
   ]
  },
  {
   "cell_type": "markdown",
   "metadata": {
    "slideshow": {
     "slide_type": "slide"
    }
   },
   "source": [
    "# Personas fallecidas en el mundo por CoV-2  (pendiente ajustes)"
   ]
  },
  {
   "cell_type": "code",
   "execution_count": 55,
   "metadata": {
    "slideshow": {
     "slide_type": "subslide"
    }
   },
   "outputs": [
    {
     "data": {
      "text/plain": [
       "1122208"
      ]
     },
     "execution_count": 55,
     "metadata": {},
     "output_type": "execute_result"
    }
   ],
   "source": [
    "tasasMundiales['Fallecidos'].sum()"
   ]
  },
  {
   "cell_type": "markdown",
   "metadata": {
    "slideshow": {
     "slide_type": "slide"
    }
   },
   "source": [
    "# Datos departamento"
   ]
  },
  {
   "cell_type": "code",
   "execution_count": 56,
   "metadata": {
    "scrolled": true,
    "slideshow": {
     "slide_type": "subslide"
    }
   },
   "outputs": [
    {
     "data": {
      "text/html": [
       "<div>\n",
       "<style scoped>\n",
       "    .dataframe tbody tr th:only-of-type {\n",
       "        vertical-align: middle;\n",
       "    }\n",
       "\n",
       "    .dataframe tbody tr th {\n",
       "        vertical-align: top;\n",
       "    }\n",
       "\n",
       "    .dataframe thead th {\n",
       "        text-align: right;\n",
       "    }\n",
       "</style>\n",
       "<table border=\"1\" class=\"dataframe\">\n",
       "  <thead>\n",
       "    <tr style=\"text-align: right;\">\n",
       "      <th></th>\n",
       "      <th>Fecha de notificación</th>\n",
       "      <th>Nombre departamento</th>\n",
       "      <th>Nombre municipio</th>\n",
       "      <th>Edad</th>\n",
       "      <th>Sexo</th>\n",
       "      <th>Tipo de contagio</th>\n",
       "      <th>Estado</th>\n",
       "      <th>Fecha de muerte</th>\n",
       "      <th>Fecha de diagnóstico</th>\n",
       "      <th>Fecha de recuperación</th>\n",
       "      <th>Tipo de recuperación</th>\n",
       "    </tr>\n",
       "  </thead>\n",
       "  <tbody>\n",
       "    <tr>\n",
       "      <th>30</th>\n",
       "      <td>12/3/2020 0:00:00</td>\n",
       "      <td>CALDAS</td>\n",
       "      <td>MANIZALES</td>\n",
       "      <td>65</td>\n",
       "      <td>M</td>\n",
       "      <td>Importado</td>\n",
       "      <td>Leve</td>\n",
       "      <td>NaN</td>\n",
       "      <td>13/3/2020 0:00:00</td>\n",
       "      <td>26/3/2020 0:00:00</td>\n",
       "      <td>PCR</td>\n",
       "    </tr>\n",
       "    <tr>\n",
       "      <th>142</th>\n",
       "      <td>17/3/2020 0:00:00</td>\n",
       "      <td>CALDAS</td>\n",
       "      <td>VITERBO</td>\n",
       "      <td>38</td>\n",
       "      <td>F</td>\n",
       "      <td>Importado</td>\n",
       "      <td>Leve</td>\n",
       "      <td>NaN</td>\n",
       "      <td>19/3/2020 0:00:00</td>\n",
       "      <td>31/3/2020 0:00:00</td>\n",
       "      <td>PCR</td>\n",
       "    </tr>\n",
       "    <tr>\n",
       "      <th>200</th>\n",
       "      <td>18/3/2020 0:00:00</td>\n",
       "      <td>CALDAS</td>\n",
       "      <td>MANIZALES</td>\n",
       "      <td>22</td>\n",
       "      <td>F</td>\n",
       "      <td>Importado</td>\n",
       "      <td>Leve</td>\n",
       "      <td>NaN</td>\n",
       "      <td>21/3/2020 0:00:00</td>\n",
       "      <td>1/4/2020 0:00:00</td>\n",
       "      <td>PCR</td>\n",
       "    </tr>\n",
       "    <tr>\n",
       "      <th>237</th>\n",
       "      <td>19/3/2020 0:00:00</td>\n",
       "      <td>CALDAS</td>\n",
       "      <td>LA DORADA</td>\n",
       "      <td>24</td>\n",
       "      <td>F</td>\n",
       "      <td>Relacionado</td>\n",
       "      <td>Leve</td>\n",
       "      <td>NaN</td>\n",
       "      <td>22/3/2020 0:00:00</td>\n",
       "      <td>31/3/2020 0:00:00</td>\n",
       "      <td>PCR</td>\n",
       "    </tr>\n",
       "    <tr>\n",
       "      <th>238</th>\n",
       "      <td>19/3/2020 0:00:00</td>\n",
       "      <td>CALDAS</td>\n",
       "      <td>CHINCHINA</td>\n",
       "      <td>51</td>\n",
       "      <td>M</td>\n",
       "      <td>Importado</td>\n",
       "      <td>Leve</td>\n",
       "      <td>NaN</td>\n",
       "      <td>22/3/2020 0:00:00</td>\n",
       "      <td>28/3/2020 0:00:00</td>\n",
       "      <td>PCR</td>\n",
       "    </tr>\n",
       "    <tr>\n",
       "      <th>...</th>\n",
       "      <td>...</td>\n",
       "      <td>...</td>\n",
       "      <td>...</td>\n",
       "      <td>...</td>\n",
       "      <td>...</td>\n",
       "      <td>...</td>\n",
       "      <td>...</td>\n",
       "      <td>...</td>\n",
       "      <td>...</td>\n",
       "      <td>...</td>\n",
       "      <td>...</td>\n",
       "    </tr>\n",
       "    <tr>\n",
       "      <th>1143855</th>\n",
       "      <td>27/10/2020 0:00:00</td>\n",
       "      <td>CALDAS</td>\n",
       "      <td>MANIZALES</td>\n",
       "      <td>26</td>\n",
       "      <td>F</td>\n",
       "      <td>En estudio</td>\n",
       "      <td>Leve</td>\n",
       "      <td>NaN</td>\n",
       "      <td>7/11/2020 0:00:00</td>\n",
       "      <td>NaN</td>\n",
       "      <td>NaN</td>\n",
       "    </tr>\n",
       "    <tr>\n",
       "      <th>1143858</th>\n",
       "      <td>27/10/2020 0:00:00</td>\n",
       "      <td>CALDAS</td>\n",
       "      <td>MANIZALES</td>\n",
       "      <td>10</td>\n",
       "      <td>F</td>\n",
       "      <td>En estudio</td>\n",
       "      <td>Leve</td>\n",
       "      <td>NaN</td>\n",
       "      <td>7/11/2020 0:00:00</td>\n",
       "      <td>NaN</td>\n",
       "      <td>NaN</td>\n",
       "    </tr>\n",
       "    <tr>\n",
       "      <th>1143863</th>\n",
       "      <td>27/10/2020 0:00:00</td>\n",
       "      <td>CALDAS</td>\n",
       "      <td>MANIZALES</td>\n",
       "      <td>36</td>\n",
       "      <td>M</td>\n",
       "      <td>En estudio</td>\n",
       "      <td>Leve</td>\n",
       "      <td>NaN</td>\n",
       "      <td>7/11/2020 0:00:00</td>\n",
       "      <td>NaN</td>\n",
       "      <td>NaN</td>\n",
       "    </tr>\n",
       "    <tr>\n",
       "      <th>1143864</th>\n",
       "      <td>27/10/2020 0:00:00</td>\n",
       "      <td>CALDAS</td>\n",
       "      <td>MANIZALES</td>\n",
       "      <td>55</td>\n",
       "      <td>F</td>\n",
       "      <td>En estudio</td>\n",
       "      <td>Leve</td>\n",
       "      <td>NaN</td>\n",
       "      <td>7/11/2020 0:00:00</td>\n",
       "      <td>NaN</td>\n",
       "      <td>NaN</td>\n",
       "    </tr>\n",
       "    <tr>\n",
       "      <th>1143865</th>\n",
       "      <td>27/10/2020 0:00:00</td>\n",
       "      <td>CALDAS</td>\n",
       "      <td>MANIZALES</td>\n",
       "      <td>34</td>\n",
       "      <td>M</td>\n",
       "      <td>En estudio</td>\n",
       "      <td>Leve</td>\n",
       "      <td>NaN</td>\n",
       "      <td>7/11/2020 0:00:00</td>\n",
       "      <td>NaN</td>\n",
       "      <td>NaN</td>\n",
       "    </tr>\n",
       "  </tbody>\n",
       "</table>\n",
       "<p>17113 rows × 11 columns</p>\n",
       "</div>"
      ],
      "text/plain": [
       "        Fecha de notificación Nombre departamento Nombre municipio Edad Sexo  \\\n",
       "30          12/3/2020 0:00:00              CALDAS        MANIZALES   65    M   \n",
       "142         17/3/2020 0:00:00              CALDAS          VITERBO   38    F   \n",
       "200         18/3/2020 0:00:00              CALDAS        MANIZALES   22    F   \n",
       "237         19/3/2020 0:00:00              CALDAS        LA DORADA   24    F   \n",
       "238         19/3/2020 0:00:00              CALDAS        CHINCHINA   51    M   \n",
       "...                       ...                 ...              ...  ...  ...   \n",
       "1143855    27/10/2020 0:00:00              CALDAS        MANIZALES   26    F   \n",
       "1143858    27/10/2020 0:00:00              CALDAS        MANIZALES   10    F   \n",
       "1143863    27/10/2020 0:00:00              CALDAS        MANIZALES   36    M   \n",
       "1143864    27/10/2020 0:00:00              CALDAS        MANIZALES   55    F   \n",
       "1143865    27/10/2020 0:00:00              CALDAS        MANIZALES   34    M   \n",
       "\n",
       "        Tipo de contagio Estado Fecha de muerte Fecha de diagnóstico  \\\n",
       "30             Importado   Leve             NaN    13/3/2020 0:00:00   \n",
       "142            Importado   Leve             NaN    19/3/2020 0:00:00   \n",
       "200            Importado   Leve             NaN    21/3/2020 0:00:00   \n",
       "237          Relacionado   Leve             NaN    22/3/2020 0:00:00   \n",
       "238            Importado   Leve             NaN    22/3/2020 0:00:00   \n",
       "...                  ...    ...             ...                  ...   \n",
       "1143855       En estudio   Leve             NaN    7/11/2020 0:00:00   \n",
       "1143858       En estudio   Leve             NaN    7/11/2020 0:00:00   \n",
       "1143863       En estudio   Leve             NaN    7/11/2020 0:00:00   \n",
       "1143864       En estudio   Leve             NaN    7/11/2020 0:00:00   \n",
       "1143865       En estudio   Leve             NaN    7/11/2020 0:00:00   \n",
       "\n",
       "        Fecha de recuperación Tipo de recuperación  \n",
       "30          26/3/2020 0:00:00                  PCR  \n",
       "142         31/3/2020 0:00:00                  PCR  \n",
       "200          1/4/2020 0:00:00                  PCR  \n",
       "237         31/3/2020 0:00:00                  PCR  \n",
       "238         28/3/2020 0:00:00                  PCR  \n",
       "...                       ...                  ...  \n",
       "1143855                   NaN                  NaN  \n",
       "1143858                   NaN                  NaN  \n",
       "1143863                   NaN                  NaN  \n",
       "1143864                   NaN                  NaN  \n",
       "1143865                   NaN                  NaN  \n",
       "\n",
       "[17113 rows x 11 columns]"
      ]
     },
     "execution_count": 56,
     "metadata": {},
     "output_type": "execute_result"
    }
   ],
   "source": [
    "porDpto=col.loc[col['Nombre departamento']==localidad,:]\n",
    "porDpto"
   ]
  },
  {
   "cell_type": "markdown",
   "metadata": {
    "slideshow": {
     "slide_type": "slide"
    }
   },
   "source": [
    "# Datos municipio"
   ]
  },
  {
   "cell_type": "code",
   "execution_count": 57,
   "metadata": {
    "scrolled": true,
    "slideshow": {
     "slide_type": "subslide"
    }
   },
   "outputs": [
    {
     "data": {
      "text/html": [
       "<div>\n",
       "<style scoped>\n",
       "    .dataframe tbody tr th:only-of-type {\n",
       "        vertical-align: middle;\n",
       "    }\n",
       "\n",
       "    .dataframe tbody tr th {\n",
       "        vertical-align: top;\n",
       "    }\n",
       "\n",
       "    .dataframe thead th {\n",
       "        text-align: right;\n",
       "    }\n",
       "</style>\n",
       "<table border=\"1\" class=\"dataframe\">\n",
       "  <thead>\n",
       "    <tr style=\"text-align: right;\">\n",
       "      <th></th>\n",
       "      <th>Fecha de notificación</th>\n",
       "      <th>Nombre departamento</th>\n",
       "      <th>Nombre municipio</th>\n",
       "      <th>Edad</th>\n",
       "      <th>Sexo</th>\n",
       "      <th>Tipo de contagio</th>\n",
       "      <th>Estado</th>\n",
       "      <th>Fecha de muerte</th>\n",
       "      <th>Fecha de diagnóstico</th>\n",
       "      <th>Fecha de recuperación</th>\n",
       "      <th>Tipo de recuperación</th>\n",
       "    </tr>\n",
       "  </thead>\n",
       "  <tbody>\n",
       "    <tr>\n",
       "      <th>30</th>\n",
       "      <td>12/3/2020 0:00:00</td>\n",
       "      <td>CALDAS</td>\n",
       "      <td>MANIZALES</td>\n",
       "      <td>65</td>\n",
       "      <td>M</td>\n",
       "      <td>Importado</td>\n",
       "      <td>Leve</td>\n",
       "      <td>NaN</td>\n",
       "      <td>13/3/2020 0:00:00</td>\n",
       "      <td>26/3/2020 0:00:00</td>\n",
       "      <td>PCR</td>\n",
       "    </tr>\n",
       "    <tr>\n",
       "      <th>200</th>\n",
       "      <td>18/3/2020 0:00:00</td>\n",
       "      <td>CALDAS</td>\n",
       "      <td>MANIZALES</td>\n",
       "      <td>22</td>\n",
       "      <td>F</td>\n",
       "      <td>Importado</td>\n",
       "      <td>Leve</td>\n",
       "      <td>NaN</td>\n",
       "      <td>21/3/2020 0:00:00</td>\n",
       "      <td>1/4/2020 0:00:00</td>\n",
       "      <td>PCR</td>\n",
       "    </tr>\n",
       "    <tr>\n",
       "      <th>379</th>\n",
       "      <td>21/3/2020 0:00:00</td>\n",
       "      <td>CALDAS</td>\n",
       "      <td>MANIZALES</td>\n",
       "      <td>70</td>\n",
       "      <td>M</td>\n",
       "      <td>Importado</td>\n",
       "      <td>Leve</td>\n",
       "      <td>NaN</td>\n",
       "      <td>24/3/2020 0:00:00</td>\n",
       "      <td>31/3/2020 0:00:00</td>\n",
       "      <td>PCR</td>\n",
       "    </tr>\n",
       "    <tr>\n",
       "      <th>480</th>\n",
       "      <td>25/3/2020 0:00:00</td>\n",
       "      <td>CALDAS</td>\n",
       "      <td>MANIZALES</td>\n",
       "      <td>26</td>\n",
       "      <td>F</td>\n",
       "      <td>Importado</td>\n",
       "      <td>Leve</td>\n",
       "      <td>NaN</td>\n",
       "      <td>25/3/2020 0:00:00</td>\n",
       "      <td>30/3/2020 0:00:00</td>\n",
       "      <td>PCR</td>\n",
       "    </tr>\n",
       "    <tr>\n",
       "      <th>566</th>\n",
       "      <td>24/3/2020 0:00:00</td>\n",
       "      <td>CALDAS</td>\n",
       "      <td>MANIZALES</td>\n",
       "      <td>81</td>\n",
       "      <td>M</td>\n",
       "      <td>En estudio</td>\n",
       "      <td>Leve</td>\n",
       "      <td>NaN</td>\n",
       "      <td>27/3/2020 0:00:00</td>\n",
       "      <td>4/4/2020 0:00:00</td>\n",
       "      <td>PCR</td>\n",
       "    </tr>\n",
       "    <tr>\n",
       "      <th>...</th>\n",
       "      <td>...</td>\n",
       "      <td>...</td>\n",
       "      <td>...</td>\n",
       "      <td>...</td>\n",
       "      <td>...</td>\n",
       "      <td>...</td>\n",
       "      <td>...</td>\n",
       "      <td>...</td>\n",
       "      <td>...</td>\n",
       "      <td>...</td>\n",
       "      <td>...</td>\n",
       "    </tr>\n",
       "    <tr>\n",
       "      <th>1143855</th>\n",
       "      <td>27/10/2020 0:00:00</td>\n",
       "      <td>CALDAS</td>\n",
       "      <td>MANIZALES</td>\n",
       "      <td>26</td>\n",
       "      <td>F</td>\n",
       "      <td>En estudio</td>\n",
       "      <td>Leve</td>\n",
       "      <td>NaN</td>\n",
       "      <td>7/11/2020 0:00:00</td>\n",
       "      <td>NaN</td>\n",
       "      <td>NaN</td>\n",
       "    </tr>\n",
       "    <tr>\n",
       "      <th>1143858</th>\n",
       "      <td>27/10/2020 0:00:00</td>\n",
       "      <td>CALDAS</td>\n",
       "      <td>MANIZALES</td>\n",
       "      <td>10</td>\n",
       "      <td>F</td>\n",
       "      <td>En estudio</td>\n",
       "      <td>Leve</td>\n",
       "      <td>NaN</td>\n",
       "      <td>7/11/2020 0:00:00</td>\n",
       "      <td>NaN</td>\n",
       "      <td>NaN</td>\n",
       "    </tr>\n",
       "    <tr>\n",
       "      <th>1143863</th>\n",
       "      <td>27/10/2020 0:00:00</td>\n",
       "      <td>CALDAS</td>\n",
       "      <td>MANIZALES</td>\n",
       "      <td>36</td>\n",
       "      <td>M</td>\n",
       "      <td>En estudio</td>\n",
       "      <td>Leve</td>\n",
       "      <td>NaN</td>\n",
       "      <td>7/11/2020 0:00:00</td>\n",
       "      <td>NaN</td>\n",
       "      <td>NaN</td>\n",
       "    </tr>\n",
       "    <tr>\n",
       "      <th>1143864</th>\n",
       "      <td>27/10/2020 0:00:00</td>\n",
       "      <td>CALDAS</td>\n",
       "      <td>MANIZALES</td>\n",
       "      <td>55</td>\n",
       "      <td>F</td>\n",
       "      <td>En estudio</td>\n",
       "      <td>Leve</td>\n",
       "      <td>NaN</td>\n",
       "      <td>7/11/2020 0:00:00</td>\n",
       "      <td>NaN</td>\n",
       "      <td>NaN</td>\n",
       "    </tr>\n",
       "    <tr>\n",
       "      <th>1143865</th>\n",
       "      <td>27/10/2020 0:00:00</td>\n",
       "      <td>CALDAS</td>\n",
       "      <td>MANIZALES</td>\n",
       "      <td>34</td>\n",
       "      <td>M</td>\n",
       "      <td>En estudio</td>\n",
       "      <td>Leve</td>\n",
       "      <td>NaN</td>\n",
       "      <td>7/11/2020 0:00:00</td>\n",
       "      <td>NaN</td>\n",
       "      <td>NaN</td>\n",
       "    </tr>\n",
       "  </tbody>\n",
       "</table>\n",
       "<p>11803 rows × 11 columns</p>\n",
       "</div>"
      ],
      "text/plain": [
       "        Fecha de notificación Nombre departamento Nombre municipio Edad Sexo  \\\n",
       "30          12/3/2020 0:00:00              CALDAS        MANIZALES   65    M   \n",
       "200         18/3/2020 0:00:00              CALDAS        MANIZALES   22    F   \n",
       "379         21/3/2020 0:00:00              CALDAS        MANIZALES   70    M   \n",
       "480         25/3/2020 0:00:00              CALDAS        MANIZALES   26    F   \n",
       "566         24/3/2020 0:00:00              CALDAS        MANIZALES   81    M   \n",
       "...                       ...                 ...              ...  ...  ...   \n",
       "1143855    27/10/2020 0:00:00              CALDAS        MANIZALES   26    F   \n",
       "1143858    27/10/2020 0:00:00              CALDAS        MANIZALES   10    F   \n",
       "1143863    27/10/2020 0:00:00              CALDAS        MANIZALES   36    M   \n",
       "1143864    27/10/2020 0:00:00              CALDAS        MANIZALES   55    F   \n",
       "1143865    27/10/2020 0:00:00              CALDAS        MANIZALES   34    M   \n",
       "\n",
       "        Tipo de contagio Estado Fecha de muerte Fecha de diagnóstico  \\\n",
       "30             Importado   Leve             NaN    13/3/2020 0:00:00   \n",
       "200            Importado   Leve             NaN    21/3/2020 0:00:00   \n",
       "379            Importado   Leve             NaN    24/3/2020 0:00:00   \n",
       "480            Importado   Leve             NaN    25/3/2020 0:00:00   \n",
       "566           En estudio   Leve             NaN    27/3/2020 0:00:00   \n",
       "...                  ...    ...             ...                  ...   \n",
       "1143855       En estudio   Leve             NaN    7/11/2020 0:00:00   \n",
       "1143858       En estudio   Leve             NaN    7/11/2020 0:00:00   \n",
       "1143863       En estudio   Leve             NaN    7/11/2020 0:00:00   \n",
       "1143864       En estudio   Leve             NaN    7/11/2020 0:00:00   \n",
       "1143865       En estudio   Leve             NaN    7/11/2020 0:00:00   \n",
       "\n",
       "        Fecha de recuperación Tipo de recuperación  \n",
       "30          26/3/2020 0:00:00                  PCR  \n",
       "200          1/4/2020 0:00:00                  PCR  \n",
       "379         31/3/2020 0:00:00                  PCR  \n",
       "480         30/3/2020 0:00:00                  PCR  \n",
       "566          4/4/2020 0:00:00                  PCR  \n",
       "...                       ...                  ...  \n",
       "1143855                   NaN                  NaN  \n",
       "1143858                   NaN                  NaN  \n",
       "1143863                   NaN                  NaN  \n",
       "1143864                   NaN                  NaN  \n",
       "1143865                   NaN                  NaN  \n",
       "\n",
       "[11803 rows x 11 columns]"
      ]
     },
     "execution_count": 57,
     "metadata": {},
     "output_type": "execute_result"
    }
   ],
   "source": [
    "porMunicipio=col.loc[col['Nombre municipio']==localidad1,:]\n",
    "porMunicipio"
   ]
  },
  {
   "cell_type": "code",
   "execution_count": 58,
   "metadata": {
    "slideshow": {
     "slide_type": "skip"
    }
   },
   "outputs": [],
   "source": [
    "CasosporEdad= porDpto.groupby('Edad').count().drop(columns=['Tipo de contagio','Tipo de recuperación','Nombre municipio', 'Nombre departamento','Sexo','Estado','Fecha de muerte','Fecha de diagnóstico','Fecha de recuperación'])\n",
    "CasosporEdad.rename(columns={'Fecha de notificación':'Número de casos'}, inplace=True)"
   ]
  },
  {
   "cell_type": "markdown",
   "metadata": {
    "slideshow": {
     "slide_type": "slide"
    }
   },
   "source": [
    "## Departamento:  Casos por edad"
   ]
  },
  {
   "cell_type": "code",
   "execution_count": 59,
   "metadata": {
    "slideshow": {
     "slide_type": "subslide"
    }
   },
   "outputs": [
    {
     "data": {
      "text/html": [
       "<div>\n",
       "<style scoped>\n",
       "    .dataframe tbody tr th:only-of-type {\n",
       "        vertical-align: middle;\n",
       "    }\n",
       "\n",
       "    .dataframe tbody tr th {\n",
       "        vertical-align: top;\n",
       "    }\n",
       "\n",
       "    .dataframe thead th {\n",
       "        text-align: right;\n",
       "    }\n",
       "</style>\n",
       "<table border=\"1\" class=\"dataframe\">\n",
       "  <thead>\n",
       "    <tr style=\"text-align: right;\">\n",
       "      <th>Edad</th>\n",
       "      <th>1</th>\n",
       "      <th>2</th>\n",
       "      <th>3</th>\n",
       "      <th>4</th>\n",
       "      <th>5</th>\n",
       "      <th>6</th>\n",
       "      <th>7</th>\n",
       "      <th>8</th>\n",
       "      <th>9</th>\n",
       "      <th>10</th>\n",
       "      <th>...</th>\n",
       "      <th>107</th>\n",
       "      <th>108</th>\n",
       "      <th>109</th>\n",
       "      <th>110</th>\n",
       "      <th>111</th>\n",
       "      <th>112</th>\n",
       "      <th>113</th>\n",
       "      <th>115</th>\n",
       "      <th>123</th>\n",
       "      <th>124</th>\n",
       "    </tr>\n",
       "  </thead>\n",
       "  <tbody>\n",
       "    <tr>\n",
       "      <th>Número de casos</th>\n",
       "      <td>54</td>\n",
       "      <td>38</td>\n",
       "      <td>40</td>\n",
       "      <td>36</td>\n",
       "      <td>47</td>\n",
       "      <td>48</td>\n",
       "      <td>44</td>\n",
       "      <td>50</td>\n",
       "      <td>53</td>\n",
       "      <td>49</td>\n",
       "      <td>...</td>\n",
       "      <td>0</td>\n",
       "      <td>0</td>\n",
       "      <td>0</td>\n",
       "      <td>1</td>\n",
       "      <td>0</td>\n",
       "      <td>0</td>\n",
       "      <td>0</td>\n",
       "      <td>0</td>\n",
       "      <td>1</td>\n",
       "      <td>0</td>\n",
       "    </tr>\n",
       "  </tbody>\n",
       "</table>\n",
       "<p>1 rows × 116 columns</p>\n",
       "</div>"
      ],
      "text/plain": [
       "Edad             1    2    3    4    5    6    7    8    9    10   ...  107  \\\n",
       "Número de casos   54   38   40   36   47   48   44   50   53   49  ...    0   \n",
       "\n",
       "Edad             108  109  110  111  112  113  115  123  124  \n",
       "Número de casos    0    0    1    0    0    0    0    1    0  \n",
       "\n",
       "[1 rows x 116 columns]"
      ]
     },
     "execution_count": 59,
     "metadata": {},
     "output_type": "execute_result"
    }
   ],
   "source": [
    "CasosporEdad=CasosporEdad.transpose()\n",
    "CasosporEdad"
   ]
  },
  {
   "cell_type": "code",
   "execution_count": 60,
   "metadata": {
    "slideshow": {
     "slide_type": "skip"
    }
   },
   "outputs": [],
   "source": [
    "CasosporEdadMunicipio= porMunicipio.groupby('Edad').count().drop(columns=['Tipo de contagio','Tipo de recuperación','Nombre municipio', 'Nombre departamento','Sexo','Estado','Fecha de muerte','Fecha de diagnóstico','Fecha de recuperación'])\n",
    "CasosporEdadMunicipio.rename(columns={'Fecha de notificación':'Número de casos'}, inplace=True)"
   ]
  },
  {
   "cell_type": "markdown",
   "metadata": {
    "slideshow": {
     "slide_type": "slide"
    }
   },
   "source": [
    "## Municipio:  Casos por edad"
   ]
  },
  {
   "cell_type": "code",
   "execution_count": 61,
   "metadata": {
    "scrolled": true,
    "slideshow": {
     "slide_type": "subslide"
    }
   },
   "outputs": [
    {
     "data": {
      "text/html": [
       "<div>\n",
       "<style scoped>\n",
       "    .dataframe tbody tr th:only-of-type {\n",
       "        vertical-align: middle;\n",
       "    }\n",
       "\n",
       "    .dataframe tbody tr th {\n",
       "        vertical-align: top;\n",
       "    }\n",
       "\n",
       "    .dataframe thead th {\n",
       "        text-align: right;\n",
       "    }\n",
       "</style>\n",
       "<table border=\"1\" class=\"dataframe\">\n",
       "  <thead>\n",
       "    <tr style=\"text-align: right;\">\n",
       "      <th>Edad</th>\n",
       "      <th>1</th>\n",
       "      <th>2</th>\n",
       "      <th>3</th>\n",
       "      <th>4</th>\n",
       "      <th>5</th>\n",
       "      <th>6</th>\n",
       "      <th>7</th>\n",
       "      <th>8</th>\n",
       "      <th>9</th>\n",
       "      <th>10</th>\n",
       "      <th>...</th>\n",
       "      <th>107</th>\n",
       "      <th>108</th>\n",
       "      <th>109</th>\n",
       "      <th>110</th>\n",
       "      <th>111</th>\n",
       "      <th>112</th>\n",
       "      <th>113</th>\n",
       "      <th>115</th>\n",
       "      <th>123</th>\n",
       "      <th>124</th>\n",
       "    </tr>\n",
       "  </thead>\n",
       "  <tbody>\n",
       "    <tr>\n",
       "      <th>Número de casos</th>\n",
       "      <td>38</td>\n",
       "      <td>29</td>\n",
       "      <td>25</td>\n",
       "      <td>25</td>\n",
       "      <td>35</td>\n",
       "      <td>34</td>\n",
       "      <td>33</td>\n",
       "      <td>33</td>\n",
       "      <td>38</td>\n",
       "      <td>35</td>\n",
       "      <td>...</td>\n",
       "      <td>0</td>\n",
       "      <td>0</td>\n",
       "      <td>0</td>\n",
       "      <td>1</td>\n",
       "      <td>0</td>\n",
       "      <td>0</td>\n",
       "      <td>0</td>\n",
       "      <td>0</td>\n",
       "      <td>0</td>\n",
       "      <td>0</td>\n",
       "    </tr>\n",
       "  </tbody>\n",
       "</table>\n",
       "<p>1 rows × 116 columns</p>\n",
       "</div>"
      ],
      "text/plain": [
       "Edad             1    2    3    4    5    6    7    8    9    10   ...  107  \\\n",
       "Número de casos   38   29   25   25   35   34   33   33   38   35  ...    0   \n",
       "\n",
       "Edad             108  109  110  111  112  113  115  123  124  \n",
       "Número de casos    0    0    1    0    0    0    0    0    0  \n",
       "\n",
       "[1 rows x 116 columns]"
      ]
     },
     "execution_count": 61,
     "metadata": {},
     "output_type": "execute_result"
    }
   ],
   "source": [
    "CasosporEdadMunicipio=CasosporEdadMunicipio.transpose()\n",
    "CasosporEdadMunicipio"
   ]
  },
  {
   "cell_type": "code",
   "execution_count": 62,
   "metadata": {
    "slideshow": {
     "slide_type": "skip"
    }
   },
   "outputs": [],
   "source": [
    "fallecidosporEdad= porDpto.groupby('Edad').count().drop(columns=['Tipo de contagio','Tipo de recuperación','Fecha de notificación','Nombre municipio', 'Nombre departamento', 'Sexo','Estado','Fecha de diagnóstico','Fecha de recuperación'])\n",
    "fallecidosporEdad.rename(columns={'Fecha de muerte':'Número de fallecidos'}, inplace=True)"
   ]
  },
  {
   "cell_type": "markdown",
   "metadata": {
    "slideshow": {
     "slide_type": "slide"
    }
   },
   "source": [
    "## Departamento:  Fallecidos por edad"
   ]
  },
  {
   "cell_type": "code",
   "execution_count": 63,
   "metadata": {
    "scrolled": false,
    "slideshow": {
     "slide_type": "subslide"
    }
   },
   "outputs": [
    {
     "data": {
      "text/html": [
       "<div>\n",
       "<style scoped>\n",
       "    .dataframe tbody tr th:only-of-type {\n",
       "        vertical-align: middle;\n",
       "    }\n",
       "\n",
       "    .dataframe tbody tr th {\n",
       "        vertical-align: top;\n",
       "    }\n",
       "\n",
       "    .dataframe thead th {\n",
       "        text-align: right;\n",
       "    }\n",
       "</style>\n",
       "<table border=\"1\" class=\"dataframe\">\n",
       "  <thead>\n",
       "    <tr style=\"text-align: right;\">\n",
       "      <th>Edad</th>\n",
       "      <th>1</th>\n",
       "      <th>2</th>\n",
       "      <th>3</th>\n",
       "      <th>4</th>\n",
       "      <th>5</th>\n",
       "      <th>6</th>\n",
       "      <th>7</th>\n",
       "      <th>8</th>\n",
       "      <th>9</th>\n",
       "      <th>10</th>\n",
       "      <th>...</th>\n",
       "      <th>107</th>\n",
       "      <th>108</th>\n",
       "      <th>109</th>\n",
       "      <th>110</th>\n",
       "      <th>111</th>\n",
       "      <th>112</th>\n",
       "      <th>113</th>\n",
       "      <th>115</th>\n",
       "      <th>123</th>\n",
       "      <th>124</th>\n",
       "    </tr>\n",
       "  </thead>\n",
       "  <tbody>\n",
       "    <tr>\n",
       "      <th>Número de fallecidos</th>\n",
       "      <td>0</td>\n",
       "      <td>0</td>\n",
       "      <td>0</td>\n",
       "      <td>0</td>\n",
       "      <td>0</td>\n",
       "      <td>2</td>\n",
       "      <td>0</td>\n",
       "      <td>0</td>\n",
       "      <td>0</td>\n",
       "      <td>0</td>\n",
       "      <td>...</td>\n",
       "      <td>0</td>\n",
       "      <td>0</td>\n",
       "      <td>0</td>\n",
       "      <td>0</td>\n",
       "      <td>0</td>\n",
       "      <td>0</td>\n",
       "      <td>0</td>\n",
       "      <td>0</td>\n",
       "      <td>0</td>\n",
       "      <td>0</td>\n",
       "    </tr>\n",
       "  </tbody>\n",
       "</table>\n",
       "<p>1 rows × 116 columns</p>\n",
       "</div>"
      ],
      "text/plain": [
       "Edad                  1    2    3    4    5    6    7    8    9    10   ...  \\\n",
       "Número de fallecidos    0    0    0    0    0    2    0    0    0    0  ...   \n",
       "\n",
       "Edad                  107  108  109  110  111  112  113  115  123  124  \n",
       "Número de fallecidos    0    0    0    0    0    0    0    0    0    0  \n",
       "\n",
       "[1 rows x 116 columns]"
      ]
     },
     "execution_count": 63,
     "metadata": {},
     "output_type": "execute_result"
    }
   ],
   "source": [
    "fallecidosporEdad=fallecidosporEdad.transpose()\n",
    "fallecidosporEdad"
   ]
  },
  {
   "cell_type": "code",
   "execution_count": 64,
   "metadata": {
    "slideshow": {
     "slide_type": "skip"
    }
   },
   "outputs": [],
   "source": [
    "fallecidosporEdadMunicipio= porMunicipio.groupby('Edad').count().drop(columns=['Tipo de contagio','Tipo de recuperación','Fecha de notificación','Nombre municipio', 'Nombre departamento', 'Sexo','Estado','Fecha de diagnóstico','Fecha de recuperación'])\n",
    "fallecidosporEdadMunicipio.rename(columns={'Fecha de muerte':'Número de fallecidos'}, inplace=True)"
   ]
  },
  {
   "cell_type": "markdown",
   "metadata": {
    "slideshow": {
     "slide_type": "slide"
    }
   },
   "source": [
    "## Municipio:  Fallecidos por edad"
   ]
  },
  {
   "cell_type": "code",
   "execution_count": 65,
   "metadata": {
    "scrolled": true,
    "slideshow": {
     "slide_type": "subslide"
    }
   },
   "outputs": [
    {
     "data": {
      "text/html": [
       "<div>\n",
       "<style scoped>\n",
       "    .dataframe tbody tr th:only-of-type {\n",
       "        vertical-align: middle;\n",
       "    }\n",
       "\n",
       "    .dataframe tbody tr th {\n",
       "        vertical-align: top;\n",
       "    }\n",
       "\n",
       "    .dataframe thead th {\n",
       "        text-align: right;\n",
       "    }\n",
       "</style>\n",
       "<table border=\"1\" class=\"dataframe\">\n",
       "  <thead>\n",
       "    <tr style=\"text-align: right;\">\n",
       "      <th>Edad</th>\n",
       "      <th>1</th>\n",
       "      <th>2</th>\n",
       "      <th>3</th>\n",
       "      <th>4</th>\n",
       "      <th>5</th>\n",
       "      <th>6</th>\n",
       "      <th>7</th>\n",
       "      <th>8</th>\n",
       "      <th>9</th>\n",
       "      <th>10</th>\n",
       "      <th>...</th>\n",
       "      <th>107</th>\n",
       "      <th>108</th>\n",
       "      <th>109</th>\n",
       "      <th>110</th>\n",
       "      <th>111</th>\n",
       "      <th>112</th>\n",
       "      <th>113</th>\n",
       "      <th>115</th>\n",
       "      <th>123</th>\n",
       "      <th>124</th>\n",
       "    </tr>\n",
       "  </thead>\n",
       "  <tbody>\n",
       "    <tr>\n",
       "      <th>Número de fallecidos</th>\n",
       "      <td>0</td>\n",
       "      <td>0</td>\n",
       "      <td>0</td>\n",
       "      <td>0</td>\n",
       "      <td>0</td>\n",
       "      <td>1</td>\n",
       "      <td>0</td>\n",
       "      <td>0</td>\n",
       "      <td>0</td>\n",
       "      <td>0</td>\n",
       "      <td>...</td>\n",
       "      <td>0</td>\n",
       "      <td>0</td>\n",
       "      <td>0</td>\n",
       "      <td>0</td>\n",
       "      <td>0</td>\n",
       "      <td>0</td>\n",
       "      <td>0</td>\n",
       "      <td>0</td>\n",
       "      <td>0</td>\n",
       "      <td>0</td>\n",
       "    </tr>\n",
       "  </tbody>\n",
       "</table>\n",
       "<p>1 rows × 116 columns</p>\n",
       "</div>"
      ],
      "text/plain": [
       "Edad                  1    2    3    4    5    6    7    8    9    10   ...  \\\n",
       "Número de fallecidos    0    0    0    0    0    1    0    0    0    0  ...   \n",
       "\n",
       "Edad                  107  108  109  110  111  112  113  115  123  124  \n",
       "Número de fallecidos    0    0    0    0    0    0    0    0    0    0  \n",
       "\n",
       "[1 rows x 116 columns]"
      ]
     },
     "execution_count": 65,
     "metadata": {},
     "output_type": "execute_result"
    }
   ],
   "source": [
    "fallecidosporEdadMunicipio=fallecidosporEdadMunicipio.transpose()\n",
    "fallecidosporEdadMunicipio"
   ]
  },
  {
   "cell_type": "code",
   "execution_count": 66,
   "metadata": {
    "slideshow": {
     "slide_type": "skip"
    }
   },
   "outputs": [],
   "source": [
    "CasosporEdad.columns = CasosporEdad.columns.tolist()"
   ]
  },
  {
   "cell_type": "code",
   "execution_count": 67,
   "metadata": {
    "slideshow": {
     "slide_type": "skip"
    }
   },
   "outputs": [],
   "source": [
    "CasosporEdadMunicipio.columns = CasosporEdadMunicipio.columns.tolist()"
   ]
  },
  {
   "cell_type": "code",
   "execution_count": 68,
   "metadata": {
    "slideshow": {
     "slide_type": "skip"
    }
   },
   "outputs": [],
   "source": [
    "fallecidosporEdad.columns = fallecidosporEdad.columns.tolist()"
   ]
  },
  {
   "cell_type": "code",
   "execution_count": 69,
   "metadata": {
    "slideshow": {
     "slide_type": "skip"
    }
   },
   "outputs": [],
   "source": [
    "fallecidosporEdadMunicipio.columns = fallecidosporEdadMunicipio.columns.tolist()"
   ]
  },
  {
   "cell_type": "code",
   "execution_count": 70,
   "metadata": {
    "slideshow": {
     "slide_type": "skip"
    }
   },
   "outputs": [],
   "source": [
    "edad_0_a_4 = CasosporEdad.loc['Número de casos',0:4].sum()\n",
    "edad_5_a_14 = CasosporEdad.loc['Número de casos',5:14].sum()\n",
    "edad_15_a_44 = CasosporEdad.loc['Número de casos',15:44].sum()\n",
    "edad_45_a_64 = CasosporEdad.loc['Número de casos',45:64].sum()\n",
    "edad_65_a_84 = CasosporEdad.loc['Número de casos',65:84].sum()\n",
    "edad_85_a_99 = CasosporEdad.loc['Número de casos',85:99].sum()\n",
    "edad_100_o_mas = CasosporEdad.loc['Número de casos',100:].sum()\n",
    "\n"
   ]
  },
  {
   "cell_type": "code",
   "execution_count": 71,
   "metadata": {
    "slideshow": {
     "slide_type": "skip"
    }
   },
   "outputs": [],
   "source": [
    "CasosporEdad['edad 0 a 4']=edad_0_a_4\n",
    "CasosporEdad['edad 5 a 14']=edad_5_a_14\n",
    "CasosporEdad['edad 15 a 44']=edad_15_a_44\n",
    "CasosporEdad['edad 45 a 64']=edad_45_a_64\n",
    "CasosporEdad['edad 65 a 84']=edad_65_a_84\n",
    "CasosporEdad['edad 85 a 99']=edad_85_a_99\n",
    "CasosporEdad['edad 100 o más']=edad_100_o_mas\n",
    "CasosporEdad['Total']=edad_0_a_4+edad_5_a_14+edad_15_a_44+edad_45_a_64+edad_65_a_84+edad_85_a_99+edad_100_o_mas"
   ]
  },
  {
   "cell_type": "code",
   "execution_count": 72,
   "metadata": {
    "slideshow": {
     "slide_type": "skip"
    }
   },
   "outputs": [],
   "source": [
    "for i in range(0,124):\n",
    "    try:\n",
    "        CasosporEdad.drop(columns=i, inplace=True)\n",
    "    except:\n",
    "        pass\n",
    "        "
   ]
  },
  {
   "cell_type": "markdown",
   "metadata": {
    "slideshow": {
     "slide_type": "slide"
    }
   },
   "source": [
    "# Departamento:  Casos por grupo etario"
   ]
  },
  {
   "cell_type": "code",
   "execution_count": 73,
   "metadata": {
    "scrolled": true,
    "slideshow": {
     "slide_type": "subslide"
    }
   },
   "outputs": [
    {
     "data": {
      "text/html": [
       "<div>\n",
       "<style scoped>\n",
       "    .dataframe tbody tr th:only-of-type {\n",
       "        vertical-align: middle;\n",
       "    }\n",
       "\n",
       "    .dataframe tbody tr th {\n",
       "        vertical-align: top;\n",
       "    }\n",
       "\n",
       "    .dataframe thead th {\n",
       "        text-align: right;\n",
       "    }\n",
       "</style>\n",
       "<table border=\"1\" class=\"dataframe\">\n",
       "  <thead>\n",
       "    <tr style=\"text-align: right;\">\n",
       "      <th></th>\n",
       "      <th>124</th>\n",
       "      <th>edad 0 a 4</th>\n",
       "      <th>edad 5 a 14</th>\n",
       "      <th>edad 15 a 44</th>\n",
       "      <th>edad 45 a 64</th>\n",
       "      <th>edad 65 a 84</th>\n",
       "      <th>edad 85 a 99</th>\n",
       "      <th>edad 100 o más</th>\n",
       "      <th>Total</th>\n",
       "    </tr>\n",
       "  </thead>\n",
       "  <tbody>\n",
       "    <tr>\n",
       "      <th>Número de casos</th>\n",
       "      <td>0</td>\n",
       "      <td>168</td>\n",
       "      <td>565</td>\n",
       "      <td>9615</td>\n",
       "      <td>4467</td>\n",
       "      <td>1966</td>\n",
       "      <td>324</td>\n",
       "      <td>8</td>\n",
       "      <td>17113</td>\n",
       "    </tr>\n",
       "  </tbody>\n",
       "</table>\n",
       "</div>"
      ],
      "text/plain": [
       "                 124  edad 0 a 4  edad 5 a 14  edad 15 a 44  edad 45 a 64  \\\n",
       "Número de casos    0         168          565          9615          4467   \n",
       "\n",
       "                 edad 65 a 84  edad 85 a 99  edad 100 o más  Total  \n",
       "Número de casos          1966           324               8  17113  "
      ]
     },
     "execution_count": 73,
     "metadata": {},
     "output_type": "execute_result"
    }
   ],
   "source": [
    "CasosporEdad"
   ]
  },
  {
   "cell_type": "code",
   "execution_count": 74,
   "metadata": {
    "slideshow": {
     "slide_type": "skip"
    }
   },
   "outputs": [],
   "source": [
    "edad_0_a_4 = fallecidosporEdad.loc['Número de fallecidos',0:4].sum()\n",
    "edad_5_a_14 = fallecidosporEdad.loc['Número de fallecidos',5:14].sum()\n",
    "edad_15_a_44 = fallecidosporEdad.loc['Número de fallecidos',15:44].sum()\n",
    "edad_45_a_64 = fallecidosporEdad.loc['Número de fallecidos',45:64].sum()\n",
    "edad_65_a_84 = fallecidosporEdad.loc['Número de fallecidos',65:84].sum()\n",
    "edad_85_a_99 = fallecidosporEdad.loc['Número de fallecidos',85:99].sum()\n",
    "edad_100_o_mas = fallecidosporEdad.loc['Número de fallecidos',100:].sum()"
   ]
  },
  {
   "cell_type": "code",
   "execution_count": 75,
   "metadata": {
    "slideshow": {
     "slide_type": "skip"
    }
   },
   "outputs": [],
   "source": [
    "fallecidosporEdad['edad 0 a 4']=edad_0_a_4\n",
    "fallecidosporEdad['edad 5 a 14']=edad_5_a_14\n",
    "fallecidosporEdad['edad 15 a 44']=edad_15_a_44\n",
    "fallecidosporEdad['edad 45 a 64']=edad_45_a_64\n",
    "fallecidosporEdad['edad 65 a 84']=edad_65_a_84\n",
    "fallecidosporEdad['edad 85 a 99']=edad_85_a_99\n",
    "fallecidosporEdad['edad 100 o más']=edad_100_o_mas\n",
    "fallecidosporEdad['Total']=edad_0_a_4+edad_5_a_14+edad_15_a_44+edad_45_a_64+edad_65_a_84+edad_85_a_99+edad_100_o_mas"
   ]
  },
  {
   "cell_type": "code",
   "execution_count": 76,
   "metadata": {
    "slideshow": {
     "slide_type": "skip"
    }
   },
   "outputs": [],
   "source": [
    "for i in range(0,124):\n",
    "    try:\n",
    "        fallecidosporEdad.drop(columns=i, inplace=True)\n",
    "    except:\n",
    "        pass\n",
    "        "
   ]
  },
  {
   "cell_type": "markdown",
   "metadata": {
    "slideshow": {
     "slide_type": "slide"
    }
   },
   "source": [
    "# Departamento:  Fallecidos por grupo etario"
   ]
  },
  {
   "cell_type": "code",
   "execution_count": 77,
   "metadata": {
    "scrolled": false,
    "slideshow": {
     "slide_type": "subslide"
    }
   },
   "outputs": [
    {
     "data": {
      "text/html": [
       "<div>\n",
       "<style scoped>\n",
       "    .dataframe tbody tr th:only-of-type {\n",
       "        vertical-align: middle;\n",
       "    }\n",
       "\n",
       "    .dataframe tbody tr th {\n",
       "        vertical-align: top;\n",
       "    }\n",
       "\n",
       "    .dataframe thead th {\n",
       "        text-align: right;\n",
       "    }\n",
       "</style>\n",
       "<table border=\"1\" class=\"dataframe\">\n",
       "  <thead>\n",
       "    <tr style=\"text-align: right;\">\n",
       "      <th></th>\n",
       "      <th>124</th>\n",
       "      <th>edad 0 a 4</th>\n",
       "      <th>edad 5 a 14</th>\n",
       "      <th>edad 15 a 44</th>\n",
       "      <th>edad 45 a 64</th>\n",
       "      <th>edad 65 a 84</th>\n",
       "      <th>edad 85 a 99</th>\n",
       "      <th>edad 100 o más</th>\n",
       "      <th>Total</th>\n",
       "    </tr>\n",
       "  </thead>\n",
       "  <tbody>\n",
       "    <tr>\n",
       "      <th>Número de fallecidos</th>\n",
       "      <td>0</td>\n",
       "      <td>0</td>\n",
       "      <td>2</td>\n",
       "      <td>17</td>\n",
       "      <td>77</td>\n",
       "      <td>224</td>\n",
       "      <td>70</td>\n",
       "      <td>1</td>\n",
       "      <td>391</td>\n",
       "    </tr>\n",
       "  </tbody>\n",
       "</table>\n",
       "</div>"
      ],
      "text/plain": [
       "                      124  edad 0 a 4  edad 5 a 14  edad 15 a 44  \\\n",
       "Número de fallecidos    0           0            2            17   \n",
       "\n",
       "                      edad 45 a 64  edad 65 a 84  edad 85 a 99  \\\n",
       "Número de fallecidos            77           224            70   \n",
       "\n",
       "                      edad 100 o más  Total  \n",
       "Número de fallecidos               1    391  "
      ]
     },
     "execution_count": 77,
     "metadata": {},
     "output_type": "execute_result"
    }
   ],
   "source": [
    "fallecidosporEdad"
   ]
  },
  {
   "cell_type": "code",
   "execution_count": 78,
   "metadata": {
    "scrolled": false,
    "slideshow": {
     "slide_type": "skip"
    }
   },
   "outputs": [],
   "source": [
    "CasosporEdad=CasosporEdad.transpose()"
   ]
  },
  {
   "cell_type": "code",
   "execution_count": 79,
   "metadata": {
    "scrolled": false,
    "slideshow": {
     "slide_type": "skip"
    }
   },
   "outputs": [],
   "source": [
    "fallecidosporEdad=fallecidosporEdad.transpose()"
   ]
  },
  {
   "cell_type": "code",
   "execution_count": 80,
   "metadata": {
    "slideshow": {
     "slide_type": "skip"
    }
   },
   "outputs": [],
   "source": [
    "CasosyFallecidos= pd.merge(CasosporEdad, fallecidosporEdad, left_index=True, right_index=True)"
   ]
  },
  {
   "cell_type": "code",
   "execution_count": 81,
   "metadata": {
    "slideshow": {
     "slide_type": "skip"
    }
   },
   "outputs": [],
   "source": [
    "CasosyFallecidos['Tasa de letalidad por 100'] =100*(CasosyFallecidos['Número de fallecidos']/CasosyFallecidos['Número de casos']).round(4)"
   ]
  },
  {
   "cell_type": "markdown",
   "metadata": {
    "slideshow": {
     "slide_type": "slide"
    }
   },
   "source": [
    "# Tasa Departamental de letalidad por grupo etario "
   ]
  },
  {
   "cell_type": "code",
   "execution_count": 82,
   "metadata": {
    "slideshow": {
     "slide_type": "skip"
    }
   },
   "outputs": [],
   "source": [
    "etartotal = pd.read_csv('/Users/Dr.LuisEvelioRestrepoGarcia/REPOS/poblacionEdad1985_2035_upper.csv', low_memory=False)\n",
    "etartotal.drop(columns=['Unnamed: 108',\n",
    "       'Unnamed: 109'], inplace=True)\n",
    "\n",
    "etartotal = etartotal.loc[(etartotal['AREA GEOGRAFICA']=='Total')&(etartotal['AÑO']=='2020'),:].drop(columns=['AREA GEOGRAFICA'])\n",
    "\n",
    "etartotal.reset_index(drop=True, inplace=True)"
   ]
  },
  {
   "cell_type": "code",
   "execution_count": 83,
   "metadata": {
    "slideshow": {
     "slide_type": "subslide"
    }
   },
   "outputs": [
    {
     "data": {
      "text/html": [
       "<div>\n",
       "<style scoped>\n",
       "    .dataframe tbody tr th:only-of-type {\n",
       "        vertical-align: middle;\n",
       "    }\n",
       "\n",
       "    .dataframe tbody tr th {\n",
       "        vertical-align: top;\n",
       "    }\n",
       "\n",
       "    .dataframe thead th {\n",
       "        text-align: right;\n",
       "    }\n",
       "</style>\n",
       "<table border=\"1\" class=\"dataframe\">\n",
       "  <thead>\n",
       "    <tr style=\"text-align: right;\">\n",
       "      <th></th>\n",
       "      <th>DEPARTAMENTO</th>\n",
       "      <th>MUNICIPIO</th>\n",
       "      <th>AÑO</th>\n",
       "      <th>Total_0</th>\n",
       "      <th>Total_1</th>\n",
       "      <th>Total_2</th>\n",
       "      <th>Total_3</th>\n",
       "      <th>Total_4</th>\n",
       "      <th>Total_5</th>\n",
       "      <th>Total_6</th>\n",
       "      <th>...</th>\n",
       "      <th>Total_94</th>\n",
       "      <th>Total_95</th>\n",
       "      <th>Total_96</th>\n",
       "      <th>Total_97</th>\n",
       "      <th>Total_98</th>\n",
       "      <th>Total_99</th>\n",
       "      <th>Total_100 y mAs</th>\n",
       "      <th>Total Hombres</th>\n",
       "      <th>Total Mujeres</th>\n",
       "      <th>Total</th>\n",
       "    </tr>\n",
       "  </thead>\n",
       "  <tbody>\n",
       "    <tr>\n",
       "      <th>318</th>\n",
       "      <td>CALDAS</td>\n",
       "      <td>MANIZALES</td>\n",
       "      <td>2020</td>\n",
       "      <td>4600</td>\n",
       "      <td>4740</td>\n",
       "      <td>4743</td>\n",
       "      <td>4751</td>\n",
       "      <td>4753</td>\n",
       "      <td>4762</td>\n",
       "      <td>4771</td>\n",
       "      <td>...</td>\n",
       "      <td>260</td>\n",
       "      <td>224</td>\n",
       "      <td>177</td>\n",
       "      <td>141</td>\n",
       "      <td>105</td>\n",
       "      <td>83</td>\n",
       "      <td>201</td>\n",
       "      <td>210254</td>\n",
       "      <td>235906</td>\n",
       "      <td>446160</td>\n",
       "    </tr>\n",
       "    <tr>\n",
       "      <th>319</th>\n",
       "      <td>CALDAS</td>\n",
       "      <td>AGUADAS</td>\n",
       "      <td>2020</td>\n",
       "      <td>332</td>\n",
       "      <td>335</td>\n",
       "      <td>339</td>\n",
       "      <td>337</td>\n",
       "      <td>336</td>\n",
       "      <td>334</td>\n",
       "      <td>333</td>\n",
       "      <td>...</td>\n",
       "      <td>14</td>\n",
       "      <td>8</td>\n",
       "      <td>8</td>\n",
       "      <td>7</td>\n",
       "      <td>7</td>\n",
       "      <td>9</td>\n",
       "      <td>13</td>\n",
       "      <td>11486</td>\n",
       "      <td>11562</td>\n",
       "      <td>23048</td>\n",
       "    </tr>\n",
       "    <tr>\n",
       "      <th>320</th>\n",
       "      <td>CALDAS</td>\n",
       "      <td>ANSERMA</td>\n",
       "      <td>2020</td>\n",
       "      <td>470</td>\n",
       "      <td>478</td>\n",
       "      <td>482</td>\n",
       "      <td>481</td>\n",
       "      <td>487</td>\n",
       "      <td>488</td>\n",
       "      <td>490</td>\n",
       "      <td>...</td>\n",
       "      <td>24</td>\n",
       "      <td>20</td>\n",
       "      <td>17</td>\n",
       "      <td>11</td>\n",
       "      <td>9</td>\n",
       "      <td>10</td>\n",
       "      <td>17</td>\n",
       "      <td>18339</td>\n",
       "      <td>18352</td>\n",
       "      <td>36691</td>\n",
       "    </tr>\n",
       "    <tr>\n",
       "      <th>321</th>\n",
       "      <td>CALDAS</td>\n",
       "      <td>ARANZAZU</td>\n",
       "      <td>2020</td>\n",
       "      <td>153</td>\n",
       "      <td>158</td>\n",
       "      <td>158</td>\n",
       "      <td>157</td>\n",
       "      <td>158</td>\n",
       "      <td>157</td>\n",
       "      <td>158</td>\n",
       "      <td>...</td>\n",
       "      <td>7</td>\n",
       "      <td>5</td>\n",
       "      <td>6</td>\n",
       "      <td>6</td>\n",
       "      <td>3</td>\n",
       "      <td>5</td>\n",
       "      <td>6</td>\n",
       "      <td>4971</td>\n",
       "      <td>5585</td>\n",
       "      <td>10556</td>\n",
       "    </tr>\n",
       "    <tr>\n",
       "      <th>322</th>\n",
       "      <td>CALDAS</td>\n",
       "      <td>BELALCAZAR</td>\n",
       "      <td>2020</td>\n",
       "      <td>195</td>\n",
       "      <td>199</td>\n",
       "      <td>200</td>\n",
       "      <td>195</td>\n",
       "      <td>193</td>\n",
       "      <td>190</td>\n",
       "      <td>185</td>\n",
       "      <td>...</td>\n",
       "      <td>9</td>\n",
       "      <td>5</td>\n",
       "      <td>6</td>\n",
       "      <td>6</td>\n",
       "      <td>3</td>\n",
       "      <td>5</td>\n",
       "      <td>6</td>\n",
       "      <td>5402</td>\n",
       "      <td>5248</td>\n",
       "      <td>10650</td>\n",
       "    </tr>\n",
       "    <tr>\n",
       "      <th>323</th>\n",
       "      <td>CALDAS</td>\n",
       "      <td>CHINCHINA</td>\n",
       "      <td>2020</td>\n",
       "      <td>610</td>\n",
       "      <td>623</td>\n",
       "      <td>627</td>\n",
       "      <td>630</td>\n",
       "      <td>635</td>\n",
       "      <td>644</td>\n",
       "      <td>649</td>\n",
       "      <td>...</td>\n",
       "      <td>27</td>\n",
       "      <td>20</td>\n",
       "      <td>19</td>\n",
       "      <td>11</td>\n",
       "      <td>11</td>\n",
       "      <td>7</td>\n",
       "      <td>16</td>\n",
       "      <td>25061</td>\n",
       "      <td>27206</td>\n",
       "      <td>52267</td>\n",
       "    </tr>\n",
       "    <tr>\n",
       "      <th>324</th>\n",
       "      <td>CALDAS</td>\n",
       "      <td>FILADELFIA</td>\n",
       "      <td>2020</td>\n",
       "      <td>149</td>\n",
       "      <td>148</td>\n",
       "      <td>151</td>\n",
       "      <td>152</td>\n",
       "      <td>151</td>\n",
       "      <td>159</td>\n",
       "      <td>157</td>\n",
       "      <td>...</td>\n",
       "      <td>6</td>\n",
       "      <td>6</td>\n",
       "      <td>4</td>\n",
       "      <td>3</td>\n",
       "      <td>4</td>\n",
       "      <td>5</td>\n",
       "      <td>6</td>\n",
       "      <td>5724</td>\n",
       "      <td>5676</td>\n",
       "      <td>11400</td>\n",
       "    </tr>\n",
       "    <tr>\n",
       "      <th>325</th>\n",
       "      <td>CALDAS</td>\n",
       "      <td>LA DORADA</td>\n",
       "      <td>2020</td>\n",
       "      <td>1087</td>\n",
       "      <td>1116</td>\n",
       "      <td>1118</td>\n",
       "      <td>1119</td>\n",
       "      <td>1123</td>\n",
       "      <td>1120</td>\n",
       "      <td>1120</td>\n",
       "      <td>...</td>\n",
       "      <td>24</td>\n",
       "      <td>21</td>\n",
       "      <td>18</td>\n",
       "      <td>13</td>\n",
       "      <td>8</td>\n",
       "      <td>11</td>\n",
       "      <td>23</td>\n",
       "      <td>35874</td>\n",
       "      <td>38132</td>\n",
       "      <td>74006</td>\n",
       "    </tr>\n",
       "    <tr>\n",
       "      <th>326</th>\n",
       "      <td>CALDAS</td>\n",
       "      <td>LA MERCED</td>\n",
       "      <td>2020</td>\n",
       "      <td>71</td>\n",
       "      <td>73</td>\n",
       "      <td>73</td>\n",
       "      <td>72</td>\n",
       "      <td>74</td>\n",
       "      <td>74</td>\n",
       "      <td>74</td>\n",
       "      <td>...</td>\n",
       "      <td>3</td>\n",
       "      <td>3</td>\n",
       "      <td>2</td>\n",
       "      <td>2</td>\n",
       "      <td>-</td>\n",
       "      <td>4</td>\n",
       "      <td>2</td>\n",
       "      <td>2989</td>\n",
       "      <td>2893</td>\n",
       "      <td>5882</td>\n",
       "    </tr>\n",
       "    <tr>\n",
       "      <th>327</th>\n",
       "      <td>CALDAS</td>\n",
       "      <td>MANZANARES</td>\n",
       "      <td>2020</td>\n",
       "      <td>265</td>\n",
       "      <td>270</td>\n",
       "      <td>270</td>\n",
       "      <td>272</td>\n",
       "      <td>269</td>\n",
       "      <td>268</td>\n",
       "      <td>266</td>\n",
       "      <td>...</td>\n",
       "      <td>10</td>\n",
       "      <td>11</td>\n",
       "      <td>8</td>\n",
       "      <td>8</td>\n",
       "      <td>4</td>\n",
       "      <td>8</td>\n",
       "      <td>38</td>\n",
       "      <td>8965</td>\n",
       "      <td>8829</td>\n",
       "      <td>17794</td>\n",
       "    </tr>\n",
       "    <tr>\n",
       "      <th>328</th>\n",
       "      <td>CALDAS</td>\n",
       "      <td>MARMATO</td>\n",
       "      <td>2020</td>\n",
       "      <td>183</td>\n",
       "      <td>185</td>\n",
       "      <td>186</td>\n",
       "      <td>183</td>\n",
       "      <td>178</td>\n",
       "      <td>173</td>\n",
       "      <td>170</td>\n",
       "      <td>...</td>\n",
       "      <td>3</td>\n",
       "      <td>5</td>\n",
       "      <td>2</td>\n",
       "      <td>3</td>\n",
       "      <td>1</td>\n",
       "      <td>4</td>\n",
       "      <td>2</td>\n",
       "      <td>4666</td>\n",
       "      <td>4501</td>\n",
       "      <td>9167</td>\n",
       "    </tr>\n",
       "    <tr>\n",
       "      <th>329</th>\n",
       "      <td>CALDAS</td>\n",
       "      <td>MARQUETALIA</td>\n",
       "      <td>2020</td>\n",
       "      <td>216</td>\n",
       "      <td>218</td>\n",
       "      <td>219</td>\n",
       "      <td>221</td>\n",
       "      <td>220</td>\n",
       "      <td>220</td>\n",
       "      <td>217</td>\n",
       "      <td>...</td>\n",
       "      <td>7</td>\n",
       "      <td>6</td>\n",
       "      <td>4</td>\n",
       "      <td>6</td>\n",
       "      <td>2</td>\n",
       "      <td>5</td>\n",
       "      <td>6</td>\n",
       "      <td>6792</td>\n",
       "      <td>6698</td>\n",
       "      <td>13490</td>\n",
       "    </tr>\n",
       "    <tr>\n",
       "      <th>330</th>\n",
       "      <td>CALDAS</td>\n",
       "      <td>MARULANDA</td>\n",
       "      <td>2020</td>\n",
       "      <td>46</td>\n",
       "      <td>47</td>\n",
       "      <td>47</td>\n",
       "      <td>46</td>\n",
       "      <td>44</td>\n",
       "      <td>43</td>\n",
       "      <td>41</td>\n",
       "      <td>...</td>\n",
       "      <td>1</td>\n",
       "      <td>-</td>\n",
       "      <td>1</td>\n",
       "      <td>-</td>\n",
       "      <td>2</td>\n",
       "      <td>2</td>\n",
       "      <td>-</td>\n",
       "      <td>1342</td>\n",
       "      <td>1202</td>\n",
       "      <td>2544</td>\n",
       "    </tr>\n",
       "    <tr>\n",
       "      <th>331</th>\n",
       "      <td>CALDAS</td>\n",
       "      <td>NEIRA</td>\n",
       "      <td>2020</td>\n",
       "      <td>299</td>\n",
       "      <td>303</td>\n",
       "      <td>305</td>\n",
       "      <td>305</td>\n",
       "      <td>305</td>\n",
       "      <td>303</td>\n",
       "      <td>304</td>\n",
       "      <td>...</td>\n",
       "      <td>10</td>\n",
       "      <td>5</td>\n",
       "      <td>6</td>\n",
       "      <td>6</td>\n",
       "      <td>4</td>\n",
       "      <td>7</td>\n",
       "      <td>11</td>\n",
       "      <td>10575</td>\n",
       "      <td>10539</td>\n",
       "      <td>21114</td>\n",
       "    </tr>\n",
       "    <tr>\n",
       "      <th>332</th>\n",
       "      <td>CALDAS</td>\n",
       "      <td>NORCASIA</td>\n",
       "      <td>2020</td>\n",
       "      <td>102</td>\n",
       "      <td>106</td>\n",
       "      <td>106</td>\n",
       "      <td>106</td>\n",
       "      <td>104</td>\n",
       "      <td>108</td>\n",
       "      <td>105</td>\n",
       "      <td>...</td>\n",
       "      <td>2</td>\n",
       "      <td>3</td>\n",
       "      <td>2</td>\n",
       "      <td>5</td>\n",
       "      <td>2</td>\n",
       "      <td>4</td>\n",
       "      <td>3</td>\n",
       "      <td>3049</td>\n",
       "      <td>3079</td>\n",
       "      <td>6128</td>\n",
       "    </tr>\n",
       "    <tr>\n",
       "      <th>333</th>\n",
       "      <td>CALDAS</td>\n",
       "      <td>PACORA</td>\n",
       "      <td>2020</td>\n",
       "      <td>183</td>\n",
       "      <td>186</td>\n",
       "      <td>188</td>\n",
       "      <td>186</td>\n",
       "      <td>187</td>\n",
       "      <td>188</td>\n",
       "      <td>189</td>\n",
       "      <td>...</td>\n",
       "      <td>11</td>\n",
       "      <td>8</td>\n",
       "      <td>9</td>\n",
       "      <td>3</td>\n",
       "      <td>5</td>\n",
       "      <td>7</td>\n",
       "      <td>6</td>\n",
       "      <td>7724</td>\n",
       "      <td>7600</td>\n",
       "      <td>15324</td>\n",
       "    </tr>\n",
       "    <tr>\n",
       "      <th>334</th>\n",
       "      <td>CALDAS</td>\n",
       "      <td>PALESTINA</td>\n",
       "      <td>2020</td>\n",
       "      <td>239</td>\n",
       "      <td>242</td>\n",
       "      <td>243</td>\n",
       "      <td>242</td>\n",
       "      <td>239</td>\n",
       "      <td>236</td>\n",
       "      <td>233</td>\n",
       "      <td>...</td>\n",
       "      <td>8</td>\n",
       "      <td>8</td>\n",
       "      <td>7</td>\n",
       "      <td>6</td>\n",
       "      <td>6</td>\n",
       "      <td>6</td>\n",
       "      <td>6</td>\n",
       "      <td>7923</td>\n",
       "      <td>7758</td>\n",
       "      <td>15681</td>\n",
       "    </tr>\n",
       "    <tr>\n",
       "      <th>335</th>\n",
       "      <td>CALDAS</td>\n",
       "      <td>PENSILVANIA</td>\n",
       "      <td>2020</td>\n",
       "      <td>299</td>\n",
       "      <td>303</td>\n",
       "      <td>304</td>\n",
       "      <td>305</td>\n",
       "      <td>304</td>\n",
       "      <td>304</td>\n",
       "      <td>305</td>\n",
       "      <td>...</td>\n",
       "      <td>15</td>\n",
       "      <td>12</td>\n",
       "      <td>11</td>\n",
       "      <td>7</td>\n",
       "      <td>7</td>\n",
       "      <td>8</td>\n",
       "      <td>11</td>\n",
       "      <td>9968</td>\n",
       "      <td>9787</td>\n",
       "      <td>19755</td>\n",
       "    </tr>\n",
       "    <tr>\n",
       "      <th>336</th>\n",
       "      <td>CALDAS</td>\n",
       "      <td>RIOSUCIO</td>\n",
       "      <td>2020</td>\n",
       "      <td>809</td>\n",
       "      <td>814</td>\n",
       "      <td>822</td>\n",
       "      <td>814</td>\n",
       "      <td>803</td>\n",
       "      <td>793</td>\n",
       "      <td>780</td>\n",
       "      <td>...</td>\n",
       "      <td>35</td>\n",
       "      <td>31</td>\n",
       "      <td>22</td>\n",
       "      <td>17</td>\n",
       "      <td>11</td>\n",
       "      <td>12</td>\n",
       "      <td>24</td>\n",
       "      <td>25679</td>\n",
       "      <td>26277</td>\n",
       "      <td>51956</td>\n",
       "    </tr>\n",
       "    <tr>\n",
       "      <th>337</th>\n",
       "      <td>CALDAS</td>\n",
       "      <td>RISARALDA</td>\n",
       "      <td>2020</td>\n",
       "      <td>146</td>\n",
       "      <td>148</td>\n",
       "      <td>149</td>\n",
       "      <td>149</td>\n",
       "      <td>147</td>\n",
       "      <td>147</td>\n",
       "      <td>146</td>\n",
       "      <td>...</td>\n",
       "      <td>6</td>\n",
       "      <td>6</td>\n",
       "      <td>5</td>\n",
       "      <td>5</td>\n",
       "      <td>3</td>\n",
       "      <td>5</td>\n",
       "      <td>7</td>\n",
       "      <td>5527</td>\n",
       "      <td>5041</td>\n",
       "      <td>10568</td>\n",
       "    </tr>\n",
       "    <tr>\n",
       "      <th>338</th>\n",
       "      <td>CALDAS</td>\n",
       "      <td>SALAMINA</td>\n",
       "      <td>2020</td>\n",
       "      <td>228</td>\n",
       "      <td>232</td>\n",
       "      <td>233</td>\n",
       "      <td>234</td>\n",
       "      <td>238</td>\n",
       "      <td>241</td>\n",
       "      <td>245</td>\n",
       "      <td>...</td>\n",
       "      <td>15</td>\n",
       "      <td>11</td>\n",
       "      <td>8</td>\n",
       "      <td>8</td>\n",
       "      <td>6</td>\n",
       "      <td>7</td>\n",
       "      <td>11</td>\n",
       "      <td>9740</td>\n",
       "      <td>9653</td>\n",
       "      <td>19393</td>\n",
       "    </tr>\n",
       "    <tr>\n",
       "      <th>339</th>\n",
       "      <td>CALDAS</td>\n",
       "      <td>SAMANA</td>\n",
       "      <td>2020</td>\n",
       "      <td>339</td>\n",
       "      <td>340</td>\n",
       "      <td>343</td>\n",
       "      <td>343</td>\n",
       "      <td>341</td>\n",
       "      <td>340</td>\n",
       "      <td>339</td>\n",
       "      <td>...</td>\n",
       "      <td>10</td>\n",
       "      <td>9</td>\n",
       "      <td>6</td>\n",
       "      <td>8</td>\n",
       "      <td>5</td>\n",
       "      <td>7</td>\n",
       "      <td>8</td>\n",
       "      <td>10166</td>\n",
       "      <td>9801</td>\n",
       "      <td>19967</td>\n",
       "    </tr>\n",
       "    <tr>\n",
       "      <th>340</th>\n",
       "      <td>CALDAS</td>\n",
       "      <td>SAN JOSE</td>\n",
       "      <td>2020</td>\n",
       "      <td>80</td>\n",
       "      <td>84</td>\n",
       "      <td>83</td>\n",
       "      <td>81</td>\n",
       "      <td>81</td>\n",
       "      <td>77</td>\n",
       "      <td>77</td>\n",
       "      <td>...</td>\n",
       "      <td>3</td>\n",
       "      <td>4</td>\n",
       "      <td>2</td>\n",
       "      <td>3</td>\n",
       "      <td>-</td>\n",
       "      <td>4</td>\n",
       "      <td>2</td>\n",
       "      <td>2526</td>\n",
       "      <td>2390</td>\n",
       "      <td>4916</td>\n",
       "    </tr>\n",
       "    <tr>\n",
       "      <th>341</th>\n",
       "      <td>CALDAS</td>\n",
       "      <td>SUPIA</td>\n",
       "      <td>2020</td>\n",
       "      <td>460</td>\n",
       "      <td>468</td>\n",
       "      <td>470</td>\n",
       "      <td>465</td>\n",
       "      <td>459</td>\n",
       "      <td>454</td>\n",
       "      <td>444</td>\n",
       "      <td>...</td>\n",
       "      <td>17</td>\n",
       "      <td>13</td>\n",
       "      <td>10</td>\n",
       "      <td>9</td>\n",
       "      <td>6</td>\n",
       "      <td>9</td>\n",
       "      <td>13</td>\n",
       "      <td>14366</td>\n",
       "      <td>14997</td>\n",
       "      <td>29363</td>\n",
       "    </tr>\n",
       "    <tr>\n",
       "      <th>342</th>\n",
       "      <td>CALDAS</td>\n",
       "      <td>VICTORIA</td>\n",
       "      <td>2020</td>\n",
       "      <td>160</td>\n",
       "      <td>160</td>\n",
       "      <td>162</td>\n",
       "      <td>163</td>\n",
       "      <td>163</td>\n",
       "      <td>164</td>\n",
       "      <td>163</td>\n",
       "      <td>...</td>\n",
       "      <td>4</td>\n",
       "      <td>5</td>\n",
       "      <td>4</td>\n",
       "      <td>4</td>\n",
       "      <td>4</td>\n",
       "      <td>5</td>\n",
       "      <td>6</td>\n",
       "      <td>5116</td>\n",
       "      <td>5235</td>\n",
       "      <td>10351</td>\n",
       "    </tr>\n",
       "    <tr>\n",
       "      <th>343</th>\n",
       "      <td>CALDAS</td>\n",
       "      <td>VILLAMARIA</td>\n",
       "      <td>2020</td>\n",
       "      <td>856</td>\n",
       "      <td>879</td>\n",
       "      <td>881</td>\n",
       "      <td>882</td>\n",
       "      <td>878</td>\n",
       "      <td>877</td>\n",
       "      <td>876</td>\n",
       "      <td>...</td>\n",
       "      <td>26</td>\n",
       "      <td>23</td>\n",
       "      <td>17</td>\n",
       "      <td>14</td>\n",
       "      <td>10</td>\n",
       "      <td>10</td>\n",
       "      <td>29</td>\n",
       "      <td>32463</td>\n",
       "      <td>34966</td>\n",
       "      <td>67429</td>\n",
       "    </tr>\n",
       "    <tr>\n",
       "      <th>344</th>\n",
       "      <td>CALDAS</td>\n",
       "      <td>VITERBO</td>\n",
       "      <td>2020</td>\n",
       "      <td>139</td>\n",
       "      <td>144</td>\n",
       "      <td>142</td>\n",
       "      <td>146</td>\n",
       "      <td>149</td>\n",
       "      <td>152</td>\n",
       "      <td>156</td>\n",
       "      <td>...</td>\n",
       "      <td>7</td>\n",
       "      <td>6</td>\n",
       "      <td>5</td>\n",
       "      <td>4</td>\n",
       "      <td>5</td>\n",
       "      <td>6</td>\n",
       "      <td>8</td>\n",
       "      <td>6096</td>\n",
       "      <td>6757</td>\n",
       "      <td>12853</td>\n",
       "    </tr>\n",
       "  </tbody>\n",
       "</table>\n",
       "<p>27 rows × 107 columns</p>\n",
       "</div>"
      ],
      "text/plain": [
       "    DEPARTAMENTO    MUNICIPIO   AÑO Total_0 Total_1 Total_2 Total_3 Total_4  \\\n",
       "318       CALDAS    MANIZALES  2020    4600    4740    4743    4751    4753   \n",
       "319       CALDAS      AGUADAS  2020     332     335     339     337     336   \n",
       "320       CALDAS      ANSERMA  2020     470     478     482     481     487   \n",
       "321       CALDAS     ARANZAZU  2020     153     158     158     157     158   \n",
       "322       CALDAS   BELALCAZAR  2020     195     199     200     195     193   \n",
       "323       CALDAS    CHINCHINA  2020     610     623     627     630     635   \n",
       "324       CALDAS   FILADELFIA  2020     149     148     151     152     151   \n",
       "325       CALDAS    LA DORADA  2020    1087    1116    1118    1119    1123   \n",
       "326       CALDAS    LA MERCED  2020      71      73      73      72      74   \n",
       "327       CALDAS   MANZANARES  2020     265     270     270     272     269   \n",
       "328       CALDAS      MARMATO  2020     183     185     186     183     178   \n",
       "329       CALDAS  MARQUETALIA  2020     216     218     219     221     220   \n",
       "330       CALDAS    MARULANDA  2020      46      47      47      46      44   \n",
       "331       CALDAS        NEIRA  2020     299     303     305     305     305   \n",
       "332       CALDAS     NORCASIA  2020     102     106     106     106     104   \n",
       "333       CALDAS       PACORA  2020     183     186     188     186     187   \n",
       "334       CALDAS    PALESTINA  2020     239     242     243     242     239   \n",
       "335       CALDAS  PENSILVANIA  2020     299     303     304     305     304   \n",
       "336       CALDAS     RIOSUCIO  2020     809     814     822     814     803   \n",
       "337       CALDAS    RISARALDA  2020     146     148     149     149     147   \n",
       "338       CALDAS     SALAMINA  2020     228     232     233     234     238   \n",
       "339       CALDAS       SAMANA  2020     339     340     343     343     341   \n",
       "340       CALDAS     SAN JOSE  2020      80      84      83      81      81   \n",
       "341       CALDAS        SUPIA  2020     460     468     470     465     459   \n",
       "342       CALDAS     VICTORIA  2020     160     160     162     163     163   \n",
       "343       CALDAS   VILLAMARIA  2020     856     879     881     882     878   \n",
       "344       CALDAS      VITERBO  2020     139     144     142     146     149   \n",
       "\n",
       "    Total_5 Total_6  ... Total_94 Total_95 Total_96 Total_97 Total_98  \\\n",
       "318    4762    4771  ...      260      224      177      141      105   \n",
       "319     334     333  ...       14        8        8        7        7   \n",
       "320     488     490  ...       24       20       17       11        9   \n",
       "321     157     158  ...        7        5        6        6        3   \n",
       "322     190     185  ...        9        5        6        6        3   \n",
       "323     644     649  ...       27       20       19       11       11   \n",
       "324     159     157  ...        6        6        4        3        4   \n",
       "325    1120    1120  ...       24       21       18       13        8   \n",
       "326      74      74  ...        3        3        2        2       -    \n",
       "327     268     266  ...       10       11        8        8        4   \n",
       "328     173     170  ...        3        5        2        3        1   \n",
       "329     220     217  ...        7        6        4        6        2   \n",
       "330      43      41  ...        1       -         1       -         2   \n",
       "331     303     304  ...       10        5        6        6        4   \n",
       "332     108     105  ...        2        3        2        5        2   \n",
       "333     188     189  ...       11        8        9        3        5   \n",
       "334     236     233  ...        8        8        7        6        6   \n",
       "335     304     305  ...       15       12       11        7        7   \n",
       "336     793     780  ...       35       31       22       17       11   \n",
       "337     147     146  ...        6        6        5        5        3   \n",
       "338     241     245  ...       15       11        8        8        6   \n",
       "339     340     339  ...       10        9        6        8        5   \n",
       "340      77      77  ...        3        4        2        3       -    \n",
       "341     454     444  ...       17       13       10        9        6   \n",
       "342     164     163  ...        4        5        4        4        4   \n",
       "343     877     876  ...       26       23       17       14       10   \n",
       "344     152     156  ...        7        6        5        4        5   \n",
       "\n",
       "    Total_99 Total_100 y mAs Total Hombres Total Mujeres   Total  \n",
       "318       83             201        210254        235906  446160  \n",
       "319        9              13         11486         11562   23048  \n",
       "320       10              17         18339         18352   36691  \n",
       "321        5               6          4971          5585   10556  \n",
       "322        5               6          5402          5248   10650  \n",
       "323        7              16         25061         27206   52267  \n",
       "324        5               6          5724          5676   11400  \n",
       "325       11              23         35874         38132   74006  \n",
       "326        4               2          2989          2893    5882  \n",
       "327        8              38          8965          8829   17794  \n",
       "328        4               2          4666          4501    9167  \n",
       "329        5               6          6792          6698   13490  \n",
       "330        2              -           1342          1202    2544  \n",
       "331        7              11         10575         10539   21114  \n",
       "332        4               3          3049          3079    6128  \n",
       "333        7               6          7724          7600   15324  \n",
       "334        6               6          7923          7758   15681  \n",
       "335        8              11          9968          9787   19755  \n",
       "336       12              24         25679         26277   51956  \n",
       "337        5               7          5527          5041   10568  \n",
       "338        7              11          9740          9653   19393  \n",
       "339        7               8         10166          9801   19967  \n",
       "340        4               2          2526          2390    4916  \n",
       "341        9              13         14366         14997   29363  \n",
       "342        5               6          5116          5235   10351  \n",
       "343       10              29         32463         34966   67429  \n",
       "344        6               8          6096          6757   12853  \n",
       "\n",
       "[27 rows x 107 columns]"
      ]
     },
     "execution_count": 83,
     "metadata": {},
     "output_type": "execute_result"
    }
   ],
   "source": [
    "etartotal.loc[etartotal['DEPARTAMENTO']==localidad,:]\n"
   ]
  },
  {
   "cell_type": "markdown",
   "metadata": {
    "slideshow": {
     "slide_type": "slide"
    }
   },
   "source": [
    "# Tasa mortalidad grupo etario municipio"
   ]
  },
  {
   "cell_type": "code",
   "execution_count": 84,
   "metadata": {
    "slideshow": {
     "slide_type": "skip"
    }
   },
   "outputs": [],
   "source": [
    "edad_0_a_4 = CasosporEdadMunicipio.loc['Número de casos',0:4].sum()\n",
    "edad_5_a_14 = CasosporEdadMunicipio.loc['Número de casos',5:14].sum()\n",
    "edad_15_a_44 = CasosporEdadMunicipio.loc['Número de casos',15:44].sum()\n",
    "edad_45_a_64 = CasosporEdadMunicipio.loc['Número de casos',45:64].sum()\n",
    "edad_65_a_84 = CasosporEdadMunicipio.loc['Número de casos',65:84].sum()\n",
    "edad_85_a_99 = CasosporEdadMunicipio.loc['Número de casos',85:99].sum()\n",
    "edad_100_o_mas = CasosporEdadMunicipio.loc['Número de casos',100:].sum()\n",
    "\n"
   ]
  },
  {
   "cell_type": "code",
   "execution_count": 85,
   "metadata": {
    "slideshow": {
     "slide_type": "skip"
    }
   },
   "outputs": [],
   "source": [
    "CasosporEdadMunicipio['edad 0 a 4']=edad_0_a_4\n",
    "CasosporEdadMunicipio['edad 5 a 14']=edad_5_a_14\n",
    "CasosporEdadMunicipio['edad 15 a 44']=edad_15_a_44\n",
    "CasosporEdadMunicipio['edad 45 a 64']=edad_45_a_64\n",
    "CasosporEdadMunicipio['edad 65 a 84']=edad_65_a_84\n",
    "CasosporEdadMunicipio['edad 85 a 99']=edad_85_a_99\n",
    "CasosporEdadMunicipio['edad 100 o más']=edad_100_o_mas\n",
    "CasosporEdadMunicipio['Total']=edad_0_a_4+edad_5_a_14+edad_15_a_44+edad_45_a_64+edad_65_a_84+edad_85_a_99+edad_100_o_mas"
   ]
  },
  {
   "cell_type": "code",
   "execution_count": 86,
   "metadata": {
    "slideshow": {
     "slide_type": "skip"
    }
   },
   "outputs": [],
   "source": [
    "for i in range(0,124):\n",
    "    try:\n",
    "        CasosporEdadMunicipio.drop(columns=i, inplace=True)\n",
    "    except:\n",
    "        pass\n",
    "        "
   ]
  },
  {
   "cell_type": "markdown",
   "metadata": {
    "slideshow": {
     "slide_type": "slide"
    }
   },
   "source": [
    "# Municipio:  Casos por grupo etario"
   ]
  },
  {
   "cell_type": "code",
   "execution_count": 87,
   "metadata": {
    "scrolled": true,
    "slideshow": {
     "slide_type": "subslide"
    }
   },
   "outputs": [
    {
     "data": {
      "text/html": [
       "<div>\n",
       "<style scoped>\n",
       "    .dataframe tbody tr th:only-of-type {\n",
       "        vertical-align: middle;\n",
       "    }\n",
       "\n",
       "    .dataframe tbody tr th {\n",
       "        vertical-align: top;\n",
       "    }\n",
       "\n",
       "    .dataframe thead th {\n",
       "        text-align: right;\n",
       "    }\n",
       "</style>\n",
       "<table border=\"1\" class=\"dataframe\">\n",
       "  <thead>\n",
       "    <tr style=\"text-align: right;\">\n",
       "      <th></th>\n",
       "      <th>124</th>\n",
       "      <th>edad 0 a 4</th>\n",
       "      <th>edad 5 a 14</th>\n",
       "      <th>edad 15 a 44</th>\n",
       "      <th>edad 45 a 64</th>\n",
       "      <th>edad 65 a 84</th>\n",
       "      <th>edad 85 a 99</th>\n",
       "      <th>edad 100 o más</th>\n",
       "      <th>Total</th>\n",
       "    </tr>\n",
       "  </thead>\n",
       "  <tbody>\n",
       "    <tr>\n",
       "      <th>Número de casos</th>\n",
       "      <td>0</td>\n",
       "      <td>117</td>\n",
       "      <td>388</td>\n",
       "      <td>6609</td>\n",
       "      <td>3154</td>\n",
       "      <td>1328</td>\n",
       "      <td>202</td>\n",
       "      <td>5</td>\n",
       "      <td>11803</td>\n",
       "    </tr>\n",
       "  </tbody>\n",
       "</table>\n",
       "</div>"
      ],
      "text/plain": [
       "                 124  edad 0 a 4  edad 5 a 14  edad 15 a 44  edad 45 a 64  \\\n",
       "Número de casos    0         117          388          6609          3154   \n",
       "\n",
       "                 edad 65 a 84  edad 85 a 99  edad 100 o más  Total  \n",
       "Número de casos          1328           202               5  11803  "
      ]
     },
     "execution_count": 87,
     "metadata": {},
     "output_type": "execute_result"
    }
   ],
   "source": [
    "CasosporEdadMunicipio"
   ]
  },
  {
   "cell_type": "code",
   "execution_count": 88,
   "metadata": {
    "slideshow": {
     "slide_type": "skip"
    }
   },
   "outputs": [],
   "source": [
    "edad_0_a_4 = fallecidosporEdadMunicipio.loc['Número de fallecidos',0:4].sum()\n",
    "edad_5_a_14 = fallecidosporEdadMunicipio.loc['Número de fallecidos',5:14].sum()\n",
    "edad_15_a_44 = fallecidosporEdadMunicipio.loc['Número de fallecidos',15:44].sum()\n",
    "edad_45_a_64 = fallecidosporEdadMunicipio.loc['Número de fallecidos',45:64].sum()\n",
    "edad_65_a_84 = fallecidosporEdadMunicipio.loc['Número de fallecidos',65:84].sum()\n",
    "edad_85_a_99 = fallecidosporEdadMunicipio.loc['Número de fallecidos',85:99].sum()\n",
    "edad_100_o_mas = fallecidosporEdadMunicipio.loc['Número de fallecidos',100:].sum()"
   ]
  },
  {
   "cell_type": "code",
   "execution_count": 89,
   "metadata": {
    "slideshow": {
     "slide_type": "skip"
    }
   },
   "outputs": [],
   "source": [
    "fallecidosporEdadMunicipio['edad 0 a 4']=edad_0_a_4\n",
    "fallecidosporEdadMunicipio['edad 5 a 14']=edad_5_a_14\n",
    "fallecidosporEdadMunicipio['edad 15 a 44']=edad_15_a_44\n",
    "fallecidosporEdadMunicipio['edad 45 a 64']=edad_45_a_64\n",
    "fallecidosporEdadMunicipio['edad 65 a 84']=edad_65_a_84\n",
    "fallecidosporEdadMunicipio['edad 85 a 99']=edad_85_a_99\n",
    "fallecidosporEdadMunicipio['edad 100 o más']=edad_100_o_mas\n",
    "fallecidosporEdadMunicipio['Total']=edad_0_a_4+edad_5_a_14+edad_15_a_44+edad_45_a_64+edad_65_a_84+edad_85_a_99+edad_100_o_mas"
   ]
  },
  {
   "cell_type": "code",
   "execution_count": 90,
   "metadata": {
    "slideshow": {
     "slide_type": "skip"
    }
   },
   "outputs": [],
   "source": [
    "for i in range(0,124):\n",
    "    try:\n",
    "        fallecidosporEdadMunicipio.drop(columns=i, inplace=True)\n",
    "    except:\n",
    "        pass\n",
    "        "
   ]
  },
  {
   "cell_type": "markdown",
   "metadata": {
    "slideshow": {
     "slide_type": "slide"
    }
   },
   "source": [
    "# Municipio:  Fallecidos por grupo etario"
   ]
  },
  {
   "cell_type": "code",
   "execution_count": 91,
   "metadata": {
    "scrolled": true,
    "slideshow": {
     "slide_type": "subslide"
    }
   },
   "outputs": [
    {
     "data": {
      "text/html": [
       "<div>\n",
       "<style scoped>\n",
       "    .dataframe tbody tr th:only-of-type {\n",
       "        vertical-align: middle;\n",
       "    }\n",
       "\n",
       "    .dataframe tbody tr th {\n",
       "        vertical-align: top;\n",
       "    }\n",
       "\n",
       "    .dataframe thead th {\n",
       "        text-align: right;\n",
       "    }\n",
       "</style>\n",
       "<table border=\"1\" class=\"dataframe\">\n",
       "  <thead>\n",
       "    <tr style=\"text-align: right;\">\n",
       "      <th></th>\n",
       "      <th>124</th>\n",
       "      <th>edad 0 a 4</th>\n",
       "      <th>edad 5 a 14</th>\n",
       "      <th>edad 15 a 44</th>\n",
       "      <th>edad 45 a 64</th>\n",
       "      <th>edad 65 a 84</th>\n",
       "      <th>edad 85 a 99</th>\n",
       "      <th>edad 100 o más</th>\n",
       "      <th>Total</th>\n",
       "    </tr>\n",
       "  </thead>\n",
       "  <tbody>\n",
       "    <tr>\n",
       "      <th>Número de fallecidos</th>\n",
       "      <td>0</td>\n",
       "      <td>0</td>\n",
       "      <td>1</td>\n",
       "      <td>4</td>\n",
       "      <td>38</td>\n",
       "      <td>109</td>\n",
       "      <td>40</td>\n",
       "      <td>0</td>\n",
       "      <td>192</td>\n",
       "    </tr>\n",
       "  </tbody>\n",
       "</table>\n",
       "</div>"
      ],
      "text/plain": [
       "                      124  edad 0 a 4  edad 5 a 14  edad 15 a 44  \\\n",
       "Número de fallecidos    0           0            1             4   \n",
       "\n",
       "                      edad 45 a 64  edad 65 a 84  edad 85 a 99  \\\n",
       "Número de fallecidos            38           109            40   \n",
       "\n",
       "                      edad 100 o más  Total  \n",
       "Número de fallecidos               0    192  "
      ]
     },
     "execution_count": 91,
     "metadata": {},
     "output_type": "execute_result"
    }
   ],
   "source": [
    "fallecidosporEdadMunicipio"
   ]
  },
  {
   "cell_type": "code",
   "execution_count": 92,
   "metadata": {
    "scrolled": false,
    "slideshow": {
     "slide_type": "skip"
    }
   },
   "outputs": [],
   "source": [
    "CasosporEdadMunicipio=CasosporEdadMunicipio.transpose()"
   ]
  },
  {
   "cell_type": "code",
   "execution_count": 93,
   "metadata": {
    "scrolled": true,
    "slideshow": {
     "slide_type": "skip"
    }
   },
   "outputs": [],
   "source": [
    "fallecidosporEdadMunicipio=fallecidosporEdadMunicipio.transpose()\n"
   ]
  },
  {
   "cell_type": "code",
   "execution_count": 94,
   "metadata": {
    "slideshow": {
     "slide_type": "skip"
    }
   },
   "outputs": [],
   "source": [
    "CasosyFallecidosMunicipio= pd.merge(CasosporEdadMunicipio, fallecidosporEdadMunicipio, left_index=True, right_index=True)"
   ]
  },
  {
   "cell_type": "code",
   "execution_count": 95,
   "metadata": {
    "slideshow": {
     "slide_type": "skip"
    }
   },
   "outputs": [],
   "source": [
    "CasosyFallecidosMunicipio['Tasa de letalidad por 100'] =100*(CasosyFallecidosMunicipio['Número de fallecidos']/CasosyFallecidosMunicipio['Número de casos']).round(4)"
   ]
  },
  {
   "cell_type": "code",
   "execution_count": 96,
   "metadata": {
    "slideshow": {
     "slide_type": "skip"
    }
   },
   "outputs": [
    {
     "data": {
      "text/html": [
       "<div>\n",
       "<style scoped>\n",
       "    .dataframe tbody tr th:only-of-type {\n",
       "        vertical-align: middle;\n",
       "    }\n",
       "\n",
       "    .dataframe tbody tr th {\n",
       "        vertical-align: top;\n",
       "    }\n",
       "\n",
       "    .dataframe thead th {\n",
       "        text-align: right;\n",
       "    }\n",
       "</style>\n",
       "<table border=\"1\" class=\"dataframe\">\n",
       "  <thead>\n",
       "    <tr style=\"text-align: right;\">\n",
       "      <th></th>\n",
       "      <th>Unnamed: 0</th>\n",
       "      <th>Número fallecidos</th>\n",
       "      <th>Población</th>\n",
       "      <th>Tasa de mortalidad por 100.000 habitantes</th>\n",
       "    </tr>\n",
       "  </thead>\n",
       "  <tbody>\n",
       "    <tr>\n",
       "      <th>0</th>\n",
       "      <td>edad 0 a 4</td>\n",
       "      <td>0.0</td>\n",
       "      <td>28349.0</td>\n",
       "      <td>0.000000</td>\n",
       "    </tr>\n",
       "    <tr>\n",
       "      <th>1</th>\n",
       "      <td>edad 5 a 14</td>\n",
       "      <td>1.0</td>\n",
       "      <td>45465.0</td>\n",
       "      <td>2.199494</td>\n",
       "    </tr>\n",
       "    <tr>\n",
       "      <th>2</th>\n",
       "      <td>edad 15 a 44</td>\n",
       "      <td>4.0</td>\n",
       "      <td>198767.0</td>\n",
       "      <td>2.012406</td>\n",
       "    </tr>\n",
       "    <tr>\n",
       "      <th>3</th>\n",
       "      <td>edad 45 a 64</td>\n",
       "      <td>47.0</td>\n",
       "      <td>113931.0</td>\n",
       "      <td>41.253039</td>\n",
       "    </tr>\n",
       "    <tr>\n",
       "      <th>4</th>\n",
       "      <td>edad 65 a 84</td>\n",
       "      <td>118.0</td>\n",
       "      <td>53426.0</td>\n",
       "      <td>220.866245</td>\n",
       "    </tr>\n",
       "    <tr>\n",
       "      <th>5</th>\n",
       "      <td>edad 85 a 99</td>\n",
       "      <td>41.0</td>\n",
       "      <td>6021.0</td>\n",
       "      <td>680.950008</td>\n",
       "    </tr>\n",
       "    <tr>\n",
       "      <th>6</th>\n",
       "      <td>edad 100 o más</td>\n",
       "      <td>0.0</td>\n",
       "      <td>201.0</td>\n",
       "      <td>0.000000</td>\n",
       "    </tr>\n",
       "    <tr>\n",
       "      <th>7</th>\n",
       "      <td>Total</td>\n",
       "      <td>211.0</td>\n",
       "      <td>446160.0</td>\n",
       "      <td>47.292451</td>\n",
       "    </tr>\n",
       "  </tbody>\n",
       "</table>\n",
       "</div>"
      ],
      "text/plain": [
       "       Unnamed: 0  Número fallecidos  Población  \\\n",
       "0      edad 0 a 4                0.0    28349.0   \n",
       "1     edad 5 a 14                1.0    45465.0   \n",
       "2    edad 15 a 44                4.0   198767.0   \n",
       "3    edad 45 a 64               47.0   113931.0   \n",
       "4    edad 65 a 84              118.0    53426.0   \n",
       "5    edad 85 a 99               41.0     6021.0   \n",
       "6  edad 100 o más                0.0      201.0   \n",
       "7           Total              211.0   446160.0   \n",
       "\n",
       "   Tasa de mortalidad por 100.000 habitantes  \n",
       "0                                   0.000000  \n",
       "1                                   2.199494  \n",
       "2                                   2.012406  \n",
       "3                                  41.253039  \n",
       "4                                 220.866245  \n",
       "5                                 680.950008  \n",
       "6                                   0.000000  \n",
       "7                                  47.292451  "
      ]
     },
     "execution_count": 96,
     "metadata": {},
     "output_type": "execute_result"
    }
   ],
   "source": [
    "tasaMortalidadMunic = pd.read_csv('TasaMortalidadMunic.csv')\n",
    "tasaMortalidadMunic"
   ]
  },
  {
   "cell_type": "code",
   "execution_count": 97,
   "metadata": {
    "slideshow": {
     "slide_type": "skip"
    }
   },
   "outputs": [],
   "source": [
    "tasaMortalidadMunic=tasaMortalidadMunic.round(2)"
   ]
  },
  {
   "cell_type": "code",
   "execution_count": 98,
   "metadata": {
    "slideshow": {
     "slide_type": "skip"
    }
   },
   "outputs": [],
   "source": [
    "tasaMortalidadMunic = tasaMortalidadMunic.set_index('Unnamed: 0')"
   ]
  },
  {
   "cell_type": "code",
   "execution_count": 99,
   "metadata": {
    "slideshow": {
     "slide_type": "skip"
    }
   },
   "outputs": [],
   "source": [
    "tasaMortalidadMunic=tasaMortalidadMunic.transpose()"
   ]
  },
  {
   "cell_type": "code",
   "execution_count": 100,
   "metadata": {
    "slideshow": {
     "slide_type": "skip"
    }
   },
   "outputs": [],
   "source": [
    "tasaMortalidadMunic=tasaMortalidadMunic.transpose()"
   ]
  },
  {
   "cell_type": "code",
   "execution_count": 101,
   "metadata": {
    "slideshow": {
     "slide_type": "skip"
    }
   },
   "outputs": [],
   "source": [
    "TasasMunicipio= CasosyFallecidosMunicipio.merge(tasaMortalidadMunic, left_index=True, right_index=True).drop(columns='Número fallecidos')"
   ]
  },
  {
   "cell_type": "code",
   "execution_count": 102,
   "metadata": {
    "slideshow": {
     "slide_type": "skip"
    }
   },
   "outputs": [
    {
     "data": {
      "text/html": [
       "<div>\n",
       "<style scoped>\n",
       "    .dataframe tbody tr th:only-of-type {\n",
       "        vertical-align: middle;\n",
       "    }\n",
       "\n",
       "    .dataframe tbody tr th {\n",
       "        vertical-align: top;\n",
       "    }\n",
       "\n",
       "    .dataframe thead th {\n",
       "        text-align: right;\n",
       "    }\n",
       "</style>\n",
       "<table border=\"1\" class=\"dataframe\">\n",
       "  <thead>\n",
       "    <tr style=\"text-align: right;\">\n",
       "      <th></th>\n",
       "      <th>Número fallecidos</th>\n",
       "      <th>Población</th>\n",
       "      <th>Tasa de mortalidad por 100.000 habitantes</th>\n",
       "    </tr>\n",
       "    <tr>\n",
       "      <th>Unnamed: 0</th>\n",
       "      <th></th>\n",
       "      <th></th>\n",
       "      <th></th>\n",
       "    </tr>\n",
       "  </thead>\n",
       "  <tbody>\n",
       "    <tr>\n",
       "      <th>edad 0 a 4</th>\n",
       "      <td>0.0</td>\n",
       "      <td>28349.0</td>\n",
       "      <td>0.00</td>\n",
       "    </tr>\n",
       "    <tr>\n",
       "      <th>edad 5 a 14</th>\n",
       "      <td>1.0</td>\n",
       "      <td>45465.0</td>\n",
       "      <td>2.20</td>\n",
       "    </tr>\n",
       "    <tr>\n",
       "      <th>edad 15 a 44</th>\n",
       "      <td>4.0</td>\n",
       "      <td>198767.0</td>\n",
       "      <td>2.01</td>\n",
       "    </tr>\n",
       "    <tr>\n",
       "      <th>edad 45 a 64</th>\n",
       "      <td>47.0</td>\n",
       "      <td>113931.0</td>\n",
       "      <td>41.25</td>\n",
       "    </tr>\n",
       "    <tr>\n",
       "      <th>edad 65 a 84</th>\n",
       "      <td>118.0</td>\n",
       "      <td>53426.0</td>\n",
       "      <td>220.87</td>\n",
       "    </tr>\n",
       "    <tr>\n",
       "      <th>edad 85 a 99</th>\n",
       "      <td>41.0</td>\n",
       "      <td>6021.0</td>\n",
       "      <td>680.95</td>\n",
       "    </tr>\n",
       "    <tr>\n",
       "      <th>edad 100 o más</th>\n",
       "      <td>0.0</td>\n",
       "      <td>201.0</td>\n",
       "      <td>0.00</td>\n",
       "    </tr>\n",
       "    <tr>\n",
       "      <th>Total</th>\n",
       "      <td>211.0</td>\n",
       "      <td>446160.0</td>\n",
       "      <td>47.29</td>\n",
       "    </tr>\n",
       "  </tbody>\n",
       "</table>\n",
       "</div>"
      ],
      "text/plain": [
       "                Número fallecidos  Población  \\\n",
       "Unnamed: 0                                     \n",
       "edad 0 a 4                    0.0    28349.0   \n",
       "edad 5 a 14                   1.0    45465.0   \n",
       "edad 15 a 44                  4.0   198767.0   \n",
       "edad 45 a 64                 47.0   113931.0   \n",
       "edad 65 a 84                118.0    53426.0   \n",
       "edad 85 a 99                 41.0     6021.0   \n",
       "edad 100 o más                0.0      201.0   \n",
       "Total                       211.0   446160.0   \n",
       "\n",
       "                Tasa de mortalidad por 100.000 habitantes  \n",
       "Unnamed: 0                                                 \n",
       "edad 0 a 4                                           0.00  \n",
       "edad 5 a 14                                          2.20  \n",
       "edad 15 a 44                                         2.01  \n",
       "edad 45 a 64                                        41.25  \n",
       "edad 65 a 84                                       220.87  \n",
       "edad 85 a 99                                       680.95  \n",
       "edad 100 o más                                       0.00  \n",
       "Total                                               47.29  "
      ]
     },
     "execution_count": 102,
     "metadata": {},
     "output_type": "execute_result"
    }
   ],
   "source": [
    "tasaMortalidadMunic"
   ]
  },
  {
   "cell_type": "markdown",
   "metadata": {
    "slideshow": {
     "slide_type": "slide"
    }
   },
   "source": [
    "# Municipio:  Tasas por grupo etario\n",
    "#### Luis Evelio García Restrepo.  MD. MAS. EF\n",
    "##### Fuentes primarias:   DANE-INS"
   ]
  },
  {
   "cell_type": "code",
   "execution_count": 103,
   "metadata": {
    "scrolled": true,
    "slideshow": {
     "slide_type": "skip"
    }
   },
   "outputs": [],
   "source": [
    "TasasMunicipio= TasasMunicipio.rename(columns={'Población':'Total habitantes de zonas afectadas'})"
   ]
  },
  {
   "cell_type": "code",
   "execution_count": 104,
   "metadata": {
    "slideshow": {
     "slide_type": "skip"
    }
   },
   "outputs": [],
   "source": [
    "TasasMunicipio = TasasMunicipio.reindex(['Número de casos', 'Número de fallecidos',\n",
    "       'Total habitantes de zonas afectadas',\n",
    "       'Tasa de letalidad (por cien contagios detectados)',\n",
    "       'Tasa de mortalidad por 100.000 habitantes'],axis=1)\n",
    "\n",
    "TasasMunicipio['Tasa de letalidad (por cien contagios detectados)']= (TasasMunicipio['Número de fallecidos']/TasasMunicipio['Número de casos'])*100"
   ]
  },
  {
   "cell_type": "code",
   "execution_count": 105,
   "metadata": {
    "slideshow": {
     "slide_type": "skip"
    }
   },
   "outputs": [],
   "source": [
    "TasasMunicipio['Tasa de letalidad (por cien contagios detectados)']=TasasMunicipio['Tasa de letalidad (por cien contagios detectados)'].round(2)\n",
    "TasasMunicipio['Total habitantes de zonas afectadas']=TasasMunicipio['Total habitantes de zonas afectadas'].astype(int)\n",
    "TasasMunicipio['Tasa de letalidad (por cien contagios detectados)']=TasasMunicipio['Tasa de letalidad (por cien contagios detectados)'].round(2)"
   ]
  },
  {
   "cell_type": "code",
   "execution_count": 106,
   "metadata": {
    "slideshow": {
     "slide_type": "subslide"
    }
   },
   "outputs": [
    {
     "data": {
      "text/html": [
       "<div>\n",
       "<style scoped>\n",
       "    .dataframe tbody tr th:only-of-type {\n",
       "        vertical-align: middle;\n",
       "    }\n",
       "\n",
       "    .dataframe tbody tr th {\n",
       "        vertical-align: top;\n",
       "    }\n",
       "\n",
       "    .dataframe thead th {\n",
       "        text-align: right;\n",
       "    }\n",
       "</style>\n",
       "<table border=\"1\" class=\"dataframe\">\n",
       "  <thead>\n",
       "    <tr style=\"text-align: right;\">\n",
       "      <th></th>\n",
       "      <th>Número de casos</th>\n",
       "      <th>Número de fallecidos</th>\n",
       "      <th>Total habitantes de zonas afectadas</th>\n",
       "      <th>Tasa de letalidad (por cien contagios detectados)</th>\n",
       "      <th>Tasa de mortalidad por 100.000 habitantes</th>\n",
       "    </tr>\n",
       "  </thead>\n",
       "  <tbody>\n",
       "    <tr>\n",
       "      <th>edad 0 a 4</th>\n",
       "      <td>117</td>\n",
       "      <td>0</td>\n",
       "      <td>28349</td>\n",
       "      <td>0.00</td>\n",
       "      <td>0.00</td>\n",
       "    </tr>\n",
       "    <tr>\n",
       "      <th>edad 5 a 14</th>\n",
       "      <td>388</td>\n",
       "      <td>1</td>\n",
       "      <td>45465</td>\n",
       "      <td>0.26</td>\n",
       "      <td>2.20</td>\n",
       "    </tr>\n",
       "    <tr>\n",
       "      <th>edad 15 a 44</th>\n",
       "      <td>6609</td>\n",
       "      <td>4</td>\n",
       "      <td>198767</td>\n",
       "      <td>0.06</td>\n",
       "      <td>2.01</td>\n",
       "    </tr>\n",
       "    <tr>\n",
       "      <th>edad 45 a 64</th>\n",
       "      <td>3154</td>\n",
       "      <td>38</td>\n",
       "      <td>113931</td>\n",
       "      <td>1.20</td>\n",
       "      <td>41.25</td>\n",
       "    </tr>\n",
       "    <tr>\n",
       "      <th>edad 65 a 84</th>\n",
       "      <td>1328</td>\n",
       "      <td>109</td>\n",
       "      <td>53426</td>\n",
       "      <td>8.21</td>\n",
       "      <td>220.87</td>\n",
       "    </tr>\n",
       "    <tr>\n",
       "      <th>edad 85 a 99</th>\n",
       "      <td>202</td>\n",
       "      <td>40</td>\n",
       "      <td>6021</td>\n",
       "      <td>19.80</td>\n",
       "      <td>680.95</td>\n",
       "    </tr>\n",
       "    <tr>\n",
       "      <th>edad 100 o más</th>\n",
       "      <td>5</td>\n",
       "      <td>0</td>\n",
       "      <td>201</td>\n",
       "      <td>0.00</td>\n",
       "      <td>0.00</td>\n",
       "    </tr>\n",
       "    <tr>\n",
       "      <th>Total</th>\n",
       "      <td>11803</td>\n",
       "      <td>192</td>\n",
       "      <td>446160</td>\n",
       "      <td>1.63</td>\n",
       "      <td>47.29</td>\n",
       "    </tr>\n",
       "  </tbody>\n",
       "</table>\n",
       "</div>"
      ],
      "text/plain": [
       "                Número de casos  Número de fallecidos  \\\n",
       "edad 0 a 4                  117                     0   \n",
       "edad 5 a 14                 388                     1   \n",
       "edad 15 a 44               6609                     4   \n",
       "edad 45 a 64               3154                    38   \n",
       "edad 65 a 84               1328                   109   \n",
       "edad 85 a 99                202                    40   \n",
       "edad 100 o más                5                     0   \n",
       "Total                     11803                   192   \n",
       "\n",
       "                Total habitantes de zonas afectadas  \\\n",
       "edad 0 a 4                                    28349   \n",
       "edad 5 a 14                                   45465   \n",
       "edad 15 a 44                                 198767   \n",
       "edad 45 a 64                                 113931   \n",
       "edad 65 a 84                                  53426   \n",
       "edad 85 a 99                                   6021   \n",
       "edad 100 o más                                  201   \n",
       "Total                                        446160   \n",
       "\n",
       "                Tasa de letalidad (por cien contagios detectados)  \\\n",
       "edad 0 a 4                                                   0.00   \n",
       "edad 5 a 14                                                  0.26   \n",
       "edad 15 a 44                                                 0.06   \n",
       "edad 45 a 64                                                 1.20   \n",
       "edad 65 a 84                                                 8.21   \n",
       "edad 85 a 99                                                19.80   \n",
       "edad 100 o más                                               0.00   \n",
       "Total                                                        1.63   \n",
       "\n",
       "                Tasa de mortalidad por 100.000 habitantes  \n",
       "edad 0 a 4                                           0.00  \n",
       "edad 5 a 14                                          2.20  \n",
       "edad 15 a 44                                         2.01  \n",
       "edad 45 a 64                                        41.25  \n",
       "edad 65 a 84                                       220.87  \n",
       "edad 85 a 99                                       680.95  \n",
       "edad 100 o más                                       0.00  \n",
       "Total                                               47.29  "
      ]
     },
     "execution_count": 106,
     "metadata": {},
     "output_type": "execute_result"
    }
   ],
   "source": [
    "TasasMunicipio"
   ]
  },
  {
   "cell_type": "markdown",
   "metadata": {
    "slideshow": {
     "slide_type": "slide"
    }
   },
   "source": [
    "# Causas de defunción en el municipio por grupo etario"
   ]
  },
  {
   "cell_type": "code",
   "execution_count": 107,
   "metadata": {
    "slideshow": {
     "slide_type": "skip"
    }
   },
   "outputs": [],
   "source": [
    "defuncionesMunicipales=pd.read_csv('defuncionesMunicipales.csv')\n",
    "defuncionesMunicipales.drop(columns=['Unnamed: 0'], inplace=True)"
   ]
  },
  {
   "cell_type": "code",
   "execution_count": 108,
   "metadata": {
    "slideshow": {
     "slide_type": "skip"
    }
   },
   "outputs": [],
   "source": [
    "defuncionesMunicipales['edad 0 a 4']= ((defuncionesMunicipales.loc[:,'edad 0 a 4'])*dias/90).astype(int)\n",
    "defuncionesMunicipales['edad 5 a 14']= ((defuncionesMunicipales.loc[:,'edad 5 a 14'])*dias/90).astype(int)\n",
    "defuncionesMunicipales['edad 15 a 44']= ((defuncionesMunicipales.loc[:,'edad 15 a 44'])*dias/90).astype(int)\n",
    "defuncionesMunicipales['edad 45 a 64']= ((defuncionesMunicipales.loc[:,'edad 45 a 64'])*dias/90).astype(int)\n",
    "defuncionesMunicipales['edad 65 a 84']= ((defuncionesMunicipales.loc[:,'edad 65 a 84'])*dias/90).astype(int)\n",
    "defuncionesMunicipales['edad 85 a 99']= ((defuncionesMunicipales.loc[:,'edad 85 a 99'])*dias/90).astype(int)\n",
    "defuncionesMunicipales['edad 100 o más']= ((defuncionesMunicipales.loc[:,'edad 100 o más'])*dias/90).astype(int)\n",
    "defuncionesMunicipales['Total']= ((defuncionesMunicipales.loc[:,'Total'])*dias/90).astype(int)"
   ]
  },
  {
   "cell_type": "code",
   "execution_count": 109,
   "metadata": {
    "slideshow": {
     "slide_type": "subslide"
    }
   },
   "outputs": [
    {
     "data": {
      "text/html": [
       "<div>\n",
       "<style scoped>\n",
       "    .dataframe tbody tr th:only-of-type {\n",
       "        vertical-align: middle;\n",
       "    }\n",
       "\n",
       "    .dataframe tbody tr th {\n",
       "        vertical-align: top;\n",
       "    }\n",
       "\n",
       "    .dataframe thead th {\n",
       "        text-align: right;\n",
       "    }\n",
       "</style>\n",
       "<table border=\"1\" class=\"dataframe\">\n",
       "  <thead>\n",
       "    <tr style=\"text-align: right;\">\n",
       "      <th></th>\n",
       "      <th>Causas de defunción</th>\n",
       "      <th>edad 0 a 4</th>\n",
       "      <th>edad 5 a 14</th>\n",
       "      <th>edad 15 a 44</th>\n",
       "      <th>edad 45 a 64</th>\n",
       "      <th>edad 65 a 84</th>\n",
       "      <th>edad 85 a 99</th>\n",
       "      <th>edad 100 o más</th>\n",
       "      <th>Total</th>\n",
       "    </tr>\n",
       "  </thead>\n",
       "  <tbody>\n",
       "    <tr>\n",
       "      <th>0</th>\n",
       "      <td>201 Tumor maligno del estómago202 Tumor malign...</td>\n",
       "      <td>0</td>\n",
       "      <td>2</td>\n",
       "      <td>45</td>\n",
       "      <td>110</td>\n",
       "      <td>245</td>\n",
       "      <td>56</td>\n",
       "      <td>0</td>\n",
       "      <td>461</td>\n",
       "    </tr>\n",
       "    <tr>\n",
       "      <th>1</th>\n",
       "      <td>303 Enfermedades isquémicas del corazón</td>\n",
       "      <td>0</td>\n",
       "      <td>0</td>\n",
       "      <td>5</td>\n",
       "      <td>27</td>\n",
       "      <td>143</td>\n",
       "      <td>89</td>\n",
       "      <td>5</td>\n",
       "      <td>270</td>\n",
       "    </tr>\n",
       "    <tr>\n",
       "      <th>2</th>\n",
       "      <td>605 Enfermedades crónicas de las vías respirat...</td>\n",
       "      <td>0</td>\n",
       "      <td>0</td>\n",
       "      <td>2</td>\n",
       "      <td>8</td>\n",
       "      <td>86</td>\n",
       "      <td>97</td>\n",
       "      <td>0</td>\n",
       "      <td>194</td>\n",
       "    </tr>\n",
       "    <tr>\n",
       "      <th>3</th>\n",
       "      <td>307 Enfermedades cerebrovasculares</td>\n",
       "      <td>2</td>\n",
       "      <td>0</td>\n",
       "      <td>2</td>\n",
       "      <td>10</td>\n",
       "      <td>59</td>\n",
       "      <td>29</td>\n",
       "      <td>0</td>\n",
       "      <td>105</td>\n",
       "    </tr>\n",
       "    <tr>\n",
       "      <th>4</th>\n",
       "      <td>614 Resto de las enfermedades</td>\n",
       "      <td>0</td>\n",
       "      <td>0</td>\n",
       "      <td>0</td>\n",
       "      <td>16</td>\n",
       "      <td>24</td>\n",
       "      <td>24</td>\n",
       "      <td>2</td>\n",
       "      <td>67</td>\n",
       "    </tr>\n",
       "    <tr>\n",
       "      <th>5</th>\n",
       "      <td>604 Enfermedades del sistema nervioso, excepto...</td>\n",
       "      <td>0</td>\n",
       "      <td>0</td>\n",
       "      <td>2</td>\n",
       "      <td>16</td>\n",
       "      <td>24</td>\n",
       "      <td>21</td>\n",
       "      <td>0</td>\n",
       "      <td>64</td>\n",
       "    </tr>\n",
       "    <tr>\n",
       "      <th>6</th>\n",
       "      <td>304 Enfermedad cardiopulmonar, enfermedades de...</td>\n",
       "      <td>0</td>\n",
       "      <td>2</td>\n",
       "      <td>8</td>\n",
       "      <td>5</td>\n",
       "      <td>24</td>\n",
       "      <td>18</td>\n",
       "      <td>0</td>\n",
       "      <td>59</td>\n",
       "    </tr>\n",
       "    <tr>\n",
       "      <th>7</th>\n",
       "      <td>108 Infecciones respiratorias agudas</td>\n",
       "      <td>0</td>\n",
       "      <td>0</td>\n",
       "      <td>2</td>\n",
       "      <td>2</td>\n",
       "      <td>18</td>\n",
       "      <td>24</td>\n",
       "      <td>8</td>\n",
       "      <td>56</td>\n",
       "    </tr>\n",
       "    <tr>\n",
       "      <th>8</th>\n",
       "      <td>610 Enfermedades del sistema urinario</td>\n",
       "      <td>0</td>\n",
       "      <td>0</td>\n",
       "      <td>0</td>\n",
       "      <td>8</td>\n",
       "      <td>21</td>\n",
       "      <td>24</td>\n",
       "      <td>0</td>\n",
       "      <td>54</td>\n",
       "    </tr>\n",
       "    <tr>\n",
       "      <th>9</th>\n",
       "      <td>512 Agresiones (homicidios)</td>\n",
       "      <td>0</td>\n",
       "      <td>0</td>\n",
       "      <td>37</td>\n",
       "      <td>2</td>\n",
       "      <td>2</td>\n",
       "      <td>0</td>\n",
       "      <td>0</td>\n",
       "      <td>43</td>\n",
       "    </tr>\n",
       "    <tr>\n",
       "      <th>10</th>\n",
       "      <td>609 Resto de enfermedades del sistema digestivo</td>\n",
       "      <td>0</td>\n",
       "      <td>0</td>\n",
       "      <td>5</td>\n",
       "      <td>10</td>\n",
       "      <td>18</td>\n",
       "      <td>8</td>\n",
       "      <td>0</td>\n",
       "      <td>43</td>\n",
       "    </tr>\n",
       "    <tr>\n",
       "      <th>11</th>\n",
       "      <td>603 Trastornos mentales y del comportamiento</td>\n",
       "      <td>0</td>\n",
       "      <td>0</td>\n",
       "      <td>0</td>\n",
       "      <td>2</td>\n",
       "      <td>5</td>\n",
       "      <td>21</td>\n",
       "      <td>0</td>\n",
       "      <td>29</td>\n",
       "    </tr>\n",
       "    <tr>\n",
       "      <th>12</th>\n",
       "      <td>501 Accidentes de transporte terrestre</td>\n",
       "      <td>0</td>\n",
       "      <td>0</td>\n",
       "      <td>16</td>\n",
       "      <td>5</td>\n",
       "      <td>2</td>\n",
       "      <td>2</td>\n",
       "      <td>0</td>\n",
       "      <td>27</td>\n",
       "    </tr>\n",
       "    <tr>\n",
       "      <th>13</th>\n",
       "      <td>608 Cirrosis y ciertas otras enfermedades crón...</td>\n",
       "      <td>0</td>\n",
       "      <td>0</td>\n",
       "      <td>0</td>\n",
       "      <td>5</td>\n",
       "      <td>13</td>\n",
       "      <td>5</td>\n",
       "      <td>0</td>\n",
       "      <td>24</td>\n",
       "    </tr>\n",
       "    <tr>\n",
       "      <th>14</th>\n",
       "      <td>606 Resto de enfermedades del sistema respirat...</td>\n",
       "      <td>0</td>\n",
       "      <td>0</td>\n",
       "      <td>0</td>\n",
       "      <td>8</td>\n",
       "      <td>8</td>\n",
       "      <td>8</td>\n",
       "      <td>0</td>\n",
       "      <td>24</td>\n",
       "    </tr>\n",
       "    <tr>\n",
       "      <th>15</th>\n",
       "      <td>302 Enfermedades hipertensivas</td>\n",
       "      <td>0</td>\n",
       "      <td>0</td>\n",
       "      <td>0</td>\n",
       "      <td>0</td>\n",
       "      <td>8</td>\n",
       "      <td>10</td>\n",
       "      <td>2</td>\n",
       "      <td>21</td>\n",
       "    </tr>\n",
       "    <tr>\n",
       "      <th>16</th>\n",
       "      <td>212 Leucemia</td>\n",
       "      <td>0</td>\n",
       "      <td>2</td>\n",
       "      <td>8</td>\n",
       "      <td>2</td>\n",
       "      <td>5</td>\n",
       "      <td>0</td>\n",
       "      <td>0</td>\n",
       "      <td>18</td>\n",
       "    </tr>\n",
       "    <tr>\n",
       "      <th>17</th>\n",
       "      <td>601 Diabetes mellitus</td>\n",
       "      <td>0</td>\n",
       "      <td>0</td>\n",
       "      <td>0</td>\n",
       "      <td>0</td>\n",
       "      <td>10</td>\n",
       "      <td>8</td>\n",
       "      <td>0</td>\n",
       "      <td>18</td>\n",
       "    </tr>\n",
       "    <tr>\n",
       "      <th>18</th>\n",
       "      <td>306 Insuficiencia cardíaca</td>\n",
       "      <td>0</td>\n",
       "      <td>0</td>\n",
       "      <td>0</td>\n",
       "      <td>0</td>\n",
       "      <td>8</td>\n",
       "      <td>8</td>\n",
       "      <td>0</td>\n",
       "      <td>16</td>\n",
       "    </tr>\n",
       "    <tr>\n",
       "      <th>19</th>\n",
       "      <td>511 Lesiones autoinfligidas intencionalmente (...</td>\n",
       "      <td>0</td>\n",
       "      <td>2</td>\n",
       "      <td>13</td>\n",
       "      <td>0</td>\n",
       "      <td>0</td>\n",
       "      <td>0</td>\n",
       "      <td>0</td>\n",
       "      <td>16</td>\n",
       "    </tr>\n",
       "    <tr>\n",
       "      <th>20</th>\n",
       "      <td>309 Las demás enfermedades del sistema circula...</td>\n",
       "      <td>0</td>\n",
       "      <td>0</td>\n",
       "      <td>0</td>\n",
       "      <td>5</td>\n",
       "      <td>2</td>\n",
       "      <td>5</td>\n",
       "      <td>0</td>\n",
       "      <td>13</td>\n",
       "    </tr>\n",
       "    <tr>\n",
       "      <th>21</th>\n",
       "      <td>107 Enfermedad por el VIH (SIDA)</td>\n",
       "      <td>0</td>\n",
       "      <td>0</td>\n",
       "      <td>2</td>\n",
       "      <td>8</td>\n",
       "      <td>2</td>\n",
       "      <td>0</td>\n",
       "      <td>0</td>\n",
       "      <td>13</td>\n",
       "    </tr>\n",
       "    <tr>\n",
       "      <th>22</th>\n",
       "      <td>607 Apendicitis, hernia de la cavidad abdomina...</td>\n",
       "      <td>0</td>\n",
       "      <td>0</td>\n",
       "      <td>2</td>\n",
       "      <td>0</td>\n",
       "      <td>5</td>\n",
       "      <td>5</td>\n",
       "      <td>0</td>\n",
       "      <td>13</td>\n",
       "    </tr>\n",
       "    <tr>\n",
       "      <th>23</th>\n",
       "      <td>613 Malformaciones congénitas, deformidades y ...</td>\n",
       "      <td>8</td>\n",
       "      <td>0</td>\n",
       "      <td>0</td>\n",
       "      <td>0</td>\n",
       "      <td>5</td>\n",
       "      <td>0</td>\n",
       "      <td>0</td>\n",
       "      <td>13</td>\n",
       "    </tr>\n",
       "    <tr>\n",
       "      <th>24</th>\n",
       "      <td>503 Caídas</td>\n",
       "      <td>0</td>\n",
       "      <td>0</td>\n",
       "      <td>0</td>\n",
       "      <td>2</td>\n",
       "      <td>8</td>\n",
       "      <td>0</td>\n",
       "      <td>0</td>\n",
       "      <td>10</td>\n",
       "    </tr>\n",
       "    <tr>\n",
       "      <th>25</th>\n",
       "      <td>513 Eventos de intención no determinada</td>\n",
       "      <td>0</td>\n",
       "      <td>0</td>\n",
       "      <td>2</td>\n",
       "      <td>2</td>\n",
       "      <td>5</td>\n",
       "      <td>0</td>\n",
       "      <td>0</td>\n",
       "      <td>10</td>\n",
       "    </tr>\n",
       "    <tr>\n",
       "      <th>26</th>\n",
       "      <td>510 Otros accidentes, inclusive secuelas</td>\n",
       "      <td>0</td>\n",
       "      <td>0</td>\n",
       "      <td>2</td>\n",
       "      <td>2</td>\n",
       "      <td>2</td>\n",
       "      <td>2</td>\n",
       "      <td>0</td>\n",
       "      <td>10</td>\n",
       "    </tr>\n",
       "    <tr>\n",
       "      <th>27</th>\n",
       "      <td>101 Enfermedades infecciosas intestinales</td>\n",
       "      <td>0</td>\n",
       "      <td>0</td>\n",
       "      <td>0</td>\n",
       "      <td>2</td>\n",
       "      <td>5</td>\n",
       "      <td>2</td>\n",
       "      <td>0</td>\n",
       "      <td>10</td>\n",
       "    </tr>\n",
       "    <tr>\n",
       "      <th>28</th>\n",
       "      <td>404 Trastornos respiratorios específicos del p...</td>\n",
       "      <td>10</td>\n",
       "      <td>0</td>\n",
       "      <td>0</td>\n",
       "      <td>0</td>\n",
       "      <td>0</td>\n",
       "      <td>0</td>\n",
       "      <td>0</td>\n",
       "      <td>10</td>\n",
       "    </tr>\n",
       "    <tr>\n",
       "      <th>29</th>\n",
       "      <td>102 Tuberculosis</td>\n",
       "      <td>2</td>\n",
       "      <td>0</td>\n",
       "      <td>0</td>\n",
       "      <td>0</td>\n",
       "      <td>5</td>\n",
       "      <td>0</td>\n",
       "      <td>0</td>\n",
       "      <td>8</td>\n",
       "    </tr>\n",
       "    <tr>\n",
       "      <th>30</th>\n",
       "      <td>000 Signos, síntomas y afecciones mal definidas</td>\n",
       "      <td>2</td>\n",
       "      <td>0</td>\n",
       "      <td>0</td>\n",
       "      <td>0</td>\n",
       "      <td>2</td>\n",
       "      <td>0</td>\n",
       "      <td>0</td>\n",
       "      <td>5</td>\n",
       "    </tr>\n",
       "    <tr>\n",
       "      <th>31</th>\n",
       "      <td>602 Deficiencias nutricionales y anemias nutri...</td>\n",
       "      <td>0</td>\n",
       "      <td>0</td>\n",
       "      <td>0</td>\n",
       "      <td>2</td>\n",
       "      <td>0</td>\n",
       "      <td>0</td>\n",
       "      <td>0</td>\n",
       "      <td>2</td>\n",
       "    </tr>\n",
       "    <tr>\n",
       "      <th>32</th>\n",
       "      <td>406 Resto de ciertas afecciones originadas en ...</td>\n",
       "      <td>2</td>\n",
       "      <td>0</td>\n",
       "      <td>0</td>\n",
       "      <td>0</td>\n",
       "      <td>0</td>\n",
       "      <td>0</td>\n",
       "      <td>0</td>\n",
       "      <td>2</td>\n",
       "    </tr>\n",
       "    <tr>\n",
       "      <th>33</th>\n",
       "      <td>403 Retardo del crecimiento fetal, desnutrició...</td>\n",
       "      <td>2</td>\n",
       "      <td>0</td>\n",
       "      <td>0</td>\n",
       "      <td>0</td>\n",
       "      <td>0</td>\n",
       "      <td>0</td>\n",
       "      <td>0</td>\n",
       "      <td>2</td>\n",
       "    </tr>\n",
       "    <tr>\n",
       "      <th>34</th>\n",
       "      <td>106 Septicemia, excepto neonatal</td>\n",
       "      <td>0</td>\n",
       "      <td>0</td>\n",
       "      <td>0</td>\n",
       "      <td>0</td>\n",
       "      <td>2</td>\n",
       "      <td>0</td>\n",
       "      <td>0</td>\n",
       "      <td>2</td>\n",
       "    </tr>\n",
       "    <tr>\n",
       "      <th>35</th>\n",
       "      <td>105 Meningitis</td>\n",
       "      <td>0</td>\n",
       "      <td>0</td>\n",
       "      <td>0</td>\n",
       "      <td>0</td>\n",
       "      <td>2</td>\n",
       "      <td>0</td>\n",
       "      <td>0</td>\n",
       "      <td>2</td>\n",
       "    </tr>\n",
       "  </tbody>\n",
       "</table>\n",
       "</div>"
      ],
      "text/plain": [
       "                                  Causas de defunción  edad 0 a 4  \\\n",
       "0   201 Tumor maligno del estómago202 Tumor malign...           0   \n",
       "1             303 Enfermedades isquémicas del corazón           0   \n",
       "2   605 Enfermedades crónicas de las vías respirat...           0   \n",
       "3                  307 Enfermedades cerebrovasculares           2   \n",
       "4                       614 Resto de las enfermedades           0   \n",
       "5   604 Enfermedades del sistema nervioso, excepto...           0   \n",
       "6   304 Enfermedad cardiopulmonar, enfermedades de...           0   \n",
       "7                108 Infecciones respiratorias agudas           0   \n",
       "8               610 Enfermedades del sistema urinario           0   \n",
       "9                         512 Agresiones (homicidios)           0   \n",
       "10    609 Resto de enfermedades del sistema digestivo           0   \n",
       "11       603 Trastornos mentales y del comportamiento           0   \n",
       "12             501 Accidentes de transporte terrestre           0   \n",
       "13  608 Cirrosis y ciertas otras enfermedades crón...           0   \n",
       "14  606 Resto de enfermedades del sistema respirat...           0   \n",
       "15                     302 Enfermedades hipertensivas           0   \n",
       "16                                       212 Leucemia           0   \n",
       "17                              601 Diabetes mellitus           0   \n",
       "18                         306 Insuficiencia cardíaca           0   \n",
       "19  511 Lesiones autoinfligidas intencionalmente (...           0   \n",
       "20  309 Las demás enfermedades del sistema circula...           0   \n",
       "21                   107 Enfermedad por el VIH (SIDA)           0   \n",
       "22  607 Apendicitis, hernia de la cavidad abdomina...           0   \n",
       "23  613 Malformaciones congénitas, deformidades y ...           8   \n",
       "24                                         503 Caídas           0   \n",
       "25            513 Eventos de intención no determinada           0   \n",
       "26           510 Otros accidentes, inclusive secuelas           0   \n",
       "27          101 Enfermedades infecciosas intestinales           0   \n",
       "28  404 Trastornos respiratorios específicos del p...          10   \n",
       "29                                   102 Tuberculosis           2   \n",
       "30    000 Signos, síntomas y afecciones mal definidas           2   \n",
       "31  602 Deficiencias nutricionales y anemias nutri...           0   \n",
       "32  406 Resto de ciertas afecciones originadas en ...           2   \n",
       "33  403 Retardo del crecimiento fetal, desnutrició...           2   \n",
       "34                   106 Septicemia, excepto neonatal           0   \n",
       "35                                     105 Meningitis           0   \n",
       "\n",
       "    edad 5 a 14  edad 15 a 44  edad 45 a 64  edad 65 a 84  edad 85 a 99  \\\n",
       "0             2            45           110           245            56   \n",
       "1             0             5            27           143            89   \n",
       "2             0             2             8            86            97   \n",
       "3             0             2            10            59            29   \n",
       "4             0             0            16            24            24   \n",
       "5             0             2            16            24            21   \n",
       "6             2             8             5            24            18   \n",
       "7             0             2             2            18            24   \n",
       "8             0             0             8            21            24   \n",
       "9             0            37             2             2             0   \n",
       "10            0             5            10            18             8   \n",
       "11            0             0             2             5            21   \n",
       "12            0            16             5             2             2   \n",
       "13            0             0             5            13             5   \n",
       "14            0             0             8             8             8   \n",
       "15            0             0             0             8            10   \n",
       "16            2             8             2             5             0   \n",
       "17            0             0             0            10             8   \n",
       "18            0             0             0             8             8   \n",
       "19            2            13             0             0             0   \n",
       "20            0             0             5             2             5   \n",
       "21            0             2             8             2             0   \n",
       "22            0             2             0             5             5   \n",
       "23            0             0             0             5             0   \n",
       "24            0             0             2             8             0   \n",
       "25            0             2             2             5             0   \n",
       "26            0             2             2             2             2   \n",
       "27            0             0             2             5             2   \n",
       "28            0             0             0             0             0   \n",
       "29            0             0             0             5             0   \n",
       "30            0             0             0             2             0   \n",
       "31            0             0             2             0             0   \n",
       "32            0             0             0             0             0   \n",
       "33            0             0             0             0             0   \n",
       "34            0             0             0             2             0   \n",
       "35            0             0             0             2             0   \n",
       "\n",
       "    edad 100 o más  Total  \n",
       "0                0    461  \n",
       "1                5    270  \n",
       "2                0    194  \n",
       "3                0    105  \n",
       "4                2     67  \n",
       "5                0     64  \n",
       "6                0     59  \n",
       "7                8     56  \n",
       "8                0     54  \n",
       "9                0     43  \n",
       "10               0     43  \n",
       "11               0     29  \n",
       "12               0     27  \n",
       "13               0     24  \n",
       "14               0     24  \n",
       "15               2     21  \n",
       "16               0     18  \n",
       "17               0     18  \n",
       "18               0     16  \n",
       "19               0     16  \n",
       "20               0     13  \n",
       "21               0     13  \n",
       "22               0     13  \n",
       "23               0     13  \n",
       "24               0     10  \n",
       "25               0     10  \n",
       "26               0     10  \n",
       "27               0     10  \n",
       "28               0     10  \n",
       "29               0      8  \n",
       "30               0      5  \n",
       "31               0      2  \n",
       "32               0      2  \n",
       "33               0      2  \n",
       "34               0      2  \n",
       "35               0      2  "
      ]
     },
     "execution_count": 109,
     "metadata": {},
     "output_type": "execute_result"
    }
   ],
   "source": [
    "defuncionesMunicipales"
   ]
  },
  {
   "cell_type": "code",
   "execution_count": 110,
   "metadata": {
    "slideshow": {
     "slide_type": "skip"
    }
   },
   "outputs": [],
   "source": [
    "covidMunicipio=TasasMunicipio['Número de fallecidos']"
   ]
  },
  {
   "cell_type": "code",
   "execution_count": 111,
   "metadata": {
    "slideshow": {
     "slide_type": "skip"
    }
   },
   "outputs": [
    {
     "data": {
      "text/html": [
       "<div>\n",
       "<style scoped>\n",
       "    .dataframe tbody tr th:only-of-type {\n",
       "        vertical-align: middle;\n",
       "    }\n",
       "\n",
       "    .dataframe tbody tr th {\n",
       "        vertical-align: top;\n",
       "    }\n",
       "\n",
       "    .dataframe thead th {\n",
       "        text-align: right;\n",
       "    }\n",
       "</style>\n",
       "<table border=\"1\" class=\"dataframe\">\n",
       "  <thead>\n",
       "    <tr style=\"text-align: right;\">\n",
       "      <th></th>\n",
       "      <th>edad 0 a 4</th>\n",
       "      <th>edad 5 a 14</th>\n",
       "      <th>edad 15 a 44</th>\n",
       "      <th>edad 45 a 64</th>\n",
       "      <th>edad 65 a 84</th>\n",
       "      <th>edad 85 a 99</th>\n",
       "      <th>edad 100 o más</th>\n",
       "      <th>Total</th>\n",
       "    </tr>\n",
       "  </thead>\n",
       "  <tbody>\n",
       "    <tr>\n",
       "      <th>RT-PCR_positivo (covid19???)</th>\n",
       "      <td>0</td>\n",
       "      <td>1</td>\n",
       "      <td>4</td>\n",
       "      <td>38</td>\n",
       "      <td>109</td>\n",
       "      <td>40</td>\n",
       "      <td>0</td>\n",
       "      <td>192</td>\n",
       "    </tr>\n",
       "  </tbody>\n",
       "</table>\n",
       "</div>"
      ],
      "text/plain": [
       "                              edad 0 a 4  edad 5 a 14  edad 15 a 44  \\\n",
       "RT-PCR_positivo (covid19???)           0            1             4   \n",
       "\n",
       "                              edad 45 a 64  edad 65 a 84  edad 85 a 99  \\\n",
       "RT-PCR_positivo (covid19???)            38           109            40   \n",
       "\n",
       "                              edad 100 o más  Total  \n",
       "RT-PCR_positivo (covid19???)               0    192  "
      ]
     },
     "execution_count": 111,
     "metadata": {},
     "output_type": "execute_result"
    }
   ],
   "source": [
    "covidMunicipio= covidMunicipio.to_frame().rename(columns={'Número de fallecidos':'RT-PCR_positivo (covid19???)'}).transpose()\n",
    "covidMunicipio"
   ]
  },
  {
   "cell_type": "code",
   "execution_count": 112,
   "metadata": {
    "slideshow": {
     "slide_type": "skip"
    }
   },
   "outputs": [
    {
     "data": {
      "text/html": [
       "<div>\n",
       "<style scoped>\n",
       "    .dataframe tbody tr th:only-of-type {\n",
       "        vertical-align: middle;\n",
       "    }\n",
       "\n",
       "    .dataframe tbody tr th {\n",
       "        vertical-align: top;\n",
       "    }\n",
       "\n",
       "    .dataframe thead th {\n",
       "        text-align: right;\n",
       "    }\n",
       "</style>\n",
       "<table border=\"1\" class=\"dataframe\">\n",
       "  <thead>\n",
       "    <tr style=\"text-align: right;\">\n",
       "      <th></th>\n",
       "      <th>index</th>\n",
       "      <th>edad 0 a 4</th>\n",
       "      <th>edad 5 a 14</th>\n",
       "      <th>edad 15 a 44</th>\n",
       "      <th>edad 45 a 64</th>\n",
       "      <th>edad 65 a 84</th>\n",
       "      <th>edad 85 a 99</th>\n",
       "      <th>edad 100 o más</th>\n",
       "      <th>Total</th>\n",
       "    </tr>\n",
       "  </thead>\n",
       "  <tbody>\n",
       "    <tr>\n",
       "      <th>0</th>\n",
       "      <td>RT-PCR_positivo (covid19???)</td>\n",
       "      <td>0</td>\n",
       "      <td>1</td>\n",
       "      <td>4</td>\n",
       "      <td>38</td>\n",
       "      <td>109</td>\n",
       "      <td>40</td>\n",
       "      <td>0</td>\n",
       "      <td>192</td>\n",
       "    </tr>\n",
       "  </tbody>\n",
       "</table>\n",
       "</div>"
      ],
      "text/plain": [
       "                          index  edad 0 a 4  edad 5 a 14  edad 15 a 44  \\\n",
       "0  RT-PCR_positivo (covid19???)           0            1             4   \n",
       "\n",
       "   edad 45 a 64  edad 65 a 84  edad 85 a 99  edad 100 o más  Total  \n",
       "0            38           109            40               0    192  "
      ]
     },
     "execution_count": 112,
     "metadata": {},
     "output_type": "execute_result"
    }
   ],
   "source": [
    "covidMunicipio=covidMunicipio.reset_index()\n",
    "covidMunicipio"
   ]
  },
  {
   "cell_type": "code",
   "execution_count": 113,
   "metadata": {
    "slideshow": {
     "slide_type": "skip"
    }
   },
   "outputs": [],
   "source": [
    "covidMunicipio.rename(columns={'index':'Causas de defunción'}, inplace=True)"
   ]
  },
  {
   "cell_type": "code",
   "execution_count": 114,
   "metadata": {
    "slideshow": {
     "slide_type": "subslide"
    }
   },
   "outputs": [
    {
     "data": {
      "text/html": [
       "<div>\n",
       "<style scoped>\n",
       "    .dataframe tbody tr th:only-of-type {\n",
       "        vertical-align: middle;\n",
       "    }\n",
       "\n",
       "    .dataframe tbody tr th {\n",
       "        vertical-align: top;\n",
       "    }\n",
       "\n",
       "    .dataframe thead th {\n",
       "        text-align: right;\n",
       "    }\n",
       "</style>\n",
       "<table border=\"1\" class=\"dataframe\">\n",
       "  <thead>\n",
       "    <tr style=\"text-align: right;\">\n",
       "      <th></th>\n",
       "      <th>Causas de defunción</th>\n",
       "      <th>edad 0 a 4</th>\n",
       "      <th>edad 5 a 14</th>\n",
       "      <th>edad 15 a 44</th>\n",
       "      <th>edad 45 a 64</th>\n",
       "      <th>edad 65 a 84</th>\n",
       "      <th>edad 85 a 99</th>\n",
       "      <th>edad 100 o más</th>\n",
       "      <th>Total</th>\n",
       "    </tr>\n",
       "  </thead>\n",
       "  <tbody>\n",
       "    <tr>\n",
       "      <th>0</th>\n",
       "      <td>RT-PCR_positivo (covid19???)</td>\n",
       "      <td>0</td>\n",
       "      <td>1</td>\n",
       "      <td>4</td>\n",
       "      <td>38</td>\n",
       "      <td>109</td>\n",
       "      <td>40</td>\n",
       "      <td>0</td>\n",
       "      <td>192</td>\n",
       "    </tr>\n",
       "  </tbody>\n",
       "</table>\n",
       "</div>"
      ],
      "text/plain": [
       "            Causas de defunción  edad 0 a 4  edad 5 a 14  edad 15 a 44  \\\n",
       "0  RT-PCR_positivo (covid19???)           0            1             4   \n",
       "\n",
       "   edad 45 a 64  edad 65 a 84  edad 85 a 99  edad 100 o más  Total  \n",
       "0            38           109            40               0    192  "
      ]
     },
     "execution_count": 114,
     "metadata": {},
     "output_type": "execute_result"
    }
   ],
   "source": [
    "covidMunicipio"
   ]
  },
  {
   "cell_type": "code",
   "execution_count": 115,
   "metadata": {
    "slideshow": {
     "slide_type": "skip"
    }
   },
   "outputs": [],
   "source": [
    "defuncionesMunicipales = defuncionesMunicipales.append(covidMunicipio, ignore_index=True).sort_values('Total', ascending=False).head(10)"
   ]
  },
  {
   "cell_type": "code",
   "execution_count": 116,
   "metadata": {
    "scrolled": true,
    "slideshow": {
     "slide_type": "subslide"
    }
   },
   "outputs": [
    {
     "data": {
      "text/html": [
       "<div>\n",
       "<style scoped>\n",
       "    .dataframe tbody tr th:only-of-type {\n",
       "        vertical-align: middle;\n",
       "    }\n",
       "\n",
       "    .dataframe tbody tr th {\n",
       "        vertical-align: top;\n",
       "    }\n",
       "\n",
       "    .dataframe thead th {\n",
       "        text-align: right;\n",
       "    }\n",
       "</style>\n",
       "<table border=\"1\" class=\"dataframe\">\n",
       "  <thead>\n",
       "    <tr style=\"text-align: right;\">\n",
       "      <th></th>\n",
       "      <th>Causas de defunción</th>\n",
       "      <th>edad 0 a 4</th>\n",
       "      <th>edad 5 a 14</th>\n",
       "      <th>edad 15 a 44</th>\n",
       "      <th>edad 45 a 64</th>\n",
       "      <th>edad 65 a 84</th>\n",
       "      <th>edad 85 a 99</th>\n",
       "      <th>edad 100 o más</th>\n",
       "      <th>Total</th>\n",
       "    </tr>\n",
       "  </thead>\n",
       "  <tbody>\n",
       "    <tr>\n",
       "      <th>0</th>\n",
       "      <td>201 Tumor maligno del estómago202 Tumor malign...</td>\n",
       "      <td>0</td>\n",
       "      <td>2</td>\n",
       "      <td>45</td>\n",
       "      <td>110</td>\n",
       "      <td>245</td>\n",
       "      <td>56</td>\n",
       "      <td>0</td>\n",
       "      <td>461</td>\n",
       "    </tr>\n",
       "    <tr>\n",
       "      <th>1</th>\n",
       "      <td>303 Enfermedades isquémicas del corazón</td>\n",
       "      <td>0</td>\n",
       "      <td>0</td>\n",
       "      <td>5</td>\n",
       "      <td>27</td>\n",
       "      <td>143</td>\n",
       "      <td>89</td>\n",
       "      <td>5</td>\n",
       "      <td>270</td>\n",
       "    </tr>\n",
       "    <tr>\n",
       "      <th>2</th>\n",
       "      <td>605 Enfermedades crónicas de las vías respirat...</td>\n",
       "      <td>0</td>\n",
       "      <td>0</td>\n",
       "      <td>2</td>\n",
       "      <td>8</td>\n",
       "      <td>86</td>\n",
       "      <td>97</td>\n",
       "      <td>0</td>\n",
       "      <td>194</td>\n",
       "    </tr>\n",
       "    <tr>\n",
       "      <th>36</th>\n",
       "      <td>RT-PCR_positivo (covid19???)</td>\n",
       "      <td>0</td>\n",
       "      <td>1</td>\n",
       "      <td>4</td>\n",
       "      <td>38</td>\n",
       "      <td>109</td>\n",
       "      <td>40</td>\n",
       "      <td>0</td>\n",
       "      <td>192</td>\n",
       "    </tr>\n",
       "    <tr>\n",
       "      <th>3</th>\n",
       "      <td>307 Enfermedades cerebrovasculares</td>\n",
       "      <td>2</td>\n",
       "      <td>0</td>\n",
       "      <td>2</td>\n",
       "      <td>10</td>\n",
       "      <td>59</td>\n",
       "      <td>29</td>\n",
       "      <td>0</td>\n",
       "      <td>105</td>\n",
       "    </tr>\n",
       "    <tr>\n",
       "      <th>4</th>\n",
       "      <td>614 Resto de las enfermedades</td>\n",
       "      <td>0</td>\n",
       "      <td>0</td>\n",
       "      <td>0</td>\n",
       "      <td>16</td>\n",
       "      <td>24</td>\n",
       "      <td>24</td>\n",
       "      <td>2</td>\n",
       "      <td>67</td>\n",
       "    </tr>\n",
       "    <tr>\n",
       "      <th>5</th>\n",
       "      <td>604 Enfermedades del sistema nervioso, excepto...</td>\n",
       "      <td>0</td>\n",
       "      <td>0</td>\n",
       "      <td>2</td>\n",
       "      <td>16</td>\n",
       "      <td>24</td>\n",
       "      <td>21</td>\n",
       "      <td>0</td>\n",
       "      <td>64</td>\n",
       "    </tr>\n",
       "    <tr>\n",
       "      <th>6</th>\n",
       "      <td>304 Enfermedad cardiopulmonar, enfermedades de...</td>\n",
       "      <td>0</td>\n",
       "      <td>2</td>\n",
       "      <td>8</td>\n",
       "      <td>5</td>\n",
       "      <td>24</td>\n",
       "      <td>18</td>\n",
       "      <td>0</td>\n",
       "      <td>59</td>\n",
       "    </tr>\n",
       "    <tr>\n",
       "      <th>7</th>\n",
       "      <td>108 Infecciones respiratorias agudas</td>\n",
       "      <td>0</td>\n",
       "      <td>0</td>\n",
       "      <td>2</td>\n",
       "      <td>2</td>\n",
       "      <td>18</td>\n",
       "      <td>24</td>\n",
       "      <td>8</td>\n",
       "      <td>56</td>\n",
       "    </tr>\n",
       "    <tr>\n",
       "      <th>8</th>\n",
       "      <td>610 Enfermedades del sistema urinario</td>\n",
       "      <td>0</td>\n",
       "      <td>0</td>\n",
       "      <td>0</td>\n",
       "      <td>8</td>\n",
       "      <td>21</td>\n",
       "      <td>24</td>\n",
       "      <td>0</td>\n",
       "      <td>54</td>\n",
       "    </tr>\n",
       "  </tbody>\n",
       "</table>\n",
       "</div>"
      ],
      "text/plain": [
       "                                  Causas de defunción  edad 0 a 4  \\\n",
       "0   201 Tumor maligno del estómago202 Tumor malign...           0   \n",
       "1             303 Enfermedades isquémicas del corazón           0   \n",
       "2   605 Enfermedades crónicas de las vías respirat...           0   \n",
       "36                       RT-PCR_positivo (covid19???)           0   \n",
       "3                  307 Enfermedades cerebrovasculares           2   \n",
       "4                       614 Resto de las enfermedades           0   \n",
       "5   604 Enfermedades del sistema nervioso, excepto...           0   \n",
       "6   304 Enfermedad cardiopulmonar, enfermedades de...           0   \n",
       "7                108 Infecciones respiratorias agudas           0   \n",
       "8               610 Enfermedades del sistema urinario           0   \n",
       "\n",
       "    edad 5 a 14  edad 15 a 44  edad 45 a 64  edad 65 a 84  edad 85 a 99  \\\n",
       "0             2            45           110           245            56   \n",
       "1             0             5            27           143            89   \n",
       "2             0             2             8            86            97   \n",
       "36            1             4            38           109            40   \n",
       "3             0             2            10            59            29   \n",
       "4             0             0            16            24            24   \n",
       "5             0             2            16            24            21   \n",
       "6             2             8             5            24            18   \n",
       "7             0             2             2            18            24   \n",
       "8             0             0             8            21            24   \n",
       "\n",
       "    edad 100 o más  Total  \n",
       "0                0    461  \n",
       "1                5    270  \n",
       "2                0    194  \n",
       "36               0    192  \n",
       "3                0    105  \n",
       "4                2     67  \n",
       "5                0     64  \n",
       "6                0     59  \n",
       "7                8     56  \n",
       "8                0     54  "
      ]
     },
     "execution_count": 116,
     "metadata": {},
     "output_type": "execute_result"
    }
   ],
   "source": [
    "defuncionesMunicipales"
   ]
  },
  {
   "cell_type": "markdown",
   "metadata": {
    "slideshow": {
     "slide_type": "slide"
    }
   },
   "source": [
    "# Departamento: Tasas por grupo etario\n",
    "#### Luis Evelio García Restrepo.  MD. MAS. EF\n",
    "##### Fuentes primarias:   DANE-INS"
   ]
  },
  {
   "cell_type": "code",
   "execution_count": 117,
   "metadata": {
    "slideshow": {
     "slide_type": "skip"
    }
   },
   "outputs": [],
   "source": [
    "tasaMortalidadDpto = pd.read_csv('TasaMortalidadDpto.csv')"
   ]
  },
  {
   "cell_type": "code",
   "execution_count": 118,
   "metadata": {
    "slideshow": {
     "slide_type": "skip"
    }
   },
   "outputs": [],
   "source": [
    "tasaMortalidadDpto.set_index('Unnamed: 0', inplace=True)"
   ]
  },
  {
   "cell_type": "code",
   "execution_count": 119,
   "metadata": {
    "slideshow": {
     "slide_type": "skip"
    }
   },
   "outputs": [
    {
     "data": {
      "text/html": [
       "<div>\n",
       "<style scoped>\n",
       "    .dataframe tbody tr th:only-of-type {\n",
       "        vertical-align: middle;\n",
       "    }\n",
       "\n",
       "    .dataframe tbody tr th {\n",
       "        vertical-align: top;\n",
       "    }\n",
       "\n",
       "    .dataframe thead th {\n",
       "        text-align: right;\n",
       "    }\n",
       "</style>\n",
       "<table border=\"1\" class=\"dataframe\">\n",
       "  <thead>\n",
       "    <tr style=\"text-align: right;\">\n",
       "      <th></th>\n",
       "      <th>Número fallecidos</th>\n",
       "      <th>Población</th>\n",
       "      <th>Tasa de mortalidad por 100.000 habitantes</th>\n",
       "    </tr>\n",
       "    <tr>\n",
       "      <th>Unnamed: 0</th>\n",
       "      <th></th>\n",
       "      <th></th>\n",
       "      <th></th>\n",
       "    </tr>\n",
       "  </thead>\n",
       "  <tbody>\n",
       "    <tr>\n",
       "      <th>edad 0 a 4</th>\n",
       "      <td>0</td>\n",
       "      <td>77831</td>\n",
       "      <td>0.000000</td>\n",
       "    </tr>\n",
       "    <tr>\n",
       "      <th>edad 5 a 14</th>\n",
       "      <td>2</td>\n",
       "      <td>119916</td>\n",
       "      <td>1.667834</td>\n",
       "    </tr>\n",
       "    <tr>\n",
       "      <th>edad 15 a 44</th>\n",
       "      <td>20</td>\n",
       "      <td>435989</td>\n",
       "      <td>4.587272</td>\n",
       "    </tr>\n",
       "    <tr>\n",
       "      <th>edad 45 a 64</th>\n",
       "      <td>92</td>\n",
       "      <td>252678</td>\n",
       "      <td>36.409976</td>\n",
       "    </tr>\n",
       "    <tr>\n",
       "      <th>edad 65 a 84</th>\n",
       "      <td>236</td>\n",
       "      <td>118140</td>\n",
       "      <td>199.762993</td>\n",
       "    </tr>\n",
       "    <tr>\n",
       "      <th>edad 85 a 99</th>\n",
       "      <td>66</td>\n",
       "      <td>13232</td>\n",
       "      <td>498.790810</td>\n",
       "    </tr>\n",
       "    <tr>\n",
       "      <th>edad 100 o más</th>\n",
       "      <td>1</td>\n",
       "      <td>481</td>\n",
       "      <td>207.900208</td>\n",
       "    </tr>\n",
       "  </tbody>\n",
       "</table>\n",
       "</div>"
      ],
      "text/plain": [
       "                Número fallecidos  Población  \\\n",
       "Unnamed: 0                                     \n",
       "edad 0 a 4                      0      77831   \n",
       "edad 5 a 14                     2     119916   \n",
       "edad 15 a 44                   20     435989   \n",
       "edad 45 a 64                   92     252678   \n",
       "edad 65 a 84                  236     118140   \n",
       "edad 85 a 99                   66      13232   \n",
       "edad 100 o más                  1        481   \n",
       "\n",
       "                Tasa de mortalidad por 100.000 habitantes  \n",
       "Unnamed: 0                                                 \n",
       "edad 0 a 4                                       0.000000  \n",
       "edad 5 a 14                                      1.667834  \n",
       "edad 15 a 44                                     4.587272  \n",
       "edad 45 a 64                                    36.409976  \n",
       "edad 65 a 84                                   199.762993  \n",
       "edad 85 a 99                                   498.790810  \n",
       "edad 100 o más                                 207.900208  "
      ]
     },
     "execution_count": 119,
     "metadata": {},
     "output_type": "execute_result"
    }
   ],
   "source": [
    "tasaMortalidadDpto"
   ]
  },
  {
   "cell_type": "code",
   "execution_count": 120,
   "metadata": {
    "slideshow": {
     "slide_type": "skip"
    }
   },
   "outputs": [
    {
     "data": {
      "text/html": [
       "<div>\n",
       "<style scoped>\n",
       "    .dataframe tbody tr th:only-of-type {\n",
       "        vertical-align: middle;\n",
       "    }\n",
       "\n",
       "    .dataframe tbody tr th {\n",
       "        vertical-align: top;\n",
       "    }\n",
       "\n",
       "    .dataframe thead th {\n",
       "        text-align: right;\n",
       "    }\n",
       "</style>\n",
       "<table border=\"1\" class=\"dataframe\">\n",
       "  <thead>\n",
       "    <tr style=\"text-align: right;\">\n",
       "      <th></th>\n",
       "      <th>Número de casos</th>\n",
       "      <th>Tasa de letalidad (por cien contagios detectados)</th>\n",
       "      <th>Número fallecidos</th>\n",
       "      <th>Población</th>\n",
       "      <th>Tasa de mortalidad por 100.000 habitantes</th>\n",
       "    </tr>\n",
       "  </thead>\n",
       "  <tbody>\n",
       "    <tr>\n",
       "      <th>edad 0 a 4</th>\n",
       "      <td>168</td>\n",
       "      <td>0.00</td>\n",
       "      <td>0</td>\n",
       "      <td>77831</td>\n",
       "      <td>0.00</td>\n",
       "    </tr>\n",
       "    <tr>\n",
       "      <th>edad 5 a 14</th>\n",
       "      <td>565</td>\n",
       "      <td>0.35</td>\n",
       "      <td>2</td>\n",
       "      <td>119916</td>\n",
       "      <td>1.67</td>\n",
       "    </tr>\n",
       "    <tr>\n",
       "      <th>edad 15 a 44</th>\n",
       "      <td>9615</td>\n",
       "      <td>0.18</td>\n",
       "      <td>20</td>\n",
       "      <td>435989</td>\n",
       "      <td>4.59</td>\n",
       "    </tr>\n",
       "    <tr>\n",
       "      <th>edad 45 a 64</th>\n",
       "      <td>4467</td>\n",
       "      <td>1.72</td>\n",
       "      <td>92</td>\n",
       "      <td>252678</td>\n",
       "      <td>36.41</td>\n",
       "    </tr>\n",
       "    <tr>\n",
       "      <th>edad 65 a 84</th>\n",
       "      <td>1966</td>\n",
       "      <td>11.39</td>\n",
       "      <td>236</td>\n",
       "      <td>118140</td>\n",
       "      <td>199.76</td>\n",
       "    </tr>\n",
       "    <tr>\n",
       "      <th>edad 85 a 99</th>\n",
       "      <td>324</td>\n",
       "      <td>21.60</td>\n",
       "      <td>66</td>\n",
       "      <td>13232</td>\n",
       "      <td>498.79</td>\n",
       "    </tr>\n",
       "    <tr>\n",
       "      <th>edad 100 o más</th>\n",
       "      <td>8</td>\n",
       "      <td>12.50</td>\n",
       "      <td>1</td>\n",
       "      <td>481</td>\n",
       "      <td>207.90</td>\n",
       "    </tr>\n",
       "  </tbody>\n",
       "</table>\n",
       "</div>"
      ],
      "text/plain": [
       "                Número de casos  \\\n",
       "edad 0 a 4                  168   \n",
       "edad 5 a 14                 565   \n",
       "edad 15 a 44               9615   \n",
       "edad 45 a 64               4467   \n",
       "edad 65 a 84               1966   \n",
       "edad 85 a 99                324   \n",
       "edad 100 o más                8   \n",
       "\n",
       "                Tasa de letalidad (por cien contagios detectados)  \\\n",
       "edad 0 a 4                                                   0.00   \n",
       "edad 5 a 14                                                  0.35   \n",
       "edad 15 a 44                                                 0.18   \n",
       "edad 45 a 64                                                 1.72   \n",
       "edad 65 a 84                                                11.39   \n",
       "edad 85 a 99                                                21.60   \n",
       "edad 100 o más                                              12.50   \n",
       "\n",
       "                Número fallecidos  Población  \\\n",
       "edad 0 a 4                      0      77831   \n",
       "edad 5 a 14                     2     119916   \n",
       "edad 15 a 44                   20     435989   \n",
       "edad 45 a 64                   92     252678   \n",
       "edad 65 a 84                  236     118140   \n",
       "edad 85 a 99                   66      13232   \n",
       "edad 100 o más                  1        481   \n",
       "\n",
       "                Tasa de mortalidad por 100.000 habitantes  \n",
       "edad 0 a 4                                           0.00  \n",
       "edad 5 a 14                                          1.67  \n",
       "edad 15 a 44                                         4.59  \n",
       "edad 45 a 64                                        36.41  \n",
       "edad 65 a 84                                       199.76  \n",
       "edad 85 a 99                                       498.79  \n",
       "edad 100 o más                                     207.90  "
      ]
     },
     "execution_count": 120,
     "metadata": {},
     "output_type": "execute_result"
    }
   ],
   "source": [
    "TasasDpto= pd.merge(CasosyFallecidos, tasaMortalidadDpto, left_index=True, right_index=True)\n",
    "TasasDpto.drop(columns=['Número de fallecidos'],inplace=True)\n",
    "TasasDpto['Tasa de mortalidad por 100.000 habitantes']=TasasDpto['Tasa de mortalidad por 100.000 habitantes'].round(2)\n",
    "TasasDpto=TasasDpto.rename(columns={'Tasa de letalidad por 100':'Tasa de letalidad (por cien contagios detectados)'})\n",
    "TasasDpto"
   ]
  },
  {
   "cell_type": "code",
   "execution_count": 121,
   "metadata": {
    "scrolled": true,
    "slideshow": {
     "slide_type": "skip"
    }
   },
   "outputs": [],
   "source": [
    "Totales = TasasDpto.transpose()"
   ]
  },
  {
   "cell_type": "code",
   "execution_count": 122,
   "metadata": {
    "slideshow": {
     "slide_type": "skip"
    }
   },
   "outputs": [],
   "source": [
    "Totales['Totales']= Totales['edad 0 a 4']+Totales['edad 5 a 14']+Totales['edad 15 a 44']+Totales['edad 45 a 64']+Totales['edad 65 a 84']+Totales['edad 85 a 99']+Totales['edad 100 o más']"
   ]
  },
  {
   "cell_type": "code",
   "execution_count": 123,
   "metadata": {
    "slideshow": {
     "slide_type": "skip"
    }
   },
   "outputs": [
    {
     "data": {
      "text/html": [
       "<div>\n",
       "<style scoped>\n",
       "    .dataframe tbody tr th:only-of-type {\n",
       "        vertical-align: middle;\n",
       "    }\n",
       "\n",
       "    .dataframe tbody tr th {\n",
       "        vertical-align: top;\n",
       "    }\n",
       "\n",
       "    .dataframe thead th {\n",
       "        text-align: right;\n",
       "    }\n",
       "</style>\n",
       "<table border=\"1\" class=\"dataframe\">\n",
       "  <thead>\n",
       "    <tr style=\"text-align: right;\">\n",
       "      <th></th>\n",
       "      <th>edad 0 a 4</th>\n",
       "      <th>edad 5 a 14</th>\n",
       "      <th>edad 15 a 44</th>\n",
       "      <th>edad 45 a 64</th>\n",
       "      <th>edad 65 a 84</th>\n",
       "      <th>edad 85 a 99</th>\n",
       "      <th>edad 100 o más</th>\n",
       "      <th>Totales</th>\n",
       "    </tr>\n",
       "  </thead>\n",
       "  <tbody>\n",
       "    <tr>\n",
       "      <th>Número de casos</th>\n",
       "      <td>168.0</td>\n",
       "      <td>565.00</td>\n",
       "      <td>9615.00</td>\n",
       "      <td>4467.00</td>\n",
       "      <td>1966.00</td>\n",
       "      <td>324.00</td>\n",
       "      <td>8.0</td>\n",
       "      <td>17113.0</td>\n",
       "    </tr>\n",
       "    <tr>\n",
       "      <th>Tasa de letalidad (por cien contagios detectados)</th>\n",
       "      <td>0.0</td>\n",
       "      <td>0.35</td>\n",
       "      <td>0.18</td>\n",
       "      <td>1.72</td>\n",
       "      <td>11.39</td>\n",
       "      <td>21.60</td>\n",
       "      <td>12.5</td>\n",
       "      <td>48.0</td>\n",
       "    </tr>\n",
       "    <tr>\n",
       "      <th>Número fallecidos</th>\n",
       "      <td>0.0</td>\n",
       "      <td>2.00</td>\n",
       "      <td>20.00</td>\n",
       "      <td>92.00</td>\n",
       "      <td>236.00</td>\n",
       "      <td>66.00</td>\n",
       "      <td>1.0</td>\n",
       "      <td>417.0</td>\n",
       "    </tr>\n",
       "    <tr>\n",
       "      <th>Población</th>\n",
       "      <td>77831.0</td>\n",
       "      <td>119916.00</td>\n",
       "      <td>435989.00</td>\n",
       "      <td>252678.00</td>\n",
       "      <td>118140.00</td>\n",
       "      <td>13232.00</td>\n",
       "      <td>481.0</td>\n",
       "      <td>1018267.0</td>\n",
       "    </tr>\n",
       "    <tr>\n",
       "      <th>Tasa de mortalidad por 100.000 habitantes</th>\n",
       "      <td>0.0</td>\n",
       "      <td>1.67</td>\n",
       "      <td>4.59</td>\n",
       "      <td>36.41</td>\n",
       "      <td>199.76</td>\n",
       "      <td>498.79</td>\n",
       "      <td>207.9</td>\n",
       "      <td>949.0</td>\n",
       "    </tr>\n",
       "  </tbody>\n",
       "</table>\n",
       "</div>"
      ],
      "text/plain": [
       "                                                   edad 0 a 4  edad 5 a 14  \\\n",
       "Número de casos                                         168.0       565.00   \n",
       "Tasa de letalidad (por cien contagios detectados)         0.0         0.35   \n",
       "Número fallecidos                                         0.0         2.00   \n",
       "Población                                             77831.0    119916.00   \n",
       "Tasa de mortalidad por 100.000 habitantes                 0.0         1.67   \n",
       "\n",
       "                                                   edad 15 a 44  edad 45 a 64  \\\n",
       "Número de casos                                         9615.00       4467.00   \n",
       "Tasa de letalidad (por cien contagios detectados)          0.18          1.72   \n",
       "Número fallecidos                                         20.00         92.00   \n",
       "Población                                             435989.00     252678.00   \n",
       "Tasa de mortalidad por 100.000 habitantes                  4.59         36.41   \n",
       "\n",
       "                                                   edad 65 a 84  edad 85 a 99  \\\n",
       "Número de casos                                         1966.00        324.00   \n",
       "Tasa de letalidad (por cien contagios detectados)         11.39         21.60   \n",
       "Número fallecidos                                        236.00         66.00   \n",
       "Población                                             118140.00      13232.00   \n",
       "Tasa de mortalidad por 100.000 habitantes                199.76        498.79   \n",
       "\n",
       "                                                   edad 100 o más    Totales  \n",
       "Número de casos                                               8.0    17113.0  \n",
       "Tasa de letalidad (por cien contagios detectados)            12.5       48.0  \n",
       "Número fallecidos                                             1.0      417.0  \n",
       "Población                                                   481.0  1018267.0  \n",
       "Tasa de mortalidad por 100.000 habitantes                   207.9      949.0  "
      ]
     },
     "execution_count": 123,
     "metadata": {},
     "output_type": "execute_result"
    }
   ],
   "source": [
    "Totales['Totales']=Totales['Totales'].round()\n",
    "Totales"
   ]
  },
  {
   "cell_type": "code",
   "execution_count": 124,
   "metadata": {
    "slideshow": {
     "slide_type": "skip"
    }
   },
   "outputs": [],
   "source": [
    "Totales=Totales.transpose()"
   ]
  },
  {
   "cell_type": "code",
   "execution_count": 125,
   "metadata": {
    "slideshow": {
     "slide_type": "skip"
    }
   },
   "outputs": [],
   "source": [
    "Totales= Totales.rename(columns={'Población':'Total habitantes de zonas afectadas'})"
   ]
  },
  {
   "cell_type": "code",
   "execution_count": 126,
   "metadata": {
    "slideshow": {
     "slide_type": "skip"
    }
   },
   "outputs": [],
   "source": [
    "Totales.loc['Totales', 'Tasa de mortalidad por 100.000 habitantes']= (Totales.loc['Totales', 'Número fallecidos']/Totales.loc['Totales', 'Total habitantes de zonas afectadas'])*100000\n",
    "Totales.loc['Totales', 'Tasa de letalidad (por cien contagios detectados)']= (Totales.loc['Totales', 'Número fallecidos']/Totales.loc['Totales', 'Número de casos'])*100"
   ]
  },
  {
   "cell_type": "code",
   "execution_count": 127,
   "metadata": {
    "slideshow": {
     "slide_type": "skip"
    }
   },
   "outputs": [],
   "source": [
    "Totales['Tasa de letalidad (por cien contagios detectados)']= Totales['Tasa de letalidad (por cien contagios detectados)'].round(2)\n",
    "Totales['Tasa de mortalidad por 100.000 habitantes']= Totales['Tasa de mortalidad por 100.000 habitantes'].round(2)"
   ]
  },
  {
   "cell_type": "code",
   "execution_count": 128,
   "metadata": {
    "slideshow": {
     "slide_type": "skip"
    }
   },
   "outputs": [],
   "source": [
    "Totales['Número de casos']= Totales['Número de casos'].astype(int)\n",
    "Totales['Número fallecidos']= Totales['Número fallecidos'].astype(int)\n",
    "Totales['Total habitantes de zonas afectadas']= Totales['Total habitantes de zonas afectadas'].astype(int)"
   ]
  },
  {
   "cell_type": "code",
   "execution_count": 129,
   "metadata": {
    "slideshow": {
     "slide_type": "skip"
    }
   },
   "outputs": [],
   "source": [
    "Totales = Totales.reindex(['Número de casos', 'Número fallecidos',\n",
    "       'Total habitantes de zonas afectadas',\n",
    "       'Tasa de letalidad (por cien contagios detectados)',\n",
    "       'Tasa de mortalidad por 100.000 habitantes'],axis=1)"
   ]
  },
  {
   "cell_type": "code",
   "execution_count": 130,
   "metadata": {
    "slideshow": {
     "slide_type": "subslide"
    }
   },
   "outputs": [
    {
     "data": {
      "text/html": [
       "<div>\n",
       "<style scoped>\n",
       "    .dataframe tbody tr th:only-of-type {\n",
       "        vertical-align: middle;\n",
       "    }\n",
       "\n",
       "    .dataframe tbody tr th {\n",
       "        vertical-align: top;\n",
       "    }\n",
       "\n",
       "    .dataframe thead th {\n",
       "        text-align: right;\n",
       "    }\n",
       "</style>\n",
       "<table border=\"1\" class=\"dataframe\">\n",
       "  <thead>\n",
       "    <tr style=\"text-align: right;\">\n",
       "      <th></th>\n",
       "      <th>Número de casos</th>\n",
       "      <th>Número fallecidos</th>\n",
       "      <th>Total habitantes de zonas afectadas</th>\n",
       "      <th>Tasa de letalidad (por cien contagios detectados)</th>\n",
       "      <th>Tasa de mortalidad por 100.000 habitantes</th>\n",
       "    </tr>\n",
       "  </thead>\n",
       "  <tbody>\n",
       "    <tr>\n",
       "      <th>edad 0 a 4</th>\n",
       "      <td>168</td>\n",
       "      <td>0</td>\n",
       "      <td>77831</td>\n",
       "      <td>0.00</td>\n",
       "      <td>0.00</td>\n",
       "    </tr>\n",
       "    <tr>\n",
       "      <th>edad 5 a 14</th>\n",
       "      <td>565</td>\n",
       "      <td>2</td>\n",
       "      <td>119916</td>\n",
       "      <td>0.35</td>\n",
       "      <td>1.67</td>\n",
       "    </tr>\n",
       "    <tr>\n",
       "      <th>edad 15 a 44</th>\n",
       "      <td>9615</td>\n",
       "      <td>20</td>\n",
       "      <td>435989</td>\n",
       "      <td>0.18</td>\n",
       "      <td>4.59</td>\n",
       "    </tr>\n",
       "    <tr>\n",
       "      <th>edad 45 a 64</th>\n",
       "      <td>4467</td>\n",
       "      <td>92</td>\n",
       "      <td>252678</td>\n",
       "      <td>1.72</td>\n",
       "      <td>36.41</td>\n",
       "    </tr>\n",
       "    <tr>\n",
       "      <th>edad 65 a 84</th>\n",
       "      <td>1966</td>\n",
       "      <td>236</td>\n",
       "      <td>118140</td>\n",
       "      <td>11.39</td>\n",
       "      <td>199.76</td>\n",
       "    </tr>\n",
       "    <tr>\n",
       "      <th>edad 85 a 99</th>\n",
       "      <td>324</td>\n",
       "      <td>66</td>\n",
       "      <td>13232</td>\n",
       "      <td>21.60</td>\n",
       "      <td>498.79</td>\n",
       "    </tr>\n",
       "    <tr>\n",
       "      <th>edad 100 o más</th>\n",
       "      <td>8</td>\n",
       "      <td>1</td>\n",
       "      <td>481</td>\n",
       "      <td>12.50</td>\n",
       "      <td>207.90</td>\n",
       "    </tr>\n",
       "    <tr>\n",
       "      <th>Totales</th>\n",
       "      <td>17113</td>\n",
       "      <td>417</td>\n",
       "      <td>1018267</td>\n",
       "      <td>2.44</td>\n",
       "      <td>40.95</td>\n",
       "    </tr>\n",
       "  </tbody>\n",
       "</table>\n",
       "</div>"
      ],
      "text/plain": [
       "                Número de casos  Número fallecidos  \\\n",
       "edad 0 a 4                  168                  0   \n",
       "edad 5 a 14                 565                  2   \n",
       "edad 15 a 44               9615                 20   \n",
       "edad 45 a 64               4467                 92   \n",
       "edad 65 a 84               1966                236   \n",
       "edad 85 a 99                324                 66   \n",
       "edad 100 o más                8                  1   \n",
       "Totales                   17113                417   \n",
       "\n",
       "                Total habitantes de zonas afectadas  \\\n",
       "edad 0 a 4                                    77831   \n",
       "edad 5 a 14                                  119916   \n",
       "edad 15 a 44                                 435989   \n",
       "edad 45 a 64                                 252678   \n",
       "edad 65 a 84                                 118140   \n",
       "edad 85 a 99                                  13232   \n",
       "edad 100 o más                                  481   \n",
       "Totales                                     1018267   \n",
       "\n",
       "                Tasa de letalidad (por cien contagios detectados)  \\\n",
       "edad 0 a 4                                                   0.00   \n",
       "edad 5 a 14                                                  0.35   \n",
       "edad 15 a 44                                                 0.18   \n",
       "edad 45 a 64                                                 1.72   \n",
       "edad 65 a 84                                                11.39   \n",
       "edad 85 a 99                                                21.60   \n",
       "edad 100 o más                                              12.50   \n",
       "Totales                                                      2.44   \n",
       "\n",
       "                Tasa de mortalidad por 100.000 habitantes  \n",
       "edad 0 a 4                                           0.00  \n",
       "edad 5 a 14                                          1.67  \n",
       "edad 15 a 44                                         4.59  \n",
       "edad 45 a 64                                        36.41  \n",
       "edad 65 a 84                                       199.76  \n",
       "edad 85 a 99                                       498.79  \n",
       "edad 100 o más                                     207.90  \n",
       "Totales                                             40.95  "
      ]
     },
     "execution_count": 130,
     "metadata": {},
     "output_type": "execute_result"
    }
   ],
   "source": [
    "Totales"
   ]
  },
  {
   "cell_type": "markdown",
   "metadata": {
    "slideshow": {
     "slide_type": "slide"
    }
   },
   "source": [
    "# Causas de defunción en el departamento por grupo etario"
   ]
  },
  {
   "cell_type": "code",
   "execution_count": 131,
   "metadata": {
    "slideshow": {
     "slide_type": "skip"
    }
   },
   "outputs": [
    {
     "data": {
      "text/html": [
       "<div>\n",
       "<style scoped>\n",
       "    .dataframe tbody tr th:only-of-type {\n",
       "        vertical-align: middle;\n",
       "    }\n",
       "\n",
       "    .dataframe tbody tr th {\n",
       "        vertical-align: top;\n",
       "    }\n",
       "\n",
       "    .dataframe thead th {\n",
       "        text-align: right;\n",
       "    }\n",
       "</style>\n",
       "<table border=\"1\" class=\"dataframe\">\n",
       "  <thead>\n",
       "    <tr style=\"text-align: right;\">\n",
       "      <th></th>\n",
       "      <th>Unnamed: 0</th>\n",
       "      <th>Causas de defunción</th>\n",
       "      <th>edad 0 a 4</th>\n",
       "      <th>edad 5 a 14</th>\n",
       "      <th>edad 15 a 44</th>\n",
       "      <th>edad 45 a 64</th>\n",
       "      <th>edad 65 a 84</th>\n",
       "      <th>edad 85 a 99</th>\n",
       "      <th>edad 100 o más</th>\n",
       "      <th>Total</th>\n",
       "    </tr>\n",
       "  </thead>\n",
       "  <tbody>\n",
       "    <tr>\n",
       "      <th>0</th>\n",
       "      <td>0</td>\n",
       "      <td>201 Tumor maligno del estómago202 Tumor malign...</td>\n",
       "      <td>0</td>\n",
       "      <td>1</td>\n",
       "      <td>27</td>\n",
       "      <td>90</td>\n",
       "      <td>173</td>\n",
       "      <td>38</td>\n",
       "      <td>0</td>\n",
       "      <td>329</td>\n",
       "    </tr>\n",
       "    <tr>\n",
       "      <th>1</th>\n",
       "      <td>24</td>\n",
       "      <td>303 Enfermedades isquémicas del corazón</td>\n",
       "      <td>0</td>\n",
       "      <td>0</td>\n",
       "      <td>4</td>\n",
       "      <td>38</td>\n",
       "      <td>142</td>\n",
       "      <td>90</td>\n",
       "      <td>4</td>\n",
       "      <td>278</td>\n",
       "    </tr>\n",
       "    <tr>\n",
       "      <th>2</th>\n",
       "      <td>47</td>\n",
       "      <td>605 Enfermedades crónicas de las vías respirat...</td>\n",
       "      <td>0</td>\n",
       "      <td>0</td>\n",
       "      <td>1</td>\n",
       "      <td>13</td>\n",
       "      <td>73</td>\n",
       "      <td>61</td>\n",
       "      <td>1</td>\n",
       "      <td>149</td>\n",
       "    </tr>\n",
       "    <tr>\n",
       "      <th>3</th>\n",
       "      <td>27</td>\n",
       "      <td>307 Enfermedades cerebrovasculares</td>\n",
       "      <td>1</td>\n",
       "      <td>0</td>\n",
       "      <td>3</td>\n",
       "      <td>11</td>\n",
       "      <td>43</td>\n",
       "      <td>29</td>\n",
       "      <td>0</td>\n",
       "      <td>87</td>\n",
       "    </tr>\n",
       "    <tr>\n",
       "      <th>4</th>\n",
       "      <td>54</td>\n",
       "      <td>614 Resto de las enfermedades</td>\n",
       "      <td>1</td>\n",
       "      <td>0</td>\n",
       "      <td>4</td>\n",
       "      <td>11</td>\n",
       "      <td>25</td>\n",
       "      <td>17</td>\n",
       "      <td>2</td>\n",
       "      <td>60</td>\n",
       "    </tr>\n",
       "    <tr>\n",
       "      <th>5</th>\n",
       "      <td>6</td>\n",
       "      <td>108 Infecciones respiratorias agudas</td>\n",
       "      <td>1</td>\n",
       "      <td>0</td>\n",
       "      <td>1</td>\n",
       "      <td>7</td>\n",
       "      <td>23</td>\n",
       "      <td>21</td>\n",
       "      <td>4</td>\n",
       "      <td>57</td>\n",
       "    </tr>\n",
       "    <tr>\n",
       "      <th>6</th>\n",
       "      <td>52</td>\n",
       "      <td>610 Enfermedades del sistema urinario</td>\n",
       "      <td>0</td>\n",
       "      <td>0</td>\n",
       "      <td>2</td>\n",
       "      <td>5</td>\n",
       "      <td>25</td>\n",
       "      <td>19</td>\n",
       "      <td>0</td>\n",
       "      <td>51</td>\n",
       "    </tr>\n",
       "    <tr>\n",
       "      <th>7</th>\n",
       "      <td>51</td>\n",
       "      <td>609 Resto de enfermedades del sistema digestivo</td>\n",
       "      <td>1</td>\n",
       "      <td>0</td>\n",
       "      <td>2</td>\n",
       "      <td>10</td>\n",
       "      <td>20</td>\n",
       "      <td>13</td>\n",
       "      <td>0</td>\n",
       "      <td>46</td>\n",
       "    </tr>\n",
       "    <tr>\n",
       "      <th>8</th>\n",
       "      <td>25</td>\n",
       "      <td>304 Enfermedad cardiopulmonar, enfermedades de...</td>\n",
       "      <td>0</td>\n",
       "      <td>1</td>\n",
       "      <td>5</td>\n",
       "      <td>3</td>\n",
       "      <td>20</td>\n",
       "      <td>11</td>\n",
       "      <td>0</td>\n",
       "      <td>40</td>\n",
       "    </tr>\n",
       "    <tr>\n",
       "      <th>9</th>\n",
       "      <td>23</td>\n",
       "      <td>302 Enfermedades hipertensivas</td>\n",
       "      <td>0</td>\n",
       "      <td>0</td>\n",
       "      <td>0</td>\n",
       "      <td>1</td>\n",
       "      <td>21</td>\n",
       "      <td>17</td>\n",
       "      <td>1</td>\n",
       "      <td>40</td>\n",
       "    </tr>\n",
       "    <tr>\n",
       "      <th>10</th>\n",
       "      <td>46</td>\n",
       "      <td>604 Enfermedades del sistema nervioso, excepto...</td>\n",
       "      <td>0</td>\n",
       "      <td>1</td>\n",
       "      <td>4</td>\n",
       "      <td>8</td>\n",
       "      <td>13</td>\n",
       "      <td>12</td>\n",
       "      <td>0</td>\n",
       "      <td>38</td>\n",
       "    </tr>\n",
       "    <tr>\n",
       "      <th>11</th>\n",
       "      <td>41</td>\n",
       "      <td>512 Agresiones (homicidios)</td>\n",
       "      <td>0</td>\n",
       "      <td>0</td>\n",
       "      <td>27</td>\n",
       "      <td>2</td>\n",
       "      <td>3</td>\n",
       "      <td>0</td>\n",
       "      <td>0</td>\n",
       "      <td>32</td>\n",
       "    </tr>\n",
       "    <tr>\n",
       "      <th>12</th>\n",
       "      <td>43</td>\n",
       "      <td>601 Diabetes mellitus</td>\n",
       "      <td>0</td>\n",
       "      <td>0</td>\n",
       "      <td>2</td>\n",
       "      <td>7</td>\n",
       "      <td>13</td>\n",
       "      <td>8</td>\n",
       "      <td>0</td>\n",
       "      <td>30</td>\n",
       "    </tr>\n",
       "    <tr>\n",
       "      <th>13</th>\n",
       "      <td>34</td>\n",
       "      <td>501 Accidentes de transporte terrestre</td>\n",
       "      <td>0</td>\n",
       "      <td>0</td>\n",
       "      <td>15</td>\n",
       "      <td>8</td>\n",
       "      <td>3</td>\n",
       "      <td>2</td>\n",
       "      <td>0</td>\n",
       "      <td>28</td>\n",
       "    </tr>\n",
       "    <tr>\n",
       "      <th>14</th>\n",
       "      <td>48</td>\n",
       "      <td>606 Resto de enfermedades del sistema respirat...</td>\n",
       "      <td>2</td>\n",
       "      <td>0</td>\n",
       "      <td>0</td>\n",
       "      <td>5</td>\n",
       "      <td>8</td>\n",
       "      <td>7</td>\n",
       "      <td>0</td>\n",
       "      <td>22</td>\n",
       "    </tr>\n",
       "    <tr>\n",
       "      <th>15</th>\n",
       "      <td>45</td>\n",
       "      <td>603 Trastornos mentales y del comportamiento</td>\n",
       "      <td>0</td>\n",
       "      <td>0</td>\n",
       "      <td>1</td>\n",
       "      <td>1</td>\n",
       "      <td>4</td>\n",
       "      <td>9</td>\n",
       "      <td>0</td>\n",
       "      <td>15</td>\n",
       "    </tr>\n",
       "    <tr>\n",
       "      <th>16</th>\n",
       "      <td>40</td>\n",
       "      <td>511 Lesiones autoinfligidas intencionalmente (...</td>\n",
       "      <td>0</td>\n",
       "      <td>1</td>\n",
       "      <td>11</td>\n",
       "      <td>1</td>\n",
       "      <td>1</td>\n",
       "      <td>0</td>\n",
       "      <td>0</td>\n",
       "      <td>14</td>\n",
       "    </tr>\n",
       "    <tr>\n",
       "      <th>17</th>\n",
       "      <td>26</td>\n",
       "      <td>306 Insuficiencia cardíaca</td>\n",
       "      <td>0</td>\n",
       "      <td>0</td>\n",
       "      <td>1</td>\n",
       "      <td>3</td>\n",
       "      <td>6</td>\n",
       "      <td>3</td>\n",
       "      <td>0</td>\n",
       "      <td>13</td>\n",
       "    </tr>\n",
       "    <tr>\n",
       "      <th>18</th>\n",
       "      <td>50</td>\n",
       "      <td>608 Cirrosis y ciertas otras enfermedades crón...</td>\n",
       "      <td>0</td>\n",
       "      <td>0</td>\n",
       "      <td>1</td>\n",
       "      <td>2</td>\n",
       "      <td>8</td>\n",
       "      <td>2</td>\n",
       "      <td>0</td>\n",
       "      <td>13</td>\n",
       "    </tr>\n",
       "    <tr>\n",
       "      <th>19</th>\n",
       "      <td>19</td>\n",
       "      <td>212 Leucemia</td>\n",
       "      <td>0</td>\n",
       "      <td>1</td>\n",
       "      <td>5</td>\n",
       "      <td>3</td>\n",
       "      <td>3</td>\n",
       "      <td>0</td>\n",
       "      <td>0</td>\n",
       "      <td>12</td>\n",
       "    </tr>\n",
       "    <tr>\n",
       "      <th>20</th>\n",
       "      <td>39</td>\n",
       "      <td>510 Otros accidentes, inclusive secuelas</td>\n",
       "      <td>0</td>\n",
       "      <td>0</td>\n",
       "      <td>4</td>\n",
       "      <td>3</td>\n",
       "      <td>3</td>\n",
       "      <td>2</td>\n",
       "      <td>0</td>\n",
       "      <td>12</td>\n",
       "    </tr>\n",
       "    <tr>\n",
       "      <th>21</th>\n",
       "      <td>53</td>\n",
       "      <td>613 Malformaciones congénitas, deformidades y ...</td>\n",
       "      <td>8</td>\n",
       "      <td>0</td>\n",
       "      <td>0</td>\n",
       "      <td>1</td>\n",
       "      <td>2</td>\n",
       "      <td>0</td>\n",
       "      <td>0</td>\n",
       "      <td>11</td>\n",
       "    </tr>\n",
       "    <tr>\n",
       "      <th>22</th>\n",
       "      <td>2</td>\n",
       "      <td>102 Tuberculosis</td>\n",
       "      <td>1</td>\n",
       "      <td>0</td>\n",
       "      <td>3</td>\n",
       "      <td>1</td>\n",
       "      <td>4</td>\n",
       "      <td>0</td>\n",
       "      <td>0</td>\n",
       "      <td>9</td>\n",
       "    </tr>\n",
       "    <tr>\n",
       "      <th>23</th>\n",
       "      <td>49</td>\n",
       "      <td>607 Apendicitis, hernia de la cavidad abdomina...</td>\n",
       "      <td>1</td>\n",
       "      <td>0</td>\n",
       "      <td>1</td>\n",
       "      <td>1</td>\n",
       "      <td>3</td>\n",
       "      <td>2</td>\n",
       "      <td>0</td>\n",
       "      <td>8</td>\n",
       "    </tr>\n",
       "    <tr>\n",
       "      <th>24</th>\n",
       "      <td>1</td>\n",
       "      <td>101 Enfermedades infecciosas intestinales</td>\n",
       "      <td>0</td>\n",
       "      <td>0</td>\n",
       "      <td>0</td>\n",
       "      <td>3</td>\n",
       "      <td>3</td>\n",
       "      <td>2</td>\n",
       "      <td>0</td>\n",
       "      <td>8</td>\n",
       "    </tr>\n",
       "    <tr>\n",
       "      <th>25</th>\n",
       "      <td>28</td>\n",
       "      <td>309 Las demás enfermedades del sistema circula...</td>\n",
       "      <td>0</td>\n",
       "      <td>0</td>\n",
       "      <td>0</td>\n",
       "      <td>3</td>\n",
       "      <td>3</td>\n",
       "      <td>2</td>\n",
       "      <td>0</td>\n",
       "      <td>8</td>\n",
       "    </tr>\n",
       "    <tr>\n",
       "      <th>26</th>\n",
       "      <td>5</td>\n",
       "      <td>107 Enfermedad por el VIH (SIDA)</td>\n",
       "      <td>0</td>\n",
       "      <td>0</td>\n",
       "      <td>1</td>\n",
       "      <td>4</td>\n",
       "      <td>2</td>\n",
       "      <td>0</td>\n",
       "      <td>0</td>\n",
       "      <td>7</td>\n",
       "    </tr>\n",
       "    <tr>\n",
       "      <th>27</th>\n",
       "      <td>44</td>\n",
       "      <td>602 Deficiencias nutricionales y anemias nutri...</td>\n",
       "      <td>0</td>\n",
       "      <td>0</td>\n",
       "      <td>0</td>\n",
       "      <td>2</td>\n",
       "      <td>1</td>\n",
       "      <td>4</td>\n",
       "      <td>0</td>\n",
       "      <td>7</td>\n",
       "    </tr>\n",
       "    <tr>\n",
       "      <th>28</th>\n",
       "      <td>35</td>\n",
       "      <td>503 Caídas</td>\n",
       "      <td>0</td>\n",
       "      <td>0</td>\n",
       "      <td>0</td>\n",
       "      <td>3</td>\n",
       "      <td>3</td>\n",
       "      <td>0</td>\n",
       "      <td>0</td>\n",
       "      <td>6</td>\n",
       "    </tr>\n",
       "    <tr>\n",
       "      <th>29</th>\n",
       "      <td>42</td>\n",
       "      <td>513 Eventos de intención no determinada</td>\n",
       "      <td>0</td>\n",
       "      <td>0</td>\n",
       "      <td>2</td>\n",
       "      <td>2</td>\n",
       "      <td>2</td>\n",
       "      <td>0</td>\n",
       "      <td>0</td>\n",
       "      <td>6</td>\n",
       "    </tr>\n",
       "    <tr>\n",
       "      <th>30</th>\n",
       "      <td>31</td>\n",
       "      <td>404 Trastornos respiratorios específicos del p...</td>\n",
       "      <td>6</td>\n",
       "      <td>0</td>\n",
       "      <td>0</td>\n",
       "      <td>0</td>\n",
       "      <td>0</td>\n",
       "      <td>0</td>\n",
       "      <td>0</td>\n",
       "      <td>6</td>\n",
       "    </tr>\n",
       "    <tr>\n",
       "      <th>31</th>\n",
       "      <td>0</td>\n",
       "      <td>000 Signos, síntomas y afecciones mal definidas</td>\n",
       "      <td>1</td>\n",
       "      <td>0</td>\n",
       "      <td>0</td>\n",
       "      <td>1</td>\n",
       "      <td>1</td>\n",
       "      <td>1</td>\n",
       "      <td>1</td>\n",
       "      <td>5</td>\n",
       "    </tr>\n",
       "    <tr>\n",
       "      <th>32</th>\n",
       "      <td>38</td>\n",
       "      <td>507 Exposición a la corriente eléctrica</td>\n",
       "      <td>0</td>\n",
       "      <td>0</td>\n",
       "      <td>2</td>\n",
       "      <td>1</td>\n",
       "      <td>0</td>\n",
       "      <td>0</td>\n",
       "      <td>0</td>\n",
       "      <td>3</td>\n",
       "    </tr>\n",
       "    <tr>\n",
       "      <th>33</th>\n",
       "      <td>36</td>\n",
       "      <td>505 Ahogamiento y sumersión accidentales</td>\n",
       "      <td>1</td>\n",
       "      <td>0</td>\n",
       "      <td>1</td>\n",
       "      <td>1</td>\n",
       "      <td>0</td>\n",
       "      <td>0</td>\n",
       "      <td>0</td>\n",
       "      <td>3</td>\n",
       "    </tr>\n",
       "    <tr>\n",
       "      <th>34</th>\n",
       "      <td>4</td>\n",
       "      <td>106 Septicemia, excepto neonatal</td>\n",
       "      <td>1</td>\n",
       "      <td>0</td>\n",
       "      <td>0</td>\n",
       "      <td>0</td>\n",
       "      <td>1</td>\n",
       "      <td>1</td>\n",
       "      <td>0</td>\n",
       "      <td>3</td>\n",
       "    </tr>\n",
       "    <tr>\n",
       "      <th>35</th>\n",
       "      <td>37</td>\n",
       "      <td>506 Accidentes que obstruyen la respiración</td>\n",
       "      <td>0</td>\n",
       "      <td>0</td>\n",
       "      <td>2</td>\n",
       "      <td>0</td>\n",
       "      <td>0</td>\n",
       "      <td>0</td>\n",
       "      <td>0</td>\n",
       "      <td>2</td>\n",
       "    </tr>\n",
       "    <tr>\n",
       "      <th>36</th>\n",
       "      <td>30</td>\n",
       "      <td>403 Retardo del crecimiento fetal, desnutrició...</td>\n",
       "      <td>2</td>\n",
       "      <td>0</td>\n",
       "      <td>0</td>\n",
       "      <td>0</td>\n",
       "      <td>0</td>\n",
       "      <td>0</td>\n",
       "      <td>0</td>\n",
       "      <td>2</td>\n",
       "    </tr>\n",
       "    <tr>\n",
       "      <th>37</th>\n",
       "      <td>33</td>\n",
       "      <td>406 Resto de ciertas afecciones originadas en ...</td>\n",
       "      <td>1</td>\n",
       "      <td>0</td>\n",
       "      <td>0</td>\n",
       "      <td>0</td>\n",
       "      <td>0</td>\n",
       "      <td>0</td>\n",
       "      <td>0</td>\n",
       "      <td>1</td>\n",
       "    </tr>\n",
       "    <tr>\n",
       "      <th>38</th>\n",
       "      <td>32</td>\n",
       "      <td>405 Sepsis bacteriana del recién nacido</td>\n",
       "      <td>1</td>\n",
       "      <td>0</td>\n",
       "      <td>0</td>\n",
       "      <td>0</td>\n",
       "      <td>0</td>\n",
       "      <td>0</td>\n",
       "      <td>0</td>\n",
       "      <td>1</td>\n",
       "    </tr>\n",
       "    <tr>\n",
       "      <th>39</th>\n",
       "      <td>29</td>\n",
       "      <td>402 Feto y recién nacido afectados por complic...</td>\n",
       "      <td>1</td>\n",
       "      <td>0</td>\n",
       "      <td>0</td>\n",
       "      <td>0</td>\n",
       "      <td>0</td>\n",
       "      <td>0</td>\n",
       "      <td>0</td>\n",
       "      <td>1</td>\n",
       "    </tr>\n",
       "    <tr>\n",
       "      <th>40</th>\n",
       "      <td>7</td>\n",
       "      <td>109 Resto de ciertas enfermedades infecciosas ...</td>\n",
       "      <td>0</td>\n",
       "      <td>0</td>\n",
       "      <td>0</td>\n",
       "      <td>0</td>\n",
       "      <td>1</td>\n",
       "      <td>0</td>\n",
       "      <td>0</td>\n",
       "      <td>1</td>\n",
       "    </tr>\n",
       "    <tr>\n",
       "      <th>41</th>\n",
       "      <td>3</td>\n",
       "      <td>105 Meningitis</td>\n",
       "      <td>0</td>\n",
       "      <td>0</td>\n",
       "      <td>0</td>\n",
       "      <td>0</td>\n",
       "      <td>1</td>\n",
       "      <td>0</td>\n",
       "      <td>0</td>\n",
       "      <td>1</td>\n",
       "    </tr>\n",
       "  </tbody>\n",
       "</table>\n",
       "</div>"
      ],
      "text/plain": [
       "    Unnamed: 0                                Causas de defunción  edad 0 a 4  \\\n",
       "0            0  201 Tumor maligno del estómago202 Tumor malign...           0   \n",
       "1           24            303 Enfermedades isquémicas del corazón           0   \n",
       "2           47  605 Enfermedades crónicas de las vías respirat...           0   \n",
       "3           27                 307 Enfermedades cerebrovasculares           1   \n",
       "4           54                      614 Resto de las enfermedades           1   \n",
       "5            6               108 Infecciones respiratorias agudas           1   \n",
       "6           52              610 Enfermedades del sistema urinario           0   \n",
       "7           51    609 Resto de enfermedades del sistema digestivo           1   \n",
       "8           25  304 Enfermedad cardiopulmonar, enfermedades de...           0   \n",
       "9           23                     302 Enfermedades hipertensivas           0   \n",
       "10          46  604 Enfermedades del sistema nervioso, excepto...           0   \n",
       "11          41                        512 Agresiones (homicidios)           0   \n",
       "12          43                              601 Diabetes mellitus           0   \n",
       "13          34             501 Accidentes de transporte terrestre           0   \n",
       "14          48  606 Resto de enfermedades del sistema respirat...           2   \n",
       "15          45       603 Trastornos mentales y del comportamiento           0   \n",
       "16          40  511 Lesiones autoinfligidas intencionalmente (...           0   \n",
       "17          26                         306 Insuficiencia cardíaca           0   \n",
       "18          50  608 Cirrosis y ciertas otras enfermedades crón...           0   \n",
       "19          19                                       212 Leucemia           0   \n",
       "20          39           510 Otros accidentes, inclusive secuelas           0   \n",
       "21          53  613 Malformaciones congénitas, deformidades y ...           8   \n",
       "22           2                                   102 Tuberculosis           1   \n",
       "23          49  607 Apendicitis, hernia de la cavidad abdomina...           1   \n",
       "24           1          101 Enfermedades infecciosas intestinales           0   \n",
       "25          28  309 Las demás enfermedades del sistema circula...           0   \n",
       "26           5                   107 Enfermedad por el VIH (SIDA)           0   \n",
       "27          44  602 Deficiencias nutricionales y anemias nutri...           0   \n",
       "28          35                                         503 Caídas           0   \n",
       "29          42            513 Eventos de intención no determinada           0   \n",
       "30          31  404 Trastornos respiratorios específicos del p...           6   \n",
       "31           0    000 Signos, síntomas y afecciones mal definidas           1   \n",
       "32          38            507 Exposición a la corriente eléctrica           0   \n",
       "33          36           505 Ahogamiento y sumersión accidentales           1   \n",
       "34           4                   106 Septicemia, excepto neonatal           1   \n",
       "35          37        506 Accidentes que obstruyen la respiración           0   \n",
       "36          30  403 Retardo del crecimiento fetal, desnutrició...           2   \n",
       "37          33  406 Resto de ciertas afecciones originadas en ...           1   \n",
       "38          32            405 Sepsis bacteriana del recién nacido           1   \n",
       "39          29  402 Feto y recién nacido afectados por complic...           1   \n",
       "40           7  109 Resto de ciertas enfermedades infecciosas ...           0   \n",
       "41           3                                     105 Meningitis           0   \n",
       "\n",
       "    edad 5 a 14  edad 15 a 44  edad 45 a 64  edad 65 a 84  edad 85 a 99  \\\n",
       "0             1            27            90           173            38   \n",
       "1             0             4            38           142            90   \n",
       "2             0             1            13            73            61   \n",
       "3             0             3            11            43            29   \n",
       "4             0             4            11            25            17   \n",
       "5             0             1             7            23            21   \n",
       "6             0             2             5            25            19   \n",
       "7             0             2            10            20            13   \n",
       "8             1             5             3            20            11   \n",
       "9             0             0             1            21            17   \n",
       "10            1             4             8            13            12   \n",
       "11            0            27             2             3             0   \n",
       "12            0             2             7            13             8   \n",
       "13            0            15             8             3             2   \n",
       "14            0             0             5             8             7   \n",
       "15            0             1             1             4             9   \n",
       "16            1            11             1             1             0   \n",
       "17            0             1             3             6             3   \n",
       "18            0             1             2             8             2   \n",
       "19            1             5             3             3             0   \n",
       "20            0             4             3             3             2   \n",
       "21            0             0             1             2             0   \n",
       "22            0             3             1             4             0   \n",
       "23            0             1             1             3             2   \n",
       "24            0             0             3             3             2   \n",
       "25            0             0             3             3             2   \n",
       "26            0             1             4             2             0   \n",
       "27            0             0             2             1             4   \n",
       "28            0             0             3             3             0   \n",
       "29            0             2             2             2             0   \n",
       "30            0             0             0             0             0   \n",
       "31            0             0             1             1             1   \n",
       "32            0             2             1             0             0   \n",
       "33            0             1             1             0             0   \n",
       "34            0             0             0             1             1   \n",
       "35            0             2             0             0             0   \n",
       "36            0             0             0             0             0   \n",
       "37            0             0             0             0             0   \n",
       "38            0             0             0             0             0   \n",
       "39            0             0             0             0             0   \n",
       "40            0             0             0             1             0   \n",
       "41            0             0             0             1             0   \n",
       "\n",
       "    edad 100 o más  Total  \n",
       "0                0    329  \n",
       "1                4    278  \n",
       "2                1    149  \n",
       "3                0     87  \n",
       "4                2     60  \n",
       "5                4     57  \n",
       "6                0     51  \n",
       "7                0     46  \n",
       "8                0     40  \n",
       "9                1     40  \n",
       "10               0     38  \n",
       "11               0     32  \n",
       "12               0     30  \n",
       "13               0     28  \n",
       "14               0     22  \n",
       "15               0     15  \n",
       "16               0     14  \n",
       "17               0     13  \n",
       "18               0     13  \n",
       "19               0     12  \n",
       "20               0     12  \n",
       "21               0     11  \n",
       "22               0      9  \n",
       "23               0      8  \n",
       "24               0      8  \n",
       "25               0      8  \n",
       "26               0      7  \n",
       "27               0      7  \n",
       "28               0      6  \n",
       "29               0      6  \n",
       "30               0      6  \n",
       "31               1      5  \n",
       "32               0      3  \n",
       "33               0      3  \n",
       "34               0      3  \n",
       "35               0      2  \n",
       "36               0      2  \n",
       "37               0      1  \n",
       "38               0      1  \n",
       "39               0      1  \n",
       "40               0      1  \n",
       "41               0      1  "
      ]
     },
     "execution_count": 131,
     "metadata": {},
     "output_type": "execute_result"
    }
   ],
   "source": [
    "defuncionesMunicipales=pd.read_csv('defuncionesDepartamento.csv')\n",
    "defuncionesMunicipales"
   ]
  },
  {
   "cell_type": "code",
   "execution_count": 132,
   "metadata": {
    "slideshow": {
     "slide_type": "skip"
    }
   },
   "outputs": [],
   "source": [
    "defuncionesMunicipales.drop(columns=['Unnamed: 0'], inplace=True)"
   ]
  },
  {
   "cell_type": "code",
   "execution_count": 133,
   "metadata": {
    "slideshow": {
     "slide_type": "skip"
    }
   },
   "outputs": [],
   "source": [
    "defuncionesMunicipales['edad 0 a 4']= ((defuncionesMunicipales.loc[:,'edad 0 a 4'])*dias/90).astype(int)\n",
    "defuncionesMunicipales['edad 5 a 14']= ((defuncionesMunicipales.loc[:,'edad 5 a 14'])*dias/90).astype(int)\n",
    "defuncionesMunicipales['edad 15 a 44']= ((defuncionesMunicipales.loc[:,'edad 15 a 44'])*dias/90).astype(int)\n",
    "defuncionesMunicipales['edad 45 a 64']= ((defuncionesMunicipales.loc[:,'edad 45 a 64'])*dias/90).astype(int)\n",
    "defuncionesMunicipales['edad 65 a 84']= ((defuncionesMunicipales.loc[:,'edad 65 a 84'])*dias/90).astype(int)\n",
    "defuncionesMunicipales['edad 85 a 99']= ((defuncionesMunicipales.loc[:,'edad 85 a 99'])*dias/90).astype(int)\n",
    "defuncionesMunicipales['edad 100 o más']= ((defuncionesMunicipales.loc[:,'edad 100 o más'])*dias/90).astype(int)\n",
    "defuncionesMunicipales['Total']= ((defuncionesMunicipales.loc[:,'Total'])*dias/90).astype(int)"
   ]
  },
  {
   "cell_type": "code",
   "execution_count": 134,
   "metadata": {
    "slideshow": {
     "slide_type": "subslide"
    }
   },
   "outputs": [
    {
     "data": {
      "text/html": [
       "<div>\n",
       "<style scoped>\n",
       "    .dataframe tbody tr th:only-of-type {\n",
       "        vertical-align: middle;\n",
       "    }\n",
       "\n",
       "    .dataframe tbody tr th {\n",
       "        vertical-align: top;\n",
       "    }\n",
       "\n",
       "    .dataframe thead th {\n",
       "        text-align: right;\n",
       "    }\n",
       "</style>\n",
       "<table border=\"1\" class=\"dataframe\">\n",
       "  <thead>\n",
       "    <tr style=\"text-align: right;\">\n",
       "      <th></th>\n",
       "      <th>Causas de defunción</th>\n",
       "      <th>edad 0 a 4</th>\n",
       "      <th>edad 5 a 14</th>\n",
       "      <th>edad 15 a 44</th>\n",
       "      <th>edad 45 a 64</th>\n",
       "      <th>edad 65 a 84</th>\n",
       "      <th>edad 85 a 99</th>\n",
       "      <th>edad 100 o más</th>\n",
       "      <th>Total</th>\n",
       "    </tr>\n",
       "  </thead>\n",
       "  <tbody>\n",
       "    <tr>\n",
       "      <th>0</th>\n",
       "      <td>201 Tumor maligno del estómago202 Tumor malign...</td>\n",
       "      <td>0</td>\n",
       "      <td>2</td>\n",
       "      <td>72</td>\n",
       "      <td>243</td>\n",
       "      <td>467</td>\n",
       "      <td>102</td>\n",
       "      <td>0</td>\n",
       "      <td>888</td>\n",
       "    </tr>\n",
       "    <tr>\n",
       "      <th>1</th>\n",
       "      <td>303 Enfermedades isquémicas del corazón</td>\n",
       "      <td>0</td>\n",
       "      <td>0</td>\n",
       "      <td>10</td>\n",
       "      <td>102</td>\n",
       "      <td>383</td>\n",
       "      <td>243</td>\n",
       "      <td>10</td>\n",
       "      <td>750</td>\n",
       "    </tr>\n",
       "    <tr>\n",
       "      <th>2</th>\n",
       "      <td>605 Enfermedades crónicas de las vías respirat...</td>\n",
       "      <td>0</td>\n",
       "      <td>0</td>\n",
       "      <td>2</td>\n",
       "      <td>35</td>\n",
       "      <td>197</td>\n",
       "      <td>164</td>\n",
       "      <td>2</td>\n",
       "      <td>402</td>\n",
       "    </tr>\n",
       "    <tr>\n",
       "      <th>3</th>\n",
       "      <td>307 Enfermedades cerebrovasculares</td>\n",
       "      <td>2</td>\n",
       "      <td>0</td>\n",
       "      <td>8</td>\n",
       "      <td>29</td>\n",
       "      <td>116</td>\n",
       "      <td>78</td>\n",
       "      <td>0</td>\n",
       "      <td>234</td>\n",
       "    </tr>\n",
       "    <tr>\n",
       "      <th>4</th>\n",
       "      <td>614 Resto de las enfermedades</td>\n",
       "      <td>2</td>\n",
       "      <td>0</td>\n",
       "      <td>10</td>\n",
       "      <td>29</td>\n",
       "      <td>67</td>\n",
       "      <td>45</td>\n",
       "      <td>5</td>\n",
       "      <td>162</td>\n",
       "    </tr>\n",
       "    <tr>\n",
       "      <th>5</th>\n",
       "      <td>108 Infecciones respiratorias agudas</td>\n",
       "      <td>2</td>\n",
       "      <td>0</td>\n",
       "      <td>2</td>\n",
       "      <td>18</td>\n",
       "      <td>62</td>\n",
       "      <td>56</td>\n",
       "      <td>10</td>\n",
       "      <td>153</td>\n",
       "    </tr>\n",
       "    <tr>\n",
       "      <th>6</th>\n",
       "      <td>610 Enfermedades del sistema urinario</td>\n",
       "      <td>0</td>\n",
       "      <td>0</td>\n",
       "      <td>5</td>\n",
       "      <td>13</td>\n",
       "      <td>67</td>\n",
       "      <td>51</td>\n",
       "      <td>0</td>\n",
       "      <td>137</td>\n",
       "    </tr>\n",
       "    <tr>\n",
       "      <th>7</th>\n",
       "      <td>609 Resto de enfermedades del sistema digestivo</td>\n",
       "      <td>2</td>\n",
       "      <td>0</td>\n",
       "      <td>5</td>\n",
       "      <td>27</td>\n",
       "      <td>54</td>\n",
       "      <td>35</td>\n",
       "      <td>0</td>\n",
       "      <td>124</td>\n",
       "    </tr>\n",
       "    <tr>\n",
       "      <th>8</th>\n",
       "      <td>304 Enfermedad cardiopulmonar, enfermedades de...</td>\n",
       "      <td>0</td>\n",
       "      <td>2</td>\n",
       "      <td>13</td>\n",
       "      <td>8</td>\n",
       "      <td>54</td>\n",
       "      <td>29</td>\n",
       "      <td>0</td>\n",
       "      <td>108</td>\n",
       "    </tr>\n",
       "    <tr>\n",
       "      <th>9</th>\n",
       "      <td>302 Enfermedades hipertensivas</td>\n",
       "      <td>0</td>\n",
       "      <td>0</td>\n",
       "      <td>0</td>\n",
       "      <td>2</td>\n",
       "      <td>56</td>\n",
       "      <td>45</td>\n",
       "      <td>2</td>\n",
       "      <td>108</td>\n",
       "    </tr>\n",
       "    <tr>\n",
       "      <th>10</th>\n",
       "      <td>604 Enfermedades del sistema nervioso, excepto...</td>\n",
       "      <td>0</td>\n",
       "      <td>2</td>\n",
       "      <td>10</td>\n",
       "      <td>21</td>\n",
       "      <td>35</td>\n",
       "      <td>32</td>\n",
       "      <td>0</td>\n",
       "      <td>102</td>\n",
       "    </tr>\n",
       "    <tr>\n",
       "      <th>11</th>\n",
       "      <td>512 Agresiones (homicidios)</td>\n",
       "      <td>0</td>\n",
       "      <td>0</td>\n",
       "      <td>72</td>\n",
       "      <td>5</td>\n",
       "      <td>8</td>\n",
       "      <td>0</td>\n",
       "      <td>0</td>\n",
       "      <td>86</td>\n",
       "    </tr>\n",
       "    <tr>\n",
       "      <th>12</th>\n",
       "      <td>601 Diabetes mellitus</td>\n",
       "      <td>0</td>\n",
       "      <td>0</td>\n",
       "      <td>5</td>\n",
       "      <td>18</td>\n",
       "      <td>35</td>\n",
       "      <td>21</td>\n",
       "      <td>0</td>\n",
       "      <td>81</td>\n",
       "    </tr>\n",
       "    <tr>\n",
       "      <th>13</th>\n",
       "      <td>501 Accidentes de transporte terrestre</td>\n",
       "      <td>0</td>\n",
       "      <td>0</td>\n",
       "      <td>40</td>\n",
       "      <td>21</td>\n",
       "      <td>8</td>\n",
       "      <td>5</td>\n",
       "      <td>0</td>\n",
       "      <td>75</td>\n",
       "    </tr>\n",
       "    <tr>\n",
       "      <th>14</th>\n",
       "      <td>606 Resto de enfermedades del sistema respirat...</td>\n",
       "      <td>5</td>\n",
       "      <td>0</td>\n",
       "      <td>0</td>\n",
       "      <td>13</td>\n",
       "      <td>21</td>\n",
       "      <td>18</td>\n",
       "      <td>0</td>\n",
       "      <td>59</td>\n",
       "    </tr>\n",
       "    <tr>\n",
       "      <th>15</th>\n",
       "      <td>603 Trastornos mentales y del comportamiento</td>\n",
       "      <td>0</td>\n",
       "      <td>0</td>\n",
       "      <td>2</td>\n",
       "      <td>2</td>\n",
       "      <td>10</td>\n",
       "      <td>24</td>\n",
       "      <td>0</td>\n",
       "      <td>40</td>\n",
       "    </tr>\n",
       "    <tr>\n",
       "      <th>16</th>\n",
       "      <td>511 Lesiones autoinfligidas intencionalmente (...</td>\n",
       "      <td>0</td>\n",
       "      <td>2</td>\n",
       "      <td>29</td>\n",
       "      <td>2</td>\n",
       "      <td>2</td>\n",
       "      <td>0</td>\n",
       "      <td>0</td>\n",
       "      <td>37</td>\n",
       "    </tr>\n",
       "    <tr>\n",
       "      <th>17</th>\n",
       "      <td>306 Insuficiencia cardíaca</td>\n",
       "      <td>0</td>\n",
       "      <td>0</td>\n",
       "      <td>2</td>\n",
       "      <td>8</td>\n",
       "      <td>16</td>\n",
       "      <td>8</td>\n",
       "      <td>0</td>\n",
       "      <td>35</td>\n",
       "    </tr>\n",
       "    <tr>\n",
       "      <th>18</th>\n",
       "      <td>608 Cirrosis y ciertas otras enfermedades crón...</td>\n",
       "      <td>0</td>\n",
       "      <td>0</td>\n",
       "      <td>2</td>\n",
       "      <td>5</td>\n",
       "      <td>21</td>\n",
       "      <td>5</td>\n",
       "      <td>0</td>\n",
       "      <td>35</td>\n",
       "    </tr>\n",
       "    <tr>\n",
       "      <th>19</th>\n",
       "      <td>212 Leucemia</td>\n",
       "      <td>0</td>\n",
       "      <td>2</td>\n",
       "      <td>13</td>\n",
       "      <td>8</td>\n",
       "      <td>8</td>\n",
       "      <td>0</td>\n",
       "      <td>0</td>\n",
       "      <td>32</td>\n",
       "    </tr>\n",
       "    <tr>\n",
       "      <th>20</th>\n",
       "      <td>510 Otros accidentes, inclusive secuelas</td>\n",
       "      <td>0</td>\n",
       "      <td>0</td>\n",
       "      <td>10</td>\n",
       "      <td>8</td>\n",
       "      <td>8</td>\n",
       "      <td>5</td>\n",
       "      <td>0</td>\n",
       "      <td>32</td>\n",
       "    </tr>\n",
       "    <tr>\n",
       "      <th>21</th>\n",
       "      <td>613 Malformaciones congénitas, deformidades y ...</td>\n",
       "      <td>21</td>\n",
       "      <td>0</td>\n",
       "      <td>0</td>\n",
       "      <td>2</td>\n",
       "      <td>5</td>\n",
       "      <td>0</td>\n",
       "      <td>0</td>\n",
       "      <td>29</td>\n",
       "    </tr>\n",
       "    <tr>\n",
       "      <th>22</th>\n",
       "      <td>102 Tuberculosis</td>\n",
       "      <td>2</td>\n",
       "      <td>0</td>\n",
       "      <td>8</td>\n",
       "      <td>2</td>\n",
       "      <td>10</td>\n",
       "      <td>0</td>\n",
       "      <td>0</td>\n",
       "      <td>24</td>\n",
       "    </tr>\n",
       "    <tr>\n",
       "      <th>23</th>\n",
       "      <td>607 Apendicitis, hernia de la cavidad abdomina...</td>\n",
       "      <td>2</td>\n",
       "      <td>0</td>\n",
       "      <td>2</td>\n",
       "      <td>2</td>\n",
       "      <td>8</td>\n",
       "      <td>5</td>\n",
       "      <td>0</td>\n",
       "      <td>21</td>\n",
       "    </tr>\n",
       "    <tr>\n",
       "      <th>24</th>\n",
       "      <td>101 Enfermedades infecciosas intestinales</td>\n",
       "      <td>0</td>\n",
       "      <td>0</td>\n",
       "      <td>0</td>\n",
       "      <td>8</td>\n",
       "      <td>8</td>\n",
       "      <td>5</td>\n",
       "      <td>0</td>\n",
       "      <td>21</td>\n",
       "    </tr>\n",
       "    <tr>\n",
       "      <th>25</th>\n",
       "      <td>309 Las demás enfermedades del sistema circula...</td>\n",
       "      <td>0</td>\n",
       "      <td>0</td>\n",
       "      <td>0</td>\n",
       "      <td>8</td>\n",
       "      <td>8</td>\n",
       "      <td>5</td>\n",
       "      <td>0</td>\n",
       "      <td>21</td>\n",
       "    </tr>\n",
       "    <tr>\n",
       "      <th>26</th>\n",
       "      <td>107 Enfermedad por el VIH (SIDA)</td>\n",
       "      <td>0</td>\n",
       "      <td>0</td>\n",
       "      <td>2</td>\n",
       "      <td>10</td>\n",
       "      <td>5</td>\n",
       "      <td>0</td>\n",
       "      <td>0</td>\n",
       "      <td>18</td>\n",
       "    </tr>\n",
       "    <tr>\n",
       "      <th>27</th>\n",
       "      <td>602 Deficiencias nutricionales y anemias nutri...</td>\n",
       "      <td>0</td>\n",
       "      <td>0</td>\n",
       "      <td>0</td>\n",
       "      <td>5</td>\n",
       "      <td>2</td>\n",
       "      <td>10</td>\n",
       "      <td>0</td>\n",
       "      <td>18</td>\n",
       "    </tr>\n",
       "    <tr>\n",
       "      <th>28</th>\n",
       "      <td>503 Caídas</td>\n",
       "      <td>0</td>\n",
       "      <td>0</td>\n",
       "      <td>0</td>\n",
       "      <td>8</td>\n",
       "      <td>8</td>\n",
       "      <td>0</td>\n",
       "      <td>0</td>\n",
       "      <td>16</td>\n",
       "    </tr>\n",
       "    <tr>\n",
       "      <th>29</th>\n",
       "      <td>513 Eventos de intención no determinada</td>\n",
       "      <td>0</td>\n",
       "      <td>0</td>\n",
       "      <td>5</td>\n",
       "      <td>5</td>\n",
       "      <td>5</td>\n",
       "      <td>0</td>\n",
       "      <td>0</td>\n",
       "      <td>16</td>\n",
       "    </tr>\n",
       "    <tr>\n",
       "      <th>30</th>\n",
       "      <td>404 Trastornos respiratorios específicos del p...</td>\n",
       "      <td>16</td>\n",
       "      <td>0</td>\n",
       "      <td>0</td>\n",
       "      <td>0</td>\n",
       "      <td>0</td>\n",
       "      <td>0</td>\n",
       "      <td>0</td>\n",
       "      <td>16</td>\n",
       "    </tr>\n",
       "    <tr>\n",
       "      <th>31</th>\n",
       "      <td>000 Signos, síntomas y afecciones mal definidas</td>\n",
       "      <td>2</td>\n",
       "      <td>0</td>\n",
       "      <td>0</td>\n",
       "      <td>2</td>\n",
       "      <td>2</td>\n",
       "      <td>2</td>\n",
       "      <td>2</td>\n",
       "      <td>13</td>\n",
       "    </tr>\n",
       "    <tr>\n",
       "      <th>32</th>\n",
       "      <td>507 Exposición a la corriente eléctrica</td>\n",
       "      <td>0</td>\n",
       "      <td>0</td>\n",
       "      <td>5</td>\n",
       "      <td>2</td>\n",
       "      <td>0</td>\n",
       "      <td>0</td>\n",
       "      <td>0</td>\n",
       "      <td>8</td>\n",
       "    </tr>\n",
       "    <tr>\n",
       "      <th>33</th>\n",
       "      <td>505 Ahogamiento y sumersión accidentales</td>\n",
       "      <td>2</td>\n",
       "      <td>0</td>\n",
       "      <td>2</td>\n",
       "      <td>2</td>\n",
       "      <td>0</td>\n",
       "      <td>0</td>\n",
       "      <td>0</td>\n",
       "      <td>8</td>\n",
       "    </tr>\n",
       "    <tr>\n",
       "      <th>34</th>\n",
       "      <td>106 Septicemia, excepto neonatal</td>\n",
       "      <td>2</td>\n",
       "      <td>0</td>\n",
       "      <td>0</td>\n",
       "      <td>0</td>\n",
       "      <td>2</td>\n",
       "      <td>2</td>\n",
       "      <td>0</td>\n",
       "      <td>8</td>\n",
       "    </tr>\n",
       "    <tr>\n",
       "      <th>35</th>\n",
       "      <td>506 Accidentes que obstruyen la respiración</td>\n",
       "      <td>0</td>\n",
       "      <td>0</td>\n",
       "      <td>5</td>\n",
       "      <td>0</td>\n",
       "      <td>0</td>\n",
       "      <td>0</td>\n",
       "      <td>0</td>\n",
       "      <td>5</td>\n",
       "    </tr>\n",
       "    <tr>\n",
       "      <th>36</th>\n",
       "      <td>403 Retardo del crecimiento fetal, desnutrició...</td>\n",
       "      <td>5</td>\n",
       "      <td>0</td>\n",
       "      <td>0</td>\n",
       "      <td>0</td>\n",
       "      <td>0</td>\n",
       "      <td>0</td>\n",
       "      <td>0</td>\n",
       "      <td>5</td>\n",
       "    </tr>\n",
       "    <tr>\n",
       "      <th>37</th>\n",
       "      <td>406 Resto de ciertas afecciones originadas en ...</td>\n",
       "      <td>2</td>\n",
       "      <td>0</td>\n",
       "      <td>0</td>\n",
       "      <td>0</td>\n",
       "      <td>0</td>\n",
       "      <td>0</td>\n",
       "      <td>0</td>\n",
       "      <td>2</td>\n",
       "    </tr>\n",
       "    <tr>\n",
       "      <th>38</th>\n",
       "      <td>405 Sepsis bacteriana del recién nacido</td>\n",
       "      <td>2</td>\n",
       "      <td>0</td>\n",
       "      <td>0</td>\n",
       "      <td>0</td>\n",
       "      <td>0</td>\n",
       "      <td>0</td>\n",
       "      <td>0</td>\n",
       "      <td>2</td>\n",
       "    </tr>\n",
       "    <tr>\n",
       "      <th>39</th>\n",
       "      <td>402 Feto y recién nacido afectados por complic...</td>\n",
       "      <td>2</td>\n",
       "      <td>0</td>\n",
       "      <td>0</td>\n",
       "      <td>0</td>\n",
       "      <td>0</td>\n",
       "      <td>0</td>\n",
       "      <td>0</td>\n",
       "      <td>2</td>\n",
       "    </tr>\n",
       "    <tr>\n",
       "      <th>40</th>\n",
       "      <td>109 Resto de ciertas enfermedades infecciosas ...</td>\n",
       "      <td>0</td>\n",
       "      <td>0</td>\n",
       "      <td>0</td>\n",
       "      <td>0</td>\n",
       "      <td>2</td>\n",
       "      <td>0</td>\n",
       "      <td>0</td>\n",
       "      <td>2</td>\n",
       "    </tr>\n",
       "    <tr>\n",
       "      <th>41</th>\n",
       "      <td>105 Meningitis</td>\n",
       "      <td>0</td>\n",
       "      <td>0</td>\n",
       "      <td>0</td>\n",
       "      <td>0</td>\n",
       "      <td>2</td>\n",
       "      <td>0</td>\n",
       "      <td>0</td>\n",
       "      <td>2</td>\n",
       "    </tr>\n",
       "  </tbody>\n",
       "</table>\n",
       "</div>"
      ],
      "text/plain": [
       "                                  Causas de defunción  edad 0 a 4  \\\n",
       "0   201 Tumor maligno del estómago202 Tumor malign...           0   \n",
       "1             303 Enfermedades isquémicas del corazón           0   \n",
       "2   605 Enfermedades crónicas de las vías respirat...           0   \n",
       "3                  307 Enfermedades cerebrovasculares           2   \n",
       "4                       614 Resto de las enfermedades           2   \n",
       "5                108 Infecciones respiratorias agudas           2   \n",
       "6               610 Enfermedades del sistema urinario           0   \n",
       "7     609 Resto de enfermedades del sistema digestivo           2   \n",
       "8   304 Enfermedad cardiopulmonar, enfermedades de...           0   \n",
       "9                      302 Enfermedades hipertensivas           0   \n",
       "10  604 Enfermedades del sistema nervioso, excepto...           0   \n",
       "11                        512 Agresiones (homicidios)           0   \n",
       "12                              601 Diabetes mellitus           0   \n",
       "13             501 Accidentes de transporte terrestre           0   \n",
       "14  606 Resto de enfermedades del sistema respirat...           5   \n",
       "15       603 Trastornos mentales y del comportamiento           0   \n",
       "16  511 Lesiones autoinfligidas intencionalmente (...           0   \n",
       "17                         306 Insuficiencia cardíaca           0   \n",
       "18  608 Cirrosis y ciertas otras enfermedades crón...           0   \n",
       "19                                       212 Leucemia           0   \n",
       "20           510 Otros accidentes, inclusive secuelas           0   \n",
       "21  613 Malformaciones congénitas, deformidades y ...          21   \n",
       "22                                   102 Tuberculosis           2   \n",
       "23  607 Apendicitis, hernia de la cavidad abdomina...           2   \n",
       "24          101 Enfermedades infecciosas intestinales           0   \n",
       "25  309 Las demás enfermedades del sistema circula...           0   \n",
       "26                   107 Enfermedad por el VIH (SIDA)           0   \n",
       "27  602 Deficiencias nutricionales y anemias nutri...           0   \n",
       "28                                         503 Caídas           0   \n",
       "29            513 Eventos de intención no determinada           0   \n",
       "30  404 Trastornos respiratorios específicos del p...          16   \n",
       "31    000 Signos, síntomas y afecciones mal definidas           2   \n",
       "32            507 Exposición a la corriente eléctrica           0   \n",
       "33           505 Ahogamiento y sumersión accidentales           2   \n",
       "34                   106 Septicemia, excepto neonatal           2   \n",
       "35        506 Accidentes que obstruyen la respiración           0   \n",
       "36  403 Retardo del crecimiento fetal, desnutrició...           5   \n",
       "37  406 Resto de ciertas afecciones originadas en ...           2   \n",
       "38            405 Sepsis bacteriana del recién nacido           2   \n",
       "39  402 Feto y recién nacido afectados por complic...           2   \n",
       "40  109 Resto de ciertas enfermedades infecciosas ...           0   \n",
       "41                                     105 Meningitis           0   \n",
       "\n",
       "    edad 5 a 14  edad 15 a 44  edad 45 a 64  edad 65 a 84  edad 85 a 99  \\\n",
       "0             2            72           243           467           102   \n",
       "1             0            10           102           383           243   \n",
       "2             0             2            35           197           164   \n",
       "3             0             8            29           116            78   \n",
       "4             0            10            29            67            45   \n",
       "5             0             2            18            62            56   \n",
       "6             0             5            13            67            51   \n",
       "7             0             5            27            54            35   \n",
       "8             2            13             8            54            29   \n",
       "9             0             0             2            56            45   \n",
       "10            2            10            21            35            32   \n",
       "11            0            72             5             8             0   \n",
       "12            0             5            18            35            21   \n",
       "13            0            40            21             8             5   \n",
       "14            0             0            13            21            18   \n",
       "15            0             2             2            10            24   \n",
       "16            2            29             2             2             0   \n",
       "17            0             2             8            16             8   \n",
       "18            0             2             5            21             5   \n",
       "19            2            13             8             8             0   \n",
       "20            0            10             8             8             5   \n",
       "21            0             0             2             5             0   \n",
       "22            0             8             2            10             0   \n",
       "23            0             2             2             8             5   \n",
       "24            0             0             8             8             5   \n",
       "25            0             0             8             8             5   \n",
       "26            0             2            10             5             0   \n",
       "27            0             0             5             2            10   \n",
       "28            0             0             8             8             0   \n",
       "29            0             5             5             5             0   \n",
       "30            0             0             0             0             0   \n",
       "31            0             0             2             2             2   \n",
       "32            0             5             2             0             0   \n",
       "33            0             2             2             0             0   \n",
       "34            0             0             0             2             2   \n",
       "35            0             5             0             0             0   \n",
       "36            0             0             0             0             0   \n",
       "37            0             0             0             0             0   \n",
       "38            0             0             0             0             0   \n",
       "39            0             0             0             0             0   \n",
       "40            0             0             0             2             0   \n",
       "41            0             0             0             2             0   \n",
       "\n",
       "    edad 100 o más  Total  \n",
       "0                0    888  \n",
       "1               10    750  \n",
       "2                2    402  \n",
       "3                0    234  \n",
       "4                5    162  \n",
       "5               10    153  \n",
       "6                0    137  \n",
       "7                0    124  \n",
       "8                0    108  \n",
       "9                2    108  \n",
       "10               0    102  \n",
       "11               0     86  \n",
       "12               0     81  \n",
       "13               0     75  \n",
       "14               0     59  \n",
       "15               0     40  \n",
       "16               0     37  \n",
       "17               0     35  \n",
       "18               0     35  \n",
       "19               0     32  \n",
       "20               0     32  \n",
       "21               0     29  \n",
       "22               0     24  \n",
       "23               0     21  \n",
       "24               0     21  \n",
       "25               0     21  \n",
       "26               0     18  \n",
       "27               0     18  \n",
       "28               0     16  \n",
       "29               0     16  \n",
       "30               0     16  \n",
       "31               2     13  \n",
       "32               0      8  \n",
       "33               0      8  \n",
       "34               0      8  \n",
       "35               0      5  \n",
       "36               0      5  \n",
       "37               0      2  \n",
       "38               0      2  \n",
       "39               0      2  \n",
       "40               0      2  \n",
       "41               0      2  "
      ]
     },
     "execution_count": 134,
     "metadata": {},
     "output_type": "execute_result"
    }
   ],
   "source": [
    "defuncionesMunicipales"
   ]
  },
  {
   "cell_type": "code",
   "execution_count": 135,
   "metadata": {
    "slideshow": {
     "slide_type": "skip"
    }
   },
   "outputs": [],
   "source": [
    "covidMunicipio=Totales['Número fallecidos']"
   ]
  },
  {
   "cell_type": "code",
   "execution_count": 136,
   "metadata": {
    "slideshow": {
     "slide_type": "skip"
    }
   },
   "outputs": [
    {
     "data": {
      "text/html": [
       "<div>\n",
       "<style scoped>\n",
       "    .dataframe tbody tr th:only-of-type {\n",
       "        vertical-align: middle;\n",
       "    }\n",
       "\n",
       "    .dataframe tbody tr th {\n",
       "        vertical-align: top;\n",
       "    }\n",
       "\n",
       "    .dataframe thead th {\n",
       "        text-align: right;\n",
       "    }\n",
       "</style>\n",
       "<table border=\"1\" class=\"dataframe\">\n",
       "  <thead>\n",
       "    <tr style=\"text-align: right;\">\n",
       "      <th></th>\n",
       "      <th>edad 0 a 4</th>\n",
       "      <th>edad 5 a 14</th>\n",
       "      <th>edad 15 a 44</th>\n",
       "      <th>edad 45 a 64</th>\n",
       "      <th>edad 65 a 84</th>\n",
       "      <th>edad 85 a 99</th>\n",
       "      <th>edad 100 o más</th>\n",
       "      <th>Totales</th>\n",
       "    </tr>\n",
       "  </thead>\n",
       "  <tbody>\n",
       "    <tr>\n",
       "      <th>RT-PCR_positivo (covid19???)</th>\n",
       "      <td>0</td>\n",
       "      <td>2</td>\n",
       "      <td>20</td>\n",
       "      <td>92</td>\n",
       "      <td>236</td>\n",
       "      <td>66</td>\n",
       "      <td>1</td>\n",
       "      <td>417</td>\n",
       "    </tr>\n",
       "  </tbody>\n",
       "</table>\n",
       "</div>"
      ],
      "text/plain": [
       "                              edad 0 a 4  edad 5 a 14  edad 15 a 44  \\\n",
       "RT-PCR_positivo (covid19???)           0            2            20   \n",
       "\n",
       "                              edad 45 a 64  edad 65 a 84  edad 85 a 99  \\\n",
       "RT-PCR_positivo (covid19???)            92           236            66   \n",
       "\n",
       "                              edad 100 o más  Totales  \n",
       "RT-PCR_positivo (covid19???)               1      417  "
      ]
     },
     "execution_count": 136,
     "metadata": {},
     "output_type": "execute_result"
    }
   ],
   "source": [
    "covidMunicipio= covidMunicipio.to_frame().rename(columns={'Número fallecidos':'RT-PCR_positivo (covid19???)'}).transpose()\n",
    "covidMunicipio"
   ]
  },
  {
   "cell_type": "code",
   "execution_count": 137,
   "metadata": {
    "slideshow": {
     "slide_type": "skip"
    }
   },
   "outputs": [
    {
     "data": {
      "text/html": [
       "<div>\n",
       "<style scoped>\n",
       "    .dataframe tbody tr th:only-of-type {\n",
       "        vertical-align: middle;\n",
       "    }\n",
       "\n",
       "    .dataframe tbody tr th {\n",
       "        vertical-align: top;\n",
       "    }\n",
       "\n",
       "    .dataframe thead th {\n",
       "        text-align: right;\n",
       "    }\n",
       "</style>\n",
       "<table border=\"1\" class=\"dataframe\">\n",
       "  <thead>\n",
       "    <tr style=\"text-align: right;\">\n",
       "      <th></th>\n",
       "      <th>index</th>\n",
       "      <th>edad 0 a 4</th>\n",
       "      <th>edad 5 a 14</th>\n",
       "      <th>edad 15 a 44</th>\n",
       "      <th>edad 45 a 64</th>\n",
       "      <th>edad 65 a 84</th>\n",
       "      <th>edad 85 a 99</th>\n",
       "      <th>edad 100 o más</th>\n",
       "      <th>Totales</th>\n",
       "    </tr>\n",
       "  </thead>\n",
       "  <tbody>\n",
       "    <tr>\n",
       "      <th>0</th>\n",
       "      <td>RT-PCR_positivo (covid19???)</td>\n",
       "      <td>0</td>\n",
       "      <td>2</td>\n",
       "      <td>20</td>\n",
       "      <td>92</td>\n",
       "      <td>236</td>\n",
       "      <td>66</td>\n",
       "      <td>1</td>\n",
       "      <td>417</td>\n",
       "    </tr>\n",
       "  </tbody>\n",
       "</table>\n",
       "</div>"
      ],
      "text/plain": [
       "                          index  edad 0 a 4  edad 5 a 14  edad 15 a 44  \\\n",
       "0  RT-PCR_positivo (covid19???)           0            2            20   \n",
       "\n",
       "   edad 45 a 64  edad 65 a 84  edad 85 a 99  edad 100 o más  Totales  \n",
       "0            92           236            66               1      417  "
      ]
     },
     "execution_count": 137,
     "metadata": {},
     "output_type": "execute_result"
    }
   ],
   "source": [
    "covidMunicipio=covidMunicipio.reset_index()\n",
    "covidMunicipio"
   ]
  },
  {
   "cell_type": "code",
   "execution_count": 138,
   "metadata": {
    "slideshow": {
     "slide_type": "skip"
    }
   },
   "outputs": [],
   "source": [
    "covidMunicipio.rename(columns={'index':'Causas de defunción', 'Totales':'Total'}, inplace=True)"
   ]
  },
  {
   "cell_type": "code",
   "execution_count": 139,
   "metadata": {
    "slideshow": {
     "slide_type": "subslide"
    }
   },
   "outputs": [
    {
     "data": {
      "text/html": [
       "<div>\n",
       "<style scoped>\n",
       "    .dataframe tbody tr th:only-of-type {\n",
       "        vertical-align: middle;\n",
       "    }\n",
       "\n",
       "    .dataframe tbody tr th {\n",
       "        vertical-align: top;\n",
       "    }\n",
       "\n",
       "    .dataframe thead th {\n",
       "        text-align: right;\n",
       "    }\n",
       "</style>\n",
       "<table border=\"1\" class=\"dataframe\">\n",
       "  <thead>\n",
       "    <tr style=\"text-align: right;\">\n",
       "      <th></th>\n",
       "      <th>Causas de defunción</th>\n",
       "      <th>edad 0 a 4</th>\n",
       "      <th>edad 5 a 14</th>\n",
       "      <th>edad 15 a 44</th>\n",
       "      <th>edad 45 a 64</th>\n",
       "      <th>edad 65 a 84</th>\n",
       "      <th>edad 85 a 99</th>\n",
       "      <th>edad 100 o más</th>\n",
       "      <th>Total</th>\n",
       "    </tr>\n",
       "  </thead>\n",
       "  <tbody>\n",
       "    <tr>\n",
       "      <th>0</th>\n",
       "      <td>RT-PCR_positivo (covid19???)</td>\n",
       "      <td>0</td>\n",
       "      <td>2</td>\n",
       "      <td>20</td>\n",
       "      <td>92</td>\n",
       "      <td>236</td>\n",
       "      <td>66</td>\n",
       "      <td>1</td>\n",
       "      <td>417</td>\n",
       "    </tr>\n",
       "  </tbody>\n",
       "</table>\n",
       "</div>"
      ],
      "text/plain": [
       "            Causas de defunción  edad 0 a 4  edad 5 a 14  edad 15 a 44  \\\n",
       "0  RT-PCR_positivo (covid19???)           0            2            20   \n",
       "\n",
       "   edad 45 a 64  edad 65 a 84  edad 85 a 99  edad 100 o más  Total  \n",
       "0            92           236            66               1    417  "
      ]
     },
     "execution_count": 139,
     "metadata": {},
     "output_type": "execute_result"
    }
   ],
   "source": [
    "covidMunicipio"
   ]
  },
  {
   "cell_type": "code",
   "execution_count": 140,
   "metadata": {
    "slideshow": {
     "slide_type": "skip"
    }
   },
   "outputs": [],
   "source": [
    "defuncionesMunicipales = defuncionesMunicipales.append(covidMunicipio, ignore_index=True).sort_values('Total', ascending=False).head(10)"
   ]
  },
  {
   "cell_type": "code",
   "execution_count": 141,
   "metadata": {
    "scrolled": false,
    "slideshow": {
     "slide_type": "slide"
    }
   },
   "outputs": [
    {
     "data": {
      "text/html": [
       "<div>\n",
       "<style scoped>\n",
       "    .dataframe tbody tr th:only-of-type {\n",
       "        vertical-align: middle;\n",
       "    }\n",
       "\n",
       "    .dataframe tbody tr th {\n",
       "        vertical-align: top;\n",
       "    }\n",
       "\n",
       "    .dataframe thead th {\n",
       "        text-align: right;\n",
       "    }\n",
       "</style>\n",
       "<table border=\"1\" class=\"dataframe\">\n",
       "  <thead>\n",
       "    <tr style=\"text-align: right;\">\n",
       "      <th></th>\n",
       "      <th>Causas de defunción</th>\n",
       "      <th>edad 0 a 4</th>\n",
       "      <th>edad 5 a 14</th>\n",
       "      <th>edad 15 a 44</th>\n",
       "      <th>edad 45 a 64</th>\n",
       "      <th>edad 65 a 84</th>\n",
       "      <th>edad 85 a 99</th>\n",
       "      <th>edad 100 o más</th>\n",
       "      <th>Total</th>\n",
       "    </tr>\n",
       "  </thead>\n",
       "  <tbody>\n",
       "    <tr>\n",
       "      <th>0</th>\n",
       "      <td>201 Tumor maligno del estómago202 Tumor malign...</td>\n",
       "      <td>0</td>\n",
       "      <td>2</td>\n",
       "      <td>72</td>\n",
       "      <td>243</td>\n",
       "      <td>467</td>\n",
       "      <td>102</td>\n",
       "      <td>0</td>\n",
       "      <td>888</td>\n",
       "    </tr>\n",
       "    <tr>\n",
       "      <th>1</th>\n",
       "      <td>303 Enfermedades isquémicas del corazón</td>\n",
       "      <td>0</td>\n",
       "      <td>0</td>\n",
       "      <td>10</td>\n",
       "      <td>102</td>\n",
       "      <td>383</td>\n",
       "      <td>243</td>\n",
       "      <td>10</td>\n",
       "      <td>750</td>\n",
       "    </tr>\n",
       "    <tr>\n",
       "      <th>42</th>\n",
       "      <td>RT-PCR_positivo (covid19???)</td>\n",
       "      <td>0</td>\n",
       "      <td>2</td>\n",
       "      <td>20</td>\n",
       "      <td>92</td>\n",
       "      <td>236</td>\n",
       "      <td>66</td>\n",
       "      <td>1</td>\n",
       "      <td>417</td>\n",
       "    </tr>\n",
       "    <tr>\n",
       "      <th>2</th>\n",
       "      <td>605 Enfermedades crónicas de las vías respirat...</td>\n",
       "      <td>0</td>\n",
       "      <td>0</td>\n",
       "      <td>2</td>\n",
       "      <td>35</td>\n",
       "      <td>197</td>\n",
       "      <td>164</td>\n",
       "      <td>2</td>\n",
       "      <td>402</td>\n",
       "    </tr>\n",
       "    <tr>\n",
       "      <th>3</th>\n",
       "      <td>307 Enfermedades cerebrovasculares</td>\n",
       "      <td>2</td>\n",
       "      <td>0</td>\n",
       "      <td>8</td>\n",
       "      <td>29</td>\n",
       "      <td>116</td>\n",
       "      <td>78</td>\n",
       "      <td>0</td>\n",
       "      <td>234</td>\n",
       "    </tr>\n",
       "    <tr>\n",
       "      <th>4</th>\n",
       "      <td>614 Resto de las enfermedades</td>\n",
       "      <td>2</td>\n",
       "      <td>0</td>\n",
       "      <td>10</td>\n",
       "      <td>29</td>\n",
       "      <td>67</td>\n",
       "      <td>45</td>\n",
       "      <td>5</td>\n",
       "      <td>162</td>\n",
       "    </tr>\n",
       "    <tr>\n",
       "      <th>5</th>\n",
       "      <td>108 Infecciones respiratorias agudas</td>\n",
       "      <td>2</td>\n",
       "      <td>0</td>\n",
       "      <td>2</td>\n",
       "      <td>18</td>\n",
       "      <td>62</td>\n",
       "      <td>56</td>\n",
       "      <td>10</td>\n",
       "      <td>153</td>\n",
       "    </tr>\n",
       "    <tr>\n",
       "      <th>6</th>\n",
       "      <td>610 Enfermedades del sistema urinario</td>\n",
       "      <td>0</td>\n",
       "      <td>0</td>\n",
       "      <td>5</td>\n",
       "      <td>13</td>\n",
       "      <td>67</td>\n",
       "      <td>51</td>\n",
       "      <td>0</td>\n",
       "      <td>137</td>\n",
       "    </tr>\n",
       "    <tr>\n",
       "      <th>7</th>\n",
       "      <td>609 Resto de enfermedades del sistema digestivo</td>\n",
       "      <td>2</td>\n",
       "      <td>0</td>\n",
       "      <td>5</td>\n",
       "      <td>27</td>\n",
       "      <td>54</td>\n",
       "      <td>35</td>\n",
       "      <td>0</td>\n",
       "      <td>124</td>\n",
       "    </tr>\n",
       "    <tr>\n",
       "      <th>8</th>\n",
       "      <td>304 Enfermedad cardiopulmonar, enfermedades de...</td>\n",
       "      <td>0</td>\n",
       "      <td>2</td>\n",
       "      <td>13</td>\n",
       "      <td>8</td>\n",
       "      <td>54</td>\n",
       "      <td>29</td>\n",
       "      <td>0</td>\n",
       "      <td>108</td>\n",
       "    </tr>\n",
       "  </tbody>\n",
       "</table>\n",
       "</div>"
      ],
      "text/plain": [
       "                                  Causas de defunción  edad 0 a 4  \\\n",
       "0   201 Tumor maligno del estómago202 Tumor malign...           0   \n",
       "1             303 Enfermedades isquémicas del corazón           0   \n",
       "42                       RT-PCR_positivo (covid19???)           0   \n",
       "2   605 Enfermedades crónicas de las vías respirat...           0   \n",
       "3                  307 Enfermedades cerebrovasculares           2   \n",
       "4                       614 Resto de las enfermedades           2   \n",
       "5                108 Infecciones respiratorias agudas           2   \n",
       "6               610 Enfermedades del sistema urinario           0   \n",
       "7     609 Resto de enfermedades del sistema digestivo           2   \n",
       "8   304 Enfermedad cardiopulmonar, enfermedades de...           0   \n",
       "\n",
       "    edad 5 a 14  edad 15 a 44  edad 45 a 64  edad 65 a 84  edad 85 a 99  \\\n",
       "0             2            72           243           467           102   \n",
       "1             0            10           102           383           243   \n",
       "42            2            20            92           236            66   \n",
       "2             0             2            35           197           164   \n",
       "3             0             8            29           116            78   \n",
       "4             0            10            29            67            45   \n",
       "5             0             2            18            62            56   \n",
       "6             0             5            13            67            51   \n",
       "7             0             5            27            54            35   \n",
       "8             2            13             8            54            29   \n",
       "\n",
       "    edad 100 o más  Total  \n",
       "0                0    888  \n",
       "1               10    750  \n",
       "42               1    417  \n",
       "2                2    402  \n",
       "3                0    234  \n",
       "4                5    162  \n",
       "5               10    153  \n",
       "6                0    137  \n",
       "7                0    124  \n",
       "8                0    108  "
      ]
     },
     "execution_count": 141,
     "metadata": {},
     "output_type": "execute_result"
    }
   ],
   "source": [
    "defuncionesMunicipales.head(10)"
   ]
  },
  {
   "cell_type": "code",
   "execution_count": null,
   "metadata": {},
   "outputs": [],
   "source": []
  }
 ],
 "metadata": {
  "celltoolbar": "Slideshow",
  "hide_input": false,
  "kernelspec": {
   "display_name": "Python 3",
   "language": "python",
   "name": "python3"
  },
  "language_info": {
   "codemirror_mode": {
    "name": "ipython",
    "version": 3
   },
   "file_extension": ".py",
   "mimetype": "text/x-python",
   "name": "python",
   "nbconvert_exporter": "python",
   "pygments_lexer": "ipython3",
   "version": "3.7.0"
  }
 },
 "nbformat": 4,
 "nbformat_minor": 4
}
